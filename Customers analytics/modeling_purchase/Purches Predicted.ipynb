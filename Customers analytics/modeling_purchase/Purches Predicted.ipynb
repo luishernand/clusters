{
 "cells": [
  {
   "cell_type": "markdown",
   "id": "158a4e13",
   "metadata": {},
   "source": [
    "# purchase-analytics-predictive-analysis"
   ]
  },
  {
   "cell_type": "markdown",
   "id": "c9d9c87a",
   "metadata": {},
   "source": [
    "## Libraries"
   ]
  },
  {
   "cell_type": "code",
   "execution_count": 104,
   "id": "2965d2de",
   "metadata": {},
   "outputs": [],
   "source": [
    "import pandas as pd\n",
    "import numpy as np\n",
    "import joblib\n",
    "from sklearn.preprocessing import StandardScaler\n",
    "from sklearn.decomposition import PCA\n",
    "from sklearn.cluster import KMeans\n",
    "from sklearn.linear_model import LogisticRegression, LinearRegression"
   ]
  },
  {
   "cell_type": "markdown",
   "id": "e85f64cf",
   "metadata": {},
   "source": [
    "## Data Preparation"
   ]
  },
  {
   "cell_type": "code",
   "execution_count": 2,
   "id": "a2ca0aa0",
   "metadata": {},
   "outputs": [],
   "source": [
    "#load data\n",
    "df = pd.read_csv('purchase data.csv')\n",
    "\n",
    "# import scaler\n",
    "scale = joblib.load('scaler')\n",
    "\n",
    "#import PCA\n",
    "pca = joblib.load('pca')\n",
    "\n",
    "# import cluster model\n",
    "model= joblib.load('model_pca')\n",
    "\n",
    "#stadarization\n",
    "features = df[['Sex', 'Marital status', 'Age', 'Education', 'Income', 'Occupation', 'Settlement size']]\n",
    "df_scale = scale.transform(features)\n",
    "\n",
    "#apply pca\n",
    "df_pca = pca.transform(df_scale)\n",
    "\n",
    "#apply the model predict\n",
    "\n",
    "y_pred = model.predict(df_pca)\n",
    "\n",
    "\n",
    "#create copy of df\n",
    "\n",
    "df_predictor = df.copy()\n",
    "df_predictor['segment'] = y_pred\n",
    "segment_dummies = pd.get_dummies(y_pred, prefix = 'Segment', prefix_sep = '_')\n",
    "df_predictor = pd.concat([df_predictor, segment_dummies], axis =1)\n",
    "\n",
    "data = df_predictor.copy()"
   ]
  },
  {
   "cell_type": "code",
   "execution_count": 3,
   "id": "5c1849f5",
   "metadata": {},
   "outputs": [
    {
     "data": {
      "text/html": [
       "<div>\n",
       "<style scoped>\n",
       "    .dataframe tbody tr th:only-of-type {\n",
       "        vertical-align: middle;\n",
       "    }\n",
       "\n",
       "    .dataframe tbody tr th {\n",
       "        vertical-align: top;\n",
       "    }\n",
       "\n",
       "    .dataframe thead th {\n",
       "        text-align: right;\n",
       "    }\n",
       "</style>\n",
       "<table border=\"1\" class=\"dataframe\">\n",
       "  <thead>\n",
       "    <tr style=\"text-align: right;\">\n",
       "      <th></th>\n",
       "      <th>ID</th>\n",
       "      <th>Day</th>\n",
       "      <th>Incidence</th>\n",
       "      <th>Brand</th>\n",
       "      <th>Quantity</th>\n",
       "      <th>Last_Inc_Brand</th>\n",
       "      <th>Last_Inc_Quantity</th>\n",
       "      <th>Price_1</th>\n",
       "      <th>Price_2</th>\n",
       "      <th>Price_3</th>\n",
       "      <th>...</th>\n",
       "      <th>Age</th>\n",
       "      <th>Education</th>\n",
       "      <th>Income</th>\n",
       "      <th>Occupation</th>\n",
       "      <th>Settlement size</th>\n",
       "      <th>segment</th>\n",
       "      <th>Segment_0</th>\n",
       "      <th>Segment_1</th>\n",
       "      <th>Segment_2</th>\n",
       "      <th>Segment_3</th>\n",
       "    </tr>\n",
       "  </thead>\n",
       "  <tbody>\n",
       "    <tr>\n",
       "      <th>0</th>\n",
       "      <td>200000001</td>\n",
       "      <td>1</td>\n",
       "      <td>0</td>\n",
       "      <td>0</td>\n",
       "      <td>0</td>\n",
       "      <td>0</td>\n",
       "      <td>0</td>\n",
       "      <td>1.59</td>\n",
       "      <td>1.87</td>\n",
       "      <td>2.01</td>\n",
       "      <td>...</td>\n",
       "      <td>47</td>\n",
       "      <td>1</td>\n",
       "      <td>110866</td>\n",
       "      <td>1</td>\n",
       "      <td>0</td>\n",
       "      <td>2</td>\n",
       "      <td>0</td>\n",
       "      <td>0</td>\n",
       "      <td>1</td>\n",
       "      <td>0</td>\n",
       "    </tr>\n",
       "    <tr>\n",
       "      <th>1</th>\n",
       "      <td>200000001</td>\n",
       "      <td>11</td>\n",
       "      <td>0</td>\n",
       "      <td>0</td>\n",
       "      <td>0</td>\n",
       "      <td>0</td>\n",
       "      <td>0</td>\n",
       "      <td>1.51</td>\n",
       "      <td>1.89</td>\n",
       "      <td>1.99</td>\n",
       "      <td>...</td>\n",
       "      <td>47</td>\n",
       "      <td>1</td>\n",
       "      <td>110866</td>\n",
       "      <td>1</td>\n",
       "      <td>0</td>\n",
       "      <td>2</td>\n",
       "      <td>0</td>\n",
       "      <td>0</td>\n",
       "      <td>1</td>\n",
       "      <td>0</td>\n",
       "    </tr>\n",
       "    <tr>\n",
       "      <th>2</th>\n",
       "      <td>200000001</td>\n",
       "      <td>12</td>\n",
       "      <td>0</td>\n",
       "      <td>0</td>\n",
       "      <td>0</td>\n",
       "      <td>0</td>\n",
       "      <td>0</td>\n",
       "      <td>1.51</td>\n",
       "      <td>1.89</td>\n",
       "      <td>1.99</td>\n",
       "      <td>...</td>\n",
       "      <td>47</td>\n",
       "      <td>1</td>\n",
       "      <td>110866</td>\n",
       "      <td>1</td>\n",
       "      <td>0</td>\n",
       "      <td>2</td>\n",
       "      <td>0</td>\n",
       "      <td>0</td>\n",
       "      <td>1</td>\n",
       "      <td>0</td>\n",
       "    </tr>\n",
       "    <tr>\n",
       "      <th>3</th>\n",
       "      <td>200000001</td>\n",
       "      <td>16</td>\n",
       "      <td>0</td>\n",
       "      <td>0</td>\n",
       "      <td>0</td>\n",
       "      <td>0</td>\n",
       "      <td>0</td>\n",
       "      <td>1.52</td>\n",
       "      <td>1.89</td>\n",
       "      <td>1.98</td>\n",
       "      <td>...</td>\n",
       "      <td>47</td>\n",
       "      <td>1</td>\n",
       "      <td>110866</td>\n",
       "      <td>1</td>\n",
       "      <td>0</td>\n",
       "      <td>2</td>\n",
       "      <td>0</td>\n",
       "      <td>0</td>\n",
       "      <td>1</td>\n",
       "      <td>0</td>\n",
       "    </tr>\n",
       "    <tr>\n",
       "      <th>4</th>\n",
       "      <td>200000001</td>\n",
       "      <td>18</td>\n",
       "      <td>0</td>\n",
       "      <td>0</td>\n",
       "      <td>0</td>\n",
       "      <td>0</td>\n",
       "      <td>0</td>\n",
       "      <td>1.52</td>\n",
       "      <td>1.89</td>\n",
       "      <td>1.99</td>\n",
       "      <td>...</td>\n",
       "      <td>47</td>\n",
       "      <td>1</td>\n",
       "      <td>110866</td>\n",
       "      <td>1</td>\n",
       "      <td>0</td>\n",
       "      <td>2</td>\n",
       "      <td>0</td>\n",
       "      <td>0</td>\n",
       "      <td>1</td>\n",
       "      <td>0</td>\n",
       "    </tr>\n",
       "  </tbody>\n",
       "</table>\n",
       "<p>5 rows × 29 columns</p>\n",
       "</div>"
      ],
      "text/plain": [
       "          ID  Day  Incidence  Brand  Quantity  Last_Inc_Brand  \\\n",
       "0  200000001    1          0      0         0               0   \n",
       "1  200000001   11          0      0         0               0   \n",
       "2  200000001   12          0      0         0               0   \n",
       "3  200000001   16          0      0         0               0   \n",
       "4  200000001   18          0      0         0               0   \n",
       "\n",
       "   Last_Inc_Quantity  Price_1  Price_2  Price_3  ...  Age  Education  Income  \\\n",
       "0                  0     1.59     1.87     2.01  ...   47          1  110866   \n",
       "1                  0     1.51     1.89     1.99  ...   47          1  110866   \n",
       "2                  0     1.51     1.89     1.99  ...   47          1  110866   \n",
       "3                  0     1.52     1.89     1.98  ...   47          1  110866   \n",
       "4                  0     1.52     1.89     1.99  ...   47          1  110866   \n",
       "\n",
       "   Occupation  Settlement size  segment  Segment_0  Segment_1  Segment_2  \\\n",
       "0           1                0        2          0          0          1   \n",
       "1           1                0        2          0          0          1   \n",
       "2           1                0        2          0          0          1   \n",
       "3           1                0        2          0          0          1   \n",
       "4           1                0        2          0          0          1   \n",
       "\n",
       "   Segment_3  \n",
       "0          0  \n",
       "1          0  \n",
       "2          0  \n",
       "3          0  \n",
       "4          0  \n",
       "\n",
       "[5 rows x 29 columns]"
      ]
     },
     "execution_count": 3,
     "metadata": {},
     "output_type": "execute_result"
    }
   ],
   "source": [
    "data.head()"
   ]
  },
  {
   "cell_type": "markdown",
   "id": "e8d397bf",
   "metadata": {},
   "source": [
    "### Purchase Probability Model"
   ]
  },
  {
   "cell_type": "code",
   "execution_count": 4,
   "id": "042b89ed",
   "metadata": {},
   "outputs": [],
   "source": [
    "y = data['Incidence']"
   ]
  },
  {
   "cell_type": "code",
   "execution_count": 5,
   "id": "3f1a3b31",
   "metadata": {},
   "outputs": [
    {
     "data": {
      "text/plain": [
       "0    44055\n",
       "1    14638\n",
       "Name: Incidence, dtype: int64"
      ]
     },
     "execution_count": 5,
     "metadata": {},
     "output_type": "execute_result"
    }
   ],
   "source": [
    "y.value_counts()"
   ]
  },
  {
   "cell_type": "code",
   "execution_count": 6,
   "id": "a6d6e153",
   "metadata": {},
   "outputs": [
    {
     "data": {
      "text/html": [
       "<div>\n",
       "<style scoped>\n",
       "    .dataframe tbody tr th:only-of-type {\n",
       "        vertical-align: middle;\n",
       "    }\n",
       "\n",
       "    .dataframe tbody tr th {\n",
       "        vertical-align: top;\n",
       "    }\n",
       "\n",
       "    .dataframe thead th {\n",
       "        text-align: right;\n",
       "    }\n",
       "</style>\n",
       "<table border=\"1\" class=\"dataframe\">\n",
       "  <thead>\n",
       "    <tr style=\"text-align: right;\">\n",
       "      <th></th>\n",
       "      <th>price_mean</th>\n",
       "    </tr>\n",
       "  </thead>\n",
       "  <tbody>\n",
       "    <tr>\n",
       "      <th>0</th>\n",
       "      <td>2.044</td>\n",
       "    </tr>\n",
       "    <tr>\n",
       "      <th>1</th>\n",
       "      <td>2.028</td>\n",
       "    </tr>\n",
       "    <tr>\n",
       "      <th>2</th>\n",
       "      <td>2.028</td>\n",
       "    </tr>\n",
       "    <tr>\n",
       "      <th>3</th>\n",
       "      <td>2.028</td>\n",
       "    </tr>\n",
       "    <tr>\n",
       "      <th>4</th>\n",
       "      <td>2.030</td>\n",
       "    </tr>\n",
       "  </tbody>\n",
       "</table>\n",
       "</div>"
      ],
      "text/plain": [
       "   price_mean\n",
       "0       2.044\n",
       "1       2.028\n",
       "2       2.028\n",
       "3       2.028\n",
       "4       2.030"
      ]
     },
     "execution_count": 6,
     "metadata": {},
     "output_type": "execute_result"
    }
   ],
   "source": [
    "X = pd.DataFrame()\n",
    "X['price_mean'] = (data['Price_1'] + data['Price_2'] +\n",
    "data['Price_3'] + data['Price_4'] + data['Price_5'] )/5\n",
    "X.head()"
   ]
  },
  {
   "cell_type": "markdown",
   "id": "754f70dd",
   "metadata": {},
   "source": [
    "#### Create a Classifier model"
   ]
  },
  {
   "cell_type": "code",
   "execution_count": 7,
   "id": "25b2b916",
   "metadata": {},
   "outputs": [],
   "source": [
    "from sklearn.linear_model import LogisticRegression"
   ]
  },
  {
   "cell_type": "code",
   "execution_count": 8,
   "id": "c21c7950",
   "metadata": {},
   "outputs": [
    {
     "data": {
      "text/plain": [
       "LogisticRegression()"
      ]
     },
     "execution_count": 8,
     "metadata": {},
     "output_type": "execute_result"
    }
   ],
   "source": [
    "lr = LogisticRegression()\n",
    "lr.fit(X,y)"
   ]
  },
  {
   "cell_type": "code",
   "execution_count": 9,
   "id": "58b2372c",
   "metadata": {},
   "outputs": [
    {
     "data": {
      "text/plain": [
       "array([[-2.3480548]])"
      ]
     },
     "execution_count": 9,
     "metadata": {},
     "output_type": "execute_result"
    }
   ],
   "source": [
    "lr.coef_"
   ]
  },
  {
   "cell_type": "markdown",
   "id": "128819c9",
   "metadata": {},
   "source": [
    "## Price Elasticity of Purchase Probability"
   ]
  },
  {
   "cell_type": "code",
   "execution_count": 10,
   "id": "90db98d4",
   "metadata": {},
   "outputs": [
    {
     "data": {
      "text/plain": [
       "Index(['ID', 'Day', 'Incidence', 'Brand', 'Quantity', 'Last_Inc_Brand',\n",
       "       'Last_Inc_Quantity', 'Price_1', 'Price_2', 'Price_3', 'Price_4',\n",
       "       'Price_5', 'Promotion_1', 'Promotion_2', 'Promotion_3', 'Promotion_4',\n",
       "       'Promotion_5', 'Sex', 'Marital status', 'Age', 'Education', 'Income',\n",
       "       'Occupation', 'Settlement size', 'segment', 'Segment_0', 'Segment_1',\n",
       "       'Segment_2', 'Segment_3'],\n",
       "      dtype='object')"
      ]
     },
     "execution_count": 10,
     "metadata": {},
     "output_type": "execute_result"
    }
   ],
   "source": [
    "data.columns"
   ]
  },
  {
   "cell_type": "code",
   "execution_count": 11,
   "id": "db2023b0",
   "metadata": {},
   "outputs": [
    {
     "data": {
      "text/html": [
       "<div>\n",
       "<style scoped>\n",
       "    .dataframe tbody tr th:only-of-type {\n",
       "        vertical-align: middle;\n",
       "    }\n",
       "\n",
       "    .dataframe tbody tr th {\n",
       "        vertical-align: top;\n",
       "    }\n",
       "\n",
       "    .dataframe thead th {\n",
       "        text-align: right;\n",
       "    }\n",
       "</style>\n",
       "<table border=\"1\" class=\"dataframe\">\n",
       "  <thead>\n",
       "    <tr style=\"text-align: right;\">\n",
       "      <th></th>\n",
       "      <th>count</th>\n",
       "      <th>mean</th>\n",
       "      <th>std</th>\n",
       "      <th>min</th>\n",
       "      <th>25%</th>\n",
       "      <th>50%</th>\n",
       "      <th>75%</th>\n",
       "      <th>max</th>\n",
       "    </tr>\n",
       "  </thead>\n",
       "  <tbody>\n",
       "    <tr>\n",
       "      <th>Price_1</th>\n",
       "      <td>58693.0</td>\n",
       "      <td>1.392074</td>\n",
       "      <td>0.091139</td>\n",
       "      <td>1.10</td>\n",
       "      <td>1.34</td>\n",
       "      <td>1.39</td>\n",
       "      <td>1.47</td>\n",
       "      <td>1.59</td>\n",
       "    </tr>\n",
       "    <tr>\n",
       "      <th>Price_2</th>\n",
       "      <td>58693.0</td>\n",
       "      <td>1.780999</td>\n",
       "      <td>0.170868</td>\n",
       "      <td>1.26</td>\n",
       "      <td>1.58</td>\n",
       "      <td>1.88</td>\n",
       "      <td>1.89</td>\n",
       "      <td>1.90</td>\n",
       "    </tr>\n",
       "    <tr>\n",
       "      <th>Price_3</th>\n",
       "      <td>58693.0</td>\n",
       "      <td>2.006789</td>\n",
       "      <td>0.046867</td>\n",
       "      <td>1.87</td>\n",
       "      <td>1.97</td>\n",
       "      <td>2.01</td>\n",
       "      <td>2.06</td>\n",
       "      <td>2.14</td>\n",
       "    </tr>\n",
       "    <tr>\n",
       "      <th>Price_4</th>\n",
       "      <td>58693.0</td>\n",
       "      <td>2.159945</td>\n",
       "      <td>0.089825</td>\n",
       "      <td>1.76</td>\n",
       "      <td>2.12</td>\n",
       "      <td>2.17</td>\n",
       "      <td>2.24</td>\n",
       "      <td>2.26</td>\n",
       "    </tr>\n",
       "    <tr>\n",
       "      <th>Price_5</th>\n",
       "      <td>58693.0</td>\n",
       "      <td>2.654798</td>\n",
       "      <td>0.098272</td>\n",
       "      <td>2.11</td>\n",
       "      <td>2.63</td>\n",
       "      <td>2.67</td>\n",
       "      <td>2.70</td>\n",
       "      <td>2.80</td>\n",
       "    </tr>\n",
       "  </tbody>\n",
       "</table>\n",
       "</div>"
      ],
      "text/plain": [
       "           count      mean       std   min   25%   50%   75%   max\n",
       "Price_1  58693.0  1.392074  0.091139  1.10  1.34  1.39  1.47  1.59\n",
       "Price_2  58693.0  1.780999  0.170868  1.26  1.58  1.88  1.89  1.90\n",
       "Price_3  58693.0  2.006789  0.046867  1.87  1.97  2.01  2.06  2.14\n",
       "Price_4  58693.0  2.159945  0.089825  1.76  2.12  2.17  2.24  2.26\n",
       "Price_5  58693.0  2.654798  0.098272  2.11  2.63  2.67  2.70  2.80"
      ]
     },
     "execution_count": 11,
     "metadata": {},
     "output_type": "execute_result"
    }
   ],
   "source": [
    "# Aquí vemos los precios de las cinco marcas diferentes, lo cual es un factor importante para determinar la probabilidad de compra.\n",
    "# Informa el rango de precios, para el cual exploraremos la probabilidad de compra.\n",
    "\n",
    "data[['Price_1', 'Price_2', 'Price_3', 'Price_4',\n",
    "       'Price_5']].describe().T"
   ]
  },
  {
   "cell_type": "code",
   "execution_count": 12,
   "id": "6a3326fe",
   "metadata": {},
   "outputs": [],
   "source": [
    "# Introducimos el rango de precios para el cual examinaremos la probabilidad de compra.\n",
    "# Elegimos un rango de precios entre 0,5 y 3,49, lo que amplía un poco el rango de precios real observado,\n",
    "# que es de 1.1 a 2.8\n",
    "\n",
    "price_range = np.arange(0.5, 3.49, 0.01)"
   ]
  },
  {
   "cell_type": "code",
   "execution_count": 13,
   "id": "c37d4cff",
   "metadata": {},
   "outputs": [
    {
     "name": "stdout",
     "output_type": "stream",
     "text": [
      "cantidad de datos: 299\n",
      "[0.5  0.51 0.52 0.53 0.54 0.55 0.56 0.57 0.58 0.59 0.6  0.61 0.62 0.63\n",
      " 0.64 0.65 0.66 0.67 0.68 0.69 0.7  0.71 0.72 0.73 0.74 0.75 0.76 0.77\n",
      " 0.78 0.79 0.8  0.81 0.82 0.83 0.84 0.85 0.86 0.87 0.88 0.89 0.9  0.91\n",
      " 0.92 0.93 0.94 0.95 0.96 0.97 0.98 0.99 1.   1.01 1.02 1.03 1.04 1.05\n",
      " 1.06 1.07 1.08 1.09 1.1  1.11 1.12 1.13 1.14 1.15 1.16 1.17 1.18 1.19\n",
      " 1.2  1.21 1.22 1.23 1.24 1.25 1.26 1.27 1.28 1.29 1.3  1.31 1.32 1.33\n",
      " 1.34 1.35 1.36 1.37 1.38 1.39 1.4  1.41 1.42 1.43 1.44 1.45 1.46 1.47\n",
      " 1.48 1.49 1.5  1.51 1.52 1.53 1.54 1.55 1.56 1.57 1.58 1.59 1.6  1.61\n",
      " 1.62 1.63 1.64 1.65 1.66 1.67 1.68 1.69 1.7  1.71 1.72 1.73 1.74 1.75\n",
      " 1.76 1.77 1.78 1.79 1.8  1.81 1.82 1.83 1.84 1.85 1.86 1.87 1.88 1.89\n",
      " 1.9  1.91 1.92 1.93 1.94 1.95 1.96 1.97 1.98 1.99 2.   2.01 2.02 2.03\n",
      " 2.04 2.05 2.06 2.07 2.08 2.09 2.1  2.11 2.12 2.13 2.14 2.15 2.16 2.17\n",
      " 2.18 2.19 2.2  2.21 2.22 2.23 2.24 2.25 2.26 2.27 2.28 2.29 2.3  2.31\n",
      " 2.32 2.33 2.34 2.35 2.36 2.37 2.38 2.39 2.4  2.41 2.42 2.43 2.44 2.45\n",
      " 2.46 2.47 2.48 2.49 2.5  2.51 2.52 2.53 2.54 2.55 2.56 2.57 2.58 2.59\n",
      " 2.6  2.61 2.62 2.63 2.64 2.65 2.66 2.67 2.68 2.69 2.7  2.71 2.72 2.73\n",
      " 2.74 2.75 2.76 2.77 2.78 2.79 2.8  2.81 2.82 2.83 2.84 2.85 2.86 2.87\n",
      " 2.88 2.89 2.9  2.91 2.92 2.93 2.94 2.95 2.96 2.97 2.98 2.99 3.   3.01\n",
      " 3.02 3.03 3.04 3.05 3.06 3.07 3.08 3.09 3.1  3.11 3.12 3.13 3.14 3.15\n",
      " 3.16 3.17 3.18 3.19 3.2  3.21 3.22 3.23 3.24 3.25 3.26 3.27 3.28 3.29\n",
      " 3.3  3.31 3.32 3.33 3.34 3.35 3.36 3.37 3.38 3.39 3.4  3.41 3.42 3.43\n",
      " 3.44 3.45 3.46 3.47 3.48]\n"
     ]
    }
   ],
   "source": [
    "print('cantidad de datos:', len(price_range))\n",
    "print(price_range)"
   ]
  },
  {
   "cell_type": "code",
   "execution_count": 14,
   "id": "9a887aae",
   "metadata": {},
   "outputs": [],
   "source": [
    "# convert to df\n",
    "df_price_range = pd.DataFrame(price_range)"
   ]
  },
  {
   "cell_type": "code",
   "execution_count": 15,
   "id": "ddbf86ba",
   "metadata": {},
   "outputs": [],
   "source": [
    " #Predecimos la probabilidad de compra para nuestro rango de precios recién definido.\n",
    "# El resultado es una matriz de 2x300. La primera columna muestra la probabilidad de no comprar el producto,\n",
    "# el segundo es la probabilidad de compra para cada punto de precio en nuestro rango de precios.\n",
    "\n",
    "y_pred = lr.predict_proba(df_price_range)"
   ]
  },
  {
   "cell_type": "code",
   "execution_count": 16,
   "id": "00335232",
   "metadata": {},
   "outputs": [
    {
     "data": {
      "text/plain": [
       "array([-0.09639583, -0.10046378, -0.10465871, -0.10898378, -0.11344218,\n",
       "       -0.11803717, -0.12277206, -0.1276502 , -0.13267501, -0.13784994,\n",
       "       -0.14317849, -0.14866423, -0.15431075, -0.1601217 , -0.16610077,\n",
       "       -0.1722517 , -0.17857828, -0.18508431, -0.19177366, -0.19865024,\n",
       "       -0.20571797, -0.21298082, -0.22044281, -0.22810796, -0.23598033,\n",
       "       -0.24406402, -0.25236314, -0.26088181, -0.26962419, -0.27859446,\n",
       "       -0.28779678, -0.29723535, -0.30691437, -0.31683803, -0.32701053,\n",
       "       -0.33743607, -0.34811884, -0.359063  , -0.37027271, -0.38175212,\n",
       "       -0.39350534, -0.40553645, -0.41784951, -0.43044852, -0.44333747,\n",
       "       -0.45652028, -0.4700008 , -0.48378287, -0.49787023, -0.51226657,\n",
       "       -0.52697549, -0.54200053, -0.55734513, -0.57301265, -0.58900636,\n",
       "       -0.60532941, -0.62198488, -0.63897569, -0.65630468, -0.67397456,\n",
       "       -0.6919879 , -0.71034714, -0.7290546 , -0.74811244, -0.76752265,\n",
       "       -0.78728711, -0.80740751, -0.82788538, -0.84872209, -0.86991882,\n",
       "       -0.89147659, -0.91339622, -0.93567835, -0.95832345, -0.98133175,\n",
       "       -1.00470333, -1.02843803, -1.05253552, -1.07699524, -1.10181643,\n",
       "       -1.12699812, -1.15253912, -1.17843803, -1.20469325, -1.23130295,\n",
       "       -1.25826507, -1.28557735, -1.31323733, -1.3412423 , -1.36958936,\n",
       "       -1.3982754 , -1.42729707, -1.45665084, -1.48633296, -1.51633949,\n",
       "       -1.54666626, -1.57730894, -1.60826297, -1.63952364, -1.67108602,\n",
       "       -1.70294502, -1.73509538, -1.76753165, -1.80024823, -1.83323937,\n",
       "       -1.86649915, -1.90002153, -1.93380031, -1.96782917, -2.00210168,\n",
       "       -2.03661126, -2.07135126, -2.1063149 , -2.14149532, -2.17688559,\n",
       "       -2.21247867, -2.24826748, -2.28424486, -2.32040362, -2.3567365 ,\n",
       "       -2.39323623, -2.42989549, -2.46670695, -2.50366327, -2.54075712,\n",
       "       -2.57798114, -2.615328  , -2.65279041, -2.69036108, -2.72803276,\n",
       "       -2.76579825, -2.8036504 , -2.84158209, -2.8795863 , -2.91765606,\n",
       "       -2.95578446, -2.99396471, -3.03219006, -3.07045388, -3.10874963,\n",
       "       -3.14707088, -3.18541129, -3.22376464, -3.26212482, -3.30048584,\n",
       "       -3.33884184, -3.37718708, -3.41551594, -3.45382293, -3.49210272,\n",
       "       -3.53035008, -3.56855994, -3.60672737, -3.64484756, -3.68291585,\n",
       "       -3.72092775, -3.75887887, -3.79676499, -3.83458204, -3.87232606,\n",
       "       -3.90999327, -3.94758002, -3.98508279, -4.02249823, -4.0598231 ,\n",
       "       -4.09705432, -4.13418896, -4.17122418, -4.20815734, -4.24498588,\n",
       "       -4.2817074 , -4.31831962, -4.35482041, -4.39120773, -4.42747969,\n",
       "       -4.46363452, -4.49967056, -4.53558628, -4.57138025, -4.60705116,\n",
       "       -4.64259781, -4.67801911, -4.71331406, -4.74848178, -4.78352148,\n",
       "       -4.81843246, -4.85321413, -4.88786597, -4.92238757, -4.95677859,\n",
       "       -4.99103878, -5.02516796, -5.05916603, -5.09303298, -5.12676885,\n",
       "       -5.16037376, -5.1938479 , -5.22719152, -5.26040493, -5.2934885 ,\n",
       "       -5.32644265, -5.35926786, -5.39196467, -5.42453366, -5.45697546,\n",
       "       -5.48929074, -5.52148021, -5.55354464, -5.58548481, -5.61730157,\n",
       "       -5.64899577, -5.68056831, -5.71202012, -5.74335217, -5.77456543,\n",
       "       -5.80566091, -5.83663965, -5.86750271, -5.89825115, -5.92888608,\n",
       "       -5.9594086 , -5.98981984, -6.02012094, -6.05031306, -6.08039736,\n",
       "       -6.11037503, -6.14024725, -6.17001521, -6.19968012, -6.22924317,\n",
       "       -6.2587056 , -6.28806861, -6.31733343, -6.34650127, -6.37557336,\n",
       "       -6.40455093, -6.43343519, -6.46222737, -6.4909287 , -6.51954039,\n",
       "       -6.54806365, -6.5764997 , -6.60484974, -6.63311498, -6.66129662,\n",
       "       -6.68939584, -6.71741382, -6.74535176, -6.77321081, -6.80099214,\n",
       "       -6.8286969 , -6.85632625, -6.88388131, -6.91136322, -6.93877309,\n",
       "       -6.96611204, -6.99338116, -7.02058154, -7.04771426, -7.0747804 ,\n",
       "       -7.101781  , -7.12871711, -7.15558978, -7.18240003, -7.20914886,\n",
       "       -7.23583729, -7.2624663 , -7.28903688, -7.31554998, -7.34200657,\n",
       "       -7.3684076 , -7.39475399, -7.42104666, -7.44728653, -7.4734745 ,\n",
       "       -7.49961144, -7.52569823, -7.55173575, -7.57772482, -7.60366631,\n",
       "       -7.62956102, -7.65540979, -7.68121341, -7.70697267, -7.73268837,\n",
       "       -7.75836126, -7.78399211, -7.80958166, -7.83513065, -7.86063981,\n",
       "       -7.88610985, -7.91154147, -7.93693537, -7.96229223, -7.98761272,\n",
       "       -8.01289749, -8.03814721, -8.06336251, -8.08854403])"
      ]
     },
     "execution_count": 16,
     "metadata": {},
     "output_type": "execute_result"
    }
   ],
   "source": [
    "purchase_proba = y_pred[:][:, 1]\n",
    "pe = lr.coef_[:, 0] * price_range * (1-purchase_proba)\n",
    "pe"
   ]
  },
  {
   "cell_type": "code",
   "execution_count": 17,
   "id": "87e9384b",
   "metadata": {},
   "outputs": [
    {
     "data": {
      "text/html": [
       "<div>\n",
       "<style scoped>\n",
       "    .dataframe tbody tr th:only-of-type {\n",
       "        vertical-align: middle;\n",
       "    }\n",
       "\n",
       "    .dataframe tbody tr th {\n",
       "        vertical-align: top;\n",
       "    }\n",
       "\n",
       "    .dataframe thead th {\n",
       "        text-align: right;\n",
       "    }\n",
       "</style>\n",
       "<table border=\"1\" class=\"dataframe\">\n",
       "  <thead>\n",
       "    <tr style=\"text-align: right;\">\n",
       "      <th></th>\n",
       "      <th>Price_Point</th>\n",
       "      <th>means</th>\n",
       "    </tr>\n",
       "  </thead>\n",
       "  <tbody>\n",
       "    <tr>\n",
       "      <th>0</th>\n",
       "      <td>0.50</td>\n",
       "      <td>-0.096396</td>\n",
       "    </tr>\n",
       "    <tr>\n",
       "      <th>1</th>\n",
       "      <td>0.51</td>\n",
       "      <td>-0.100464</td>\n",
       "    </tr>\n",
       "    <tr>\n",
       "      <th>2</th>\n",
       "      <td>0.52</td>\n",
       "      <td>-0.104659</td>\n",
       "    </tr>\n",
       "    <tr>\n",
       "      <th>3</th>\n",
       "      <td>0.53</td>\n",
       "      <td>-0.108984</td>\n",
       "    </tr>\n",
       "    <tr>\n",
       "      <th>4</th>\n",
       "      <td>0.54</td>\n",
       "      <td>-0.113442</td>\n",
       "    </tr>\n",
       "  </tbody>\n",
       "</table>\n",
       "</div>"
      ],
      "text/plain": [
       "   Price_Point     means\n",
       "0         0.50 -0.096396\n",
       "1         0.51 -0.100464\n",
       "2         0.52 -0.104659\n",
       "3         0.53 -0.108984\n",
       "4         0.54 -0.113442"
      ]
     },
     "execution_count": 17,
     "metadata": {},
     "output_type": "execute_result"
    }
   ],
   "source": [
    "# Create price elasticities master data frame.\n",
    "# It will contain all the elasticities we calculate during the purchase analytics part of the course\n",
    "\n",
    "df_price_elasticity = pd.DataFrame(price_range)\n",
    "df_price_elasticity.columns = ['Price_Point']\n",
    "df_price_elasticity['means'] = pe\n",
    "df_price_elasticity.head()"
   ]
  },
  {
   "cell_type": "code",
   "execution_count": null,
   "id": "b832c8e2",
   "metadata": {},
   "outputs": [],
   "source": []
  },
  {
   "cell_type": "markdown",
   "id": "62258829",
   "metadata": {},
   "source": [
    "#### Viz"
   ]
  },
  {
   "cell_type": "code",
   "execution_count": 18,
   "id": "135675b3",
   "metadata": {},
   "outputs": [
    {
     "data": {
      "text/html": [
       "        <script type=\"text/javascript\">\n",
       "        window.PlotlyConfig = {MathJaxConfig: 'local'};\n",
       "        if (window.MathJax) {MathJax.Hub.Config({SVG: {font: \"STIX-Web\"}});}\n",
       "        if (typeof require !== 'undefined') {\n",
       "        require.undef(\"plotly\");\n",
       "        requirejs.config({\n",
       "            paths: {\n",
       "                'plotly': ['https://cdn.plot.ly/plotly-2.4.1.min']\n",
       "            }\n",
       "        });\n",
       "        require(['plotly'], function(Plotly) {\n",
       "            window._Plotly = Plotly;\n",
       "        });\n",
       "        }\n",
       "        </script>\n",
       "        "
      ]
     },
     "metadata": {},
     "output_type": "display_data"
    }
   ],
   "source": [
    "import cufflinks as cf\n",
    "from IPython.display import display,HTML"
   ]
  },
  {
   "cell_type": "code",
   "execution_count": 19,
   "id": "35b0697a",
   "metadata": {},
   "outputs": [
    {
     "data": {
      "text/plain": [
       "['ggplot', 'pearl', 'solar', 'space', 'white', 'polar', 'henanigans']"
      ]
     },
     "execution_count": 19,
     "metadata": {},
     "output_type": "execute_result"
    }
   ],
   "source": [
    "cf.getThemes()"
   ]
  },
  {
   "cell_type": "code",
   "execution_count": 20,
   "id": "77d73d8f",
   "metadata": {},
   "outputs": [
    {
     "data": {
      "text/html": [
       "        <script type=\"text/javascript\">\n",
       "        window.PlotlyConfig = {MathJaxConfig: 'local'};\n",
       "        if (window.MathJax) {MathJax.Hub.Config({SVG: {font: \"STIX-Web\"}});}\n",
       "        if (typeof require !== 'undefined') {\n",
       "        require.undef(\"plotly\");\n",
       "        requirejs.config({\n",
       "            paths: {\n",
       "                'plotly': ['https://cdn.plot.ly/plotly-2.4.1.min']\n",
       "            }\n",
       "        });\n",
       "        require(['plotly'], function(Plotly) {\n",
       "            window._Plotly = Plotly;\n",
       "        });\n",
       "        }\n",
       "        </script>\n",
       "        "
      ]
     },
     "metadata": {},
     "output_type": "display_data"
    }
   ],
   "source": [
    "cf.set_config_file(sharing='public',theme='ggplot',offline=True) # write cf.getThemes() to find all themes available"
   ]
  },
  {
   "cell_type": "code",
   "execution_count": 21,
   "id": "e6b841c0",
   "metadata": {},
   "outputs": [
    {
     "data": {
      "application/vnd.plotly.v1+json": {
       "config": {
        "linkText": "Export to plot.ly",
        "plotlyServerURL": "https://plot.ly",
        "showLink": true
       },
       "data": [
        {
         "line": {
          "color": "rgba(226, 74, 51, 1.0)",
          "dash": "solid",
          "shape": "linear",
          "width": 1.3
         },
         "mode": "lines",
         "name": "means",
         "text": "",
         "type": "scatter",
         "x": [
          0,
          1,
          2,
          3,
          4,
          5,
          6,
          7,
          8,
          9,
          10,
          11,
          12,
          13,
          14,
          15,
          16,
          17,
          18,
          19,
          20,
          21,
          22,
          23,
          24,
          25,
          26,
          27,
          28,
          29,
          30,
          31,
          32,
          33,
          34,
          35,
          36,
          37,
          38,
          39,
          40,
          41,
          42,
          43,
          44,
          45,
          46,
          47,
          48,
          49,
          50,
          51,
          52,
          53,
          54,
          55,
          56,
          57,
          58,
          59,
          60,
          61,
          62,
          63,
          64,
          65,
          66,
          67,
          68,
          69,
          70,
          71,
          72,
          73,
          74,
          75,
          76,
          77,
          78,
          79,
          80,
          81,
          82,
          83,
          84,
          85,
          86,
          87,
          88,
          89,
          90,
          91,
          92,
          93,
          94,
          95,
          96,
          97,
          98,
          99,
          100,
          101,
          102,
          103,
          104,
          105,
          106,
          107,
          108,
          109,
          110,
          111,
          112,
          113,
          114,
          115,
          116,
          117,
          118,
          119,
          120,
          121,
          122,
          123,
          124,
          125,
          126,
          127,
          128,
          129,
          130,
          131,
          132,
          133,
          134,
          135,
          136,
          137,
          138,
          139,
          140,
          141,
          142,
          143,
          144,
          145,
          146,
          147,
          148,
          149,
          150,
          151,
          152,
          153,
          154,
          155,
          156,
          157,
          158,
          159,
          160,
          161,
          162,
          163,
          164,
          165,
          166,
          167,
          168,
          169,
          170,
          171,
          172,
          173,
          174,
          175,
          176,
          177,
          178,
          179,
          180,
          181,
          182,
          183,
          184,
          185,
          186,
          187,
          188,
          189,
          190,
          191,
          192,
          193,
          194,
          195,
          196,
          197,
          198,
          199,
          200,
          201,
          202,
          203,
          204,
          205,
          206,
          207,
          208,
          209,
          210,
          211,
          212,
          213,
          214,
          215,
          216,
          217,
          218,
          219,
          220,
          221,
          222,
          223,
          224,
          225,
          226,
          227,
          228,
          229,
          230,
          231,
          232,
          233,
          234,
          235,
          236,
          237,
          238,
          239,
          240,
          241,
          242,
          243,
          244,
          245,
          246,
          247,
          248,
          249,
          250,
          251,
          252,
          253,
          254,
          255,
          256,
          257,
          258,
          259,
          260,
          261,
          262,
          263,
          264,
          265,
          266,
          267,
          268,
          269,
          270,
          271,
          272,
          273,
          274,
          275,
          276,
          277,
          278,
          279,
          280,
          281,
          282,
          283,
          284,
          285,
          286,
          287,
          288,
          289,
          290,
          291,
          292,
          293,
          294,
          295,
          296,
          297,
          298
         ],
         "y": [
          -0.09639582835550818,
          -0.1004637808378074,
          -0.10465871295685428,
          -0.10898377680221519,
          -0.11344217636988857,
          -0.11803716724584516,
          -0.12277205621830221,
          -0.12765020081564188,
          -0.1326750087668632,
          -0.13784993738143306,
          -0.14317849284538883,
          -0.1486642294305424,
          -0.1543107486136332,
          -0.16012169810230112,
          -0.16610077076475585,
          -0.1722517034600683,
          -0.17857827576603527,
          -0.18508430860163935,
          -0.1917736627411797,
          -0.19865023721723274,
          -0.2057179676096963,
          -0.21298082421827,
          -0.22044281011585537,
          -0.22810795908048173,
          -0.2359803334035274,
          -0.24406402157216261,
          -0.2523631358241361,
          -0.260881809573209,
          -0.2696241947037813,
          -0.2785944587334742,
          -0.28779678184268853,
          -0.29723535377044064,
          -0.3069143705760559,
          -0.3168380312666112,
          -0.3270105342903539,
          -0.3374360738966548,
          -0.3481188363634276,
          -0.35906299609332337,
          -0.37027271158040503,
          -0.38175212124943075,
          -0.3935053391702859,
          -0.40553645065057636,
          -0.4178495077098337,
          -0.43044852443926523,
          -0.44333747225147,
          -0.45652027502503306,
          -0.4700008041494144,
          -0.4837828734760723,
          -0.4978702341822635,
          -0.5122665695545021,
          -0.5269754896991677,
          -0.5420005261882914,
          -0.5573451266490582,
          -0.5730126493060863,
          -0.5890063574860548,
          -0.6053294140947395,
          -0.6219848760770132,
          -0.6389756888708261,
          -0.6563046808666336,
          -0.6739745578841806,
          -0.691987897678924,
          -0.7103471444907874,
          -0.7290546036482526,
          -0.7481124362411287,
          -0.7675226538755934,
          -0.7872871135253473,
          -0.8074075124929082,
          -0.8278853834952064,
          -0.8487220898877725,
          -0.8699188210418003,
          -0.8914765878884272,
          -0.9133962186444572,
          -0.935678354733667,
          -0.9583234469176521,
          -0.9813317516499339,
          -1.0047033276667483,
          -1.0284380328276022,
          -1.0525355212182401,
          -1.0769952405282028,
          -1.1018164297146216,
          -1.1269981169632861,
          -1.1525391179573687,
          -1.1784380344634806,
          -1.2046932532439603,
          -1.2313029453034738,
          -1.2582650654771372,
          -1.2855773523664475,
          -1.3132373286283523,
          -1.3412423016217858,
          -1.3695893644149557,
          -1.398275397155605,
          -1.427297068805371,
          -1.4566508392382513,
          -1.486332961702065,
          -1.5163394856406287,
          -1.546666259873249,
          -1.577308936126969,
          -1.6082629729158702,
          -1.639523639760603,
          -1.671086021740211,
          -1.7029450243672268,
          -1.7350953787759564,
          -1.767531647212856,
          -1.8002482288169137,
          -1.8332393656770147,
          -1.8664991491523926,
          -1.900021526441418,
          -1.9338003073832226,
          -1.9678291714759364,
          -2.002101675094665,
          -2.036611258891794,
          -2.0713512553616478,
          -2.1063148965511616,
          -2.14149532189783,
          -2.1768855861759557,
          -2.212478667531971,
          -2.2482674755895693,
          -2.2842448596052503,
          -2.320403616654988,
          -2.356736499832812,
          -2.3932362264422826,
          -2.4298954861620965,
          -2.466706949167414,
          -2.503663274188856,
          -2.5407571164916156,
          -2.577981135757624,
          -2.6153280038543185,
          -2.6527904124741566,
          -2.6903610806297356,
          -2.7280327619900855,
          -2.765798252044451,
          -2.8036503950807288,
          -2.8415820909665004,
          -2.8795863017214867,
          -2.917656057871136,
          -2.9557844645719173,
          -2.9939647074998335,
          -3.0321900584945474,
          -3.070453880952454,
          -3.1087496349629196,
          -3.1470708821828373,
          -3.1854112904455163,
          -3.223764638100834,
          -3.262124818084419,
          -3.3004858417144773,
          -3.338841842215713,
          -3.3771870779705555,
          -3.415515935498695,
          -3.453822932166644,
          -3.4921027186297313,
          -3.5303500810096278,
          -3.568559942811091,
          -3.606727366582221,
          -3.6448475553230835,
          -3.6829158536480198,
          -3.720927748707489,
          -3.7588788708756637,
          -3.796764994210446,
          -3.8345820366928507,
          -3.8723260602530583,
          -3.909993270590741,
          -3.9475800167974047,
          -3.985082790788778,
          -4.022498226555382,
          -4.059823099239572,
          -4.097054324047443,
          -4.134188955003972,
          -4.1712241835599295,
          -4.208157337058974,
          -4.244985877073402,
          -4.2817073976168984,
          -4.31831962324262,
          -4.35482040703483,
          -4.391207728502143,
          -4.427479691380356,
          -4.463634521352632,
          -4.499670563694687,
          -4.535586280852407,
          -4.571380249959097,
          -4.607051160299449,
          -4.642597810726971,
          -4.678019107041514,
          -4.713314059333182,
          -4.74848177929876,
          -4.783521477536523,
          -4.818432460825005,
          -4.853214129391119,
          -4.887865974172691,
          -4.9223875740803065,
          -4.956778593263062,
          -4.991038778382541,
          -5.025167955899178,
          -5.059166029374827,
          -5.093032976795197,
          -5.126768847915505,
          -5.160373761632531,
          -5.193847903386011,
          -5.227191522592048,
          -5.26040493011109,
          -5.293488495752701,
          -5.326442645819284,
          -5.3592678606906174,
          -5.391964672450894,
          -5.424533662559849,
          -5.456975459569278,
          -5.489290736886183,
          -5.521480210583545,
          -5.553544637259613,
          -5.5854848119464835,
          -5.617301566068518,
          -5.648995765451124,
          -5.680568308380208,
          -5.712020123712566,
          -5.74335216903734,
          -5.774565428888538,
          -5.8056609130085635,
          -5.83663965466262,
          -5.867502709003694,
          -5.89825115148785,
          -5.928886076339395,
          -5.959408595065503,
          -5.98981983501975,
          -6.020120938013975,
          -6.05031305897788,
          -6.080397364665652,
          -6.110375032408927,
          -6.140247248915329,
          -6.170015209111778,
          -6.199680115031803,
          -6.229243174745968,
          -6.258705601334574,
          -6.288068611901736,
          -6.317333426629966,
          -6.346501267874306,
          -6.37557335929513,
          -6.40455092502865,
          -6.433435188894205,
          -6.462227373637408,
          -6.490928700208165,
          -6.519540387072667,
          -6.548063649558412,
          -6.57649969923129,
          -6.604849743303841,
          -6.633114984073746,
          -6.661296618391635,
          -6.6893958371573286,
          -6.717413824843582,
          -6.745351759046506,
          -6.773210810061731,
          -6.800992140485523,
          -6.828696904839962,
          -6.856326249221377,
          -6.883881310971226,
          -6.911363218368618,
          -6.938773090343712,
          -6.966112036211197,
          -6.993381155423146,
          -7.0205815373404965,
          -7.0477142610224215,
          -7.074780395032944,
          -7.10178099726406,
          -7.128717114774768,
          -7.155589783645308,
          -7.182400028845998,
          -7.209148864120091,
          -7.23583729188001,
          -7.262466303116419,
          -7.28903687731955,
          -7.315549982412254,
          -7.342006574694261,
          -7.368407598797105,
          -7.394753987649249,
          -7.421046662450926,
          -7.447286532658221,
          -7.473474495975958,
          -7.499611438358944,
          -7.525698234021178,
          -7.551735745452588,
          -7.577724823442933,
          -7.603666307112461,
          -7.6295610239490035,
          -7.65540978985112,
          -7.681213409176967,
          -7.706972674798558,
          -7.732688368161129,
          -7.7583612593472715,
          -7.783992107145571,
          -7.8095816591234435,
          -7.835130651703941,
          -7.86063981024624,
          -7.886109849129564,
          -7.911541471840332,
          -7.936935371062264,
          -7.96229222876926,
          -7.98761271632084,
          -8.01289749455991,
          -8.038147213912719,
          -8.063362514490766,
          -8.088544026194528
         ]
        }
       ],
       "layout": {
        "legend": {
         "bgcolor": "#FFFFFF",
         "font": {
          "color": "#666666"
         }
        },
        "paper_bgcolor": "#FFFFFF",
        "plot_bgcolor": "#E5E5E5",
        "template": {
         "data": {
          "bar": [
           {
            "error_x": {
             "color": "#2a3f5f"
            },
            "error_y": {
             "color": "#2a3f5f"
            },
            "marker": {
             "line": {
              "color": "#E5ECF6",
              "width": 0.5
             },
             "pattern": {
              "fillmode": "overlay",
              "size": 10,
              "solidity": 0.2
             }
            },
            "type": "bar"
           }
          ],
          "barpolar": [
           {
            "marker": {
             "line": {
              "color": "#E5ECF6",
              "width": 0.5
             },
             "pattern": {
              "fillmode": "overlay",
              "size": 10,
              "solidity": 0.2
             }
            },
            "type": "barpolar"
           }
          ],
          "carpet": [
           {
            "aaxis": {
             "endlinecolor": "#2a3f5f",
             "gridcolor": "white",
             "linecolor": "white",
             "minorgridcolor": "white",
             "startlinecolor": "#2a3f5f"
            },
            "baxis": {
             "endlinecolor": "#2a3f5f",
             "gridcolor": "white",
             "linecolor": "white",
             "minorgridcolor": "white",
             "startlinecolor": "#2a3f5f"
            },
            "type": "carpet"
           }
          ],
          "choropleth": [
           {
            "colorbar": {
             "outlinewidth": 0,
             "ticks": ""
            },
            "type": "choropleth"
           }
          ],
          "contour": [
           {
            "colorbar": {
             "outlinewidth": 0,
             "ticks": ""
            },
            "colorscale": [
             [
              0,
              "#0d0887"
             ],
             [
              0.1111111111111111,
              "#46039f"
             ],
             [
              0.2222222222222222,
              "#7201a8"
             ],
             [
              0.3333333333333333,
              "#9c179e"
             ],
             [
              0.4444444444444444,
              "#bd3786"
             ],
             [
              0.5555555555555556,
              "#d8576b"
             ],
             [
              0.6666666666666666,
              "#ed7953"
             ],
             [
              0.7777777777777778,
              "#fb9f3a"
             ],
             [
              0.8888888888888888,
              "#fdca26"
             ],
             [
              1,
              "#f0f921"
             ]
            ],
            "type": "contour"
           }
          ],
          "contourcarpet": [
           {
            "colorbar": {
             "outlinewidth": 0,
             "ticks": ""
            },
            "type": "contourcarpet"
           }
          ],
          "heatmap": [
           {
            "colorbar": {
             "outlinewidth": 0,
             "ticks": ""
            },
            "colorscale": [
             [
              0,
              "#0d0887"
             ],
             [
              0.1111111111111111,
              "#46039f"
             ],
             [
              0.2222222222222222,
              "#7201a8"
             ],
             [
              0.3333333333333333,
              "#9c179e"
             ],
             [
              0.4444444444444444,
              "#bd3786"
             ],
             [
              0.5555555555555556,
              "#d8576b"
             ],
             [
              0.6666666666666666,
              "#ed7953"
             ],
             [
              0.7777777777777778,
              "#fb9f3a"
             ],
             [
              0.8888888888888888,
              "#fdca26"
             ],
             [
              1,
              "#f0f921"
             ]
            ],
            "type": "heatmap"
           }
          ],
          "heatmapgl": [
           {
            "colorbar": {
             "outlinewidth": 0,
             "ticks": ""
            },
            "colorscale": [
             [
              0,
              "#0d0887"
             ],
             [
              0.1111111111111111,
              "#46039f"
             ],
             [
              0.2222222222222222,
              "#7201a8"
             ],
             [
              0.3333333333333333,
              "#9c179e"
             ],
             [
              0.4444444444444444,
              "#bd3786"
             ],
             [
              0.5555555555555556,
              "#d8576b"
             ],
             [
              0.6666666666666666,
              "#ed7953"
             ],
             [
              0.7777777777777778,
              "#fb9f3a"
             ],
             [
              0.8888888888888888,
              "#fdca26"
             ],
             [
              1,
              "#f0f921"
             ]
            ],
            "type": "heatmapgl"
           }
          ],
          "histogram": [
           {
            "marker": {
             "pattern": {
              "fillmode": "overlay",
              "size": 10,
              "solidity": 0.2
             }
            },
            "type": "histogram"
           }
          ],
          "histogram2d": [
           {
            "colorbar": {
             "outlinewidth": 0,
             "ticks": ""
            },
            "colorscale": [
             [
              0,
              "#0d0887"
             ],
             [
              0.1111111111111111,
              "#46039f"
             ],
             [
              0.2222222222222222,
              "#7201a8"
             ],
             [
              0.3333333333333333,
              "#9c179e"
             ],
             [
              0.4444444444444444,
              "#bd3786"
             ],
             [
              0.5555555555555556,
              "#d8576b"
             ],
             [
              0.6666666666666666,
              "#ed7953"
             ],
             [
              0.7777777777777778,
              "#fb9f3a"
             ],
             [
              0.8888888888888888,
              "#fdca26"
             ],
             [
              1,
              "#f0f921"
             ]
            ],
            "type": "histogram2d"
           }
          ],
          "histogram2dcontour": [
           {
            "colorbar": {
             "outlinewidth": 0,
             "ticks": ""
            },
            "colorscale": [
             [
              0,
              "#0d0887"
             ],
             [
              0.1111111111111111,
              "#46039f"
             ],
             [
              0.2222222222222222,
              "#7201a8"
             ],
             [
              0.3333333333333333,
              "#9c179e"
             ],
             [
              0.4444444444444444,
              "#bd3786"
             ],
             [
              0.5555555555555556,
              "#d8576b"
             ],
             [
              0.6666666666666666,
              "#ed7953"
             ],
             [
              0.7777777777777778,
              "#fb9f3a"
             ],
             [
              0.8888888888888888,
              "#fdca26"
             ],
             [
              1,
              "#f0f921"
             ]
            ],
            "type": "histogram2dcontour"
           }
          ],
          "mesh3d": [
           {
            "colorbar": {
             "outlinewidth": 0,
             "ticks": ""
            },
            "type": "mesh3d"
           }
          ],
          "parcoords": [
           {
            "line": {
             "colorbar": {
              "outlinewidth": 0,
              "ticks": ""
             }
            },
            "type": "parcoords"
           }
          ],
          "pie": [
           {
            "automargin": true,
            "type": "pie"
           }
          ],
          "scatter": [
           {
            "marker": {
             "colorbar": {
              "outlinewidth": 0,
              "ticks": ""
             }
            },
            "type": "scatter"
           }
          ],
          "scatter3d": [
           {
            "line": {
             "colorbar": {
              "outlinewidth": 0,
              "ticks": ""
             }
            },
            "marker": {
             "colorbar": {
              "outlinewidth": 0,
              "ticks": ""
             }
            },
            "type": "scatter3d"
           }
          ],
          "scattercarpet": [
           {
            "marker": {
             "colorbar": {
              "outlinewidth": 0,
              "ticks": ""
             }
            },
            "type": "scattercarpet"
           }
          ],
          "scattergeo": [
           {
            "marker": {
             "colorbar": {
              "outlinewidth": 0,
              "ticks": ""
             }
            },
            "type": "scattergeo"
           }
          ],
          "scattergl": [
           {
            "marker": {
             "colorbar": {
              "outlinewidth": 0,
              "ticks": ""
             }
            },
            "type": "scattergl"
           }
          ],
          "scattermapbox": [
           {
            "marker": {
             "colorbar": {
              "outlinewidth": 0,
              "ticks": ""
             }
            },
            "type": "scattermapbox"
           }
          ],
          "scatterpolar": [
           {
            "marker": {
             "colorbar": {
              "outlinewidth": 0,
              "ticks": ""
             }
            },
            "type": "scatterpolar"
           }
          ],
          "scatterpolargl": [
           {
            "marker": {
             "colorbar": {
              "outlinewidth": 0,
              "ticks": ""
             }
            },
            "type": "scatterpolargl"
           }
          ],
          "scatterternary": [
           {
            "marker": {
             "colorbar": {
              "outlinewidth": 0,
              "ticks": ""
             }
            },
            "type": "scatterternary"
           }
          ],
          "surface": [
           {
            "colorbar": {
             "outlinewidth": 0,
             "ticks": ""
            },
            "colorscale": [
             [
              0,
              "#0d0887"
             ],
             [
              0.1111111111111111,
              "#46039f"
             ],
             [
              0.2222222222222222,
              "#7201a8"
             ],
             [
              0.3333333333333333,
              "#9c179e"
             ],
             [
              0.4444444444444444,
              "#bd3786"
             ],
             [
              0.5555555555555556,
              "#d8576b"
             ],
             [
              0.6666666666666666,
              "#ed7953"
             ],
             [
              0.7777777777777778,
              "#fb9f3a"
             ],
             [
              0.8888888888888888,
              "#fdca26"
             ],
             [
              1,
              "#f0f921"
             ]
            ],
            "type": "surface"
           }
          ],
          "table": [
           {
            "cells": {
             "fill": {
              "color": "#EBF0F8"
             },
             "line": {
              "color": "white"
             }
            },
            "header": {
             "fill": {
              "color": "#C8D4E3"
             },
             "line": {
              "color": "white"
             }
            },
            "type": "table"
           }
          ]
         },
         "layout": {
          "annotationdefaults": {
           "arrowcolor": "#2a3f5f",
           "arrowhead": 0,
           "arrowwidth": 1
          },
          "autotypenumbers": "strict",
          "coloraxis": {
           "colorbar": {
            "outlinewidth": 0,
            "ticks": ""
           }
          },
          "colorscale": {
           "diverging": [
            [
             0,
             "#8e0152"
            ],
            [
             0.1,
             "#c51b7d"
            ],
            [
             0.2,
             "#de77ae"
            ],
            [
             0.3,
             "#f1b6da"
            ],
            [
             0.4,
             "#fde0ef"
            ],
            [
             0.5,
             "#f7f7f7"
            ],
            [
             0.6,
             "#e6f5d0"
            ],
            [
             0.7,
             "#b8e186"
            ],
            [
             0.8,
             "#7fbc41"
            ],
            [
             0.9,
             "#4d9221"
            ],
            [
             1,
             "#276419"
            ]
           ],
           "sequential": [
            [
             0,
             "#0d0887"
            ],
            [
             0.1111111111111111,
             "#46039f"
            ],
            [
             0.2222222222222222,
             "#7201a8"
            ],
            [
             0.3333333333333333,
             "#9c179e"
            ],
            [
             0.4444444444444444,
             "#bd3786"
            ],
            [
             0.5555555555555556,
             "#d8576b"
            ],
            [
             0.6666666666666666,
             "#ed7953"
            ],
            [
             0.7777777777777778,
             "#fb9f3a"
            ],
            [
             0.8888888888888888,
             "#fdca26"
            ],
            [
             1,
             "#f0f921"
            ]
           ],
           "sequentialminus": [
            [
             0,
             "#0d0887"
            ],
            [
             0.1111111111111111,
             "#46039f"
            ],
            [
             0.2222222222222222,
             "#7201a8"
            ],
            [
             0.3333333333333333,
             "#9c179e"
            ],
            [
             0.4444444444444444,
             "#bd3786"
            ],
            [
             0.5555555555555556,
             "#d8576b"
            ],
            [
             0.6666666666666666,
             "#ed7953"
            ],
            [
             0.7777777777777778,
             "#fb9f3a"
            ],
            [
             0.8888888888888888,
             "#fdca26"
            ],
            [
             1,
             "#f0f921"
            ]
           ]
          },
          "colorway": [
           "#636efa",
           "#EF553B",
           "#00cc96",
           "#ab63fa",
           "#FFA15A",
           "#19d3f3",
           "#FF6692",
           "#B6E880",
           "#FF97FF",
           "#FECB52"
          ],
          "font": {
           "color": "#2a3f5f"
          },
          "geo": {
           "bgcolor": "white",
           "lakecolor": "white",
           "landcolor": "#E5ECF6",
           "showlakes": true,
           "showland": true,
           "subunitcolor": "white"
          },
          "hoverlabel": {
           "align": "left"
          },
          "hovermode": "closest",
          "mapbox": {
           "style": "light"
          },
          "paper_bgcolor": "white",
          "plot_bgcolor": "#E5ECF6",
          "polar": {
           "angularaxis": {
            "gridcolor": "white",
            "linecolor": "white",
            "ticks": ""
           },
           "bgcolor": "#E5ECF6",
           "radialaxis": {
            "gridcolor": "white",
            "linecolor": "white",
            "ticks": ""
           }
          },
          "scene": {
           "xaxis": {
            "backgroundcolor": "#E5ECF6",
            "gridcolor": "white",
            "gridwidth": 2,
            "linecolor": "white",
            "showbackground": true,
            "ticks": "",
            "zerolinecolor": "white"
           },
           "yaxis": {
            "backgroundcolor": "#E5ECF6",
            "gridcolor": "white",
            "gridwidth": 2,
            "linecolor": "white",
            "showbackground": true,
            "ticks": "",
            "zerolinecolor": "white"
           },
           "zaxis": {
            "backgroundcolor": "#E5ECF6",
            "gridcolor": "white",
            "gridwidth": 2,
            "linecolor": "white",
            "showbackground": true,
            "ticks": "",
            "zerolinecolor": "white"
           }
          },
          "shapedefaults": {
           "line": {
            "color": "#2a3f5f"
           }
          },
          "ternary": {
           "aaxis": {
            "gridcolor": "white",
            "linecolor": "white",
            "ticks": ""
           },
           "baxis": {
            "gridcolor": "white",
            "linecolor": "white",
            "ticks": ""
           },
           "bgcolor": "#E5ECF6",
           "caxis": {
            "gridcolor": "white",
            "linecolor": "white",
            "ticks": ""
           }
          },
          "title": {
           "x": 0.05
          },
          "xaxis": {
           "automargin": true,
           "gridcolor": "white",
           "linecolor": "white",
           "ticks": "",
           "title": {
            "standoff": 15
           },
           "zerolinecolor": "white",
           "zerolinewidth": 2
          },
          "yaxis": {
           "automargin": true,
           "gridcolor": "white",
           "linecolor": "white",
           "ticks": "",
           "title": {
            "standoff": 15
           },
           "zerolinecolor": "white",
           "zerolinewidth": 2
          }
         }
        },
        "title": {
         "font": {
          "color": "#151516"
         },
         "text": "Price Elasticity of Purchase Probability"
        },
        "xaxis": {
         "gridcolor": "#F6F6F6",
         "showgrid": true,
         "tickfont": {
          "color": "#666666"
         },
         "title": {
          "font": {
           "color": "#666666"
          },
          "text": "Prices"
         },
         "zerolinecolor": "#F6F6F6"
        },
        "yaxis": {
         "gridcolor": "#F6F6F6",
         "showgrid": true,
         "tickfont": {
          "color": "#666666"
         },
         "title": {
          "font": {
           "color": "#666666"
          },
          "text": "Elasticyti"
         },
         "zerolinecolor": "#F6F6F6"
        }
       }
      },
      "text/html": [
       "<div>                            <div id=\"dcdf88fd-f3fe-422c-99a3-a148c8c1a86f\" class=\"plotly-graph-div\" style=\"height:525px; width:100%;\"></div>            <script type=\"text/javascript\">                require([\"plotly\"], function(Plotly) {                    window.PLOTLYENV=window.PLOTLYENV || {};\n",
       "                    window.PLOTLYENV.BASE_URL='https://plot.ly';                                    if (document.getElementById(\"dcdf88fd-f3fe-422c-99a3-a148c8c1a86f\")) {                    Plotly.newPlot(                        \"dcdf88fd-f3fe-422c-99a3-a148c8c1a86f\",                        [{\"line\":{\"color\":\"rgba(226, 74, 51, 1.0)\",\"dash\":\"solid\",\"shape\":\"linear\",\"width\":1.3},\"mode\":\"lines\",\"name\":\"means\",\"text\":\"\",\"type\":\"scatter\",\"x\":[0,1,2,3,4,5,6,7,8,9,10,11,12,13,14,15,16,17,18,19,20,21,22,23,24,25,26,27,28,29,30,31,32,33,34,35,36,37,38,39,40,41,42,43,44,45,46,47,48,49,50,51,52,53,54,55,56,57,58,59,60,61,62,63,64,65,66,67,68,69,70,71,72,73,74,75,76,77,78,79,80,81,82,83,84,85,86,87,88,89,90,91,92,93,94,95,96,97,98,99,100,101,102,103,104,105,106,107,108,109,110,111,112,113,114,115,116,117,118,119,120,121,122,123,124,125,126,127,128,129,130,131,132,133,134,135,136,137,138,139,140,141,142,143,144,145,146,147,148,149,150,151,152,153,154,155,156,157,158,159,160,161,162,163,164,165,166,167,168,169,170,171,172,173,174,175,176,177,178,179,180,181,182,183,184,185,186,187,188,189,190,191,192,193,194,195,196,197,198,199,200,201,202,203,204,205,206,207,208,209,210,211,212,213,214,215,216,217,218,219,220,221,222,223,224,225,226,227,228,229,230,231,232,233,234,235,236,237,238,239,240,241,242,243,244,245,246,247,248,249,250,251,252,253,254,255,256,257,258,259,260,261,262,263,264,265,266,267,268,269,270,271,272,273,274,275,276,277,278,279,280,281,282,283,284,285,286,287,288,289,290,291,292,293,294,295,296,297,298],\"y\":[-0.09639582835550818,-0.1004637808378074,-0.10465871295685428,-0.10898377680221519,-0.11344217636988857,-0.11803716724584516,-0.12277205621830221,-0.12765020081564188,-0.1326750087668632,-0.13784993738143306,-0.14317849284538883,-0.1486642294305424,-0.1543107486136332,-0.16012169810230112,-0.16610077076475585,-0.1722517034600683,-0.17857827576603527,-0.18508430860163935,-0.1917736627411797,-0.19865023721723274,-0.2057179676096963,-0.21298082421827,-0.22044281011585537,-0.22810795908048173,-0.2359803334035274,-0.24406402157216261,-0.2523631358241361,-0.260881809573209,-0.2696241947037813,-0.2785944587334742,-0.28779678184268853,-0.29723535377044064,-0.3069143705760559,-0.3168380312666112,-0.3270105342903539,-0.3374360738966548,-0.3481188363634276,-0.35906299609332337,-0.37027271158040503,-0.38175212124943075,-0.3935053391702859,-0.40553645065057636,-0.4178495077098337,-0.43044852443926523,-0.44333747225147,-0.45652027502503306,-0.4700008041494144,-0.4837828734760723,-0.4978702341822635,-0.5122665695545021,-0.5269754896991677,-0.5420005261882914,-0.5573451266490582,-0.5730126493060863,-0.5890063574860548,-0.6053294140947395,-0.6219848760770132,-0.6389756888708261,-0.6563046808666336,-0.6739745578841806,-0.691987897678924,-0.7103471444907874,-0.7290546036482526,-0.7481124362411287,-0.7675226538755934,-0.7872871135253473,-0.8074075124929082,-0.8278853834952064,-0.8487220898877725,-0.8699188210418003,-0.8914765878884272,-0.9133962186444572,-0.935678354733667,-0.9583234469176521,-0.9813317516499339,-1.0047033276667483,-1.0284380328276022,-1.0525355212182401,-1.0769952405282028,-1.1018164297146216,-1.1269981169632861,-1.1525391179573687,-1.1784380344634806,-1.2046932532439603,-1.2313029453034738,-1.2582650654771372,-1.2855773523664475,-1.3132373286283523,-1.3412423016217858,-1.3695893644149557,-1.398275397155605,-1.427297068805371,-1.4566508392382513,-1.486332961702065,-1.5163394856406287,-1.546666259873249,-1.577308936126969,-1.6082629729158702,-1.639523639760603,-1.671086021740211,-1.7029450243672268,-1.7350953787759564,-1.767531647212856,-1.8002482288169137,-1.8332393656770147,-1.8664991491523926,-1.900021526441418,-1.9338003073832226,-1.9678291714759364,-2.002101675094665,-2.036611258891794,-2.0713512553616478,-2.1063148965511616,-2.14149532189783,-2.1768855861759557,-2.212478667531971,-2.2482674755895693,-2.2842448596052503,-2.320403616654988,-2.356736499832812,-2.3932362264422826,-2.4298954861620965,-2.466706949167414,-2.503663274188856,-2.5407571164916156,-2.577981135757624,-2.6153280038543185,-2.6527904124741566,-2.6903610806297356,-2.7280327619900855,-2.765798252044451,-2.8036503950807288,-2.8415820909665004,-2.8795863017214867,-2.917656057871136,-2.9557844645719173,-2.9939647074998335,-3.0321900584945474,-3.070453880952454,-3.1087496349629196,-3.1470708821828373,-3.1854112904455163,-3.223764638100834,-3.262124818084419,-3.3004858417144773,-3.338841842215713,-3.3771870779705555,-3.415515935498695,-3.453822932166644,-3.4921027186297313,-3.5303500810096278,-3.568559942811091,-3.606727366582221,-3.6448475553230835,-3.6829158536480198,-3.720927748707489,-3.7588788708756637,-3.796764994210446,-3.8345820366928507,-3.8723260602530583,-3.909993270590741,-3.9475800167974047,-3.985082790788778,-4.022498226555382,-4.059823099239572,-4.097054324047443,-4.134188955003972,-4.1712241835599295,-4.208157337058974,-4.244985877073402,-4.2817073976168984,-4.31831962324262,-4.35482040703483,-4.391207728502143,-4.427479691380356,-4.463634521352632,-4.499670563694687,-4.535586280852407,-4.571380249959097,-4.607051160299449,-4.642597810726971,-4.678019107041514,-4.713314059333182,-4.74848177929876,-4.783521477536523,-4.818432460825005,-4.853214129391119,-4.887865974172691,-4.9223875740803065,-4.956778593263062,-4.991038778382541,-5.025167955899178,-5.059166029374827,-5.093032976795197,-5.126768847915505,-5.160373761632531,-5.193847903386011,-5.227191522592048,-5.26040493011109,-5.293488495752701,-5.326442645819284,-5.3592678606906174,-5.391964672450894,-5.424533662559849,-5.456975459569278,-5.489290736886183,-5.521480210583545,-5.553544637259613,-5.5854848119464835,-5.617301566068518,-5.648995765451124,-5.680568308380208,-5.712020123712566,-5.74335216903734,-5.774565428888538,-5.8056609130085635,-5.83663965466262,-5.867502709003694,-5.89825115148785,-5.928886076339395,-5.959408595065503,-5.98981983501975,-6.020120938013975,-6.05031305897788,-6.080397364665652,-6.110375032408927,-6.140247248915329,-6.170015209111778,-6.199680115031803,-6.229243174745968,-6.258705601334574,-6.288068611901736,-6.317333426629966,-6.346501267874306,-6.37557335929513,-6.40455092502865,-6.433435188894205,-6.462227373637408,-6.490928700208165,-6.519540387072667,-6.548063649558412,-6.57649969923129,-6.604849743303841,-6.633114984073746,-6.661296618391635,-6.6893958371573286,-6.717413824843582,-6.745351759046506,-6.773210810061731,-6.800992140485523,-6.828696904839962,-6.856326249221377,-6.883881310971226,-6.911363218368618,-6.938773090343712,-6.966112036211197,-6.993381155423146,-7.0205815373404965,-7.0477142610224215,-7.074780395032944,-7.10178099726406,-7.128717114774768,-7.155589783645308,-7.182400028845998,-7.209148864120091,-7.23583729188001,-7.262466303116419,-7.28903687731955,-7.315549982412254,-7.342006574694261,-7.368407598797105,-7.394753987649249,-7.421046662450926,-7.447286532658221,-7.473474495975958,-7.499611438358944,-7.525698234021178,-7.551735745452588,-7.577724823442933,-7.603666307112461,-7.6295610239490035,-7.65540978985112,-7.681213409176967,-7.706972674798558,-7.732688368161129,-7.7583612593472715,-7.783992107145571,-7.8095816591234435,-7.835130651703941,-7.86063981024624,-7.886109849129564,-7.911541471840332,-7.936935371062264,-7.96229222876926,-7.98761271632084,-8.01289749455991,-8.038147213912719,-8.063362514490766,-8.088544026194528]}],                        {\"legend\":{\"bgcolor\":\"#FFFFFF\",\"font\":{\"color\":\"#666666\"}},\"paper_bgcolor\":\"#FFFFFF\",\"plot_bgcolor\":\"#E5E5E5\",\"template\":{\"data\":{\"bar\":[{\"error_x\":{\"color\":\"#2a3f5f\"},\"error_y\":{\"color\":\"#2a3f5f\"},\"marker\":{\"line\":{\"color\":\"#E5ECF6\",\"width\":0.5},\"pattern\":{\"fillmode\":\"overlay\",\"size\":10,\"solidity\":0.2}},\"type\":\"bar\"}],\"barpolar\":[{\"marker\":{\"line\":{\"color\":\"#E5ECF6\",\"width\":0.5},\"pattern\":{\"fillmode\":\"overlay\",\"size\":10,\"solidity\":0.2}},\"type\":\"barpolar\"}],\"carpet\":[{\"aaxis\":{\"endlinecolor\":\"#2a3f5f\",\"gridcolor\":\"white\",\"linecolor\":\"white\",\"minorgridcolor\":\"white\",\"startlinecolor\":\"#2a3f5f\"},\"baxis\":{\"endlinecolor\":\"#2a3f5f\",\"gridcolor\":\"white\",\"linecolor\":\"white\",\"minorgridcolor\":\"white\",\"startlinecolor\":\"#2a3f5f\"},\"type\":\"carpet\"}],\"choropleth\":[{\"colorbar\":{\"outlinewidth\":0,\"ticks\":\"\"},\"type\":\"choropleth\"}],\"contour\":[{\"colorbar\":{\"outlinewidth\":0,\"ticks\":\"\"},\"colorscale\":[[0.0,\"#0d0887\"],[0.1111111111111111,\"#46039f\"],[0.2222222222222222,\"#7201a8\"],[0.3333333333333333,\"#9c179e\"],[0.4444444444444444,\"#bd3786\"],[0.5555555555555556,\"#d8576b\"],[0.6666666666666666,\"#ed7953\"],[0.7777777777777778,\"#fb9f3a\"],[0.8888888888888888,\"#fdca26\"],[1.0,\"#f0f921\"]],\"type\":\"contour\"}],\"contourcarpet\":[{\"colorbar\":{\"outlinewidth\":0,\"ticks\":\"\"},\"type\":\"contourcarpet\"}],\"heatmap\":[{\"colorbar\":{\"outlinewidth\":0,\"ticks\":\"\"},\"colorscale\":[[0.0,\"#0d0887\"],[0.1111111111111111,\"#46039f\"],[0.2222222222222222,\"#7201a8\"],[0.3333333333333333,\"#9c179e\"],[0.4444444444444444,\"#bd3786\"],[0.5555555555555556,\"#d8576b\"],[0.6666666666666666,\"#ed7953\"],[0.7777777777777778,\"#fb9f3a\"],[0.8888888888888888,\"#fdca26\"],[1.0,\"#f0f921\"]],\"type\":\"heatmap\"}],\"heatmapgl\":[{\"colorbar\":{\"outlinewidth\":0,\"ticks\":\"\"},\"colorscale\":[[0.0,\"#0d0887\"],[0.1111111111111111,\"#46039f\"],[0.2222222222222222,\"#7201a8\"],[0.3333333333333333,\"#9c179e\"],[0.4444444444444444,\"#bd3786\"],[0.5555555555555556,\"#d8576b\"],[0.6666666666666666,\"#ed7953\"],[0.7777777777777778,\"#fb9f3a\"],[0.8888888888888888,\"#fdca26\"],[1.0,\"#f0f921\"]],\"type\":\"heatmapgl\"}],\"histogram\":[{\"marker\":{\"pattern\":{\"fillmode\":\"overlay\",\"size\":10,\"solidity\":0.2}},\"type\":\"histogram\"}],\"histogram2d\":[{\"colorbar\":{\"outlinewidth\":0,\"ticks\":\"\"},\"colorscale\":[[0.0,\"#0d0887\"],[0.1111111111111111,\"#46039f\"],[0.2222222222222222,\"#7201a8\"],[0.3333333333333333,\"#9c179e\"],[0.4444444444444444,\"#bd3786\"],[0.5555555555555556,\"#d8576b\"],[0.6666666666666666,\"#ed7953\"],[0.7777777777777778,\"#fb9f3a\"],[0.8888888888888888,\"#fdca26\"],[1.0,\"#f0f921\"]],\"type\":\"histogram2d\"}],\"histogram2dcontour\":[{\"colorbar\":{\"outlinewidth\":0,\"ticks\":\"\"},\"colorscale\":[[0.0,\"#0d0887\"],[0.1111111111111111,\"#46039f\"],[0.2222222222222222,\"#7201a8\"],[0.3333333333333333,\"#9c179e\"],[0.4444444444444444,\"#bd3786\"],[0.5555555555555556,\"#d8576b\"],[0.6666666666666666,\"#ed7953\"],[0.7777777777777778,\"#fb9f3a\"],[0.8888888888888888,\"#fdca26\"],[1.0,\"#f0f921\"]],\"type\":\"histogram2dcontour\"}],\"mesh3d\":[{\"colorbar\":{\"outlinewidth\":0,\"ticks\":\"\"},\"type\":\"mesh3d\"}],\"parcoords\":[{\"line\":{\"colorbar\":{\"outlinewidth\":0,\"ticks\":\"\"}},\"type\":\"parcoords\"}],\"pie\":[{\"automargin\":true,\"type\":\"pie\"}],\"scatter\":[{\"marker\":{\"colorbar\":{\"outlinewidth\":0,\"ticks\":\"\"}},\"type\":\"scatter\"}],\"scatter3d\":[{\"line\":{\"colorbar\":{\"outlinewidth\":0,\"ticks\":\"\"}},\"marker\":{\"colorbar\":{\"outlinewidth\":0,\"ticks\":\"\"}},\"type\":\"scatter3d\"}],\"scattercarpet\":[{\"marker\":{\"colorbar\":{\"outlinewidth\":0,\"ticks\":\"\"}},\"type\":\"scattercarpet\"}],\"scattergeo\":[{\"marker\":{\"colorbar\":{\"outlinewidth\":0,\"ticks\":\"\"}},\"type\":\"scattergeo\"}],\"scattergl\":[{\"marker\":{\"colorbar\":{\"outlinewidth\":0,\"ticks\":\"\"}},\"type\":\"scattergl\"}],\"scattermapbox\":[{\"marker\":{\"colorbar\":{\"outlinewidth\":0,\"ticks\":\"\"}},\"type\":\"scattermapbox\"}],\"scatterpolar\":[{\"marker\":{\"colorbar\":{\"outlinewidth\":0,\"ticks\":\"\"}},\"type\":\"scatterpolar\"}],\"scatterpolargl\":[{\"marker\":{\"colorbar\":{\"outlinewidth\":0,\"ticks\":\"\"}},\"type\":\"scatterpolargl\"}],\"scatterternary\":[{\"marker\":{\"colorbar\":{\"outlinewidth\":0,\"ticks\":\"\"}},\"type\":\"scatterternary\"}],\"surface\":[{\"colorbar\":{\"outlinewidth\":0,\"ticks\":\"\"},\"colorscale\":[[0.0,\"#0d0887\"],[0.1111111111111111,\"#46039f\"],[0.2222222222222222,\"#7201a8\"],[0.3333333333333333,\"#9c179e\"],[0.4444444444444444,\"#bd3786\"],[0.5555555555555556,\"#d8576b\"],[0.6666666666666666,\"#ed7953\"],[0.7777777777777778,\"#fb9f3a\"],[0.8888888888888888,\"#fdca26\"],[1.0,\"#f0f921\"]],\"type\":\"surface\"}],\"table\":[{\"cells\":{\"fill\":{\"color\":\"#EBF0F8\"},\"line\":{\"color\":\"white\"}},\"header\":{\"fill\":{\"color\":\"#C8D4E3\"},\"line\":{\"color\":\"white\"}},\"type\":\"table\"}]},\"layout\":{\"annotationdefaults\":{\"arrowcolor\":\"#2a3f5f\",\"arrowhead\":0,\"arrowwidth\":1},\"autotypenumbers\":\"strict\",\"coloraxis\":{\"colorbar\":{\"outlinewidth\":0,\"ticks\":\"\"}},\"colorscale\":{\"diverging\":[[0,\"#8e0152\"],[0.1,\"#c51b7d\"],[0.2,\"#de77ae\"],[0.3,\"#f1b6da\"],[0.4,\"#fde0ef\"],[0.5,\"#f7f7f7\"],[0.6,\"#e6f5d0\"],[0.7,\"#b8e186\"],[0.8,\"#7fbc41\"],[0.9,\"#4d9221\"],[1,\"#276419\"]],\"sequential\":[[0.0,\"#0d0887\"],[0.1111111111111111,\"#46039f\"],[0.2222222222222222,\"#7201a8\"],[0.3333333333333333,\"#9c179e\"],[0.4444444444444444,\"#bd3786\"],[0.5555555555555556,\"#d8576b\"],[0.6666666666666666,\"#ed7953\"],[0.7777777777777778,\"#fb9f3a\"],[0.8888888888888888,\"#fdca26\"],[1.0,\"#f0f921\"]],\"sequentialminus\":[[0.0,\"#0d0887\"],[0.1111111111111111,\"#46039f\"],[0.2222222222222222,\"#7201a8\"],[0.3333333333333333,\"#9c179e\"],[0.4444444444444444,\"#bd3786\"],[0.5555555555555556,\"#d8576b\"],[0.6666666666666666,\"#ed7953\"],[0.7777777777777778,\"#fb9f3a\"],[0.8888888888888888,\"#fdca26\"],[1.0,\"#f0f921\"]]},\"colorway\":[\"#636efa\",\"#EF553B\",\"#00cc96\",\"#ab63fa\",\"#FFA15A\",\"#19d3f3\",\"#FF6692\",\"#B6E880\",\"#FF97FF\",\"#FECB52\"],\"font\":{\"color\":\"#2a3f5f\"},\"geo\":{\"bgcolor\":\"white\",\"lakecolor\":\"white\",\"landcolor\":\"#E5ECF6\",\"showlakes\":true,\"showland\":true,\"subunitcolor\":\"white\"},\"hoverlabel\":{\"align\":\"left\"},\"hovermode\":\"closest\",\"mapbox\":{\"style\":\"light\"},\"paper_bgcolor\":\"white\",\"plot_bgcolor\":\"#E5ECF6\",\"polar\":{\"angularaxis\":{\"gridcolor\":\"white\",\"linecolor\":\"white\",\"ticks\":\"\"},\"bgcolor\":\"#E5ECF6\",\"radialaxis\":{\"gridcolor\":\"white\",\"linecolor\":\"white\",\"ticks\":\"\"}},\"scene\":{\"xaxis\":{\"backgroundcolor\":\"#E5ECF6\",\"gridcolor\":\"white\",\"gridwidth\":2,\"linecolor\":\"white\",\"showbackground\":true,\"ticks\":\"\",\"zerolinecolor\":\"white\"},\"yaxis\":{\"backgroundcolor\":\"#E5ECF6\",\"gridcolor\":\"white\",\"gridwidth\":2,\"linecolor\":\"white\",\"showbackground\":true,\"ticks\":\"\",\"zerolinecolor\":\"white\"},\"zaxis\":{\"backgroundcolor\":\"#E5ECF6\",\"gridcolor\":\"white\",\"gridwidth\":2,\"linecolor\":\"white\",\"showbackground\":true,\"ticks\":\"\",\"zerolinecolor\":\"white\"}},\"shapedefaults\":{\"line\":{\"color\":\"#2a3f5f\"}},\"ternary\":{\"aaxis\":{\"gridcolor\":\"white\",\"linecolor\":\"white\",\"ticks\":\"\"},\"baxis\":{\"gridcolor\":\"white\",\"linecolor\":\"white\",\"ticks\":\"\"},\"bgcolor\":\"#E5ECF6\",\"caxis\":{\"gridcolor\":\"white\",\"linecolor\":\"white\",\"ticks\":\"\"}},\"title\":{\"x\":0.05},\"xaxis\":{\"automargin\":true,\"gridcolor\":\"white\",\"linecolor\":\"white\",\"ticks\":\"\",\"title\":{\"standoff\":15},\"zerolinecolor\":\"white\",\"zerolinewidth\":2},\"yaxis\":{\"automargin\":true,\"gridcolor\":\"white\",\"linecolor\":\"white\",\"ticks\":\"\",\"title\":{\"standoff\":15},\"zerolinecolor\":\"white\",\"zerolinewidth\":2}}},\"title\":{\"font\":{\"color\":\"#151516\"},\"text\":\"Price Elasticity of Purchase Probability\"},\"xaxis\":{\"gridcolor\":\"#F6F6F6\",\"showgrid\":true,\"tickfont\":{\"color\":\"#666666\"},\"title\":{\"font\":{\"color\":\"#666666\"},\"text\":\"Prices\"},\"zerolinecolor\":\"#F6F6F6\"},\"yaxis\":{\"gridcolor\":\"#F6F6F6\",\"showgrid\":true,\"tickfont\":{\"color\":\"#666666\"},\"title\":{\"font\":{\"color\":\"#666666\"},\"text\":\"Elasticyti\"},\"zerolinecolor\":\"#F6F6F6\"}},                        {\"showLink\": true, \"linkText\": \"Export to plot.ly\", \"plotlyServerURL\": \"https://plot.ly\", \"responsive\": true}                    ).then(function(){\n",
       "                            \n",
       "var gd = document.getElementById('dcdf88fd-f3fe-422c-99a3-a148c8c1a86f');\n",
       "var x = new MutationObserver(function (mutations, observer) {{\n",
       "        var display = window.getComputedStyle(gd).display;\n",
       "        if (!display || display === 'none') {{\n",
       "            console.log([gd, 'removed!']);\n",
       "            Plotly.purge(gd);\n",
       "            observer.disconnect();\n",
       "        }}\n",
       "}});\n",
       "\n",
       "// Listen for the removal of the full notebook cells\n",
       "var notebookContainer = gd.closest('#notebook-container');\n",
       "if (notebookContainer) {{\n",
       "    x.observe(notebookContainer, {childList: true});\n",
       "}}\n",
       "\n",
       "// Listen for the clearing of the current output cell\n",
       "var outputEl = gd.closest('.output');\n",
       "if (outputEl) {{\n",
       "    x.observe(outputEl, {childList: true});\n",
       "}}\n",
       "\n",
       "                        })                };                });            </script>        </div>"
      ]
     },
     "metadata": {},
     "output_type": "display_data"
    }
   ],
   "source": [
    "df_price_elasticity['means'].iplot(kind = 'line', xTitle = 'Prices', yTitle = 'Elasticyti', \n",
    "                          title = 'Price Elasticity of Purchase Probability')"
   ]
  },
  {
   "cell_type": "markdown",
   "id": "51e16320",
   "metadata": {},
   "source": [
    "## Purchase Probability by Segments\n",
    "### Segment 1 - Career-Focused"
   ]
  },
  {
   "cell_type": "code",
   "execution_count": 22,
   "id": "011b32df",
   "metadata": {},
   "outputs": [
    {
     "data": {
      "text/html": [
       "<div>\n",
       "<style scoped>\n",
       "    .dataframe tbody tr th:only-of-type {\n",
       "        vertical-align: middle;\n",
       "    }\n",
       "\n",
       "    .dataframe tbody tr th {\n",
       "        vertical-align: top;\n",
       "    }\n",
       "\n",
       "    .dataframe thead th {\n",
       "        text-align: right;\n",
       "    }\n",
       "</style>\n",
       "<table border=\"1\" class=\"dataframe\">\n",
       "  <thead>\n",
       "    <tr style=\"text-align: right;\">\n",
       "      <th></th>\n",
       "      <th>ID</th>\n",
       "      <th>Day</th>\n",
       "      <th>Incidence</th>\n",
       "      <th>Brand</th>\n",
       "      <th>Quantity</th>\n",
       "      <th>Last_Inc_Brand</th>\n",
       "      <th>Last_Inc_Quantity</th>\n",
       "      <th>Price_1</th>\n",
       "      <th>Price_2</th>\n",
       "      <th>Price_3</th>\n",
       "      <th>...</th>\n",
       "      <th>Age</th>\n",
       "      <th>Education</th>\n",
       "      <th>Income</th>\n",
       "      <th>Occupation</th>\n",
       "      <th>Settlement size</th>\n",
       "      <th>segment</th>\n",
       "      <th>Segment_0</th>\n",
       "      <th>Segment_1</th>\n",
       "      <th>Segment_2</th>\n",
       "      <th>Segment_3</th>\n",
       "    </tr>\n",
       "  </thead>\n",
       "  <tbody>\n",
       "    <tr>\n",
       "      <th>370</th>\n",
       "      <td>200000005</td>\n",
       "      <td>7</td>\n",
       "      <td>0</td>\n",
       "      <td>0</td>\n",
       "      <td>0</td>\n",
       "      <td>0</td>\n",
       "      <td>0</td>\n",
       "      <td>1.59</td>\n",
       "      <td>1.88</td>\n",
       "      <td>2.01</td>\n",
       "      <td>...</td>\n",
       "      <td>49</td>\n",
       "      <td>1</td>\n",
       "      <td>121466</td>\n",
       "      <td>1</td>\n",
       "      <td>2</td>\n",
       "      <td>1</td>\n",
       "      <td>0</td>\n",
       "      <td>1</td>\n",
       "      <td>0</td>\n",
       "      <td>0</td>\n",
       "    </tr>\n",
       "    <tr>\n",
       "      <th>371</th>\n",
       "      <td>200000005</td>\n",
       "      <td>13</td>\n",
       "      <td>0</td>\n",
       "      <td>0</td>\n",
       "      <td>0</td>\n",
       "      <td>0</td>\n",
       "      <td>0</td>\n",
       "      <td>1.51</td>\n",
       "      <td>1.89</td>\n",
       "      <td>1.99</td>\n",
       "      <td>...</td>\n",
       "      <td>49</td>\n",
       "      <td>1</td>\n",
       "      <td>121466</td>\n",
       "      <td>1</td>\n",
       "      <td>2</td>\n",
       "      <td>1</td>\n",
       "      <td>0</td>\n",
       "      <td>1</td>\n",
       "      <td>0</td>\n",
       "      <td>0</td>\n",
       "    </tr>\n",
       "    <tr>\n",
       "      <th>372</th>\n",
       "      <td>200000005</td>\n",
       "      <td>20</td>\n",
       "      <td>0</td>\n",
       "      <td>0</td>\n",
       "      <td>0</td>\n",
       "      <td>0</td>\n",
       "      <td>0</td>\n",
       "      <td>1.52</td>\n",
       "      <td>1.89</td>\n",
       "      <td>1.99</td>\n",
       "      <td>...</td>\n",
       "      <td>49</td>\n",
       "      <td>1</td>\n",
       "      <td>121466</td>\n",
       "      <td>1</td>\n",
       "      <td>2</td>\n",
       "      <td>1</td>\n",
       "      <td>0</td>\n",
       "      <td>1</td>\n",
       "      <td>0</td>\n",
       "      <td>0</td>\n",
       "    </tr>\n",
       "    <tr>\n",
       "      <th>373</th>\n",
       "      <td>200000005</td>\n",
       "      <td>32</td>\n",
       "      <td>0</td>\n",
       "      <td>0</td>\n",
       "      <td>0</td>\n",
       "      <td>0</td>\n",
       "      <td>0</td>\n",
       "      <td>1.50</td>\n",
       "      <td>1.90</td>\n",
       "      <td>1.99</td>\n",
       "      <td>...</td>\n",
       "      <td>49</td>\n",
       "      <td>1</td>\n",
       "      <td>121466</td>\n",
       "      <td>1</td>\n",
       "      <td>2</td>\n",
       "      <td>1</td>\n",
       "      <td>0</td>\n",
       "      <td>1</td>\n",
       "      <td>0</td>\n",
       "      <td>0</td>\n",
       "    </tr>\n",
       "    <tr>\n",
       "      <th>374</th>\n",
       "      <td>200000005</td>\n",
       "      <td>39</td>\n",
       "      <td>0</td>\n",
       "      <td>0</td>\n",
       "      <td>0</td>\n",
       "      <td>0</td>\n",
       "      <td>0</td>\n",
       "      <td>1.50</td>\n",
       "      <td>1.90</td>\n",
       "      <td>1.99</td>\n",
       "      <td>...</td>\n",
       "      <td>49</td>\n",
       "      <td>1</td>\n",
       "      <td>121466</td>\n",
       "      <td>1</td>\n",
       "      <td>2</td>\n",
       "      <td>1</td>\n",
       "      <td>0</td>\n",
       "      <td>1</td>\n",
       "      <td>0</td>\n",
       "      <td>0</td>\n",
       "    </tr>\n",
       "  </tbody>\n",
       "</table>\n",
       "<p>5 rows × 29 columns</p>\n",
       "</div>"
      ],
      "text/plain": [
       "            ID  Day  Incidence  Brand  Quantity  Last_Inc_Brand  \\\n",
       "370  200000005    7          0      0         0               0   \n",
       "371  200000005   13          0      0         0               0   \n",
       "372  200000005   20          0      0         0               0   \n",
       "373  200000005   32          0      0         0               0   \n",
       "374  200000005   39          0      0         0               0   \n",
       "\n",
       "     Last_Inc_Quantity  Price_1  Price_2  Price_3  ...  Age  Education  \\\n",
       "370                  0     1.59     1.88     2.01  ...   49          1   \n",
       "371                  0     1.51     1.89     1.99  ...   49          1   \n",
       "372                  0     1.52     1.89     1.99  ...   49          1   \n",
       "373                  0     1.50     1.90     1.99  ...   49          1   \n",
       "374                  0     1.50     1.90     1.99  ...   49          1   \n",
       "\n",
       "     Income  Occupation  Settlement size  segment  Segment_0  Segment_1  \\\n",
       "370  121466           1                2        1          0          1   \n",
       "371  121466           1                2        1          0          1   \n",
       "372  121466           1                2        1          0          1   \n",
       "373  121466           1                2        1          0          1   \n",
       "374  121466           1                2        1          0          1   \n",
       "\n",
       "     Segment_2  Segment_3  \n",
       "370          0          0  \n",
       "371          0          0  \n",
       "372          0          0  \n",
       "373          0          0  \n",
       "374          0          0  \n",
       "\n",
       "[5 rows x 29 columns]"
      ]
     },
     "execution_count": 22,
     "metadata": {},
     "output_type": "execute_result"
    }
   ],
   "source": [
    "segment1 = data[data['segment']==1]\n",
    "segment1.head()"
   ]
  },
  {
   "cell_type": "code",
   "execution_count": 23,
   "id": "87729a65",
   "metadata": {},
   "outputs": [],
   "source": [
    "mean_price = (segment1['Price_1'] + segment1['Price_2'] + \n",
    "                   \n",
    "                   segment1[\"Price_3\"] + segment1['Price_4'] + segment1['Price_5']\n",
    "                   ) /5\n",
    "\n",
    "\n",
    "X = pd.DataFrame()\n",
    "X['mean_price'] = mean_price \n",
    "y = segment1['Incidence']"
   ]
  },
  {
   "cell_type": "code",
   "execution_count": 24,
   "id": "89bdadf3",
   "metadata": {},
   "outputs": [
    {
     "data": {
      "text/plain": [
       "LogisticRegression()"
      ]
     },
     "execution_count": 24,
     "metadata": {},
     "output_type": "execute_result"
    }
   ],
   "source": [
    "model_incidence_seg1 = LogisticRegression()\n",
    "model_incidence_seg1.fit(X,y)"
   ]
  },
  {
   "cell_type": "code",
   "execution_count": 25,
   "id": "b3f713f4",
   "metadata": {},
   "outputs": [],
   "source": [
    "y_seg1 = model_incidence_seg1.predict_proba(df_price_range)\n",
    "purchase_seg1 = y_seg1[:][:, 1]\n",
    "pe = model_incidence_seg1.coef_[:, 0] * price_range * (1-purchase_seg1)"
   ]
  },
  {
   "cell_type": "markdown",
   "id": "93d5eea1",
   "metadata": {},
   "source": [
    "#### Results "
   ]
  },
  {
   "cell_type": "code",
   "execution_count": 26,
   "id": "df94b4c0",
   "metadata": {},
   "outputs": [],
   "source": [
    "df_price_elasticity['pe_seg1'] = pe"
   ]
  },
  {
   "cell_type": "code",
   "execution_count": 27,
   "id": "74b383fa",
   "metadata": {},
   "outputs": [
    {
     "data": {
      "application/vnd.plotly.v1+json": {
       "config": {
        "linkText": "Export to plot.ly",
        "plotlyServerURL": "https://plot.ly",
        "showLink": true
       },
       "data": [
        {
         "line": {
          "color": "rgba(226, 74, 51, 1.0)",
          "dash": "solid",
          "shape": "linear",
          "width": 1.3
         },
         "mode": "lines",
         "name": "means",
         "text": "",
         "type": "scatter",
         "x": [
          0,
          1,
          2,
          3,
          4,
          5,
          6,
          7,
          8,
          9,
          10,
          11,
          12,
          13,
          14,
          15,
          16,
          17,
          18,
          19,
          20,
          21,
          22,
          23,
          24,
          25,
          26,
          27,
          28,
          29,
          30,
          31,
          32,
          33,
          34,
          35,
          36,
          37,
          38,
          39,
          40,
          41,
          42,
          43,
          44,
          45,
          46,
          47,
          48,
          49,
          50,
          51,
          52,
          53,
          54,
          55,
          56,
          57,
          58,
          59,
          60,
          61,
          62,
          63,
          64,
          65,
          66,
          67,
          68,
          69,
          70,
          71,
          72,
          73,
          74,
          75,
          76,
          77,
          78,
          79,
          80,
          81,
          82,
          83,
          84,
          85,
          86,
          87,
          88,
          89,
          90,
          91,
          92,
          93,
          94,
          95,
          96,
          97,
          98,
          99,
          100,
          101,
          102,
          103,
          104,
          105,
          106,
          107,
          108,
          109,
          110,
          111,
          112,
          113,
          114,
          115,
          116,
          117,
          118,
          119,
          120,
          121,
          122,
          123,
          124,
          125,
          126,
          127,
          128,
          129,
          130,
          131,
          132,
          133,
          134,
          135,
          136,
          137,
          138,
          139,
          140,
          141,
          142,
          143,
          144,
          145,
          146,
          147,
          148,
          149,
          150,
          151,
          152,
          153,
          154,
          155,
          156,
          157,
          158,
          159,
          160,
          161,
          162,
          163,
          164,
          165,
          166,
          167,
          168,
          169,
          170,
          171,
          172,
          173,
          174,
          175,
          176,
          177,
          178,
          179,
          180,
          181,
          182,
          183,
          184,
          185,
          186,
          187,
          188,
          189,
          190,
          191,
          192,
          193,
          194,
          195,
          196,
          197,
          198,
          199,
          200,
          201,
          202,
          203,
          204,
          205,
          206,
          207,
          208,
          209,
          210,
          211,
          212,
          213,
          214,
          215,
          216,
          217,
          218,
          219,
          220,
          221,
          222,
          223,
          224,
          225,
          226,
          227,
          228,
          229,
          230,
          231,
          232,
          233,
          234,
          235,
          236,
          237,
          238,
          239,
          240,
          241,
          242,
          243,
          244,
          245,
          246,
          247,
          248,
          249,
          250,
          251,
          252,
          253,
          254,
          255,
          256,
          257,
          258,
          259,
          260,
          261,
          262,
          263,
          264,
          265,
          266,
          267,
          268,
          269,
          270,
          271,
          272,
          273,
          274,
          275,
          276,
          277,
          278,
          279,
          280,
          281,
          282,
          283,
          284,
          285,
          286,
          287,
          288,
          289,
          290,
          291,
          292,
          293,
          294,
          295,
          296,
          297,
          298
         ],
         "y": [
          -0.09639582835550818,
          -0.1004637808378074,
          -0.10465871295685428,
          -0.10898377680221519,
          -0.11344217636988857,
          -0.11803716724584516,
          -0.12277205621830221,
          -0.12765020081564188,
          -0.1326750087668632,
          -0.13784993738143306,
          -0.14317849284538883,
          -0.1486642294305424,
          -0.1543107486136332,
          -0.16012169810230112,
          -0.16610077076475585,
          -0.1722517034600683,
          -0.17857827576603527,
          -0.18508430860163935,
          -0.1917736627411797,
          -0.19865023721723274,
          -0.2057179676096963,
          -0.21298082421827,
          -0.22044281011585537,
          -0.22810795908048173,
          -0.2359803334035274,
          -0.24406402157216261,
          -0.2523631358241361,
          -0.260881809573209,
          -0.2696241947037813,
          -0.2785944587334742,
          -0.28779678184268853,
          -0.29723535377044064,
          -0.3069143705760559,
          -0.3168380312666112,
          -0.3270105342903539,
          -0.3374360738966548,
          -0.3481188363634276,
          -0.35906299609332337,
          -0.37027271158040503,
          -0.38175212124943075,
          -0.3935053391702859,
          -0.40553645065057636,
          -0.4178495077098337,
          -0.43044852443926523,
          -0.44333747225147,
          -0.45652027502503306,
          -0.4700008041494144,
          -0.4837828734760723,
          -0.4978702341822635,
          -0.5122665695545021,
          -0.5269754896991677,
          -0.5420005261882914,
          -0.5573451266490582,
          -0.5730126493060863,
          -0.5890063574860548,
          -0.6053294140947395,
          -0.6219848760770132,
          -0.6389756888708261,
          -0.6563046808666336,
          -0.6739745578841806,
          -0.691987897678924,
          -0.7103471444907874,
          -0.7290546036482526,
          -0.7481124362411287,
          -0.7675226538755934,
          -0.7872871135253473,
          -0.8074075124929082,
          -0.8278853834952064,
          -0.8487220898877725,
          -0.8699188210418003,
          -0.8914765878884272,
          -0.9133962186444572,
          -0.935678354733667,
          -0.9583234469176521,
          -0.9813317516499339,
          -1.0047033276667483,
          -1.0284380328276022,
          -1.0525355212182401,
          -1.0769952405282028,
          -1.1018164297146216,
          -1.1269981169632861,
          -1.1525391179573687,
          -1.1784380344634806,
          -1.2046932532439603,
          -1.2313029453034738,
          -1.2582650654771372,
          -1.2855773523664475,
          -1.3132373286283523,
          -1.3412423016217858,
          -1.3695893644149557,
          -1.398275397155605,
          -1.427297068805371,
          -1.4566508392382513,
          -1.486332961702065,
          -1.5163394856406287,
          -1.546666259873249,
          -1.577308936126969,
          -1.6082629729158702,
          -1.639523639760603,
          -1.671086021740211,
          -1.7029450243672268,
          -1.7350953787759564,
          -1.767531647212856,
          -1.8002482288169137,
          -1.8332393656770147,
          -1.8664991491523926,
          -1.900021526441418,
          -1.9338003073832226,
          -1.9678291714759364,
          -2.002101675094665,
          -2.036611258891794,
          -2.0713512553616478,
          -2.1063148965511616,
          -2.14149532189783,
          -2.1768855861759557,
          -2.212478667531971,
          -2.2482674755895693,
          -2.2842448596052503,
          -2.320403616654988,
          -2.356736499832812,
          -2.3932362264422826,
          -2.4298954861620965,
          -2.466706949167414,
          -2.503663274188856,
          -2.5407571164916156,
          -2.577981135757624,
          -2.6153280038543185,
          -2.6527904124741566,
          -2.6903610806297356,
          -2.7280327619900855,
          -2.765798252044451,
          -2.8036503950807288,
          -2.8415820909665004,
          -2.8795863017214867,
          -2.917656057871136,
          -2.9557844645719173,
          -2.9939647074998335,
          -3.0321900584945474,
          -3.070453880952454,
          -3.1087496349629196,
          -3.1470708821828373,
          -3.1854112904455163,
          -3.223764638100834,
          -3.262124818084419,
          -3.3004858417144773,
          -3.338841842215713,
          -3.3771870779705555,
          -3.415515935498695,
          -3.453822932166644,
          -3.4921027186297313,
          -3.5303500810096278,
          -3.568559942811091,
          -3.606727366582221,
          -3.6448475553230835,
          -3.6829158536480198,
          -3.720927748707489,
          -3.7588788708756637,
          -3.796764994210446,
          -3.8345820366928507,
          -3.8723260602530583,
          -3.909993270590741,
          -3.9475800167974047,
          -3.985082790788778,
          -4.022498226555382,
          -4.059823099239572,
          -4.097054324047443,
          -4.134188955003972,
          -4.1712241835599295,
          -4.208157337058974,
          -4.244985877073402,
          -4.2817073976168984,
          -4.31831962324262,
          -4.35482040703483,
          -4.391207728502143,
          -4.427479691380356,
          -4.463634521352632,
          -4.499670563694687,
          -4.535586280852407,
          -4.571380249959097,
          -4.607051160299449,
          -4.642597810726971,
          -4.678019107041514,
          -4.713314059333182,
          -4.74848177929876,
          -4.783521477536523,
          -4.818432460825005,
          -4.853214129391119,
          -4.887865974172691,
          -4.9223875740803065,
          -4.956778593263062,
          -4.991038778382541,
          -5.025167955899178,
          -5.059166029374827,
          -5.093032976795197,
          -5.126768847915505,
          -5.160373761632531,
          -5.193847903386011,
          -5.227191522592048,
          -5.26040493011109,
          -5.293488495752701,
          -5.326442645819284,
          -5.3592678606906174,
          -5.391964672450894,
          -5.424533662559849,
          -5.456975459569278,
          -5.489290736886183,
          -5.521480210583545,
          -5.553544637259613,
          -5.5854848119464835,
          -5.617301566068518,
          -5.648995765451124,
          -5.680568308380208,
          -5.712020123712566,
          -5.74335216903734,
          -5.774565428888538,
          -5.8056609130085635,
          -5.83663965466262,
          -5.867502709003694,
          -5.89825115148785,
          -5.928886076339395,
          -5.959408595065503,
          -5.98981983501975,
          -6.020120938013975,
          -6.05031305897788,
          -6.080397364665652,
          -6.110375032408927,
          -6.140247248915329,
          -6.170015209111778,
          -6.199680115031803,
          -6.229243174745968,
          -6.258705601334574,
          -6.288068611901736,
          -6.317333426629966,
          -6.346501267874306,
          -6.37557335929513,
          -6.40455092502865,
          -6.433435188894205,
          -6.462227373637408,
          -6.490928700208165,
          -6.519540387072667,
          -6.548063649558412,
          -6.57649969923129,
          -6.604849743303841,
          -6.633114984073746,
          -6.661296618391635,
          -6.6893958371573286,
          -6.717413824843582,
          -6.745351759046506,
          -6.773210810061731,
          -6.800992140485523,
          -6.828696904839962,
          -6.856326249221377,
          -6.883881310971226,
          -6.911363218368618,
          -6.938773090343712,
          -6.966112036211197,
          -6.993381155423146,
          -7.0205815373404965,
          -7.0477142610224215,
          -7.074780395032944,
          -7.10178099726406,
          -7.128717114774768,
          -7.155589783645308,
          -7.182400028845998,
          -7.209148864120091,
          -7.23583729188001,
          -7.262466303116419,
          -7.28903687731955,
          -7.315549982412254,
          -7.342006574694261,
          -7.368407598797105,
          -7.394753987649249,
          -7.421046662450926,
          -7.447286532658221,
          -7.473474495975958,
          -7.499611438358944,
          -7.525698234021178,
          -7.551735745452588,
          -7.577724823442933,
          -7.603666307112461,
          -7.6295610239490035,
          -7.65540978985112,
          -7.681213409176967,
          -7.706972674798558,
          -7.732688368161129,
          -7.7583612593472715,
          -7.783992107145571,
          -7.8095816591234435,
          -7.835130651703941,
          -7.86063981024624,
          -7.886109849129564,
          -7.911541471840332,
          -7.936935371062264,
          -7.96229222876926,
          -7.98761271632084,
          -8.01289749455991,
          -8.038147213912719,
          -8.063362514490766,
          -8.088544026194528
         ]
        },
        {
         "line": {
          "color": "rgba(62, 111, 176, 1.0)",
          "dash": "solid",
          "shape": "linear",
          "width": 1.3
         },
         "mode": "lines",
         "name": "pe_seg1",
         "text": "",
         "type": "scatter",
         "x": [
          0,
          1,
          2,
          3,
          4,
          5,
          6,
          7,
          8,
          9,
          10,
          11,
          12,
          13,
          14,
          15,
          16,
          17,
          18,
          19,
          20,
          21,
          22,
          23,
          24,
          25,
          26,
          27,
          28,
          29,
          30,
          31,
          32,
          33,
          34,
          35,
          36,
          37,
          38,
          39,
          40,
          41,
          42,
          43,
          44,
          45,
          46,
          47,
          48,
          49,
          50,
          51,
          52,
          53,
          54,
          55,
          56,
          57,
          58,
          59,
          60,
          61,
          62,
          63,
          64,
          65,
          66,
          67,
          68,
          69,
          70,
          71,
          72,
          73,
          74,
          75,
          76,
          77,
          78,
          79,
          80,
          81,
          82,
          83,
          84,
          85,
          86,
          87,
          88,
          89,
          90,
          91,
          92,
          93,
          94,
          95,
          96,
          97,
          98,
          99,
          100,
          101,
          102,
          103,
          104,
          105,
          106,
          107,
          108,
          109,
          110,
          111,
          112,
          113,
          114,
          115,
          116,
          117,
          118,
          119,
          120,
          121,
          122,
          123,
          124,
          125,
          126,
          127,
          128,
          129,
          130,
          131,
          132,
          133,
          134,
          135,
          136,
          137,
          138,
          139,
          140,
          141,
          142,
          143,
          144,
          145,
          146,
          147,
          148,
          149,
          150,
          151,
          152,
          153,
          154,
          155,
          156,
          157,
          158,
          159,
          160,
          161,
          162,
          163,
          164,
          165,
          166,
          167,
          168,
          169,
          170,
          171,
          172,
          173,
          174,
          175,
          176,
          177,
          178,
          179,
          180,
          181,
          182,
          183,
          184,
          185,
          186,
          187,
          188,
          189,
          190,
          191,
          192,
          193,
          194,
          195,
          196,
          197,
          198,
          199,
          200,
          201,
          202,
          203,
          204,
          205,
          206,
          207,
          208,
          209,
          210,
          211,
          212,
          213,
          214,
          215,
          216,
          217,
          218,
          219,
          220,
          221,
          222,
          223,
          224,
          225,
          226,
          227,
          228,
          229,
          230,
          231,
          232,
          233,
          234,
          235,
          236,
          237,
          238,
          239,
          240,
          241,
          242,
          243,
          244,
          245,
          246,
          247,
          248,
          249,
          250,
          251,
          252,
          253,
          254,
          255,
          256,
          257,
          258,
          259,
          260,
          261,
          262,
          263,
          264,
          265,
          266,
          267,
          268,
          269,
          270,
          271,
          272,
          273,
          274,
          275,
          276,
          277,
          278,
          279,
          280,
          281,
          282,
          283,
          284,
          285,
          286,
          287,
          288,
          289,
          290,
          291,
          292,
          293,
          294,
          295,
          296,
          297,
          298
         ],
         "y": [
          -0.11908833683118748,
          -0.12327133527554841,
          -0.12754767107037768,
          -0.13191880268604195,
          -0.13638619653441655,
          -0.14095132651478373,
          -0.14561567354151017,
          -0.150380725053354,
          -0.15524797450426914,
          -0.1602189208355898,
          -0.16529506792950335,
          -0.17047792404373882,
          -0.17576900122741723,
          -0.1811698147180383,
          -0.1866818823195978,
          -0.1923067237618588,
          -0.19804586004081823,
          -0.20390081274045044,
          -0.20987310333582204,
          -0.2159642524777137,
          -0.2221757792589077,
          -0.2285092004623305,
          -0.23496602979127554,
          -0.24154777708196198,
          -0.24825594749871224,
          -0.25509204071207797,
          -0.2620575500602654,
          -0.2691539616942547,
          -0.27638275370704163,
          -0.2837453952474643,
          -0.2912433456191191,
          -0.29887805336490286,
          -0.3066509553377592,
          -0.3145634757582425,
          -0.3226170252595561,
          -0.33081299992075175,
          -0.3391527802888252,
          -0.34763773039047313,
          -0.3562691967343213,
          -0.3650485073044671,
          -0.37397697054622003,
          -0.38305587434496347,
          -0.39228648499908914,
          -0.4016700461880041,
          -0.41120777793623675,
          -0.4209008755747036,
          -0.43075050870023934,
          -0.44075782013451603,
          -0.45092392488351357,
          -0.4612499090987367,
          -0.4717368290413935,
          -0.48238571005078795,
          -0.49319754551819506,
          -0.5041732958675182,
          -0.5153138875440478,
          -0.526620212012655,
          -0.538093124766781,
          -0.5497334443495929,
          -0.5615419513886851,
          -0.5735193876457293,
          -0.5856664550824717,
          -0.5979838149444845,
          -0.6104720868640887,
          -0.6231318479838553,
          -0.6359636321020945,
          -0.6489679288417383,
          -0.6621451828440079,
          -0.6754957929882496,
          -0.6890201116393058,
          -0.7027184439237737,
          -0.7165910470364746,
          -0.7306381295784428,
          -0.7448598509277105,
          -0.7592563206441254,
          -0.7738275979094311,
          -0.7885736910037648,
          -0.8034945568197189,
          -0.8185901004150575,
          -0.833860174605131,
          -0.8493045795959782,
          -0.8649230626590754,
          -0.8807153178486062,
          -0.8966809857620914,
          -0.912819653345148,
          -0.9291308537410883,
          -0.9456140661859974,
          -0.9622687159498705,
          -0.9790941743243171,
          -0.9960897586572625,
          -1.0132547324350138,
          -1.030588305411984,
          -1.048089633788268,
          -1.0657578204352325,
          -1.0835919151691524,
          -1.101590915072885,
          -1.119753764865479,
          -1.1380793573195325,
          -1.1565665337260402,
          -1.1752140844063892,
          -1.194020749271079,
          -1.2129852184246628,
          -1.2321061328163327,
          -1.2513820849354882,
          -1.270811619551549,
          -1.2903932344972056,
          -1.3101253814942195,
          -1.3300064670208114,
          -1.3500348532196131,
          -1.370208858845085,
          -1.3905267602492275,
          -1.4109867924043717,
          -1.4315871499617472,
          -1.452325988344489,
          -1.473201424873673,
          -1.4942115399259346,
          -1.51535437812115,
          -1.5366279495386508,
          -1.5580302309603595,
          -1.5795591671392248,
          -1.6012126720912874,
          -1.6229886304096817,
          -1.644884898598835,
          -1.666899306427133,
          -1.6890296582962638,
          -1.7112737346254654,
          -1.7336292932488746,
          -1.7560940708241706,
          -1.778665784250701,
          -1.8013421320952816,
          -1.8241207960238592,
          -1.8469994422372353,
          -1.8699757229090592,
          -1.8930472776243228,
          -1.916211734816581,
          -1.9394667132021763,
          -1.962809823209752,
          -1.9862386684033573,
          -2.009750846897511,
          -2.0333439527625874,
          -2.057015577418947,
          -2.080763311018274,
          -2.1045847438106158,
          -2.128477467495664,
          -2.152439076556878,
          -2.176467169577085,
          -2.200559350534244,
          -2.224713230076128,
          -2.2489264267727083,
          -2.273196568345107,
          -2.29752129287002,
          -2.3218982499585863,
          -2.3463251019087195,
          -2.370799524829998,
          -2.3953192097402694,
          -2.419881863633151,
          -2.4444852105157175,
          -2.469126992415705,
          -2.49380497035761,
          -2.5185169253071473,
          -2.5432606590835634,
          -2.568033995239398,
          -2.592834779907312,
          -2.6176608826136687,
          -2.6425101970586202,
          -2.6673806418625055,
          -2.6922701612784214,
          -2.717176725870865,
          -2.7420983331604267,
          -2.7670330082345536,
          -2.79197880432445,
          -2.816933803348218,
          -2.8418961164204215,
          -2.8668638843282745,
          -2.891835277974704,
          -2.9168084987885856,
          -2.9417817791024823,
          -2.9667533824982626,
          -2.9917216041210146,
          -3.016684770961681,
          -3.041641242108897,
          -3.066589408970559,
          -3.0915276954656266,
          -3.116454558186738,
          -3.1413684865342253,
          -3.1662680028221346,
          -3.1911516623568854,
          -3.2160180534892175,
          -3.2408657976400836,
          -3.2656935493011967,
          -3.2904999960109014,
          -3.3152838583060933,
          -3.3400438896508997,
          -3.3647788763428523,
          -3.389487637397297,
          -3.4141690244107648,
          -3.4388219214040547,
          -3.463445244645788,
          -3.488037942457184,
          -3.512598994998776,
          -3.5371274140398548,
          -3.5616222427113713,
          -3.586082555243038,
          -3.61050745668536,
          -3.6348960826173515,
          -3.659247598840629,
          -3.683561201060639,
          -3.70783611455569,
          -3.7320715938345126,
          -3.7562669222830247,
          -3.7804214118010036,
          -3.8045344024292826,
          -3.828605261968179,
          -3.8526333855877706,
          -3.876618195430647,
          -3.900559140207756,
          -3.924455694787949,
          -3.9483073597817966,
          -3.9721136611202734,
          -3.9958741496288392,
          -4.019588400597467,
          -4.043256013347153,
          -4.066876610793418,
          -4.090449839007266,
          -4.113975366774114,
          -4.13745288515114,
          -4.160882107023493,
          -4.184262766659797,
          -4.207594619267373,
          -4.2308774405475456,
          -4.254111026251481,
          -4.2772951917368465,
          -4.300429771525699,
          -4.323514618863919,
          -4.346549605282515,
          -4.369534620161111,
          -4.392469570293875,
          -4.415354379458237,
          -4.438188987986582,
          -4.460973352341223,
          -4.483707444692862,
          -4.506391252502773,
          -4.5290247781089175,
          -4.551608038316179,
          -4.5741410639909175,
          -4.5966238996599955,
          -4.619056603114467,
          -4.641439245018045,
          -4.663771908520499,
          -4.686054688876125,
          -4.7082876930673825,
          -4.730471039433814,
          -4.752604857306345,
          -4.7746892866470505,
          -4.796724477694471,
          -4.818710590614528,
          -4.84064779515713,
          -4.862536270318494,
          -4.8843762040092455,
          -4.9061677927283265,
          -4.92791124124273,
          -4.949606762273105,
          -4.971254576185247,
          -4.992854910687453,
          -5.014408000533779,
          -5.035914087233186,
          -5.057373418764563,
          -5.078786249297613,
          -5.100152838919589,
          -5.121473453367858,
          -5.142748363768264,
          -5.163977846379253,
          -5.185162182341725,
          -5.206301657434588,
          -5.227396561835959,
          -5.248447189889955,
          -5.2694538398790485,
          -5.290416813801923,
          -5.311336417156769,
          -5.332212958729969,
          -5.353046750390111,
          -5.373838106887269,
          -5.394587345657488,
          -5.415294786632402,
          -5.435960752053914,
          -5.456585566293885,
          -5.4771695556787545,
          -5.497713048319012,
          -5.5182163739434476,
          -5.538679863738128,
          -5.559103850190005,
          -5.5794886669350765,
          -5.5998346486110435,
          -5.6201421307143775,
          -5.640411449461709,
          -5.660642941655495,
          -5.680836944553836,
          -5.700993795744418,
          -5.721113833022473,
          -5.741197394272685
         ]
        }
       ],
       "layout": {
        "legend": {
         "bgcolor": "#FFFFFF",
         "font": {
          "color": "#666666"
         }
        },
        "paper_bgcolor": "#FFFFFF",
        "plot_bgcolor": "#E5E5E5",
        "template": {
         "data": {
          "bar": [
           {
            "error_x": {
             "color": "#2a3f5f"
            },
            "error_y": {
             "color": "#2a3f5f"
            },
            "marker": {
             "line": {
              "color": "#E5ECF6",
              "width": 0.5
             },
             "pattern": {
              "fillmode": "overlay",
              "size": 10,
              "solidity": 0.2
             }
            },
            "type": "bar"
           }
          ],
          "barpolar": [
           {
            "marker": {
             "line": {
              "color": "#E5ECF6",
              "width": 0.5
             },
             "pattern": {
              "fillmode": "overlay",
              "size": 10,
              "solidity": 0.2
             }
            },
            "type": "barpolar"
           }
          ],
          "carpet": [
           {
            "aaxis": {
             "endlinecolor": "#2a3f5f",
             "gridcolor": "white",
             "linecolor": "white",
             "minorgridcolor": "white",
             "startlinecolor": "#2a3f5f"
            },
            "baxis": {
             "endlinecolor": "#2a3f5f",
             "gridcolor": "white",
             "linecolor": "white",
             "minorgridcolor": "white",
             "startlinecolor": "#2a3f5f"
            },
            "type": "carpet"
           }
          ],
          "choropleth": [
           {
            "colorbar": {
             "outlinewidth": 0,
             "ticks": ""
            },
            "type": "choropleth"
           }
          ],
          "contour": [
           {
            "colorbar": {
             "outlinewidth": 0,
             "ticks": ""
            },
            "colorscale": [
             [
              0,
              "#0d0887"
             ],
             [
              0.1111111111111111,
              "#46039f"
             ],
             [
              0.2222222222222222,
              "#7201a8"
             ],
             [
              0.3333333333333333,
              "#9c179e"
             ],
             [
              0.4444444444444444,
              "#bd3786"
             ],
             [
              0.5555555555555556,
              "#d8576b"
             ],
             [
              0.6666666666666666,
              "#ed7953"
             ],
             [
              0.7777777777777778,
              "#fb9f3a"
             ],
             [
              0.8888888888888888,
              "#fdca26"
             ],
             [
              1,
              "#f0f921"
             ]
            ],
            "type": "contour"
           }
          ],
          "contourcarpet": [
           {
            "colorbar": {
             "outlinewidth": 0,
             "ticks": ""
            },
            "type": "contourcarpet"
           }
          ],
          "heatmap": [
           {
            "colorbar": {
             "outlinewidth": 0,
             "ticks": ""
            },
            "colorscale": [
             [
              0,
              "#0d0887"
             ],
             [
              0.1111111111111111,
              "#46039f"
             ],
             [
              0.2222222222222222,
              "#7201a8"
             ],
             [
              0.3333333333333333,
              "#9c179e"
             ],
             [
              0.4444444444444444,
              "#bd3786"
             ],
             [
              0.5555555555555556,
              "#d8576b"
             ],
             [
              0.6666666666666666,
              "#ed7953"
             ],
             [
              0.7777777777777778,
              "#fb9f3a"
             ],
             [
              0.8888888888888888,
              "#fdca26"
             ],
             [
              1,
              "#f0f921"
             ]
            ],
            "type": "heatmap"
           }
          ],
          "heatmapgl": [
           {
            "colorbar": {
             "outlinewidth": 0,
             "ticks": ""
            },
            "colorscale": [
             [
              0,
              "#0d0887"
             ],
             [
              0.1111111111111111,
              "#46039f"
             ],
             [
              0.2222222222222222,
              "#7201a8"
             ],
             [
              0.3333333333333333,
              "#9c179e"
             ],
             [
              0.4444444444444444,
              "#bd3786"
             ],
             [
              0.5555555555555556,
              "#d8576b"
             ],
             [
              0.6666666666666666,
              "#ed7953"
             ],
             [
              0.7777777777777778,
              "#fb9f3a"
             ],
             [
              0.8888888888888888,
              "#fdca26"
             ],
             [
              1,
              "#f0f921"
             ]
            ],
            "type": "heatmapgl"
           }
          ],
          "histogram": [
           {
            "marker": {
             "pattern": {
              "fillmode": "overlay",
              "size": 10,
              "solidity": 0.2
             }
            },
            "type": "histogram"
           }
          ],
          "histogram2d": [
           {
            "colorbar": {
             "outlinewidth": 0,
             "ticks": ""
            },
            "colorscale": [
             [
              0,
              "#0d0887"
             ],
             [
              0.1111111111111111,
              "#46039f"
             ],
             [
              0.2222222222222222,
              "#7201a8"
             ],
             [
              0.3333333333333333,
              "#9c179e"
             ],
             [
              0.4444444444444444,
              "#bd3786"
             ],
             [
              0.5555555555555556,
              "#d8576b"
             ],
             [
              0.6666666666666666,
              "#ed7953"
             ],
             [
              0.7777777777777778,
              "#fb9f3a"
             ],
             [
              0.8888888888888888,
              "#fdca26"
             ],
             [
              1,
              "#f0f921"
             ]
            ],
            "type": "histogram2d"
           }
          ],
          "histogram2dcontour": [
           {
            "colorbar": {
             "outlinewidth": 0,
             "ticks": ""
            },
            "colorscale": [
             [
              0,
              "#0d0887"
             ],
             [
              0.1111111111111111,
              "#46039f"
             ],
             [
              0.2222222222222222,
              "#7201a8"
             ],
             [
              0.3333333333333333,
              "#9c179e"
             ],
             [
              0.4444444444444444,
              "#bd3786"
             ],
             [
              0.5555555555555556,
              "#d8576b"
             ],
             [
              0.6666666666666666,
              "#ed7953"
             ],
             [
              0.7777777777777778,
              "#fb9f3a"
             ],
             [
              0.8888888888888888,
              "#fdca26"
             ],
             [
              1,
              "#f0f921"
             ]
            ],
            "type": "histogram2dcontour"
           }
          ],
          "mesh3d": [
           {
            "colorbar": {
             "outlinewidth": 0,
             "ticks": ""
            },
            "type": "mesh3d"
           }
          ],
          "parcoords": [
           {
            "line": {
             "colorbar": {
              "outlinewidth": 0,
              "ticks": ""
             }
            },
            "type": "parcoords"
           }
          ],
          "pie": [
           {
            "automargin": true,
            "type": "pie"
           }
          ],
          "scatter": [
           {
            "marker": {
             "colorbar": {
              "outlinewidth": 0,
              "ticks": ""
             }
            },
            "type": "scatter"
           }
          ],
          "scatter3d": [
           {
            "line": {
             "colorbar": {
              "outlinewidth": 0,
              "ticks": ""
             }
            },
            "marker": {
             "colorbar": {
              "outlinewidth": 0,
              "ticks": ""
             }
            },
            "type": "scatter3d"
           }
          ],
          "scattercarpet": [
           {
            "marker": {
             "colorbar": {
              "outlinewidth": 0,
              "ticks": ""
             }
            },
            "type": "scattercarpet"
           }
          ],
          "scattergeo": [
           {
            "marker": {
             "colorbar": {
              "outlinewidth": 0,
              "ticks": ""
             }
            },
            "type": "scattergeo"
           }
          ],
          "scattergl": [
           {
            "marker": {
             "colorbar": {
              "outlinewidth": 0,
              "ticks": ""
             }
            },
            "type": "scattergl"
           }
          ],
          "scattermapbox": [
           {
            "marker": {
             "colorbar": {
              "outlinewidth": 0,
              "ticks": ""
             }
            },
            "type": "scattermapbox"
           }
          ],
          "scatterpolar": [
           {
            "marker": {
             "colorbar": {
              "outlinewidth": 0,
              "ticks": ""
             }
            },
            "type": "scatterpolar"
           }
          ],
          "scatterpolargl": [
           {
            "marker": {
             "colorbar": {
              "outlinewidth": 0,
              "ticks": ""
             }
            },
            "type": "scatterpolargl"
           }
          ],
          "scatterternary": [
           {
            "marker": {
             "colorbar": {
              "outlinewidth": 0,
              "ticks": ""
             }
            },
            "type": "scatterternary"
           }
          ],
          "surface": [
           {
            "colorbar": {
             "outlinewidth": 0,
             "ticks": ""
            },
            "colorscale": [
             [
              0,
              "#0d0887"
             ],
             [
              0.1111111111111111,
              "#46039f"
             ],
             [
              0.2222222222222222,
              "#7201a8"
             ],
             [
              0.3333333333333333,
              "#9c179e"
             ],
             [
              0.4444444444444444,
              "#bd3786"
             ],
             [
              0.5555555555555556,
              "#d8576b"
             ],
             [
              0.6666666666666666,
              "#ed7953"
             ],
             [
              0.7777777777777778,
              "#fb9f3a"
             ],
             [
              0.8888888888888888,
              "#fdca26"
             ],
             [
              1,
              "#f0f921"
             ]
            ],
            "type": "surface"
           }
          ],
          "table": [
           {
            "cells": {
             "fill": {
              "color": "#EBF0F8"
             },
             "line": {
              "color": "white"
             }
            },
            "header": {
             "fill": {
              "color": "#C8D4E3"
             },
             "line": {
              "color": "white"
             }
            },
            "type": "table"
           }
          ]
         },
         "layout": {
          "annotationdefaults": {
           "arrowcolor": "#2a3f5f",
           "arrowhead": 0,
           "arrowwidth": 1
          },
          "autotypenumbers": "strict",
          "coloraxis": {
           "colorbar": {
            "outlinewidth": 0,
            "ticks": ""
           }
          },
          "colorscale": {
           "diverging": [
            [
             0,
             "#8e0152"
            ],
            [
             0.1,
             "#c51b7d"
            ],
            [
             0.2,
             "#de77ae"
            ],
            [
             0.3,
             "#f1b6da"
            ],
            [
             0.4,
             "#fde0ef"
            ],
            [
             0.5,
             "#f7f7f7"
            ],
            [
             0.6,
             "#e6f5d0"
            ],
            [
             0.7,
             "#b8e186"
            ],
            [
             0.8,
             "#7fbc41"
            ],
            [
             0.9,
             "#4d9221"
            ],
            [
             1,
             "#276419"
            ]
           ],
           "sequential": [
            [
             0,
             "#0d0887"
            ],
            [
             0.1111111111111111,
             "#46039f"
            ],
            [
             0.2222222222222222,
             "#7201a8"
            ],
            [
             0.3333333333333333,
             "#9c179e"
            ],
            [
             0.4444444444444444,
             "#bd3786"
            ],
            [
             0.5555555555555556,
             "#d8576b"
            ],
            [
             0.6666666666666666,
             "#ed7953"
            ],
            [
             0.7777777777777778,
             "#fb9f3a"
            ],
            [
             0.8888888888888888,
             "#fdca26"
            ],
            [
             1,
             "#f0f921"
            ]
           ],
           "sequentialminus": [
            [
             0,
             "#0d0887"
            ],
            [
             0.1111111111111111,
             "#46039f"
            ],
            [
             0.2222222222222222,
             "#7201a8"
            ],
            [
             0.3333333333333333,
             "#9c179e"
            ],
            [
             0.4444444444444444,
             "#bd3786"
            ],
            [
             0.5555555555555556,
             "#d8576b"
            ],
            [
             0.6666666666666666,
             "#ed7953"
            ],
            [
             0.7777777777777778,
             "#fb9f3a"
            ],
            [
             0.8888888888888888,
             "#fdca26"
            ],
            [
             1,
             "#f0f921"
            ]
           ]
          },
          "colorway": [
           "#636efa",
           "#EF553B",
           "#00cc96",
           "#ab63fa",
           "#FFA15A",
           "#19d3f3",
           "#FF6692",
           "#B6E880",
           "#FF97FF",
           "#FECB52"
          ],
          "font": {
           "color": "#2a3f5f"
          },
          "geo": {
           "bgcolor": "white",
           "lakecolor": "white",
           "landcolor": "#E5ECF6",
           "showlakes": true,
           "showland": true,
           "subunitcolor": "white"
          },
          "hoverlabel": {
           "align": "left"
          },
          "hovermode": "closest",
          "mapbox": {
           "style": "light"
          },
          "paper_bgcolor": "white",
          "plot_bgcolor": "#E5ECF6",
          "polar": {
           "angularaxis": {
            "gridcolor": "white",
            "linecolor": "white",
            "ticks": ""
           },
           "bgcolor": "#E5ECF6",
           "radialaxis": {
            "gridcolor": "white",
            "linecolor": "white",
            "ticks": ""
           }
          },
          "scene": {
           "xaxis": {
            "backgroundcolor": "#E5ECF6",
            "gridcolor": "white",
            "gridwidth": 2,
            "linecolor": "white",
            "showbackground": true,
            "ticks": "",
            "zerolinecolor": "white"
           },
           "yaxis": {
            "backgroundcolor": "#E5ECF6",
            "gridcolor": "white",
            "gridwidth": 2,
            "linecolor": "white",
            "showbackground": true,
            "ticks": "",
            "zerolinecolor": "white"
           },
           "zaxis": {
            "backgroundcolor": "#E5ECF6",
            "gridcolor": "white",
            "gridwidth": 2,
            "linecolor": "white",
            "showbackground": true,
            "ticks": "",
            "zerolinecolor": "white"
           }
          },
          "shapedefaults": {
           "line": {
            "color": "#2a3f5f"
           }
          },
          "ternary": {
           "aaxis": {
            "gridcolor": "white",
            "linecolor": "white",
            "ticks": ""
           },
           "baxis": {
            "gridcolor": "white",
            "linecolor": "white",
            "ticks": ""
           },
           "bgcolor": "#E5ECF6",
           "caxis": {
            "gridcolor": "white",
            "linecolor": "white",
            "ticks": ""
           }
          },
          "title": {
           "x": 0.05
          },
          "xaxis": {
           "automargin": true,
           "gridcolor": "white",
           "linecolor": "white",
           "ticks": "",
           "title": {
            "standoff": 15
           },
           "zerolinecolor": "white",
           "zerolinewidth": 2
          },
          "yaxis": {
           "automargin": true,
           "gridcolor": "white",
           "linecolor": "white",
           "ticks": "",
           "title": {
            "standoff": 15
           },
           "zerolinecolor": "white",
           "zerolinewidth": 2
          }
         }
        },
        "title": {
         "font": {
          "color": "#151516"
         },
         "text": "Price Elasticity of Purchase Probability"
        },
        "xaxis": {
         "gridcolor": "#F6F6F6",
         "showgrid": true,
         "tickfont": {
          "color": "#666666"
         },
         "title": {
          "font": {
           "color": "#666666"
          },
          "text": "Prices"
         },
         "zerolinecolor": "#F6F6F6"
        },
        "yaxis": {
         "gridcolor": "#F6F6F6",
         "showgrid": true,
         "tickfont": {
          "color": "#666666"
         },
         "title": {
          "font": {
           "color": "#666666"
          },
          "text": "Elasticyti"
         },
         "zerolinecolor": "#F6F6F6"
        }
       }
      },
      "text/html": [
       "<div>                            <div id=\"b3aca483-26d2-4fdb-bfe3-928a8657acaa\" class=\"plotly-graph-div\" style=\"height:525px; width:100%;\"></div>            <script type=\"text/javascript\">                require([\"plotly\"], function(Plotly) {                    window.PLOTLYENV=window.PLOTLYENV || {};\n",
       "                    window.PLOTLYENV.BASE_URL='https://plot.ly';                                    if (document.getElementById(\"b3aca483-26d2-4fdb-bfe3-928a8657acaa\")) {                    Plotly.newPlot(                        \"b3aca483-26d2-4fdb-bfe3-928a8657acaa\",                        [{\"line\":{\"color\":\"rgba(226, 74, 51, 1.0)\",\"dash\":\"solid\",\"shape\":\"linear\",\"width\":1.3},\"mode\":\"lines\",\"name\":\"means\",\"text\":\"\",\"type\":\"scatter\",\"x\":[0,1,2,3,4,5,6,7,8,9,10,11,12,13,14,15,16,17,18,19,20,21,22,23,24,25,26,27,28,29,30,31,32,33,34,35,36,37,38,39,40,41,42,43,44,45,46,47,48,49,50,51,52,53,54,55,56,57,58,59,60,61,62,63,64,65,66,67,68,69,70,71,72,73,74,75,76,77,78,79,80,81,82,83,84,85,86,87,88,89,90,91,92,93,94,95,96,97,98,99,100,101,102,103,104,105,106,107,108,109,110,111,112,113,114,115,116,117,118,119,120,121,122,123,124,125,126,127,128,129,130,131,132,133,134,135,136,137,138,139,140,141,142,143,144,145,146,147,148,149,150,151,152,153,154,155,156,157,158,159,160,161,162,163,164,165,166,167,168,169,170,171,172,173,174,175,176,177,178,179,180,181,182,183,184,185,186,187,188,189,190,191,192,193,194,195,196,197,198,199,200,201,202,203,204,205,206,207,208,209,210,211,212,213,214,215,216,217,218,219,220,221,222,223,224,225,226,227,228,229,230,231,232,233,234,235,236,237,238,239,240,241,242,243,244,245,246,247,248,249,250,251,252,253,254,255,256,257,258,259,260,261,262,263,264,265,266,267,268,269,270,271,272,273,274,275,276,277,278,279,280,281,282,283,284,285,286,287,288,289,290,291,292,293,294,295,296,297,298],\"y\":[-0.09639582835550818,-0.1004637808378074,-0.10465871295685428,-0.10898377680221519,-0.11344217636988857,-0.11803716724584516,-0.12277205621830221,-0.12765020081564188,-0.1326750087668632,-0.13784993738143306,-0.14317849284538883,-0.1486642294305424,-0.1543107486136332,-0.16012169810230112,-0.16610077076475585,-0.1722517034600683,-0.17857827576603527,-0.18508430860163935,-0.1917736627411797,-0.19865023721723274,-0.2057179676096963,-0.21298082421827,-0.22044281011585537,-0.22810795908048173,-0.2359803334035274,-0.24406402157216261,-0.2523631358241361,-0.260881809573209,-0.2696241947037813,-0.2785944587334742,-0.28779678184268853,-0.29723535377044064,-0.3069143705760559,-0.3168380312666112,-0.3270105342903539,-0.3374360738966548,-0.3481188363634276,-0.35906299609332337,-0.37027271158040503,-0.38175212124943075,-0.3935053391702859,-0.40553645065057636,-0.4178495077098337,-0.43044852443926523,-0.44333747225147,-0.45652027502503306,-0.4700008041494144,-0.4837828734760723,-0.4978702341822635,-0.5122665695545021,-0.5269754896991677,-0.5420005261882914,-0.5573451266490582,-0.5730126493060863,-0.5890063574860548,-0.6053294140947395,-0.6219848760770132,-0.6389756888708261,-0.6563046808666336,-0.6739745578841806,-0.691987897678924,-0.7103471444907874,-0.7290546036482526,-0.7481124362411287,-0.7675226538755934,-0.7872871135253473,-0.8074075124929082,-0.8278853834952064,-0.8487220898877725,-0.8699188210418003,-0.8914765878884272,-0.9133962186444572,-0.935678354733667,-0.9583234469176521,-0.9813317516499339,-1.0047033276667483,-1.0284380328276022,-1.0525355212182401,-1.0769952405282028,-1.1018164297146216,-1.1269981169632861,-1.1525391179573687,-1.1784380344634806,-1.2046932532439603,-1.2313029453034738,-1.2582650654771372,-1.2855773523664475,-1.3132373286283523,-1.3412423016217858,-1.3695893644149557,-1.398275397155605,-1.427297068805371,-1.4566508392382513,-1.486332961702065,-1.5163394856406287,-1.546666259873249,-1.577308936126969,-1.6082629729158702,-1.639523639760603,-1.671086021740211,-1.7029450243672268,-1.7350953787759564,-1.767531647212856,-1.8002482288169137,-1.8332393656770147,-1.8664991491523926,-1.900021526441418,-1.9338003073832226,-1.9678291714759364,-2.002101675094665,-2.036611258891794,-2.0713512553616478,-2.1063148965511616,-2.14149532189783,-2.1768855861759557,-2.212478667531971,-2.2482674755895693,-2.2842448596052503,-2.320403616654988,-2.356736499832812,-2.3932362264422826,-2.4298954861620965,-2.466706949167414,-2.503663274188856,-2.5407571164916156,-2.577981135757624,-2.6153280038543185,-2.6527904124741566,-2.6903610806297356,-2.7280327619900855,-2.765798252044451,-2.8036503950807288,-2.8415820909665004,-2.8795863017214867,-2.917656057871136,-2.9557844645719173,-2.9939647074998335,-3.0321900584945474,-3.070453880952454,-3.1087496349629196,-3.1470708821828373,-3.1854112904455163,-3.223764638100834,-3.262124818084419,-3.3004858417144773,-3.338841842215713,-3.3771870779705555,-3.415515935498695,-3.453822932166644,-3.4921027186297313,-3.5303500810096278,-3.568559942811091,-3.606727366582221,-3.6448475553230835,-3.6829158536480198,-3.720927748707489,-3.7588788708756637,-3.796764994210446,-3.8345820366928507,-3.8723260602530583,-3.909993270590741,-3.9475800167974047,-3.985082790788778,-4.022498226555382,-4.059823099239572,-4.097054324047443,-4.134188955003972,-4.1712241835599295,-4.208157337058974,-4.244985877073402,-4.2817073976168984,-4.31831962324262,-4.35482040703483,-4.391207728502143,-4.427479691380356,-4.463634521352632,-4.499670563694687,-4.535586280852407,-4.571380249959097,-4.607051160299449,-4.642597810726971,-4.678019107041514,-4.713314059333182,-4.74848177929876,-4.783521477536523,-4.818432460825005,-4.853214129391119,-4.887865974172691,-4.9223875740803065,-4.956778593263062,-4.991038778382541,-5.025167955899178,-5.059166029374827,-5.093032976795197,-5.126768847915505,-5.160373761632531,-5.193847903386011,-5.227191522592048,-5.26040493011109,-5.293488495752701,-5.326442645819284,-5.3592678606906174,-5.391964672450894,-5.424533662559849,-5.456975459569278,-5.489290736886183,-5.521480210583545,-5.553544637259613,-5.5854848119464835,-5.617301566068518,-5.648995765451124,-5.680568308380208,-5.712020123712566,-5.74335216903734,-5.774565428888538,-5.8056609130085635,-5.83663965466262,-5.867502709003694,-5.89825115148785,-5.928886076339395,-5.959408595065503,-5.98981983501975,-6.020120938013975,-6.05031305897788,-6.080397364665652,-6.110375032408927,-6.140247248915329,-6.170015209111778,-6.199680115031803,-6.229243174745968,-6.258705601334574,-6.288068611901736,-6.317333426629966,-6.346501267874306,-6.37557335929513,-6.40455092502865,-6.433435188894205,-6.462227373637408,-6.490928700208165,-6.519540387072667,-6.548063649558412,-6.57649969923129,-6.604849743303841,-6.633114984073746,-6.661296618391635,-6.6893958371573286,-6.717413824843582,-6.745351759046506,-6.773210810061731,-6.800992140485523,-6.828696904839962,-6.856326249221377,-6.883881310971226,-6.911363218368618,-6.938773090343712,-6.966112036211197,-6.993381155423146,-7.0205815373404965,-7.0477142610224215,-7.074780395032944,-7.10178099726406,-7.128717114774768,-7.155589783645308,-7.182400028845998,-7.209148864120091,-7.23583729188001,-7.262466303116419,-7.28903687731955,-7.315549982412254,-7.342006574694261,-7.368407598797105,-7.394753987649249,-7.421046662450926,-7.447286532658221,-7.473474495975958,-7.499611438358944,-7.525698234021178,-7.551735745452588,-7.577724823442933,-7.603666307112461,-7.6295610239490035,-7.65540978985112,-7.681213409176967,-7.706972674798558,-7.732688368161129,-7.7583612593472715,-7.783992107145571,-7.8095816591234435,-7.835130651703941,-7.86063981024624,-7.886109849129564,-7.911541471840332,-7.936935371062264,-7.96229222876926,-7.98761271632084,-8.01289749455991,-8.038147213912719,-8.063362514490766,-8.088544026194528]},{\"line\":{\"color\":\"rgba(62, 111, 176, 1.0)\",\"dash\":\"solid\",\"shape\":\"linear\",\"width\":1.3},\"mode\":\"lines\",\"name\":\"pe_seg1\",\"text\":\"\",\"type\":\"scatter\",\"x\":[0,1,2,3,4,5,6,7,8,9,10,11,12,13,14,15,16,17,18,19,20,21,22,23,24,25,26,27,28,29,30,31,32,33,34,35,36,37,38,39,40,41,42,43,44,45,46,47,48,49,50,51,52,53,54,55,56,57,58,59,60,61,62,63,64,65,66,67,68,69,70,71,72,73,74,75,76,77,78,79,80,81,82,83,84,85,86,87,88,89,90,91,92,93,94,95,96,97,98,99,100,101,102,103,104,105,106,107,108,109,110,111,112,113,114,115,116,117,118,119,120,121,122,123,124,125,126,127,128,129,130,131,132,133,134,135,136,137,138,139,140,141,142,143,144,145,146,147,148,149,150,151,152,153,154,155,156,157,158,159,160,161,162,163,164,165,166,167,168,169,170,171,172,173,174,175,176,177,178,179,180,181,182,183,184,185,186,187,188,189,190,191,192,193,194,195,196,197,198,199,200,201,202,203,204,205,206,207,208,209,210,211,212,213,214,215,216,217,218,219,220,221,222,223,224,225,226,227,228,229,230,231,232,233,234,235,236,237,238,239,240,241,242,243,244,245,246,247,248,249,250,251,252,253,254,255,256,257,258,259,260,261,262,263,264,265,266,267,268,269,270,271,272,273,274,275,276,277,278,279,280,281,282,283,284,285,286,287,288,289,290,291,292,293,294,295,296,297,298],\"y\":[-0.11908833683118748,-0.12327133527554841,-0.12754767107037768,-0.13191880268604195,-0.13638619653441655,-0.14095132651478373,-0.14561567354151017,-0.150380725053354,-0.15524797450426914,-0.1602189208355898,-0.16529506792950335,-0.17047792404373882,-0.17576900122741723,-0.1811698147180383,-0.1866818823195978,-0.1923067237618588,-0.19804586004081823,-0.20390081274045044,-0.20987310333582204,-0.2159642524777137,-0.2221757792589077,-0.2285092004623305,-0.23496602979127554,-0.24154777708196198,-0.24825594749871224,-0.25509204071207797,-0.2620575500602654,-0.2691539616942547,-0.27638275370704163,-0.2837453952474643,-0.2912433456191191,-0.29887805336490286,-0.3066509553377592,-0.3145634757582425,-0.3226170252595561,-0.33081299992075175,-0.3391527802888252,-0.34763773039047313,-0.3562691967343213,-0.3650485073044671,-0.37397697054622003,-0.38305587434496347,-0.39228648499908914,-0.4016700461880041,-0.41120777793623675,-0.4209008755747036,-0.43075050870023934,-0.44075782013451603,-0.45092392488351357,-0.4612499090987367,-0.4717368290413935,-0.48238571005078795,-0.49319754551819506,-0.5041732958675182,-0.5153138875440478,-0.526620212012655,-0.538093124766781,-0.5497334443495929,-0.5615419513886851,-0.5735193876457293,-0.5856664550824717,-0.5979838149444845,-0.6104720868640887,-0.6231318479838553,-0.6359636321020945,-0.6489679288417383,-0.6621451828440079,-0.6754957929882496,-0.6890201116393058,-0.7027184439237737,-0.7165910470364746,-0.7306381295784428,-0.7448598509277105,-0.7592563206441254,-0.7738275979094311,-0.7885736910037648,-0.8034945568197189,-0.8185901004150575,-0.833860174605131,-0.8493045795959782,-0.8649230626590754,-0.8807153178486062,-0.8966809857620914,-0.912819653345148,-0.9291308537410883,-0.9456140661859974,-0.9622687159498705,-0.9790941743243171,-0.9960897586572625,-1.0132547324350138,-1.030588305411984,-1.048089633788268,-1.0657578204352325,-1.0835919151691524,-1.101590915072885,-1.119753764865479,-1.1380793573195325,-1.1565665337260402,-1.1752140844063892,-1.194020749271079,-1.2129852184246628,-1.2321061328163327,-1.2513820849354882,-1.270811619551549,-1.2903932344972056,-1.3101253814942195,-1.3300064670208114,-1.3500348532196131,-1.370208858845085,-1.3905267602492275,-1.4109867924043717,-1.4315871499617472,-1.452325988344489,-1.473201424873673,-1.4942115399259346,-1.51535437812115,-1.5366279495386508,-1.5580302309603595,-1.5795591671392248,-1.6012126720912874,-1.6229886304096817,-1.644884898598835,-1.666899306427133,-1.6890296582962638,-1.7112737346254654,-1.7336292932488746,-1.7560940708241706,-1.778665784250701,-1.8013421320952816,-1.8241207960238592,-1.8469994422372353,-1.8699757229090592,-1.8930472776243228,-1.916211734816581,-1.9394667132021763,-1.962809823209752,-1.9862386684033573,-2.009750846897511,-2.0333439527625874,-2.057015577418947,-2.080763311018274,-2.1045847438106158,-2.128477467495664,-2.152439076556878,-2.176467169577085,-2.200559350534244,-2.224713230076128,-2.2489264267727083,-2.273196568345107,-2.29752129287002,-2.3218982499585863,-2.3463251019087195,-2.370799524829998,-2.3953192097402694,-2.419881863633151,-2.4444852105157175,-2.469126992415705,-2.49380497035761,-2.5185169253071473,-2.5432606590835634,-2.568033995239398,-2.592834779907312,-2.6176608826136687,-2.6425101970586202,-2.6673806418625055,-2.6922701612784214,-2.717176725870865,-2.7420983331604267,-2.7670330082345536,-2.79197880432445,-2.816933803348218,-2.8418961164204215,-2.8668638843282745,-2.891835277974704,-2.9168084987885856,-2.9417817791024823,-2.9667533824982626,-2.9917216041210146,-3.016684770961681,-3.041641242108897,-3.066589408970559,-3.0915276954656266,-3.116454558186738,-3.1413684865342253,-3.1662680028221346,-3.1911516623568854,-3.2160180534892175,-3.2408657976400836,-3.2656935493011967,-3.2904999960109014,-3.3152838583060933,-3.3400438896508997,-3.3647788763428523,-3.389487637397297,-3.4141690244107648,-3.4388219214040547,-3.463445244645788,-3.488037942457184,-3.512598994998776,-3.5371274140398548,-3.5616222427113713,-3.586082555243038,-3.61050745668536,-3.6348960826173515,-3.659247598840629,-3.683561201060639,-3.70783611455569,-3.7320715938345126,-3.7562669222830247,-3.7804214118010036,-3.8045344024292826,-3.828605261968179,-3.8526333855877706,-3.876618195430647,-3.900559140207756,-3.924455694787949,-3.9483073597817966,-3.9721136611202734,-3.9958741496288392,-4.019588400597467,-4.043256013347153,-4.066876610793418,-4.090449839007266,-4.113975366774114,-4.13745288515114,-4.160882107023493,-4.184262766659797,-4.207594619267373,-4.2308774405475456,-4.254111026251481,-4.2772951917368465,-4.300429771525699,-4.323514618863919,-4.346549605282515,-4.369534620161111,-4.392469570293875,-4.415354379458237,-4.438188987986582,-4.460973352341223,-4.483707444692862,-4.506391252502773,-4.5290247781089175,-4.551608038316179,-4.5741410639909175,-4.5966238996599955,-4.619056603114467,-4.641439245018045,-4.663771908520499,-4.686054688876125,-4.7082876930673825,-4.730471039433814,-4.752604857306345,-4.7746892866470505,-4.796724477694471,-4.818710590614528,-4.84064779515713,-4.862536270318494,-4.8843762040092455,-4.9061677927283265,-4.92791124124273,-4.949606762273105,-4.971254576185247,-4.992854910687453,-5.014408000533779,-5.035914087233186,-5.057373418764563,-5.078786249297613,-5.100152838919589,-5.121473453367858,-5.142748363768264,-5.163977846379253,-5.185162182341725,-5.206301657434588,-5.227396561835959,-5.248447189889955,-5.2694538398790485,-5.290416813801923,-5.311336417156769,-5.332212958729969,-5.353046750390111,-5.373838106887269,-5.394587345657488,-5.415294786632402,-5.435960752053914,-5.456585566293885,-5.4771695556787545,-5.497713048319012,-5.5182163739434476,-5.538679863738128,-5.559103850190005,-5.5794886669350765,-5.5998346486110435,-5.6201421307143775,-5.640411449461709,-5.660642941655495,-5.680836944553836,-5.700993795744418,-5.721113833022473,-5.741197394272685]}],                        {\"legend\":{\"bgcolor\":\"#FFFFFF\",\"font\":{\"color\":\"#666666\"}},\"paper_bgcolor\":\"#FFFFFF\",\"plot_bgcolor\":\"#E5E5E5\",\"template\":{\"data\":{\"bar\":[{\"error_x\":{\"color\":\"#2a3f5f\"},\"error_y\":{\"color\":\"#2a3f5f\"},\"marker\":{\"line\":{\"color\":\"#E5ECF6\",\"width\":0.5},\"pattern\":{\"fillmode\":\"overlay\",\"size\":10,\"solidity\":0.2}},\"type\":\"bar\"}],\"barpolar\":[{\"marker\":{\"line\":{\"color\":\"#E5ECF6\",\"width\":0.5},\"pattern\":{\"fillmode\":\"overlay\",\"size\":10,\"solidity\":0.2}},\"type\":\"barpolar\"}],\"carpet\":[{\"aaxis\":{\"endlinecolor\":\"#2a3f5f\",\"gridcolor\":\"white\",\"linecolor\":\"white\",\"minorgridcolor\":\"white\",\"startlinecolor\":\"#2a3f5f\"},\"baxis\":{\"endlinecolor\":\"#2a3f5f\",\"gridcolor\":\"white\",\"linecolor\":\"white\",\"minorgridcolor\":\"white\",\"startlinecolor\":\"#2a3f5f\"},\"type\":\"carpet\"}],\"choropleth\":[{\"colorbar\":{\"outlinewidth\":0,\"ticks\":\"\"},\"type\":\"choropleth\"}],\"contour\":[{\"colorbar\":{\"outlinewidth\":0,\"ticks\":\"\"},\"colorscale\":[[0.0,\"#0d0887\"],[0.1111111111111111,\"#46039f\"],[0.2222222222222222,\"#7201a8\"],[0.3333333333333333,\"#9c179e\"],[0.4444444444444444,\"#bd3786\"],[0.5555555555555556,\"#d8576b\"],[0.6666666666666666,\"#ed7953\"],[0.7777777777777778,\"#fb9f3a\"],[0.8888888888888888,\"#fdca26\"],[1.0,\"#f0f921\"]],\"type\":\"contour\"}],\"contourcarpet\":[{\"colorbar\":{\"outlinewidth\":0,\"ticks\":\"\"},\"type\":\"contourcarpet\"}],\"heatmap\":[{\"colorbar\":{\"outlinewidth\":0,\"ticks\":\"\"},\"colorscale\":[[0.0,\"#0d0887\"],[0.1111111111111111,\"#46039f\"],[0.2222222222222222,\"#7201a8\"],[0.3333333333333333,\"#9c179e\"],[0.4444444444444444,\"#bd3786\"],[0.5555555555555556,\"#d8576b\"],[0.6666666666666666,\"#ed7953\"],[0.7777777777777778,\"#fb9f3a\"],[0.8888888888888888,\"#fdca26\"],[1.0,\"#f0f921\"]],\"type\":\"heatmap\"}],\"heatmapgl\":[{\"colorbar\":{\"outlinewidth\":0,\"ticks\":\"\"},\"colorscale\":[[0.0,\"#0d0887\"],[0.1111111111111111,\"#46039f\"],[0.2222222222222222,\"#7201a8\"],[0.3333333333333333,\"#9c179e\"],[0.4444444444444444,\"#bd3786\"],[0.5555555555555556,\"#d8576b\"],[0.6666666666666666,\"#ed7953\"],[0.7777777777777778,\"#fb9f3a\"],[0.8888888888888888,\"#fdca26\"],[1.0,\"#f0f921\"]],\"type\":\"heatmapgl\"}],\"histogram\":[{\"marker\":{\"pattern\":{\"fillmode\":\"overlay\",\"size\":10,\"solidity\":0.2}},\"type\":\"histogram\"}],\"histogram2d\":[{\"colorbar\":{\"outlinewidth\":0,\"ticks\":\"\"},\"colorscale\":[[0.0,\"#0d0887\"],[0.1111111111111111,\"#46039f\"],[0.2222222222222222,\"#7201a8\"],[0.3333333333333333,\"#9c179e\"],[0.4444444444444444,\"#bd3786\"],[0.5555555555555556,\"#d8576b\"],[0.6666666666666666,\"#ed7953\"],[0.7777777777777778,\"#fb9f3a\"],[0.8888888888888888,\"#fdca26\"],[1.0,\"#f0f921\"]],\"type\":\"histogram2d\"}],\"histogram2dcontour\":[{\"colorbar\":{\"outlinewidth\":0,\"ticks\":\"\"},\"colorscale\":[[0.0,\"#0d0887\"],[0.1111111111111111,\"#46039f\"],[0.2222222222222222,\"#7201a8\"],[0.3333333333333333,\"#9c179e\"],[0.4444444444444444,\"#bd3786\"],[0.5555555555555556,\"#d8576b\"],[0.6666666666666666,\"#ed7953\"],[0.7777777777777778,\"#fb9f3a\"],[0.8888888888888888,\"#fdca26\"],[1.0,\"#f0f921\"]],\"type\":\"histogram2dcontour\"}],\"mesh3d\":[{\"colorbar\":{\"outlinewidth\":0,\"ticks\":\"\"},\"type\":\"mesh3d\"}],\"parcoords\":[{\"line\":{\"colorbar\":{\"outlinewidth\":0,\"ticks\":\"\"}},\"type\":\"parcoords\"}],\"pie\":[{\"automargin\":true,\"type\":\"pie\"}],\"scatter\":[{\"marker\":{\"colorbar\":{\"outlinewidth\":0,\"ticks\":\"\"}},\"type\":\"scatter\"}],\"scatter3d\":[{\"line\":{\"colorbar\":{\"outlinewidth\":0,\"ticks\":\"\"}},\"marker\":{\"colorbar\":{\"outlinewidth\":0,\"ticks\":\"\"}},\"type\":\"scatter3d\"}],\"scattercarpet\":[{\"marker\":{\"colorbar\":{\"outlinewidth\":0,\"ticks\":\"\"}},\"type\":\"scattercarpet\"}],\"scattergeo\":[{\"marker\":{\"colorbar\":{\"outlinewidth\":0,\"ticks\":\"\"}},\"type\":\"scattergeo\"}],\"scattergl\":[{\"marker\":{\"colorbar\":{\"outlinewidth\":0,\"ticks\":\"\"}},\"type\":\"scattergl\"}],\"scattermapbox\":[{\"marker\":{\"colorbar\":{\"outlinewidth\":0,\"ticks\":\"\"}},\"type\":\"scattermapbox\"}],\"scatterpolar\":[{\"marker\":{\"colorbar\":{\"outlinewidth\":0,\"ticks\":\"\"}},\"type\":\"scatterpolar\"}],\"scatterpolargl\":[{\"marker\":{\"colorbar\":{\"outlinewidth\":0,\"ticks\":\"\"}},\"type\":\"scatterpolargl\"}],\"scatterternary\":[{\"marker\":{\"colorbar\":{\"outlinewidth\":0,\"ticks\":\"\"}},\"type\":\"scatterternary\"}],\"surface\":[{\"colorbar\":{\"outlinewidth\":0,\"ticks\":\"\"},\"colorscale\":[[0.0,\"#0d0887\"],[0.1111111111111111,\"#46039f\"],[0.2222222222222222,\"#7201a8\"],[0.3333333333333333,\"#9c179e\"],[0.4444444444444444,\"#bd3786\"],[0.5555555555555556,\"#d8576b\"],[0.6666666666666666,\"#ed7953\"],[0.7777777777777778,\"#fb9f3a\"],[0.8888888888888888,\"#fdca26\"],[1.0,\"#f0f921\"]],\"type\":\"surface\"}],\"table\":[{\"cells\":{\"fill\":{\"color\":\"#EBF0F8\"},\"line\":{\"color\":\"white\"}},\"header\":{\"fill\":{\"color\":\"#C8D4E3\"},\"line\":{\"color\":\"white\"}},\"type\":\"table\"}]},\"layout\":{\"annotationdefaults\":{\"arrowcolor\":\"#2a3f5f\",\"arrowhead\":0,\"arrowwidth\":1},\"autotypenumbers\":\"strict\",\"coloraxis\":{\"colorbar\":{\"outlinewidth\":0,\"ticks\":\"\"}},\"colorscale\":{\"diverging\":[[0,\"#8e0152\"],[0.1,\"#c51b7d\"],[0.2,\"#de77ae\"],[0.3,\"#f1b6da\"],[0.4,\"#fde0ef\"],[0.5,\"#f7f7f7\"],[0.6,\"#e6f5d0\"],[0.7,\"#b8e186\"],[0.8,\"#7fbc41\"],[0.9,\"#4d9221\"],[1,\"#276419\"]],\"sequential\":[[0.0,\"#0d0887\"],[0.1111111111111111,\"#46039f\"],[0.2222222222222222,\"#7201a8\"],[0.3333333333333333,\"#9c179e\"],[0.4444444444444444,\"#bd3786\"],[0.5555555555555556,\"#d8576b\"],[0.6666666666666666,\"#ed7953\"],[0.7777777777777778,\"#fb9f3a\"],[0.8888888888888888,\"#fdca26\"],[1.0,\"#f0f921\"]],\"sequentialminus\":[[0.0,\"#0d0887\"],[0.1111111111111111,\"#46039f\"],[0.2222222222222222,\"#7201a8\"],[0.3333333333333333,\"#9c179e\"],[0.4444444444444444,\"#bd3786\"],[0.5555555555555556,\"#d8576b\"],[0.6666666666666666,\"#ed7953\"],[0.7777777777777778,\"#fb9f3a\"],[0.8888888888888888,\"#fdca26\"],[1.0,\"#f0f921\"]]},\"colorway\":[\"#636efa\",\"#EF553B\",\"#00cc96\",\"#ab63fa\",\"#FFA15A\",\"#19d3f3\",\"#FF6692\",\"#B6E880\",\"#FF97FF\",\"#FECB52\"],\"font\":{\"color\":\"#2a3f5f\"},\"geo\":{\"bgcolor\":\"white\",\"lakecolor\":\"white\",\"landcolor\":\"#E5ECF6\",\"showlakes\":true,\"showland\":true,\"subunitcolor\":\"white\"},\"hoverlabel\":{\"align\":\"left\"},\"hovermode\":\"closest\",\"mapbox\":{\"style\":\"light\"},\"paper_bgcolor\":\"white\",\"plot_bgcolor\":\"#E5ECF6\",\"polar\":{\"angularaxis\":{\"gridcolor\":\"white\",\"linecolor\":\"white\",\"ticks\":\"\"},\"bgcolor\":\"#E5ECF6\",\"radialaxis\":{\"gridcolor\":\"white\",\"linecolor\":\"white\",\"ticks\":\"\"}},\"scene\":{\"xaxis\":{\"backgroundcolor\":\"#E5ECF6\",\"gridcolor\":\"white\",\"gridwidth\":2,\"linecolor\":\"white\",\"showbackground\":true,\"ticks\":\"\",\"zerolinecolor\":\"white\"},\"yaxis\":{\"backgroundcolor\":\"#E5ECF6\",\"gridcolor\":\"white\",\"gridwidth\":2,\"linecolor\":\"white\",\"showbackground\":true,\"ticks\":\"\",\"zerolinecolor\":\"white\"},\"zaxis\":{\"backgroundcolor\":\"#E5ECF6\",\"gridcolor\":\"white\",\"gridwidth\":2,\"linecolor\":\"white\",\"showbackground\":true,\"ticks\":\"\",\"zerolinecolor\":\"white\"}},\"shapedefaults\":{\"line\":{\"color\":\"#2a3f5f\"}},\"ternary\":{\"aaxis\":{\"gridcolor\":\"white\",\"linecolor\":\"white\",\"ticks\":\"\"},\"baxis\":{\"gridcolor\":\"white\",\"linecolor\":\"white\",\"ticks\":\"\"},\"bgcolor\":\"#E5ECF6\",\"caxis\":{\"gridcolor\":\"white\",\"linecolor\":\"white\",\"ticks\":\"\"}},\"title\":{\"x\":0.05},\"xaxis\":{\"automargin\":true,\"gridcolor\":\"white\",\"linecolor\":\"white\",\"ticks\":\"\",\"title\":{\"standoff\":15},\"zerolinecolor\":\"white\",\"zerolinewidth\":2},\"yaxis\":{\"automargin\":true,\"gridcolor\":\"white\",\"linecolor\":\"white\",\"ticks\":\"\",\"title\":{\"standoff\":15},\"zerolinecolor\":\"white\",\"zerolinewidth\":2}}},\"title\":{\"font\":{\"color\":\"#151516\"},\"text\":\"Price Elasticity of Purchase Probability\"},\"xaxis\":{\"gridcolor\":\"#F6F6F6\",\"showgrid\":true,\"tickfont\":{\"color\":\"#666666\"},\"title\":{\"font\":{\"color\":\"#666666\"},\"text\":\"Prices\"},\"zerolinecolor\":\"#F6F6F6\"},\"yaxis\":{\"gridcolor\":\"#F6F6F6\",\"showgrid\":true,\"tickfont\":{\"color\":\"#666666\"},\"title\":{\"font\":{\"color\":\"#666666\"},\"text\":\"Elasticyti\"},\"zerolinecolor\":\"#F6F6F6\"}},                        {\"showLink\": true, \"linkText\": \"Export to plot.ly\", \"plotlyServerURL\": \"https://plot.ly\", \"responsive\": true}                    ).then(function(){\n",
       "                            \n",
       "var gd = document.getElementById('b3aca483-26d2-4fdb-bfe3-928a8657acaa');\n",
       "var x = new MutationObserver(function (mutations, observer) {{\n",
       "        var display = window.getComputedStyle(gd).display;\n",
       "        if (!display || display === 'none') {{\n",
       "            console.log([gd, 'removed!']);\n",
       "            Plotly.purge(gd);\n",
       "            observer.disconnect();\n",
       "        }}\n",
       "}});\n",
       "\n",
       "// Listen for the removal of the full notebook cells\n",
       "var notebookContainer = gd.closest('#notebook-container');\n",
       "if (notebookContainer) {{\n",
       "    x.observe(notebookContainer, {childList: true});\n",
       "}}\n",
       "\n",
       "// Listen for the clearing of the current output cell\n",
       "var outputEl = gd.closest('.output');\n",
       "if (outputEl) {{\n",
       "    x.observe(outputEl, {childList: true});\n",
       "}}\n",
       "\n",
       "                        })                };                });            </script>        </div>"
      ]
     },
     "metadata": {},
     "output_type": "display_data"
    }
   ],
   "source": [
    "df_price_elasticity[['means','pe_seg1']].iplot(kind = 'line', xTitle = 'Prices', yTitle = 'Elasticyti', \n",
    "                          title = 'Price Elasticity of Purchase Probability')"
   ]
  },
  {
   "cell_type": "markdown",
   "id": "2f590b09",
   "metadata": {},
   "source": [
    "### Segment 2 - Fewer-Opportunities"
   ]
  },
  {
   "cell_type": "code",
   "execution_count": 28,
   "id": "71e42c9c",
   "metadata": {},
   "outputs": [],
   "source": [
    "segment2 = data[data['segment']==2]\n",
    "\n",
    "mean_price = (segment2['Price_1'] + segment2['Price_2'] + \n",
    "                   \n",
    "                   segment2[\"Price_3\"] + segment2['Price_4'] + segment2['Price_5']\n",
    "                   ) /5\n",
    "\n",
    "\n",
    "X = pd.DataFrame()\n",
    "X['mean_price'] = mean_price \n",
    "y = segment2['Incidence']"
   ]
  },
  {
   "cell_type": "code",
   "execution_count": 29,
   "id": "0113d925",
   "metadata": {},
   "outputs": [
    {
     "data": {
      "text/plain": [
       "LogisticRegression()"
      ]
     },
     "execution_count": 29,
     "metadata": {},
     "output_type": "execute_result"
    }
   ],
   "source": [
    "model_incidence_seg2 = LogisticRegression()\n",
    "model_incidence_seg2.fit(X,y)"
   ]
  },
  {
   "cell_type": "code",
   "execution_count": 30,
   "id": "f88354ac",
   "metadata": {},
   "outputs": [],
   "source": [
    "y_seg2 = model_incidence_seg2.predict_proba(df_price_range)\n",
    "purchase_seg2 = y_seg2[:][:, 1]\n",
    "pe_seg2 = model_incidence_seg2.coef_[:, 0] * price_range * (1-purchase_seg2)"
   ]
  },
  {
   "cell_type": "markdown",
   "id": "cd4ac738",
   "metadata": {},
   "source": [
    "#### Results seg2"
   ]
  },
  {
   "cell_type": "code",
   "execution_count": 31,
   "id": "ceed838f",
   "metadata": {},
   "outputs": [],
   "source": [
    "df_price_elasticity['pe_seg2'] = pe_seg2"
   ]
  },
  {
   "cell_type": "code",
   "execution_count": 32,
   "id": "c2ec06ed",
   "metadata": {},
   "outputs": [
    {
     "data": {
      "application/vnd.plotly.v1+json": {
       "config": {
        "linkText": "Export to plot.ly",
        "plotlyServerURL": "https://plot.ly",
        "showLink": true
       },
       "data": [
        {
         "line": {
          "color": "rgba(226, 74, 51, 1.0)",
          "dash": "solid",
          "shape": "linear",
          "width": 1.3
         },
         "mode": "lines",
         "name": "means",
         "text": "",
         "type": "scatter",
         "x": [
          0,
          1,
          2,
          3,
          4,
          5,
          6,
          7,
          8,
          9,
          10,
          11,
          12,
          13,
          14,
          15,
          16,
          17,
          18,
          19,
          20,
          21,
          22,
          23,
          24,
          25,
          26,
          27,
          28,
          29,
          30,
          31,
          32,
          33,
          34,
          35,
          36,
          37,
          38,
          39,
          40,
          41,
          42,
          43,
          44,
          45,
          46,
          47,
          48,
          49,
          50,
          51,
          52,
          53,
          54,
          55,
          56,
          57,
          58,
          59,
          60,
          61,
          62,
          63,
          64,
          65,
          66,
          67,
          68,
          69,
          70,
          71,
          72,
          73,
          74,
          75,
          76,
          77,
          78,
          79,
          80,
          81,
          82,
          83,
          84,
          85,
          86,
          87,
          88,
          89,
          90,
          91,
          92,
          93,
          94,
          95,
          96,
          97,
          98,
          99,
          100,
          101,
          102,
          103,
          104,
          105,
          106,
          107,
          108,
          109,
          110,
          111,
          112,
          113,
          114,
          115,
          116,
          117,
          118,
          119,
          120,
          121,
          122,
          123,
          124,
          125,
          126,
          127,
          128,
          129,
          130,
          131,
          132,
          133,
          134,
          135,
          136,
          137,
          138,
          139,
          140,
          141,
          142,
          143,
          144,
          145,
          146,
          147,
          148,
          149,
          150,
          151,
          152,
          153,
          154,
          155,
          156,
          157,
          158,
          159,
          160,
          161,
          162,
          163,
          164,
          165,
          166,
          167,
          168,
          169,
          170,
          171,
          172,
          173,
          174,
          175,
          176,
          177,
          178,
          179,
          180,
          181,
          182,
          183,
          184,
          185,
          186,
          187,
          188,
          189,
          190,
          191,
          192,
          193,
          194,
          195,
          196,
          197,
          198,
          199,
          200,
          201,
          202,
          203,
          204,
          205,
          206,
          207,
          208,
          209,
          210,
          211,
          212,
          213,
          214,
          215,
          216,
          217,
          218,
          219,
          220,
          221,
          222,
          223,
          224,
          225,
          226,
          227,
          228,
          229,
          230,
          231,
          232,
          233,
          234,
          235,
          236,
          237,
          238,
          239,
          240,
          241,
          242,
          243,
          244,
          245,
          246,
          247,
          248,
          249,
          250,
          251,
          252,
          253,
          254,
          255,
          256,
          257,
          258,
          259,
          260,
          261,
          262,
          263,
          264,
          265,
          266,
          267,
          268,
          269,
          270,
          271,
          272,
          273,
          274,
          275,
          276,
          277,
          278,
          279,
          280,
          281,
          282,
          283,
          284,
          285,
          286,
          287,
          288,
          289,
          290,
          291,
          292,
          293,
          294,
          295,
          296,
          297,
          298
         ],
         "y": [
          -0.09639582835550818,
          -0.1004637808378074,
          -0.10465871295685428,
          -0.10898377680221519,
          -0.11344217636988857,
          -0.11803716724584516,
          -0.12277205621830221,
          -0.12765020081564188,
          -0.1326750087668632,
          -0.13784993738143306,
          -0.14317849284538883,
          -0.1486642294305424,
          -0.1543107486136332,
          -0.16012169810230112,
          -0.16610077076475585,
          -0.1722517034600683,
          -0.17857827576603527,
          -0.18508430860163935,
          -0.1917736627411797,
          -0.19865023721723274,
          -0.2057179676096963,
          -0.21298082421827,
          -0.22044281011585537,
          -0.22810795908048173,
          -0.2359803334035274,
          -0.24406402157216261,
          -0.2523631358241361,
          -0.260881809573209,
          -0.2696241947037813,
          -0.2785944587334742,
          -0.28779678184268853,
          -0.29723535377044064,
          -0.3069143705760559,
          -0.3168380312666112,
          -0.3270105342903539,
          -0.3374360738966548,
          -0.3481188363634276,
          -0.35906299609332337,
          -0.37027271158040503,
          -0.38175212124943075,
          -0.3935053391702859,
          -0.40553645065057636,
          -0.4178495077098337,
          -0.43044852443926523,
          -0.44333747225147,
          -0.45652027502503306,
          -0.4700008041494144,
          -0.4837828734760723,
          -0.4978702341822635,
          -0.5122665695545021,
          -0.5269754896991677,
          -0.5420005261882914,
          -0.5573451266490582,
          -0.5730126493060863,
          -0.5890063574860548,
          -0.6053294140947395,
          -0.6219848760770132,
          -0.6389756888708261,
          -0.6563046808666336,
          -0.6739745578841806,
          -0.691987897678924,
          -0.7103471444907874,
          -0.7290546036482526,
          -0.7481124362411287,
          -0.7675226538755934,
          -0.7872871135253473,
          -0.8074075124929082,
          -0.8278853834952064,
          -0.8487220898877725,
          -0.8699188210418003,
          -0.8914765878884272,
          -0.9133962186444572,
          -0.935678354733667,
          -0.9583234469176521,
          -0.9813317516499339,
          -1.0047033276667483,
          -1.0284380328276022,
          -1.0525355212182401,
          -1.0769952405282028,
          -1.1018164297146216,
          -1.1269981169632861,
          -1.1525391179573687,
          -1.1784380344634806,
          -1.2046932532439603,
          -1.2313029453034738,
          -1.2582650654771372,
          -1.2855773523664475,
          -1.3132373286283523,
          -1.3412423016217858,
          -1.3695893644149557,
          -1.398275397155605,
          -1.427297068805371,
          -1.4566508392382513,
          -1.486332961702065,
          -1.5163394856406287,
          -1.546666259873249,
          -1.577308936126969,
          -1.6082629729158702,
          -1.639523639760603,
          -1.671086021740211,
          -1.7029450243672268,
          -1.7350953787759564,
          -1.767531647212856,
          -1.8002482288169137,
          -1.8332393656770147,
          -1.8664991491523926,
          -1.900021526441418,
          -1.9338003073832226,
          -1.9678291714759364,
          -2.002101675094665,
          -2.036611258891794,
          -2.0713512553616478,
          -2.1063148965511616,
          -2.14149532189783,
          -2.1768855861759557,
          -2.212478667531971,
          -2.2482674755895693,
          -2.2842448596052503,
          -2.320403616654988,
          -2.356736499832812,
          -2.3932362264422826,
          -2.4298954861620965,
          -2.466706949167414,
          -2.503663274188856,
          -2.5407571164916156,
          -2.577981135757624,
          -2.6153280038543185,
          -2.6527904124741566,
          -2.6903610806297356,
          -2.7280327619900855,
          -2.765798252044451,
          -2.8036503950807288,
          -2.8415820909665004,
          -2.8795863017214867,
          -2.917656057871136,
          -2.9557844645719173,
          -2.9939647074998335,
          -3.0321900584945474,
          -3.070453880952454,
          -3.1087496349629196,
          -3.1470708821828373,
          -3.1854112904455163,
          -3.223764638100834,
          -3.262124818084419,
          -3.3004858417144773,
          -3.338841842215713,
          -3.3771870779705555,
          -3.415515935498695,
          -3.453822932166644,
          -3.4921027186297313,
          -3.5303500810096278,
          -3.568559942811091,
          -3.606727366582221,
          -3.6448475553230835,
          -3.6829158536480198,
          -3.720927748707489,
          -3.7588788708756637,
          -3.796764994210446,
          -3.8345820366928507,
          -3.8723260602530583,
          -3.909993270590741,
          -3.9475800167974047,
          -3.985082790788778,
          -4.022498226555382,
          -4.059823099239572,
          -4.097054324047443,
          -4.134188955003972,
          -4.1712241835599295,
          -4.208157337058974,
          -4.244985877073402,
          -4.2817073976168984,
          -4.31831962324262,
          -4.35482040703483,
          -4.391207728502143,
          -4.427479691380356,
          -4.463634521352632,
          -4.499670563694687,
          -4.535586280852407,
          -4.571380249959097,
          -4.607051160299449,
          -4.642597810726971,
          -4.678019107041514,
          -4.713314059333182,
          -4.74848177929876,
          -4.783521477536523,
          -4.818432460825005,
          -4.853214129391119,
          -4.887865974172691,
          -4.9223875740803065,
          -4.956778593263062,
          -4.991038778382541,
          -5.025167955899178,
          -5.059166029374827,
          -5.093032976795197,
          -5.126768847915505,
          -5.160373761632531,
          -5.193847903386011,
          -5.227191522592048,
          -5.26040493011109,
          -5.293488495752701,
          -5.326442645819284,
          -5.3592678606906174,
          -5.391964672450894,
          -5.424533662559849,
          -5.456975459569278,
          -5.489290736886183,
          -5.521480210583545,
          -5.553544637259613,
          -5.5854848119464835,
          -5.617301566068518,
          -5.648995765451124,
          -5.680568308380208,
          -5.712020123712566,
          -5.74335216903734,
          -5.774565428888538,
          -5.8056609130085635,
          -5.83663965466262,
          -5.867502709003694,
          -5.89825115148785,
          -5.928886076339395,
          -5.959408595065503,
          -5.98981983501975,
          -6.020120938013975,
          -6.05031305897788,
          -6.080397364665652,
          -6.110375032408927,
          -6.140247248915329,
          -6.170015209111778,
          -6.199680115031803,
          -6.229243174745968,
          -6.258705601334574,
          -6.288068611901736,
          -6.317333426629966,
          -6.346501267874306,
          -6.37557335929513,
          -6.40455092502865,
          -6.433435188894205,
          -6.462227373637408,
          -6.490928700208165,
          -6.519540387072667,
          -6.548063649558412,
          -6.57649969923129,
          -6.604849743303841,
          -6.633114984073746,
          -6.661296618391635,
          -6.6893958371573286,
          -6.717413824843582,
          -6.745351759046506,
          -6.773210810061731,
          -6.800992140485523,
          -6.828696904839962,
          -6.856326249221377,
          -6.883881310971226,
          -6.911363218368618,
          -6.938773090343712,
          -6.966112036211197,
          -6.993381155423146,
          -7.0205815373404965,
          -7.0477142610224215,
          -7.074780395032944,
          -7.10178099726406,
          -7.128717114774768,
          -7.155589783645308,
          -7.182400028845998,
          -7.209148864120091,
          -7.23583729188001,
          -7.262466303116419,
          -7.28903687731955,
          -7.315549982412254,
          -7.342006574694261,
          -7.368407598797105,
          -7.394753987649249,
          -7.421046662450926,
          -7.447286532658221,
          -7.473474495975958,
          -7.499611438358944,
          -7.525698234021178,
          -7.551735745452588,
          -7.577724823442933,
          -7.603666307112461,
          -7.6295610239490035,
          -7.65540978985112,
          -7.681213409176967,
          -7.706972674798558,
          -7.732688368161129,
          -7.7583612593472715,
          -7.783992107145571,
          -7.8095816591234435,
          -7.835130651703941,
          -7.86063981024624,
          -7.886109849129564,
          -7.911541471840332,
          -7.936935371062264,
          -7.96229222876926,
          -7.98761271632084,
          -8.01289749455991,
          -8.038147213912719,
          -8.063362514490766,
          -8.088544026194528
         ]
        },
        {
         "line": {
          "color": "rgba(62, 111, 176, 1.0)",
          "dash": "solid",
          "shape": "linear",
          "width": 1.3
         },
         "mode": "lines",
         "name": "pe_seg1",
         "text": "",
         "type": "scatter",
         "x": [
          0,
          1,
          2,
          3,
          4,
          5,
          6,
          7,
          8,
          9,
          10,
          11,
          12,
          13,
          14,
          15,
          16,
          17,
          18,
          19,
          20,
          21,
          22,
          23,
          24,
          25,
          26,
          27,
          28,
          29,
          30,
          31,
          32,
          33,
          34,
          35,
          36,
          37,
          38,
          39,
          40,
          41,
          42,
          43,
          44,
          45,
          46,
          47,
          48,
          49,
          50,
          51,
          52,
          53,
          54,
          55,
          56,
          57,
          58,
          59,
          60,
          61,
          62,
          63,
          64,
          65,
          66,
          67,
          68,
          69,
          70,
          71,
          72,
          73,
          74,
          75,
          76,
          77,
          78,
          79,
          80,
          81,
          82,
          83,
          84,
          85,
          86,
          87,
          88,
          89,
          90,
          91,
          92,
          93,
          94,
          95,
          96,
          97,
          98,
          99,
          100,
          101,
          102,
          103,
          104,
          105,
          106,
          107,
          108,
          109,
          110,
          111,
          112,
          113,
          114,
          115,
          116,
          117,
          118,
          119,
          120,
          121,
          122,
          123,
          124,
          125,
          126,
          127,
          128,
          129,
          130,
          131,
          132,
          133,
          134,
          135,
          136,
          137,
          138,
          139,
          140,
          141,
          142,
          143,
          144,
          145,
          146,
          147,
          148,
          149,
          150,
          151,
          152,
          153,
          154,
          155,
          156,
          157,
          158,
          159,
          160,
          161,
          162,
          163,
          164,
          165,
          166,
          167,
          168,
          169,
          170,
          171,
          172,
          173,
          174,
          175,
          176,
          177,
          178,
          179,
          180,
          181,
          182,
          183,
          184,
          185,
          186,
          187,
          188,
          189,
          190,
          191,
          192,
          193,
          194,
          195,
          196,
          197,
          198,
          199,
          200,
          201,
          202,
          203,
          204,
          205,
          206,
          207,
          208,
          209,
          210,
          211,
          212,
          213,
          214,
          215,
          216,
          217,
          218,
          219,
          220,
          221,
          222,
          223,
          224,
          225,
          226,
          227,
          228,
          229,
          230,
          231,
          232,
          233,
          234,
          235,
          236,
          237,
          238,
          239,
          240,
          241,
          242,
          243,
          244,
          245,
          246,
          247,
          248,
          249,
          250,
          251,
          252,
          253,
          254,
          255,
          256,
          257,
          258,
          259,
          260,
          261,
          262,
          263,
          264,
          265,
          266,
          267,
          268,
          269,
          270,
          271,
          272,
          273,
          274,
          275,
          276,
          277,
          278,
          279,
          280,
          281,
          282,
          283,
          284,
          285,
          286,
          287,
          288,
          289,
          290,
          291,
          292,
          293,
          294,
          295,
          296,
          297,
          298
         ],
         "y": [
          -0.11908833683118748,
          -0.12327133527554841,
          -0.12754767107037768,
          -0.13191880268604195,
          -0.13638619653441655,
          -0.14095132651478373,
          -0.14561567354151017,
          -0.150380725053354,
          -0.15524797450426914,
          -0.1602189208355898,
          -0.16529506792950335,
          -0.17047792404373882,
          -0.17576900122741723,
          -0.1811698147180383,
          -0.1866818823195978,
          -0.1923067237618588,
          -0.19804586004081823,
          -0.20390081274045044,
          -0.20987310333582204,
          -0.2159642524777137,
          -0.2221757792589077,
          -0.2285092004623305,
          -0.23496602979127554,
          -0.24154777708196198,
          -0.24825594749871224,
          -0.25509204071207797,
          -0.2620575500602654,
          -0.2691539616942547,
          -0.27638275370704163,
          -0.2837453952474643,
          -0.2912433456191191,
          -0.29887805336490286,
          -0.3066509553377592,
          -0.3145634757582425,
          -0.3226170252595561,
          -0.33081299992075175,
          -0.3391527802888252,
          -0.34763773039047313,
          -0.3562691967343213,
          -0.3650485073044671,
          -0.37397697054622003,
          -0.38305587434496347,
          -0.39228648499908914,
          -0.4016700461880041,
          -0.41120777793623675,
          -0.4209008755747036,
          -0.43075050870023934,
          -0.44075782013451603,
          -0.45092392488351357,
          -0.4612499090987367,
          -0.4717368290413935,
          -0.48238571005078795,
          -0.49319754551819506,
          -0.5041732958675182,
          -0.5153138875440478,
          -0.526620212012655,
          -0.538093124766781,
          -0.5497334443495929,
          -0.5615419513886851,
          -0.5735193876457293,
          -0.5856664550824717,
          -0.5979838149444845,
          -0.6104720868640887,
          -0.6231318479838553,
          -0.6359636321020945,
          -0.6489679288417383,
          -0.6621451828440079,
          -0.6754957929882496,
          -0.6890201116393058,
          -0.7027184439237737,
          -0.7165910470364746,
          -0.7306381295784428,
          -0.7448598509277105,
          -0.7592563206441254,
          -0.7738275979094311,
          -0.7885736910037648,
          -0.8034945568197189,
          -0.8185901004150575,
          -0.833860174605131,
          -0.8493045795959782,
          -0.8649230626590754,
          -0.8807153178486062,
          -0.8966809857620914,
          -0.912819653345148,
          -0.9291308537410883,
          -0.9456140661859974,
          -0.9622687159498705,
          -0.9790941743243171,
          -0.9960897586572625,
          -1.0132547324350138,
          -1.030588305411984,
          -1.048089633788268,
          -1.0657578204352325,
          -1.0835919151691524,
          -1.101590915072885,
          -1.119753764865479,
          -1.1380793573195325,
          -1.1565665337260402,
          -1.1752140844063892,
          -1.194020749271079,
          -1.2129852184246628,
          -1.2321061328163327,
          -1.2513820849354882,
          -1.270811619551549,
          -1.2903932344972056,
          -1.3101253814942195,
          -1.3300064670208114,
          -1.3500348532196131,
          -1.370208858845085,
          -1.3905267602492275,
          -1.4109867924043717,
          -1.4315871499617472,
          -1.452325988344489,
          -1.473201424873673,
          -1.4942115399259346,
          -1.51535437812115,
          -1.5366279495386508,
          -1.5580302309603595,
          -1.5795591671392248,
          -1.6012126720912874,
          -1.6229886304096817,
          -1.644884898598835,
          -1.666899306427133,
          -1.6890296582962638,
          -1.7112737346254654,
          -1.7336292932488746,
          -1.7560940708241706,
          -1.778665784250701,
          -1.8013421320952816,
          -1.8241207960238592,
          -1.8469994422372353,
          -1.8699757229090592,
          -1.8930472776243228,
          -1.916211734816581,
          -1.9394667132021763,
          -1.962809823209752,
          -1.9862386684033573,
          -2.009750846897511,
          -2.0333439527625874,
          -2.057015577418947,
          -2.080763311018274,
          -2.1045847438106158,
          -2.128477467495664,
          -2.152439076556878,
          -2.176467169577085,
          -2.200559350534244,
          -2.224713230076128,
          -2.2489264267727083,
          -2.273196568345107,
          -2.29752129287002,
          -2.3218982499585863,
          -2.3463251019087195,
          -2.370799524829998,
          -2.3953192097402694,
          -2.419881863633151,
          -2.4444852105157175,
          -2.469126992415705,
          -2.49380497035761,
          -2.5185169253071473,
          -2.5432606590835634,
          -2.568033995239398,
          -2.592834779907312,
          -2.6176608826136687,
          -2.6425101970586202,
          -2.6673806418625055,
          -2.6922701612784214,
          -2.717176725870865,
          -2.7420983331604267,
          -2.7670330082345536,
          -2.79197880432445,
          -2.816933803348218,
          -2.8418961164204215,
          -2.8668638843282745,
          -2.891835277974704,
          -2.9168084987885856,
          -2.9417817791024823,
          -2.9667533824982626,
          -2.9917216041210146,
          -3.016684770961681,
          -3.041641242108897,
          -3.066589408970559,
          -3.0915276954656266,
          -3.116454558186738,
          -3.1413684865342253,
          -3.1662680028221346,
          -3.1911516623568854,
          -3.2160180534892175,
          -3.2408657976400836,
          -3.2656935493011967,
          -3.2904999960109014,
          -3.3152838583060933,
          -3.3400438896508997,
          -3.3647788763428523,
          -3.389487637397297,
          -3.4141690244107648,
          -3.4388219214040547,
          -3.463445244645788,
          -3.488037942457184,
          -3.512598994998776,
          -3.5371274140398548,
          -3.5616222427113713,
          -3.586082555243038,
          -3.61050745668536,
          -3.6348960826173515,
          -3.659247598840629,
          -3.683561201060639,
          -3.70783611455569,
          -3.7320715938345126,
          -3.7562669222830247,
          -3.7804214118010036,
          -3.8045344024292826,
          -3.828605261968179,
          -3.8526333855877706,
          -3.876618195430647,
          -3.900559140207756,
          -3.924455694787949,
          -3.9483073597817966,
          -3.9721136611202734,
          -3.9958741496288392,
          -4.019588400597467,
          -4.043256013347153,
          -4.066876610793418,
          -4.090449839007266,
          -4.113975366774114,
          -4.13745288515114,
          -4.160882107023493,
          -4.184262766659797,
          -4.207594619267373,
          -4.2308774405475456,
          -4.254111026251481,
          -4.2772951917368465,
          -4.300429771525699,
          -4.323514618863919,
          -4.346549605282515,
          -4.369534620161111,
          -4.392469570293875,
          -4.415354379458237,
          -4.438188987986582,
          -4.460973352341223,
          -4.483707444692862,
          -4.506391252502773,
          -4.5290247781089175,
          -4.551608038316179,
          -4.5741410639909175,
          -4.5966238996599955,
          -4.619056603114467,
          -4.641439245018045,
          -4.663771908520499,
          -4.686054688876125,
          -4.7082876930673825,
          -4.730471039433814,
          -4.752604857306345,
          -4.7746892866470505,
          -4.796724477694471,
          -4.818710590614528,
          -4.84064779515713,
          -4.862536270318494,
          -4.8843762040092455,
          -4.9061677927283265,
          -4.92791124124273,
          -4.949606762273105,
          -4.971254576185247,
          -4.992854910687453,
          -5.014408000533779,
          -5.035914087233186,
          -5.057373418764563,
          -5.078786249297613,
          -5.100152838919589,
          -5.121473453367858,
          -5.142748363768264,
          -5.163977846379253,
          -5.185162182341725,
          -5.206301657434588,
          -5.227396561835959,
          -5.248447189889955,
          -5.2694538398790485,
          -5.290416813801923,
          -5.311336417156769,
          -5.332212958729969,
          -5.353046750390111,
          -5.373838106887269,
          -5.394587345657488,
          -5.415294786632402,
          -5.435960752053914,
          -5.456585566293885,
          -5.4771695556787545,
          -5.497713048319012,
          -5.5182163739434476,
          -5.538679863738128,
          -5.559103850190005,
          -5.5794886669350765,
          -5.5998346486110435,
          -5.6201421307143775,
          -5.640411449461709,
          -5.660642941655495,
          -5.680836944553836,
          -5.700993795744418,
          -5.721113833022473,
          -5.741197394272685
         ]
        },
        {
         "line": {
          "color": "rgba(132, 118, 202, 1.0)",
          "dash": "solid",
          "shape": "linear",
          "width": 1.3
         },
         "mode": "lines",
         "name": "pe_seg2",
         "text": "",
         "type": "scatter",
         "x": [
          0,
          1,
          2,
          3,
          4,
          5,
          6,
          7,
          8,
          9,
          10,
          11,
          12,
          13,
          14,
          15,
          16,
          17,
          18,
          19,
          20,
          21,
          22,
          23,
          24,
          25,
          26,
          27,
          28,
          29,
          30,
          31,
          32,
          33,
          34,
          35,
          36,
          37,
          38,
          39,
          40,
          41,
          42,
          43,
          44,
          45,
          46,
          47,
          48,
          49,
          50,
          51,
          52,
          53,
          54,
          55,
          56,
          57,
          58,
          59,
          60,
          61,
          62,
          63,
          64,
          65,
          66,
          67,
          68,
          69,
          70,
          71,
          72,
          73,
          74,
          75,
          76,
          77,
          78,
          79,
          80,
          81,
          82,
          83,
          84,
          85,
          86,
          87,
          88,
          89,
          90,
          91,
          92,
          93,
          94,
          95,
          96,
          97,
          98,
          99,
          100,
          101,
          102,
          103,
          104,
          105,
          106,
          107,
          108,
          109,
          110,
          111,
          112,
          113,
          114,
          115,
          116,
          117,
          118,
          119,
          120,
          121,
          122,
          123,
          124,
          125,
          126,
          127,
          128,
          129,
          130,
          131,
          132,
          133,
          134,
          135,
          136,
          137,
          138,
          139,
          140,
          141,
          142,
          143,
          144,
          145,
          146,
          147,
          148,
          149,
          150,
          151,
          152,
          153,
          154,
          155,
          156,
          157,
          158,
          159,
          160,
          161,
          162,
          163,
          164,
          165,
          166,
          167,
          168,
          169,
          170,
          171,
          172,
          173,
          174,
          175,
          176,
          177,
          178,
          179,
          180,
          181,
          182,
          183,
          184,
          185,
          186,
          187,
          188,
          189,
          190,
          191,
          192,
          193,
          194,
          195,
          196,
          197,
          198,
          199,
          200,
          201,
          202,
          203,
          204,
          205,
          206,
          207,
          208,
          209,
          210,
          211,
          212,
          213,
          214,
          215,
          216,
          217,
          218,
          219,
          220,
          221,
          222,
          223,
          224,
          225,
          226,
          227,
          228,
          229,
          230,
          231,
          232,
          233,
          234,
          235,
          236,
          237,
          238,
          239,
          240,
          241,
          242,
          243,
          244,
          245,
          246,
          247,
          248,
          249,
          250,
          251,
          252,
          253,
          254,
          255,
          256,
          257,
          258,
          259,
          260,
          261,
          262,
          263,
          264,
          265,
          266,
          267,
          268,
          269,
          270,
          271,
          272,
          273,
          274,
          275,
          276,
          277,
          278,
          279,
          280,
          281,
          282,
          283,
          284,
          285,
          286,
          287,
          288,
          289,
          290,
          291,
          292,
          293,
          294,
          295,
          296,
          297,
          298
         ],
         "y": [
          -0.030920688762711604,
          -0.032687645274033665,
          -0.03454149694081637,
          -0.03648612334407846,
          -0.03852556137646616,
          -0.04066401072013246,
          -0.04290583945080116,
          -0.04525558976541037,
          -0.04771798383011227,
          -0.05029792974469128,
          -0.05300052761874012,
          -0.05583107575410896,
          -0.05879507692726365,
          -0.06189824476426907,
          -0.06514651020007116,
          -0.06854602801268837,
          -0.07210318342174617,
          -0.07582459873954363,
          -0.07971714006151938,
          -0.08378792398156097,
          -0.08804432431611524,
          -0.09249397881944428,
          -0.09714479587070768,
          -0.10200496111175808,
          -0.10708294401268394,
          -0.11238750434014455,
          -0.11792769850150309,
          -0.12371288573560454,
          -0.12975273411878951,
          -0.13605722635243406,
          -0.14263666529585486,
          -0.14950167920595533,
          -0.1566632266424162,
          -0.16413260099459634,
          -0.1719214345836496,
          -0.18004170229062086,
          -0.18850572465855775,
          -0.19732617041388556,
          -0.20651605834955736,
          -0.21608875850975087,
          -0.22605799261320286,
          -0.23643783364965112,
          -0.24724270458136802,
          -0.2584873760793731,
          -0.27018696322170915,
          -0.28235692107916105,
          -0.2950130391120457,
          -0.30817143430018257,
          -0.3218485429270715,
          -0.3360611109384679,
          -0.3508261827952762,
          -0.3661610887407703,
          -0.38208343040289117,
          -0.39861106465362073,
          -0.41576208564939926,
          -0.433554804979188,
          -0.45200772985024745,
          -0.47113953924592483,
          -0.4909690579949521,
          -0.5115152286978173,
          -0.5327970814629102,
          -0.5548337014132789,
          -0.5776441939340574,
          -0.601247647641001,
          -0.6256630950620495,
          -0.650909471036495,
          -0.6770055688501618,
          -0.7039699941399709,
          -0.731821116617363,
          -0.7605770196772522,
          -0.7902554479773831,
          -0.8208737530921625,
          -0.8524488373650149,
          -0.88499709610413,
          -0.9185343582877608,
          -0.9530758259670716,
          -0.9886360125765329,
          -1.025228680383954,
          -1.0628667773341154,
          -1.101562373561434,
          -1.1413265978678118,
          -1.1821695744816247,
          -1.2241003604322367,
          -1.2671268838913834,
          -1.3112558838477135,
          -1.3564928514936103,
          -1.4028419737136666,
          -1.450306079071665,
          -1.4988865866972558,
          -1.548583458474537,
          -1.5993951549321133,
          -1.651318595227823,
          -1.7043491216109237,
          -1.7584804687300635,
          -1.8137047381367544,
          -1.870012378311227,
          -1.9273921705106751,
          -1.9858312207088993,
          -2.045314957861596,
          -2.105827138693112,
          -2.1673498591587625,
          -2.2298635726920892,
          -2.2933471152992673,
          -2.357777737513525,
          -2.423131143171646,
          -2.4893815349227926,
          -2.556501666327745,
          -2.624462900354624,
          -2.693235274026174,
          -2.762787568924027,
          -2.8330873872079763,
          -2.9041012327635314,
          -2.9757945970496618,
          -3.0481320491810076,
          -3.1210773297456145,
          -3.1945934478307505,
          -3.2686427807058553,
          -3.3431871755936573,
          -3.4181880529479627,
          -3.493606510649718,
          -3.5694034285318383,
          -3.64553957264777,
          -3.7219756987087185,
          -3.7986726541297697,
          -3.8755914781454637,
          -3.952693499480244,
          -4.029940431088484,
          -4.107294461511738,
          -4.1847183424371375,
          -4.26217547207995,
          -4.3396299740545015,
          -4.417046771440653,
          -4.494391655797045,
          -4.571631350916893,
          -4.648733571166719,
          -4.725667074292651,
          -4.802401708621968,
          -4.878908454629547,
          -4.95515946087882,
          -5.031128074384868,
          -5.106788865482783,
          -5.182117647317404,
          -5.257091490100493,
          -5.331688730308636,
          -5.4058889750190735,
          -5.479673101601611,
          -5.553023253002518,
          -5.625922828871019,
          -5.698356472790609,
          -5.770310055886219,
          -5.841770657084183,
          -5.912726540305331,
          -5.983167128872323,
          -6.053082977411089,
          -6.122465741522583,
          -6.19130814549586,
          -6.259603948326444,
          -6.327347908295479,
          -6.394535746355425,
          -6.461164108557395,
          -6.527230527743538,
          -6.592733384715604,
          -6.657671869078042,
          -6.722045939940831,
          -6.7858562866539796,
          -6.84910428973213,
          -6.911791982114472,
          -6.973922010891946,
          -7.035497599620883,
          -7.096522511329625,
          -7.157001012312561,
          -7.216937836794331,
          -7.276338152535886,
          -7.335207527443397,
          -7.393551897231118,
          -7.45137753417986,
          -7.508691017023951,
          -7.565499201991485,
          -7.621809195014972,
          -7.67762832512272,
          -7.732964119014888,
          -7.78782427682234,
          -7.842216649041354,
          -7.896149214632441,
          -7.949630060267561,
          -8.00266736070622,
          -8.055269360277785,
          -8.107444355444695,
          -8.159200678418715,
          -8.210546681800622,
          -8.261490724211864,
          -8.31204115688563,
          -8.362206311183682,
          -8.411994487004518,
          -8.461413942048077,
          -8.510472881901778,
          -8.559179450912794,
          -8.607541723811433,
          -8.655567698050806,
          -8.70326528682844,
          -8.750642312755934,
          -8.797706502143473,
          -8.84446547986667,
          -8.890926764784052,
          -8.937097765674405,
          -8.98298577766402,
          -9.028597979114934,
          -9.073941428946176,
          -9.119023064361112,
          -9.163849698954966,
          -9.208428021177596,
          -9.252764593127756,
          -9.296865849655946,
          -9.340738097754166,
          -9.384387516211701,
          -9.427820155517198,
          -9.471041937988252,
          -9.514058658110601,
          -9.556875983070025,
          -9.599499453460925,
          -9.641934484156417,
          -9.684186365325667,
          -9.726260263584921,
          -9.768161223269594,
          -9.809894167815399,
          -9.851463901237372,
          -9.89287510969619,
          -9.934132363141952,
          -9.975240117026221,
          -10.016202714073646,
          -10.057024386105173,
          -10.09770925590531,
          -10.138261339126496,
          -10.178684546224083,
          -10.218982684415913,
          -10.259159459660935,
          -10.299218478651705,
          -10.33916325081602,
          -10.378997190323327,
          -10.41872361809182,
          -10.458345763792625,
          -10.497866767847611,
          -10.537289683417788,
          -10.576617478379452,
          -10.615853037285532,
          -10.654999163309862,
          -10.694058580172202,
          -10.733033934042243,
          -10.771927795420844,
          -10.81074266099703,
          -10.84948095547947,
          -10.888145033401154,
          -10.926737180896449,
          -10.965259617449465,
          -11.00371449761312,
          -11.0421039126982,
          -11.080429892431944,
          -11.118694406585716,
          -11.156899366571428,
          -11.195046627006514,
          -11.233137987247249,
          -11.271175192890379,
          -11.309159937243026,
          -11.347093862760854,
          -11.384978562454705,
          -11.42281558126575,
          -11.46060641740941,
          -11.49835252368826,
          -11.536055308774179,
          -11.573716138460101,
          -11.61133633688163,
          -11.648917187708946,
          -11.686459935309367,
          -11.723965785880967,
          -11.76143590855769,
          -11.798871436486397,
          -11.836273467876307,
          -11.8736430670213,
          -11.910981265295554,
          -11.948289062123012,
          -11.985567425921154,
          -12.022817295019617,
          -12.060039578554093,
          -12.097235157336058,
          -12.134404884698846,
          -12.171549587320518,
          -12.208670066024101,
          -12.245767096555605,
          -12.28284143034044,
          -12.319893795218597,
          -12.356924896159198,
          -12.393935415954813,
          -12.430926015896087,
          -12.467897336427145,
          -12.504849997782182,
          -12.541784600603803,
          -12.578701726543501,
          -12.615601938844737,
          -12.652485782909077
         ]
        }
       ],
       "layout": {
        "legend": {
         "bgcolor": "#FFFFFF",
         "font": {
          "color": "#666666"
         }
        },
        "paper_bgcolor": "#FFFFFF",
        "plot_bgcolor": "#E5E5E5",
        "template": {
         "data": {
          "bar": [
           {
            "error_x": {
             "color": "#2a3f5f"
            },
            "error_y": {
             "color": "#2a3f5f"
            },
            "marker": {
             "line": {
              "color": "#E5ECF6",
              "width": 0.5
             },
             "pattern": {
              "fillmode": "overlay",
              "size": 10,
              "solidity": 0.2
             }
            },
            "type": "bar"
           }
          ],
          "barpolar": [
           {
            "marker": {
             "line": {
              "color": "#E5ECF6",
              "width": 0.5
             },
             "pattern": {
              "fillmode": "overlay",
              "size": 10,
              "solidity": 0.2
             }
            },
            "type": "barpolar"
           }
          ],
          "carpet": [
           {
            "aaxis": {
             "endlinecolor": "#2a3f5f",
             "gridcolor": "white",
             "linecolor": "white",
             "minorgridcolor": "white",
             "startlinecolor": "#2a3f5f"
            },
            "baxis": {
             "endlinecolor": "#2a3f5f",
             "gridcolor": "white",
             "linecolor": "white",
             "minorgridcolor": "white",
             "startlinecolor": "#2a3f5f"
            },
            "type": "carpet"
           }
          ],
          "choropleth": [
           {
            "colorbar": {
             "outlinewidth": 0,
             "ticks": ""
            },
            "type": "choropleth"
           }
          ],
          "contour": [
           {
            "colorbar": {
             "outlinewidth": 0,
             "ticks": ""
            },
            "colorscale": [
             [
              0,
              "#0d0887"
             ],
             [
              0.1111111111111111,
              "#46039f"
             ],
             [
              0.2222222222222222,
              "#7201a8"
             ],
             [
              0.3333333333333333,
              "#9c179e"
             ],
             [
              0.4444444444444444,
              "#bd3786"
             ],
             [
              0.5555555555555556,
              "#d8576b"
             ],
             [
              0.6666666666666666,
              "#ed7953"
             ],
             [
              0.7777777777777778,
              "#fb9f3a"
             ],
             [
              0.8888888888888888,
              "#fdca26"
             ],
             [
              1,
              "#f0f921"
             ]
            ],
            "type": "contour"
           }
          ],
          "contourcarpet": [
           {
            "colorbar": {
             "outlinewidth": 0,
             "ticks": ""
            },
            "type": "contourcarpet"
           }
          ],
          "heatmap": [
           {
            "colorbar": {
             "outlinewidth": 0,
             "ticks": ""
            },
            "colorscale": [
             [
              0,
              "#0d0887"
             ],
             [
              0.1111111111111111,
              "#46039f"
             ],
             [
              0.2222222222222222,
              "#7201a8"
             ],
             [
              0.3333333333333333,
              "#9c179e"
             ],
             [
              0.4444444444444444,
              "#bd3786"
             ],
             [
              0.5555555555555556,
              "#d8576b"
             ],
             [
              0.6666666666666666,
              "#ed7953"
             ],
             [
              0.7777777777777778,
              "#fb9f3a"
             ],
             [
              0.8888888888888888,
              "#fdca26"
             ],
             [
              1,
              "#f0f921"
             ]
            ],
            "type": "heatmap"
           }
          ],
          "heatmapgl": [
           {
            "colorbar": {
             "outlinewidth": 0,
             "ticks": ""
            },
            "colorscale": [
             [
              0,
              "#0d0887"
             ],
             [
              0.1111111111111111,
              "#46039f"
             ],
             [
              0.2222222222222222,
              "#7201a8"
             ],
             [
              0.3333333333333333,
              "#9c179e"
             ],
             [
              0.4444444444444444,
              "#bd3786"
             ],
             [
              0.5555555555555556,
              "#d8576b"
             ],
             [
              0.6666666666666666,
              "#ed7953"
             ],
             [
              0.7777777777777778,
              "#fb9f3a"
             ],
             [
              0.8888888888888888,
              "#fdca26"
             ],
             [
              1,
              "#f0f921"
             ]
            ],
            "type": "heatmapgl"
           }
          ],
          "histogram": [
           {
            "marker": {
             "pattern": {
              "fillmode": "overlay",
              "size": 10,
              "solidity": 0.2
             }
            },
            "type": "histogram"
           }
          ],
          "histogram2d": [
           {
            "colorbar": {
             "outlinewidth": 0,
             "ticks": ""
            },
            "colorscale": [
             [
              0,
              "#0d0887"
             ],
             [
              0.1111111111111111,
              "#46039f"
             ],
             [
              0.2222222222222222,
              "#7201a8"
             ],
             [
              0.3333333333333333,
              "#9c179e"
             ],
             [
              0.4444444444444444,
              "#bd3786"
             ],
             [
              0.5555555555555556,
              "#d8576b"
             ],
             [
              0.6666666666666666,
              "#ed7953"
             ],
             [
              0.7777777777777778,
              "#fb9f3a"
             ],
             [
              0.8888888888888888,
              "#fdca26"
             ],
             [
              1,
              "#f0f921"
             ]
            ],
            "type": "histogram2d"
           }
          ],
          "histogram2dcontour": [
           {
            "colorbar": {
             "outlinewidth": 0,
             "ticks": ""
            },
            "colorscale": [
             [
              0,
              "#0d0887"
             ],
             [
              0.1111111111111111,
              "#46039f"
             ],
             [
              0.2222222222222222,
              "#7201a8"
             ],
             [
              0.3333333333333333,
              "#9c179e"
             ],
             [
              0.4444444444444444,
              "#bd3786"
             ],
             [
              0.5555555555555556,
              "#d8576b"
             ],
             [
              0.6666666666666666,
              "#ed7953"
             ],
             [
              0.7777777777777778,
              "#fb9f3a"
             ],
             [
              0.8888888888888888,
              "#fdca26"
             ],
             [
              1,
              "#f0f921"
             ]
            ],
            "type": "histogram2dcontour"
           }
          ],
          "mesh3d": [
           {
            "colorbar": {
             "outlinewidth": 0,
             "ticks": ""
            },
            "type": "mesh3d"
           }
          ],
          "parcoords": [
           {
            "line": {
             "colorbar": {
              "outlinewidth": 0,
              "ticks": ""
             }
            },
            "type": "parcoords"
           }
          ],
          "pie": [
           {
            "automargin": true,
            "type": "pie"
           }
          ],
          "scatter": [
           {
            "marker": {
             "colorbar": {
              "outlinewidth": 0,
              "ticks": ""
             }
            },
            "type": "scatter"
           }
          ],
          "scatter3d": [
           {
            "line": {
             "colorbar": {
              "outlinewidth": 0,
              "ticks": ""
             }
            },
            "marker": {
             "colorbar": {
              "outlinewidth": 0,
              "ticks": ""
             }
            },
            "type": "scatter3d"
           }
          ],
          "scattercarpet": [
           {
            "marker": {
             "colorbar": {
              "outlinewidth": 0,
              "ticks": ""
             }
            },
            "type": "scattercarpet"
           }
          ],
          "scattergeo": [
           {
            "marker": {
             "colorbar": {
              "outlinewidth": 0,
              "ticks": ""
             }
            },
            "type": "scattergeo"
           }
          ],
          "scattergl": [
           {
            "marker": {
             "colorbar": {
              "outlinewidth": 0,
              "ticks": ""
             }
            },
            "type": "scattergl"
           }
          ],
          "scattermapbox": [
           {
            "marker": {
             "colorbar": {
              "outlinewidth": 0,
              "ticks": ""
             }
            },
            "type": "scattermapbox"
           }
          ],
          "scatterpolar": [
           {
            "marker": {
             "colorbar": {
              "outlinewidth": 0,
              "ticks": ""
             }
            },
            "type": "scatterpolar"
           }
          ],
          "scatterpolargl": [
           {
            "marker": {
             "colorbar": {
              "outlinewidth": 0,
              "ticks": ""
             }
            },
            "type": "scatterpolargl"
           }
          ],
          "scatterternary": [
           {
            "marker": {
             "colorbar": {
              "outlinewidth": 0,
              "ticks": ""
             }
            },
            "type": "scatterternary"
           }
          ],
          "surface": [
           {
            "colorbar": {
             "outlinewidth": 0,
             "ticks": ""
            },
            "colorscale": [
             [
              0,
              "#0d0887"
             ],
             [
              0.1111111111111111,
              "#46039f"
             ],
             [
              0.2222222222222222,
              "#7201a8"
             ],
             [
              0.3333333333333333,
              "#9c179e"
             ],
             [
              0.4444444444444444,
              "#bd3786"
             ],
             [
              0.5555555555555556,
              "#d8576b"
             ],
             [
              0.6666666666666666,
              "#ed7953"
             ],
             [
              0.7777777777777778,
              "#fb9f3a"
             ],
             [
              0.8888888888888888,
              "#fdca26"
             ],
             [
              1,
              "#f0f921"
             ]
            ],
            "type": "surface"
           }
          ],
          "table": [
           {
            "cells": {
             "fill": {
              "color": "#EBF0F8"
             },
             "line": {
              "color": "white"
             }
            },
            "header": {
             "fill": {
              "color": "#C8D4E3"
             },
             "line": {
              "color": "white"
             }
            },
            "type": "table"
           }
          ]
         },
         "layout": {
          "annotationdefaults": {
           "arrowcolor": "#2a3f5f",
           "arrowhead": 0,
           "arrowwidth": 1
          },
          "autotypenumbers": "strict",
          "coloraxis": {
           "colorbar": {
            "outlinewidth": 0,
            "ticks": ""
           }
          },
          "colorscale": {
           "diverging": [
            [
             0,
             "#8e0152"
            ],
            [
             0.1,
             "#c51b7d"
            ],
            [
             0.2,
             "#de77ae"
            ],
            [
             0.3,
             "#f1b6da"
            ],
            [
             0.4,
             "#fde0ef"
            ],
            [
             0.5,
             "#f7f7f7"
            ],
            [
             0.6,
             "#e6f5d0"
            ],
            [
             0.7,
             "#b8e186"
            ],
            [
             0.8,
             "#7fbc41"
            ],
            [
             0.9,
             "#4d9221"
            ],
            [
             1,
             "#276419"
            ]
           ],
           "sequential": [
            [
             0,
             "#0d0887"
            ],
            [
             0.1111111111111111,
             "#46039f"
            ],
            [
             0.2222222222222222,
             "#7201a8"
            ],
            [
             0.3333333333333333,
             "#9c179e"
            ],
            [
             0.4444444444444444,
             "#bd3786"
            ],
            [
             0.5555555555555556,
             "#d8576b"
            ],
            [
             0.6666666666666666,
             "#ed7953"
            ],
            [
             0.7777777777777778,
             "#fb9f3a"
            ],
            [
             0.8888888888888888,
             "#fdca26"
            ],
            [
             1,
             "#f0f921"
            ]
           ],
           "sequentialminus": [
            [
             0,
             "#0d0887"
            ],
            [
             0.1111111111111111,
             "#46039f"
            ],
            [
             0.2222222222222222,
             "#7201a8"
            ],
            [
             0.3333333333333333,
             "#9c179e"
            ],
            [
             0.4444444444444444,
             "#bd3786"
            ],
            [
             0.5555555555555556,
             "#d8576b"
            ],
            [
             0.6666666666666666,
             "#ed7953"
            ],
            [
             0.7777777777777778,
             "#fb9f3a"
            ],
            [
             0.8888888888888888,
             "#fdca26"
            ],
            [
             1,
             "#f0f921"
            ]
           ]
          },
          "colorway": [
           "#636efa",
           "#EF553B",
           "#00cc96",
           "#ab63fa",
           "#FFA15A",
           "#19d3f3",
           "#FF6692",
           "#B6E880",
           "#FF97FF",
           "#FECB52"
          ],
          "font": {
           "color": "#2a3f5f"
          },
          "geo": {
           "bgcolor": "white",
           "lakecolor": "white",
           "landcolor": "#E5ECF6",
           "showlakes": true,
           "showland": true,
           "subunitcolor": "white"
          },
          "hoverlabel": {
           "align": "left"
          },
          "hovermode": "closest",
          "mapbox": {
           "style": "light"
          },
          "paper_bgcolor": "white",
          "plot_bgcolor": "#E5ECF6",
          "polar": {
           "angularaxis": {
            "gridcolor": "white",
            "linecolor": "white",
            "ticks": ""
           },
           "bgcolor": "#E5ECF6",
           "radialaxis": {
            "gridcolor": "white",
            "linecolor": "white",
            "ticks": ""
           }
          },
          "scene": {
           "xaxis": {
            "backgroundcolor": "#E5ECF6",
            "gridcolor": "white",
            "gridwidth": 2,
            "linecolor": "white",
            "showbackground": true,
            "ticks": "",
            "zerolinecolor": "white"
           },
           "yaxis": {
            "backgroundcolor": "#E5ECF6",
            "gridcolor": "white",
            "gridwidth": 2,
            "linecolor": "white",
            "showbackground": true,
            "ticks": "",
            "zerolinecolor": "white"
           },
           "zaxis": {
            "backgroundcolor": "#E5ECF6",
            "gridcolor": "white",
            "gridwidth": 2,
            "linecolor": "white",
            "showbackground": true,
            "ticks": "",
            "zerolinecolor": "white"
           }
          },
          "shapedefaults": {
           "line": {
            "color": "#2a3f5f"
           }
          },
          "ternary": {
           "aaxis": {
            "gridcolor": "white",
            "linecolor": "white",
            "ticks": ""
           },
           "baxis": {
            "gridcolor": "white",
            "linecolor": "white",
            "ticks": ""
           },
           "bgcolor": "#E5ECF6",
           "caxis": {
            "gridcolor": "white",
            "linecolor": "white",
            "ticks": ""
           }
          },
          "title": {
           "x": 0.05
          },
          "xaxis": {
           "automargin": true,
           "gridcolor": "white",
           "linecolor": "white",
           "ticks": "",
           "title": {
            "standoff": 15
           },
           "zerolinecolor": "white",
           "zerolinewidth": 2
          },
          "yaxis": {
           "automargin": true,
           "gridcolor": "white",
           "linecolor": "white",
           "ticks": "",
           "title": {
            "standoff": 15
           },
           "zerolinecolor": "white",
           "zerolinewidth": 2
          }
         }
        },
        "title": {
         "font": {
          "color": "#151516"
         },
         "text": "Price Elasticity of Purchase Probability"
        },
        "xaxis": {
         "gridcolor": "#F6F6F6",
         "showgrid": true,
         "tickfont": {
          "color": "#666666"
         },
         "title": {
          "font": {
           "color": "#666666"
          },
          "text": "Prices"
         },
         "zerolinecolor": "#F6F6F6"
        },
        "yaxis": {
         "gridcolor": "#F6F6F6",
         "showgrid": true,
         "tickfont": {
          "color": "#666666"
         },
         "title": {
          "font": {
           "color": "#666666"
          },
          "text": "Elasticyti"
         },
         "zerolinecolor": "#F6F6F6"
        }
       }
      },
      "text/html": [
       "<div>                            <div id=\"be874cac-04bc-489b-bd15-89b06e3fa2b0\" class=\"plotly-graph-div\" style=\"height:525px; width:100%;\"></div>            <script type=\"text/javascript\">                require([\"plotly\"], function(Plotly) {                    window.PLOTLYENV=window.PLOTLYENV || {};\n",
       "                    window.PLOTLYENV.BASE_URL='https://plot.ly';                                    if (document.getElementById(\"be874cac-04bc-489b-bd15-89b06e3fa2b0\")) {                    Plotly.newPlot(                        \"be874cac-04bc-489b-bd15-89b06e3fa2b0\",                        [{\"line\":{\"color\":\"rgba(226, 74, 51, 1.0)\",\"dash\":\"solid\",\"shape\":\"linear\",\"width\":1.3},\"mode\":\"lines\",\"name\":\"means\",\"text\":\"\",\"type\":\"scatter\",\"x\":[0,1,2,3,4,5,6,7,8,9,10,11,12,13,14,15,16,17,18,19,20,21,22,23,24,25,26,27,28,29,30,31,32,33,34,35,36,37,38,39,40,41,42,43,44,45,46,47,48,49,50,51,52,53,54,55,56,57,58,59,60,61,62,63,64,65,66,67,68,69,70,71,72,73,74,75,76,77,78,79,80,81,82,83,84,85,86,87,88,89,90,91,92,93,94,95,96,97,98,99,100,101,102,103,104,105,106,107,108,109,110,111,112,113,114,115,116,117,118,119,120,121,122,123,124,125,126,127,128,129,130,131,132,133,134,135,136,137,138,139,140,141,142,143,144,145,146,147,148,149,150,151,152,153,154,155,156,157,158,159,160,161,162,163,164,165,166,167,168,169,170,171,172,173,174,175,176,177,178,179,180,181,182,183,184,185,186,187,188,189,190,191,192,193,194,195,196,197,198,199,200,201,202,203,204,205,206,207,208,209,210,211,212,213,214,215,216,217,218,219,220,221,222,223,224,225,226,227,228,229,230,231,232,233,234,235,236,237,238,239,240,241,242,243,244,245,246,247,248,249,250,251,252,253,254,255,256,257,258,259,260,261,262,263,264,265,266,267,268,269,270,271,272,273,274,275,276,277,278,279,280,281,282,283,284,285,286,287,288,289,290,291,292,293,294,295,296,297,298],\"y\":[-0.09639582835550818,-0.1004637808378074,-0.10465871295685428,-0.10898377680221519,-0.11344217636988857,-0.11803716724584516,-0.12277205621830221,-0.12765020081564188,-0.1326750087668632,-0.13784993738143306,-0.14317849284538883,-0.1486642294305424,-0.1543107486136332,-0.16012169810230112,-0.16610077076475585,-0.1722517034600683,-0.17857827576603527,-0.18508430860163935,-0.1917736627411797,-0.19865023721723274,-0.2057179676096963,-0.21298082421827,-0.22044281011585537,-0.22810795908048173,-0.2359803334035274,-0.24406402157216261,-0.2523631358241361,-0.260881809573209,-0.2696241947037813,-0.2785944587334742,-0.28779678184268853,-0.29723535377044064,-0.3069143705760559,-0.3168380312666112,-0.3270105342903539,-0.3374360738966548,-0.3481188363634276,-0.35906299609332337,-0.37027271158040503,-0.38175212124943075,-0.3935053391702859,-0.40553645065057636,-0.4178495077098337,-0.43044852443926523,-0.44333747225147,-0.45652027502503306,-0.4700008041494144,-0.4837828734760723,-0.4978702341822635,-0.5122665695545021,-0.5269754896991677,-0.5420005261882914,-0.5573451266490582,-0.5730126493060863,-0.5890063574860548,-0.6053294140947395,-0.6219848760770132,-0.6389756888708261,-0.6563046808666336,-0.6739745578841806,-0.691987897678924,-0.7103471444907874,-0.7290546036482526,-0.7481124362411287,-0.7675226538755934,-0.7872871135253473,-0.8074075124929082,-0.8278853834952064,-0.8487220898877725,-0.8699188210418003,-0.8914765878884272,-0.9133962186444572,-0.935678354733667,-0.9583234469176521,-0.9813317516499339,-1.0047033276667483,-1.0284380328276022,-1.0525355212182401,-1.0769952405282028,-1.1018164297146216,-1.1269981169632861,-1.1525391179573687,-1.1784380344634806,-1.2046932532439603,-1.2313029453034738,-1.2582650654771372,-1.2855773523664475,-1.3132373286283523,-1.3412423016217858,-1.3695893644149557,-1.398275397155605,-1.427297068805371,-1.4566508392382513,-1.486332961702065,-1.5163394856406287,-1.546666259873249,-1.577308936126969,-1.6082629729158702,-1.639523639760603,-1.671086021740211,-1.7029450243672268,-1.7350953787759564,-1.767531647212856,-1.8002482288169137,-1.8332393656770147,-1.8664991491523926,-1.900021526441418,-1.9338003073832226,-1.9678291714759364,-2.002101675094665,-2.036611258891794,-2.0713512553616478,-2.1063148965511616,-2.14149532189783,-2.1768855861759557,-2.212478667531971,-2.2482674755895693,-2.2842448596052503,-2.320403616654988,-2.356736499832812,-2.3932362264422826,-2.4298954861620965,-2.466706949167414,-2.503663274188856,-2.5407571164916156,-2.577981135757624,-2.6153280038543185,-2.6527904124741566,-2.6903610806297356,-2.7280327619900855,-2.765798252044451,-2.8036503950807288,-2.8415820909665004,-2.8795863017214867,-2.917656057871136,-2.9557844645719173,-2.9939647074998335,-3.0321900584945474,-3.070453880952454,-3.1087496349629196,-3.1470708821828373,-3.1854112904455163,-3.223764638100834,-3.262124818084419,-3.3004858417144773,-3.338841842215713,-3.3771870779705555,-3.415515935498695,-3.453822932166644,-3.4921027186297313,-3.5303500810096278,-3.568559942811091,-3.606727366582221,-3.6448475553230835,-3.6829158536480198,-3.720927748707489,-3.7588788708756637,-3.796764994210446,-3.8345820366928507,-3.8723260602530583,-3.909993270590741,-3.9475800167974047,-3.985082790788778,-4.022498226555382,-4.059823099239572,-4.097054324047443,-4.134188955003972,-4.1712241835599295,-4.208157337058974,-4.244985877073402,-4.2817073976168984,-4.31831962324262,-4.35482040703483,-4.391207728502143,-4.427479691380356,-4.463634521352632,-4.499670563694687,-4.535586280852407,-4.571380249959097,-4.607051160299449,-4.642597810726971,-4.678019107041514,-4.713314059333182,-4.74848177929876,-4.783521477536523,-4.818432460825005,-4.853214129391119,-4.887865974172691,-4.9223875740803065,-4.956778593263062,-4.991038778382541,-5.025167955899178,-5.059166029374827,-5.093032976795197,-5.126768847915505,-5.160373761632531,-5.193847903386011,-5.227191522592048,-5.26040493011109,-5.293488495752701,-5.326442645819284,-5.3592678606906174,-5.391964672450894,-5.424533662559849,-5.456975459569278,-5.489290736886183,-5.521480210583545,-5.553544637259613,-5.5854848119464835,-5.617301566068518,-5.648995765451124,-5.680568308380208,-5.712020123712566,-5.74335216903734,-5.774565428888538,-5.8056609130085635,-5.83663965466262,-5.867502709003694,-5.89825115148785,-5.928886076339395,-5.959408595065503,-5.98981983501975,-6.020120938013975,-6.05031305897788,-6.080397364665652,-6.110375032408927,-6.140247248915329,-6.170015209111778,-6.199680115031803,-6.229243174745968,-6.258705601334574,-6.288068611901736,-6.317333426629966,-6.346501267874306,-6.37557335929513,-6.40455092502865,-6.433435188894205,-6.462227373637408,-6.490928700208165,-6.519540387072667,-6.548063649558412,-6.57649969923129,-6.604849743303841,-6.633114984073746,-6.661296618391635,-6.6893958371573286,-6.717413824843582,-6.745351759046506,-6.773210810061731,-6.800992140485523,-6.828696904839962,-6.856326249221377,-6.883881310971226,-6.911363218368618,-6.938773090343712,-6.966112036211197,-6.993381155423146,-7.0205815373404965,-7.0477142610224215,-7.074780395032944,-7.10178099726406,-7.128717114774768,-7.155589783645308,-7.182400028845998,-7.209148864120091,-7.23583729188001,-7.262466303116419,-7.28903687731955,-7.315549982412254,-7.342006574694261,-7.368407598797105,-7.394753987649249,-7.421046662450926,-7.447286532658221,-7.473474495975958,-7.499611438358944,-7.525698234021178,-7.551735745452588,-7.577724823442933,-7.603666307112461,-7.6295610239490035,-7.65540978985112,-7.681213409176967,-7.706972674798558,-7.732688368161129,-7.7583612593472715,-7.783992107145571,-7.8095816591234435,-7.835130651703941,-7.86063981024624,-7.886109849129564,-7.911541471840332,-7.936935371062264,-7.96229222876926,-7.98761271632084,-8.01289749455991,-8.038147213912719,-8.063362514490766,-8.088544026194528]},{\"line\":{\"color\":\"rgba(62, 111, 176, 1.0)\",\"dash\":\"solid\",\"shape\":\"linear\",\"width\":1.3},\"mode\":\"lines\",\"name\":\"pe_seg1\",\"text\":\"\",\"type\":\"scatter\",\"x\":[0,1,2,3,4,5,6,7,8,9,10,11,12,13,14,15,16,17,18,19,20,21,22,23,24,25,26,27,28,29,30,31,32,33,34,35,36,37,38,39,40,41,42,43,44,45,46,47,48,49,50,51,52,53,54,55,56,57,58,59,60,61,62,63,64,65,66,67,68,69,70,71,72,73,74,75,76,77,78,79,80,81,82,83,84,85,86,87,88,89,90,91,92,93,94,95,96,97,98,99,100,101,102,103,104,105,106,107,108,109,110,111,112,113,114,115,116,117,118,119,120,121,122,123,124,125,126,127,128,129,130,131,132,133,134,135,136,137,138,139,140,141,142,143,144,145,146,147,148,149,150,151,152,153,154,155,156,157,158,159,160,161,162,163,164,165,166,167,168,169,170,171,172,173,174,175,176,177,178,179,180,181,182,183,184,185,186,187,188,189,190,191,192,193,194,195,196,197,198,199,200,201,202,203,204,205,206,207,208,209,210,211,212,213,214,215,216,217,218,219,220,221,222,223,224,225,226,227,228,229,230,231,232,233,234,235,236,237,238,239,240,241,242,243,244,245,246,247,248,249,250,251,252,253,254,255,256,257,258,259,260,261,262,263,264,265,266,267,268,269,270,271,272,273,274,275,276,277,278,279,280,281,282,283,284,285,286,287,288,289,290,291,292,293,294,295,296,297,298],\"y\":[-0.11908833683118748,-0.12327133527554841,-0.12754767107037768,-0.13191880268604195,-0.13638619653441655,-0.14095132651478373,-0.14561567354151017,-0.150380725053354,-0.15524797450426914,-0.1602189208355898,-0.16529506792950335,-0.17047792404373882,-0.17576900122741723,-0.1811698147180383,-0.1866818823195978,-0.1923067237618588,-0.19804586004081823,-0.20390081274045044,-0.20987310333582204,-0.2159642524777137,-0.2221757792589077,-0.2285092004623305,-0.23496602979127554,-0.24154777708196198,-0.24825594749871224,-0.25509204071207797,-0.2620575500602654,-0.2691539616942547,-0.27638275370704163,-0.2837453952474643,-0.2912433456191191,-0.29887805336490286,-0.3066509553377592,-0.3145634757582425,-0.3226170252595561,-0.33081299992075175,-0.3391527802888252,-0.34763773039047313,-0.3562691967343213,-0.3650485073044671,-0.37397697054622003,-0.38305587434496347,-0.39228648499908914,-0.4016700461880041,-0.41120777793623675,-0.4209008755747036,-0.43075050870023934,-0.44075782013451603,-0.45092392488351357,-0.4612499090987367,-0.4717368290413935,-0.48238571005078795,-0.49319754551819506,-0.5041732958675182,-0.5153138875440478,-0.526620212012655,-0.538093124766781,-0.5497334443495929,-0.5615419513886851,-0.5735193876457293,-0.5856664550824717,-0.5979838149444845,-0.6104720868640887,-0.6231318479838553,-0.6359636321020945,-0.6489679288417383,-0.6621451828440079,-0.6754957929882496,-0.6890201116393058,-0.7027184439237737,-0.7165910470364746,-0.7306381295784428,-0.7448598509277105,-0.7592563206441254,-0.7738275979094311,-0.7885736910037648,-0.8034945568197189,-0.8185901004150575,-0.833860174605131,-0.8493045795959782,-0.8649230626590754,-0.8807153178486062,-0.8966809857620914,-0.912819653345148,-0.9291308537410883,-0.9456140661859974,-0.9622687159498705,-0.9790941743243171,-0.9960897586572625,-1.0132547324350138,-1.030588305411984,-1.048089633788268,-1.0657578204352325,-1.0835919151691524,-1.101590915072885,-1.119753764865479,-1.1380793573195325,-1.1565665337260402,-1.1752140844063892,-1.194020749271079,-1.2129852184246628,-1.2321061328163327,-1.2513820849354882,-1.270811619551549,-1.2903932344972056,-1.3101253814942195,-1.3300064670208114,-1.3500348532196131,-1.370208858845085,-1.3905267602492275,-1.4109867924043717,-1.4315871499617472,-1.452325988344489,-1.473201424873673,-1.4942115399259346,-1.51535437812115,-1.5366279495386508,-1.5580302309603595,-1.5795591671392248,-1.6012126720912874,-1.6229886304096817,-1.644884898598835,-1.666899306427133,-1.6890296582962638,-1.7112737346254654,-1.7336292932488746,-1.7560940708241706,-1.778665784250701,-1.8013421320952816,-1.8241207960238592,-1.8469994422372353,-1.8699757229090592,-1.8930472776243228,-1.916211734816581,-1.9394667132021763,-1.962809823209752,-1.9862386684033573,-2.009750846897511,-2.0333439527625874,-2.057015577418947,-2.080763311018274,-2.1045847438106158,-2.128477467495664,-2.152439076556878,-2.176467169577085,-2.200559350534244,-2.224713230076128,-2.2489264267727083,-2.273196568345107,-2.29752129287002,-2.3218982499585863,-2.3463251019087195,-2.370799524829998,-2.3953192097402694,-2.419881863633151,-2.4444852105157175,-2.469126992415705,-2.49380497035761,-2.5185169253071473,-2.5432606590835634,-2.568033995239398,-2.592834779907312,-2.6176608826136687,-2.6425101970586202,-2.6673806418625055,-2.6922701612784214,-2.717176725870865,-2.7420983331604267,-2.7670330082345536,-2.79197880432445,-2.816933803348218,-2.8418961164204215,-2.8668638843282745,-2.891835277974704,-2.9168084987885856,-2.9417817791024823,-2.9667533824982626,-2.9917216041210146,-3.016684770961681,-3.041641242108897,-3.066589408970559,-3.0915276954656266,-3.116454558186738,-3.1413684865342253,-3.1662680028221346,-3.1911516623568854,-3.2160180534892175,-3.2408657976400836,-3.2656935493011967,-3.2904999960109014,-3.3152838583060933,-3.3400438896508997,-3.3647788763428523,-3.389487637397297,-3.4141690244107648,-3.4388219214040547,-3.463445244645788,-3.488037942457184,-3.512598994998776,-3.5371274140398548,-3.5616222427113713,-3.586082555243038,-3.61050745668536,-3.6348960826173515,-3.659247598840629,-3.683561201060639,-3.70783611455569,-3.7320715938345126,-3.7562669222830247,-3.7804214118010036,-3.8045344024292826,-3.828605261968179,-3.8526333855877706,-3.876618195430647,-3.900559140207756,-3.924455694787949,-3.9483073597817966,-3.9721136611202734,-3.9958741496288392,-4.019588400597467,-4.043256013347153,-4.066876610793418,-4.090449839007266,-4.113975366774114,-4.13745288515114,-4.160882107023493,-4.184262766659797,-4.207594619267373,-4.2308774405475456,-4.254111026251481,-4.2772951917368465,-4.300429771525699,-4.323514618863919,-4.346549605282515,-4.369534620161111,-4.392469570293875,-4.415354379458237,-4.438188987986582,-4.460973352341223,-4.483707444692862,-4.506391252502773,-4.5290247781089175,-4.551608038316179,-4.5741410639909175,-4.5966238996599955,-4.619056603114467,-4.641439245018045,-4.663771908520499,-4.686054688876125,-4.7082876930673825,-4.730471039433814,-4.752604857306345,-4.7746892866470505,-4.796724477694471,-4.818710590614528,-4.84064779515713,-4.862536270318494,-4.8843762040092455,-4.9061677927283265,-4.92791124124273,-4.949606762273105,-4.971254576185247,-4.992854910687453,-5.014408000533779,-5.035914087233186,-5.057373418764563,-5.078786249297613,-5.100152838919589,-5.121473453367858,-5.142748363768264,-5.163977846379253,-5.185162182341725,-5.206301657434588,-5.227396561835959,-5.248447189889955,-5.2694538398790485,-5.290416813801923,-5.311336417156769,-5.332212958729969,-5.353046750390111,-5.373838106887269,-5.394587345657488,-5.415294786632402,-5.435960752053914,-5.456585566293885,-5.4771695556787545,-5.497713048319012,-5.5182163739434476,-5.538679863738128,-5.559103850190005,-5.5794886669350765,-5.5998346486110435,-5.6201421307143775,-5.640411449461709,-5.660642941655495,-5.680836944553836,-5.700993795744418,-5.721113833022473,-5.741197394272685]},{\"line\":{\"color\":\"rgba(132, 118, 202, 1.0)\",\"dash\":\"solid\",\"shape\":\"linear\",\"width\":1.3},\"mode\":\"lines\",\"name\":\"pe_seg2\",\"text\":\"\",\"type\":\"scatter\",\"x\":[0,1,2,3,4,5,6,7,8,9,10,11,12,13,14,15,16,17,18,19,20,21,22,23,24,25,26,27,28,29,30,31,32,33,34,35,36,37,38,39,40,41,42,43,44,45,46,47,48,49,50,51,52,53,54,55,56,57,58,59,60,61,62,63,64,65,66,67,68,69,70,71,72,73,74,75,76,77,78,79,80,81,82,83,84,85,86,87,88,89,90,91,92,93,94,95,96,97,98,99,100,101,102,103,104,105,106,107,108,109,110,111,112,113,114,115,116,117,118,119,120,121,122,123,124,125,126,127,128,129,130,131,132,133,134,135,136,137,138,139,140,141,142,143,144,145,146,147,148,149,150,151,152,153,154,155,156,157,158,159,160,161,162,163,164,165,166,167,168,169,170,171,172,173,174,175,176,177,178,179,180,181,182,183,184,185,186,187,188,189,190,191,192,193,194,195,196,197,198,199,200,201,202,203,204,205,206,207,208,209,210,211,212,213,214,215,216,217,218,219,220,221,222,223,224,225,226,227,228,229,230,231,232,233,234,235,236,237,238,239,240,241,242,243,244,245,246,247,248,249,250,251,252,253,254,255,256,257,258,259,260,261,262,263,264,265,266,267,268,269,270,271,272,273,274,275,276,277,278,279,280,281,282,283,284,285,286,287,288,289,290,291,292,293,294,295,296,297,298],\"y\":[-0.030920688762711604,-0.032687645274033665,-0.03454149694081637,-0.03648612334407846,-0.03852556137646616,-0.04066401072013246,-0.04290583945080116,-0.04525558976541037,-0.04771798383011227,-0.05029792974469128,-0.05300052761874012,-0.05583107575410896,-0.05879507692726365,-0.06189824476426907,-0.06514651020007116,-0.06854602801268837,-0.07210318342174617,-0.07582459873954363,-0.07971714006151938,-0.08378792398156097,-0.08804432431611524,-0.09249397881944428,-0.09714479587070768,-0.10200496111175808,-0.10708294401268394,-0.11238750434014455,-0.11792769850150309,-0.12371288573560454,-0.12975273411878951,-0.13605722635243406,-0.14263666529585486,-0.14950167920595533,-0.1566632266424162,-0.16413260099459634,-0.1719214345836496,-0.18004170229062086,-0.18850572465855775,-0.19732617041388556,-0.20651605834955736,-0.21608875850975087,-0.22605799261320286,-0.23643783364965112,-0.24724270458136802,-0.2584873760793731,-0.27018696322170915,-0.28235692107916105,-0.2950130391120457,-0.30817143430018257,-0.3218485429270715,-0.3360611109384679,-0.3508261827952762,-0.3661610887407703,-0.38208343040289117,-0.39861106465362073,-0.41576208564939926,-0.433554804979188,-0.45200772985024745,-0.47113953924592483,-0.4909690579949521,-0.5115152286978173,-0.5327970814629102,-0.5548337014132789,-0.5776441939340574,-0.601247647641001,-0.6256630950620495,-0.650909471036495,-0.6770055688501618,-0.7039699941399709,-0.731821116617363,-0.7605770196772522,-0.7902554479773831,-0.8208737530921625,-0.8524488373650149,-0.88499709610413,-0.9185343582877608,-0.9530758259670716,-0.9886360125765329,-1.025228680383954,-1.0628667773341154,-1.101562373561434,-1.1413265978678118,-1.1821695744816247,-1.2241003604322367,-1.2671268838913834,-1.3112558838477135,-1.3564928514936103,-1.4028419737136666,-1.450306079071665,-1.4988865866972558,-1.548583458474537,-1.5993951549321133,-1.651318595227823,-1.7043491216109237,-1.7584804687300635,-1.8137047381367544,-1.870012378311227,-1.9273921705106751,-1.9858312207088993,-2.045314957861596,-2.105827138693112,-2.1673498591587625,-2.2298635726920892,-2.2933471152992673,-2.357777737513525,-2.423131143171646,-2.4893815349227926,-2.556501666327745,-2.624462900354624,-2.693235274026174,-2.762787568924027,-2.8330873872079763,-2.9041012327635314,-2.9757945970496618,-3.0481320491810076,-3.1210773297456145,-3.1945934478307505,-3.2686427807058553,-3.3431871755936573,-3.4181880529479627,-3.493606510649718,-3.5694034285318383,-3.64553957264777,-3.7219756987087185,-3.7986726541297697,-3.8755914781454637,-3.952693499480244,-4.029940431088484,-4.107294461511738,-4.1847183424371375,-4.26217547207995,-4.3396299740545015,-4.417046771440653,-4.494391655797045,-4.571631350916893,-4.648733571166719,-4.725667074292651,-4.802401708621968,-4.878908454629547,-4.95515946087882,-5.031128074384868,-5.106788865482783,-5.182117647317404,-5.257091490100493,-5.331688730308636,-5.4058889750190735,-5.479673101601611,-5.553023253002518,-5.625922828871019,-5.698356472790609,-5.770310055886219,-5.841770657084183,-5.912726540305331,-5.983167128872323,-6.053082977411089,-6.122465741522583,-6.19130814549586,-6.259603948326444,-6.327347908295479,-6.394535746355425,-6.461164108557395,-6.527230527743538,-6.592733384715604,-6.657671869078042,-6.722045939940831,-6.7858562866539796,-6.84910428973213,-6.911791982114472,-6.973922010891946,-7.035497599620883,-7.096522511329625,-7.157001012312561,-7.216937836794331,-7.276338152535886,-7.335207527443397,-7.393551897231118,-7.45137753417986,-7.508691017023951,-7.565499201991485,-7.621809195014972,-7.67762832512272,-7.732964119014888,-7.78782427682234,-7.842216649041354,-7.896149214632441,-7.949630060267561,-8.00266736070622,-8.055269360277785,-8.107444355444695,-8.159200678418715,-8.210546681800622,-8.261490724211864,-8.31204115688563,-8.362206311183682,-8.411994487004518,-8.461413942048077,-8.510472881901778,-8.559179450912794,-8.607541723811433,-8.655567698050806,-8.70326528682844,-8.750642312755934,-8.797706502143473,-8.84446547986667,-8.890926764784052,-8.937097765674405,-8.98298577766402,-9.028597979114934,-9.073941428946176,-9.119023064361112,-9.163849698954966,-9.208428021177596,-9.252764593127756,-9.296865849655946,-9.340738097754166,-9.384387516211701,-9.427820155517198,-9.471041937988252,-9.514058658110601,-9.556875983070025,-9.599499453460925,-9.641934484156417,-9.684186365325667,-9.726260263584921,-9.768161223269594,-9.809894167815399,-9.851463901237372,-9.89287510969619,-9.934132363141952,-9.975240117026221,-10.016202714073646,-10.057024386105173,-10.09770925590531,-10.138261339126496,-10.178684546224083,-10.218982684415913,-10.259159459660935,-10.299218478651705,-10.33916325081602,-10.378997190323327,-10.41872361809182,-10.458345763792625,-10.497866767847611,-10.537289683417788,-10.576617478379452,-10.615853037285532,-10.654999163309862,-10.694058580172202,-10.733033934042243,-10.771927795420844,-10.81074266099703,-10.84948095547947,-10.888145033401154,-10.926737180896449,-10.965259617449465,-11.00371449761312,-11.0421039126982,-11.080429892431944,-11.118694406585716,-11.156899366571428,-11.195046627006514,-11.233137987247249,-11.271175192890379,-11.309159937243026,-11.347093862760854,-11.384978562454705,-11.42281558126575,-11.46060641740941,-11.49835252368826,-11.536055308774179,-11.573716138460101,-11.61133633688163,-11.648917187708946,-11.686459935309367,-11.723965785880967,-11.76143590855769,-11.798871436486397,-11.836273467876307,-11.8736430670213,-11.910981265295554,-11.948289062123012,-11.985567425921154,-12.022817295019617,-12.060039578554093,-12.097235157336058,-12.134404884698846,-12.171549587320518,-12.208670066024101,-12.245767096555605,-12.28284143034044,-12.319893795218597,-12.356924896159198,-12.393935415954813,-12.430926015896087,-12.467897336427145,-12.504849997782182,-12.541784600603803,-12.578701726543501,-12.615601938844737,-12.652485782909077]}],                        {\"legend\":{\"bgcolor\":\"#FFFFFF\",\"font\":{\"color\":\"#666666\"}},\"paper_bgcolor\":\"#FFFFFF\",\"plot_bgcolor\":\"#E5E5E5\",\"template\":{\"data\":{\"bar\":[{\"error_x\":{\"color\":\"#2a3f5f\"},\"error_y\":{\"color\":\"#2a3f5f\"},\"marker\":{\"line\":{\"color\":\"#E5ECF6\",\"width\":0.5},\"pattern\":{\"fillmode\":\"overlay\",\"size\":10,\"solidity\":0.2}},\"type\":\"bar\"}],\"barpolar\":[{\"marker\":{\"line\":{\"color\":\"#E5ECF6\",\"width\":0.5},\"pattern\":{\"fillmode\":\"overlay\",\"size\":10,\"solidity\":0.2}},\"type\":\"barpolar\"}],\"carpet\":[{\"aaxis\":{\"endlinecolor\":\"#2a3f5f\",\"gridcolor\":\"white\",\"linecolor\":\"white\",\"minorgridcolor\":\"white\",\"startlinecolor\":\"#2a3f5f\"},\"baxis\":{\"endlinecolor\":\"#2a3f5f\",\"gridcolor\":\"white\",\"linecolor\":\"white\",\"minorgridcolor\":\"white\",\"startlinecolor\":\"#2a3f5f\"},\"type\":\"carpet\"}],\"choropleth\":[{\"colorbar\":{\"outlinewidth\":0,\"ticks\":\"\"},\"type\":\"choropleth\"}],\"contour\":[{\"colorbar\":{\"outlinewidth\":0,\"ticks\":\"\"},\"colorscale\":[[0.0,\"#0d0887\"],[0.1111111111111111,\"#46039f\"],[0.2222222222222222,\"#7201a8\"],[0.3333333333333333,\"#9c179e\"],[0.4444444444444444,\"#bd3786\"],[0.5555555555555556,\"#d8576b\"],[0.6666666666666666,\"#ed7953\"],[0.7777777777777778,\"#fb9f3a\"],[0.8888888888888888,\"#fdca26\"],[1.0,\"#f0f921\"]],\"type\":\"contour\"}],\"contourcarpet\":[{\"colorbar\":{\"outlinewidth\":0,\"ticks\":\"\"},\"type\":\"contourcarpet\"}],\"heatmap\":[{\"colorbar\":{\"outlinewidth\":0,\"ticks\":\"\"},\"colorscale\":[[0.0,\"#0d0887\"],[0.1111111111111111,\"#46039f\"],[0.2222222222222222,\"#7201a8\"],[0.3333333333333333,\"#9c179e\"],[0.4444444444444444,\"#bd3786\"],[0.5555555555555556,\"#d8576b\"],[0.6666666666666666,\"#ed7953\"],[0.7777777777777778,\"#fb9f3a\"],[0.8888888888888888,\"#fdca26\"],[1.0,\"#f0f921\"]],\"type\":\"heatmap\"}],\"heatmapgl\":[{\"colorbar\":{\"outlinewidth\":0,\"ticks\":\"\"},\"colorscale\":[[0.0,\"#0d0887\"],[0.1111111111111111,\"#46039f\"],[0.2222222222222222,\"#7201a8\"],[0.3333333333333333,\"#9c179e\"],[0.4444444444444444,\"#bd3786\"],[0.5555555555555556,\"#d8576b\"],[0.6666666666666666,\"#ed7953\"],[0.7777777777777778,\"#fb9f3a\"],[0.8888888888888888,\"#fdca26\"],[1.0,\"#f0f921\"]],\"type\":\"heatmapgl\"}],\"histogram\":[{\"marker\":{\"pattern\":{\"fillmode\":\"overlay\",\"size\":10,\"solidity\":0.2}},\"type\":\"histogram\"}],\"histogram2d\":[{\"colorbar\":{\"outlinewidth\":0,\"ticks\":\"\"},\"colorscale\":[[0.0,\"#0d0887\"],[0.1111111111111111,\"#46039f\"],[0.2222222222222222,\"#7201a8\"],[0.3333333333333333,\"#9c179e\"],[0.4444444444444444,\"#bd3786\"],[0.5555555555555556,\"#d8576b\"],[0.6666666666666666,\"#ed7953\"],[0.7777777777777778,\"#fb9f3a\"],[0.8888888888888888,\"#fdca26\"],[1.0,\"#f0f921\"]],\"type\":\"histogram2d\"}],\"histogram2dcontour\":[{\"colorbar\":{\"outlinewidth\":0,\"ticks\":\"\"},\"colorscale\":[[0.0,\"#0d0887\"],[0.1111111111111111,\"#46039f\"],[0.2222222222222222,\"#7201a8\"],[0.3333333333333333,\"#9c179e\"],[0.4444444444444444,\"#bd3786\"],[0.5555555555555556,\"#d8576b\"],[0.6666666666666666,\"#ed7953\"],[0.7777777777777778,\"#fb9f3a\"],[0.8888888888888888,\"#fdca26\"],[1.0,\"#f0f921\"]],\"type\":\"histogram2dcontour\"}],\"mesh3d\":[{\"colorbar\":{\"outlinewidth\":0,\"ticks\":\"\"},\"type\":\"mesh3d\"}],\"parcoords\":[{\"line\":{\"colorbar\":{\"outlinewidth\":0,\"ticks\":\"\"}},\"type\":\"parcoords\"}],\"pie\":[{\"automargin\":true,\"type\":\"pie\"}],\"scatter\":[{\"marker\":{\"colorbar\":{\"outlinewidth\":0,\"ticks\":\"\"}},\"type\":\"scatter\"}],\"scatter3d\":[{\"line\":{\"colorbar\":{\"outlinewidth\":0,\"ticks\":\"\"}},\"marker\":{\"colorbar\":{\"outlinewidth\":0,\"ticks\":\"\"}},\"type\":\"scatter3d\"}],\"scattercarpet\":[{\"marker\":{\"colorbar\":{\"outlinewidth\":0,\"ticks\":\"\"}},\"type\":\"scattercarpet\"}],\"scattergeo\":[{\"marker\":{\"colorbar\":{\"outlinewidth\":0,\"ticks\":\"\"}},\"type\":\"scattergeo\"}],\"scattergl\":[{\"marker\":{\"colorbar\":{\"outlinewidth\":0,\"ticks\":\"\"}},\"type\":\"scattergl\"}],\"scattermapbox\":[{\"marker\":{\"colorbar\":{\"outlinewidth\":0,\"ticks\":\"\"}},\"type\":\"scattermapbox\"}],\"scatterpolar\":[{\"marker\":{\"colorbar\":{\"outlinewidth\":0,\"ticks\":\"\"}},\"type\":\"scatterpolar\"}],\"scatterpolargl\":[{\"marker\":{\"colorbar\":{\"outlinewidth\":0,\"ticks\":\"\"}},\"type\":\"scatterpolargl\"}],\"scatterternary\":[{\"marker\":{\"colorbar\":{\"outlinewidth\":0,\"ticks\":\"\"}},\"type\":\"scatterternary\"}],\"surface\":[{\"colorbar\":{\"outlinewidth\":0,\"ticks\":\"\"},\"colorscale\":[[0.0,\"#0d0887\"],[0.1111111111111111,\"#46039f\"],[0.2222222222222222,\"#7201a8\"],[0.3333333333333333,\"#9c179e\"],[0.4444444444444444,\"#bd3786\"],[0.5555555555555556,\"#d8576b\"],[0.6666666666666666,\"#ed7953\"],[0.7777777777777778,\"#fb9f3a\"],[0.8888888888888888,\"#fdca26\"],[1.0,\"#f0f921\"]],\"type\":\"surface\"}],\"table\":[{\"cells\":{\"fill\":{\"color\":\"#EBF0F8\"},\"line\":{\"color\":\"white\"}},\"header\":{\"fill\":{\"color\":\"#C8D4E3\"},\"line\":{\"color\":\"white\"}},\"type\":\"table\"}]},\"layout\":{\"annotationdefaults\":{\"arrowcolor\":\"#2a3f5f\",\"arrowhead\":0,\"arrowwidth\":1},\"autotypenumbers\":\"strict\",\"coloraxis\":{\"colorbar\":{\"outlinewidth\":0,\"ticks\":\"\"}},\"colorscale\":{\"diverging\":[[0,\"#8e0152\"],[0.1,\"#c51b7d\"],[0.2,\"#de77ae\"],[0.3,\"#f1b6da\"],[0.4,\"#fde0ef\"],[0.5,\"#f7f7f7\"],[0.6,\"#e6f5d0\"],[0.7,\"#b8e186\"],[0.8,\"#7fbc41\"],[0.9,\"#4d9221\"],[1,\"#276419\"]],\"sequential\":[[0.0,\"#0d0887\"],[0.1111111111111111,\"#46039f\"],[0.2222222222222222,\"#7201a8\"],[0.3333333333333333,\"#9c179e\"],[0.4444444444444444,\"#bd3786\"],[0.5555555555555556,\"#d8576b\"],[0.6666666666666666,\"#ed7953\"],[0.7777777777777778,\"#fb9f3a\"],[0.8888888888888888,\"#fdca26\"],[1.0,\"#f0f921\"]],\"sequentialminus\":[[0.0,\"#0d0887\"],[0.1111111111111111,\"#46039f\"],[0.2222222222222222,\"#7201a8\"],[0.3333333333333333,\"#9c179e\"],[0.4444444444444444,\"#bd3786\"],[0.5555555555555556,\"#d8576b\"],[0.6666666666666666,\"#ed7953\"],[0.7777777777777778,\"#fb9f3a\"],[0.8888888888888888,\"#fdca26\"],[1.0,\"#f0f921\"]]},\"colorway\":[\"#636efa\",\"#EF553B\",\"#00cc96\",\"#ab63fa\",\"#FFA15A\",\"#19d3f3\",\"#FF6692\",\"#B6E880\",\"#FF97FF\",\"#FECB52\"],\"font\":{\"color\":\"#2a3f5f\"},\"geo\":{\"bgcolor\":\"white\",\"lakecolor\":\"white\",\"landcolor\":\"#E5ECF6\",\"showlakes\":true,\"showland\":true,\"subunitcolor\":\"white\"},\"hoverlabel\":{\"align\":\"left\"},\"hovermode\":\"closest\",\"mapbox\":{\"style\":\"light\"},\"paper_bgcolor\":\"white\",\"plot_bgcolor\":\"#E5ECF6\",\"polar\":{\"angularaxis\":{\"gridcolor\":\"white\",\"linecolor\":\"white\",\"ticks\":\"\"},\"bgcolor\":\"#E5ECF6\",\"radialaxis\":{\"gridcolor\":\"white\",\"linecolor\":\"white\",\"ticks\":\"\"}},\"scene\":{\"xaxis\":{\"backgroundcolor\":\"#E5ECF6\",\"gridcolor\":\"white\",\"gridwidth\":2,\"linecolor\":\"white\",\"showbackground\":true,\"ticks\":\"\",\"zerolinecolor\":\"white\"},\"yaxis\":{\"backgroundcolor\":\"#E5ECF6\",\"gridcolor\":\"white\",\"gridwidth\":2,\"linecolor\":\"white\",\"showbackground\":true,\"ticks\":\"\",\"zerolinecolor\":\"white\"},\"zaxis\":{\"backgroundcolor\":\"#E5ECF6\",\"gridcolor\":\"white\",\"gridwidth\":2,\"linecolor\":\"white\",\"showbackground\":true,\"ticks\":\"\",\"zerolinecolor\":\"white\"}},\"shapedefaults\":{\"line\":{\"color\":\"#2a3f5f\"}},\"ternary\":{\"aaxis\":{\"gridcolor\":\"white\",\"linecolor\":\"white\",\"ticks\":\"\"},\"baxis\":{\"gridcolor\":\"white\",\"linecolor\":\"white\",\"ticks\":\"\"},\"bgcolor\":\"#E5ECF6\",\"caxis\":{\"gridcolor\":\"white\",\"linecolor\":\"white\",\"ticks\":\"\"}},\"title\":{\"x\":0.05},\"xaxis\":{\"automargin\":true,\"gridcolor\":\"white\",\"linecolor\":\"white\",\"ticks\":\"\",\"title\":{\"standoff\":15},\"zerolinecolor\":\"white\",\"zerolinewidth\":2},\"yaxis\":{\"automargin\":true,\"gridcolor\":\"white\",\"linecolor\":\"white\",\"ticks\":\"\",\"title\":{\"standoff\":15},\"zerolinecolor\":\"white\",\"zerolinewidth\":2}}},\"title\":{\"font\":{\"color\":\"#151516\"},\"text\":\"Price Elasticity of Purchase Probability\"},\"xaxis\":{\"gridcolor\":\"#F6F6F6\",\"showgrid\":true,\"tickfont\":{\"color\":\"#666666\"},\"title\":{\"font\":{\"color\":\"#666666\"},\"text\":\"Prices\"},\"zerolinecolor\":\"#F6F6F6\"},\"yaxis\":{\"gridcolor\":\"#F6F6F6\",\"showgrid\":true,\"tickfont\":{\"color\":\"#666666\"},\"title\":{\"font\":{\"color\":\"#666666\"},\"text\":\"Elasticyti\"},\"zerolinecolor\":\"#F6F6F6\"}},                        {\"showLink\": true, \"linkText\": \"Export to plot.ly\", \"plotlyServerURL\": \"https://plot.ly\", \"responsive\": true}                    ).then(function(){\n",
       "                            \n",
       "var gd = document.getElementById('be874cac-04bc-489b-bd15-89b06e3fa2b0');\n",
       "var x = new MutationObserver(function (mutations, observer) {{\n",
       "        var display = window.getComputedStyle(gd).display;\n",
       "        if (!display || display === 'none') {{\n",
       "            console.log([gd, 'removed!']);\n",
       "            Plotly.purge(gd);\n",
       "            observer.disconnect();\n",
       "        }}\n",
       "}});\n",
       "\n",
       "// Listen for the removal of the full notebook cells\n",
       "var notebookContainer = gd.closest('#notebook-container');\n",
       "if (notebookContainer) {{\n",
       "    x.observe(notebookContainer, {childList: true});\n",
       "}}\n",
       "\n",
       "// Listen for the clearing of the current output cell\n",
       "var outputEl = gd.closest('.output');\n",
       "if (outputEl) {{\n",
       "    x.observe(outputEl, {childList: true});\n",
       "}}\n",
       "\n",
       "                        })                };                });            </script>        </div>"
      ]
     },
     "metadata": {},
     "output_type": "display_data"
    }
   ],
   "source": [
    "df_price_elasticity[['means','pe_seg1', 'pe_seg2']].iplot(kind = 'line', xTitle = 'Prices', yTitle = 'Elasticyti', \n",
    "                          title = 'Price Elasticity of Purchase Probability')"
   ]
  },
  {
   "cell_type": "markdown",
   "id": "b9051607",
   "metadata": {},
   "source": [
    "#### Segment 0 - Standard"
   ]
  },
  {
   "cell_type": "code",
   "execution_count": 33,
   "id": "d3495696",
   "metadata": {},
   "outputs": [],
   "source": [
    "segment0 = data[data['segment']==0]\n",
    "\n",
    "mean_price = (segment0['Price_1'] + segment0['Price_2'] + \n",
    "                   \n",
    "                   segment0[\"Price_3\"] + segment0['Price_4'] + segment0['Price_5']\n",
    "                   ) /5\n",
    "\n",
    "\n",
    "X = pd.DataFrame()\n",
    "X['mean_price'] = mean_price \n",
    "y = segment0['Incidence']"
   ]
  },
  {
   "cell_type": "code",
   "execution_count": 34,
   "id": "d55657cd",
   "metadata": {},
   "outputs": [
    {
     "data": {
      "application/vnd.plotly.v1+json": {
       "config": {
        "linkText": "Export to plot.ly",
        "plotlyServerURL": "https://plot.ly",
        "showLink": true
       },
       "data": [
        {
         "line": {
          "color": "rgba(226, 74, 51, 1.0)",
          "dash": "solid",
          "shape": "linear",
          "width": 1.3
         },
         "mode": "lines",
         "name": "means",
         "text": "",
         "type": "scatter",
         "x": [
          0,
          1,
          2,
          3,
          4,
          5,
          6,
          7,
          8,
          9,
          10,
          11,
          12,
          13,
          14,
          15,
          16,
          17,
          18,
          19,
          20,
          21,
          22,
          23,
          24,
          25,
          26,
          27,
          28,
          29,
          30,
          31,
          32,
          33,
          34,
          35,
          36,
          37,
          38,
          39,
          40,
          41,
          42,
          43,
          44,
          45,
          46,
          47,
          48,
          49,
          50,
          51,
          52,
          53,
          54,
          55,
          56,
          57,
          58,
          59,
          60,
          61,
          62,
          63,
          64,
          65,
          66,
          67,
          68,
          69,
          70,
          71,
          72,
          73,
          74,
          75,
          76,
          77,
          78,
          79,
          80,
          81,
          82,
          83,
          84,
          85,
          86,
          87,
          88,
          89,
          90,
          91,
          92,
          93,
          94,
          95,
          96,
          97,
          98,
          99,
          100,
          101,
          102,
          103,
          104,
          105,
          106,
          107,
          108,
          109,
          110,
          111,
          112,
          113,
          114,
          115,
          116,
          117,
          118,
          119,
          120,
          121,
          122,
          123,
          124,
          125,
          126,
          127,
          128,
          129,
          130,
          131,
          132,
          133,
          134,
          135,
          136,
          137,
          138,
          139,
          140,
          141,
          142,
          143,
          144,
          145,
          146,
          147,
          148,
          149,
          150,
          151,
          152,
          153,
          154,
          155,
          156,
          157,
          158,
          159,
          160,
          161,
          162,
          163,
          164,
          165,
          166,
          167,
          168,
          169,
          170,
          171,
          172,
          173,
          174,
          175,
          176,
          177,
          178,
          179,
          180,
          181,
          182,
          183,
          184,
          185,
          186,
          187,
          188,
          189,
          190,
          191,
          192,
          193,
          194,
          195,
          196,
          197,
          198,
          199,
          200,
          201,
          202,
          203,
          204,
          205,
          206,
          207,
          208,
          209,
          210,
          211,
          212,
          213,
          214,
          215,
          216,
          217,
          218,
          219,
          220,
          221,
          222,
          223,
          224,
          225,
          226,
          227,
          228,
          229,
          230,
          231,
          232,
          233,
          234,
          235,
          236,
          237,
          238,
          239,
          240,
          241,
          242,
          243,
          244,
          245,
          246,
          247,
          248,
          249,
          250,
          251,
          252,
          253,
          254,
          255,
          256,
          257,
          258,
          259,
          260,
          261,
          262,
          263,
          264,
          265,
          266,
          267,
          268,
          269,
          270,
          271,
          272,
          273,
          274,
          275,
          276,
          277,
          278,
          279,
          280,
          281,
          282,
          283,
          284,
          285,
          286,
          287,
          288,
          289,
          290,
          291,
          292,
          293,
          294,
          295,
          296,
          297,
          298
         ],
         "y": [
          -0.09639582835550818,
          -0.1004637808378074,
          -0.10465871295685428,
          -0.10898377680221519,
          -0.11344217636988857,
          -0.11803716724584516,
          -0.12277205621830221,
          -0.12765020081564188,
          -0.1326750087668632,
          -0.13784993738143306,
          -0.14317849284538883,
          -0.1486642294305424,
          -0.1543107486136332,
          -0.16012169810230112,
          -0.16610077076475585,
          -0.1722517034600683,
          -0.17857827576603527,
          -0.18508430860163935,
          -0.1917736627411797,
          -0.19865023721723274,
          -0.2057179676096963,
          -0.21298082421827,
          -0.22044281011585537,
          -0.22810795908048173,
          -0.2359803334035274,
          -0.24406402157216261,
          -0.2523631358241361,
          -0.260881809573209,
          -0.2696241947037813,
          -0.2785944587334742,
          -0.28779678184268853,
          -0.29723535377044064,
          -0.3069143705760559,
          -0.3168380312666112,
          -0.3270105342903539,
          -0.3374360738966548,
          -0.3481188363634276,
          -0.35906299609332337,
          -0.37027271158040503,
          -0.38175212124943075,
          -0.3935053391702859,
          -0.40553645065057636,
          -0.4178495077098337,
          -0.43044852443926523,
          -0.44333747225147,
          -0.45652027502503306,
          -0.4700008041494144,
          -0.4837828734760723,
          -0.4978702341822635,
          -0.5122665695545021,
          -0.5269754896991677,
          -0.5420005261882914,
          -0.5573451266490582,
          -0.5730126493060863,
          -0.5890063574860548,
          -0.6053294140947395,
          -0.6219848760770132,
          -0.6389756888708261,
          -0.6563046808666336,
          -0.6739745578841806,
          -0.691987897678924,
          -0.7103471444907874,
          -0.7290546036482526,
          -0.7481124362411287,
          -0.7675226538755934,
          -0.7872871135253473,
          -0.8074075124929082,
          -0.8278853834952064,
          -0.8487220898877725,
          -0.8699188210418003,
          -0.8914765878884272,
          -0.9133962186444572,
          -0.935678354733667,
          -0.9583234469176521,
          -0.9813317516499339,
          -1.0047033276667483,
          -1.0284380328276022,
          -1.0525355212182401,
          -1.0769952405282028,
          -1.1018164297146216,
          -1.1269981169632861,
          -1.1525391179573687,
          -1.1784380344634806,
          -1.2046932532439603,
          -1.2313029453034738,
          -1.2582650654771372,
          -1.2855773523664475,
          -1.3132373286283523,
          -1.3412423016217858,
          -1.3695893644149557,
          -1.398275397155605,
          -1.427297068805371,
          -1.4566508392382513,
          -1.486332961702065,
          -1.5163394856406287,
          -1.546666259873249,
          -1.577308936126969,
          -1.6082629729158702,
          -1.639523639760603,
          -1.671086021740211,
          -1.7029450243672268,
          -1.7350953787759564,
          -1.767531647212856,
          -1.8002482288169137,
          -1.8332393656770147,
          -1.8664991491523926,
          -1.900021526441418,
          -1.9338003073832226,
          -1.9678291714759364,
          -2.002101675094665,
          -2.036611258891794,
          -2.0713512553616478,
          -2.1063148965511616,
          -2.14149532189783,
          -2.1768855861759557,
          -2.212478667531971,
          -2.2482674755895693,
          -2.2842448596052503,
          -2.320403616654988,
          -2.356736499832812,
          -2.3932362264422826,
          -2.4298954861620965,
          -2.466706949167414,
          -2.503663274188856,
          -2.5407571164916156,
          -2.577981135757624,
          -2.6153280038543185,
          -2.6527904124741566,
          -2.6903610806297356,
          -2.7280327619900855,
          -2.765798252044451,
          -2.8036503950807288,
          -2.8415820909665004,
          -2.8795863017214867,
          -2.917656057871136,
          -2.9557844645719173,
          -2.9939647074998335,
          -3.0321900584945474,
          -3.070453880952454,
          -3.1087496349629196,
          -3.1470708821828373,
          -3.1854112904455163,
          -3.223764638100834,
          -3.262124818084419,
          -3.3004858417144773,
          -3.338841842215713,
          -3.3771870779705555,
          -3.415515935498695,
          -3.453822932166644,
          -3.4921027186297313,
          -3.5303500810096278,
          -3.568559942811091,
          -3.606727366582221,
          -3.6448475553230835,
          -3.6829158536480198,
          -3.720927748707489,
          -3.7588788708756637,
          -3.796764994210446,
          -3.8345820366928507,
          -3.8723260602530583,
          -3.909993270590741,
          -3.9475800167974047,
          -3.985082790788778,
          -4.022498226555382,
          -4.059823099239572,
          -4.097054324047443,
          -4.134188955003972,
          -4.1712241835599295,
          -4.208157337058974,
          -4.244985877073402,
          -4.2817073976168984,
          -4.31831962324262,
          -4.35482040703483,
          -4.391207728502143,
          -4.427479691380356,
          -4.463634521352632,
          -4.499670563694687,
          -4.535586280852407,
          -4.571380249959097,
          -4.607051160299449,
          -4.642597810726971,
          -4.678019107041514,
          -4.713314059333182,
          -4.74848177929876,
          -4.783521477536523,
          -4.818432460825005,
          -4.853214129391119,
          -4.887865974172691,
          -4.9223875740803065,
          -4.956778593263062,
          -4.991038778382541,
          -5.025167955899178,
          -5.059166029374827,
          -5.093032976795197,
          -5.126768847915505,
          -5.160373761632531,
          -5.193847903386011,
          -5.227191522592048,
          -5.26040493011109,
          -5.293488495752701,
          -5.326442645819284,
          -5.3592678606906174,
          -5.391964672450894,
          -5.424533662559849,
          -5.456975459569278,
          -5.489290736886183,
          -5.521480210583545,
          -5.553544637259613,
          -5.5854848119464835,
          -5.617301566068518,
          -5.648995765451124,
          -5.680568308380208,
          -5.712020123712566,
          -5.74335216903734,
          -5.774565428888538,
          -5.8056609130085635,
          -5.83663965466262,
          -5.867502709003694,
          -5.89825115148785,
          -5.928886076339395,
          -5.959408595065503,
          -5.98981983501975,
          -6.020120938013975,
          -6.05031305897788,
          -6.080397364665652,
          -6.110375032408927,
          -6.140247248915329,
          -6.170015209111778,
          -6.199680115031803,
          -6.229243174745968,
          -6.258705601334574,
          -6.288068611901736,
          -6.317333426629966,
          -6.346501267874306,
          -6.37557335929513,
          -6.40455092502865,
          -6.433435188894205,
          -6.462227373637408,
          -6.490928700208165,
          -6.519540387072667,
          -6.548063649558412,
          -6.57649969923129,
          -6.604849743303841,
          -6.633114984073746,
          -6.661296618391635,
          -6.6893958371573286,
          -6.717413824843582,
          -6.745351759046506,
          -6.773210810061731,
          -6.800992140485523,
          -6.828696904839962,
          -6.856326249221377,
          -6.883881310971226,
          -6.911363218368618,
          -6.938773090343712,
          -6.966112036211197,
          -6.993381155423146,
          -7.0205815373404965,
          -7.0477142610224215,
          -7.074780395032944,
          -7.10178099726406,
          -7.128717114774768,
          -7.155589783645308,
          -7.182400028845998,
          -7.209148864120091,
          -7.23583729188001,
          -7.262466303116419,
          -7.28903687731955,
          -7.315549982412254,
          -7.342006574694261,
          -7.368407598797105,
          -7.394753987649249,
          -7.421046662450926,
          -7.447286532658221,
          -7.473474495975958,
          -7.499611438358944,
          -7.525698234021178,
          -7.551735745452588,
          -7.577724823442933,
          -7.603666307112461,
          -7.6295610239490035,
          -7.65540978985112,
          -7.681213409176967,
          -7.706972674798558,
          -7.732688368161129,
          -7.7583612593472715,
          -7.783992107145571,
          -7.8095816591234435,
          -7.835130651703941,
          -7.86063981024624,
          -7.886109849129564,
          -7.911541471840332,
          -7.936935371062264,
          -7.96229222876926,
          -7.98761271632084,
          -8.01289749455991,
          -8.038147213912719,
          -8.063362514490766,
          -8.088544026194528
         ]
        },
        {
         "line": {
          "color": "rgba(62, 111, 176, 1.0)",
          "dash": "solid",
          "shape": "linear",
          "width": 1.3
         },
         "mode": "lines",
         "name": "pe_seg1",
         "text": "",
         "type": "scatter",
         "x": [
          0,
          1,
          2,
          3,
          4,
          5,
          6,
          7,
          8,
          9,
          10,
          11,
          12,
          13,
          14,
          15,
          16,
          17,
          18,
          19,
          20,
          21,
          22,
          23,
          24,
          25,
          26,
          27,
          28,
          29,
          30,
          31,
          32,
          33,
          34,
          35,
          36,
          37,
          38,
          39,
          40,
          41,
          42,
          43,
          44,
          45,
          46,
          47,
          48,
          49,
          50,
          51,
          52,
          53,
          54,
          55,
          56,
          57,
          58,
          59,
          60,
          61,
          62,
          63,
          64,
          65,
          66,
          67,
          68,
          69,
          70,
          71,
          72,
          73,
          74,
          75,
          76,
          77,
          78,
          79,
          80,
          81,
          82,
          83,
          84,
          85,
          86,
          87,
          88,
          89,
          90,
          91,
          92,
          93,
          94,
          95,
          96,
          97,
          98,
          99,
          100,
          101,
          102,
          103,
          104,
          105,
          106,
          107,
          108,
          109,
          110,
          111,
          112,
          113,
          114,
          115,
          116,
          117,
          118,
          119,
          120,
          121,
          122,
          123,
          124,
          125,
          126,
          127,
          128,
          129,
          130,
          131,
          132,
          133,
          134,
          135,
          136,
          137,
          138,
          139,
          140,
          141,
          142,
          143,
          144,
          145,
          146,
          147,
          148,
          149,
          150,
          151,
          152,
          153,
          154,
          155,
          156,
          157,
          158,
          159,
          160,
          161,
          162,
          163,
          164,
          165,
          166,
          167,
          168,
          169,
          170,
          171,
          172,
          173,
          174,
          175,
          176,
          177,
          178,
          179,
          180,
          181,
          182,
          183,
          184,
          185,
          186,
          187,
          188,
          189,
          190,
          191,
          192,
          193,
          194,
          195,
          196,
          197,
          198,
          199,
          200,
          201,
          202,
          203,
          204,
          205,
          206,
          207,
          208,
          209,
          210,
          211,
          212,
          213,
          214,
          215,
          216,
          217,
          218,
          219,
          220,
          221,
          222,
          223,
          224,
          225,
          226,
          227,
          228,
          229,
          230,
          231,
          232,
          233,
          234,
          235,
          236,
          237,
          238,
          239,
          240,
          241,
          242,
          243,
          244,
          245,
          246,
          247,
          248,
          249,
          250,
          251,
          252,
          253,
          254,
          255,
          256,
          257,
          258,
          259,
          260,
          261,
          262,
          263,
          264,
          265,
          266,
          267,
          268,
          269,
          270,
          271,
          272,
          273,
          274,
          275,
          276,
          277,
          278,
          279,
          280,
          281,
          282,
          283,
          284,
          285,
          286,
          287,
          288,
          289,
          290,
          291,
          292,
          293,
          294,
          295,
          296,
          297,
          298
         ],
         "y": [
          -0.11908833683118748,
          -0.12327133527554841,
          -0.12754767107037768,
          -0.13191880268604195,
          -0.13638619653441655,
          -0.14095132651478373,
          -0.14561567354151017,
          -0.150380725053354,
          -0.15524797450426914,
          -0.1602189208355898,
          -0.16529506792950335,
          -0.17047792404373882,
          -0.17576900122741723,
          -0.1811698147180383,
          -0.1866818823195978,
          -0.1923067237618588,
          -0.19804586004081823,
          -0.20390081274045044,
          -0.20987310333582204,
          -0.2159642524777137,
          -0.2221757792589077,
          -0.2285092004623305,
          -0.23496602979127554,
          -0.24154777708196198,
          -0.24825594749871224,
          -0.25509204071207797,
          -0.2620575500602654,
          -0.2691539616942547,
          -0.27638275370704163,
          -0.2837453952474643,
          -0.2912433456191191,
          -0.29887805336490286,
          -0.3066509553377592,
          -0.3145634757582425,
          -0.3226170252595561,
          -0.33081299992075175,
          -0.3391527802888252,
          -0.34763773039047313,
          -0.3562691967343213,
          -0.3650485073044671,
          -0.37397697054622003,
          -0.38305587434496347,
          -0.39228648499908914,
          -0.4016700461880041,
          -0.41120777793623675,
          -0.4209008755747036,
          -0.43075050870023934,
          -0.44075782013451603,
          -0.45092392488351357,
          -0.4612499090987367,
          -0.4717368290413935,
          -0.48238571005078795,
          -0.49319754551819506,
          -0.5041732958675182,
          -0.5153138875440478,
          -0.526620212012655,
          -0.538093124766781,
          -0.5497334443495929,
          -0.5615419513886851,
          -0.5735193876457293,
          -0.5856664550824717,
          -0.5979838149444845,
          -0.6104720868640887,
          -0.6231318479838553,
          -0.6359636321020945,
          -0.6489679288417383,
          -0.6621451828440079,
          -0.6754957929882496,
          -0.6890201116393058,
          -0.7027184439237737,
          -0.7165910470364746,
          -0.7306381295784428,
          -0.7448598509277105,
          -0.7592563206441254,
          -0.7738275979094311,
          -0.7885736910037648,
          -0.8034945568197189,
          -0.8185901004150575,
          -0.833860174605131,
          -0.8493045795959782,
          -0.8649230626590754,
          -0.8807153178486062,
          -0.8966809857620914,
          -0.912819653345148,
          -0.9291308537410883,
          -0.9456140661859974,
          -0.9622687159498705,
          -0.9790941743243171,
          -0.9960897586572625,
          -1.0132547324350138,
          -1.030588305411984,
          -1.048089633788268,
          -1.0657578204352325,
          -1.0835919151691524,
          -1.101590915072885,
          -1.119753764865479,
          -1.1380793573195325,
          -1.1565665337260402,
          -1.1752140844063892,
          -1.194020749271079,
          -1.2129852184246628,
          -1.2321061328163327,
          -1.2513820849354882,
          -1.270811619551549,
          -1.2903932344972056,
          -1.3101253814942195,
          -1.3300064670208114,
          -1.3500348532196131,
          -1.370208858845085,
          -1.3905267602492275,
          -1.4109867924043717,
          -1.4315871499617472,
          -1.452325988344489,
          -1.473201424873673,
          -1.4942115399259346,
          -1.51535437812115,
          -1.5366279495386508,
          -1.5580302309603595,
          -1.5795591671392248,
          -1.6012126720912874,
          -1.6229886304096817,
          -1.644884898598835,
          -1.666899306427133,
          -1.6890296582962638,
          -1.7112737346254654,
          -1.7336292932488746,
          -1.7560940708241706,
          -1.778665784250701,
          -1.8013421320952816,
          -1.8241207960238592,
          -1.8469994422372353,
          -1.8699757229090592,
          -1.8930472776243228,
          -1.916211734816581,
          -1.9394667132021763,
          -1.962809823209752,
          -1.9862386684033573,
          -2.009750846897511,
          -2.0333439527625874,
          -2.057015577418947,
          -2.080763311018274,
          -2.1045847438106158,
          -2.128477467495664,
          -2.152439076556878,
          -2.176467169577085,
          -2.200559350534244,
          -2.224713230076128,
          -2.2489264267727083,
          -2.273196568345107,
          -2.29752129287002,
          -2.3218982499585863,
          -2.3463251019087195,
          -2.370799524829998,
          -2.3953192097402694,
          -2.419881863633151,
          -2.4444852105157175,
          -2.469126992415705,
          -2.49380497035761,
          -2.5185169253071473,
          -2.5432606590835634,
          -2.568033995239398,
          -2.592834779907312,
          -2.6176608826136687,
          -2.6425101970586202,
          -2.6673806418625055,
          -2.6922701612784214,
          -2.717176725870865,
          -2.7420983331604267,
          -2.7670330082345536,
          -2.79197880432445,
          -2.816933803348218,
          -2.8418961164204215,
          -2.8668638843282745,
          -2.891835277974704,
          -2.9168084987885856,
          -2.9417817791024823,
          -2.9667533824982626,
          -2.9917216041210146,
          -3.016684770961681,
          -3.041641242108897,
          -3.066589408970559,
          -3.0915276954656266,
          -3.116454558186738,
          -3.1413684865342253,
          -3.1662680028221346,
          -3.1911516623568854,
          -3.2160180534892175,
          -3.2408657976400836,
          -3.2656935493011967,
          -3.2904999960109014,
          -3.3152838583060933,
          -3.3400438896508997,
          -3.3647788763428523,
          -3.389487637397297,
          -3.4141690244107648,
          -3.4388219214040547,
          -3.463445244645788,
          -3.488037942457184,
          -3.512598994998776,
          -3.5371274140398548,
          -3.5616222427113713,
          -3.586082555243038,
          -3.61050745668536,
          -3.6348960826173515,
          -3.659247598840629,
          -3.683561201060639,
          -3.70783611455569,
          -3.7320715938345126,
          -3.7562669222830247,
          -3.7804214118010036,
          -3.8045344024292826,
          -3.828605261968179,
          -3.8526333855877706,
          -3.876618195430647,
          -3.900559140207756,
          -3.924455694787949,
          -3.9483073597817966,
          -3.9721136611202734,
          -3.9958741496288392,
          -4.019588400597467,
          -4.043256013347153,
          -4.066876610793418,
          -4.090449839007266,
          -4.113975366774114,
          -4.13745288515114,
          -4.160882107023493,
          -4.184262766659797,
          -4.207594619267373,
          -4.2308774405475456,
          -4.254111026251481,
          -4.2772951917368465,
          -4.300429771525699,
          -4.323514618863919,
          -4.346549605282515,
          -4.369534620161111,
          -4.392469570293875,
          -4.415354379458237,
          -4.438188987986582,
          -4.460973352341223,
          -4.483707444692862,
          -4.506391252502773,
          -4.5290247781089175,
          -4.551608038316179,
          -4.5741410639909175,
          -4.5966238996599955,
          -4.619056603114467,
          -4.641439245018045,
          -4.663771908520499,
          -4.686054688876125,
          -4.7082876930673825,
          -4.730471039433814,
          -4.752604857306345,
          -4.7746892866470505,
          -4.796724477694471,
          -4.818710590614528,
          -4.84064779515713,
          -4.862536270318494,
          -4.8843762040092455,
          -4.9061677927283265,
          -4.92791124124273,
          -4.949606762273105,
          -4.971254576185247,
          -4.992854910687453,
          -5.014408000533779,
          -5.035914087233186,
          -5.057373418764563,
          -5.078786249297613,
          -5.100152838919589,
          -5.121473453367858,
          -5.142748363768264,
          -5.163977846379253,
          -5.185162182341725,
          -5.206301657434588,
          -5.227396561835959,
          -5.248447189889955,
          -5.2694538398790485,
          -5.290416813801923,
          -5.311336417156769,
          -5.332212958729969,
          -5.353046750390111,
          -5.373838106887269,
          -5.394587345657488,
          -5.415294786632402,
          -5.435960752053914,
          -5.456585566293885,
          -5.4771695556787545,
          -5.497713048319012,
          -5.5182163739434476,
          -5.538679863738128,
          -5.559103850190005,
          -5.5794886669350765,
          -5.5998346486110435,
          -5.6201421307143775,
          -5.640411449461709,
          -5.660642941655495,
          -5.680836944553836,
          -5.700993795744418,
          -5.721113833022473,
          -5.741197394272685
         ]
        },
        {
         "line": {
          "color": "rgba(132, 118, 202, 1.0)",
          "dash": "solid",
          "shape": "linear",
          "width": 1.3
         },
         "mode": "lines",
         "name": "pe_seg2",
         "text": "",
         "type": "scatter",
         "x": [
          0,
          1,
          2,
          3,
          4,
          5,
          6,
          7,
          8,
          9,
          10,
          11,
          12,
          13,
          14,
          15,
          16,
          17,
          18,
          19,
          20,
          21,
          22,
          23,
          24,
          25,
          26,
          27,
          28,
          29,
          30,
          31,
          32,
          33,
          34,
          35,
          36,
          37,
          38,
          39,
          40,
          41,
          42,
          43,
          44,
          45,
          46,
          47,
          48,
          49,
          50,
          51,
          52,
          53,
          54,
          55,
          56,
          57,
          58,
          59,
          60,
          61,
          62,
          63,
          64,
          65,
          66,
          67,
          68,
          69,
          70,
          71,
          72,
          73,
          74,
          75,
          76,
          77,
          78,
          79,
          80,
          81,
          82,
          83,
          84,
          85,
          86,
          87,
          88,
          89,
          90,
          91,
          92,
          93,
          94,
          95,
          96,
          97,
          98,
          99,
          100,
          101,
          102,
          103,
          104,
          105,
          106,
          107,
          108,
          109,
          110,
          111,
          112,
          113,
          114,
          115,
          116,
          117,
          118,
          119,
          120,
          121,
          122,
          123,
          124,
          125,
          126,
          127,
          128,
          129,
          130,
          131,
          132,
          133,
          134,
          135,
          136,
          137,
          138,
          139,
          140,
          141,
          142,
          143,
          144,
          145,
          146,
          147,
          148,
          149,
          150,
          151,
          152,
          153,
          154,
          155,
          156,
          157,
          158,
          159,
          160,
          161,
          162,
          163,
          164,
          165,
          166,
          167,
          168,
          169,
          170,
          171,
          172,
          173,
          174,
          175,
          176,
          177,
          178,
          179,
          180,
          181,
          182,
          183,
          184,
          185,
          186,
          187,
          188,
          189,
          190,
          191,
          192,
          193,
          194,
          195,
          196,
          197,
          198,
          199,
          200,
          201,
          202,
          203,
          204,
          205,
          206,
          207,
          208,
          209,
          210,
          211,
          212,
          213,
          214,
          215,
          216,
          217,
          218,
          219,
          220,
          221,
          222,
          223,
          224,
          225,
          226,
          227,
          228,
          229,
          230,
          231,
          232,
          233,
          234,
          235,
          236,
          237,
          238,
          239,
          240,
          241,
          242,
          243,
          244,
          245,
          246,
          247,
          248,
          249,
          250,
          251,
          252,
          253,
          254,
          255,
          256,
          257,
          258,
          259,
          260,
          261,
          262,
          263,
          264,
          265,
          266,
          267,
          268,
          269,
          270,
          271,
          272,
          273,
          274,
          275,
          276,
          277,
          278,
          279,
          280,
          281,
          282,
          283,
          284,
          285,
          286,
          287,
          288,
          289,
          290,
          291,
          292,
          293,
          294,
          295,
          296,
          297,
          298
         ],
         "y": [
          -0.030920688762711604,
          -0.032687645274033665,
          -0.03454149694081637,
          -0.03648612334407846,
          -0.03852556137646616,
          -0.04066401072013246,
          -0.04290583945080116,
          -0.04525558976541037,
          -0.04771798383011227,
          -0.05029792974469128,
          -0.05300052761874012,
          -0.05583107575410896,
          -0.05879507692726365,
          -0.06189824476426907,
          -0.06514651020007116,
          -0.06854602801268837,
          -0.07210318342174617,
          -0.07582459873954363,
          -0.07971714006151938,
          -0.08378792398156097,
          -0.08804432431611524,
          -0.09249397881944428,
          -0.09714479587070768,
          -0.10200496111175808,
          -0.10708294401268394,
          -0.11238750434014455,
          -0.11792769850150309,
          -0.12371288573560454,
          -0.12975273411878951,
          -0.13605722635243406,
          -0.14263666529585486,
          -0.14950167920595533,
          -0.1566632266424162,
          -0.16413260099459634,
          -0.1719214345836496,
          -0.18004170229062086,
          -0.18850572465855775,
          -0.19732617041388556,
          -0.20651605834955736,
          -0.21608875850975087,
          -0.22605799261320286,
          -0.23643783364965112,
          -0.24724270458136802,
          -0.2584873760793731,
          -0.27018696322170915,
          -0.28235692107916105,
          -0.2950130391120457,
          -0.30817143430018257,
          -0.3218485429270715,
          -0.3360611109384679,
          -0.3508261827952762,
          -0.3661610887407703,
          -0.38208343040289117,
          -0.39861106465362073,
          -0.41576208564939926,
          -0.433554804979188,
          -0.45200772985024745,
          -0.47113953924592483,
          -0.4909690579949521,
          -0.5115152286978173,
          -0.5327970814629102,
          -0.5548337014132789,
          -0.5776441939340574,
          -0.601247647641001,
          -0.6256630950620495,
          -0.650909471036495,
          -0.6770055688501618,
          -0.7039699941399709,
          -0.731821116617363,
          -0.7605770196772522,
          -0.7902554479773831,
          -0.8208737530921625,
          -0.8524488373650149,
          -0.88499709610413,
          -0.9185343582877608,
          -0.9530758259670716,
          -0.9886360125765329,
          -1.025228680383954,
          -1.0628667773341154,
          -1.101562373561434,
          -1.1413265978678118,
          -1.1821695744816247,
          -1.2241003604322367,
          -1.2671268838913834,
          -1.3112558838477135,
          -1.3564928514936103,
          -1.4028419737136666,
          -1.450306079071665,
          -1.4988865866972558,
          -1.548583458474537,
          -1.5993951549321133,
          -1.651318595227823,
          -1.7043491216109237,
          -1.7584804687300635,
          -1.8137047381367544,
          -1.870012378311227,
          -1.9273921705106751,
          -1.9858312207088993,
          -2.045314957861596,
          -2.105827138693112,
          -2.1673498591587625,
          -2.2298635726920892,
          -2.2933471152992673,
          -2.357777737513525,
          -2.423131143171646,
          -2.4893815349227926,
          -2.556501666327745,
          -2.624462900354624,
          -2.693235274026174,
          -2.762787568924027,
          -2.8330873872079763,
          -2.9041012327635314,
          -2.9757945970496618,
          -3.0481320491810076,
          -3.1210773297456145,
          -3.1945934478307505,
          -3.2686427807058553,
          -3.3431871755936573,
          -3.4181880529479627,
          -3.493606510649718,
          -3.5694034285318383,
          -3.64553957264777,
          -3.7219756987087185,
          -3.7986726541297697,
          -3.8755914781454637,
          -3.952693499480244,
          -4.029940431088484,
          -4.107294461511738,
          -4.1847183424371375,
          -4.26217547207995,
          -4.3396299740545015,
          -4.417046771440653,
          -4.494391655797045,
          -4.571631350916893,
          -4.648733571166719,
          -4.725667074292651,
          -4.802401708621968,
          -4.878908454629547,
          -4.95515946087882,
          -5.031128074384868,
          -5.106788865482783,
          -5.182117647317404,
          -5.257091490100493,
          -5.331688730308636,
          -5.4058889750190735,
          -5.479673101601611,
          -5.553023253002518,
          -5.625922828871019,
          -5.698356472790609,
          -5.770310055886219,
          -5.841770657084183,
          -5.912726540305331,
          -5.983167128872323,
          -6.053082977411089,
          -6.122465741522583,
          -6.19130814549586,
          -6.259603948326444,
          -6.327347908295479,
          -6.394535746355425,
          -6.461164108557395,
          -6.527230527743538,
          -6.592733384715604,
          -6.657671869078042,
          -6.722045939940831,
          -6.7858562866539796,
          -6.84910428973213,
          -6.911791982114472,
          -6.973922010891946,
          -7.035497599620883,
          -7.096522511329625,
          -7.157001012312561,
          -7.216937836794331,
          -7.276338152535886,
          -7.335207527443397,
          -7.393551897231118,
          -7.45137753417986,
          -7.508691017023951,
          -7.565499201991485,
          -7.621809195014972,
          -7.67762832512272,
          -7.732964119014888,
          -7.78782427682234,
          -7.842216649041354,
          -7.896149214632441,
          -7.949630060267561,
          -8.00266736070622,
          -8.055269360277785,
          -8.107444355444695,
          -8.159200678418715,
          -8.210546681800622,
          -8.261490724211864,
          -8.31204115688563,
          -8.362206311183682,
          -8.411994487004518,
          -8.461413942048077,
          -8.510472881901778,
          -8.559179450912794,
          -8.607541723811433,
          -8.655567698050806,
          -8.70326528682844,
          -8.750642312755934,
          -8.797706502143473,
          -8.84446547986667,
          -8.890926764784052,
          -8.937097765674405,
          -8.98298577766402,
          -9.028597979114934,
          -9.073941428946176,
          -9.119023064361112,
          -9.163849698954966,
          -9.208428021177596,
          -9.252764593127756,
          -9.296865849655946,
          -9.340738097754166,
          -9.384387516211701,
          -9.427820155517198,
          -9.471041937988252,
          -9.514058658110601,
          -9.556875983070025,
          -9.599499453460925,
          -9.641934484156417,
          -9.684186365325667,
          -9.726260263584921,
          -9.768161223269594,
          -9.809894167815399,
          -9.851463901237372,
          -9.89287510969619,
          -9.934132363141952,
          -9.975240117026221,
          -10.016202714073646,
          -10.057024386105173,
          -10.09770925590531,
          -10.138261339126496,
          -10.178684546224083,
          -10.218982684415913,
          -10.259159459660935,
          -10.299218478651705,
          -10.33916325081602,
          -10.378997190323327,
          -10.41872361809182,
          -10.458345763792625,
          -10.497866767847611,
          -10.537289683417788,
          -10.576617478379452,
          -10.615853037285532,
          -10.654999163309862,
          -10.694058580172202,
          -10.733033934042243,
          -10.771927795420844,
          -10.81074266099703,
          -10.84948095547947,
          -10.888145033401154,
          -10.926737180896449,
          -10.965259617449465,
          -11.00371449761312,
          -11.0421039126982,
          -11.080429892431944,
          -11.118694406585716,
          -11.156899366571428,
          -11.195046627006514,
          -11.233137987247249,
          -11.271175192890379,
          -11.309159937243026,
          -11.347093862760854,
          -11.384978562454705,
          -11.42281558126575,
          -11.46060641740941,
          -11.49835252368826,
          -11.536055308774179,
          -11.573716138460101,
          -11.61133633688163,
          -11.648917187708946,
          -11.686459935309367,
          -11.723965785880967,
          -11.76143590855769,
          -11.798871436486397,
          -11.836273467876307,
          -11.8736430670213,
          -11.910981265295554,
          -11.948289062123012,
          -11.985567425921154,
          -12.022817295019617,
          -12.060039578554093,
          -12.097235157336058,
          -12.134404884698846,
          -12.171549587320518,
          -12.208670066024101,
          -12.245767096555605,
          -12.28284143034044,
          -12.319893795218597,
          -12.356924896159198,
          -12.393935415954813,
          -12.430926015896087,
          -12.467897336427145,
          -12.504849997782182,
          -12.541784600603803,
          -12.578701726543501,
          -12.615601938844737,
          -12.652485782909077
         ]
        },
        {
         "line": {
          "color": "rgba(101, 101, 101, 1.0)",
          "dash": "solid",
          "shape": "linear",
          "width": 1.3
         },
         "mode": "lines",
         "name": "pe_seg0",
         "text": "",
         "type": "scatter",
         "x": [
          0,
          1,
          2,
          3,
          4,
          5,
          6,
          7,
          8,
          9,
          10,
          11,
          12,
          13,
          14,
          15,
          16,
          17,
          18,
          19,
          20,
          21,
          22,
          23,
          24,
          25,
          26,
          27,
          28,
          29,
          30,
          31,
          32,
          33,
          34,
          35,
          36,
          37,
          38,
          39,
          40,
          41,
          42,
          43,
          44,
          45,
          46,
          47,
          48,
          49,
          50,
          51,
          52,
          53,
          54,
          55,
          56,
          57,
          58,
          59,
          60,
          61,
          62,
          63,
          64,
          65,
          66,
          67,
          68,
          69,
          70,
          71,
          72,
          73,
          74,
          75,
          76,
          77,
          78,
          79,
          80,
          81,
          82,
          83,
          84,
          85,
          86,
          87,
          88,
          89,
          90,
          91,
          92,
          93,
          94,
          95,
          96,
          97,
          98,
          99,
          100,
          101,
          102,
          103,
          104,
          105,
          106,
          107,
          108,
          109,
          110,
          111,
          112,
          113,
          114,
          115,
          116,
          117,
          118,
          119,
          120,
          121,
          122,
          123,
          124,
          125,
          126,
          127,
          128,
          129,
          130,
          131,
          132,
          133,
          134,
          135,
          136,
          137,
          138,
          139,
          140,
          141,
          142,
          143,
          144,
          145,
          146,
          147,
          148,
          149,
          150,
          151,
          152,
          153,
          154,
          155,
          156,
          157,
          158,
          159,
          160,
          161,
          162,
          163,
          164,
          165,
          166,
          167,
          168,
          169,
          170,
          171,
          172,
          173,
          174,
          175,
          176,
          177,
          178,
          179,
          180,
          181,
          182,
          183,
          184,
          185,
          186,
          187,
          188,
          189,
          190,
          191,
          192,
          193,
          194,
          195,
          196,
          197,
          198,
          199,
          200,
          201,
          202,
          203,
          204,
          205,
          206,
          207,
          208,
          209,
          210,
          211,
          212,
          213,
          214,
          215,
          216,
          217,
          218,
          219,
          220,
          221,
          222,
          223,
          224,
          225,
          226,
          227,
          228,
          229,
          230,
          231,
          232,
          233,
          234,
          235,
          236,
          237,
          238,
          239,
          240,
          241,
          242,
          243,
          244,
          245,
          246,
          247,
          248,
          249,
          250,
          251,
          252,
          253,
          254,
          255,
          256,
          257,
          258,
          259,
          260,
          261,
          262,
          263,
          264,
          265,
          266,
          267,
          268,
          269,
          270,
          271,
          272,
          273,
          274,
          275,
          276,
          277,
          278,
          279,
          280,
          281,
          282,
          283,
          284,
          285,
          286,
          287,
          288,
          289,
          290,
          291,
          292,
          293,
          294,
          295,
          296,
          297,
          298
         ],
         "y": [
          -0.2111693570867855,
          -0.2177394607885805,
          -0.2244173010034876,
          -0.23120366022607017,
          -0.23809930626749032,
          -0.24510499174640316,
          -0.2522214535816252,
          -0.25944941248706416,
          -0.26678957246940815,
          -0.27424262032907426,
          -0.2818092251649276,
          -0.2894900378832829,
          -0.2972856907117078,
          -0.3051967967181497,
          -0.3132239493359129,
          -0.3213677218950103,
          -0.32962866716042305,
          -0.3380073168777957,
          -0.3465041813270979,
          -0.35511974888478015,
          -0.3638544855949525,
          -0.37270883475011163,
          -0.3816832164819327,
          -0.3907780273626502,
          -0.39999364001753174,
          -0.40933040274895466,
          -0.4187886391725809,
          -0.4283686478661224,
          -0.4380707020311744,
          -0.4478950491685914,
          -0.4578419107678631,
          -0.4679114820109399,
          -0.47810393149094377,
          -0.4884194009461865,
          -0.49885800500990274,
          -0.5094198309760914,
          -0.5201049385818416,
          -0.5309133598065033,
          -0.5418450986880416,
          -0.5529001311569048,
          -0.5640784048877037,
          -0.5753798391689902,
          -0.5868043247914001,
          -0.5983517239544,
          -0.6100218701918608,
          -0.6218145683166577,
          -0.6337295943844701,
          -0.6457666956769362,
          -0.6579255907042881,
          -0.670205969227576,
          -0.6826074923005561,
          -0.6951297923313038,
          -0.7077724731635758,
          -0.7205351101779313,
          -0.7334172504125865,
          -0.7464184127039635,
          -0.7595380878468532,
          -0.7727757387741028,
          -0.7861308007557,
          -0.7996026816171098,
          -0.8131907619766873,
          -0.826894395501971,
          -0.8407129091846334,
          -0.8546456036338403,
          -0.8686917533877501,
          -0.8828506072428545,
          -0.8971213886008504,
          -0.9115032958326929,
          -0.9259955026594754,
          -0.9405971585497497,
          -0.955307389132881,
          -0.9701252966280178,
          -0.9850499602882287,
          -1.0000804368593432,
          -1.0152157610530272,
          -1.0304549460335817,
          -1.0457969839179646,
          -1.0612408462885035,
          -1.0767854847177565,
          -1.0924298313049714,
          -1.1081727992235726,
          -1.1240132832791,
          -1.1399501604770128,
          -1.1559822905997577,
          -1.1721085167925027,
          -1.1883276661569195,
          -1.2046385503523982,
          -1.2210399662040732,
          -1.2375306963170336,
          -1.2541095096960873,
          -1.270775162370448,
          -1.2875263980227172,
          -1.3043619486215272,
          -1.3212805350572128,
          -1.3382808677798919,
          -1.3553616474393244,
          -1.3725215655259337,
          -1.3897593050123733,
          -1.4070735409950366,
          -1.424462941334901,
          -1.4419261672971206,
          -1.4594618741887813,
          -1.4770687119942412,
          -1.494745326007498,
          -1.512490357461026,
          -1.5303024441505455,
          -1.548180221055193,
          -1.5661223209525825,
          -1.5841273750282525,
          -1.6021940134790096,
          -1.6203208661097082,
          -1.6385065629229965,
          -1.6567497347015976,
          -1.6750490135826956,
          -1.6934030336240233,
          -1.7118104313612605,
          -1.7302698463563637,
          -1.7487799217364801,
          -1.7673393047231019,
          -1.7859466471511374,
          -1.804600605977608,
          -1.8232998437796717,
          -1.842043029241718,
          -1.860828837631282,
          -1.8796559512635478,
          -1.8985230599542255,
          -1.917428861460619,
          -1.9363720619106926,
          -1.9553513762199914,
          -1.9743655284962696,
          -1.9934132524316996,
          -2.0124932916825635,
          -2.031604400236331,
          -2.0507453427660502,
          -2.0699148949720056,
          -2.089111843910584,
          -2.108334988310342,
          -2.127583138875254,
          -2.1468551185751474,
          -2.1661497629233493,
          -2.18546592024157,
          -2.2048024519120824,
          -2.224158232617243,
          -2.243532150566442,
          -2.2629231077105576,
          -2.2823300199440135,
          -2.301751817294557,
          -2.3211874441008633,
          -2.340635859178106,
          -2.360096035971629,
          -2.3795669626988736,
          -2.3990476424797085,
          -2.418537093455341,
          -2.438034348895984,
          -2.4575384572974412,
          -2.4770484824668273,
          -2.496563503597599,
          -2.516082615334106,
          -2.535604927825868,
          -2.5551295667717846,
          -2.5746556734545045,
          -2.594182404765171,
          -2.6137089332187644,
          -2.633234446960267,
          -2.6527581497618993,
          -2.6722792610116457,
          -2.691797015693302,
          -2.7113106643582947,
          -2.7308194730895066,
          -2.7503227234573453,
          -2.769819712468301,
          -2.789309752506222,
          -2.808792171266571,
          -2.828266311683883,
          -2.847731531852669,
          -2.867187204942017,
          -2.8866327191041052,
          -2.906067477376896,
          -2.9254908975812133,
          -2.9449024122124525,
          -2.964301468327156,
          -2.983687527424683,
          -3.0030600653241835,
          -3.02241857203712,
          -3.0417625516355473,
          -3.0610915221163717,
          -3.0804050152617966,
          -3.0997025764961696,
          -3.1189837647394465,
          -3.1382481522574572,
          -3.157495324509192,
          -3.1767248799912853,
          -3.195936430079913,
          -3.2151295988702677,
          -3.2343040230138067,
          -3.253459351553453,
          -3.2725952457569214,
          -3.2917113789483463,
          -3.31080743633837,
          -3.329883114852856,
          -3.348938122960393,
          -3.3679721804987413,
          -3.386985018500356,
          -3.4059763790171558,
          -3.4249460149446587,
          -3.4438936898456354,
          -3.4628191777734045,
          -3.4817222630948894,
          -3.5006027403135844,
          -3.519460413892524,
          -3.5382950980773873,
          -3.5571066167198344,
          -3.575894803101195,
          -3.594659499756607,
          -3.613400558299695,
          -3.632117839247898,
          -3.650811211848524,
          -3.6694805539056294,
          -3.6881257516078003,
          -3.706746699356903,
          -3.725343299597911,
          -3.743915462649847,
          -3.7624631065379317,
          -3.7809861568269834,
          -3.7994845464561493,
          -3.8179582155750262,
          -3.8364071113812024,
          -3.854831187959301,
          -3.873230406121554,
          -3.8916047332499732,
          -3.9099541431401272,
          -3.928278615846605,
          -3.946578137530168,
          -3.9648527003066585,
          -3.9831023020976577,
          -4.001326946482962,
          -4.01952664255487,
          -4.037701404774341,
          -4.055851252829007,
          -4.073976211493087,
          -4.092076310489215,
          -4.110151584352195,
          -4.128202072294688,
          -4.1462278180748635,
          -4.164228869866006,
          -4.182205280128094,
          -4.200157105481354,
          -4.218084406581803,
          -4.235987247998763,
          -4.253865698094371,
          -4.271719828905081,
          -4.289549716025123,
          -4.307355438491982,
          -4.325137078673823,
          -4.342894722158908,
          -4.360628457646963,
          -4.37833837684252,
          -4.396024574350193,
          -4.413687147571908,
          -4.4313261966060455,
          -4.448941824148516,
          -4.466534135395732,
          -4.484103237949476,
          -4.50164924172364,
          -4.519172258852826,
          -4.536672403602815,
          -4.554149792282836,
          -4.571604543159669,
          -4.589036776373538,
          -4.606446613855794,
          -4.623834179248336,
          -4.641199597824799,
          -4.658542996413445,
          -4.675864503321774,
          -4.693164248262806,
          -4.710442362283026,
          -4.727698977691978,
          -4.74493422799348,
          -4.762148247818433,
          -4.7793411728592154,
          -4.796513139805631,
          -4.813664286282396,
          -4.8307947507881375,
          -4.847904672635888,
          -4.864994191895047,
          -4.882063449334794,
          -4.899112586368923,
          -4.916141745002091,
          -4.933151067777435,
          -4.950140697725563,
          -4.967110778314874,
          -4.984061453403192,
          -5.000992867190709,
          -5.017905164174179,
          -5.034798489102383,
          -5.051672986932799,
          -5.068528802789508,
          -5.085366081922255,
          -5.102184969666702
         ]
        }
       ],
       "layout": {
        "legend": {
         "bgcolor": "#FFFFFF",
         "font": {
          "color": "#666666"
         }
        },
        "paper_bgcolor": "#FFFFFF",
        "plot_bgcolor": "#E5E5E5",
        "template": {
         "data": {
          "bar": [
           {
            "error_x": {
             "color": "#2a3f5f"
            },
            "error_y": {
             "color": "#2a3f5f"
            },
            "marker": {
             "line": {
              "color": "#E5ECF6",
              "width": 0.5
             },
             "pattern": {
              "fillmode": "overlay",
              "size": 10,
              "solidity": 0.2
             }
            },
            "type": "bar"
           }
          ],
          "barpolar": [
           {
            "marker": {
             "line": {
              "color": "#E5ECF6",
              "width": 0.5
             },
             "pattern": {
              "fillmode": "overlay",
              "size": 10,
              "solidity": 0.2
             }
            },
            "type": "barpolar"
           }
          ],
          "carpet": [
           {
            "aaxis": {
             "endlinecolor": "#2a3f5f",
             "gridcolor": "white",
             "linecolor": "white",
             "minorgridcolor": "white",
             "startlinecolor": "#2a3f5f"
            },
            "baxis": {
             "endlinecolor": "#2a3f5f",
             "gridcolor": "white",
             "linecolor": "white",
             "minorgridcolor": "white",
             "startlinecolor": "#2a3f5f"
            },
            "type": "carpet"
           }
          ],
          "choropleth": [
           {
            "colorbar": {
             "outlinewidth": 0,
             "ticks": ""
            },
            "type": "choropleth"
           }
          ],
          "contour": [
           {
            "colorbar": {
             "outlinewidth": 0,
             "ticks": ""
            },
            "colorscale": [
             [
              0,
              "#0d0887"
             ],
             [
              0.1111111111111111,
              "#46039f"
             ],
             [
              0.2222222222222222,
              "#7201a8"
             ],
             [
              0.3333333333333333,
              "#9c179e"
             ],
             [
              0.4444444444444444,
              "#bd3786"
             ],
             [
              0.5555555555555556,
              "#d8576b"
             ],
             [
              0.6666666666666666,
              "#ed7953"
             ],
             [
              0.7777777777777778,
              "#fb9f3a"
             ],
             [
              0.8888888888888888,
              "#fdca26"
             ],
             [
              1,
              "#f0f921"
             ]
            ],
            "type": "contour"
           }
          ],
          "contourcarpet": [
           {
            "colorbar": {
             "outlinewidth": 0,
             "ticks": ""
            },
            "type": "contourcarpet"
           }
          ],
          "heatmap": [
           {
            "colorbar": {
             "outlinewidth": 0,
             "ticks": ""
            },
            "colorscale": [
             [
              0,
              "#0d0887"
             ],
             [
              0.1111111111111111,
              "#46039f"
             ],
             [
              0.2222222222222222,
              "#7201a8"
             ],
             [
              0.3333333333333333,
              "#9c179e"
             ],
             [
              0.4444444444444444,
              "#bd3786"
             ],
             [
              0.5555555555555556,
              "#d8576b"
             ],
             [
              0.6666666666666666,
              "#ed7953"
             ],
             [
              0.7777777777777778,
              "#fb9f3a"
             ],
             [
              0.8888888888888888,
              "#fdca26"
             ],
             [
              1,
              "#f0f921"
             ]
            ],
            "type": "heatmap"
           }
          ],
          "heatmapgl": [
           {
            "colorbar": {
             "outlinewidth": 0,
             "ticks": ""
            },
            "colorscale": [
             [
              0,
              "#0d0887"
             ],
             [
              0.1111111111111111,
              "#46039f"
             ],
             [
              0.2222222222222222,
              "#7201a8"
             ],
             [
              0.3333333333333333,
              "#9c179e"
             ],
             [
              0.4444444444444444,
              "#bd3786"
             ],
             [
              0.5555555555555556,
              "#d8576b"
             ],
             [
              0.6666666666666666,
              "#ed7953"
             ],
             [
              0.7777777777777778,
              "#fb9f3a"
             ],
             [
              0.8888888888888888,
              "#fdca26"
             ],
             [
              1,
              "#f0f921"
             ]
            ],
            "type": "heatmapgl"
           }
          ],
          "histogram": [
           {
            "marker": {
             "pattern": {
              "fillmode": "overlay",
              "size": 10,
              "solidity": 0.2
             }
            },
            "type": "histogram"
           }
          ],
          "histogram2d": [
           {
            "colorbar": {
             "outlinewidth": 0,
             "ticks": ""
            },
            "colorscale": [
             [
              0,
              "#0d0887"
             ],
             [
              0.1111111111111111,
              "#46039f"
             ],
             [
              0.2222222222222222,
              "#7201a8"
             ],
             [
              0.3333333333333333,
              "#9c179e"
             ],
             [
              0.4444444444444444,
              "#bd3786"
             ],
             [
              0.5555555555555556,
              "#d8576b"
             ],
             [
              0.6666666666666666,
              "#ed7953"
             ],
             [
              0.7777777777777778,
              "#fb9f3a"
             ],
             [
              0.8888888888888888,
              "#fdca26"
             ],
             [
              1,
              "#f0f921"
             ]
            ],
            "type": "histogram2d"
           }
          ],
          "histogram2dcontour": [
           {
            "colorbar": {
             "outlinewidth": 0,
             "ticks": ""
            },
            "colorscale": [
             [
              0,
              "#0d0887"
             ],
             [
              0.1111111111111111,
              "#46039f"
             ],
             [
              0.2222222222222222,
              "#7201a8"
             ],
             [
              0.3333333333333333,
              "#9c179e"
             ],
             [
              0.4444444444444444,
              "#bd3786"
             ],
             [
              0.5555555555555556,
              "#d8576b"
             ],
             [
              0.6666666666666666,
              "#ed7953"
             ],
             [
              0.7777777777777778,
              "#fb9f3a"
             ],
             [
              0.8888888888888888,
              "#fdca26"
             ],
             [
              1,
              "#f0f921"
             ]
            ],
            "type": "histogram2dcontour"
           }
          ],
          "mesh3d": [
           {
            "colorbar": {
             "outlinewidth": 0,
             "ticks": ""
            },
            "type": "mesh3d"
           }
          ],
          "parcoords": [
           {
            "line": {
             "colorbar": {
              "outlinewidth": 0,
              "ticks": ""
             }
            },
            "type": "parcoords"
           }
          ],
          "pie": [
           {
            "automargin": true,
            "type": "pie"
           }
          ],
          "scatter": [
           {
            "marker": {
             "colorbar": {
              "outlinewidth": 0,
              "ticks": ""
             }
            },
            "type": "scatter"
           }
          ],
          "scatter3d": [
           {
            "line": {
             "colorbar": {
              "outlinewidth": 0,
              "ticks": ""
             }
            },
            "marker": {
             "colorbar": {
              "outlinewidth": 0,
              "ticks": ""
             }
            },
            "type": "scatter3d"
           }
          ],
          "scattercarpet": [
           {
            "marker": {
             "colorbar": {
              "outlinewidth": 0,
              "ticks": ""
             }
            },
            "type": "scattercarpet"
           }
          ],
          "scattergeo": [
           {
            "marker": {
             "colorbar": {
              "outlinewidth": 0,
              "ticks": ""
             }
            },
            "type": "scattergeo"
           }
          ],
          "scattergl": [
           {
            "marker": {
             "colorbar": {
              "outlinewidth": 0,
              "ticks": ""
             }
            },
            "type": "scattergl"
           }
          ],
          "scattermapbox": [
           {
            "marker": {
             "colorbar": {
              "outlinewidth": 0,
              "ticks": ""
             }
            },
            "type": "scattermapbox"
           }
          ],
          "scatterpolar": [
           {
            "marker": {
             "colorbar": {
              "outlinewidth": 0,
              "ticks": ""
             }
            },
            "type": "scatterpolar"
           }
          ],
          "scatterpolargl": [
           {
            "marker": {
             "colorbar": {
              "outlinewidth": 0,
              "ticks": ""
             }
            },
            "type": "scatterpolargl"
           }
          ],
          "scatterternary": [
           {
            "marker": {
             "colorbar": {
              "outlinewidth": 0,
              "ticks": ""
             }
            },
            "type": "scatterternary"
           }
          ],
          "surface": [
           {
            "colorbar": {
             "outlinewidth": 0,
             "ticks": ""
            },
            "colorscale": [
             [
              0,
              "#0d0887"
             ],
             [
              0.1111111111111111,
              "#46039f"
             ],
             [
              0.2222222222222222,
              "#7201a8"
             ],
             [
              0.3333333333333333,
              "#9c179e"
             ],
             [
              0.4444444444444444,
              "#bd3786"
             ],
             [
              0.5555555555555556,
              "#d8576b"
             ],
             [
              0.6666666666666666,
              "#ed7953"
             ],
             [
              0.7777777777777778,
              "#fb9f3a"
             ],
             [
              0.8888888888888888,
              "#fdca26"
             ],
             [
              1,
              "#f0f921"
             ]
            ],
            "type": "surface"
           }
          ],
          "table": [
           {
            "cells": {
             "fill": {
              "color": "#EBF0F8"
             },
             "line": {
              "color": "white"
             }
            },
            "header": {
             "fill": {
              "color": "#C8D4E3"
             },
             "line": {
              "color": "white"
             }
            },
            "type": "table"
           }
          ]
         },
         "layout": {
          "annotationdefaults": {
           "arrowcolor": "#2a3f5f",
           "arrowhead": 0,
           "arrowwidth": 1
          },
          "autotypenumbers": "strict",
          "coloraxis": {
           "colorbar": {
            "outlinewidth": 0,
            "ticks": ""
           }
          },
          "colorscale": {
           "diverging": [
            [
             0,
             "#8e0152"
            ],
            [
             0.1,
             "#c51b7d"
            ],
            [
             0.2,
             "#de77ae"
            ],
            [
             0.3,
             "#f1b6da"
            ],
            [
             0.4,
             "#fde0ef"
            ],
            [
             0.5,
             "#f7f7f7"
            ],
            [
             0.6,
             "#e6f5d0"
            ],
            [
             0.7,
             "#b8e186"
            ],
            [
             0.8,
             "#7fbc41"
            ],
            [
             0.9,
             "#4d9221"
            ],
            [
             1,
             "#276419"
            ]
           ],
           "sequential": [
            [
             0,
             "#0d0887"
            ],
            [
             0.1111111111111111,
             "#46039f"
            ],
            [
             0.2222222222222222,
             "#7201a8"
            ],
            [
             0.3333333333333333,
             "#9c179e"
            ],
            [
             0.4444444444444444,
             "#bd3786"
            ],
            [
             0.5555555555555556,
             "#d8576b"
            ],
            [
             0.6666666666666666,
             "#ed7953"
            ],
            [
             0.7777777777777778,
             "#fb9f3a"
            ],
            [
             0.8888888888888888,
             "#fdca26"
            ],
            [
             1,
             "#f0f921"
            ]
           ],
           "sequentialminus": [
            [
             0,
             "#0d0887"
            ],
            [
             0.1111111111111111,
             "#46039f"
            ],
            [
             0.2222222222222222,
             "#7201a8"
            ],
            [
             0.3333333333333333,
             "#9c179e"
            ],
            [
             0.4444444444444444,
             "#bd3786"
            ],
            [
             0.5555555555555556,
             "#d8576b"
            ],
            [
             0.6666666666666666,
             "#ed7953"
            ],
            [
             0.7777777777777778,
             "#fb9f3a"
            ],
            [
             0.8888888888888888,
             "#fdca26"
            ],
            [
             1,
             "#f0f921"
            ]
           ]
          },
          "colorway": [
           "#636efa",
           "#EF553B",
           "#00cc96",
           "#ab63fa",
           "#FFA15A",
           "#19d3f3",
           "#FF6692",
           "#B6E880",
           "#FF97FF",
           "#FECB52"
          ],
          "font": {
           "color": "#2a3f5f"
          },
          "geo": {
           "bgcolor": "white",
           "lakecolor": "white",
           "landcolor": "#E5ECF6",
           "showlakes": true,
           "showland": true,
           "subunitcolor": "white"
          },
          "hoverlabel": {
           "align": "left"
          },
          "hovermode": "closest",
          "mapbox": {
           "style": "light"
          },
          "paper_bgcolor": "white",
          "plot_bgcolor": "#E5ECF6",
          "polar": {
           "angularaxis": {
            "gridcolor": "white",
            "linecolor": "white",
            "ticks": ""
           },
           "bgcolor": "#E5ECF6",
           "radialaxis": {
            "gridcolor": "white",
            "linecolor": "white",
            "ticks": ""
           }
          },
          "scene": {
           "xaxis": {
            "backgroundcolor": "#E5ECF6",
            "gridcolor": "white",
            "gridwidth": 2,
            "linecolor": "white",
            "showbackground": true,
            "ticks": "",
            "zerolinecolor": "white"
           },
           "yaxis": {
            "backgroundcolor": "#E5ECF6",
            "gridcolor": "white",
            "gridwidth": 2,
            "linecolor": "white",
            "showbackground": true,
            "ticks": "",
            "zerolinecolor": "white"
           },
           "zaxis": {
            "backgroundcolor": "#E5ECF6",
            "gridcolor": "white",
            "gridwidth": 2,
            "linecolor": "white",
            "showbackground": true,
            "ticks": "",
            "zerolinecolor": "white"
           }
          },
          "shapedefaults": {
           "line": {
            "color": "#2a3f5f"
           }
          },
          "ternary": {
           "aaxis": {
            "gridcolor": "white",
            "linecolor": "white",
            "ticks": ""
           },
           "baxis": {
            "gridcolor": "white",
            "linecolor": "white",
            "ticks": ""
           },
           "bgcolor": "#E5ECF6",
           "caxis": {
            "gridcolor": "white",
            "linecolor": "white",
            "ticks": ""
           }
          },
          "title": {
           "x": 0.05
          },
          "xaxis": {
           "automargin": true,
           "gridcolor": "white",
           "linecolor": "white",
           "ticks": "",
           "title": {
            "standoff": 15
           },
           "zerolinecolor": "white",
           "zerolinewidth": 2
          },
          "yaxis": {
           "automargin": true,
           "gridcolor": "white",
           "linecolor": "white",
           "ticks": "",
           "title": {
            "standoff": 15
           },
           "zerolinecolor": "white",
           "zerolinewidth": 2
          }
         }
        },
        "title": {
         "font": {
          "color": "#151516"
         },
         "text": "Price Elasticity of Purchase Probability"
        },
        "xaxis": {
         "gridcolor": "#F6F6F6",
         "showgrid": true,
         "tickfont": {
          "color": "#666666"
         },
         "title": {
          "font": {
           "color": "#666666"
          },
          "text": "Prices"
         },
         "zerolinecolor": "#F6F6F6"
        },
        "yaxis": {
         "gridcolor": "#F6F6F6",
         "showgrid": true,
         "tickfont": {
          "color": "#666666"
         },
         "title": {
          "font": {
           "color": "#666666"
          },
          "text": "Elasticyti"
         },
         "zerolinecolor": "#F6F6F6"
        }
       }
      },
      "text/html": [
       "<div>                            <div id=\"dd1f7933-a515-4dd1-b12d-b046356edbd4\" class=\"plotly-graph-div\" style=\"height:525px; width:100%;\"></div>            <script type=\"text/javascript\">                require([\"plotly\"], function(Plotly) {                    window.PLOTLYENV=window.PLOTLYENV || {};\n",
       "                    window.PLOTLYENV.BASE_URL='https://plot.ly';                                    if (document.getElementById(\"dd1f7933-a515-4dd1-b12d-b046356edbd4\")) {                    Plotly.newPlot(                        \"dd1f7933-a515-4dd1-b12d-b046356edbd4\",                        [{\"line\":{\"color\":\"rgba(226, 74, 51, 1.0)\",\"dash\":\"solid\",\"shape\":\"linear\",\"width\":1.3},\"mode\":\"lines\",\"name\":\"means\",\"text\":\"\",\"type\":\"scatter\",\"x\":[0,1,2,3,4,5,6,7,8,9,10,11,12,13,14,15,16,17,18,19,20,21,22,23,24,25,26,27,28,29,30,31,32,33,34,35,36,37,38,39,40,41,42,43,44,45,46,47,48,49,50,51,52,53,54,55,56,57,58,59,60,61,62,63,64,65,66,67,68,69,70,71,72,73,74,75,76,77,78,79,80,81,82,83,84,85,86,87,88,89,90,91,92,93,94,95,96,97,98,99,100,101,102,103,104,105,106,107,108,109,110,111,112,113,114,115,116,117,118,119,120,121,122,123,124,125,126,127,128,129,130,131,132,133,134,135,136,137,138,139,140,141,142,143,144,145,146,147,148,149,150,151,152,153,154,155,156,157,158,159,160,161,162,163,164,165,166,167,168,169,170,171,172,173,174,175,176,177,178,179,180,181,182,183,184,185,186,187,188,189,190,191,192,193,194,195,196,197,198,199,200,201,202,203,204,205,206,207,208,209,210,211,212,213,214,215,216,217,218,219,220,221,222,223,224,225,226,227,228,229,230,231,232,233,234,235,236,237,238,239,240,241,242,243,244,245,246,247,248,249,250,251,252,253,254,255,256,257,258,259,260,261,262,263,264,265,266,267,268,269,270,271,272,273,274,275,276,277,278,279,280,281,282,283,284,285,286,287,288,289,290,291,292,293,294,295,296,297,298],\"y\":[-0.09639582835550818,-0.1004637808378074,-0.10465871295685428,-0.10898377680221519,-0.11344217636988857,-0.11803716724584516,-0.12277205621830221,-0.12765020081564188,-0.1326750087668632,-0.13784993738143306,-0.14317849284538883,-0.1486642294305424,-0.1543107486136332,-0.16012169810230112,-0.16610077076475585,-0.1722517034600683,-0.17857827576603527,-0.18508430860163935,-0.1917736627411797,-0.19865023721723274,-0.2057179676096963,-0.21298082421827,-0.22044281011585537,-0.22810795908048173,-0.2359803334035274,-0.24406402157216261,-0.2523631358241361,-0.260881809573209,-0.2696241947037813,-0.2785944587334742,-0.28779678184268853,-0.29723535377044064,-0.3069143705760559,-0.3168380312666112,-0.3270105342903539,-0.3374360738966548,-0.3481188363634276,-0.35906299609332337,-0.37027271158040503,-0.38175212124943075,-0.3935053391702859,-0.40553645065057636,-0.4178495077098337,-0.43044852443926523,-0.44333747225147,-0.45652027502503306,-0.4700008041494144,-0.4837828734760723,-0.4978702341822635,-0.5122665695545021,-0.5269754896991677,-0.5420005261882914,-0.5573451266490582,-0.5730126493060863,-0.5890063574860548,-0.6053294140947395,-0.6219848760770132,-0.6389756888708261,-0.6563046808666336,-0.6739745578841806,-0.691987897678924,-0.7103471444907874,-0.7290546036482526,-0.7481124362411287,-0.7675226538755934,-0.7872871135253473,-0.8074075124929082,-0.8278853834952064,-0.8487220898877725,-0.8699188210418003,-0.8914765878884272,-0.9133962186444572,-0.935678354733667,-0.9583234469176521,-0.9813317516499339,-1.0047033276667483,-1.0284380328276022,-1.0525355212182401,-1.0769952405282028,-1.1018164297146216,-1.1269981169632861,-1.1525391179573687,-1.1784380344634806,-1.2046932532439603,-1.2313029453034738,-1.2582650654771372,-1.2855773523664475,-1.3132373286283523,-1.3412423016217858,-1.3695893644149557,-1.398275397155605,-1.427297068805371,-1.4566508392382513,-1.486332961702065,-1.5163394856406287,-1.546666259873249,-1.577308936126969,-1.6082629729158702,-1.639523639760603,-1.671086021740211,-1.7029450243672268,-1.7350953787759564,-1.767531647212856,-1.8002482288169137,-1.8332393656770147,-1.8664991491523926,-1.900021526441418,-1.9338003073832226,-1.9678291714759364,-2.002101675094665,-2.036611258891794,-2.0713512553616478,-2.1063148965511616,-2.14149532189783,-2.1768855861759557,-2.212478667531971,-2.2482674755895693,-2.2842448596052503,-2.320403616654988,-2.356736499832812,-2.3932362264422826,-2.4298954861620965,-2.466706949167414,-2.503663274188856,-2.5407571164916156,-2.577981135757624,-2.6153280038543185,-2.6527904124741566,-2.6903610806297356,-2.7280327619900855,-2.765798252044451,-2.8036503950807288,-2.8415820909665004,-2.8795863017214867,-2.917656057871136,-2.9557844645719173,-2.9939647074998335,-3.0321900584945474,-3.070453880952454,-3.1087496349629196,-3.1470708821828373,-3.1854112904455163,-3.223764638100834,-3.262124818084419,-3.3004858417144773,-3.338841842215713,-3.3771870779705555,-3.415515935498695,-3.453822932166644,-3.4921027186297313,-3.5303500810096278,-3.568559942811091,-3.606727366582221,-3.6448475553230835,-3.6829158536480198,-3.720927748707489,-3.7588788708756637,-3.796764994210446,-3.8345820366928507,-3.8723260602530583,-3.909993270590741,-3.9475800167974047,-3.985082790788778,-4.022498226555382,-4.059823099239572,-4.097054324047443,-4.134188955003972,-4.1712241835599295,-4.208157337058974,-4.244985877073402,-4.2817073976168984,-4.31831962324262,-4.35482040703483,-4.391207728502143,-4.427479691380356,-4.463634521352632,-4.499670563694687,-4.535586280852407,-4.571380249959097,-4.607051160299449,-4.642597810726971,-4.678019107041514,-4.713314059333182,-4.74848177929876,-4.783521477536523,-4.818432460825005,-4.853214129391119,-4.887865974172691,-4.9223875740803065,-4.956778593263062,-4.991038778382541,-5.025167955899178,-5.059166029374827,-5.093032976795197,-5.126768847915505,-5.160373761632531,-5.193847903386011,-5.227191522592048,-5.26040493011109,-5.293488495752701,-5.326442645819284,-5.3592678606906174,-5.391964672450894,-5.424533662559849,-5.456975459569278,-5.489290736886183,-5.521480210583545,-5.553544637259613,-5.5854848119464835,-5.617301566068518,-5.648995765451124,-5.680568308380208,-5.712020123712566,-5.74335216903734,-5.774565428888538,-5.8056609130085635,-5.83663965466262,-5.867502709003694,-5.89825115148785,-5.928886076339395,-5.959408595065503,-5.98981983501975,-6.020120938013975,-6.05031305897788,-6.080397364665652,-6.110375032408927,-6.140247248915329,-6.170015209111778,-6.199680115031803,-6.229243174745968,-6.258705601334574,-6.288068611901736,-6.317333426629966,-6.346501267874306,-6.37557335929513,-6.40455092502865,-6.433435188894205,-6.462227373637408,-6.490928700208165,-6.519540387072667,-6.548063649558412,-6.57649969923129,-6.604849743303841,-6.633114984073746,-6.661296618391635,-6.6893958371573286,-6.717413824843582,-6.745351759046506,-6.773210810061731,-6.800992140485523,-6.828696904839962,-6.856326249221377,-6.883881310971226,-6.911363218368618,-6.938773090343712,-6.966112036211197,-6.993381155423146,-7.0205815373404965,-7.0477142610224215,-7.074780395032944,-7.10178099726406,-7.128717114774768,-7.155589783645308,-7.182400028845998,-7.209148864120091,-7.23583729188001,-7.262466303116419,-7.28903687731955,-7.315549982412254,-7.342006574694261,-7.368407598797105,-7.394753987649249,-7.421046662450926,-7.447286532658221,-7.473474495975958,-7.499611438358944,-7.525698234021178,-7.551735745452588,-7.577724823442933,-7.603666307112461,-7.6295610239490035,-7.65540978985112,-7.681213409176967,-7.706972674798558,-7.732688368161129,-7.7583612593472715,-7.783992107145571,-7.8095816591234435,-7.835130651703941,-7.86063981024624,-7.886109849129564,-7.911541471840332,-7.936935371062264,-7.96229222876926,-7.98761271632084,-8.01289749455991,-8.038147213912719,-8.063362514490766,-8.088544026194528]},{\"line\":{\"color\":\"rgba(62, 111, 176, 1.0)\",\"dash\":\"solid\",\"shape\":\"linear\",\"width\":1.3},\"mode\":\"lines\",\"name\":\"pe_seg1\",\"text\":\"\",\"type\":\"scatter\",\"x\":[0,1,2,3,4,5,6,7,8,9,10,11,12,13,14,15,16,17,18,19,20,21,22,23,24,25,26,27,28,29,30,31,32,33,34,35,36,37,38,39,40,41,42,43,44,45,46,47,48,49,50,51,52,53,54,55,56,57,58,59,60,61,62,63,64,65,66,67,68,69,70,71,72,73,74,75,76,77,78,79,80,81,82,83,84,85,86,87,88,89,90,91,92,93,94,95,96,97,98,99,100,101,102,103,104,105,106,107,108,109,110,111,112,113,114,115,116,117,118,119,120,121,122,123,124,125,126,127,128,129,130,131,132,133,134,135,136,137,138,139,140,141,142,143,144,145,146,147,148,149,150,151,152,153,154,155,156,157,158,159,160,161,162,163,164,165,166,167,168,169,170,171,172,173,174,175,176,177,178,179,180,181,182,183,184,185,186,187,188,189,190,191,192,193,194,195,196,197,198,199,200,201,202,203,204,205,206,207,208,209,210,211,212,213,214,215,216,217,218,219,220,221,222,223,224,225,226,227,228,229,230,231,232,233,234,235,236,237,238,239,240,241,242,243,244,245,246,247,248,249,250,251,252,253,254,255,256,257,258,259,260,261,262,263,264,265,266,267,268,269,270,271,272,273,274,275,276,277,278,279,280,281,282,283,284,285,286,287,288,289,290,291,292,293,294,295,296,297,298],\"y\":[-0.11908833683118748,-0.12327133527554841,-0.12754767107037768,-0.13191880268604195,-0.13638619653441655,-0.14095132651478373,-0.14561567354151017,-0.150380725053354,-0.15524797450426914,-0.1602189208355898,-0.16529506792950335,-0.17047792404373882,-0.17576900122741723,-0.1811698147180383,-0.1866818823195978,-0.1923067237618588,-0.19804586004081823,-0.20390081274045044,-0.20987310333582204,-0.2159642524777137,-0.2221757792589077,-0.2285092004623305,-0.23496602979127554,-0.24154777708196198,-0.24825594749871224,-0.25509204071207797,-0.2620575500602654,-0.2691539616942547,-0.27638275370704163,-0.2837453952474643,-0.2912433456191191,-0.29887805336490286,-0.3066509553377592,-0.3145634757582425,-0.3226170252595561,-0.33081299992075175,-0.3391527802888252,-0.34763773039047313,-0.3562691967343213,-0.3650485073044671,-0.37397697054622003,-0.38305587434496347,-0.39228648499908914,-0.4016700461880041,-0.41120777793623675,-0.4209008755747036,-0.43075050870023934,-0.44075782013451603,-0.45092392488351357,-0.4612499090987367,-0.4717368290413935,-0.48238571005078795,-0.49319754551819506,-0.5041732958675182,-0.5153138875440478,-0.526620212012655,-0.538093124766781,-0.5497334443495929,-0.5615419513886851,-0.5735193876457293,-0.5856664550824717,-0.5979838149444845,-0.6104720868640887,-0.6231318479838553,-0.6359636321020945,-0.6489679288417383,-0.6621451828440079,-0.6754957929882496,-0.6890201116393058,-0.7027184439237737,-0.7165910470364746,-0.7306381295784428,-0.7448598509277105,-0.7592563206441254,-0.7738275979094311,-0.7885736910037648,-0.8034945568197189,-0.8185901004150575,-0.833860174605131,-0.8493045795959782,-0.8649230626590754,-0.8807153178486062,-0.8966809857620914,-0.912819653345148,-0.9291308537410883,-0.9456140661859974,-0.9622687159498705,-0.9790941743243171,-0.9960897586572625,-1.0132547324350138,-1.030588305411984,-1.048089633788268,-1.0657578204352325,-1.0835919151691524,-1.101590915072885,-1.119753764865479,-1.1380793573195325,-1.1565665337260402,-1.1752140844063892,-1.194020749271079,-1.2129852184246628,-1.2321061328163327,-1.2513820849354882,-1.270811619551549,-1.2903932344972056,-1.3101253814942195,-1.3300064670208114,-1.3500348532196131,-1.370208858845085,-1.3905267602492275,-1.4109867924043717,-1.4315871499617472,-1.452325988344489,-1.473201424873673,-1.4942115399259346,-1.51535437812115,-1.5366279495386508,-1.5580302309603595,-1.5795591671392248,-1.6012126720912874,-1.6229886304096817,-1.644884898598835,-1.666899306427133,-1.6890296582962638,-1.7112737346254654,-1.7336292932488746,-1.7560940708241706,-1.778665784250701,-1.8013421320952816,-1.8241207960238592,-1.8469994422372353,-1.8699757229090592,-1.8930472776243228,-1.916211734816581,-1.9394667132021763,-1.962809823209752,-1.9862386684033573,-2.009750846897511,-2.0333439527625874,-2.057015577418947,-2.080763311018274,-2.1045847438106158,-2.128477467495664,-2.152439076556878,-2.176467169577085,-2.200559350534244,-2.224713230076128,-2.2489264267727083,-2.273196568345107,-2.29752129287002,-2.3218982499585863,-2.3463251019087195,-2.370799524829998,-2.3953192097402694,-2.419881863633151,-2.4444852105157175,-2.469126992415705,-2.49380497035761,-2.5185169253071473,-2.5432606590835634,-2.568033995239398,-2.592834779907312,-2.6176608826136687,-2.6425101970586202,-2.6673806418625055,-2.6922701612784214,-2.717176725870865,-2.7420983331604267,-2.7670330082345536,-2.79197880432445,-2.816933803348218,-2.8418961164204215,-2.8668638843282745,-2.891835277974704,-2.9168084987885856,-2.9417817791024823,-2.9667533824982626,-2.9917216041210146,-3.016684770961681,-3.041641242108897,-3.066589408970559,-3.0915276954656266,-3.116454558186738,-3.1413684865342253,-3.1662680028221346,-3.1911516623568854,-3.2160180534892175,-3.2408657976400836,-3.2656935493011967,-3.2904999960109014,-3.3152838583060933,-3.3400438896508997,-3.3647788763428523,-3.389487637397297,-3.4141690244107648,-3.4388219214040547,-3.463445244645788,-3.488037942457184,-3.512598994998776,-3.5371274140398548,-3.5616222427113713,-3.586082555243038,-3.61050745668536,-3.6348960826173515,-3.659247598840629,-3.683561201060639,-3.70783611455569,-3.7320715938345126,-3.7562669222830247,-3.7804214118010036,-3.8045344024292826,-3.828605261968179,-3.8526333855877706,-3.876618195430647,-3.900559140207756,-3.924455694787949,-3.9483073597817966,-3.9721136611202734,-3.9958741496288392,-4.019588400597467,-4.043256013347153,-4.066876610793418,-4.090449839007266,-4.113975366774114,-4.13745288515114,-4.160882107023493,-4.184262766659797,-4.207594619267373,-4.2308774405475456,-4.254111026251481,-4.2772951917368465,-4.300429771525699,-4.323514618863919,-4.346549605282515,-4.369534620161111,-4.392469570293875,-4.415354379458237,-4.438188987986582,-4.460973352341223,-4.483707444692862,-4.506391252502773,-4.5290247781089175,-4.551608038316179,-4.5741410639909175,-4.5966238996599955,-4.619056603114467,-4.641439245018045,-4.663771908520499,-4.686054688876125,-4.7082876930673825,-4.730471039433814,-4.752604857306345,-4.7746892866470505,-4.796724477694471,-4.818710590614528,-4.84064779515713,-4.862536270318494,-4.8843762040092455,-4.9061677927283265,-4.92791124124273,-4.949606762273105,-4.971254576185247,-4.992854910687453,-5.014408000533779,-5.035914087233186,-5.057373418764563,-5.078786249297613,-5.100152838919589,-5.121473453367858,-5.142748363768264,-5.163977846379253,-5.185162182341725,-5.206301657434588,-5.227396561835959,-5.248447189889955,-5.2694538398790485,-5.290416813801923,-5.311336417156769,-5.332212958729969,-5.353046750390111,-5.373838106887269,-5.394587345657488,-5.415294786632402,-5.435960752053914,-5.456585566293885,-5.4771695556787545,-5.497713048319012,-5.5182163739434476,-5.538679863738128,-5.559103850190005,-5.5794886669350765,-5.5998346486110435,-5.6201421307143775,-5.640411449461709,-5.660642941655495,-5.680836944553836,-5.700993795744418,-5.721113833022473,-5.741197394272685]},{\"line\":{\"color\":\"rgba(132, 118, 202, 1.0)\",\"dash\":\"solid\",\"shape\":\"linear\",\"width\":1.3},\"mode\":\"lines\",\"name\":\"pe_seg2\",\"text\":\"\",\"type\":\"scatter\",\"x\":[0,1,2,3,4,5,6,7,8,9,10,11,12,13,14,15,16,17,18,19,20,21,22,23,24,25,26,27,28,29,30,31,32,33,34,35,36,37,38,39,40,41,42,43,44,45,46,47,48,49,50,51,52,53,54,55,56,57,58,59,60,61,62,63,64,65,66,67,68,69,70,71,72,73,74,75,76,77,78,79,80,81,82,83,84,85,86,87,88,89,90,91,92,93,94,95,96,97,98,99,100,101,102,103,104,105,106,107,108,109,110,111,112,113,114,115,116,117,118,119,120,121,122,123,124,125,126,127,128,129,130,131,132,133,134,135,136,137,138,139,140,141,142,143,144,145,146,147,148,149,150,151,152,153,154,155,156,157,158,159,160,161,162,163,164,165,166,167,168,169,170,171,172,173,174,175,176,177,178,179,180,181,182,183,184,185,186,187,188,189,190,191,192,193,194,195,196,197,198,199,200,201,202,203,204,205,206,207,208,209,210,211,212,213,214,215,216,217,218,219,220,221,222,223,224,225,226,227,228,229,230,231,232,233,234,235,236,237,238,239,240,241,242,243,244,245,246,247,248,249,250,251,252,253,254,255,256,257,258,259,260,261,262,263,264,265,266,267,268,269,270,271,272,273,274,275,276,277,278,279,280,281,282,283,284,285,286,287,288,289,290,291,292,293,294,295,296,297,298],\"y\":[-0.030920688762711604,-0.032687645274033665,-0.03454149694081637,-0.03648612334407846,-0.03852556137646616,-0.04066401072013246,-0.04290583945080116,-0.04525558976541037,-0.04771798383011227,-0.05029792974469128,-0.05300052761874012,-0.05583107575410896,-0.05879507692726365,-0.06189824476426907,-0.06514651020007116,-0.06854602801268837,-0.07210318342174617,-0.07582459873954363,-0.07971714006151938,-0.08378792398156097,-0.08804432431611524,-0.09249397881944428,-0.09714479587070768,-0.10200496111175808,-0.10708294401268394,-0.11238750434014455,-0.11792769850150309,-0.12371288573560454,-0.12975273411878951,-0.13605722635243406,-0.14263666529585486,-0.14950167920595533,-0.1566632266424162,-0.16413260099459634,-0.1719214345836496,-0.18004170229062086,-0.18850572465855775,-0.19732617041388556,-0.20651605834955736,-0.21608875850975087,-0.22605799261320286,-0.23643783364965112,-0.24724270458136802,-0.2584873760793731,-0.27018696322170915,-0.28235692107916105,-0.2950130391120457,-0.30817143430018257,-0.3218485429270715,-0.3360611109384679,-0.3508261827952762,-0.3661610887407703,-0.38208343040289117,-0.39861106465362073,-0.41576208564939926,-0.433554804979188,-0.45200772985024745,-0.47113953924592483,-0.4909690579949521,-0.5115152286978173,-0.5327970814629102,-0.5548337014132789,-0.5776441939340574,-0.601247647641001,-0.6256630950620495,-0.650909471036495,-0.6770055688501618,-0.7039699941399709,-0.731821116617363,-0.7605770196772522,-0.7902554479773831,-0.8208737530921625,-0.8524488373650149,-0.88499709610413,-0.9185343582877608,-0.9530758259670716,-0.9886360125765329,-1.025228680383954,-1.0628667773341154,-1.101562373561434,-1.1413265978678118,-1.1821695744816247,-1.2241003604322367,-1.2671268838913834,-1.3112558838477135,-1.3564928514936103,-1.4028419737136666,-1.450306079071665,-1.4988865866972558,-1.548583458474537,-1.5993951549321133,-1.651318595227823,-1.7043491216109237,-1.7584804687300635,-1.8137047381367544,-1.870012378311227,-1.9273921705106751,-1.9858312207088993,-2.045314957861596,-2.105827138693112,-2.1673498591587625,-2.2298635726920892,-2.2933471152992673,-2.357777737513525,-2.423131143171646,-2.4893815349227926,-2.556501666327745,-2.624462900354624,-2.693235274026174,-2.762787568924027,-2.8330873872079763,-2.9041012327635314,-2.9757945970496618,-3.0481320491810076,-3.1210773297456145,-3.1945934478307505,-3.2686427807058553,-3.3431871755936573,-3.4181880529479627,-3.493606510649718,-3.5694034285318383,-3.64553957264777,-3.7219756987087185,-3.7986726541297697,-3.8755914781454637,-3.952693499480244,-4.029940431088484,-4.107294461511738,-4.1847183424371375,-4.26217547207995,-4.3396299740545015,-4.417046771440653,-4.494391655797045,-4.571631350916893,-4.648733571166719,-4.725667074292651,-4.802401708621968,-4.878908454629547,-4.95515946087882,-5.031128074384868,-5.106788865482783,-5.182117647317404,-5.257091490100493,-5.331688730308636,-5.4058889750190735,-5.479673101601611,-5.553023253002518,-5.625922828871019,-5.698356472790609,-5.770310055886219,-5.841770657084183,-5.912726540305331,-5.983167128872323,-6.053082977411089,-6.122465741522583,-6.19130814549586,-6.259603948326444,-6.327347908295479,-6.394535746355425,-6.461164108557395,-6.527230527743538,-6.592733384715604,-6.657671869078042,-6.722045939940831,-6.7858562866539796,-6.84910428973213,-6.911791982114472,-6.973922010891946,-7.035497599620883,-7.096522511329625,-7.157001012312561,-7.216937836794331,-7.276338152535886,-7.335207527443397,-7.393551897231118,-7.45137753417986,-7.508691017023951,-7.565499201991485,-7.621809195014972,-7.67762832512272,-7.732964119014888,-7.78782427682234,-7.842216649041354,-7.896149214632441,-7.949630060267561,-8.00266736070622,-8.055269360277785,-8.107444355444695,-8.159200678418715,-8.210546681800622,-8.261490724211864,-8.31204115688563,-8.362206311183682,-8.411994487004518,-8.461413942048077,-8.510472881901778,-8.559179450912794,-8.607541723811433,-8.655567698050806,-8.70326528682844,-8.750642312755934,-8.797706502143473,-8.84446547986667,-8.890926764784052,-8.937097765674405,-8.98298577766402,-9.028597979114934,-9.073941428946176,-9.119023064361112,-9.163849698954966,-9.208428021177596,-9.252764593127756,-9.296865849655946,-9.340738097754166,-9.384387516211701,-9.427820155517198,-9.471041937988252,-9.514058658110601,-9.556875983070025,-9.599499453460925,-9.641934484156417,-9.684186365325667,-9.726260263584921,-9.768161223269594,-9.809894167815399,-9.851463901237372,-9.89287510969619,-9.934132363141952,-9.975240117026221,-10.016202714073646,-10.057024386105173,-10.09770925590531,-10.138261339126496,-10.178684546224083,-10.218982684415913,-10.259159459660935,-10.299218478651705,-10.33916325081602,-10.378997190323327,-10.41872361809182,-10.458345763792625,-10.497866767847611,-10.537289683417788,-10.576617478379452,-10.615853037285532,-10.654999163309862,-10.694058580172202,-10.733033934042243,-10.771927795420844,-10.81074266099703,-10.84948095547947,-10.888145033401154,-10.926737180896449,-10.965259617449465,-11.00371449761312,-11.0421039126982,-11.080429892431944,-11.118694406585716,-11.156899366571428,-11.195046627006514,-11.233137987247249,-11.271175192890379,-11.309159937243026,-11.347093862760854,-11.384978562454705,-11.42281558126575,-11.46060641740941,-11.49835252368826,-11.536055308774179,-11.573716138460101,-11.61133633688163,-11.648917187708946,-11.686459935309367,-11.723965785880967,-11.76143590855769,-11.798871436486397,-11.836273467876307,-11.8736430670213,-11.910981265295554,-11.948289062123012,-11.985567425921154,-12.022817295019617,-12.060039578554093,-12.097235157336058,-12.134404884698846,-12.171549587320518,-12.208670066024101,-12.245767096555605,-12.28284143034044,-12.319893795218597,-12.356924896159198,-12.393935415954813,-12.430926015896087,-12.467897336427145,-12.504849997782182,-12.541784600603803,-12.578701726543501,-12.615601938844737,-12.652485782909077]},{\"line\":{\"color\":\"rgba(101, 101, 101, 1.0)\",\"dash\":\"solid\",\"shape\":\"linear\",\"width\":1.3},\"mode\":\"lines\",\"name\":\"pe_seg0\",\"text\":\"\",\"type\":\"scatter\",\"x\":[0,1,2,3,4,5,6,7,8,9,10,11,12,13,14,15,16,17,18,19,20,21,22,23,24,25,26,27,28,29,30,31,32,33,34,35,36,37,38,39,40,41,42,43,44,45,46,47,48,49,50,51,52,53,54,55,56,57,58,59,60,61,62,63,64,65,66,67,68,69,70,71,72,73,74,75,76,77,78,79,80,81,82,83,84,85,86,87,88,89,90,91,92,93,94,95,96,97,98,99,100,101,102,103,104,105,106,107,108,109,110,111,112,113,114,115,116,117,118,119,120,121,122,123,124,125,126,127,128,129,130,131,132,133,134,135,136,137,138,139,140,141,142,143,144,145,146,147,148,149,150,151,152,153,154,155,156,157,158,159,160,161,162,163,164,165,166,167,168,169,170,171,172,173,174,175,176,177,178,179,180,181,182,183,184,185,186,187,188,189,190,191,192,193,194,195,196,197,198,199,200,201,202,203,204,205,206,207,208,209,210,211,212,213,214,215,216,217,218,219,220,221,222,223,224,225,226,227,228,229,230,231,232,233,234,235,236,237,238,239,240,241,242,243,244,245,246,247,248,249,250,251,252,253,254,255,256,257,258,259,260,261,262,263,264,265,266,267,268,269,270,271,272,273,274,275,276,277,278,279,280,281,282,283,284,285,286,287,288,289,290,291,292,293,294,295,296,297,298],\"y\":[-0.2111693570867855,-0.2177394607885805,-0.2244173010034876,-0.23120366022607017,-0.23809930626749032,-0.24510499174640316,-0.2522214535816252,-0.25944941248706416,-0.26678957246940815,-0.27424262032907426,-0.2818092251649276,-0.2894900378832829,-0.2972856907117078,-0.3051967967181497,-0.3132239493359129,-0.3213677218950103,-0.32962866716042305,-0.3380073168777957,-0.3465041813270979,-0.35511974888478015,-0.3638544855949525,-0.37270883475011163,-0.3816832164819327,-0.3907780273626502,-0.39999364001753174,-0.40933040274895466,-0.4187886391725809,-0.4283686478661224,-0.4380707020311744,-0.4478950491685914,-0.4578419107678631,-0.4679114820109399,-0.47810393149094377,-0.4884194009461865,-0.49885800500990274,-0.5094198309760914,-0.5201049385818416,-0.5309133598065033,-0.5418450986880416,-0.5529001311569048,-0.5640784048877037,-0.5753798391689902,-0.5868043247914001,-0.5983517239544,-0.6100218701918608,-0.6218145683166577,-0.6337295943844701,-0.6457666956769362,-0.6579255907042881,-0.670205969227576,-0.6826074923005561,-0.6951297923313038,-0.7077724731635758,-0.7205351101779313,-0.7334172504125865,-0.7464184127039635,-0.7595380878468532,-0.7727757387741028,-0.7861308007557,-0.7996026816171098,-0.8131907619766873,-0.826894395501971,-0.8407129091846334,-0.8546456036338403,-0.8686917533877501,-0.8828506072428545,-0.8971213886008504,-0.9115032958326929,-0.9259955026594754,-0.9405971585497497,-0.955307389132881,-0.9701252966280178,-0.9850499602882287,-1.0000804368593432,-1.0152157610530272,-1.0304549460335817,-1.0457969839179646,-1.0612408462885035,-1.0767854847177565,-1.0924298313049714,-1.1081727992235726,-1.1240132832791,-1.1399501604770128,-1.1559822905997577,-1.1721085167925027,-1.1883276661569195,-1.2046385503523982,-1.2210399662040732,-1.2375306963170336,-1.2541095096960873,-1.270775162370448,-1.2875263980227172,-1.3043619486215272,-1.3212805350572128,-1.3382808677798919,-1.3553616474393244,-1.3725215655259337,-1.3897593050123733,-1.4070735409950366,-1.424462941334901,-1.4419261672971206,-1.4594618741887813,-1.4770687119942412,-1.494745326007498,-1.512490357461026,-1.5303024441505455,-1.548180221055193,-1.5661223209525825,-1.5841273750282525,-1.6021940134790096,-1.6203208661097082,-1.6385065629229965,-1.6567497347015976,-1.6750490135826956,-1.6934030336240233,-1.7118104313612605,-1.7302698463563637,-1.7487799217364801,-1.7673393047231019,-1.7859466471511374,-1.804600605977608,-1.8232998437796717,-1.842043029241718,-1.860828837631282,-1.8796559512635478,-1.8985230599542255,-1.917428861460619,-1.9363720619106926,-1.9553513762199914,-1.9743655284962696,-1.9934132524316996,-2.0124932916825635,-2.031604400236331,-2.0507453427660502,-2.0699148949720056,-2.089111843910584,-2.108334988310342,-2.127583138875254,-2.1468551185751474,-2.1661497629233493,-2.18546592024157,-2.2048024519120824,-2.224158232617243,-2.243532150566442,-2.2629231077105576,-2.2823300199440135,-2.301751817294557,-2.3211874441008633,-2.340635859178106,-2.360096035971629,-2.3795669626988736,-2.3990476424797085,-2.418537093455341,-2.438034348895984,-2.4575384572974412,-2.4770484824668273,-2.496563503597599,-2.516082615334106,-2.535604927825868,-2.5551295667717846,-2.5746556734545045,-2.594182404765171,-2.6137089332187644,-2.633234446960267,-2.6527581497618993,-2.6722792610116457,-2.691797015693302,-2.7113106643582947,-2.7308194730895066,-2.7503227234573453,-2.769819712468301,-2.789309752506222,-2.808792171266571,-2.828266311683883,-2.847731531852669,-2.867187204942017,-2.8866327191041052,-2.906067477376896,-2.9254908975812133,-2.9449024122124525,-2.964301468327156,-2.983687527424683,-3.0030600653241835,-3.02241857203712,-3.0417625516355473,-3.0610915221163717,-3.0804050152617966,-3.0997025764961696,-3.1189837647394465,-3.1382481522574572,-3.157495324509192,-3.1767248799912853,-3.195936430079913,-3.2151295988702677,-3.2343040230138067,-3.253459351553453,-3.2725952457569214,-3.2917113789483463,-3.31080743633837,-3.329883114852856,-3.348938122960393,-3.3679721804987413,-3.386985018500356,-3.4059763790171558,-3.4249460149446587,-3.4438936898456354,-3.4628191777734045,-3.4817222630948894,-3.5006027403135844,-3.519460413892524,-3.5382950980773873,-3.5571066167198344,-3.575894803101195,-3.594659499756607,-3.613400558299695,-3.632117839247898,-3.650811211848524,-3.6694805539056294,-3.6881257516078003,-3.706746699356903,-3.725343299597911,-3.743915462649847,-3.7624631065379317,-3.7809861568269834,-3.7994845464561493,-3.8179582155750262,-3.8364071113812024,-3.854831187959301,-3.873230406121554,-3.8916047332499732,-3.9099541431401272,-3.928278615846605,-3.946578137530168,-3.9648527003066585,-3.9831023020976577,-4.001326946482962,-4.01952664255487,-4.037701404774341,-4.055851252829007,-4.073976211493087,-4.092076310489215,-4.110151584352195,-4.128202072294688,-4.1462278180748635,-4.164228869866006,-4.182205280128094,-4.200157105481354,-4.218084406581803,-4.235987247998763,-4.253865698094371,-4.271719828905081,-4.289549716025123,-4.307355438491982,-4.325137078673823,-4.342894722158908,-4.360628457646963,-4.37833837684252,-4.396024574350193,-4.413687147571908,-4.4313261966060455,-4.448941824148516,-4.466534135395732,-4.484103237949476,-4.50164924172364,-4.519172258852826,-4.536672403602815,-4.554149792282836,-4.571604543159669,-4.589036776373538,-4.606446613855794,-4.623834179248336,-4.641199597824799,-4.658542996413445,-4.675864503321774,-4.693164248262806,-4.710442362283026,-4.727698977691978,-4.74493422799348,-4.762148247818433,-4.7793411728592154,-4.796513139805631,-4.813664286282396,-4.8307947507881375,-4.847904672635888,-4.864994191895047,-4.882063449334794,-4.899112586368923,-4.916141745002091,-4.933151067777435,-4.950140697725563,-4.967110778314874,-4.984061453403192,-5.000992867190709,-5.017905164174179,-5.034798489102383,-5.051672986932799,-5.068528802789508,-5.085366081922255,-5.102184969666702]}],                        {\"legend\":{\"bgcolor\":\"#FFFFFF\",\"font\":{\"color\":\"#666666\"}},\"paper_bgcolor\":\"#FFFFFF\",\"plot_bgcolor\":\"#E5E5E5\",\"template\":{\"data\":{\"bar\":[{\"error_x\":{\"color\":\"#2a3f5f\"},\"error_y\":{\"color\":\"#2a3f5f\"},\"marker\":{\"line\":{\"color\":\"#E5ECF6\",\"width\":0.5},\"pattern\":{\"fillmode\":\"overlay\",\"size\":10,\"solidity\":0.2}},\"type\":\"bar\"}],\"barpolar\":[{\"marker\":{\"line\":{\"color\":\"#E5ECF6\",\"width\":0.5},\"pattern\":{\"fillmode\":\"overlay\",\"size\":10,\"solidity\":0.2}},\"type\":\"barpolar\"}],\"carpet\":[{\"aaxis\":{\"endlinecolor\":\"#2a3f5f\",\"gridcolor\":\"white\",\"linecolor\":\"white\",\"minorgridcolor\":\"white\",\"startlinecolor\":\"#2a3f5f\"},\"baxis\":{\"endlinecolor\":\"#2a3f5f\",\"gridcolor\":\"white\",\"linecolor\":\"white\",\"minorgridcolor\":\"white\",\"startlinecolor\":\"#2a3f5f\"},\"type\":\"carpet\"}],\"choropleth\":[{\"colorbar\":{\"outlinewidth\":0,\"ticks\":\"\"},\"type\":\"choropleth\"}],\"contour\":[{\"colorbar\":{\"outlinewidth\":0,\"ticks\":\"\"},\"colorscale\":[[0.0,\"#0d0887\"],[0.1111111111111111,\"#46039f\"],[0.2222222222222222,\"#7201a8\"],[0.3333333333333333,\"#9c179e\"],[0.4444444444444444,\"#bd3786\"],[0.5555555555555556,\"#d8576b\"],[0.6666666666666666,\"#ed7953\"],[0.7777777777777778,\"#fb9f3a\"],[0.8888888888888888,\"#fdca26\"],[1.0,\"#f0f921\"]],\"type\":\"contour\"}],\"contourcarpet\":[{\"colorbar\":{\"outlinewidth\":0,\"ticks\":\"\"},\"type\":\"contourcarpet\"}],\"heatmap\":[{\"colorbar\":{\"outlinewidth\":0,\"ticks\":\"\"},\"colorscale\":[[0.0,\"#0d0887\"],[0.1111111111111111,\"#46039f\"],[0.2222222222222222,\"#7201a8\"],[0.3333333333333333,\"#9c179e\"],[0.4444444444444444,\"#bd3786\"],[0.5555555555555556,\"#d8576b\"],[0.6666666666666666,\"#ed7953\"],[0.7777777777777778,\"#fb9f3a\"],[0.8888888888888888,\"#fdca26\"],[1.0,\"#f0f921\"]],\"type\":\"heatmap\"}],\"heatmapgl\":[{\"colorbar\":{\"outlinewidth\":0,\"ticks\":\"\"},\"colorscale\":[[0.0,\"#0d0887\"],[0.1111111111111111,\"#46039f\"],[0.2222222222222222,\"#7201a8\"],[0.3333333333333333,\"#9c179e\"],[0.4444444444444444,\"#bd3786\"],[0.5555555555555556,\"#d8576b\"],[0.6666666666666666,\"#ed7953\"],[0.7777777777777778,\"#fb9f3a\"],[0.8888888888888888,\"#fdca26\"],[1.0,\"#f0f921\"]],\"type\":\"heatmapgl\"}],\"histogram\":[{\"marker\":{\"pattern\":{\"fillmode\":\"overlay\",\"size\":10,\"solidity\":0.2}},\"type\":\"histogram\"}],\"histogram2d\":[{\"colorbar\":{\"outlinewidth\":0,\"ticks\":\"\"},\"colorscale\":[[0.0,\"#0d0887\"],[0.1111111111111111,\"#46039f\"],[0.2222222222222222,\"#7201a8\"],[0.3333333333333333,\"#9c179e\"],[0.4444444444444444,\"#bd3786\"],[0.5555555555555556,\"#d8576b\"],[0.6666666666666666,\"#ed7953\"],[0.7777777777777778,\"#fb9f3a\"],[0.8888888888888888,\"#fdca26\"],[1.0,\"#f0f921\"]],\"type\":\"histogram2d\"}],\"histogram2dcontour\":[{\"colorbar\":{\"outlinewidth\":0,\"ticks\":\"\"},\"colorscale\":[[0.0,\"#0d0887\"],[0.1111111111111111,\"#46039f\"],[0.2222222222222222,\"#7201a8\"],[0.3333333333333333,\"#9c179e\"],[0.4444444444444444,\"#bd3786\"],[0.5555555555555556,\"#d8576b\"],[0.6666666666666666,\"#ed7953\"],[0.7777777777777778,\"#fb9f3a\"],[0.8888888888888888,\"#fdca26\"],[1.0,\"#f0f921\"]],\"type\":\"histogram2dcontour\"}],\"mesh3d\":[{\"colorbar\":{\"outlinewidth\":0,\"ticks\":\"\"},\"type\":\"mesh3d\"}],\"parcoords\":[{\"line\":{\"colorbar\":{\"outlinewidth\":0,\"ticks\":\"\"}},\"type\":\"parcoords\"}],\"pie\":[{\"automargin\":true,\"type\":\"pie\"}],\"scatter\":[{\"marker\":{\"colorbar\":{\"outlinewidth\":0,\"ticks\":\"\"}},\"type\":\"scatter\"}],\"scatter3d\":[{\"line\":{\"colorbar\":{\"outlinewidth\":0,\"ticks\":\"\"}},\"marker\":{\"colorbar\":{\"outlinewidth\":0,\"ticks\":\"\"}},\"type\":\"scatter3d\"}],\"scattercarpet\":[{\"marker\":{\"colorbar\":{\"outlinewidth\":0,\"ticks\":\"\"}},\"type\":\"scattercarpet\"}],\"scattergeo\":[{\"marker\":{\"colorbar\":{\"outlinewidth\":0,\"ticks\":\"\"}},\"type\":\"scattergeo\"}],\"scattergl\":[{\"marker\":{\"colorbar\":{\"outlinewidth\":0,\"ticks\":\"\"}},\"type\":\"scattergl\"}],\"scattermapbox\":[{\"marker\":{\"colorbar\":{\"outlinewidth\":0,\"ticks\":\"\"}},\"type\":\"scattermapbox\"}],\"scatterpolar\":[{\"marker\":{\"colorbar\":{\"outlinewidth\":0,\"ticks\":\"\"}},\"type\":\"scatterpolar\"}],\"scatterpolargl\":[{\"marker\":{\"colorbar\":{\"outlinewidth\":0,\"ticks\":\"\"}},\"type\":\"scatterpolargl\"}],\"scatterternary\":[{\"marker\":{\"colorbar\":{\"outlinewidth\":0,\"ticks\":\"\"}},\"type\":\"scatterternary\"}],\"surface\":[{\"colorbar\":{\"outlinewidth\":0,\"ticks\":\"\"},\"colorscale\":[[0.0,\"#0d0887\"],[0.1111111111111111,\"#46039f\"],[0.2222222222222222,\"#7201a8\"],[0.3333333333333333,\"#9c179e\"],[0.4444444444444444,\"#bd3786\"],[0.5555555555555556,\"#d8576b\"],[0.6666666666666666,\"#ed7953\"],[0.7777777777777778,\"#fb9f3a\"],[0.8888888888888888,\"#fdca26\"],[1.0,\"#f0f921\"]],\"type\":\"surface\"}],\"table\":[{\"cells\":{\"fill\":{\"color\":\"#EBF0F8\"},\"line\":{\"color\":\"white\"}},\"header\":{\"fill\":{\"color\":\"#C8D4E3\"},\"line\":{\"color\":\"white\"}},\"type\":\"table\"}]},\"layout\":{\"annotationdefaults\":{\"arrowcolor\":\"#2a3f5f\",\"arrowhead\":0,\"arrowwidth\":1},\"autotypenumbers\":\"strict\",\"coloraxis\":{\"colorbar\":{\"outlinewidth\":0,\"ticks\":\"\"}},\"colorscale\":{\"diverging\":[[0,\"#8e0152\"],[0.1,\"#c51b7d\"],[0.2,\"#de77ae\"],[0.3,\"#f1b6da\"],[0.4,\"#fde0ef\"],[0.5,\"#f7f7f7\"],[0.6,\"#e6f5d0\"],[0.7,\"#b8e186\"],[0.8,\"#7fbc41\"],[0.9,\"#4d9221\"],[1,\"#276419\"]],\"sequential\":[[0.0,\"#0d0887\"],[0.1111111111111111,\"#46039f\"],[0.2222222222222222,\"#7201a8\"],[0.3333333333333333,\"#9c179e\"],[0.4444444444444444,\"#bd3786\"],[0.5555555555555556,\"#d8576b\"],[0.6666666666666666,\"#ed7953\"],[0.7777777777777778,\"#fb9f3a\"],[0.8888888888888888,\"#fdca26\"],[1.0,\"#f0f921\"]],\"sequentialminus\":[[0.0,\"#0d0887\"],[0.1111111111111111,\"#46039f\"],[0.2222222222222222,\"#7201a8\"],[0.3333333333333333,\"#9c179e\"],[0.4444444444444444,\"#bd3786\"],[0.5555555555555556,\"#d8576b\"],[0.6666666666666666,\"#ed7953\"],[0.7777777777777778,\"#fb9f3a\"],[0.8888888888888888,\"#fdca26\"],[1.0,\"#f0f921\"]]},\"colorway\":[\"#636efa\",\"#EF553B\",\"#00cc96\",\"#ab63fa\",\"#FFA15A\",\"#19d3f3\",\"#FF6692\",\"#B6E880\",\"#FF97FF\",\"#FECB52\"],\"font\":{\"color\":\"#2a3f5f\"},\"geo\":{\"bgcolor\":\"white\",\"lakecolor\":\"white\",\"landcolor\":\"#E5ECF6\",\"showlakes\":true,\"showland\":true,\"subunitcolor\":\"white\"},\"hoverlabel\":{\"align\":\"left\"},\"hovermode\":\"closest\",\"mapbox\":{\"style\":\"light\"},\"paper_bgcolor\":\"white\",\"plot_bgcolor\":\"#E5ECF6\",\"polar\":{\"angularaxis\":{\"gridcolor\":\"white\",\"linecolor\":\"white\",\"ticks\":\"\"},\"bgcolor\":\"#E5ECF6\",\"radialaxis\":{\"gridcolor\":\"white\",\"linecolor\":\"white\",\"ticks\":\"\"}},\"scene\":{\"xaxis\":{\"backgroundcolor\":\"#E5ECF6\",\"gridcolor\":\"white\",\"gridwidth\":2,\"linecolor\":\"white\",\"showbackground\":true,\"ticks\":\"\",\"zerolinecolor\":\"white\"},\"yaxis\":{\"backgroundcolor\":\"#E5ECF6\",\"gridcolor\":\"white\",\"gridwidth\":2,\"linecolor\":\"white\",\"showbackground\":true,\"ticks\":\"\",\"zerolinecolor\":\"white\"},\"zaxis\":{\"backgroundcolor\":\"#E5ECF6\",\"gridcolor\":\"white\",\"gridwidth\":2,\"linecolor\":\"white\",\"showbackground\":true,\"ticks\":\"\",\"zerolinecolor\":\"white\"}},\"shapedefaults\":{\"line\":{\"color\":\"#2a3f5f\"}},\"ternary\":{\"aaxis\":{\"gridcolor\":\"white\",\"linecolor\":\"white\",\"ticks\":\"\"},\"baxis\":{\"gridcolor\":\"white\",\"linecolor\":\"white\",\"ticks\":\"\"},\"bgcolor\":\"#E5ECF6\",\"caxis\":{\"gridcolor\":\"white\",\"linecolor\":\"white\",\"ticks\":\"\"}},\"title\":{\"x\":0.05},\"xaxis\":{\"automargin\":true,\"gridcolor\":\"white\",\"linecolor\":\"white\",\"ticks\":\"\",\"title\":{\"standoff\":15},\"zerolinecolor\":\"white\",\"zerolinewidth\":2},\"yaxis\":{\"automargin\":true,\"gridcolor\":\"white\",\"linecolor\":\"white\",\"ticks\":\"\",\"title\":{\"standoff\":15},\"zerolinecolor\":\"white\",\"zerolinewidth\":2}}},\"title\":{\"font\":{\"color\":\"#151516\"},\"text\":\"Price Elasticity of Purchase Probability\"},\"xaxis\":{\"gridcolor\":\"#F6F6F6\",\"showgrid\":true,\"tickfont\":{\"color\":\"#666666\"},\"title\":{\"font\":{\"color\":\"#666666\"},\"text\":\"Prices\"},\"zerolinecolor\":\"#F6F6F6\"},\"yaxis\":{\"gridcolor\":\"#F6F6F6\",\"showgrid\":true,\"tickfont\":{\"color\":\"#666666\"},\"title\":{\"font\":{\"color\":\"#666666\"},\"text\":\"Elasticyti\"},\"zerolinecolor\":\"#F6F6F6\"}},                        {\"showLink\": true, \"linkText\": \"Export to plot.ly\", \"plotlyServerURL\": \"https://plot.ly\", \"responsive\": true}                    ).then(function(){\n",
       "                            \n",
       "var gd = document.getElementById('dd1f7933-a515-4dd1-b12d-b046356edbd4');\n",
       "var x = new MutationObserver(function (mutations, observer) {{\n",
       "        var display = window.getComputedStyle(gd).display;\n",
       "        if (!display || display === 'none') {{\n",
       "            console.log([gd, 'removed!']);\n",
       "            Plotly.purge(gd);\n",
       "            observer.disconnect();\n",
       "        }}\n",
       "}});\n",
       "\n",
       "// Listen for the removal of the full notebook cells\n",
       "var notebookContainer = gd.closest('#notebook-container');\n",
       "if (notebookContainer) {{\n",
       "    x.observe(notebookContainer, {childList: true});\n",
       "}}\n",
       "\n",
       "// Listen for the clearing of the current output cell\n",
       "var outputEl = gd.closest('.output');\n",
       "if (outputEl) {{\n",
       "    x.observe(outputEl, {childList: true});\n",
       "}}\n",
       "\n",
       "                        })                };                });            </script>        </div>"
      ]
     },
     "metadata": {},
     "output_type": "display_data"
    }
   ],
   "source": [
    "# apply model \n",
    "model_incidence_seg0 = LogisticRegression()\n",
    "model_incidence_seg0.fit(X,y)\n",
    "\n",
    "#predict_proba\n",
    "y_seg0 = model_incidence_seg0.predict_proba(df_price_range)\n",
    "purchase_seg0 = y_seg0[:][:, 1]\n",
    "pe_seg0 = model_incidence_seg0.coef_[:, 0] * price_range * (1-purchase_seg0)\n",
    "\n",
    "#results\n",
    "df_price_elasticity['pe_seg0'] = pe_seg0\n",
    "\n",
    "\n",
    "#plot\n",
    "df_price_elasticity[['means','pe_seg1', 'pe_seg2', 'pe_seg0']].iplot(kind = 'line', xTitle = 'Prices', yTitle = 'Elasticyti', \n",
    "                          title = 'Price Elasticity of Purchase Probability')"
   ]
  },
  {
   "cell_type": "markdown",
   "id": "fb06d7c9",
   "metadata": {},
   "source": [
    "#### Segment 3 - Well-Off"
   ]
  },
  {
   "cell_type": "code",
   "execution_count": 35,
   "id": "41432599",
   "metadata": {},
   "outputs": [],
   "source": [
    "segment3 = data[data['segment']==3]\n",
    "\n",
    "mean_price = (segment3['Price_1'] + segment3['Price_2'] + \n",
    "                   \n",
    "                   segment3[\"Price_3\"] + segment3['Price_4'] + segment3['Price_5']\n",
    "                   ) /5\n",
    "\n",
    "\n",
    "X = pd.DataFrame()\n",
    "X['mean_price'] = mean_price \n",
    "y = segment3['Incidence']"
   ]
  },
  {
   "cell_type": "code",
   "execution_count": 36,
   "id": "a75be2fb",
   "metadata": {},
   "outputs": [
    {
     "data": {
      "application/vnd.plotly.v1+json": {
       "config": {
        "linkText": "Export to plot.ly",
        "plotlyServerURL": "https://plot.ly",
        "showLink": true
       },
       "data": [
        {
         "line": {
          "color": "rgba(226, 74, 51, 1.0)",
          "dash": "solid",
          "shape": "linear",
          "width": 1.3
         },
         "mode": "lines",
         "name": "means",
         "text": "",
         "type": "scatter",
         "x": [
          0,
          1,
          2,
          3,
          4,
          5,
          6,
          7,
          8,
          9,
          10,
          11,
          12,
          13,
          14,
          15,
          16,
          17,
          18,
          19,
          20,
          21,
          22,
          23,
          24,
          25,
          26,
          27,
          28,
          29,
          30,
          31,
          32,
          33,
          34,
          35,
          36,
          37,
          38,
          39,
          40,
          41,
          42,
          43,
          44,
          45,
          46,
          47,
          48,
          49,
          50,
          51,
          52,
          53,
          54,
          55,
          56,
          57,
          58,
          59,
          60,
          61,
          62,
          63,
          64,
          65,
          66,
          67,
          68,
          69,
          70,
          71,
          72,
          73,
          74,
          75,
          76,
          77,
          78,
          79,
          80,
          81,
          82,
          83,
          84,
          85,
          86,
          87,
          88,
          89,
          90,
          91,
          92,
          93,
          94,
          95,
          96,
          97,
          98,
          99,
          100,
          101,
          102,
          103,
          104,
          105,
          106,
          107,
          108,
          109,
          110,
          111,
          112,
          113,
          114,
          115,
          116,
          117,
          118,
          119,
          120,
          121,
          122,
          123,
          124,
          125,
          126,
          127,
          128,
          129,
          130,
          131,
          132,
          133,
          134,
          135,
          136,
          137,
          138,
          139,
          140,
          141,
          142,
          143,
          144,
          145,
          146,
          147,
          148,
          149,
          150,
          151,
          152,
          153,
          154,
          155,
          156,
          157,
          158,
          159,
          160,
          161,
          162,
          163,
          164,
          165,
          166,
          167,
          168,
          169,
          170,
          171,
          172,
          173,
          174,
          175,
          176,
          177,
          178,
          179,
          180,
          181,
          182,
          183,
          184,
          185,
          186,
          187,
          188,
          189,
          190,
          191,
          192,
          193,
          194,
          195,
          196,
          197,
          198,
          199,
          200,
          201,
          202,
          203,
          204,
          205,
          206,
          207,
          208,
          209,
          210,
          211,
          212,
          213,
          214,
          215,
          216,
          217,
          218,
          219,
          220,
          221,
          222,
          223,
          224,
          225,
          226,
          227,
          228,
          229,
          230,
          231,
          232,
          233,
          234,
          235,
          236,
          237,
          238,
          239,
          240,
          241,
          242,
          243,
          244,
          245,
          246,
          247,
          248,
          249,
          250,
          251,
          252,
          253,
          254,
          255,
          256,
          257,
          258,
          259,
          260,
          261,
          262,
          263,
          264,
          265,
          266,
          267,
          268,
          269,
          270,
          271,
          272,
          273,
          274,
          275,
          276,
          277,
          278,
          279,
          280,
          281,
          282,
          283,
          284,
          285,
          286,
          287,
          288,
          289,
          290,
          291,
          292,
          293,
          294,
          295,
          296,
          297,
          298
         ],
         "y": [
          -0.09639582835550818,
          -0.1004637808378074,
          -0.10465871295685428,
          -0.10898377680221519,
          -0.11344217636988857,
          -0.11803716724584516,
          -0.12277205621830221,
          -0.12765020081564188,
          -0.1326750087668632,
          -0.13784993738143306,
          -0.14317849284538883,
          -0.1486642294305424,
          -0.1543107486136332,
          -0.16012169810230112,
          -0.16610077076475585,
          -0.1722517034600683,
          -0.17857827576603527,
          -0.18508430860163935,
          -0.1917736627411797,
          -0.19865023721723274,
          -0.2057179676096963,
          -0.21298082421827,
          -0.22044281011585537,
          -0.22810795908048173,
          -0.2359803334035274,
          -0.24406402157216261,
          -0.2523631358241361,
          -0.260881809573209,
          -0.2696241947037813,
          -0.2785944587334742,
          -0.28779678184268853,
          -0.29723535377044064,
          -0.3069143705760559,
          -0.3168380312666112,
          -0.3270105342903539,
          -0.3374360738966548,
          -0.3481188363634276,
          -0.35906299609332337,
          -0.37027271158040503,
          -0.38175212124943075,
          -0.3935053391702859,
          -0.40553645065057636,
          -0.4178495077098337,
          -0.43044852443926523,
          -0.44333747225147,
          -0.45652027502503306,
          -0.4700008041494144,
          -0.4837828734760723,
          -0.4978702341822635,
          -0.5122665695545021,
          -0.5269754896991677,
          -0.5420005261882914,
          -0.5573451266490582,
          -0.5730126493060863,
          -0.5890063574860548,
          -0.6053294140947395,
          -0.6219848760770132,
          -0.6389756888708261,
          -0.6563046808666336,
          -0.6739745578841806,
          -0.691987897678924,
          -0.7103471444907874,
          -0.7290546036482526,
          -0.7481124362411287,
          -0.7675226538755934,
          -0.7872871135253473,
          -0.8074075124929082,
          -0.8278853834952064,
          -0.8487220898877725,
          -0.8699188210418003,
          -0.8914765878884272,
          -0.9133962186444572,
          -0.935678354733667,
          -0.9583234469176521,
          -0.9813317516499339,
          -1.0047033276667483,
          -1.0284380328276022,
          -1.0525355212182401,
          -1.0769952405282028,
          -1.1018164297146216,
          -1.1269981169632861,
          -1.1525391179573687,
          -1.1784380344634806,
          -1.2046932532439603,
          -1.2313029453034738,
          -1.2582650654771372,
          -1.2855773523664475,
          -1.3132373286283523,
          -1.3412423016217858,
          -1.3695893644149557,
          -1.398275397155605,
          -1.427297068805371,
          -1.4566508392382513,
          -1.486332961702065,
          -1.5163394856406287,
          -1.546666259873249,
          -1.577308936126969,
          -1.6082629729158702,
          -1.639523639760603,
          -1.671086021740211,
          -1.7029450243672268,
          -1.7350953787759564,
          -1.767531647212856,
          -1.8002482288169137,
          -1.8332393656770147,
          -1.8664991491523926,
          -1.900021526441418,
          -1.9338003073832226,
          -1.9678291714759364,
          -2.002101675094665,
          -2.036611258891794,
          -2.0713512553616478,
          -2.1063148965511616,
          -2.14149532189783,
          -2.1768855861759557,
          -2.212478667531971,
          -2.2482674755895693,
          -2.2842448596052503,
          -2.320403616654988,
          -2.356736499832812,
          -2.3932362264422826,
          -2.4298954861620965,
          -2.466706949167414,
          -2.503663274188856,
          -2.5407571164916156,
          -2.577981135757624,
          -2.6153280038543185,
          -2.6527904124741566,
          -2.6903610806297356,
          -2.7280327619900855,
          -2.765798252044451,
          -2.8036503950807288,
          -2.8415820909665004,
          -2.8795863017214867,
          -2.917656057871136,
          -2.9557844645719173,
          -2.9939647074998335,
          -3.0321900584945474,
          -3.070453880952454,
          -3.1087496349629196,
          -3.1470708821828373,
          -3.1854112904455163,
          -3.223764638100834,
          -3.262124818084419,
          -3.3004858417144773,
          -3.338841842215713,
          -3.3771870779705555,
          -3.415515935498695,
          -3.453822932166644,
          -3.4921027186297313,
          -3.5303500810096278,
          -3.568559942811091,
          -3.606727366582221,
          -3.6448475553230835,
          -3.6829158536480198,
          -3.720927748707489,
          -3.7588788708756637,
          -3.796764994210446,
          -3.8345820366928507,
          -3.8723260602530583,
          -3.909993270590741,
          -3.9475800167974047,
          -3.985082790788778,
          -4.022498226555382,
          -4.059823099239572,
          -4.097054324047443,
          -4.134188955003972,
          -4.1712241835599295,
          -4.208157337058974,
          -4.244985877073402,
          -4.2817073976168984,
          -4.31831962324262,
          -4.35482040703483,
          -4.391207728502143,
          -4.427479691380356,
          -4.463634521352632,
          -4.499670563694687,
          -4.535586280852407,
          -4.571380249959097,
          -4.607051160299449,
          -4.642597810726971,
          -4.678019107041514,
          -4.713314059333182,
          -4.74848177929876,
          -4.783521477536523,
          -4.818432460825005,
          -4.853214129391119,
          -4.887865974172691,
          -4.9223875740803065,
          -4.956778593263062,
          -4.991038778382541,
          -5.025167955899178,
          -5.059166029374827,
          -5.093032976795197,
          -5.126768847915505,
          -5.160373761632531,
          -5.193847903386011,
          -5.227191522592048,
          -5.26040493011109,
          -5.293488495752701,
          -5.326442645819284,
          -5.3592678606906174,
          -5.391964672450894,
          -5.424533662559849,
          -5.456975459569278,
          -5.489290736886183,
          -5.521480210583545,
          -5.553544637259613,
          -5.5854848119464835,
          -5.617301566068518,
          -5.648995765451124,
          -5.680568308380208,
          -5.712020123712566,
          -5.74335216903734,
          -5.774565428888538,
          -5.8056609130085635,
          -5.83663965466262,
          -5.867502709003694,
          -5.89825115148785,
          -5.928886076339395,
          -5.959408595065503,
          -5.98981983501975,
          -6.020120938013975,
          -6.05031305897788,
          -6.080397364665652,
          -6.110375032408927,
          -6.140247248915329,
          -6.170015209111778,
          -6.199680115031803,
          -6.229243174745968,
          -6.258705601334574,
          -6.288068611901736,
          -6.317333426629966,
          -6.346501267874306,
          -6.37557335929513,
          -6.40455092502865,
          -6.433435188894205,
          -6.462227373637408,
          -6.490928700208165,
          -6.519540387072667,
          -6.548063649558412,
          -6.57649969923129,
          -6.604849743303841,
          -6.633114984073746,
          -6.661296618391635,
          -6.6893958371573286,
          -6.717413824843582,
          -6.745351759046506,
          -6.773210810061731,
          -6.800992140485523,
          -6.828696904839962,
          -6.856326249221377,
          -6.883881310971226,
          -6.911363218368618,
          -6.938773090343712,
          -6.966112036211197,
          -6.993381155423146,
          -7.0205815373404965,
          -7.0477142610224215,
          -7.074780395032944,
          -7.10178099726406,
          -7.128717114774768,
          -7.155589783645308,
          -7.182400028845998,
          -7.209148864120091,
          -7.23583729188001,
          -7.262466303116419,
          -7.28903687731955,
          -7.315549982412254,
          -7.342006574694261,
          -7.368407598797105,
          -7.394753987649249,
          -7.421046662450926,
          -7.447286532658221,
          -7.473474495975958,
          -7.499611438358944,
          -7.525698234021178,
          -7.551735745452588,
          -7.577724823442933,
          -7.603666307112461,
          -7.6295610239490035,
          -7.65540978985112,
          -7.681213409176967,
          -7.706972674798558,
          -7.732688368161129,
          -7.7583612593472715,
          -7.783992107145571,
          -7.8095816591234435,
          -7.835130651703941,
          -7.86063981024624,
          -7.886109849129564,
          -7.911541471840332,
          -7.936935371062264,
          -7.96229222876926,
          -7.98761271632084,
          -8.01289749455991,
          -8.038147213912719,
          -8.063362514490766,
          -8.088544026194528
         ]
        },
        {
         "line": {
          "color": "rgba(62, 111, 176, 1.0)",
          "dash": "solid",
          "shape": "linear",
          "width": 1.3
         },
         "mode": "lines",
         "name": "pe_seg1",
         "text": "",
         "type": "scatter",
         "x": [
          0,
          1,
          2,
          3,
          4,
          5,
          6,
          7,
          8,
          9,
          10,
          11,
          12,
          13,
          14,
          15,
          16,
          17,
          18,
          19,
          20,
          21,
          22,
          23,
          24,
          25,
          26,
          27,
          28,
          29,
          30,
          31,
          32,
          33,
          34,
          35,
          36,
          37,
          38,
          39,
          40,
          41,
          42,
          43,
          44,
          45,
          46,
          47,
          48,
          49,
          50,
          51,
          52,
          53,
          54,
          55,
          56,
          57,
          58,
          59,
          60,
          61,
          62,
          63,
          64,
          65,
          66,
          67,
          68,
          69,
          70,
          71,
          72,
          73,
          74,
          75,
          76,
          77,
          78,
          79,
          80,
          81,
          82,
          83,
          84,
          85,
          86,
          87,
          88,
          89,
          90,
          91,
          92,
          93,
          94,
          95,
          96,
          97,
          98,
          99,
          100,
          101,
          102,
          103,
          104,
          105,
          106,
          107,
          108,
          109,
          110,
          111,
          112,
          113,
          114,
          115,
          116,
          117,
          118,
          119,
          120,
          121,
          122,
          123,
          124,
          125,
          126,
          127,
          128,
          129,
          130,
          131,
          132,
          133,
          134,
          135,
          136,
          137,
          138,
          139,
          140,
          141,
          142,
          143,
          144,
          145,
          146,
          147,
          148,
          149,
          150,
          151,
          152,
          153,
          154,
          155,
          156,
          157,
          158,
          159,
          160,
          161,
          162,
          163,
          164,
          165,
          166,
          167,
          168,
          169,
          170,
          171,
          172,
          173,
          174,
          175,
          176,
          177,
          178,
          179,
          180,
          181,
          182,
          183,
          184,
          185,
          186,
          187,
          188,
          189,
          190,
          191,
          192,
          193,
          194,
          195,
          196,
          197,
          198,
          199,
          200,
          201,
          202,
          203,
          204,
          205,
          206,
          207,
          208,
          209,
          210,
          211,
          212,
          213,
          214,
          215,
          216,
          217,
          218,
          219,
          220,
          221,
          222,
          223,
          224,
          225,
          226,
          227,
          228,
          229,
          230,
          231,
          232,
          233,
          234,
          235,
          236,
          237,
          238,
          239,
          240,
          241,
          242,
          243,
          244,
          245,
          246,
          247,
          248,
          249,
          250,
          251,
          252,
          253,
          254,
          255,
          256,
          257,
          258,
          259,
          260,
          261,
          262,
          263,
          264,
          265,
          266,
          267,
          268,
          269,
          270,
          271,
          272,
          273,
          274,
          275,
          276,
          277,
          278,
          279,
          280,
          281,
          282,
          283,
          284,
          285,
          286,
          287,
          288,
          289,
          290,
          291,
          292,
          293,
          294,
          295,
          296,
          297,
          298
         ],
         "y": [
          -0.11908833683118748,
          -0.12327133527554841,
          -0.12754767107037768,
          -0.13191880268604195,
          -0.13638619653441655,
          -0.14095132651478373,
          -0.14561567354151017,
          -0.150380725053354,
          -0.15524797450426914,
          -0.1602189208355898,
          -0.16529506792950335,
          -0.17047792404373882,
          -0.17576900122741723,
          -0.1811698147180383,
          -0.1866818823195978,
          -0.1923067237618588,
          -0.19804586004081823,
          -0.20390081274045044,
          -0.20987310333582204,
          -0.2159642524777137,
          -0.2221757792589077,
          -0.2285092004623305,
          -0.23496602979127554,
          -0.24154777708196198,
          -0.24825594749871224,
          -0.25509204071207797,
          -0.2620575500602654,
          -0.2691539616942547,
          -0.27638275370704163,
          -0.2837453952474643,
          -0.2912433456191191,
          -0.29887805336490286,
          -0.3066509553377592,
          -0.3145634757582425,
          -0.3226170252595561,
          -0.33081299992075175,
          -0.3391527802888252,
          -0.34763773039047313,
          -0.3562691967343213,
          -0.3650485073044671,
          -0.37397697054622003,
          -0.38305587434496347,
          -0.39228648499908914,
          -0.4016700461880041,
          -0.41120777793623675,
          -0.4209008755747036,
          -0.43075050870023934,
          -0.44075782013451603,
          -0.45092392488351357,
          -0.4612499090987367,
          -0.4717368290413935,
          -0.48238571005078795,
          -0.49319754551819506,
          -0.5041732958675182,
          -0.5153138875440478,
          -0.526620212012655,
          -0.538093124766781,
          -0.5497334443495929,
          -0.5615419513886851,
          -0.5735193876457293,
          -0.5856664550824717,
          -0.5979838149444845,
          -0.6104720868640887,
          -0.6231318479838553,
          -0.6359636321020945,
          -0.6489679288417383,
          -0.6621451828440079,
          -0.6754957929882496,
          -0.6890201116393058,
          -0.7027184439237737,
          -0.7165910470364746,
          -0.7306381295784428,
          -0.7448598509277105,
          -0.7592563206441254,
          -0.7738275979094311,
          -0.7885736910037648,
          -0.8034945568197189,
          -0.8185901004150575,
          -0.833860174605131,
          -0.8493045795959782,
          -0.8649230626590754,
          -0.8807153178486062,
          -0.8966809857620914,
          -0.912819653345148,
          -0.9291308537410883,
          -0.9456140661859974,
          -0.9622687159498705,
          -0.9790941743243171,
          -0.9960897586572625,
          -1.0132547324350138,
          -1.030588305411984,
          -1.048089633788268,
          -1.0657578204352325,
          -1.0835919151691524,
          -1.101590915072885,
          -1.119753764865479,
          -1.1380793573195325,
          -1.1565665337260402,
          -1.1752140844063892,
          -1.194020749271079,
          -1.2129852184246628,
          -1.2321061328163327,
          -1.2513820849354882,
          -1.270811619551549,
          -1.2903932344972056,
          -1.3101253814942195,
          -1.3300064670208114,
          -1.3500348532196131,
          -1.370208858845085,
          -1.3905267602492275,
          -1.4109867924043717,
          -1.4315871499617472,
          -1.452325988344489,
          -1.473201424873673,
          -1.4942115399259346,
          -1.51535437812115,
          -1.5366279495386508,
          -1.5580302309603595,
          -1.5795591671392248,
          -1.6012126720912874,
          -1.6229886304096817,
          -1.644884898598835,
          -1.666899306427133,
          -1.6890296582962638,
          -1.7112737346254654,
          -1.7336292932488746,
          -1.7560940708241706,
          -1.778665784250701,
          -1.8013421320952816,
          -1.8241207960238592,
          -1.8469994422372353,
          -1.8699757229090592,
          -1.8930472776243228,
          -1.916211734816581,
          -1.9394667132021763,
          -1.962809823209752,
          -1.9862386684033573,
          -2.009750846897511,
          -2.0333439527625874,
          -2.057015577418947,
          -2.080763311018274,
          -2.1045847438106158,
          -2.128477467495664,
          -2.152439076556878,
          -2.176467169577085,
          -2.200559350534244,
          -2.224713230076128,
          -2.2489264267727083,
          -2.273196568345107,
          -2.29752129287002,
          -2.3218982499585863,
          -2.3463251019087195,
          -2.370799524829998,
          -2.3953192097402694,
          -2.419881863633151,
          -2.4444852105157175,
          -2.469126992415705,
          -2.49380497035761,
          -2.5185169253071473,
          -2.5432606590835634,
          -2.568033995239398,
          -2.592834779907312,
          -2.6176608826136687,
          -2.6425101970586202,
          -2.6673806418625055,
          -2.6922701612784214,
          -2.717176725870865,
          -2.7420983331604267,
          -2.7670330082345536,
          -2.79197880432445,
          -2.816933803348218,
          -2.8418961164204215,
          -2.8668638843282745,
          -2.891835277974704,
          -2.9168084987885856,
          -2.9417817791024823,
          -2.9667533824982626,
          -2.9917216041210146,
          -3.016684770961681,
          -3.041641242108897,
          -3.066589408970559,
          -3.0915276954656266,
          -3.116454558186738,
          -3.1413684865342253,
          -3.1662680028221346,
          -3.1911516623568854,
          -3.2160180534892175,
          -3.2408657976400836,
          -3.2656935493011967,
          -3.2904999960109014,
          -3.3152838583060933,
          -3.3400438896508997,
          -3.3647788763428523,
          -3.389487637397297,
          -3.4141690244107648,
          -3.4388219214040547,
          -3.463445244645788,
          -3.488037942457184,
          -3.512598994998776,
          -3.5371274140398548,
          -3.5616222427113713,
          -3.586082555243038,
          -3.61050745668536,
          -3.6348960826173515,
          -3.659247598840629,
          -3.683561201060639,
          -3.70783611455569,
          -3.7320715938345126,
          -3.7562669222830247,
          -3.7804214118010036,
          -3.8045344024292826,
          -3.828605261968179,
          -3.8526333855877706,
          -3.876618195430647,
          -3.900559140207756,
          -3.924455694787949,
          -3.9483073597817966,
          -3.9721136611202734,
          -3.9958741496288392,
          -4.019588400597467,
          -4.043256013347153,
          -4.066876610793418,
          -4.090449839007266,
          -4.113975366774114,
          -4.13745288515114,
          -4.160882107023493,
          -4.184262766659797,
          -4.207594619267373,
          -4.2308774405475456,
          -4.254111026251481,
          -4.2772951917368465,
          -4.300429771525699,
          -4.323514618863919,
          -4.346549605282515,
          -4.369534620161111,
          -4.392469570293875,
          -4.415354379458237,
          -4.438188987986582,
          -4.460973352341223,
          -4.483707444692862,
          -4.506391252502773,
          -4.5290247781089175,
          -4.551608038316179,
          -4.5741410639909175,
          -4.5966238996599955,
          -4.619056603114467,
          -4.641439245018045,
          -4.663771908520499,
          -4.686054688876125,
          -4.7082876930673825,
          -4.730471039433814,
          -4.752604857306345,
          -4.7746892866470505,
          -4.796724477694471,
          -4.818710590614528,
          -4.84064779515713,
          -4.862536270318494,
          -4.8843762040092455,
          -4.9061677927283265,
          -4.92791124124273,
          -4.949606762273105,
          -4.971254576185247,
          -4.992854910687453,
          -5.014408000533779,
          -5.035914087233186,
          -5.057373418764563,
          -5.078786249297613,
          -5.100152838919589,
          -5.121473453367858,
          -5.142748363768264,
          -5.163977846379253,
          -5.185162182341725,
          -5.206301657434588,
          -5.227396561835959,
          -5.248447189889955,
          -5.2694538398790485,
          -5.290416813801923,
          -5.311336417156769,
          -5.332212958729969,
          -5.353046750390111,
          -5.373838106887269,
          -5.394587345657488,
          -5.415294786632402,
          -5.435960752053914,
          -5.456585566293885,
          -5.4771695556787545,
          -5.497713048319012,
          -5.5182163739434476,
          -5.538679863738128,
          -5.559103850190005,
          -5.5794886669350765,
          -5.5998346486110435,
          -5.6201421307143775,
          -5.640411449461709,
          -5.660642941655495,
          -5.680836944553836,
          -5.700993795744418,
          -5.721113833022473,
          -5.741197394272685
         ]
        },
        {
         "line": {
          "color": "rgba(132, 118, 202, 1.0)",
          "dash": "solid",
          "shape": "linear",
          "width": 1.3
         },
         "mode": "lines",
         "name": "pe_seg2",
         "text": "",
         "type": "scatter",
         "x": [
          0,
          1,
          2,
          3,
          4,
          5,
          6,
          7,
          8,
          9,
          10,
          11,
          12,
          13,
          14,
          15,
          16,
          17,
          18,
          19,
          20,
          21,
          22,
          23,
          24,
          25,
          26,
          27,
          28,
          29,
          30,
          31,
          32,
          33,
          34,
          35,
          36,
          37,
          38,
          39,
          40,
          41,
          42,
          43,
          44,
          45,
          46,
          47,
          48,
          49,
          50,
          51,
          52,
          53,
          54,
          55,
          56,
          57,
          58,
          59,
          60,
          61,
          62,
          63,
          64,
          65,
          66,
          67,
          68,
          69,
          70,
          71,
          72,
          73,
          74,
          75,
          76,
          77,
          78,
          79,
          80,
          81,
          82,
          83,
          84,
          85,
          86,
          87,
          88,
          89,
          90,
          91,
          92,
          93,
          94,
          95,
          96,
          97,
          98,
          99,
          100,
          101,
          102,
          103,
          104,
          105,
          106,
          107,
          108,
          109,
          110,
          111,
          112,
          113,
          114,
          115,
          116,
          117,
          118,
          119,
          120,
          121,
          122,
          123,
          124,
          125,
          126,
          127,
          128,
          129,
          130,
          131,
          132,
          133,
          134,
          135,
          136,
          137,
          138,
          139,
          140,
          141,
          142,
          143,
          144,
          145,
          146,
          147,
          148,
          149,
          150,
          151,
          152,
          153,
          154,
          155,
          156,
          157,
          158,
          159,
          160,
          161,
          162,
          163,
          164,
          165,
          166,
          167,
          168,
          169,
          170,
          171,
          172,
          173,
          174,
          175,
          176,
          177,
          178,
          179,
          180,
          181,
          182,
          183,
          184,
          185,
          186,
          187,
          188,
          189,
          190,
          191,
          192,
          193,
          194,
          195,
          196,
          197,
          198,
          199,
          200,
          201,
          202,
          203,
          204,
          205,
          206,
          207,
          208,
          209,
          210,
          211,
          212,
          213,
          214,
          215,
          216,
          217,
          218,
          219,
          220,
          221,
          222,
          223,
          224,
          225,
          226,
          227,
          228,
          229,
          230,
          231,
          232,
          233,
          234,
          235,
          236,
          237,
          238,
          239,
          240,
          241,
          242,
          243,
          244,
          245,
          246,
          247,
          248,
          249,
          250,
          251,
          252,
          253,
          254,
          255,
          256,
          257,
          258,
          259,
          260,
          261,
          262,
          263,
          264,
          265,
          266,
          267,
          268,
          269,
          270,
          271,
          272,
          273,
          274,
          275,
          276,
          277,
          278,
          279,
          280,
          281,
          282,
          283,
          284,
          285,
          286,
          287,
          288,
          289,
          290,
          291,
          292,
          293,
          294,
          295,
          296,
          297,
          298
         ],
         "y": [
          -0.030920688762711604,
          -0.032687645274033665,
          -0.03454149694081637,
          -0.03648612334407846,
          -0.03852556137646616,
          -0.04066401072013246,
          -0.04290583945080116,
          -0.04525558976541037,
          -0.04771798383011227,
          -0.05029792974469128,
          -0.05300052761874012,
          -0.05583107575410896,
          -0.05879507692726365,
          -0.06189824476426907,
          -0.06514651020007116,
          -0.06854602801268837,
          -0.07210318342174617,
          -0.07582459873954363,
          -0.07971714006151938,
          -0.08378792398156097,
          -0.08804432431611524,
          -0.09249397881944428,
          -0.09714479587070768,
          -0.10200496111175808,
          -0.10708294401268394,
          -0.11238750434014455,
          -0.11792769850150309,
          -0.12371288573560454,
          -0.12975273411878951,
          -0.13605722635243406,
          -0.14263666529585486,
          -0.14950167920595533,
          -0.1566632266424162,
          -0.16413260099459634,
          -0.1719214345836496,
          -0.18004170229062086,
          -0.18850572465855775,
          -0.19732617041388556,
          -0.20651605834955736,
          -0.21608875850975087,
          -0.22605799261320286,
          -0.23643783364965112,
          -0.24724270458136802,
          -0.2584873760793731,
          -0.27018696322170915,
          -0.28235692107916105,
          -0.2950130391120457,
          -0.30817143430018257,
          -0.3218485429270715,
          -0.3360611109384679,
          -0.3508261827952762,
          -0.3661610887407703,
          -0.38208343040289117,
          -0.39861106465362073,
          -0.41576208564939926,
          -0.433554804979188,
          -0.45200772985024745,
          -0.47113953924592483,
          -0.4909690579949521,
          -0.5115152286978173,
          -0.5327970814629102,
          -0.5548337014132789,
          -0.5776441939340574,
          -0.601247647641001,
          -0.6256630950620495,
          -0.650909471036495,
          -0.6770055688501618,
          -0.7039699941399709,
          -0.731821116617363,
          -0.7605770196772522,
          -0.7902554479773831,
          -0.8208737530921625,
          -0.8524488373650149,
          -0.88499709610413,
          -0.9185343582877608,
          -0.9530758259670716,
          -0.9886360125765329,
          -1.025228680383954,
          -1.0628667773341154,
          -1.101562373561434,
          -1.1413265978678118,
          -1.1821695744816247,
          -1.2241003604322367,
          -1.2671268838913834,
          -1.3112558838477135,
          -1.3564928514936103,
          -1.4028419737136666,
          -1.450306079071665,
          -1.4988865866972558,
          -1.548583458474537,
          -1.5993951549321133,
          -1.651318595227823,
          -1.7043491216109237,
          -1.7584804687300635,
          -1.8137047381367544,
          -1.870012378311227,
          -1.9273921705106751,
          -1.9858312207088993,
          -2.045314957861596,
          -2.105827138693112,
          -2.1673498591587625,
          -2.2298635726920892,
          -2.2933471152992673,
          -2.357777737513525,
          -2.423131143171646,
          -2.4893815349227926,
          -2.556501666327745,
          -2.624462900354624,
          -2.693235274026174,
          -2.762787568924027,
          -2.8330873872079763,
          -2.9041012327635314,
          -2.9757945970496618,
          -3.0481320491810076,
          -3.1210773297456145,
          -3.1945934478307505,
          -3.2686427807058553,
          -3.3431871755936573,
          -3.4181880529479627,
          -3.493606510649718,
          -3.5694034285318383,
          -3.64553957264777,
          -3.7219756987087185,
          -3.7986726541297697,
          -3.8755914781454637,
          -3.952693499480244,
          -4.029940431088484,
          -4.107294461511738,
          -4.1847183424371375,
          -4.26217547207995,
          -4.3396299740545015,
          -4.417046771440653,
          -4.494391655797045,
          -4.571631350916893,
          -4.648733571166719,
          -4.725667074292651,
          -4.802401708621968,
          -4.878908454629547,
          -4.95515946087882,
          -5.031128074384868,
          -5.106788865482783,
          -5.182117647317404,
          -5.257091490100493,
          -5.331688730308636,
          -5.4058889750190735,
          -5.479673101601611,
          -5.553023253002518,
          -5.625922828871019,
          -5.698356472790609,
          -5.770310055886219,
          -5.841770657084183,
          -5.912726540305331,
          -5.983167128872323,
          -6.053082977411089,
          -6.122465741522583,
          -6.19130814549586,
          -6.259603948326444,
          -6.327347908295479,
          -6.394535746355425,
          -6.461164108557395,
          -6.527230527743538,
          -6.592733384715604,
          -6.657671869078042,
          -6.722045939940831,
          -6.7858562866539796,
          -6.84910428973213,
          -6.911791982114472,
          -6.973922010891946,
          -7.035497599620883,
          -7.096522511329625,
          -7.157001012312561,
          -7.216937836794331,
          -7.276338152535886,
          -7.335207527443397,
          -7.393551897231118,
          -7.45137753417986,
          -7.508691017023951,
          -7.565499201991485,
          -7.621809195014972,
          -7.67762832512272,
          -7.732964119014888,
          -7.78782427682234,
          -7.842216649041354,
          -7.896149214632441,
          -7.949630060267561,
          -8.00266736070622,
          -8.055269360277785,
          -8.107444355444695,
          -8.159200678418715,
          -8.210546681800622,
          -8.261490724211864,
          -8.31204115688563,
          -8.362206311183682,
          -8.411994487004518,
          -8.461413942048077,
          -8.510472881901778,
          -8.559179450912794,
          -8.607541723811433,
          -8.655567698050806,
          -8.70326528682844,
          -8.750642312755934,
          -8.797706502143473,
          -8.84446547986667,
          -8.890926764784052,
          -8.937097765674405,
          -8.98298577766402,
          -9.028597979114934,
          -9.073941428946176,
          -9.119023064361112,
          -9.163849698954966,
          -9.208428021177596,
          -9.252764593127756,
          -9.296865849655946,
          -9.340738097754166,
          -9.384387516211701,
          -9.427820155517198,
          -9.471041937988252,
          -9.514058658110601,
          -9.556875983070025,
          -9.599499453460925,
          -9.641934484156417,
          -9.684186365325667,
          -9.726260263584921,
          -9.768161223269594,
          -9.809894167815399,
          -9.851463901237372,
          -9.89287510969619,
          -9.934132363141952,
          -9.975240117026221,
          -10.016202714073646,
          -10.057024386105173,
          -10.09770925590531,
          -10.138261339126496,
          -10.178684546224083,
          -10.218982684415913,
          -10.259159459660935,
          -10.299218478651705,
          -10.33916325081602,
          -10.378997190323327,
          -10.41872361809182,
          -10.458345763792625,
          -10.497866767847611,
          -10.537289683417788,
          -10.576617478379452,
          -10.615853037285532,
          -10.654999163309862,
          -10.694058580172202,
          -10.733033934042243,
          -10.771927795420844,
          -10.81074266099703,
          -10.84948095547947,
          -10.888145033401154,
          -10.926737180896449,
          -10.965259617449465,
          -11.00371449761312,
          -11.0421039126982,
          -11.080429892431944,
          -11.118694406585716,
          -11.156899366571428,
          -11.195046627006514,
          -11.233137987247249,
          -11.271175192890379,
          -11.309159937243026,
          -11.347093862760854,
          -11.384978562454705,
          -11.42281558126575,
          -11.46060641740941,
          -11.49835252368826,
          -11.536055308774179,
          -11.573716138460101,
          -11.61133633688163,
          -11.648917187708946,
          -11.686459935309367,
          -11.723965785880967,
          -11.76143590855769,
          -11.798871436486397,
          -11.836273467876307,
          -11.8736430670213,
          -11.910981265295554,
          -11.948289062123012,
          -11.985567425921154,
          -12.022817295019617,
          -12.060039578554093,
          -12.097235157336058,
          -12.134404884698846,
          -12.171549587320518,
          -12.208670066024101,
          -12.245767096555605,
          -12.28284143034044,
          -12.319893795218597,
          -12.356924896159198,
          -12.393935415954813,
          -12.430926015896087,
          -12.467897336427145,
          -12.504849997782182,
          -12.541784600603803,
          -12.578701726543501,
          -12.615601938844737,
          -12.652485782909077
         ]
        },
        {
         "line": {
          "color": "rgba(101, 101, 101, 1.0)",
          "dash": "solid",
          "shape": "linear",
          "width": 1.3
         },
         "mode": "lines",
         "name": "pe_seg0",
         "text": "",
         "type": "scatter",
         "x": [
          0,
          1,
          2,
          3,
          4,
          5,
          6,
          7,
          8,
          9,
          10,
          11,
          12,
          13,
          14,
          15,
          16,
          17,
          18,
          19,
          20,
          21,
          22,
          23,
          24,
          25,
          26,
          27,
          28,
          29,
          30,
          31,
          32,
          33,
          34,
          35,
          36,
          37,
          38,
          39,
          40,
          41,
          42,
          43,
          44,
          45,
          46,
          47,
          48,
          49,
          50,
          51,
          52,
          53,
          54,
          55,
          56,
          57,
          58,
          59,
          60,
          61,
          62,
          63,
          64,
          65,
          66,
          67,
          68,
          69,
          70,
          71,
          72,
          73,
          74,
          75,
          76,
          77,
          78,
          79,
          80,
          81,
          82,
          83,
          84,
          85,
          86,
          87,
          88,
          89,
          90,
          91,
          92,
          93,
          94,
          95,
          96,
          97,
          98,
          99,
          100,
          101,
          102,
          103,
          104,
          105,
          106,
          107,
          108,
          109,
          110,
          111,
          112,
          113,
          114,
          115,
          116,
          117,
          118,
          119,
          120,
          121,
          122,
          123,
          124,
          125,
          126,
          127,
          128,
          129,
          130,
          131,
          132,
          133,
          134,
          135,
          136,
          137,
          138,
          139,
          140,
          141,
          142,
          143,
          144,
          145,
          146,
          147,
          148,
          149,
          150,
          151,
          152,
          153,
          154,
          155,
          156,
          157,
          158,
          159,
          160,
          161,
          162,
          163,
          164,
          165,
          166,
          167,
          168,
          169,
          170,
          171,
          172,
          173,
          174,
          175,
          176,
          177,
          178,
          179,
          180,
          181,
          182,
          183,
          184,
          185,
          186,
          187,
          188,
          189,
          190,
          191,
          192,
          193,
          194,
          195,
          196,
          197,
          198,
          199,
          200,
          201,
          202,
          203,
          204,
          205,
          206,
          207,
          208,
          209,
          210,
          211,
          212,
          213,
          214,
          215,
          216,
          217,
          218,
          219,
          220,
          221,
          222,
          223,
          224,
          225,
          226,
          227,
          228,
          229,
          230,
          231,
          232,
          233,
          234,
          235,
          236,
          237,
          238,
          239,
          240,
          241,
          242,
          243,
          244,
          245,
          246,
          247,
          248,
          249,
          250,
          251,
          252,
          253,
          254,
          255,
          256,
          257,
          258,
          259,
          260,
          261,
          262,
          263,
          264,
          265,
          266,
          267,
          268,
          269,
          270,
          271,
          272,
          273,
          274,
          275,
          276,
          277,
          278,
          279,
          280,
          281,
          282,
          283,
          284,
          285,
          286,
          287,
          288,
          289,
          290,
          291,
          292,
          293,
          294,
          295,
          296,
          297,
          298
         ],
         "y": [
          -0.2111693570867855,
          -0.2177394607885805,
          -0.2244173010034876,
          -0.23120366022607017,
          -0.23809930626749032,
          -0.24510499174640316,
          -0.2522214535816252,
          -0.25944941248706416,
          -0.26678957246940815,
          -0.27424262032907426,
          -0.2818092251649276,
          -0.2894900378832829,
          -0.2972856907117078,
          -0.3051967967181497,
          -0.3132239493359129,
          -0.3213677218950103,
          -0.32962866716042305,
          -0.3380073168777957,
          -0.3465041813270979,
          -0.35511974888478015,
          -0.3638544855949525,
          -0.37270883475011163,
          -0.3816832164819327,
          -0.3907780273626502,
          -0.39999364001753174,
          -0.40933040274895466,
          -0.4187886391725809,
          -0.4283686478661224,
          -0.4380707020311744,
          -0.4478950491685914,
          -0.4578419107678631,
          -0.4679114820109399,
          -0.47810393149094377,
          -0.4884194009461865,
          -0.49885800500990274,
          -0.5094198309760914,
          -0.5201049385818416,
          -0.5309133598065033,
          -0.5418450986880416,
          -0.5529001311569048,
          -0.5640784048877037,
          -0.5753798391689902,
          -0.5868043247914001,
          -0.5983517239544,
          -0.6100218701918608,
          -0.6218145683166577,
          -0.6337295943844701,
          -0.6457666956769362,
          -0.6579255907042881,
          -0.670205969227576,
          -0.6826074923005561,
          -0.6951297923313038,
          -0.7077724731635758,
          -0.7205351101779313,
          -0.7334172504125865,
          -0.7464184127039635,
          -0.7595380878468532,
          -0.7727757387741028,
          -0.7861308007557,
          -0.7996026816171098,
          -0.8131907619766873,
          -0.826894395501971,
          -0.8407129091846334,
          -0.8546456036338403,
          -0.8686917533877501,
          -0.8828506072428545,
          -0.8971213886008504,
          -0.9115032958326929,
          -0.9259955026594754,
          -0.9405971585497497,
          -0.955307389132881,
          -0.9701252966280178,
          -0.9850499602882287,
          -1.0000804368593432,
          -1.0152157610530272,
          -1.0304549460335817,
          -1.0457969839179646,
          -1.0612408462885035,
          -1.0767854847177565,
          -1.0924298313049714,
          -1.1081727992235726,
          -1.1240132832791,
          -1.1399501604770128,
          -1.1559822905997577,
          -1.1721085167925027,
          -1.1883276661569195,
          -1.2046385503523982,
          -1.2210399662040732,
          -1.2375306963170336,
          -1.2541095096960873,
          -1.270775162370448,
          -1.2875263980227172,
          -1.3043619486215272,
          -1.3212805350572128,
          -1.3382808677798919,
          -1.3553616474393244,
          -1.3725215655259337,
          -1.3897593050123733,
          -1.4070735409950366,
          -1.424462941334901,
          -1.4419261672971206,
          -1.4594618741887813,
          -1.4770687119942412,
          -1.494745326007498,
          -1.512490357461026,
          -1.5303024441505455,
          -1.548180221055193,
          -1.5661223209525825,
          -1.5841273750282525,
          -1.6021940134790096,
          -1.6203208661097082,
          -1.6385065629229965,
          -1.6567497347015976,
          -1.6750490135826956,
          -1.6934030336240233,
          -1.7118104313612605,
          -1.7302698463563637,
          -1.7487799217364801,
          -1.7673393047231019,
          -1.7859466471511374,
          -1.804600605977608,
          -1.8232998437796717,
          -1.842043029241718,
          -1.860828837631282,
          -1.8796559512635478,
          -1.8985230599542255,
          -1.917428861460619,
          -1.9363720619106926,
          -1.9553513762199914,
          -1.9743655284962696,
          -1.9934132524316996,
          -2.0124932916825635,
          -2.031604400236331,
          -2.0507453427660502,
          -2.0699148949720056,
          -2.089111843910584,
          -2.108334988310342,
          -2.127583138875254,
          -2.1468551185751474,
          -2.1661497629233493,
          -2.18546592024157,
          -2.2048024519120824,
          -2.224158232617243,
          -2.243532150566442,
          -2.2629231077105576,
          -2.2823300199440135,
          -2.301751817294557,
          -2.3211874441008633,
          -2.340635859178106,
          -2.360096035971629,
          -2.3795669626988736,
          -2.3990476424797085,
          -2.418537093455341,
          -2.438034348895984,
          -2.4575384572974412,
          -2.4770484824668273,
          -2.496563503597599,
          -2.516082615334106,
          -2.535604927825868,
          -2.5551295667717846,
          -2.5746556734545045,
          -2.594182404765171,
          -2.6137089332187644,
          -2.633234446960267,
          -2.6527581497618993,
          -2.6722792610116457,
          -2.691797015693302,
          -2.7113106643582947,
          -2.7308194730895066,
          -2.7503227234573453,
          -2.769819712468301,
          -2.789309752506222,
          -2.808792171266571,
          -2.828266311683883,
          -2.847731531852669,
          -2.867187204942017,
          -2.8866327191041052,
          -2.906067477376896,
          -2.9254908975812133,
          -2.9449024122124525,
          -2.964301468327156,
          -2.983687527424683,
          -3.0030600653241835,
          -3.02241857203712,
          -3.0417625516355473,
          -3.0610915221163717,
          -3.0804050152617966,
          -3.0997025764961696,
          -3.1189837647394465,
          -3.1382481522574572,
          -3.157495324509192,
          -3.1767248799912853,
          -3.195936430079913,
          -3.2151295988702677,
          -3.2343040230138067,
          -3.253459351553453,
          -3.2725952457569214,
          -3.2917113789483463,
          -3.31080743633837,
          -3.329883114852856,
          -3.348938122960393,
          -3.3679721804987413,
          -3.386985018500356,
          -3.4059763790171558,
          -3.4249460149446587,
          -3.4438936898456354,
          -3.4628191777734045,
          -3.4817222630948894,
          -3.5006027403135844,
          -3.519460413892524,
          -3.5382950980773873,
          -3.5571066167198344,
          -3.575894803101195,
          -3.594659499756607,
          -3.613400558299695,
          -3.632117839247898,
          -3.650811211848524,
          -3.6694805539056294,
          -3.6881257516078003,
          -3.706746699356903,
          -3.725343299597911,
          -3.743915462649847,
          -3.7624631065379317,
          -3.7809861568269834,
          -3.7994845464561493,
          -3.8179582155750262,
          -3.8364071113812024,
          -3.854831187959301,
          -3.873230406121554,
          -3.8916047332499732,
          -3.9099541431401272,
          -3.928278615846605,
          -3.946578137530168,
          -3.9648527003066585,
          -3.9831023020976577,
          -4.001326946482962,
          -4.01952664255487,
          -4.037701404774341,
          -4.055851252829007,
          -4.073976211493087,
          -4.092076310489215,
          -4.110151584352195,
          -4.128202072294688,
          -4.1462278180748635,
          -4.164228869866006,
          -4.182205280128094,
          -4.200157105481354,
          -4.218084406581803,
          -4.235987247998763,
          -4.253865698094371,
          -4.271719828905081,
          -4.289549716025123,
          -4.307355438491982,
          -4.325137078673823,
          -4.342894722158908,
          -4.360628457646963,
          -4.37833837684252,
          -4.396024574350193,
          -4.413687147571908,
          -4.4313261966060455,
          -4.448941824148516,
          -4.466534135395732,
          -4.484103237949476,
          -4.50164924172364,
          -4.519172258852826,
          -4.536672403602815,
          -4.554149792282836,
          -4.571604543159669,
          -4.589036776373538,
          -4.606446613855794,
          -4.623834179248336,
          -4.641199597824799,
          -4.658542996413445,
          -4.675864503321774,
          -4.693164248262806,
          -4.710442362283026,
          -4.727698977691978,
          -4.74493422799348,
          -4.762148247818433,
          -4.7793411728592154,
          -4.796513139805631,
          -4.813664286282396,
          -4.8307947507881375,
          -4.847904672635888,
          -4.864994191895047,
          -4.882063449334794,
          -4.899112586368923,
          -4.916141745002091,
          -4.933151067777435,
          -4.950140697725563,
          -4.967110778314874,
          -4.984061453403192,
          -5.000992867190709,
          -5.017905164174179,
          -5.034798489102383,
          -5.051672986932799,
          -5.068528802789508,
          -5.085366081922255,
          -5.102184969666702
         ]
        },
        {
         "line": {
          "color": "rgba(251, 193, 94, 1.0)",
          "dash": "solid",
          "shape": "linear",
          "width": 1.3
         },
         "mode": "lines",
         "name": "pe_seg3",
         "text": "",
         "type": "scatter",
         "x": [
          0,
          1,
          2,
          3,
          4,
          5,
          6,
          7,
          8,
          9,
          10,
          11,
          12,
          13,
          14,
          15,
          16,
          17,
          18,
          19,
          20,
          21,
          22,
          23,
          24,
          25,
          26,
          27,
          28,
          29,
          30,
          31,
          32,
          33,
          34,
          35,
          36,
          37,
          38,
          39,
          40,
          41,
          42,
          43,
          44,
          45,
          46,
          47,
          48,
          49,
          50,
          51,
          52,
          53,
          54,
          55,
          56,
          57,
          58,
          59,
          60,
          61,
          62,
          63,
          64,
          65,
          66,
          67,
          68,
          69,
          70,
          71,
          72,
          73,
          74,
          75,
          76,
          77,
          78,
          79,
          80,
          81,
          82,
          83,
          84,
          85,
          86,
          87,
          88,
          89,
          90,
          91,
          92,
          93,
          94,
          95,
          96,
          97,
          98,
          99,
          100,
          101,
          102,
          103,
          104,
          105,
          106,
          107,
          108,
          109,
          110,
          111,
          112,
          113,
          114,
          115,
          116,
          117,
          118,
          119,
          120,
          121,
          122,
          123,
          124,
          125,
          126,
          127,
          128,
          129,
          130,
          131,
          132,
          133,
          134,
          135,
          136,
          137,
          138,
          139,
          140,
          141,
          142,
          143,
          144,
          145,
          146,
          147,
          148,
          149,
          150,
          151,
          152,
          153,
          154,
          155,
          156,
          157,
          158,
          159,
          160,
          161,
          162,
          163,
          164,
          165,
          166,
          167,
          168,
          169,
          170,
          171,
          172,
          173,
          174,
          175,
          176,
          177,
          178,
          179,
          180,
          181,
          182,
          183,
          184,
          185,
          186,
          187,
          188,
          189,
          190,
          191,
          192,
          193,
          194,
          195,
          196,
          197,
          198,
          199,
          200,
          201,
          202,
          203,
          204,
          205,
          206,
          207,
          208,
          209,
          210,
          211,
          212,
          213,
          214,
          215,
          216,
          217,
          218,
          219,
          220,
          221,
          222,
          223,
          224,
          225,
          226,
          227,
          228,
          229,
          230,
          231,
          232,
          233,
          234,
          235,
          236,
          237,
          238,
          239,
          240,
          241,
          242,
          243,
          244,
          245,
          246,
          247,
          248,
          249,
          250,
          251,
          252,
          253,
          254,
          255,
          256,
          257,
          258,
          259,
          260,
          261,
          262,
          263,
          264,
          265,
          266,
          267,
          268,
          269,
          270,
          271,
          272,
          273,
          274,
          275,
          276,
          277,
          278,
          279,
          280,
          281,
          282,
          283,
          284,
          285,
          286,
          287,
          288,
          289,
          290,
          291,
          292,
          293,
          294,
          295,
          296,
          297,
          298
         ],
         "y": [
          -0.1680420018535566,
          -0.17296656693418727,
          -0.17796152815794206,
          -0.1830273602723222,
          -0.1881645323238924,
          -0.1933735074625831,
          -0.19865474274587938,
          -0.2040086889430144,
          -0.2094357903392863,
          -0.21493648454061987,
          -0.22051120227849655,
          -0.22616036721537683,
          -0.23188439575074382,
          -0.23768369682789364,
          -0.2435586717416043,
          -0.2495097139468146,
          -0.25553720886844355,
          -0.26164153371248694,
          -0.2678230572785217,
          -0.2740821397737586,
          -0.2804191326287761,
          -0.2868343783150726,
          -0.2933282101645773,
          -0.2999009521912544,
          -0.30655291891494113,
          -0.31328441518755634,
          -0.3200957360218192,
          -0.3269871664226144,
          -0.33395898122114326,
          -0.34101144491199603,
          -0.348144811493283,
          -0.3553593243099602,
          -0.36265521590048244,
          -0.37003270784691894,
          -0.377492010628664,
          -0.3850333234798696,
          -0.39265683425073516,
          -0.4003627192727748,
          -0.4081511432281922,
          -0.4160222590234839,
          -0.42397620766739236,
          -0.4320131181533258,
          -0.44013310734636363,
          -0.4483362798749556,
          -0.4566227280274296,
          -0.4649925316534097,
          -0.4734457580702545,
          -0.48198246197460887,
          -0.49060268535917095,
          -0.4993064574347646,
          -0.5080937945578095,
          -0.5169647001632682,
          -0.5259191647031598,
          -0.5349571655907084,
          -0.544078667150205,
          -0.5532836205726495,
          -0.5625719638772322,
          -0.5719436218787224,
          -0.5813985061608086,
          -0.5909365150554468,
          -0.6005575336282559,
          -0.6102614336700052,
          -0.6200480736942212,
          -0.6299172989409492,
          -0.6398689413866889,
          -0.6499028197605256,
          -0.6600187395664654,
          -0.6702164931119899,
          -0.680495859542824,
          -0.690856604883919,
          -0.7012984820866407,
          -0.7118212310821501,
          -0.7224245788409518,
          -0.7331082394385937,
          -0.7438719141274767,
          -0.7547152914147505,
          -0.7656380471462421,
          -0.776639844596379,
          -0.7877203345640512,
          -0.7988791554743535,
          -0.8101159334861494,
          -0.8214302826053852,
          -0.8328218048040816,
          -0.8442900901449284,
          -0.8558347169113927,
          -0.8674552517432628,
          -0.8791512497775238,
          -0.8909222547944775,
          -0.9027677993690002,
          -0.9146874050268329,
          -0.9266805824057955,
          -0.9387468314218087,
          -0.9508856414396059,
          -0.9630964914480151,
          -0.9753788502396801,
          -0.987732176595098,
          -1.0001559194708338,
          -1.0126495181917812,
          -1.0252124026473275,
          -1.037843993491282,
          -1.0505437023454245,
          -1.063310932006521,
          -1.0761450766566665,
          -1.0890455220767934,
          -1.102011645863199,
          -1.1150428176469336,
          -1.12813839931589,
          -1.1412977452394408,
          -1.1545202024954593,
          -1.1678051110995626,
          -1.1811518042364242,
          -1.1945596084929744,
          -1.2080278440933496,
          -1.2215558251354075,
          -1.2351428598286542,
          -1.2487882507334154,
          -1.2624912950010967,
          -1.276251284615357,
          -1.2900675066340435,
          -1.303939243431722,
          -1.3178657729426442,
          -1.3318463689039903,
          -1.3458803010992282,
          -1.3599668356014372,
          -1.3741052350164336,
          -1.388294758725553,
          -1.402534663127929,
          -1.416824201882125,
          -1.4311626261469703,
          -1.445549184821454,
          -1.4599831247835302,
          -1.4744636911277078,
          -1.488990127401267,
          -1.5035616758389885,
          -1.5181775775962474,
          -1.5328370729803489,
          -1.547539401679987,
          -1.5622838029926898,
          -1.5770695160501418,
          -1.5918957800412643,
          -1.6067618344329406,
          -1.6216669191882813,
          -1.6366102749823146,
          -1.65159114341501,
          -1.6666087672215306,
          -1.681662390479625,
          -1.6967512588140587,
          -1.7118746195980068,
          -1.7270317221513236,
          -1.742221817935605,
          -1.757444160745971,
          -1.7726980068994964,
          -1.7879826154202236,
          -1.8032972482206917,
          -1.818641170279919,
          -1.8340136498177853,
          -1.849413958465769,
          -1.8648413714339758,
          -1.880295167674423,
          -1.8957746300405376,
          -1.9112790454428337,
          -1.9268077050007277,
          -1.9423599041904682,
          -1.95793494298915,
          -1.9735321260147956,
          -1.9891507626624803,
          -2.0047901672364827,
          -2.0204496590784538,
          -2.036128562691594,
          -2.051826207860835,
          -2.0675419297690176,
          -2.083275069109067,
          -2.0990249721921796,
          -2.1147909910520224,
          -2.130572483544941,
          -2.146368813446215,
          -2.162179350542357,
          -2.17800347071948,
          -2.1938405560477547,
          -2.209689994861973,
          -2.225551181838258,
          -2.241423518066939,
          -2.2573064111216152,
          -2.273199275124457,
          -2.2891015308077685,
          -2.305012605571854,
          -2.320931933539226,
          -2.336858955605183,
          -2.3527931194848297,
          -2.368733879756554,
          -2.3846806979020183,
          -2.4006330423427147,
          -2.4165903884731326,
          -2.4325522186905846,
          -2.4485180224217484,
          -2.4644872961459647,
          -2.4804595434153667,
          -2.4964342748718784,
          -2.51241100826114,
          -2.528389268443423,
          -2.5443685874015887,
          -2.5603485042461562,
          -2.576328565217519,
          -2.592308323685397,
          -2.6082873401455564,
          -2.6242651822138874,
          -2.640241424617871,
          -2.656215649185519,
          -2.672187444831832,
          -2.6881564075428557,
          -2.704122140357379,
          -2.720084253346343,
          -2.736042363590027,
          -2.75199609515307,
          -2.767945079057389,
          -2.783888953253049,
          -2.799827362587164,
          -2.8157599587708746,
          -2.8316864003444664,
          -2.8476063526406925,
          -2.86351948774636,
          -2.879425484462242,
          -2.8953240282613635,
          -2.9112148112457414,
          -2.927097532101607,
          -2.942971896053206,
          -2.958837614815196,
          -2.9746944065437253,
          -2.9905419957862285,
          -3.0063801134300188,
          -3.022208496649705,
          -3.0380268888535014,
          -3.0538350396284812,
          -3.069632704684832,
          -3.085419645799149,
          -3.101195630756831,
          -3.1169604332936163,
          -3.132713833036334,
          -3.1484556154428796,
          -3.164185571741488,
          -3.1799034988693506,
          -3.195609199410614,
          -3.2113024815338016,
          -3.2269831589287112,
          -3.242651050742826,
          -3.2583059815172875,
          -3.273947781122456,
          -3.289576284693116,
          -3.3051913325633526,
          -3.3207927702011517,
          -3.336380448142741,
          -3.3519542219267264,
          -3.3675139520280477,
          -3.3830595037917974,
          -3.3985907473669275,
          -3.414107557639879,
          -3.4296098141681703,
          -3.4450974011139732,
          -3.460570207177704,
          -3.476028125531658,
          -3.491471053753719,
          -3.5068988937611785,
          -3.5223115517446684,
          -3.5377089381022553,
          -3.553090967373711,
          -3.5684575581749884,
          -3.583808633132916,
          -3.5991441188201425,
          -3.614463945690348,
          -3.629768048013753,
          -3.6450563638129236,
          -3.660328834798914,
          -3.675585406307751,
          -3.690826027237287,
          -3.7060506499844306,
          -3.721259230382773,
          -3.7364517276406337,
          -3.7516281042795225,
          -3.7667883260730606,
          -3.7819323619863305,
          -3.797060184115721,
          -3.812171767629237,
          -3.827267090707297,
          -3.842346134484046,
          -3.857408882989167,
          -3.8724553230902257,
          -3.8874854444355416,
          -3.9024992393975904,
          -3.9174967030169725,
          -3.9324778329469234,
          -3.947442629398385,
          -3.9623910950856542,
          -3.977323235172598,
          -3.9922390572194546,
          -4.007138571130219,
          -4.022021789100606,
          -4.0368887255666275,
          -4.051739397153754,
          -4.066573822626674
         ]
        }
       ],
       "layout": {
        "legend": {
         "bgcolor": "#FFFFFF",
         "font": {
          "color": "#666666"
         }
        },
        "paper_bgcolor": "#FFFFFF",
        "plot_bgcolor": "#E5E5E5",
        "template": {
         "data": {
          "bar": [
           {
            "error_x": {
             "color": "#2a3f5f"
            },
            "error_y": {
             "color": "#2a3f5f"
            },
            "marker": {
             "line": {
              "color": "#E5ECF6",
              "width": 0.5
             },
             "pattern": {
              "fillmode": "overlay",
              "size": 10,
              "solidity": 0.2
             }
            },
            "type": "bar"
           }
          ],
          "barpolar": [
           {
            "marker": {
             "line": {
              "color": "#E5ECF6",
              "width": 0.5
             },
             "pattern": {
              "fillmode": "overlay",
              "size": 10,
              "solidity": 0.2
             }
            },
            "type": "barpolar"
           }
          ],
          "carpet": [
           {
            "aaxis": {
             "endlinecolor": "#2a3f5f",
             "gridcolor": "white",
             "linecolor": "white",
             "minorgridcolor": "white",
             "startlinecolor": "#2a3f5f"
            },
            "baxis": {
             "endlinecolor": "#2a3f5f",
             "gridcolor": "white",
             "linecolor": "white",
             "minorgridcolor": "white",
             "startlinecolor": "#2a3f5f"
            },
            "type": "carpet"
           }
          ],
          "choropleth": [
           {
            "colorbar": {
             "outlinewidth": 0,
             "ticks": ""
            },
            "type": "choropleth"
           }
          ],
          "contour": [
           {
            "colorbar": {
             "outlinewidth": 0,
             "ticks": ""
            },
            "colorscale": [
             [
              0,
              "#0d0887"
             ],
             [
              0.1111111111111111,
              "#46039f"
             ],
             [
              0.2222222222222222,
              "#7201a8"
             ],
             [
              0.3333333333333333,
              "#9c179e"
             ],
             [
              0.4444444444444444,
              "#bd3786"
             ],
             [
              0.5555555555555556,
              "#d8576b"
             ],
             [
              0.6666666666666666,
              "#ed7953"
             ],
             [
              0.7777777777777778,
              "#fb9f3a"
             ],
             [
              0.8888888888888888,
              "#fdca26"
             ],
             [
              1,
              "#f0f921"
             ]
            ],
            "type": "contour"
           }
          ],
          "contourcarpet": [
           {
            "colorbar": {
             "outlinewidth": 0,
             "ticks": ""
            },
            "type": "contourcarpet"
           }
          ],
          "heatmap": [
           {
            "colorbar": {
             "outlinewidth": 0,
             "ticks": ""
            },
            "colorscale": [
             [
              0,
              "#0d0887"
             ],
             [
              0.1111111111111111,
              "#46039f"
             ],
             [
              0.2222222222222222,
              "#7201a8"
             ],
             [
              0.3333333333333333,
              "#9c179e"
             ],
             [
              0.4444444444444444,
              "#bd3786"
             ],
             [
              0.5555555555555556,
              "#d8576b"
             ],
             [
              0.6666666666666666,
              "#ed7953"
             ],
             [
              0.7777777777777778,
              "#fb9f3a"
             ],
             [
              0.8888888888888888,
              "#fdca26"
             ],
             [
              1,
              "#f0f921"
             ]
            ],
            "type": "heatmap"
           }
          ],
          "heatmapgl": [
           {
            "colorbar": {
             "outlinewidth": 0,
             "ticks": ""
            },
            "colorscale": [
             [
              0,
              "#0d0887"
             ],
             [
              0.1111111111111111,
              "#46039f"
             ],
             [
              0.2222222222222222,
              "#7201a8"
             ],
             [
              0.3333333333333333,
              "#9c179e"
             ],
             [
              0.4444444444444444,
              "#bd3786"
             ],
             [
              0.5555555555555556,
              "#d8576b"
             ],
             [
              0.6666666666666666,
              "#ed7953"
             ],
             [
              0.7777777777777778,
              "#fb9f3a"
             ],
             [
              0.8888888888888888,
              "#fdca26"
             ],
             [
              1,
              "#f0f921"
             ]
            ],
            "type": "heatmapgl"
           }
          ],
          "histogram": [
           {
            "marker": {
             "pattern": {
              "fillmode": "overlay",
              "size": 10,
              "solidity": 0.2
             }
            },
            "type": "histogram"
           }
          ],
          "histogram2d": [
           {
            "colorbar": {
             "outlinewidth": 0,
             "ticks": ""
            },
            "colorscale": [
             [
              0,
              "#0d0887"
             ],
             [
              0.1111111111111111,
              "#46039f"
             ],
             [
              0.2222222222222222,
              "#7201a8"
             ],
             [
              0.3333333333333333,
              "#9c179e"
             ],
             [
              0.4444444444444444,
              "#bd3786"
             ],
             [
              0.5555555555555556,
              "#d8576b"
             ],
             [
              0.6666666666666666,
              "#ed7953"
             ],
             [
              0.7777777777777778,
              "#fb9f3a"
             ],
             [
              0.8888888888888888,
              "#fdca26"
             ],
             [
              1,
              "#f0f921"
             ]
            ],
            "type": "histogram2d"
           }
          ],
          "histogram2dcontour": [
           {
            "colorbar": {
             "outlinewidth": 0,
             "ticks": ""
            },
            "colorscale": [
             [
              0,
              "#0d0887"
             ],
             [
              0.1111111111111111,
              "#46039f"
             ],
             [
              0.2222222222222222,
              "#7201a8"
             ],
             [
              0.3333333333333333,
              "#9c179e"
             ],
             [
              0.4444444444444444,
              "#bd3786"
             ],
             [
              0.5555555555555556,
              "#d8576b"
             ],
             [
              0.6666666666666666,
              "#ed7953"
             ],
             [
              0.7777777777777778,
              "#fb9f3a"
             ],
             [
              0.8888888888888888,
              "#fdca26"
             ],
             [
              1,
              "#f0f921"
             ]
            ],
            "type": "histogram2dcontour"
           }
          ],
          "mesh3d": [
           {
            "colorbar": {
             "outlinewidth": 0,
             "ticks": ""
            },
            "type": "mesh3d"
           }
          ],
          "parcoords": [
           {
            "line": {
             "colorbar": {
              "outlinewidth": 0,
              "ticks": ""
             }
            },
            "type": "parcoords"
           }
          ],
          "pie": [
           {
            "automargin": true,
            "type": "pie"
           }
          ],
          "scatter": [
           {
            "marker": {
             "colorbar": {
              "outlinewidth": 0,
              "ticks": ""
             }
            },
            "type": "scatter"
           }
          ],
          "scatter3d": [
           {
            "line": {
             "colorbar": {
              "outlinewidth": 0,
              "ticks": ""
             }
            },
            "marker": {
             "colorbar": {
              "outlinewidth": 0,
              "ticks": ""
             }
            },
            "type": "scatter3d"
           }
          ],
          "scattercarpet": [
           {
            "marker": {
             "colorbar": {
              "outlinewidth": 0,
              "ticks": ""
             }
            },
            "type": "scattercarpet"
           }
          ],
          "scattergeo": [
           {
            "marker": {
             "colorbar": {
              "outlinewidth": 0,
              "ticks": ""
             }
            },
            "type": "scattergeo"
           }
          ],
          "scattergl": [
           {
            "marker": {
             "colorbar": {
              "outlinewidth": 0,
              "ticks": ""
             }
            },
            "type": "scattergl"
           }
          ],
          "scattermapbox": [
           {
            "marker": {
             "colorbar": {
              "outlinewidth": 0,
              "ticks": ""
             }
            },
            "type": "scattermapbox"
           }
          ],
          "scatterpolar": [
           {
            "marker": {
             "colorbar": {
              "outlinewidth": 0,
              "ticks": ""
             }
            },
            "type": "scatterpolar"
           }
          ],
          "scatterpolargl": [
           {
            "marker": {
             "colorbar": {
              "outlinewidth": 0,
              "ticks": ""
             }
            },
            "type": "scatterpolargl"
           }
          ],
          "scatterternary": [
           {
            "marker": {
             "colorbar": {
              "outlinewidth": 0,
              "ticks": ""
             }
            },
            "type": "scatterternary"
           }
          ],
          "surface": [
           {
            "colorbar": {
             "outlinewidth": 0,
             "ticks": ""
            },
            "colorscale": [
             [
              0,
              "#0d0887"
             ],
             [
              0.1111111111111111,
              "#46039f"
             ],
             [
              0.2222222222222222,
              "#7201a8"
             ],
             [
              0.3333333333333333,
              "#9c179e"
             ],
             [
              0.4444444444444444,
              "#bd3786"
             ],
             [
              0.5555555555555556,
              "#d8576b"
             ],
             [
              0.6666666666666666,
              "#ed7953"
             ],
             [
              0.7777777777777778,
              "#fb9f3a"
             ],
             [
              0.8888888888888888,
              "#fdca26"
             ],
             [
              1,
              "#f0f921"
             ]
            ],
            "type": "surface"
           }
          ],
          "table": [
           {
            "cells": {
             "fill": {
              "color": "#EBF0F8"
             },
             "line": {
              "color": "white"
             }
            },
            "header": {
             "fill": {
              "color": "#C8D4E3"
             },
             "line": {
              "color": "white"
             }
            },
            "type": "table"
           }
          ]
         },
         "layout": {
          "annotationdefaults": {
           "arrowcolor": "#2a3f5f",
           "arrowhead": 0,
           "arrowwidth": 1
          },
          "autotypenumbers": "strict",
          "coloraxis": {
           "colorbar": {
            "outlinewidth": 0,
            "ticks": ""
           }
          },
          "colorscale": {
           "diverging": [
            [
             0,
             "#8e0152"
            ],
            [
             0.1,
             "#c51b7d"
            ],
            [
             0.2,
             "#de77ae"
            ],
            [
             0.3,
             "#f1b6da"
            ],
            [
             0.4,
             "#fde0ef"
            ],
            [
             0.5,
             "#f7f7f7"
            ],
            [
             0.6,
             "#e6f5d0"
            ],
            [
             0.7,
             "#b8e186"
            ],
            [
             0.8,
             "#7fbc41"
            ],
            [
             0.9,
             "#4d9221"
            ],
            [
             1,
             "#276419"
            ]
           ],
           "sequential": [
            [
             0,
             "#0d0887"
            ],
            [
             0.1111111111111111,
             "#46039f"
            ],
            [
             0.2222222222222222,
             "#7201a8"
            ],
            [
             0.3333333333333333,
             "#9c179e"
            ],
            [
             0.4444444444444444,
             "#bd3786"
            ],
            [
             0.5555555555555556,
             "#d8576b"
            ],
            [
             0.6666666666666666,
             "#ed7953"
            ],
            [
             0.7777777777777778,
             "#fb9f3a"
            ],
            [
             0.8888888888888888,
             "#fdca26"
            ],
            [
             1,
             "#f0f921"
            ]
           ],
           "sequentialminus": [
            [
             0,
             "#0d0887"
            ],
            [
             0.1111111111111111,
             "#46039f"
            ],
            [
             0.2222222222222222,
             "#7201a8"
            ],
            [
             0.3333333333333333,
             "#9c179e"
            ],
            [
             0.4444444444444444,
             "#bd3786"
            ],
            [
             0.5555555555555556,
             "#d8576b"
            ],
            [
             0.6666666666666666,
             "#ed7953"
            ],
            [
             0.7777777777777778,
             "#fb9f3a"
            ],
            [
             0.8888888888888888,
             "#fdca26"
            ],
            [
             1,
             "#f0f921"
            ]
           ]
          },
          "colorway": [
           "#636efa",
           "#EF553B",
           "#00cc96",
           "#ab63fa",
           "#FFA15A",
           "#19d3f3",
           "#FF6692",
           "#B6E880",
           "#FF97FF",
           "#FECB52"
          ],
          "font": {
           "color": "#2a3f5f"
          },
          "geo": {
           "bgcolor": "white",
           "lakecolor": "white",
           "landcolor": "#E5ECF6",
           "showlakes": true,
           "showland": true,
           "subunitcolor": "white"
          },
          "hoverlabel": {
           "align": "left"
          },
          "hovermode": "closest",
          "mapbox": {
           "style": "light"
          },
          "paper_bgcolor": "white",
          "plot_bgcolor": "#E5ECF6",
          "polar": {
           "angularaxis": {
            "gridcolor": "white",
            "linecolor": "white",
            "ticks": ""
           },
           "bgcolor": "#E5ECF6",
           "radialaxis": {
            "gridcolor": "white",
            "linecolor": "white",
            "ticks": ""
           }
          },
          "scene": {
           "xaxis": {
            "backgroundcolor": "#E5ECF6",
            "gridcolor": "white",
            "gridwidth": 2,
            "linecolor": "white",
            "showbackground": true,
            "ticks": "",
            "zerolinecolor": "white"
           },
           "yaxis": {
            "backgroundcolor": "#E5ECF6",
            "gridcolor": "white",
            "gridwidth": 2,
            "linecolor": "white",
            "showbackground": true,
            "ticks": "",
            "zerolinecolor": "white"
           },
           "zaxis": {
            "backgroundcolor": "#E5ECF6",
            "gridcolor": "white",
            "gridwidth": 2,
            "linecolor": "white",
            "showbackground": true,
            "ticks": "",
            "zerolinecolor": "white"
           }
          },
          "shapedefaults": {
           "line": {
            "color": "#2a3f5f"
           }
          },
          "ternary": {
           "aaxis": {
            "gridcolor": "white",
            "linecolor": "white",
            "ticks": ""
           },
           "baxis": {
            "gridcolor": "white",
            "linecolor": "white",
            "ticks": ""
           },
           "bgcolor": "#E5ECF6",
           "caxis": {
            "gridcolor": "white",
            "linecolor": "white",
            "ticks": ""
           }
          },
          "title": {
           "x": 0.05
          },
          "xaxis": {
           "automargin": true,
           "gridcolor": "white",
           "linecolor": "white",
           "ticks": "",
           "title": {
            "standoff": 15
           },
           "zerolinecolor": "white",
           "zerolinewidth": 2
          },
          "yaxis": {
           "automargin": true,
           "gridcolor": "white",
           "linecolor": "white",
           "ticks": "",
           "title": {
            "standoff": 15
           },
           "zerolinecolor": "white",
           "zerolinewidth": 2
          }
         }
        },
        "title": {
         "font": {
          "color": "#151516"
         },
         "text": "Price Elasticity of Purchase Probability"
        },
        "xaxis": {
         "gridcolor": "#F6F6F6",
         "showgrid": true,
         "tickfont": {
          "color": "#666666"
         },
         "title": {
          "font": {
           "color": "#666666"
          },
          "text": "Prices"
         },
         "zerolinecolor": "#F6F6F6"
        },
        "yaxis": {
         "gridcolor": "#F6F6F6",
         "showgrid": true,
         "tickfont": {
          "color": "#666666"
         },
         "title": {
          "font": {
           "color": "#666666"
          },
          "text": "Elasticyti"
         },
         "zerolinecolor": "#F6F6F6"
        }
       }
      },
      "text/html": [
       "<div>                            <div id=\"abbda91b-d745-4316-b34f-ea672a9212f8\" class=\"plotly-graph-div\" style=\"height:525px; width:100%;\"></div>            <script type=\"text/javascript\">                require([\"plotly\"], function(Plotly) {                    window.PLOTLYENV=window.PLOTLYENV || {};\n",
       "                    window.PLOTLYENV.BASE_URL='https://plot.ly';                                    if (document.getElementById(\"abbda91b-d745-4316-b34f-ea672a9212f8\")) {                    Plotly.newPlot(                        \"abbda91b-d745-4316-b34f-ea672a9212f8\",                        [{\"line\":{\"color\":\"rgba(226, 74, 51, 1.0)\",\"dash\":\"solid\",\"shape\":\"linear\",\"width\":1.3},\"mode\":\"lines\",\"name\":\"means\",\"text\":\"\",\"type\":\"scatter\",\"x\":[0,1,2,3,4,5,6,7,8,9,10,11,12,13,14,15,16,17,18,19,20,21,22,23,24,25,26,27,28,29,30,31,32,33,34,35,36,37,38,39,40,41,42,43,44,45,46,47,48,49,50,51,52,53,54,55,56,57,58,59,60,61,62,63,64,65,66,67,68,69,70,71,72,73,74,75,76,77,78,79,80,81,82,83,84,85,86,87,88,89,90,91,92,93,94,95,96,97,98,99,100,101,102,103,104,105,106,107,108,109,110,111,112,113,114,115,116,117,118,119,120,121,122,123,124,125,126,127,128,129,130,131,132,133,134,135,136,137,138,139,140,141,142,143,144,145,146,147,148,149,150,151,152,153,154,155,156,157,158,159,160,161,162,163,164,165,166,167,168,169,170,171,172,173,174,175,176,177,178,179,180,181,182,183,184,185,186,187,188,189,190,191,192,193,194,195,196,197,198,199,200,201,202,203,204,205,206,207,208,209,210,211,212,213,214,215,216,217,218,219,220,221,222,223,224,225,226,227,228,229,230,231,232,233,234,235,236,237,238,239,240,241,242,243,244,245,246,247,248,249,250,251,252,253,254,255,256,257,258,259,260,261,262,263,264,265,266,267,268,269,270,271,272,273,274,275,276,277,278,279,280,281,282,283,284,285,286,287,288,289,290,291,292,293,294,295,296,297,298],\"y\":[-0.09639582835550818,-0.1004637808378074,-0.10465871295685428,-0.10898377680221519,-0.11344217636988857,-0.11803716724584516,-0.12277205621830221,-0.12765020081564188,-0.1326750087668632,-0.13784993738143306,-0.14317849284538883,-0.1486642294305424,-0.1543107486136332,-0.16012169810230112,-0.16610077076475585,-0.1722517034600683,-0.17857827576603527,-0.18508430860163935,-0.1917736627411797,-0.19865023721723274,-0.2057179676096963,-0.21298082421827,-0.22044281011585537,-0.22810795908048173,-0.2359803334035274,-0.24406402157216261,-0.2523631358241361,-0.260881809573209,-0.2696241947037813,-0.2785944587334742,-0.28779678184268853,-0.29723535377044064,-0.3069143705760559,-0.3168380312666112,-0.3270105342903539,-0.3374360738966548,-0.3481188363634276,-0.35906299609332337,-0.37027271158040503,-0.38175212124943075,-0.3935053391702859,-0.40553645065057636,-0.4178495077098337,-0.43044852443926523,-0.44333747225147,-0.45652027502503306,-0.4700008041494144,-0.4837828734760723,-0.4978702341822635,-0.5122665695545021,-0.5269754896991677,-0.5420005261882914,-0.5573451266490582,-0.5730126493060863,-0.5890063574860548,-0.6053294140947395,-0.6219848760770132,-0.6389756888708261,-0.6563046808666336,-0.6739745578841806,-0.691987897678924,-0.7103471444907874,-0.7290546036482526,-0.7481124362411287,-0.7675226538755934,-0.7872871135253473,-0.8074075124929082,-0.8278853834952064,-0.8487220898877725,-0.8699188210418003,-0.8914765878884272,-0.9133962186444572,-0.935678354733667,-0.9583234469176521,-0.9813317516499339,-1.0047033276667483,-1.0284380328276022,-1.0525355212182401,-1.0769952405282028,-1.1018164297146216,-1.1269981169632861,-1.1525391179573687,-1.1784380344634806,-1.2046932532439603,-1.2313029453034738,-1.2582650654771372,-1.2855773523664475,-1.3132373286283523,-1.3412423016217858,-1.3695893644149557,-1.398275397155605,-1.427297068805371,-1.4566508392382513,-1.486332961702065,-1.5163394856406287,-1.546666259873249,-1.577308936126969,-1.6082629729158702,-1.639523639760603,-1.671086021740211,-1.7029450243672268,-1.7350953787759564,-1.767531647212856,-1.8002482288169137,-1.8332393656770147,-1.8664991491523926,-1.900021526441418,-1.9338003073832226,-1.9678291714759364,-2.002101675094665,-2.036611258891794,-2.0713512553616478,-2.1063148965511616,-2.14149532189783,-2.1768855861759557,-2.212478667531971,-2.2482674755895693,-2.2842448596052503,-2.320403616654988,-2.356736499832812,-2.3932362264422826,-2.4298954861620965,-2.466706949167414,-2.503663274188856,-2.5407571164916156,-2.577981135757624,-2.6153280038543185,-2.6527904124741566,-2.6903610806297356,-2.7280327619900855,-2.765798252044451,-2.8036503950807288,-2.8415820909665004,-2.8795863017214867,-2.917656057871136,-2.9557844645719173,-2.9939647074998335,-3.0321900584945474,-3.070453880952454,-3.1087496349629196,-3.1470708821828373,-3.1854112904455163,-3.223764638100834,-3.262124818084419,-3.3004858417144773,-3.338841842215713,-3.3771870779705555,-3.415515935498695,-3.453822932166644,-3.4921027186297313,-3.5303500810096278,-3.568559942811091,-3.606727366582221,-3.6448475553230835,-3.6829158536480198,-3.720927748707489,-3.7588788708756637,-3.796764994210446,-3.8345820366928507,-3.8723260602530583,-3.909993270590741,-3.9475800167974047,-3.985082790788778,-4.022498226555382,-4.059823099239572,-4.097054324047443,-4.134188955003972,-4.1712241835599295,-4.208157337058974,-4.244985877073402,-4.2817073976168984,-4.31831962324262,-4.35482040703483,-4.391207728502143,-4.427479691380356,-4.463634521352632,-4.499670563694687,-4.535586280852407,-4.571380249959097,-4.607051160299449,-4.642597810726971,-4.678019107041514,-4.713314059333182,-4.74848177929876,-4.783521477536523,-4.818432460825005,-4.853214129391119,-4.887865974172691,-4.9223875740803065,-4.956778593263062,-4.991038778382541,-5.025167955899178,-5.059166029374827,-5.093032976795197,-5.126768847915505,-5.160373761632531,-5.193847903386011,-5.227191522592048,-5.26040493011109,-5.293488495752701,-5.326442645819284,-5.3592678606906174,-5.391964672450894,-5.424533662559849,-5.456975459569278,-5.489290736886183,-5.521480210583545,-5.553544637259613,-5.5854848119464835,-5.617301566068518,-5.648995765451124,-5.680568308380208,-5.712020123712566,-5.74335216903734,-5.774565428888538,-5.8056609130085635,-5.83663965466262,-5.867502709003694,-5.89825115148785,-5.928886076339395,-5.959408595065503,-5.98981983501975,-6.020120938013975,-6.05031305897788,-6.080397364665652,-6.110375032408927,-6.140247248915329,-6.170015209111778,-6.199680115031803,-6.229243174745968,-6.258705601334574,-6.288068611901736,-6.317333426629966,-6.346501267874306,-6.37557335929513,-6.40455092502865,-6.433435188894205,-6.462227373637408,-6.490928700208165,-6.519540387072667,-6.548063649558412,-6.57649969923129,-6.604849743303841,-6.633114984073746,-6.661296618391635,-6.6893958371573286,-6.717413824843582,-6.745351759046506,-6.773210810061731,-6.800992140485523,-6.828696904839962,-6.856326249221377,-6.883881310971226,-6.911363218368618,-6.938773090343712,-6.966112036211197,-6.993381155423146,-7.0205815373404965,-7.0477142610224215,-7.074780395032944,-7.10178099726406,-7.128717114774768,-7.155589783645308,-7.182400028845998,-7.209148864120091,-7.23583729188001,-7.262466303116419,-7.28903687731955,-7.315549982412254,-7.342006574694261,-7.368407598797105,-7.394753987649249,-7.421046662450926,-7.447286532658221,-7.473474495975958,-7.499611438358944,-7.525698234021178,-7.551735745452588,-7.577724823442933,-7.603666307112461,-7.6295610239490035,-7.65540978985112,-7.681213409176967,-7.706972674798558,-7.732688368161129,-7.7583612593472715,-7.783992107145571,-7.8095816591234435,-7.835130651703941,-7.86063981024624,-7.886109849129564,-7.911541471840332,-7.936935371062264,-7.96229222876926,-7.98761271632084,-8.01289749455991,-8.038147213912719,-8.063362514490766,-8.088544026194528]},{\"line\":{\"color\":\"rgba(62, 111, 176, 1.0)\",\"dash\":\"solid\",\"shape\":\"linear\",\"width\":1.3},\"mode\":\"lines\",\"name\":\"pe_seg1\",\"text\":\"\",\"type\":\"scatter\",\"x\":[0,1,2,3,4,5,6,7,8,9,10,11,12,13,14,15,16,17,18,19,20,21,22,23,24,25,26,27,28,29,30,31,32,33,34,35,36,37,38,39,40,41,42,43,44,45,46,47,48,49,50,51,52,53,54,55,56,57,58,59,60,61,62,63,64,65,66,67,68,69,70,71,72,73,74,75,76,77,78,79,80,81,82,83,84,85,86,87,88,89,90,91,92,93,94,95,96,97,98,99,100,101,102,103,104,105,106,107,108,109,110,111,112,113,114,115,116,117,118,119,120,121,122,123,124,125,126,127,128,129,130,131,132,133,134,135,136,137,138,139,140,141,142,143,144,145,146,147,148,149,150,151,152,153,154,155,156,157,158,159,160,161,162,163,164,165,166,167,168,169,170,171,172,173,174,175,176,177,178,179,180,181,182,183,184,185,186,187,188,189,190,191,192,193,194,195,196,197,198,199,200,201,202,203,204,205,206,207,208,209,210,211,212,213,214,215,216,217,218,219,220,221,222,223,224,225,226,227,228,229,230,231,232,233,234,235,236,237,238,239,240,241,242,243,244,245,246,247,248,249,250,251,252,253,254,255,256,257,258,259,260,261,262,263,264,265,266,267,268,269,270,271,272,273,274,275,276,277,278,279,280,281,282,283,284,285,286,287,288,289,290,291,292,293,294,295,296,297,298],\"y\":[-0.11908833683118748,-0.12327133527554841,-0.12754767107037768,-0.13191880268604195,-0.13638619653441655,-0.14095132651478373,-0.14561567354151017,-0.150380725053354,-0.15524797450426914,-0.1602189208355898,-0.16529506792950335,-0.17047792404373882,-0.17576900122741723,-0.1811698147180383,-0.1866818823195978,-0.1923067237618588,-0.19804586004081823,-0.20390081274045044,-0.20987310333582204,-0.2159642524777137,-0.2221757792589077,-0.2285092004623305,-0.23496602979127554,-0.24154777708196198,-0.24825594749871224,-0.25509204071207797,-0.2620575500602654,-0.2691539616942547,-0.27638275370704163,-0.2837453952474643,-0.2912433456191191,-0.29887805336490286,-0.3066509553377592,-0.3145634757582425,-0.3226170252595561,-0.33081299992075175,-0.3391527802888252,-0.34763773039047313,-0.3562691967343213,-0.3650485073044671,-0.37397697054622003,-0.38305587434496347,-0.39228648499908914,-0.4016700461880041,-0.41120777793623675,-0.4209008755747036,-0.43075050870023934,-0.44075782013451603,-0.45092392488351357,-0.4612499090987367,-0.4717368290413935,-0.48238571005078795,-0.49319754551819506,-0.5041732958675182,-0.5153138875440478,-0.526620212012655,-0.538093124766781,-0.5497334443495929,-0.5615419513886851,-0.5735193876457293,-0.5856664550824717,-0.5979838149444845,-0.6104720868640887,-0.6231318479838553,-0.6359636321020945,-0.6489679288417383,-0.6621451828440079,-0.6754957929882496,-0.6890201116393058,-0.7027184439237737,-0.7165910470364746,-0.7306381295784428,-0.7448598509277105,-0.7592563206441254,-0.7738275979094311,-0.7885736910037648,-0.8034945568197189,-0.8185901004150575,-0.833860174605131,-0.8493045795959782,-0.8649230626590754,-0.8807153178486062,-0.8966809857620914,-0.912819653345148,-0.9291308537410883,-0.9456140661859974,-0.9622687159498705,-0.9790941743243171,-0.9960897586572625,-1.0132547324350138,-1.030588305411984,-1.048089633788268,-1.0657578204352325,-1.0835919151691524,-1.101590915072885,-1.119753764865479,-1.1380793573195325,-1.1565665337260402,-1.1752140844063892,-1.194020749271079,-1.2129852184246628,-1.2321061328163327,-1.2513820849354882,-1.270811619551549,-1.2903932344972056,-1.3101253814942195,-1.3300064670208114,-1.3500348532196131,-1.370208858845085,-1.3905267602492275,-1.4109867924043717,-1.4315871499617472,-1.452325988344489,-1.473201424873673,-1.4942115399259346,-1.51535437812115,-1.5366279495386508,-1.5580302309603595,-1.5795591671392248,-1.6012126720912874,-1.6229886304096817,-1.644884898598835,-1.666899306427133,-1.6890296582962638,-1.7112737346254654,-1.7336292932488746,-1.7560940708241706,-1.778665784250701,-1.8013421320952816,-1.8241207960238592,-1.8469994422372353,-1.8699757229090592,-1.8930472776243228,-1.916211734816581,-1.9394667132021763,-1.962809823209752,-1.9862386684033573,-2.009750846897511,-2.0333439527625874,-2.057015577418947,-2.080763311018274,-2.1045847438106158,-2.128477467495664,-2.152439076556878,-2.176467169577085,-2.200559350534244,-2.224713230076128,-2.2489264267727083,-2.273196568345107,-2.29752129287002,-2.3218982499585863,-2.3463251019087195,-2.370799524829998,-2.3953192097402694,-2.419881863633151,-2.4444852105157175,-2.469126992415705,-2.49380497035761,-2.5185169253071473,-2.5432606590835634,-2.568033995239398,-2.592834779907312,-2.6176608826136687,-2.6425101970586202,-2.6673806418625055,-2.6922701612784214,-2.717176725870865,-2.7420983331604267,-2.7670330082345536,-2.79197880432445,-2.816933803348218,-2.8418961164204215,-2.8668638843282745,-2.891835277974704,-2.9168084987885856,-2.9417817791024823,-2.9667533824982626,-2.9917216041210146,-3.016684770961681,-3.041641242108897,-3.066589408970559,-3.0915276954656266,-3.116454558186738,-3.1413684865342253,-3.1662680028221346,-3.1911516623568854,-3.2160180534892175,-3.2408657976400836,-3.2656935493011967,-3.2904999960109014,-3.3152838583060933,-3.3400438896508997,-3.3647788763428523,-3.389487637397297,-3.4141690244107648,-3.4388219214040547,-3.463445244645788,-3.488037942457184,-3.512598994998776,-3.5371274140398548,-3.5616222427113713,-3.586082555243038,-3.61050745668536,-3.6348960826173515,-3.659247598840629,-3.683561201060639,-3.70783611455569,-3.7320715938345126,-3.7562669222830247,-3.7804214118010036,-3.8045344024292826,-3.828605261968179,-3.8526333855877706,-3.876618195430647,-3.900559140207756,-3.924455694787949,-3.9483073597817966,-3.9721136611202734,-3.9958741496288392,-4.019588400597467,-4.043256013347153,-4.066876610793418,-4.090449839007266,-4.113975366774114,-4.13745288515114,-4.160882107023493,-4.184262766659797,-4.207594619267373,-4.2308774405475456,-4.254111026251481,-4.2772951917368465,-4.300429771525699,-4.323514618863919,-4.346549605282515,-4.369534620161111,-4.392469570293875,-4.415354379458237,-4.438188987986582,-4.460973352341223,-4.483707444692862,-4.506391252502773,-4.5290247781089175,-4.551608038316179,-4.5741410639909175,-4.5966238996599955,-4.619056603114467,-4.641439245018045,-4.663771908520499,-4.686054688876125,-4.7082876930673825,-4.730471039433814,-4.752604857306345,-4.7746892866470505,-4.796724477694471,-4.818710590614528,-4.84064779515713,-4.862536270318494,-4.8843762040092455,-4.9061677927283265,-4.92791124124273,-4.949606762273105,-4.971254576185247,-4.992854910687453,-5.014408000533779,-5.035914087233186,-5.057373418764563,-5.078786249297613,-5.100152838919589,-5.121473453367858,-5.142748363768264,-5.163977846379253,-5.185162182341725,-5.206301657434588,-5.227396561835959,-5.248447189889955,-5.2694538398790485,-5.290416813801923,-5.311336417156769,-5.332212958729969,-5.353046750390111,-5.373838106887269,-5.394587345657488,-5.415294786632402,-5.435960752053914,-5.456585566293885,-5.4771695556787545,-5.497713048319012,-5.5182163739434476,-5.538679863738128,-5.559103850190005,-5.5794886669350765,-5.5998346486110435,-5.6201421307143775,-5.640411449461709,-5.660642941655495,-5.680836944553836,-5.700993795744418,-5.721113833022473,-5.741197394272685]},{\"line\":{\"color\":\"rgba(132, 118, 202, 1.0)\",\"dash\":\"solid\",\"shape\":\"linear\",\"width\":1.3},\"mode\":\"lines\",\"name\":\"pe_seg2\",\"text\":\"\",\"type\":\"scatter\",\"x\":[0,1,2,3,4,5,6,7,8,9,10,11,12,13,14,15,16,17,18,19,20,21,22,23,24,25,26,27,28,29,30,31,32,33,34,35,36,37,38,39,40,41,42,43,44,45,46,47,48,49,50,51,52,53,54,55,56,57,58,59,60,61,62,63,64,65,66,67,68,69,70,71,72,73,74,75,76,77,78,79,80,81,82,83,84,85,86,87,88,89,90,91,92,93,94,95,96,97,98,99,100,101,102,103,104,105,106,107,108,109,110,111,112,113,114,115,116,117,118,119,120,121,122,123,124,125,126,127,128,129,130,131,132,133,134,135,136,137,138,139,140,141,142,143,144,145,146,147,148,149,150,151,152,153,154,155,156,157,158,159,160,161,162,163,164,165,166,167,168,169,170,171,172,173,174,175,176,177,178,179,180,181,182,183,184,185,186,187,188,189,190,191,192,193,194,195,196,197,198,199,200,201,202,203,204,205,206,207,208,209,210,211,212,213,214,215,216,217,218,219,220,221,222,223,224,225,226,227,228,229,230,231,232,233,234,235,236,237,238,239,240,241,242,243,244,245,246,247,248,249,250,251,252,253,254,255,256,257,258,259,260,261,262,263,264,265,266,267,268,269,270,271,272,273,274,275,276,277,278,279,280,281,282,283,284,285,286,287,288,289,290,291,292,293,294,295,296,297,298],\"y\":[-0.030920688762711604,-0.032687645274033665,-0.03454149694081637,-0.03648612334407846,-0.03852556137646616,-0.04066401072013246,-0.04290583945080116,-0.04525558976541037,-0.04771798383011227,-0.05029792974469128,-0.05300052761874012,-0.05583107575410896,-0.05879507692726365,-0.06189824476426907,-0.06514651020007116,-0.06854602801268837,-0.07210318342174617,-0.07582459873954363,-0.07971714006151938,-0.08378792398156097,-0.08804432431611524,-0.09249397881944428,-0.09714479587070768,-0.10200496111175808,-0.10708294401268394,-0.11238750434014455,-0.11792769850150309,-0.12371288573560454,-0.12975273411878951,-0.13605722635243406,-0.14263666529585486,-0.14950167920595533,-0.1566632266424162,-0.16413260099459634,-0.1719214345836496,-0.18004170229062086,-0.18850572465855775,-0.19732617041388556,-0.20651605834955736,-0.21608875850975087,-0.22605799261320286,-0.23643783364965112,-0.24724270458136802,-0.2584873760793731,-0.27018696322170915,-0.28235692107916105,-0.2950130391120457,-0.30817143430018257,-0.3218485429270715,-0.3360611109384679,-0.3508261827952762,-0.3661610887407703,-0.38208343040289117,-0.39861106465362073,-0.41576208564939926,-0.433554804979188,-0.45200772985024745,-0.47113953924592483,-0.4909690579949521,-0.5115152286978173,-0.5327970814629102,-0.5548337014132789,-0.5776441939340574,-0.601247647641001,-0.6256630950620495,-0.650909471036495,-0.6770055688501618,-0.7039699941399709,-0.731821116617363,-0.7605770196772522,-0.7902554479773831,-0.8208737530921625,-0.8524488373650149,-0.88499709610413,-0.9185343582877608,-0.9530758259670716,-0.9886360125765329,-1.025228680383954,-1.0628667773341154,-1.101562373561434,-1.1413265978678118,-1.1821695744816247,-1.2241003604322367,-1.2671268838913834,-1.3112558838477135,-1.3564928514936103,-1.4028419737136666,-1.450306079071665,-1.4988865866972558,-1.548583458474537,-1.5993951549321133,-1.651318595227823,-1.7043491216109237,-1.7584804687300635,-1.8137047381367544,-1.870012378311227,-1.9273921705106751,-1.9858312207088993,-2.045314957861596,-2.105827138693112,-2.1673498591587625,-2.2298635726920892,-2.2933471152992673,-2.357777737513525,-2.423131143171646,-2.4893815349227926,-2.556501666327745,-2.624462900354624,-2.693235274026174,-2.762787568924027,-2.8330873872079763,-2.9041012327635314,-2.9757945970496618,-3.0481320491810076,-3.1210773297456145,-3.1945934478307505,-3.2686427807058553,-3.3431871755936573,-3.4181880529479627,-3.493606510649718,-3.5694034285318383,-3.64553957264777,-3.7219756987087185,-3.7986726541297697,-3.8755914781454637,-3.952693499480244,-4.029940431088484,-4.107294461511738,-4.1847183424371375,-4.26217547207995,-4.3396299740545015,-4.417046771440653,-4.494391655797045,-4.571631350916893,-4.648733571166719,-4.725667074292651,-4.802401708621968,-4.878908454629547,-4.95515946087882,-5.031128074384868,-5.106788865482783,-5.182117647317404,-5.257091490100493,-5.331688730308636,-5.4058889750190735,-5.479673101601611,-5.553023253002518,-5.625922828871019,-5.698356472790609,-5.770310055886219,-5.841770657084183,-5.912726540305331,-5.983167128872323,-6.053082977411089,-6.122465741522583,-6.19130814549586,-6.259603948326444,-6.327347908295479,-6.394535746355425,-6.461164108557395,-6.527230527743538,-6.592733384715604,-6.657671869078042,-6.722045939940831,-6.7858562866539796,-6.84910428973213,-6.911791982114472,-6.973922010891946,-7.035497599620883,-7.096522511329625,-7.157001012312561,-7.216937836794331,-7.276338152535886,-7.335207527443397,-7.393551897231118,-7.45137753417986,-7.508691017023951,-7.565499201991485,-7.621809195014972,-7.67762832512272,-7.732964119014888,-7.78782427682234,-7.842216649041354,-7.896149214632441,-7.949630060267561,-8.00266736070622,-8.055269360277785,-8.107444355444695,-8.159200678418715,-8.210546681800622,-8.261490724211864,-8.31204115688563,-8.362206311183682,-8.411994487004518,-8.461413942048077,-8.510472881901778,-8.559179450912794,-8.607541723811433,-8.655567698050806,-8.70326528682844,-8.750642312755934,-8.797706502143473,-8.84446547986667,-8.890926764784052,-8.937097765674405,-8.98298577766402,-9.028597979114934,-9.073941428946176,-9.119023064361112,-9.163849698954966,-9.208428021177596,-9.252764593127756,-9.296865849655946,-9.340738097754166,-9.384387516211701,-9.427820155517198,-9.471041937988252,-9.514058658110601,-9.556875983070025,-9.599499453460925,-9.641934484156417,-9.684186365325667,-9.726260263584921,-9.768161223269594,-9.809894167815399,-9.851463901237372,-9.89287510969619,-9.934132363141952,-9.975240117026221,-10.016202714073646,-10.057024386105173,-10.09770925590531,-10.138261339126496,-10.178684546224083,-10.218982684415913,-10.259159459660935,-10.299218478651705,-10.33916325081602,-10.378997190323327,-10.41872361809182,-10.458345763792625,-10.497866767847611,-10.537289683417788,-10.576617478379452,-10.615853037285532,-10.654999163309862,-10.694058580172202,-10.733033934042243,-10.771927795420844,-10.81074266099703,-10.84948095547947,-10.888145033401154,-10.926737180896449,-10.965259617449465,-11.00371449761312,-11.0421039126982,-11.080429892431944,-11.118694406585716,-11.156899366571428,-11.195046627006514,-11.233137987247249,-11.271175192890379,-11.309159937243026,-11.347093862760854,-11.384978562454705,-11.42281558126575,-11.46060641740941,-11.49835252368826,-11.536055308774179,-11.573716138460101,-11.61133633688163,-11.648917187708946,-11.686459935309367,-11.723965785880967,-11.76143590855769,-11.798871436486397,-11.836273467876307,-11.8736430670213,-11.910981265295554,-11.948289062123012,-11.985567425921154,-12.022817295019617,-12.060039578554093,-12.097235157336058,-12.134404884698846,-12.171549587320518,-12.208670066024101,-12.245767096555605,-12.28284143034044,-12.319893795218597,-12.356924896159198,-12.393935415954813,-12.430926015896087,-12.467897336427145,-12.504849997782182,-12.541784600603803,-12.578701726543501,-12.615601938844737,-12.652485782909077]},{\"line\":{\"color\":\"rgba(101, 101, 101, 1.0)\",\"dash\":\"solid\",\"shape\":\"linear\",\"width\":1.3},\"mode\":\"lines\",\"name\":\"pe_seg0\",\"text\":\"\",\"type\":\"scatter\",\"x\":[0,1,2,3,4,5,6,7,8,9,10,11,12,13,14,15,16,17,18,19,20,21,22,23,24,25,26,27,28,29,30,31,32,33,34,35,36,37,38,39,40,41,42,43,44,45,46,47,48,49,50,51,52,53,54,55,56,57,58,59,60,61,62,63,64,65,66,67,68,69,70,71,72,73,74,75,76,77,78,79,80,81,82,83,84,85,86,87,88,89,90,91,92,93,94,95,96,97,98,99,100,101,102,103,104,105,106,107,108,109,110,111,112,113,114,115,116,117,118,119,120,121,122,123,124,125,126,127,128,129,130,131,132,133,134,135,136,137,138,139,140,141,142,143,144,145,146,147,148,149,150,151,152,153,154,155,156,157,158,159,160,161,162,163,164,165,166,167,168,169,170,171,172,173,174,175,176,177,178,179,180,181,182,183,184,185,186,187,188,189,190,191,192,193,194,195,196,197,198,199,200,201,202,203,204,205,206,207,208,209,210,211,212,213,214,215,216,217,218,219,220,221,222,223,224,225,226,227,228,229,230,231,232,233,234,235,236,237,238,239,240,241,242,243,244,245,246,247,248,249,250,251,252,253,254,255,256,257,258,259,260,261,262,263,264,265,266,267,268,269,270,271,272,273,274,275,276,277,278,279,280,281,282,283,284,285,286,287,288,289,290,291,292,293,294,295,296,297,298],\"y\":[-0.2111693570867855,-0.2177394607885805,-0.2244173010034876,-0.23120366022607017,-0.23809930626749032,-0.24510499174640316,-0.2522214535816252,-0.25944941248706416,-0.26678957246940815,-0.27424262032907426,-0.2818092251649276,-0.2894900378832829,-0.2972856907117078,-0.3051967967181497,-0.3132239493359129,-0.3213677218950103,-0.32962866716042305,-0.3380073168777957,-0.3465041813270979,-0.35511974888478015,-0.3638544855949525,-0.37270883475011163,-0.3816832164819327,-0.3907780273626502,-0.39999364001753174,-0.40933040274895466,-0.4187886391725809,-0.4283686478661224,-0.4380707020311744,-0.4478950491685914,-0.4578419107678631,-0.4679114820109399,-0.47810393149094377,-0.4884194009461865,-0.49885800500990274,-0.5094198309760914,-0.5201049385818416,-0.5309133598065033,-0.5418450986880416,-0.5529001311569048,-0.5640784048877037,-0.5753798391689902,-0.5868043247914001,-0.5983517239544,-0.6100218701918608,-0.6218145683166577,-0.6337295943844701,-0.6457666956769362,-0.6579255907042881,-0.670205969227576,-0.6826074923005561,-0.6951297923313038,-0.7077724731635758,-0.7205351101779313,-0.7334172504125865,-0.7464184127039635,-0.7595380878468532,-0.7727757387741028,-0.7861308007557,-0.7996026816171098,-0.8131907619766873,-0.826894395501971,-0.8407129091846334,-0.8546456036338403,-0.8686917533877501,-0.8828506072428545,-0.8971213886008504,-0.9115032958326929,-0.9259955026594754,-0.9405971585497497,-0.955307389132881,-0.9701252966280178,-0.9850499602882287,-1.0000804368593432,-1.0152157610530272,-1.0304549460335817,-1.0457969839179646,-1.0612408462885035,-1.0767854847177565,-1.0924298313049714,-1.1081727992235726,-1.1240132832791,-1.1399501604770128,-1.1559822905997577,-1.1721085167925027,-1.1883276661569195,-1.2046385503523982,-1.2210399662040732,-1.2375306963170336,-1.2541095096960873,-1.270775162370448,-1.2875263980227172,-1.3043619486215272,-1.3212805350572128,-1.3382808677798919,-1.3553616474393244,-1.3725215655259337,-1.3897593050123733,-1.4070735409950366,-1.424462941334901,-1.4419261672971206,-1.4594618741887813,-1.4770687119942412,-1.494745326007498,-1.512490357461026,-1.5303024441505455,-1.548180221055193,-1.5661223209525825,-1.5841273750282525,-1.6021940134790096,-1.6203208661097082,-1.6385065629229965,-1.6567497347015976,-1.6750490135826956,-1.6934030336240233,-1.7118104313612605,-1.7302698463563637,-1.7487799217364801,-1.7673393047231019,-1.7859466471511374,-1.804600605977608,-1.8232998437796717,-1.842043029241718,-1.860828837631282,-1.8796559512635478,-1.8985230599542255,-1.917428861460619,-1.9363720619106926,-1.9553513762199914,-1.9743655284962696,-1.9934132524316996,-2.0124932916825635,-2.031604400236331,-2.0507453427660502,-2.0699148949720056,-2.089111843910584,-2.108334988310342,-2.127583138875254,-2.1468551185751474,-2.1661497629233493,-2.18546592024157,-2.2048024519120824,-2.224158232617243,-2.243532150566442,-2.2629231077105576,-2.2823300199440135,-2.301751817294557,-2.3211874441008633,-2.340635859178106,-2.360096035971629,-2.3795669626988736,-2.3990476424797085,-2.418537093455341,-2.438034348895984,-2.4575384572974412,-2.4770484824668273,-2.496563503597599,-2.516082615334106,-2.535604927825868,-2.5551295667717846,-2.5746556734545045,-2.594182404765171,-2.6137089332187644,-2.633234446960267,-2.6527581497618993,-2.6722792610116457,-2.691797015693302,-2.7113106643582947,-2.7308194730895066,-2.7503227234573453,-2.769819712468301,-2.789309752506222,-2.808792171266571,-2.828266311683883,-2.847731531852669,-2.867187204942017,-2.8866327191041052,-2.906067477376896,-2.9254908975812133,-2.9449024122124525,-2.964301468327156,-2.983687527424683,-3.0030600653241835,-3.02241857203712,-3.0417625516355473,-3.0610915221163717,-3.0804050152617966,-3.0997025764961696,-3.1189837647394465,-3.1382481522574572,-3.157495324509192,-3.1767248799912853,-3.195936430079913,-3.2151295988702677,-3.2343040230138067,-3.253459351553453,-3.2725952457569214,-3.2917113789483463,-3.31080743633837,-3.329883114852856,-3.348938122960393,-3.3679721804987413,-3.386985018500356,-3.4059763790171558,-3.4249460149446587,-3.4438936898456354,-3.4628191777734045,-3.4817222630948894,-3.5006027403135844,-3.519460413892524,-3.5382950980773873,-3.5571066167198344,-3.575894803101195,-3.594659499756607,-3.613400558299695,-3.632117839247898,-3.650811211848524,-3.6694805539056294,-3.6881257516078003,-3.706746699356903,-3.725343299597911,-3.743915462649847,-3.7624631065379317,-3.7809861568269834,-3.7994845464561493,-3.8179582155750262,-3.8364071113812024,-3.854831187959301,-3.873230406121554,-3.8916047332499732,-3.9099541431401272,-3.928278615846605,-3.946578137530168,-3.9648527003066585,-3.9831023020976577,-4.001326946482962,-4.01952664255487,-4.037701404774341,-4.055851252829007,-4.073976211493087,-4.092076310489215,-4.110151584352195,-4.128202072294688,-4.1462278180748635,-4.164228869866006,-4.182205280128094,-4.200157105481354,-4.218084406581803,-4.235987247998763,-4.253865698094371,-4.271719828905081,-4.289549716025123,-4.307355438491982,-4.325137078673823,-4.342894722158908,-4.360628457646963,-4.37833837684252,-4.396024574350193,-4.413687147571908,-4.4313261966060455,-4.448941824148516,-4.466534135395732,-4.484103237949476,-4.50164924172364,-4.519172258852826,-4.536672403602815,-4.554149792282836,-4.571604543159669,-4.589036776373538,-4.606446613855794,-4.623834179248336,-4.641199597824799,-4.658542996413445,-4.675864503321774,-4.693164248262806,-4.710442362283026,-4.727698977691978,-4.74493422799348,-4.762148247818433,-4.7793411728592154,-4.796513139805631,-4.813664286282396,-4.8307947507881375,-4.847904672635888,-4.864994191895047,-4.882063449334794,-4.899112586368923,-4.916141745002091,-4.933151067777435,-4.950140697725563,-4.967110778314874,-4.984061453403192,-5.000992867190709,-5.017905164174179,-5.034798489102383,-5.051672986932799,-5.068528802789508,-5.085366081922255,-5.102184969666702]},{\"line\":{\"color\":\"rgba(251, 193, 94, 1.0)\",\"dash\":\"solid\",\"shape\":\"linear\",\"width\":1.3},\"mode\":\"lines\",\"name\":\"pe_seg3\",\"text\":\"\",\"type\":\"scatter\",\"x\":[0,1,2,3,4,5,6,7,8,9,10,11,12,13,14,15,16,17,18,19,20,21,22,23,24,25,26,27,28,29,30,31,32,33,34,35,36,37,38,39,40,41,42,43,44,45,46,47,48,49,50,51,52,53,54,55,56,57,58,59,60,61,62,63,64,65,66,67,68,69,70,71,72,73,74,75,76,77,78,79,80,81,82,83,84,85,86,87,88,89,90,91,92,93,94,95,96,97,98,99,100,101,102,103,104,105,106,107,108,109,110,111,112,113,114,115,116,117,118,119,120,121,122,123,124,125,126,127,128,129,130,131,132,133,134,135,136,137,138,139,140,141,142,143,144,145,146,147,148,149,150,151,152,153,154,155,156,157,158,159,160,161,162,163,164,165,166,167,168,169,170,171,172,173,174,175,176,177,178,179,180,181,182,183,184,185,186,187,188,189,190,191,192,193,194,195,196,197,198,199,200,201,202,203,204,205,206,207,208,209,210,211,212,213,214,215,216,217,218,219,220,221,222,223,224,225,226,227,228,229,230,231,232,233,234,235,236,237,238,239,240,241,242,243,244,245,246,247,248,249,250,251,252,253,254,255,256,257,258,259,260,261,262,263,264,265,266,267,268,269,270,271,272,273,274,275,276,277,278,279,280,281,282,283,284,285,286,287,288,289,290,291,292,293,294,295,296,297,298],\"y\":[-0.1680420018535566,-0.17296656693418727,-0.17796152815794206,-0.1830273602723222,-0.1881645323238924,-0.1933735074625831,-0.19865474274587938,-0.2040086889430144,-0.2094357903392863,-0.21493648454061987,-0.22051120227849655,-0.22616036721537683,-0.23188439575074382,-0.23768369682789364,-0.2435586717416043,-0.2495097139468146,-0.25553720886844355,-0.26164153371248694,-0.2678230572785217,-0.2740821397737586,-0.2804191326287761,-0.2868343783150726,-0.2933282101645773,-0.2999009521912544,-0.30655291891494113,-0.31328441518755634,-0.3200957360218192,-0.3269871664226144,-0.33395898122114326,-0.34101144491199603,-0.348144811493283,-0.3553593243099602,-0.36265521590048244,-0.37003270784691894,-0.377492010628664,-0.3850333234798696,-0.39265683425073516,-0.4003627192727748,-0.4081511432281922,-0.4160222590234839,-0.42397620766739236,-0.4320131181533258,-0.44013310734636363,-0.4483362798749556,-0.4566227280274296,-0.4649925316534097,-0.4734457580702545,-0.48198246197460887,-0.49060268535917095,-0.4993064574347646,-0.5080937945578095,-0.5169647001632682,-0.5259191647031598,-0.5349571655907084,-0.544078667150205,-0.5532836205726495,-0.5625719638772322,-0.5719436218787224,-0.5813985061608086,-0.5909365150554468,-0.6005575336282559,-0.6102614336700052,-0.6200480736942212,-0.6299172989409492,-0.6398689413866889,-0.6499028197605256,-0.6600187395664654,-0.6702164931119899,-0.680495859542824,-0.690856604883919,-0.7012984820866407,-0.7118212310821501,-0.7224245788409518,-0.7331082394385937,-0.7438719141274767,-0.7547152914147505,-0.7656380471462421,-0.776639844596379,-0.7877203345640512,-0.7988791554743535,-0.8101159334861494,-0.8214302826053852,-0.8328218048040816,-0.8442900901449284,-0.8558347169113927,-0.8674552517432628,-0.8791512497775238,-0.8909222547944775,-0.9027677993690002,-0.9146874050268329,-0.9266805824057955,-0.9387468314218087,-0.9508856414396059,-0.9630964914480151,-0.9753788502396801,-0.987732176595098,-1.0001559194708338,-1.0126495181917812,-1.0252124026473275,-1.037843993491282,-1.0505437023454245,-1.063310932006521,-1.0761450766566665,-1.0890455220767934,-1.102011645863199,-1.1150428176469336,-1.12813839931589,-1.1412977452394408,-1.1545202024954593,-1.1678051110995626,-1.1811518042364242,-1.1945596084929744,-1.2080278440933496,-1.2215558251354075,-1.2351428598286542,-1.2487882507334154,-1.2624912950010967,-1.276251284615357,-1.2900675066340435,-1.303939243431722,-1.3178657729426442,-1.3318463689039903,-1.3458803010992282,-1.3599668356014372,-1.3741052350164336,-1.388294758725553,-1.402534663127929,-1.416824201882125,-1.4311626261469703,-1.445549184821454,-1.4599831247835302,-1.4744636911277078,-1.488990127401267,-1.5035616758389885,-1.5181775775962474,-1.5328370729803489,-1.547539401679987,-1.5622838029926898,-1.5770695160501418,-1.5918957800412643,-1.6067618344329406,-1.6216669191882813,-1.6366102749823146,-1.65159114341501,-1.6666087672215306,-1.681662390479625,-1.6967512588140587,-1.7118746195980068,-1.7270317221513236,-1.742221817935605,-1.757444160745971,-1.7726980068994964,-1.7879826154202236,-1.8032972482206917,-1.818641170279919,-1.8340136498177853,-1.849413958465769,-1.8648413714339758,-1.880295167674423,-1.8957746300405376,-1.9112790454428337,-1.9268077050007277,-1.9423599041904682,-1.95793494298915,-1.9735321260147956,-1.9891507626624803,-2.0047901672364827,-2.0204496590784538,-2.036128562691594,-2.051826207860835,-2.0675419297690176,-2.083275069109067,-2.0990249721921796,-2.1147909910520224,-2.130572483544941,-2.146368813446215,-2.162179350542357,-2.17800347071948,-2.1938405560477547,-2.209689994861973,-2.225551181838258,-2.241423518066939,-2.2573064111216152,-2.273199275124457,-2.2891015308077685,-2.305012605571854,-2.320931933539226,-2.336858955605183,-2.3527931194848297,-2.368733879756554,-2.3846806979020183,-2.4006330423427147,-2.4165903884731326,-2.4325522186905846,-2.4485180224217484,-2.4644872961459647,-2.4804595434153667,-2.4964342748718784,-2.51241100826114,-2.528389268443423,-2.5443685874015887,-2.5603485042461562,-2.576328565217519,-2.592308323685397,-2.6082873401455564,-2.6242651822138874,-2.640241424617871,-2.656215649185519,-2.672187444831832,-2.6881564075428557,-2.704122140357379,-2.720084253346343,-2.736042363590027,-2.75199609515307,-2.767945079057389,-2.783888953253049,-2.799827362587164,-2.8157599587708746,-2.8316864003444664,-2.8476063526406925,-2.86351948774636,-2.879425484462242,-2.8953240282613635,-2.9112148112457414,-2.927097532101607,-2.942971896053206,-2.958837614815196,-2.9746944065437253,-2.9905419957862285,-3.0063801134300188,-3.022208496649705,-3.0380268888535014,-3.0538350396284812,-3.069632704684832,-3.085419645799149,-3.101195630756831,-3.1169604332936163,-3.132713833036334,-3.1484556154428796,-3.164185571741488,-3.1799034988693506,-3.195609199410614,-3.2113024815338016,-3.2269831589287112,-3.242651050742826,-3.2583059815172875,-3.273947781122456,-3.289576284693116,-3.3051913325633526,-3.3207927702011517,-3.336380448142741,-3.3519542219267264,-3.3675139520280477,-3.3830595037917974,-3.3985907473669275,-3.414107557639879,-3.4296098141681703,-3.4450974011139732,-3.460570207177704,-3.476028125531658,-3.491471053753719,-3.5068988937611785,-3.5223115517446684,-3.5377089381022553,-3.553090967373711,-3.5684575581749884,-3.583808633132916,-3.5991441188201425,-3.614463945690348,-3.629768048013753,-3.6450563638129236,-3.660328834798914,-3.675585406307751,-3.690826027237287,-3.7060506499844306,-3.721259230382773,-3.7364517276406337,-3.7516281042795225,-3.7667883260730606,-3.7819323619863305,-3.797060184115721,-3.812171767629237,-3.827267090707297,-3.842346134484046,-3.857408882989167,-3.8724553230902257,-3.8874854444355416,-3.9024992393975904,-3.9174967030169725,-3.9324778329469234,-3.947442629398385,-3.9623910950856542,-3.977323235172598,-3.9922390572194546,-4.007138571130219,-4.022021789100606,-4.0368887255666275,-4.051739397153754,-4.066573822626674]}],                        {\"legend\":{\"bgcolor\":\"#FFFFFF\",\"font\":{\"color\":\"#666666\"}},\"paper_bgcolor\":\"#FFFFFF\",\"plot_bgcolor\":\"#E5E5E5\",\"template\":{\"data\":{\"bar\":[{\"error_x\":{\"color\":\"#2a3f5f\"},\"error_y\":{\"color\":\"#2a3f5f\"},\"marker\":{\"line\":{\"color\":\"#E5ECF6\",\"width\":0.5},\"pattern\":{\"fillmode\":\"overlay\",\"size\":10,\"solidity\":0.2}},\"type\":\"bar\"}],\"barpolar\":[{\"marker\":{\"line\":{\"color\":\"#E5ECF6\",\"width\":0.5},\"pattern\":{\"fillmode\":\"overlay\",\"size\":10,\"solidity\":0.2}},\"type\":\"barpolar\"}],\"carpet\":[{\"aaxis\":{\"endlinecolor\":\"#2a3f5f\",\"gridcolor\":\"white\",\"linecolor\":\"white\",\"minorgridcolor\":\"white\",\"startlinecolor\":\"#2a3f5f\"},\"baxis\":{\"endlinecolor\":\"#2a3f5f\",\"gridcolor\":\"white\",\"linecolor\":\"white\",\"minorgridcolor\":\"white\",\"startlinecolor\":\"#2a3f5f\"},\"type\":\"carpet\"}],\"choropleth\":[{\"colorbar\":{\"outlinewidth\":0,\"ticks\":\"\"},\"type\":\"choropleth\"}],\"contour\":[{\"colorbar\":{\"outlinewidth\":0,\"ticks\":\"\"},\"colorscale\":[[0.0,\"#0d0887\"],[0.1111111111111111,\"#46039f\"],[0.2222222222222222,\"#7201a8\"],[0.3333333333333333,\"#9c179e\"],[0.4444444444444444,\"#bd3786\"],[0.5555555555555556,\"#d8576b\"],[0.6666666666666666,\"#ed7953\"],[0.7777777777777778,\"#fb9f3a\"],[0.8888888888888888,\"#fdca26\"],[1.0,\"#f0f921\"]],\"type\":\"contour\"}],\"contourcarpet\":[{\"colorbar\":{\"outlinewidth\":0,\"ticks\":\"\"},\"type\":\"contourcarpet\"}],\"heatmap\":[{\"colorbar\":{\"outlinewidth\":0,\"ticks\":\"\"},\"colorscale\":[[0.0,\"#0d0887\"],[0.1111111111111111,\"#46039f\"],[0.2222222222222222,\"#7201a8\"],[0.3333333333333333,\"#9c179e\"],[0.4444444444444444,\"#bd3786\"],[0.5555555555555556,\"#d8576b\"],[0.6666666666666666,\"#ed7953\"],[0.7777777777777778,\"#fb9f3a\"],[0.8888888888888888,\"#fdca26\"],[1.0,\"#f0f921\"]],\"type\":\"heatmap\"}],\"heatmapgl\":[{\"colorbar\":{\"outlinewidth\":0,\"ticks\":\"\"},\"colorscale\":[[0.0,\"#0d0887\"],[0.1111111111111111,\"#46039f\"],[0.2222222222222222,\"#7201a8\"],[0.3333333333333333,\"#9c179e\"],[0.4444444444444444,\"#bd3786\"],[0.5555555555555556,\"#d8576b\"],[0.6666666666666666,\"#ed7953\"],[0.7777777777777778,\"#fb9f3a\"],[0.8888888888888888,\"#fdca26\"],[1.0,\"#f0f921\"]],\"type\":\"heatmapgl\"}],\"histogram\":[{\"marker\":{\"pattern\":{\"fillmode\":\"overlay\",\"size\":10,\"solidity\":0.2}},\"type\":\"histogram\"}],\"histogram2d\":[{\"colorbar\":{\"outlinewidth\":0,\"ticks\":\"\"},\"colorscale\":[[0.0,\"#0d0887\"],[0.1111111111111111,\"#46039f\"],[0.2222222222222222,\"#7201a8\"],[0.3333333333333333,\"#9c179e\"],[0.4444444444444444,\"#bd3786\"],[0.5555555555555556,\"#d8576b\"],[0.6666666666666666,\"#ed7953\"],[0.7777777777777778,\"#fb9f3a\"],[0.8888888888888888,\"#fdca26\"],[1.0,\"#f0f921\"]],\"type\":\"histogram2d\"}],\"histogram2dcontour\":[{\"colorbar\":{\"outlinewidth\":0,\"ticks\":\"\"},\"colorscale\":[[0.0,\"#0d0887\"],[0.1111111111111111,\"#46039f\"],[0.2222222222222222,\"#7201a8\"],[0.3333333333333333,\"#9c179e\"],[0.4444444444444444,\"#bd3786\"],[0.5555555555555556,\"#d8576b\"],[0.6666666666666666,\"#ed7953\"],[0.7777777777777778,\"#fb9f3a\"],[0.8888888888888888,\"#fdca26\"],[1.0,\"#f0f921\"]],\"type\":\"histogram2dcontour\"}],\"mesh3d\":[{\"colorbar\":{\"outlinewidth\":0,\"ticks\":\"\"},\"type\":\"mesh3d\"}],\"parcoords\":[{\"line\":{\"colorbar\":{\"outlinewidth\":0,\"ticks\":\"\"}},\"type\":\"parcoords\"}],\"pie\":[{\"automargin\":true,\"type\":\"pie\"}],\"scatter\":[{\"marker\":{\"colorbar\":{\"outlinewidth\":0,\"ticks\":\"\"}},\"type\":\"scatter\"}],\"scatter3d\":[{\"line\":{\"colorbar\":{\"outlinewidth\":0,\"ticks\":\"\"}},\"marker\":{\"colorbar\":{\"outlinewidth\":0,\"ticks\":\"\"}},\"type\":\"scatter3d\"}],\"scattercarpet\":[{\"marker\":{\"colorbar\":{\"outlinewidth\":0,\"ticks\":\"\"}},\"type\":\"scattercarpet\"}],\"scattergeo\":[{\"marker\":{\"colorbar\":{\"outlinewidth\":0,\"ticks\":\"\"}},\"type\":\"scattergeo\"}],\"scattergl\":[{\"marker\":{\"colorbar\":{\"outlinewidth\":0,\"ticks\":\"\"}},\"type\":\"scattergl\"}],\"scattermapbox\":[{\"marker\":{\"colorbar\":{\"outlinewidth\":0,\"ticks\":\"\"}},\"type\":\"scattermapbox\"}],\"scatterpolar\":[{\"marker\":{\"colorbar\":{\"outlinewidth\":0,\"ticks\":\"\"}},\"type\":\"scatterpolar\"}],\"scatterpolargl\":[{\"marker\":{\"colorbar\":{\"outlinewidth\":0,\"ticks\":\"\"}},\"type\":\"scatterpolargl\"}],\"scatterternary\":[{\"marker\":{\"colorbar\":{\"outlinewidth\":0,\"ticks\":\"\"}},\"type\":\"scatterternary\"}],\"surface\":[{\"colorbar\":{\"outlinewidth\":0,\"ticks\":\"\"},\"colorscale\":[[0.0,\"#0d0887\"],[0.1111111111111111,\"#46039f\"],[0.2222222222222222,\"#7201a8\"],[0.3333333333333333,\"#9c179e\"],[0.4444444444444444,\"#bd3786\"],[0.5555555555555556,\"#d8576b\"],[0.6666666666666666,\"#ed7953\"],[0.7777777777777778,\"#fb9f3a\"],[0.8888888888888888,\"#fdca26\"],[1.0,\"#f0f921\"]],\"type\":\"surface\"}],\"table\":[{\"cells\":{\"fill\":{\"color\":\"#EBF0F8\"},\"line\":{\"color\":\"white\"}},\"header\":{\"fill\":{\"color\":\"#C8D4E3\"},\"line\":{\"color\":\"white\"}},\"type\":\"table\"}]},\"layout\":{\"annotationdefaults\":{\"arrowcolor\":\"#2a3f5f\",\"arrowhead\":0,\"arrowwidth\":1},\"autotypenumbers\":\"strict\",\"coloraxis\":{\"colorbar\":{\"outlinewidth\":0,\"ticks\":\"\"}},\"colorscale\":{\"diverging\":[[0,\"#8e0152\"],[0.1,\"#c51b7d\"],[0.2,\"#de77ae\"],[0.3,\"#f1b6da\"],[0.4,\"#fde0ef\"],[0.5,\"#f7f7f7\"],[0.6,\"#e6f5d0\"],[0.7,\"#b8e186\"],[0.8,\"#7fbc41\"],[0.9,\"#4d9221\"],[1,\"#276419\"]],\"sequential\":[[0.0,\"#0d0887\"],[0.1111111111111111,\"#46039f\"],[0.2222222222222222,\"#7201a8\"],[0.3333333333333333,\"#9c179e\"],[0.4444444444444444,\"#bd3786\"],[0.5555555555555556,\"#d8576b\"],[0.6666666666666666,\"#ed7953\"],[0.7777777777777778,\"#fb9f3a\"],[0.8888888888888888,\"#fdca26\"],[1.0,\"#f0f921\"]],\"sequentialminus\":[[0.0,\"#0d0887\"],[0.1111111111111111,\"#46039f\"],[0.2222222222222222,\"#7201a8\"],[0.3333333333333333,\"#9c179e\"],[0.4444444444444444,\"#bd3786\"],[0.5555555555555556,\"#d8576b\"],[0.6666666666666666,\"#ed7953\"],[0.7777777777777778,\"#fb9f3a\"],[0.8888888888888888,\"#fdca26\"],[1.0,\"#f0f921\"]]},\"colorway\":[\"#636efa\",\"#EF553B\",\"#00cc96\",\"#ab63fa\",\"#FFA15A\",\"#19d3f3\",\"#FF6692\",\"#B6E880\",\"#FF97FF\",\"#FECB52\"],\"font\":{\"color\":\"#2a3f5f\"},\"geo\":{\"bgcolor\":\"white\",\"lakecolor\":\"white\",\"landcolor\":\"#E5ECF6\",\"showlakes\":true,\"showland\":true,\"subunitcolor\":\"white\"},\"hoverlabel\":{\"align\":\"left\"},\"hovermode\":\"closest\",\"mapbox\":{\"style\":\"light\"},\"paper_bgcolor\":\"white\",\"plot_bgcolor\":\"#E5ECF6\",\"polar\":{\"angularaxis\":{\"gridcolor\":\"white\",\"linecolor\":\"white\",\"ticks\":\"\"},\"bgcolor\":\"#E5ECF6\",\"radialaxis\":{\"gridcolor\":\"white\",\"linecolor\":\"white\",\"ticks\":\"\"}},\"scene\":{\"xaxis\":{\"backgroundcolor\":\"#E5ECF6\",\"gridcolor\":\"white\",\"gridwidth\":2,\"linecolor\":\"white\",\"showbackground\":true,\"ticks\":\"\",\"zerolinecolor\":\"white\"},\"yaxis\":{\"backgroundcolor\":\"#E5ECF6\",\"gridcolor\":\"white\",\"gridwidth\":2,\"linecolor\":\"white\",\"showbackground\":true,\"ticks\":\"\",\"zerolinecolor\":\"white\"},\"zaxis\":{\"backgroundcolor\":\"#E5ECF6\",\"gridcolor\":\"white\",\"gridwidth\":2,\"linecolor\":\"white\",\"showbackground\":true,\"ticks\":\"\",\"zerolinecolor\":\"white\"}},\"shapedefaults\":{\"line\":{\"color\":\"#2a3f5f\"}},\"ternary\":{\"aaxis\":{\"gridcolor\":\"white\",\"linecolor\":\"white\",\"ticks\":\"\"},\"baxis\":{\"gridcolor\":\"white\",\"linecolor\":\"white\",\"ticks\":\"\"},\"bgcolor\":\"#E5ECF6\",\"caxis\":{\"gridcolor\":\"white\",\"linecolor\":\"white\",\"ticks\":\"\"}},\"title\":{\"x\":0.05},\"xaxis\":{\"automargin\":true,\"gridcolor\":\"white\",\"linecolor\":\"white\",\"ticks\":\"\",\"title\":{\"standoff\":15},\"zerolinecolor\":\"white\",\"zerolinewidth\":2},\"yaxis\":{\"automargin\":true,\"gridcolor\":\"white\",\"linecolor\":\"white\",\"ticks\":\"\",\"title\":{\"standoff\":15},\"zerolinecolor\":\"white\",\"zerolinewidth\":2}}},\"title\":{\"font\":{\"color\":\"#151516\"},\"text\":\"Price Elasticity of Purchase Probability\"},\"xaxis\":{\"gridcolor\":\"#F6F6F6\",\"showgrid\":true,\"tickfont\":{\"color\":\"#666666\"},\"title\":{\"font\":{\"color\":\"#666666\"},\"text\":\"Prices\"},\"zerolinecolor\":\"#F6F6F6\"},\"yaxis\":{\"gridcolor\":\"#F6F6F6\",\"showgrid\":true,\"tickfont\":{\"color\":\"#666666\"},\"title\":{\"font\":{\"color\":\"#666666\"},\"text\":\"Elasticyti\"},\"zerolinecolor\":\"#F6F6F6\"}},                        {\"showLink\": true, \"linkText\": \"Export to plot.ly\", \"plotlyServerURL\": \"https://plot.ly\", \"responsive\": true}                    ).then(function(){\n",
       "                            \n",
       "var gd = document.getElementById('abbda91b-d745-4316-b34f-ea672a9212f8');\n",
       "var x = new MutationObserver(function (mutations, observer) {{\n",
       "        var display = window.getComputedStyle(gd).display;\n",
       "        if (!display || display === 'none') {{\n",
       "            console.log([gd, 'removed!']);\n",
       "            Plotly.purge(gd);\n",
       "            observer.disconnect();\n",
       "        }}\n",
       "}});\n",
       "\n",
       "// Listen for the removal of the full notebook cells\n",
       "var notebookContainer = gd.closest('#notebook-container');\n",
       "if (notebookContainer) {{\n",
       "    x.observe(notebookContainer, {childList: true});\n",
       "}}\n",
       "\n",
       "// Listen for the clearing of the current output cell\n",
       "var outputEl = gd.closest('.output');\n",
       "if (outputEl) {{\n",
       "    x.observe(outputEl, {childList: true});\n",
       "}}\n",
       "\n",
       "                        })                };                });            </script>        </div>"
      ]
     },
     "metadata": {},
     "output_type": "display_data"
    }
   ],
   "source": [
    "# apply model \n",
    "model_incidence_seg3 = LogisticRegression()\n",
    "model_incidence_seg3.fit(X,y)\n",
    "\n",
    "#predict_proba\n",
    "y_seg3 = model_incidence_seg3.predict_proba(df_price_range)\n",
    "purchase_seg3 = y_seg3[:][:, 1]\n",
    "pe_seg3 = model_incidence_seg3.coef_[:, 0] * price_range * (1-purchase_seg3)\n",
    "\n",
    "#results\n",
    "df_price_elasticity['pe_seg3'] = pe_seg3\n",
    "\n",
    "\n",
    "#plot\n",
    "df_price_elasticity[['means','pe_seg1', 'pe_seg2', 'pe_seg0', 'pe_seg3']].iplot(kind = 'line', xTitle = 'Prices', yTitle = 'Elasticyti', \n",
    "                          title = 'Price Elasticity of Purchase Probability')"
   ]
  },
  {
   "cell_type": "markdown",
   "id": "4d5926e9",
   "metadata": {},
   "source": [
    "### Purchase Probability with Promotion Feature"
   ]
  },
  {
   "cell_type": "markdown",
   "id": "f1a84e1a",
   "metadata": {},
   "source": [
    "#### Data Preparation"
   ]
  },
  {
   "cell_type": "code",
   "execution_count": 37,
   "id": "13b7c585",
   "metadata": {},
   "outputs": [],
   "source": [
    "y = data['Incidence']"
   ]
  },
  {
   "cell_type": "code",
   "execution_count": 38,
   "id": "2d655f92",
   "metadata": {},
   "outputs": [
    {
     "data": {
      "text/html": [
       "<div>\n",
       "<style scoped>\n",
       "    .dataframe tbody tr th:only-of-type {\n",
       "        vertical-align: middle;\n",
       "    }\n",
       "\n",
       "    .dataframe tbody tr th {\n",
       "        vertical-align: top;\n",
       "    }\n",
       "\n",
       "    .dataframe thead th {\n",
       "        text-align: right;\n",
       "    }\n",
       "</style>\n",
       "<table border=\"1\" class=\"dataframe\">\n",
       "  <thead>\n",
       "    <tr style=\"text-align: right;\">\n",
       "      <th></th>\n",
       "      <th>mean_price</th>\n",
       "      <th>mean_promo</th>\n",
       "    </tr>\n",
       "  </thead>\n",
       "  <tbody>\n",
       "    <tr>\n",
       "      <th>0</th>\n",
       "      <td>2.044</td>\n",
       "      <td>0.2</td>\n",
       "    </tr>\n",
       "    <tr>\n",
       "      <th>1</th>\n",
       "      <td>2.028</td>\n",
       "      <td>0.0</td>\n",
       "    </tr>\n",
       "    <tr>\n",
       "      <th>2</th>\n",
       "      <td>2.028</td>\n",
       "      <td>0.0</td>\n",
       "    </tr>\n",
       "    <tr>\n",
       "      <th>3</th>\n",
       "      <td>2.028</td>\n",
       "      <td>0.0</td>\n",
       "    </tr>\n",
       "    <tr>\n",
       "      <th>4</th>\n",
       "      <td>2.030</td>\n",
       "      <td>0.0</td>\n",
       "    </tr>\n",
       "  </tbody>\n",
       "</table>\n",
       "</div>"
      ],
      "text/plain": [
       "   mean_price  mean_promo\n",
       "0       2.044         0.2\n",
       "1       2.028         0.0\n",
       "2       2.028         0.0\n",
       "3       2.028         0.0\n",
       "4       2.030         0.0"
      ]
     },
     "execution_count": 38,
     "metadata": {},
     "output_type": "execute_result"
    }
   ],
   "source": [
    "X = pd.DataFrame()\n",
    "\n",
    "#calculate mean price\n",
    "X['mean_price'] = (data['Price_1'] + data['Price_2'] + data['Price_3'] +\n",
    "                  data['Price_4'] + data['Price_5'] )/5\n",
    "\n",
    "#calculate mean promotion\n",
    "X['mean_promo'] = (data['Promotion_1'] + data['Promotion_2'] + data['Promotion_3'] +\n",
    "                  data['Promotion_4'] + data['Promotion_5'] )/5\n",
    "X.head()\n"
   ]
  },
  {
   "cell_type": "markdown",
   "id": "66dc0a5e",
   "metadata": {},
   "source": [
    "### Model estimation"
   ]
  },
  {
   "cell_type": "code",
   "execution_count": 39,
   "id": "8924edb6",
   "metadata": {},
   "outputs": [
    {
     "data": {
      "text/plain": [
       "array([[-1.49402641,  0.56152541]])"
      ]
     },
     "execution_count": 39,
     "metadata": {},
     "output_type": "execute_result"
    }
   ],
   "source": [
    "model = LogisticRegression()\n",
    "model.fit(X, y)\n",
    "model.coef_"
   ]
  },
  {
   "cell_type": "markdown",
   "id": "7df38d5e",
   "metadata": {},
   "source": [
    "#### Price Elasticity with Promotion"
   ]
  },
  {
   "cell_type": "code",
   "execution_count": 40,
   "id": "5549bc98",
   "metadata": {},
   "outputs": [
    {
     "data": {
      "text/html": [
       "<div>\n",
       "<style scoped>\n",
       "    .dataframe tbody tr th:only-of-type {\n",
       "        vertical-align: middle;\n",
       "    }\n",
       "\n",
       "    .dataframe tbody tr th {\n",
       "        vertical-align: top;\n",
       "    }\n",
       "\n",
       "    .dataframe thead th {\n",
       "        text-align: right;\n",
       "    }\n",
       "</style>\n",
       "<table border=\"1\" class=\"dataframe\">\n",
       "  <thead>\n",
       "    <tr style=\"text-align: right;\">\n",
       "      <th></th>\n",
       "      <th>Price_Range</th>\n",
       "    </tr>\n",
       "  </thead>\n",
       "  <tbody>\n",
       "    <tr>\n",
       "      <th>0</th>\n",
       "      <td>0.50</td>\n",
       "    </tr>\n",
       "    <tr>\n",
       "      <th>1</th>\n",
       "      <td>0.51</td>\n",
       "    </tr>\n",
       "    <tr>\n",
       "      <th>2</th>\n",
       "      <td>0.52</td>\n",
       "    </tr>\n",
       "    <tr>\n",
       "      <th>3</th>\n",
       "      <td>0.53</td>\n",
       "    </tr>\n",
       "    <tr>\n",
       "      <th>4</th>\n",
       "      <td>0.54</td>\n",
       "    </tr>\n",
       "  </tbody>\n",
       "</table>\n",
       "</div>"
      ],
      "text/plain": [
       "   Price_Range\n",
       "0         0.50\n",
       "1         0.51\n",
       "2         0.52\n",
       "3         0.53\n",
       "4         0.54"
      ]
     },
     "execution_count": 40,
     "metadata": {},
     "output_type": "execute_result"
    }
   ],
   "source": [
    "df_price_elasticity_promotion = pd.DataFrame(price_range, columns=['Price_Range'])\n",
    "df_price_elasticity_promotion.head()"
   ]
  },
  {
   "cell_type": "code",
   "execution_count": 41,
   "id": "312bde58",
   "metadata": {},
   "outputs": [],
   "source": [
    "# Calcularemos las elasticidades del precio de la probabilidad de compra cuando supongamos que hay una promoción en cada punto de precio.\n",
    "df_price_elasticity_promotion['promotion'] =1"
   ]
  },
  {
   "cell_type": "code",
   "execution_count": 42,
   "id": "7136512e",
   "metadata": {},
   "outputs": [],
   "source": [
    "y_promotion = model.predict_proba(df_price_elasticity_promotion)"
   ]
  },
  {
   "cell_type": "code",
   "execution_count": 43,
   "id": "5a65db7d",
   "metadata": {},
   "outputs": [],
   "source": [
    "#select the probailiti colum 1\n",
    "promo = y_promotion[:,1]\n",
    "\n",
    "price_elasticyti_promo = (model.coef_[:, 0] * price_range) * (1-promo)"
   ]
  },
  {
   "cell_type": "code",
   "execution_count": 44,
   "id": "e2c04ed4",
   "metadata": {},
   "outputs": [
    {
     "data": {
      "text/html": [
       "<div>\n",
       "<style scoped>\n",
       "    .dataframe tbody tr th:only-of-type {\n",
       "        vertical-align: middle;\n",
       "    }\n",
       "\n",
       "    .dataframe tbody tr th {\n",
       "        vertical-align: top;\n",
       "    }\n",
       "\n",
       "    .dataframe thead th {\n",
       "        text-align: right;\n",
       "    }\n",
       "</style>\n",
       "<table border=\"1\" class=\"dataframe\">\n",
       "  <thead>\n",
       "    <tr style=\"text-align: right;\">\n",
       "      <th></th>\n",
       "      <th>Price_Point</th>\n",
       "      <th>means</th>\n",
       "      <th>pe_seg1</th>\n",
       "      <th>pe_seg2</th>\n",
       "      <th>pe_seg0</th>\n",
       "      <th>pe_seg3</th>\n",
       "      <th>elasticity_promotion_1</th>\n",
       "    </tr>\n",
       "  </thead>\n",
       "  <tbody>\n",
       "    <tr>\n",
       "      <th>0</th>\n",
       "      <td>0.50</td>\n",
       "      <td>-0.096396</td>\n",
       "      <td>-0.119088</td>\n",
       "      <td>-0.030921</td>\n",
       "      <td>-0.211169</td>\n",
       "      <td>-0.168042</td>\n",
       "      <td>-0.125732</td>\n",
       "    </tr>\n",
       "    <tr>\n",
       "      <th>1</th>\n",
       "      <td>0.51</td>\n",
       "      <td>-0.100464</td>\n",
       "      <td>-0.123271</td>\n",
       "      <td>-0.032688</td>\n",
       "      <td>-0.217739</td>\n",
       "      <td>-0.172967</td>\n",
       "      <td>-0.129848</td>\n",
       "    </tr>\n",
       "    <tr>\n",
       "      <th>2</th>\n",
       "      <td>0.52</td>\n",
       "      <td>-0.104659</td>\n",
       "      <td>-0.127548</td>\n",
       "      <td>-0.034541</td>\n",
       "      <td>-0.224417</td>\n",
       "      <td>-0.177962</td>\n",
       "      <td>-0.134043</td>\n",
       "    </tr>\n",
       "    <tr>\n",
       "      <th>3</th>\n",
       "      <td>0.53</td>\n",
       "      <td>-0.108984</td>\n",
       "      <td>-0.131919</td>\n",
       "      <td>-0.036486</td>\n",
       "      <td>-0.231204</td>\n",
       "      <td>-0.183027</td>\n",
       "      <td>-0.138318</td>\n",
       "    </tr>\n",
       "    <tr>\n",
       "      <th>4</th>\n",
       "      <td>0.54</td>\n",
       "      <td>-0.113442</td>\n",
       "      <td>-0.136386</td>\n",
       "      <td>-0.038526</td>\n",
       "      <td>-0.238099</td>\n",
       "      <td>-0.188165</td>\n",
       "      <td>-0.142674</td>\n",
       "    </tr>\n",
       "  </tbody>\n",
       "</table>\n",
       "</div>"
      ],
      "text/plain": [
       "   Price_Point     means   pe_seg1   pe_seg2   pe_seg0   pe_seg3  \\\n",
       "0         0.50 -0.096396 -0.119088 -0.030921 -0.211169 -0.168042   \n",
       "1         0.51 -0.100464 -0.123271 -0.032688 -0.217739 -0.172967   \n",
       "2         0.52 -0.104659 -0.127548 -0.034541 -0.224417 -0.177962   \n",
       "3         0.53 -0.108984 -0.131919 -0.036486 -0.231204 -0.183027   \n",
       "4         0.54 -0.113442 -0.136386 -0.038526 -0.238099 -0.188165   \n",
       "\n",
       "   elasticity_promotion_1  \n",
       "0               -0.125732  \n",
       "1               -0.129848  \n",
       "2               -0.134043  \n",
       "3               -0.138318  \n",
       "4               -0.142674  "
      ]
     },
     "execution_count": 44,
     "metadata": {},
     "output_type": "execute_result"
    }
   ],
   "source": [
    "# Update master data to include elasticities of purchase probability with promotion feature\n",
    "df_price_elasticity['elasticity_promotion_1'] = price_elasticyti_promo\n",
    "df_price_elasticity.head()"
   ]
  },
  {
   "cell_type": "markdown",
   "id": "f4bf7523",
   "metadata": {},
   "source": [
    "### Price Elasticity with No Promotion"
   ]
  },
  {
   "cell_type": "code",
   "execution_count": 45,
   "id": "0e4e7e36",
   "metadata": {},
   "outputs": [
    {
     "data": {
      "text/html": [
       "<div>\n",
       "<style scoped>\n",
       "    .dataframe tbody tr th:only-of-type {\n",
       "        vertical-align: middle;\n",
       "    }\n",
       "\n",
       "    .dataframe tbody tr th {\n",
       "        vertical-align: top;\n",
       "    }\n",
       "\n",
       "    .dataframe thead th {\n",
       "        text-align: right;\n",
       "    }\n",
       "</style>\n",
       "<table border=\"1\" class=\"dataframe\">\n",
       "  <thead>\n",
       "    <tr style=\"text-align: right;\">\n",
       "      <th></th>\n",
       "      <th>Price_Range</th>\n",
       "      <th>promotion</th>\n",
       "    </tr>\n",
       "  </thead>\n",
       "  <tbody>\n",
       "    <tr>\n",
       "      <th>0</th>\n",
       "      <td>0.50</td>\n",
       "      <td>0</td>\n",
       "    </tr>\n",
       "    <tr>\n",
       "      <th>1</th>\n",
       "      <td>0.51</td>\n",
       "      <td>0</td>\n",
       "    </tr>\n",
       "    <tr>\n",
       "      <th>2</th>\n",
       "      <td>0.52</td>\n",
       "      <td>0</td>\n",
       "    </tr>\n",
       "    <tr>\n",
       "      <th>3</th>\n",
       "      <td>0.53</td>\n",
       "      <td>0</td>\n",
       "    </tr>\n",
       "    <tr>\n",
       "      <th>4</th>\n",
       "      <td>0.54</td>\n",
       "      <td>0</td>\n",
       "    </tr>\n",
       "  </tbody>\n",
       "</table>\n",
       "</div>"
      ],
      "text/plain": [
       "   Price_Range  promotion\n",
       "0         0.50          0\n",
       "1         0.51          0\n",
       "2         0.52          0\n",
       "3         0.53          0\n",
       "4         0.54          0"
      ]
     },
     "execution_count": 45,
     "metadata": {},
     "output_type": "execute_result"
    }
   ],
   "source": [
    "df_price_elasticity_no_promotion = pd.DataFrame(price_range, columns=['Price_Range'])\n",
    "df_price_elasticity_no_promotion['promotion'] =0\n",
    "df_price_elasticity_no_promotion.head()"
   ]
  },
  {
   "cell_type": "code",
   "execution_count": 46,
   "id": "469e2b80",
   "metadata": {},
   "outputs": [],
   "source": [
    "y_no_promo = model.predict_proba(df_price_elasticity_no_promotion)\n",
    "#select the probailiti colum 1\n",
    "no_promo = y_no_promo[:,1]\n",
    "\n",
    "price_elasticyti_no_promo = (model.coef_[:, 0] * price_range) * (1-no_promo)"
   ]
  },
  {
   "cell_type": "code",
   "execution_count": 47,
   "id": "d660af08",
   "metadata": {},
   "outputs": [
    {
     "data": {
      "text/html": [
       "<div>\n",
       "<style scoped>\n",
       "    .dataframe tbody tr th:only-of-type {\n",
       "        vertical-align: middle;\n",
       "    }\n",
       "\n",
       "    .dataframe tbody tr th {\n",
       "        vertical-align: top;\n",
       "    }\n",
       "\n",
       "    .dataframe thead th {\n",
       "        text-align: right;\n",
       "    }\n",
       "</style>\n",
       "<table border=\"1\" class=\"dataframe\">\n",
       "  <thead>\n",
       "    <tr style=\"text-align: right;\">\n",
       "      <th></th>\n",
       "      <th>Price_Point</th>\n",
       "      <th>means</th>\n",
       "      <th>pe_seg1</th>\n",
       "      <th>pe_seg2</th>\n",
       "      <th>pe_seg0</th>\n",
       "      <th>pe_seg3</th>\n",
       "      <th>elasticity_promotion_1</th>\n",
       "      <th>elasticity_promotion_0</th>\n",
       "    </tr>\n",
       "  </thead>\n",
       "  <tbody>\n",
       "    <tr>\n",
       "      <th>0</th>\n",
       "      <td>0.50</td>\n",
       "      <td>-0.096396</td>\n",
       "      <td>-0.119088</td>\n",
       "      <td>-0.030921</td>\n",
       "      <td>-0.211169</td>\n",
       "      <td>-0.168042</td>\n",
       "      <td>-0.125732</td>\n",
       "      <td>-0.195644</td>\n",
       "    </tr>\n",
       "    <tr>\n",
       "      <th>1</th>\n",
       "      <td>0.51</td>\n",
       "      <td>-0.100464</td>\n",
       "      <td>-0.123271</td>\n",
       "      <td>-0.032688</td>\n",
       "      <td>-0.217739</td>\n",
       "      <td>-0.172967</td>\n",
       "      <td>-0.129848</td>\n",
       "      <td>-0.201765</td>\n",
       "    </tr>\n",
       "    <tr>\n",
       "      <th>2</th>\n",
       "      <td>0.52</td>\n",
       "      <td>-0.104659</td>\n",
       "      <td>-0.127548</td>\n",
       "      <td>-0.034541</td>\n",
       "      <td>-0.224417</td>\n",
       "      <td>-0.177962</td>\n",
       "      <td>-0.134043</td>\n",
       "      <td>-0.207989</td>\n",
       "    </tr>\n",
       "    <tr>\n",
       "      <th>3</th>\n",
       "      <td>0.53</td>\n",
       "      <td>-0.108984</td>\n",
       "      <td>-0.131919</td>\n",
       "      <td>-0.036486</td>\n",
       "      <td>-0.231204</td>\n",
       "      <td>-0.183027</td>\n",
       "      <td>-0.138318</td>\n",
       "      <td>-0.214316</td>\n",
       "    </tr>\n",
       "    <tr>\n",
       "      <th>4</th>\n",
       "      <td>0.54</td>\n",
       "      <td>-0.113442</td>\n",
       "      <td>-0.136386</td>\n",
       "      <td>-0.038526</td>\n",
       "      <td>-0.238099</td>\n",
       "      <td>-0.188165</td>\n",
       "      <td>-0.142674</td>\n",
       "      <td>-0.220747</td>\n",
       "    </tr>\n",
       "  </tbody>\n",
       "</table>\n",
       "</div>"
      ],
      "text/plain": [
       "   Price_Point     means   pe_seg1   pe_seg2   pe_seg0   pe_seg3  \\\n",
       "0         0.50 -0.096396 -0.119088 -0.030921 -0.211169 -0.168042   \n",
       "1         0.51 -0.100464 -0.123271 -0.032688 -0.217739 -0.172967   \n",
       "2         0.52 -0.104659 -0.127548 -0.034541 -0.224417 -0.177962   \n",
       "3         0.53 -0.108984 -0.131919 -0.036486 -0.231204 -0.183027   \n",
       "4         0.54 -0.113442 -0.136386 -0.038526 -0.238099 -0.188165   \n",
       "\n",
       "   elasticity_promotion_1  elasticity_promotion_0  \n",
       "0               -0.125732               -0.195644  \n",
       "1               -0.129848               -0.201765  \n",
       "2               -0.134043               -0.207989  \n",
       "3               -0.138318               -0.214316  \n",
       "4               -0.142674               -0.220747  "
      ]
     },
     "execution_count": 47,
     "metadata": {},
     "output_type": "execute_result"
    }
   ],
   "source": [
    "# Update master data to include elasticities of purchase probability with promotion feature\n",
    "df_price_elasticity['elasticity_promotion_0'] = price_elasticyti_no_promo\n",
    "df_price_elasticity.head()"
   ]
  },
  {
   "cell_type": "code",
   "execution_count": 48,
   "id": "25011633",
   "metadata": {},
   "outputs": [
    {
     "data": {
      "text/plain": [
       "Index(['Price_Point', 'means', 'pe_seg1', 'pe_seg2', 'pe_seg0', 'pe_seg3',\n",
       "       'elasticity_promotion_1', 'elasticity_promotion_0'],\n",
       "      dtype='object')"
      ]
     },
     "execution_count": 48,
     "metadata": {},
     "output_type": "execute_result"
    }
   ],
   "source": [
    "df_price_elasticity.columns"
   ]
  },
  {
   "cell_type": "code",
   "execution_count": 49,
   "id": "b18c3d73",
   "metadata": {},
   "outputs": [
    {
     "data": {
      "application/vnd.plotly.v1+json": {
       "config": {
        "linkText": "Export to plot.ly",
        "plotlyServerURL": "https://plot.ly",
        "showLink": true
       },
       "data": [
        {
         "line": {
          "color": "rgba(226, 74, 51, 1.0)",
          "dash": "solid",
          "shape": "linear",
          "width": 1.3
         },
         "mode": "lines",
         "name": "elasticity_promotion_1",
         "text": "",
         "type": "scatter",
         "x": [
          0,
          1,
          2,
          3,
          4,
          5,
          6,
          7,
          8,
          9,
          10,
          11,
          12,
          13,
          14,
          15,
          16,
          17,
          18,
          19,
          20,
          21,
          22,
          23,
          24,
          25,
          26,
          27,
          28,
          29,
          30,
          31,
          32,
          33,
          34,
          35,
          36,
          37,
          38,
          39,
          40,
          41,
          42,
          43,
          44,
          45,
          46,
          47,
          48,
          49,
          50,
          51,
          52,
          53,
          54,
          55,
          56,
          57,
          58,
          59,
          60,
          61,
          62,
          63,
          64,
          65,
          66,
          67,
          68,
          69,
          70,
          71,
          72,
          73,
          74,
          75,
          76,
          77,
          78,
          79,
          80,
          81,
          82,
          83,
          84,
          85,
          86,
          87,
          88,
          89,
          90,
          91,
          92,
          93,
          94,
          95,
          96,
          97,
          98,
          99,
          100,
          101,
          102,
          103,
          104,
          105,
          106,
          107,
          108,
          109,
          110,
          111,
          112,
          113,
          114,
          115,
          116,
          117,
          118,
          119,
          120,
          121,
          122,
          123,
          124,
          125,
          126,
          127,
          128,
          129,
          130,
          131,
          132,
          133,
          134,
          135,
          136,
          137,
          138,
          139,
          140,
          141,
          142,
          143,
          144,
          145,
          146,
          147,
          148,
          149,
          150,
          151,
          152,
          153,
          154,
          155,
          156,
          157,
          158,
          159,
          160,
          161,
          162,
          163,
          164,
          165,
          166,
          167,
          168,
          169,
          170,
          171,
          172,
          173,
          174,
          175,
          176,
          177,
          178,
          179,
          180,
          181,
          182,
          183,
          184,
          185,
          186,
          187,
          188,
          189,
          190,
          191,
          192,
          193,
          194,
          195,
          196,
          197,
          198,
          199,
          200,
          201,
          202,
          203,
          204,
          205,
          206,
          207,
          208,
          209,
          210,
          211,
          212,
          213,
          214,
          215,
          216,
          217,
          218,
          219,
          220,
          221,
          222,
          223,
          224,
          225,
          226,
          227,
          228,
          229,
          230,
          231,
          232,
          233,
          234,
          235,
          236,
          237,
          238,
          239,
          240,
          241,
          242,
          243,
          244,
          245,
          246,
          247,
          248,
          249,
          250,
          251,
          252,
          253,
          254,
          255,
          256,
          257,
          258,
          259,
          260,
          261,
          262,
          263,
          264,
          265,
          266,
          267,
          268,
          269,
          270,
          271,
          272,
          273,
          274,
          275,
          276,
          277,
          278,
          279,
          280,
          281,
          282,
          283,
          284,
          285,
          286,
          287,
          288,
          289,
          290,
          291,
          292,
          293,
          294,
          295,
          296,
          297,
          298
         ],
         "y": [
          -0.12573172077110636,
          -0.1298478030910465,
          -0.13404284717307355,
          -0.13831784067476693,
          -0.14267377275095247,
          -0.14711163373231462,
          -0.15163241479588013,
          -0.15623710762740833,
          -0.1609267040757356,
          -0.16570219579912815,
          -0.17056457390371207,
          -0.17551482857405318,
          -0.1805539486959775,
          -0.18568292147172677,
          -0.19090273202755992,
          -0.19621436301391965,
          -0.20161879419829368,
          -0.20711700205091685,
          -0.21270995932346623,
          -0.21839863462091694,
          -0.22418399196673597,
          -0.23006699036160688,
          -0.2360485833358881,
          -0.24212971849601841,
          -0.24831133706510167,
          -0.2545943734179078,
          -0.2609797546105451,
          -0.2674683999050716,
          -0.27406122028932034,
          -0.280759117992232,
          -0.2875629859950012,
          -0.29447370753834634,
          -0.3014921556262385,
          -0.30861919252642595,
          -0.3158556692681092,
          -0.32320242513713077,
          -0.3306602871690577,
          -0.3382300696405428,
          -0.3459125735593658,
          -0.35370858615356476,
          -0.3616188803600792,
          -0.3696442143133322,
          -0.37778533083420096,
          -0.38604295691981577,
          -0.3944178032346586,
          -0.4029105636034193,
          -0.41152191450609416,
          -0.4202525145758049,
          -0.4291030040998334,
          -0.43807400452436784,
          -0.44716611796346317,
          -0.45637992671272676,
          -0.4657159927682404,
          -0.4751748573512366,
          -0.484757040439051,
          -0.49446304030287064,
          -0.5042933330528047,
          -0.5142483721908047,
          -0.5243285881719552,
          -0.5345343879746639,
          -0.5448661546802748,
          -0.5553242470626211,
          -0.5659089991880407,
          -0.5766207200263672,
          -0.5874596930734004,
          -0.5984261759853685,
          -0.6095204002258686,
          -0.6207425707257817,
          -0.6320928655566382,
          -0.643571435617907,
          -0.6551784043386664,
          -0.6669138673941087,
          -0.6787778924373145,
          -0.6907705188467194,
          -0.7028917574896862,
          -0.7151415905025779,
          -0.7275199710877082,
          -0.7400268233275379,
          -0.7526620420164617,
          -0.765425492510514,
          -0.7783170105953024,
          -0.7913364023724653,
          -0.8044834441649146,
          -0.8177578824411237,
          -0.83115943375868,
          -0.844687784727316,
          -0.8583425919915955,
          -0.8721234822334231,
          -0.8860300521945075,
          -0.9000618687188962,
          -0.9142184688156688,
          -0.9284993597418542,
          -0.9429040191056073,
          -0.9574318949896636,
          -0.9720824060950587,
          -0.9868549419050733,
          -1.0017488628693416,
          -1.0167635006080373,
          -1.031898158136019,
          -1.0471521101067958,
          -1.0625246030761488,
          -1.0780148557852147,
          -1.0936220594628165,
          -1.1093453781468021,
          -1.1251839490241196,
          -1.141136882789341,
          -1.157203264021324,
          -1.1733821515776695,
          -1.1896725790066123,
          -1.2060735549759742,
          -1.2225840637187562,
          -1.2392030654949613,
          -1.2559294970691954,
          -1.272762272203576,
          -1.2897002821654748,
          -1.30674239624958,
          -1.3238874623137737,
          -1.3411343073282682,
          -1.3584817379374738,
          -1.3759285410340116,
          -1.393473484344307,
          -1.4111153170251611,
          -1.4288527702707086,
          -1.446684557929139,
          -1.4646093771285609,
          -1.482625908911385,
          -1.5007328188765738,
          -1.5189287578291335,
          -1.53721236243617,
          -1.5555822558888903,
          -1.5740370485698583,
          -1.592575338724876,
          -1.611195713138806,
          -1.6298967478146973,
          -1.6486770086555396,
          -1.6675350521480061,
          -1.6864694260475177,
          -1.7054786700639954,
          -1.724561316547647,
          -1.7437158911741646,
          -1.7629409136286864,
          -1.7822348982879272,
          -1.8015963548998406,
          -1.8210237892602328,
          -1.8405157038857218,
          -1.8600705986824768,
          -1.8796869716101567,
          -1.8993633193405095,
          -1.9190981379100747,
          -1.9388899233664865,
          -1.9587371724078388,
          -1.978638383014645,
          -1.9985920550738907,
          -2.0185966909947295,
          -2.038650796315379,
          -2.05875288030077,
          -2.078901456530565,
          -2.099095043477125,
          -2.1193321650730854,
          -2.139611351268137,
          -2.1599311385747355,
          -2.18029007060236,
          -2.2006866985800744,
          -2.2211195818670713,
          -2.2415872884509693,
          -2.2620883954335977,
          -2.2826214895040655,
          -2.303185167398895,
          -2.3237780363490494,
          -2.3443987145136886,
          -2.3650458314004887,
          -2.385718028272419,
          -2.406413958540857,
          -2.4271322881449517,
          -2.447871695917155,
          -2.468630873934868,
          -2.489408527858173,
          -2.5102033772536094,
          -2.5310141559040042,
          -2.551839612104348,
          -2.572678508943762,
          -2.593529624573589,
          -2.6143917524616485,
          -2.635263701632743,
          -2.656144296895497,
          -2.6770323790556154,
          -2.697926805115675,
          -2.7188264484615656,
          -2.7397301990357286,
          -2.760636963497321,
          -2.78154566536946,
          -2.8024552451737277,
          -2.823364660552096,
          -2.844272886376466,
          -2.865178914846007,
          -2.886081755572497,
          -2.9069804356538813,
          -2.9278739997362573,
          -2.9487615100645077,
          -2.969642046521811,
          -2.990514706658269,
          -3.0113786057088854,
          -3.0322328766011397,
          -3.0530766699523975,
          -3.073909154057431,
          -3.0947295148662786,
          -3.115536955952719,
          -3.1363306984736052,
          -3.15710998111934,
          -3.1778740600557414,
          -3.198622208857568,
          -3.2193537184339625,
          -3.240067896946099,
          -3.260764069717281,
          -3.28144157913576,
          -3.302099784550547,
          -3.3227380621604725,
          -3.3433558048967713,
          -3.3639524222994326,
          -3.3845273403875913,
          -3.405080001524217,
          -3.4256098642753514,
          -3.4461164032641456,
          -3.4665991090199464,
          -3.4870574878226877,
          -3.5074910615428245,
          -3.527899367477044,
          -3.5482819581799965,
          -3.568638401292279,
          -3.5889682793649054,
          -3.6092711896804746,
          -3.6295467440712637,
          -3.649794568734471,
          -3.6700143040448134,
          -3.690205604364681,
          -3.7103681378520554,
          -3.730501586266403,
          -3.750605644772719,
          -3.7706800217439174,
          -3.7907244385617505,
          -3.810738629416445,
          -3.83072234110522,
          -3.8506753328298604,
          -3.870597375993502,
          -3.8904882539968098,
          -3.9103477620336813,
          -3.9301757068866356,
          -3.949971906722033,
          -3.9697361908852646,
          -3.9894683996960536,
          -4.009168384243984,
          -4.0288360061843935,
          -4.048471137534762,
          -4.0680736604716925,
          -4.087643467128603,
          -4.107180459394248,
          -4.1266845487121575,
          -4.146155655881111,
          -4.165593710856716,
          -4.184998652554202,
          -4.204370428652509,
          -4.223708995399755,
          -4.243014317420153,
          -4.2622863675224565,
          -4.28152512651001,
          -4.300730582992461,
          -4.319902733199194,
          -4.339041580794565,
          -4.358147136694957,
          -4.377219418887754,
          -4.3962584522522326,
          -4.415264268382465,
          -4.43423690541223,
          -4.453176407842012,
          -4.472082826368085,
          -4.490956217713756,
          -4.509796644462756,
          -4.52860417489484,
          -4.547378882823598,
          -4.566120847436517,
          -4.584830153137295,
          -4.603506889390438,
          -4.6221511505681585,
          -4.6407630357995595,
          -4.659342648822159,
          -4.677890097835724,
          -4.696405495358441,
          -4.714888958085416,
          -4.733340606749529,
          -4.7517605659846,
          -4.7701489641909225,
          -4.788505933403108,
          -4.806831609160273,
          -4.825126130378548,
          -4.843389639225907,
          -4.861622280999298,
          -4.879824204004079,
          -4.897995559435744,
          -4.916136501263921
         ]
        },
        {
         "line": {
          "color": "rgba(62, 111, 176, 1.0)",
          "dash": "solid",
          "shape": "linear",
          "width": 1.3
         },
         "mode": "lines",
         "name": "elasticity_promotion_0",
         "text": "",
         "type": "scatter",
         "x": [
          0,
          1,
          2,
          3,
          4,
          5,
          6,
          7,
          8,
          9,
          10,
          11,
          12,
          13,
          14,
          15,
          16,
          17,
          18,
          19,
          20,
          21,
          22,
          23,
          24,
          25,
          26,
          27,
          28,
          29,
          30,
          31,
          32,
          33,
          34,
          35,
          36,
          37,
          38,
          39,
          40,
          41,
          42,
          43,
          44,
          45,
          46,
          47,
          48,
          49,
          50,
          51,
          52,
          53,
          54,
          55,
          56,
          57,
          58,
          59,
          60,
          61,
          62,
          63,
          64,
          65,
          66,
          67,
          68,
          69,
          70,
          71,
          72,
          73,
          74,
          75,
          76,
          77,
          78,
          79,
          80,
          81,
          82,
          83,
          84,
          85,
          86,
          87,
          88,
          89,
          90,
          91,
          92,
          93,
          94,
          95,
          96,
          97,
          98,
          99,
          100,
          101,
          102,
          103,
          104,
          105,
          106,
          107,
          108,
          109,
          110,
          111,
          112,
          113,
          114,
          115,
          116,
          117,
          118,
          119,
          120,
          121,
          122,
          123,
          124,
          125,
          126,
          127,
          128,
          129,
          130,
          131,
          132,
          133,
          134,
          135,
          136,
          137,
          138,
          139,
          140,
          141,
          142,
          143,
          144,
          145,
          146,
          147,
          148,
          149,
          150,
          151,
          152,
          153,
          154,
          155,
          156,
          157,
          158,
          159,
          160,
          161,
          162,
          163,
          164,
          165,
          166,
          167,
          168,
          169,
          170,
          171,
          172,
          173,
          174,
          175,
          176,
          177,
          178,
          179,
          180,
          181,
          182,
          183,
          184,
          185,
          186,
          187,
          188,
          189,
          190,
          191,
          192,
          193,
          194,
          195,
          196,
          197,
          198,
          199,
          200,
          201,
          202,
          203,
          204,
          205,
          206,
          207,
          208,
          209,
          210,
          211,
          212,
          213,
          214,
          215,
          216,
          217,
          218,
          219,
          220,
          221,
          222,
          223,
          224,
          225,
          226,
          227,
          228,
          229,
          230,
          231,
          232,
          233,
          234,
          235,
          236,
          237,
          238,
          239,
          240,
          241,
          242,
          243,
          244,
          245,
          246,
          247,
          248,
          249,
          250,
          251,
          252,
          253,
          254,
          255,
          256,
          257,
          258,
          259,
          260,
          261,
          262,
          263,
          264,
          265,
          266,
          267,
          268,
          269,
          270,
          271,
          272,
          273,
          274,
          275,
          276,
          277,
          278,
          279,
          280,
          281,
          282,
          283,
          284,
          285,
          286,
          287,
          288,
          289,
          290,
          291,
          292,
          293,
          294,
          295,
          296,
          297,
          298
         ],
         "y": [
          -0.19564393639859418,
          -0.20176521981283466,
          -0.20798898761514162,
          -0.2143160671440032,
          -0.22074727408253877,
          -0.22728341196907556,
          -0.23392527170702707,
          -0.24067363107448728,
          -0.24752925423396033,
          -0.2544928912426635,
          -0.26156527756383585,
          -0.26874713357950775,
          -0.2760391641051831,
          -0.283442057906898,
          -0.2909564872211271,
          -0.29858310727800835,
          -0.3063225558283734,
          -0.31417545267506225,
          -0.32214239920901694,
          -0.3302239779506436,
          -0.33842075209694017,
          -0.3467332650748869,
          -0.3551620401015988,
          -0.36370757975173723,
          -0.37237036553268493,
          -0.381150857467975,
          -0.3900494936894777,
          -0.3990666900388334,
          -0.40820283967862364,
          -0.41745831271376743,
          -0.42683345582362087,
          -0.43632859190525736,
          -0.44594401972839476,
          -0.4556800136024305,
          -0.4655368230560364,
          -0.4755146725297558,
          -0.4856137610820348,
          -0.495834262109108,
          -0.5061763230791515,
          -0.5166400652810941,
          -0.5272255835884762,
          -0.5379329462387195,
          -0.5487621946281663,
          -0.5597133431232216,
          -0.5707863788879239,
          -0.5819812617282459,
          -0.5932979239534115,
          -0.6047362702545002,
          -0.6162961776005811,
          -0.6279774951526131,
          -0.6397800441953114,
          -0.6517036180871739,
          -0.6637479822288308,
          -0.6759128740498624,
          -0.6881980030142069,
          -0.7006030506442549,
          -0.7131276705637155,
          -0.7257714885592945,
          -0.7385341026612269,
          -0.7514150832426602,
          -0.7644139731378793,
          -0.7775302877793229,
          -0.7907635153533343,
          -0.8041131169745501,
          -0.8175785268788197,
          -0.8311591526345137,
          -0.8448543753720644,
          -0.8586635500315523,
          -0.872586005628131,
          -0.8866210455350633,
          -0.9007679477841112,
          -0.9150259653830108,
          -0.9293943266497309,
          -0.9438722355631981,
          -0.9584588721301535,
          -0.9731533927677763,
          -0.9879549307017044,
          -1.0028625963790427,
          -1.0178754778959573,
          -1.0329926414394113,
          -1.0482131317425998,
          -1.0635359725536124,
          -1.0789601671168494,
          -1.094484698666685,
          -1.1101085309328818,
          -1.1258306086572263,
          -1.1416498581208516,
          -1.1575651876817088,
          -1.1735754883216303,
          -1.1896796342024176,
          -1.2058764832303916,
          -1.2221648776288214,
          -1.2385436445176468,
          -1.25501159649991,
          -1.2715675322543032,
          -1.2882102371332325,
          -1.304938483765801,
          -1.3217510326651185,
          -1.3386466328393285,
          -1.3556240224057623,
          -1.3726819292076207,
          -1.3898190714325884,
          -1.4070341582327925,
          -1.4243258903455238,
          -1.4416929607141282,
          -1.4591340551085092,
          -1.4766478527446671,
          -1.4942330269027138,
          -1.5118882455428184,
          -1.529612171918541,
          -1.547403465187022,
          -1.5652607810155097,
          -1.5831827721837128,
          -1.601168089181493,
          -1.6192153808013987,
          -1.6373232947255774,
          -1.6554904781066158,
          -1.6737155781418511,
          -1.691997242640738,
          -1.7103341205848495,
          -1.728724862680124,
          -1.747168121900965,
          -1.7656625540258384,
          -1.7842068181640123,
          -1.8027995772731054,
          -1.8214394986671343,
          -1.8401252545147535,
          -1.85885552232741,
          -1.8776289854371442,
          -1.8964443334637933,
          -1.9153002627713596,
          -1.9341954769133387,
          -1.9531286870668005,
          -1.9720986124550501,
          -1.9911039807587039,
          -2.0101435285150333,
          -2.0292160015054477,
          -2.0483201551309977,
          -2.067454754775813,
          -2.0866185761583784,
          -2.105810405670595,
          -2.1250290407045656,
          -2.1442732899670798,
          -2.163541973781762,
          -2.182833924378895,
          -2.20214798617291,
          -2.221483016027574,
          -2.2408378835089042,
          -2.2602114711258574,
          -2.2796026745588547,
          -2.299010402876217,
          -2.318433578738579,
          -2.3378711385914004,
          -2.357322032845653,
          -2.376785226046825,
          -2.396259697032338,
          -2.4157444390775415,
          -2.4352384600304036,
          -2.4547407824350667,
          -2.4742504436444097,
          -2.4937664959218093,
          -2.513288006532246,
          -2.5328140578229585,
          -2.552343747293815,
          -2.571876187657613,
          -2.5914105068904902,
          -2.610945848272656,
          -2.6304813704196444,
          -2.6500162473043125,
          -2.6695496682697906,
          -2.689080838033598,
          -2.7086089766831507,
          -2.7281333196628865,
          -2.747653117753235,
          -2.767167637041644,
          -2.786676158885907,
          -2.806177979870018,
          -2.8256724117527794,
          -2.8451587814093964,
          -2.8646364307662817,
          -2.8841047167293166,
          -2.9035630111057835,
          -2.9230107005202037,
          -2.9424471863243045,
          -2.961871884501354,
          -2.981284225565077,
          -3.00068365445338,
          -3.0200696304170984,
          -3.039441626904005,
          -3.058799131438277,
          -3.078141645495638,
          -3.0974686843744004,
          -3.1167797770625976,
          -3.1360744661014324,
          -3.15535230744522,
          -3.1746128703180463,
          -3.1938557370673215,
          -3.213080503014437,
          -3.232286776302692,
          -3.251474177742697,
          -3.2706423406554173,
          -3.289790910713051,
          -3.3089195457778975,
          -3.3280279157393875,
          -3.3471157023494644,
          -3.366182599056437,
          -3.385228310837498,
          -3.404252554030035,
          -3.4232550561618975,
          -3.4422355557807642,
          -3.4611938022827378,
          -3.4801295557403145,
          -3.499042586729865,
          -3.51793267615874,
          -3.536799615092137,
          -3.5556432045798383,
          -3.5744632554829447,
          -3.593259588300713,
          -3.6120320329976034,
          -3.630780428830635,
          -3.649504624177169,
          -3.6682044763631927,
          -3.686879851492208,
          -3.7055306242748114,
          -3.724156677859047,
          -3.742757903661625,
          -3.761334201200064,
          -3.7798854779258413,
          -3.7984116490586293,
          -3.816912637421674,
          -3.8353883732783802,
          -3.8538387941701657,
          -3.8722638447556474,
          -3.890663476651205,
          -3.909037648272978,
          -3.9273863246803415,
          -3.9457094774209054,
          -3.9640070843770934,
          -3.9822791296143145,
          -4.000525603230786,
          -4.018746501209034,
          -4.036941825269116,
          -4.05511158272356,
          -4.073255786334094,
          -4.091374454170151,
          -4.109467609469206,
          -4.127535280498924,
          -4.145577500421181,
          -4.163594307157944,
          -4.181585743259039,
          -4.199551855771809,
          -4.217492696112673,
          -4.235408319940619,
          -4.253298787032596,
          -4.27116416116084,
          -4.289004509972137,
          -4.306819904869004,
          -4.324610420892819,
          -4.342376136608876,
          -4.360117133993356,
          -4.377833498322255,
          -4.3955253180622105,
          -4.413192684763252,
          -4.430835692953463,
          -4.448454440035543,
          -4.466049026185272,
          -4.483619554251834,
          -4.501166129660051,
          -4.518688860314442,
          -4.536187856505154,
          -4.553663230815717,
          -4.57111509803263,
          -4.588543575056746,
          -4.605948780816455,
          -4.623330836182636,
          -4.640689863885384,
          -4.658025988432458,
          -4.675339336029475,
          -4.692630034501798,
          -4.709898213218118,
          -4.727144003015713,
          -4.744367536127343,
          -4.761568946109796,
          -4.778748367774029,
          -4.795905937116915,
          -4.813041791254552,
          -4.830156068357135,
          -4.847248907585343,
          -4.864320449028258,
          -4.881370833642752,
          -4.898400203194357,
          -4.915408700199575,
          -4.9323964678696175,
          -4.949363650055547,
          -4.966310391194809,
          -4.983236836259107,
          -5.000143130703646,
          -5.0170294204176695,
          -5.033895851676313
         ]
        }
       ],
       "layout": {
        "legend": {
         "bgcolor": "#FFFFFF",
         "font": {
          "color": "#666666"
         }
        },
        "paper_bgcolor": "#FFFFFF",
        "plot_bgcolor": "#E5E5E5",
        "template": {
         "data": {
          "bar": [
           {
            "error_x": {
             "color": "#2a3f5f"
            },
            "error_y": {
             "color": "#2a3f5f"
            },
            "marker": {
             "line": {
              "color": "#E5ECF6",
              "width": 0.5
             },
             "pattern": {
              "fillmode": "overlay",
              "size": 10,
              "solidity": 0.2
             }
            },
            "type": "bar"
           }
          ],
          "barpolar": [
           {
            "marker": {
             "line": {
              "color": "#E5ECF6",
              "width": 0.5
             },
             "pattern": {
              "fillmode": "overlay",
              "size": 10,
              "solidity": 0.2
             }
            },
            "type": "barpolar"
           }
          ],
          "carpet": [
           {
            "aaxis": {
             "endlinecolor": "#2a3f5f",
             "gridcolor": "white",
             "linecolor": "white",
             "minorgridcolor": "white",
             "startlinecolor": "#2a3f5f"
            },
            "baxis": {
             "endlinecolor": "#2a3f5f",
             "gridcolor": "white",
             "linecolor": "white",
             "minorgridcolor": "white",
             "startlinecolor": "#2a3f5f"
            },
            "type": "carpet"
           }
          ],
          "choropleth": [
           {
            "colorbar": {
             "outlinewidth": 0,
             "ticks": ""
            },
            "type": "choropleth"
           }
          ],
          "contour": [
           {
            "colorbar": {
             "outlinewidth": 0,
             "ticks": ""
            },
            "colorscale": [
             [
              0,
              "#0d0887"
             ],
             [
              0.1111111111111111,
              "#46039f"
             ],
             [
              0.2222222222222222,
              "#7201a8"
             ],
             [
              0.3333333333333333,
              "#9c179e"
             ],
             [
              0.4444444444444444,
              "#bd3786"
             ],
             [
              0.5555555555555556,
              "#d8576b"
             ],
             [
              0.6666666666666666,
              "#ed7953"
             ],
             [
              0.7777777777777778,
              "#fb9f3a"
             ],
             [
              0.8888888888888888,
              "#fdca26"
             ],
             [
              1,
              "#f0f921"
             ]
            ],
            "type": "contour"
           }
          ],
          "contourcarpet": [
           {
            "colorbar": {
             "outlinewidth": 0,
             "ticks": ""
            },
            "type": "contourcarpet"
           }
          ],
          "heatmap": [
           {
            "colorbar": {
             "outlinewidth": 0,
             "ticks": ""
            },
            "colorscale": [
             [
              0,
              "#0d0887"
             ],
             [
              0.1111111111111111,
              "#46039f"
             ],
             [
              0.2222222222222222,
              "#7201a8"
             ],
             [
              0.3333333333333333,
              "#9c179e"
             ],
             [
              0.4444444444444444,
              "#bd3786"
             ],
             [
              0.5555555555555556,
              "#d8576b"
             ],
             [
              0.6666666666666666,
              "#ed7953"
             ],
             [
              0.7777777777777778,
              "#fb9f3a"
             ],
             [
              0.8888888888888888,
              "#fdca26"
             ],
             [
              1,
              "#f0f921"
             ]
            ],
            "type": "heatmap"
           }
          ],
          "heatmapgl": [
           {
            "colorbar": {
             "outlinewidth": 0,
             "ticks": ""
            },
            "colorscale": [
             [
              0,
              "#0d0887"
             ],
             [
              0.1111111111111111,
              "#46039f"
             ],
             [
              0.2222222222222222,
              "#7201a8"
             ],
             [
              0.3333333333333333,
              "#9c179e"
             ],
             [
              0.4444444444444444,
              "#bd3786"
             ],
             [
              0.5555555555555556,
              "#d8576b"
             ],
             [
              0.6666666666666666,
              "#ed7953"
             ],
             [
              0.7777777777777778,
              "#fb9f3a"
             ],
             [
              0.8888888888888888,
              "#fdca26"
             ],
             [
              1,
              "#f0f921"
             ]
            ],
            "type": "heatmapgl"
           }
          ],
          "histogram": [
           {
            "marker": {
             "pattern": {
              "fillmode": "overlay",
              "size": 10,
              "solidity": 0.2
             }
            },
            "type": "histogram"
           }
          ],
          "histogram2d": [
           {
            "colorbar": {
             "outlinewidth": 0,
             "ticks": ""
            },
            "colorscale": [
             [
              0,
              "#0d0887"
             ],
             [
              0.1111111111111111,
              "#46039f"
             ],
             [
              0.2222222222222222,
              "#7201a8"
             ],
             [
              0.3333333333333333,
              "#9c179e"
             ],
             [
              0.4444444444444444,
              "#bd3786"
             ],
             [
              0.5555555555555556,
              "#d8576b"
             ],
             [
              0.6666666666666666,
              "#ed7953"
             ],
             [
              0.7777777777777778,
              "#fb9f3a"
             ],
             [
              0.8888888888888888,
              "#fdca26"
             ],
             [
              1,
              "#f0f921"
             ]
            ],
            "type": "histogram2d"
           }
          ],
          "histogram2dcontour": [
           {
            "colorbar": {
             "outlinewidth": 0,
             "ticks": ""
            },
            "colorscale": [
             [
              0,
              "#0d0887"
             ],
             [
              0.1111111111111111,
              "#46039f"
             ],
             [
              0.2222222222222222,
              "#7201a8"
             ],
             [
              0.3333333333333333,
              "#9c179e"
             ],
             [
              0.4444444444444444,
              "#bd3786"
             ],
             [
              0.5555555555555556,
              "#d8576b"
             ],
             [
              0.6666666666666666,
              "#ed7953"
             ],
             [
              0.7777777777777778,
              "#fb9f3a"
             ],
             [
              0.8888888888888888,
              "#fdca26"
             ],
             [
              1,
              "#f0f921"
             ]
            ],
            "type": "histogram2dcontour"
           }
          ],
          "mesh3d": [
           {
            "colorbar": {
             "outlinewidth": 0,
             "ticks": ""
            },
            "type": "mesh3d"
           }
          ],
          "parcoords": [
           {
            "line": {
             "colorbar": {
              "outlinewidth": 0,
              "ticks": ""
             }
            },
            "type": "parcoords"
           }
          ],
          "pie": [
           {
            "automargin": true,
            "type": "pie"
           }
          ],
          "scatter": [
           {
            "marker": {
             "colorbar": {
              "outlinewidth": 0,
              "ticks": ""
             }
            },
            "type": "scatter"
           }
          ],
          "scatter3d": [
           {
            "line": {
             "colorbar": {
              "outlinewidth": 0,
              "ticks": ""
             }
            },
            "marker": {
             "colorbar": {
              "outlinewidth": 0,
              "ticks": ""
             }
            },
            "type": "scatter3d"
           }
          ],
          "scattercarpet": [
           {
            "marker": {
             "colorbar": {
              "outlinewidth": 0,
              "ticks": ""
             }
            },
            "type": "scattercarpet"
           }
          ],
          "scattergeo": [
           {
            "marker": {
             "colorbar": {
              "outlinewidth": 0,
              "ticks": ""
             }
            },
            "type": "scattergeo"
           }
          ],
          "scattergl": [
           {
            "marker": {
             "colorbar": {
              "outlinewidth": 0,
              "ticks": ""
             }
            },
            "type": "scattergl"
           }
          ],
          "scattermapbox": [
           {
            "marker": {
             "colorbar": {
              "outlinewidth": 0,
              "ticks": ""
             }
            },
            "type": "scattermapbox"
           }
          ],
          "scatterpolar": [
           {
            "marker": {
             "colorbar": {
              "outlinewidth": 0,
              "ticks": ""
             }
            },
            "type": "scatterpolar"
           }
          ],
          "scatterpolargl": [
           {
            "marker": {
             "colorbar": {
              "outlinewidth": 0,
              "ticks": ""
             }
            },
            "type": "scatterpolargl"
           }
          ],
          "scatterternary": [
           {
            "marker": {
             "colorbar": {
              "outlinewidth": 0,
              "ticks": ""
             }
            },
            "type": "scatterternary"
           }
          ],
          "surface": [
           {
            "colorbar": {
             "outlinewidth": 0,
             "ticks": ""
            },
            "colorscale": [
             [
              0,
              "#0d0887"
             ],
             [
              0.1111111111111111,
              "#46039f"
             ],
             [
              0.2222222222222222,
              "#7201a8"
             ],
             [
              0.3333333333333333,
              "#9c179e"
             ],
             [
              0.4444444444444444,
              "#bd3786"
             ],
             [
              0.5555555555555556,
              "#d8576b"
             ],
             [
              0.6666666666666666,
              "#ed7953"
             ],
             [
              0.7777777777777778,
              "#fb9f3a"
             ],
             [
              0.8888888888888888,
              "#fdca26"
             ],
             [
              1,
              "#f0f921"
             ]
            ],
            "type": "surface"
           }
          ],
          "table": [
           {
            "cells": {
             "fill": {
              "color": "#EBF0F8"
             },
             "line": {
              "color": "white"
             }
            },
            "header": {
             "fill": {
              "color": "#C8D4E3"
             },
             "line": {
              "color": "white"
             }
            },
            "type": "table"
           }
          ]
         },
         "layout": {
          "annotationdefaults": {
           "arrowcolor": "#2a3f5f",
           "arrowhead": 0,
           "arrowwidth": 1
          },
          "autotypenumbers": "strict",
          "coloraxis": {
           "colorbar": {
            "outlinewidth": 0,
            "ticks": ""
           }
          },
          "colorscale": {
           "diverging": [
            [
             0,
             "#8e0152"
            ],
            [
             0.1,
             "#c51b7d"
            ],
            [
             0.2,
             "#de77ae"
            ],
            [
             0.3,
             "#f1b6da"
            ],
            [
             0.4,
             "#fde0ef"
            ],
            [
             0.5,
             "#f7f7f7"
            ],
            [
             0.6,
             "#e6f5d0"
            ],
            [
             0.7,
             "#b8e186"
            ],
            [
             0.8,
             "#7fbc41"
            ],
            [
             0.9,
             "#4d9221"
            ],
            [
             1,
             "#276419"
            ]
           ],
           "sequential": [
            [
             0,
             "#0d0887"
            ],
            [
             0.1111111111111111,
             "#46039f"
            ],
            [
             0.2222222222222222,
             "#7201a8"
            ],
            [
             0.3333333333333333,
             "#9c179e"
            ],
            [
             0.4444444444444444,
             "#bd3786"
            ],
            [
             0.5555555555555556,
             "#d8576b"
            ],
            [
             0.6666666666666666,
             "#ed7953"
            ],
            [
             0.7777777777777778,
             "#fb9f3a"
            ],
            [
             0.8888888888888888,
             "#fdca26"
            ],
            [
             1,
             "#f0f921"
            ]
           ],
           "sequentialminus": [
            [
             0,
             "#0d0887"
            ],
            [
             0.1111111111111111,
             "#46039f"
            ],
            [
             0.2222222222222222,
             "#7201a8"
            ],
            [
             0.3333333333333333,
             "#9c179e"
            ],
            [
             0.4444444444444444,
             "#bd3786"
            ],
            [
             0.5555555555555556,
             "#d8576b"
            ],
            [
             0.6666666666666666,
             "#ed7953"
            ],
            [
             0.7777777777777778,
             "#fb9f3a"
            ],
            [
             0.8888888888888888,
             "#fdca26"
            ],
            [
             1,
             "#f0f921"
            ]
           ]
          },
          "colorway": [
           "#636efa",
           "#EF553B",
           "#00cc96",
           "#ab63fa",
           "#FFA15A",
           "#19d3f3",
           "#FF6692",
           "#B6E880",
           "#FF97FF",
           "#FECB52"
          ],
          "font": {
           "color": "#2a3f5f"
          },
          "geo": {
           "bgcolor": "white",
           "lakecolor": "white",
           "landcolor": "#E5ECF6",
           "showlakes": true,
           "showland": true,
           "subunitcolor": "white"
          },
          "hoverlabel": {
           "align": "left"
          },
          "hovermode": "closest",
          "mapbox": {
           "style": "light"
          },
          "paper_bgcolor": "white",
          "plot_bgcolor": "#E5ECF6",
          "polar": {
           "angularaxis": {
            "gridcolor": "white",
            "linecolor": "white",
            "ticks": ""
           },
           "bgcolor": "#E5ECF6",
           "radialaxis": {
            "gridcolor": "white",
            "linecolor": "white",
            "ticks": ""
           }
          },
          "scene": {
           "xaxis": {
            "backgroundcolor": "#E5ECF6",
            "gridcolor": "white",
            "gridwidth": 2,
            "linecolor": "white",
            "showbackground": true,
            "ticks": "",
            "zerolinecolor": "white"
           },
           "yaxis": {
            "backgroundcolor": "#E5ECF6",
            "gridcolor": "white",
            "gridwidth": 2,
            "linecolor": "white",
            "showbackground": true,
            "ticks": "",
            "zerolinecolor": "white"
           },
           "zaxis": {
            "backgroundcolor": "#E5ECF6",
            "gridcolor": "white",
            "gridwidth": 2,
            "linecolor": "white",
            "showbackground": true,
            "ticks": "",
            "zerolinecolor": "white"
           }
          },
          "shapedefaults": {
           "line": {
            "color": "#2a3f5f"
           }
          },
          "ternary": {
           "aaxis": {
            "gridcolor": "white",
            "linecolor": "white",
            "ticks": ""
           },
           "baxis": {
            "gridcolor": "white",
            "linecolor": "white",
            "ticks": ""
           },
           "bgcolor": "#E5ECF6",
           "caxis": {
            "gridcolor": "white",
            "linecolor": "white",
            "ticks": ""
           }
          },
          "title": {
           "x": 0.05
          },
          "xaxis": {
           "automargin": true,
           "gridcolor": "white",
           "linecolor": "white",
           "ticks": "",
           "title": {
            "standoff": 15
           },
           "zerolinecolor": "white",
           "zerolinewidth": 2
          },
          "yaxis": {
           "automargin": true,
           "gridcolor": "white",
           "linecolor": "white",
           "ticks": "",
           "title": {
            "standoff": 15
           },
           "zerolinecolor": "white",
           "zerolinewidth": 2
          }
         }
        },
        "title": {
         "font": {
          "color": "#151516"
         },
         "text": "Prices Promo Elasticity"
        },
        "xaxis": {
         "gridcolor": "#F6F6F6",
         "showgrid": true,
         "tickfont": {
          "color": "#666666"
         },
         "title": {
          "font": {
           "color": "#666666"
          },
          "text": "prices"
         },
         "zerolinecolor": "#F6F6F6"
        },
        "yaxis": {
         "gridcolor": "#F6F6F6",
         "showgrid": true,
         "tickfont": {
          "color": "#666666"
         },
         "title": {
          "font": {
           "color": "#666666"
          },
          "text": "Elasticity"
         },
         "zerolinecolor": "#F6F6F6"
        }
       }
      },
      "text/html": [
       "<div>                            <div id=\"16564998-afbb-46d2-80d4-4ecedb7f5d71\" class=\"plotly-graph-div\" style=\"height:525px; width:100%;\"></div>            <script type=\"text/javascript\">                require([\"plotly\"], function(Plotly) {                    window.PLOTLYENV=window.PLOTLYENV || {};\n",
       "                    window.PLOTLYENV.BASE_URL='https://plot.ly';                                    if (document.getElementById(\"16564998-afbb-46d2-80d4-4ecedb7f5d71\")) {                    Plotly.newPlot(                        \"16564998-afbb-46d2-80d4-4ecedb7f5d71\",                        [{\"line\":{\"color\":\"rgba(226, 74, 51, 1.0)\",\"dash\":\"solid\",\"shape\":\"linear\",\"width\":1.3},\"mode\":\"lines\",\"name\":\"elasticity_promotion_1\",\"text\":\"\",\"type\":\"scatter\",\"x\":[0,1,2,3,4,5,6,7,8,9,10,11,12,13,14,15,16,17,18,19,20,21,22,23,24,25,26,27,28,29,30,31,32,33,34,35,36,37,38,39,40,41,42,43,44,45,46,47,48,49,50,51,52,53,54,55,56,57,58,59,60,61,62,63,64,65,66,67,68,69,70,71,72,73,74,75,76,77,78,79,80,81,82,83,84,85,86,87,88,89,90,91,92,93,94,95,96,97,98,99,100,101,102,103,104,105,106,107,108,109,110,111,112,113,114,115,116,117,118,119,120,121,122,123,124,125,126,127,128,129,130,131,132,133,134,135,136,137,138,139,140,141,142,143,144,145,146,147,148,149,150,151,152,153,154,155,156,157,158,159,160,161,162,163,164,165,166,167,168,169,170,171,172,173,174,175,176,177,178,179,180,181,182,183,184,185,186,187,188,189,190,191,192,193,194,195,196,197,198,199,200,201,202,203,204,205,206,207,208,209,210,211,212,213,214,215,216,217,218,219,220,221,222,223,224,225,226,227,228,229,230,231,232,233,234,235,236,237,238,239,240,241,242,243,244,245,246,247,248,249,250,251,252,253,254,255,256,257,258,259,260,261,262,263,264,265,266,267,268,269,270,271,272,273,274,275,276,277,278,279,280,281,282,283,284,285,286,287,288,289,290,291,292,293,294,295,296,297,298],\"y\":[-0.12573172077110636,-0.1298478030910465,-0.13404284717307355,-0.13831784067476693,-0.14267377275095247,-0.14711163373231462,-0.15163241479588013,-0.15623710762740833,-0.1609267040757356,-0.16570219579912815,-0.17056457390371207,-0.17551482857405318,-0.1805539486959775,-0.18568292147172677,-0.19090273202755992,-0.19621436301391965,-0.20161879419829368,-0.20711700205091685,-0.21270995932346623,-0.21839863462091694,-0.22418399196673597,-0.23006699036160688,-0.2360485833358881,-0.24212971849601841,-0.24831133706510167,-0.2545943734179078,-0.2609797546105451,-0.2674683999050716,-0.27406122028932034,-0.280759117992232,-0.2875629859950012,-0.29447370753834634,-0.3014921556262385,-0.30861919252642595,-0.3158556692681092,-0.32320242513713077,-0.3306602871690577,-0.3382300696405428,-0.3459125735593658,-0.35370858615356476,-0.3616188803600792,-0.3696442143133322,-0.37778533083420096,-0.38604295691981577,-0.3944178032346586,-0.4029105636034193,-0.41152191450609416,-0.4202525145758049,-0.4291030040998334,-0.43807400452436784,-0.44716611796346317,-0.45637992671272676,-0.4657159927682404,-0.4751748573512366,-0.484757040439051,-0.49446304030287064,-0.5042933330528047,-0.5142483721908047,-0.5243285881719552,-0.5345343879746639,-0.5448661546802748,-0.5553242470626211,-0.5659089991880407,-0.5766207200263672,-0.5874596930734004,-0.5984261759853685,-0.6095204002258686,-0.6207425707257817,-0.6320928655566382,-0.643571435617907,-0.6551784043386664,-0.6669138673941087,-0.6787778924373145,-0.6907705188467194,-0.7028917574896862,-0.7151415905025779,-0.7275199710877082,-0.7400268233275379,-0.7526620420164617,-0.765425492510514,-0.7783170105953024,-0.7913364023724653,-0.8044834441649146,-0.8177578824411237,-0.83115943375868,-0.844687784727316,-0.8583425919915955,-0.8721234822334231,-0.8860300521945075,-0.9000618687188962,-0.9142184688156688,-0.9284993597418542,-0.9429040191056073,-0.9574318949896636,-0.9720824060950587,-0.9868549419050733,-1.0017488628693416,-1.0167635006080373,-1.031898158136019,-1.0471521101067958,-1.0625246030761488,-1.0780148557852147,-1.0936220594628165,-1.1093453781468021,-1.1251839490241196,-1.141136882789341,-1.157203264021324,-1.1733821515776695,-1.1896725790066123,-1.2060735549759742,-1.2225840637187562,-1.2392030654949613,-1.2559294970691954,-1.272762272203576,-1.2897002821654748,-1.30674239624958,-1.3238874623137737,-1.3411343073282682,-1.3584817379374738,-1.3759285410340116,-1.393473484344307,-1.4111153170251611,-1.4288527702707086,-1.446684557929139,-1.4646093771285609,-1.482625908911385,-1.5007328188765738,-1.5189287578291335,-1.53721236243617,-1.5555822558888903,-1.5740370485698583,-1.592575338724876,-1.611195713138806,-1.6298967478146973,-1.6486770086555396,-1.6675350521480061,-1.6864694260475177,-1.7054786700639954,-1.724561316547647,-1.7437158911741646,-1.7629409136286864,-1.7822348982879272,-1.8015963548998406,-1.8210237892602328,-1.8405157038857218,-1.8600705986824768,-1.8796869716101567,-1.8993633193405095,-1.9190981379100747,-1.9388899233664865,-1.9587371724078388,-1.978638383014645,-1.9985920550738907,-2.0185966909947295,-2.038650796315379,-2.05875288030077,-2.078901456530565,-2.099095043477125,-2.1193321650730854,-2.139611351268137,-2.1599311385747355,-2.18029007060236,-2.2006866985800744,-2.2211195818670713,-2.2415872884509693,-2.2620883954335977,-2.2826214895040655,-2.303185167398895,-2.3237780363490494,-2.3443987145136886,-2.3650458314004887,-2.385718028272419,-2.406413958540857,-2.4271322881449517,-2.447871695917155,-2.468630873934868,-2.489408527858173,-2.5102033772536094,-2.5310141559040042,-2.551839612104348,-2.572678508943762,-2.593529624573589,-2.6143917524616485,-2.635263701632743,-2.656144296895497,-2.6770323790556154,-2.697926805115675,-2.7188264484615656,-2.7397301990357286,-2.760636963497321,-2.78154566536946,-2.8024552451737277,-2.823364660552096,-2.844272886376466,-2.865178914846007,-2.886081755572497,-2.9069804356538813,-2.9278739997362573,-2.9487615100645077,-2.969642046521811,-2.990514706658269,-3.0113786057088854,-3.0322328766011397,-3.0530766699523975,-3.073909154057431,-3.0947295148662786,-3.115536955952719,-3.1363306984736052,-3.15710998111934,-3.1778740600557414,-3.198622208857568,-3.2193537184339625,-3.240067896946099,-3.260764069717281,-3.28144157913576,-3.302099784550547,-3.3227380621604725,-3.3433558048967713,-3.3639524222994326,-3.3845273403875913,-3.405080001524217,-3.4256098642753514,-3.4461164032641456,-3.4665991090199464,-3.4870574878226877,-3.5074910615428245,-3.527899367477044,-3.5482819581799965,-3.568638401292279,-3.5889682793649054,-3.6092711896804746,-3.6295467440712637,-3.649794568734471,-3.6700143040448134,-3.690205604364681,-3.7103681378520554,-3.730501586266403,-3.750605644772719,-3.7706800217439174,-3.7907244385617505,-3.810738629416445,-3.83072234110522,-3.8506753328298604,-3.870597375993502,-3.8904882539968098,-3.9103477620336813,-3.9301757068866356,-3.949971906722033,-3.9697361908852646,-3.9894683996960536,-4.009168384243984,-4.0288360061843935,-4.048471137534762,-4.0680736604716925,-4.087643467128603,-4.107180459394248,-4.1266845487121575,-4.146155655881111,-4.165593710856716,-4.184998652554202,-4.204370428652509,-4.223708995399755,-4.243014317420153,-4.2622863675224565,-4.28152512651001,-4.300730582992461,-4.319902733199194,-4.339041580794565,-4.358147136694957,-4.377219418887754,-4.3962584522522326,-4.415264268382465,-4.43423690541223,-4.453176407842012,-4.472082826368085,-4.490956217713756,-4.509796644462756,-4.52860417489484,-4.547378882823598,-4.566120847436517,-4.584830153137295,-4.603506889390438,-4.6221511505681585,-4.6407630357995595,-4.659342648822159,-4.677890097835724,-4.696405495358441,-4.714888958085416,-4.733340606749529,-4.7517605659846,-4.7701489641909225,-4.788505933403108,-4.806831609160273,-4.825126130378548,-4.843389639225907,-4.861622280999298,-4.879824204004079,-4.897995559435744,-4.916136501263921]},{\"line\":{\"color\":\"rgba(62, 111, 176, 1.0)\",\"dash\":\"solid\",\"shape\":\"linear\",\"width\":1.3},\"mode\":\"lines\",\"name\":\"elasticity_promotion_0\",\"text\":\"\",\"type\":\"scatter\",\"x\":[0,1,2,3,4,5,6,7,8,9,10,11,12,13,14,15,16,17,18,19,20,21,22,23,24,25,26,27,28,29,30,31,32,33,34,35,36,37,38,39,40,41,42,43,44,45,46,47,48,49,50,51,52,53,54,55,56,57,58,59,60,61,62,63,64,65,66,67,68,69,70,71,72,73,74,75,76,77,78,79,80,81,82,83,84,85,86,87,88,89,90,91,92,93,94,95,96,97,98,99,100,101,102,103,104,105,106,107,108,109,110,111,112,113,114,115,116,117,118,119,120,121,122,123,124,125,126,127,128,129,130,131,132,133,134,135,136,137,138,139,140,141,142,143,144,145,146,147,148,149,150,151,152,153,154,155,156,157,158,159,160,161,162,163,164,165,166,167,168,169,170,171,172,173,174,175,176,177,178,179,180,181,182,183,184,185,186,187,188,189,190,191,192,193,194,195,196,197,198,199,200,201,202,203,204,205,206,207,208,209,210,211,212,213,214,215,216,217,218,219,220,221,222,223,224,225,226,227,228,229,230,231,232,233,234,235,236,237,238,239,240,241,242,243,244,245,246,247,248,249,250,251,252,253,254,255,256,257,258,259,260,261,262,263,264,265,266,267,268,269,270,271,272,273,274,275,276,277,278,279,280,281,282,283,284,285,286,287,288,289,290,291,292,293,294,295,296,297,298],\"y\":[-0.19564393639859418,-0.20176521981283466,-0.20798898761514162,-0.2143160671440032,-0.22074727408253877,-0.22728341196907556,-0.23392527170702707,-0.24067363107448728,-0.24752925423396033,-0.2544928912426635,-0.26156527756383585,-0.26874713357950775,-0.2760391641051831,-0.283442057906898,-0.2909564872211271,-0.29858310727800835,-0.3063225558283734,-0.31417545267506225,-0.32214239920901694,-0.3302239779506436,-0.33842075209694017,-0.3467332650748869,-0.3551620401015988,-0.36370757975173723,-0.37237036553268493,-0.381150857467975,-0.3900494936894777,-0.3990666900388334,-0.40820283967862364,-0.41745831271376743,-0.42683345582362087,-0.43632859190525736,-0.44594401972839476,-0.4556800136024305,-0.4655368230560364,-0.4755146725297558,-0.4856137610820348,-0.495834262109108,-0.5061763230791515,-0.5166400652810941,-0.5272255835884762,-0.5379329462387195,-0.5487621946281663,-0.5597133431232216,-0.5707863788879239,-0.5819812617282459,-0.5932979239534115,-0.6047362702545002,-0.6162961776005811,-0.6279774951526131,-0.6397800441953114,-0.6517036180871739,-0.6637479822288308,-0.6759128740498624,-0.6881980030142069,-0.7006030506442549,-0.7131276705637155,-0.7257714885592945,-0.7385341026612269,-0.7514150832426602,-0.7644139731378793,-0.7775302877793229,-0.7907635153533343,-0.8041131169745501,-0.8175785268788197,-0.8311591526345137,-0.8448543753720644,-0.8586635500315523,-0.872586005628131,-0.8866210455350633,-0.9007679477841112,-0.9150259653830108,-0.9293943266497309,-0.9438722355631981,-0.9584588721301535,-0.9731533927677763,-0.9879549307017044,-1.0028625963790427,-1.0178754778959573,-1.0329926414394113,-1.0482131317425998,-1.0635359725536124,-1.0789601671168494,-1.094484698666685,-1.1101085309328818,-1.1258306086572263,-1.1416498581208516,-1.1575651876817088,-1.1735754883216303,-1.1896796342024176,-1.2058764832303916,-1.2221648776288214,-1.2385436445176468,-1.25501159649991,-1.2715675322543032,-1.2882102371332325,-1.304938483765801,-1.3217510326651185,-1.3386466328393285,-1.3556240224057623,-1.3726819292076207,-1.3898190714325884,-1.4070341582327925,-1.4243258903455238,-1.4416929607141282,-1.4591340551085092,-1.4766478527446671,-1.4942330269027138,-1.5118882455428184,-1.529612171918541,-1.547403465187022,-1.5652607810155097,-1.5831827721837128,-1.601168089181493,-1.6192153808013987,-1.6373232947255774,-1.6554904781066158,-1.6737155781418511,-1.691997242640738,-1.7103341205848495,-1.728724862680124,-1.747168121900965,-1.7656625540258384,-1.7842068181640123,-1.8027995772731054,-1.8214394986671343,-1.8401252545147535,-1.85885552232741,-1.8776289854371442,-1.8964443334637933,-1.9153002627713596,-1.9341954769133387,-1.9531286870668005,-1.9720986124550501,-1.9911039807587039,-2.0101435285150333,-2.0292160015054477,-2.0483201551309977,-2.067454754775813,-2.0866185761583784,-2.105810405670595,-2.1250290407045656,-2.1442732899670798,-2.163541973781762,-2.182833924378895,-2.20214798617291,-2.221483016027574,-2.2408378835089042,-2.2602114711258574,-2.2796026745588547,-2.299010402876217,-2.318433578738579,-2.3378711385914004,-2.357322032845653,-2.376785226046825,-2.396259697032338,-2.4157444390775415,-2.4352384600304036,-2.4547407824350667,-2.4742504436444097,-2.4937664959218093,-2.513288006532246,-2.5328140578229585,-2.552343747293815,-2.571876187657613,-2.5914105068904902,-2.610945848272656,-2.6304813704196444,-2.6500162473043125,-2.6695496682697906,-2.689080838033598,-2.7086089766831507,-2.7281333196628865,-2.747653117753235,-2.767167637041644,-2.786676158885907,-2.806177979870018,-2.8256724117527794,-2.8451587814093964,-2.8646364307662817,-2.8841047167293166,-2.9035630111057835,-2.9230107005202037,-2.9424471863243045,-2.961871884501354,-2.981284225565077,-3.00068365445338,-3.0200696304170984,-3.039441626904005,-3.058799131438277,-3.078141645495638,-3.0974686843744004,-3.1167797770625976,-3.1360744661014324,-3.15535230744522,-3.1746128703180463,-3.1938557370673215,-3.213080503014437,-3.232286776302692,-3.251474177742697,-3.2706423406554173,-3.289790910713051,-3.3089195457778975,-3.3280279157393875,-3.3471157023494644,-3.366182599056437,-3.385228310837498,-3.404252554030035,-3.4232550561618975,-3.4422355557807642,-3.4611938022827378,-3.4801295557403145,-3.499042586729865,-3.51793267615874,-3.536799615092137,-3.5556432045798383,-3.5744632554829447,-3.593259588300713,-3.6120320329976034,-3.630780428830635,-3.649504624177169,-3.6682044763631927,-3.686879851492208,-3.7055306242748114,-3.724156677859047,-3.742757903661625,-3.761334201200064,-3.7798854779258413,-3.7984116490586293,-3.816912637421674,-3.8353883732783802,-3.8538387941701657,-3.8722638447556474,-3.890663476651205,-3.909037648272978,-3.9273863246803415,-3.9457094774209054,-3.9640070843770934,-3.9822791296143145,-4.000525603230786,-4.018746501209034,-4.036941825269116,-4.05511158272356,-4.073255786334094,-4.091374454170151,-4.109467609469206,-4.127535280498924,-4.145577500421181,-4.163594307157944,-4.181585743259039,-4.199551855771809,-4.217492696112673,-4.235408319940619,-4.253298787032596,-4.27116416116084,-4.289004509972137,-4.306819904869004,-4.324610420892819,-4.342376136608876,-4.360117133993356,-4.377833498322255,-4.3955253180622105,-4.413192684763252,-4.430835692953463,-4.448454440035543,-4.466049026185272,-4.483619554251834,-4.501166129660051,-4.518688860314442,-4.536187856505154,-4.553663230815717,-4.57111509803263,-4.588543575056746,-4.605948780816455,-4.623330836182636,-4.640689863885384,-4.658025988432458,-4.675339336029475,-4.692630034501798,-4.709898213218118,-4.727144003015713,-4.744367536127343,-4.761568946109796,-4.778748367774029,-4.795905937116915,-4.813041791254552,-4.830156068357135,-4.847248907585343,-4.864320449028258,-4.881370833642752,-4.898400203194357,-4.915408700199575,-4.9323964678696175,-4.949363650055547,-4.966310391194809,-4.983236836259107,-5.000143130703646,-5.0170294204176695,-5.033895851676313]}],                        {\"legend\":{\"bgcolor\":\"#FFFFFF\",\"font\":{\"color\":\"#666666\"}},\"paper_bgcolor\":\"#FFFFFF\",\"plot_bgcolor\":\"#E5E5E5\",\"template\":{\"data\":{\"bar\":[{\"error_x\":{\"color\":\"#2a3f5f\"},\"error_y\":{\"color\":\"#2a3f5f\"},\"marker\":{\"line\":{\"color\":\"#E5ECF6\",\"width\":0.5},\"pattern\":{\"fillmode\":\"overlay\",\"size\":10,\"solidity\":0.2}},\"type\":\"bar\"}],\"barpolar\":[{\"marker\":{\"line\":{\"color\":\"#E5ECF6\",\"width\":0.5},\"pattern\":{\"fillmode\":\"overlay\",\"size\":10,\"solidity\":0.2}},\"type\":\"barpolar\"}],\"carpet\":[{\"aaxis\":{\"endlinecolor\":\"#2a3f5f\",\"gridcolor\":\"white\",\"linecolor\":\"white\",\"minorgridcolor\":\"white\",\"startlinecolor\":\"#2a3f5f\"},\"baxis\":{\"endlinecolor\":\"#2a3f5f\",\"gridcolor\":\"white\",\"linecolor\":\"white\",\"minorgridcolor\":\"white\",\"startlinecolor\":\"#2a3f5f\"},\"type\":\"carpet\"}],\"choropleth\":[{\"colorbar\":{\"outlinewidth\":0,\"ticks\":\"\"},\"type\":\"choropleth\"}],\"contour\":[{\"colorbar\":{\"outlinewidth\":0,\"ticks\":\"\"},\"colorscale\":[[0.0,\"#0d0887\"],[0.1111111111111111,\"#46039f\"],[0.2222222222222222,\"#7201a8\"],[0.3333333333333333,\"#9c179e\"],[0.4444444444444444,\"#bd3786\"],[0.5555555555555556,\"#d8576b\"],[0.6666666666666666,\"#ed7953\"],[0.7777777777777778,\"#fb9f3a\"],[0.8888888888888888,\"#fdca26\"],[1.0,\"#f0f921\"]],\"type\":\"contour\"}],\"contourcarpet\":[{\"colorbar\":{\"outlinewidth\":0,\"ticks\":\"\"},\"type\":\"contourcarpet\"}],\"heatmap\":[{\"colorbar\":{\"outlinewidth\":0,\"ticks\":\"\"},\"colorscale\":[[0.0,\"#0d0887\"],[0.1111111111111111,\"#46039f\"],[0.2222222222222222,\"#7201a8\"],[0.3333333333333333,\"#9c179e\"],[0.4444444444444444,\"#bd3786\"],[0.5555555555555556,\"#d8576b\"],[0.6666666666666666,\"#ed7953\"],[0.7777777777777778,\"#fb9f3a\"],[0.8888888888888888,\"#fdca26\"],[1.0,\"#f0f921\"]],\"type\":\"heatmap\"}],\"heatmapgl\":[{\"colorbar\":{\"outlinewidth\":0,\"ticks\":\"\"},\"colorscale\":[[0.0,\"#0d0887\"],[0.1111111111111111,\"#46039f\"],[0.2222222222222222,\"#7201a8\"],[0.3333333333333333,\"#9c179e\"],[0.4444444444444444,\"#bd3786\"],[0.5555555555555556,\"#d8576b\"],[0.6666666666666666,\"#ed7953\"],[0.7777777777777778,\"#fb9f3a\"],[0.8888888888888888,\"#fdca26\"],[1.0,\"#f0f921\"]],\"type\":\"heatmapgl\"}],\"histogram\":[{\"marker\":{\"pattern\":{\"fillmode\":\"overlay\",\"size\":10,\"solidity\":0.2}},\"type\":\"histogram\"}],\"histogram2d\":[{\"colorbar\":{\"outlinewidth\":0,\"ticks\":\"\"},\"colorscale\":[[0.0,\"#0d0887\"],[0.1111111111111111,\"#46039f\"],[0.2222222222222222,\"#7201a8\"],[0.3333333333333333,\"#9c179e\"],[0.4444444444444444,\"#bd3786\"],[0.5555555555555556,\"#d8576b\"],[0.6666666666666666,\"#ed7953\"],[0.7777777777777778,\"#fb9f3a\"],[0.8888888888888888,\"#fdca26\"],[1.0,\"#f0f921\"]],\"type\":\"histogram2d\"}],\"histogram2dcontour\":[{\"colorbar\":{\"outlinewidth\":0,\"ticks\":\"\"},\"colorscale\":[[0.0,\"#0d0887\"],[0.1111111111111111,\"#46039f\"],[0.2222222222222222,\"#7201a8\"],[0.3333333333333333,\"#9c179e\"],[0.4444444444444444,\"#bd3786\"],[0.5555555555555556,\"#d8576b\"],[0.6666666666666666,\"#ed7953\"],[0.7777777777777778,\"#fb9f3a\"],[0.8888888888888888,\"#fdca26\"],[1.0,\"#f0f921\"]],\"type\":\"histogram2dcontour\"}],\"mesh3d\":[{\"colorbar\":{\"outlinewidth\":0,\"ticks\":\"\"},\"type\":\"mesh3d\"}],\"parcoords\":[{\"line\":{\"colorbar\":{\"outlinewidth\":0,\"ticks\":\"\"}},\"type\":\"parcoords\"}],\"pie\":[{\"automargin\":true,\"type\":\"pie\"}],\"scatter\":[{\"marker\":{\"colorbar\":{\"outlinewidth\":0,\"ticks\":\"\"}},\"type\":\"scatter\"}],\"scatter3d\":[{\"line\":{\"colorbar\":{\"outlinewidth\":0,\"ticks\":\"\"}},\"marker\":{\"colorbar\":{\"outlinewidth\":0,\"ticks\":\"\"}},\"type\":\"scatter3d\"}],\"scattercarpet\":[{\"marker\":{\"colorbar\":{\"outlinewidth\":0,\"ticks\":\"\"}},\"type\":\"scattercarpet\"}],\"scattergeo\":[{\"marker\":{\"colorbar\":{\"outlinewidth\":0,\"ticks\":\"\"}},\"type\":\"scattergeo\"}],\"scattergl\":[{\"marker\":{\"colorbar\":{\"outlinewidth\":0,\"ticks\":\"\"}},\"type\":\"scattergl\"}],\"scattermapbox\":[{\"marker\":{\"colorbar\":{\"outlinewidth\":0,\"ticks\":\"\"}},\"type\":\"scattermapbox\"}],\"scatterpolar\":[{\"marker\":{\"colorbar\":{\"outlinewidth\":0,\"ticks\":\"\"}},\"type\":\"scatterpolar\"}],\"scatterpolargl\":[{\"marker\":{\"colorbar\":{\"outlinewidth\":0,\"ticks\":\"\"}},\"type\":\"scatterpolargl\"}],\"scatterternary\":[{\"marker\":{\"colorbar\":{\"outlinewidth\":0,\"ticks\":\"\"}},\"type\":\"scatterternary\"}],\"surface\":[{\"colorbar\":{\"outlinewidth\":0,\"ticks\":\"\"},\"colorscale\":[[0.0,\"#0d0887\"],[0.1111111111111111,\"#46039f\"],[0.2222222222222222,\"#7201a8\"],[0.3333333333333333,\"#9c179e\"],[0.4444444444444444,\"#bd3786\"],[0.5555555555555556,\"#d8576b\"],[0.6666666666666666,\"#ed7953\"],[0.7777777777777778,\"#fb9f3a\"],[0.8888888888888888,\"#fdca26\"],[1.0,\"#f0f921\"]],\"type\":\"surface\"}],\"table\":[{\"cells\":{\"fill\":{\"color\":\"#EBF0F8\"},\"line\":{\"color\":\"white\"}},\"header\":{\"fill\":{\"color\":\"#C8D4E3\"},\"line\":{\"color\":\"white\"}},\"type\":\"table\"}]},\"layout\":{\"annotationdefaults\":{\"arrowcolor\":\"#2a3f5f\",\"arrowhead\":0,\"arrowwidth\":1},\"autotypenumbers\":\"strict\",\"coloraxis\":{\"colorbar\":{\"outlinewidth\":0,\"ticks\":\"\"}},\"colorscale\":{\"diverging\":[[0,\"#8e0152\"],[0.1,\"#c51b7d\"],[0.2,\"#de77ae\"],[0.3,\"#f1b6da\"],[0.4,\"#fde0ef\"],[0.5,\"#f7f7f7\"],[0.6,\"#e6f5d0\"],[0.7,\"#b8e186\"],[0.8,\"#7fbc41\"],[0.9,\"#4d9221\"],[1,\"#276419\"]],\"sequential\":[[0.0,\"#0d0887\"],[0.1111111111111111,\"#46039f\"],[0.2222222222222222,\"#7201a8\"],[0.3333333333333333,\"#9c179e\"],[0.4444444444444444,\"#bd3786\"],[0.5555555555555556,\"#d8576b\"],[0.6666666666666666,\"#ed7953\"],[0.7777777777777778,\"#fb9f3a\"],[0.8888888888888888,\"#fdca26\"],[1.0,\"#f0f921\"]],\"sequentialminus\":[[0.0,\"#0d0887\"],[0.1111111111111111,\"#46039f\"],[0.2222222222222222,\"#7201a8\"],[0.3333333333333333,\"#9c179e\"],[0.4444444444444444,\"#bd3786\"],[0.5555555555555556,\"#d8576b\"],[0.6666666666666666,\"#ed7953\"],[0.7777777777777778,\"#fb9f3a\"],[0.8888888888888888,\"#fdca26\"],[1.0,\"#f0f921\"]]},\"colorway\":[\"#636efa\",\"#EF553B\",\"#00cc96\",\"#ab63fa\",\"#FFA15A\",\"#19d3f3\",\"#FF6692\",\"#B6E880\",\"#FF97FF\",\"#FECB52\"],\"font\":{\"color\":\"#2a3f5f\"},\"geo\":{\"bgcolor\":\"white\",\"lakecolor\":\"white\",\"landcolor\":\"#E5ECF6\",\"showlakes\":true,\"showland\":true,\"subunitcolor\":\"white\"},\"hoverlabel\":{\"align\":\"left\"},\"hovermode\":\"closest\",\"mapbox\":{\"style\":\"light\"},\"paper_bgcolor\":\"white\",\"plot_bgcolor\":\"#E5ECF6\",\"polar\":{\"angularaxis\":{\"gridcolor\":\"white\",\"linecolor\":\"white\",\"ticks\":\"\"},\"bgcolor\":\"#E5ECF6\",\"radialaxis\":{\"gridcolor\":\"white\",\"linecolor\":\"white\",\"ticks\":\"\"}},\"scene\":{\"xaxis\":{\"backgroundcolor\":\"#E5ECF6\",\"gridcolor\":\"white\",\"gridwidth\":2,\"linecolor\":\"white\",\"showbackground\":true,\"ticks\":\"\",\"zerolinecolor\":\"white\"},\"yaxis\":{\"backgroundcolor\":\"#E5ECF6\",\"gridcolor\":\"white\",\"gridwidth\":2,\"linecolor\":\"white\",\"showbackground\":true,\"ticks\":\"\",\"zerolinecolor\":\"white\"},\"zaxis\":{\"backgroundcolor\":\"#E5ECF6\",\"gridcolor\":\"white\",\"gridwidth\":2,\"linecolor\":\"white\",\"showbackground\":true,\"ticks\":\"\",\"zerolinecolor\":\"white\"}},\"shapedefaults\":{\"line\":{\"color\":\"#2a3f5f\"}},\"ternary\":{\"aaxis\":{\"gridcolor\":\"white\",\"linecolor\":\"white\",\"ticks\":\"\"},\"baxis\":{\"gridcolor\":\"white\",\"linecolor\":\"white\",\"ticks\":\"\"},\"bgcolor\":\"#E5ECF6\",\"caxis\":{\"gridcolor\":\"white\",\"linecolor\":\"white\",\"ticks\":\"\"}},\"title\":{\"x\":0.05},\"xaxis\":{\"automargin\":true,\"gridcolor\":\"white\",\"linecolor\":\"white\",\"ticks\":\"\",\"title\":{\"standoff\":15},\"zerolinecolor\":\"white\",\"zerolinewidth\":2},\"yaxis\":{\"automargin\":true,\"gridcolor\":\"white\",\"linecolor\":\"white\",\"ticks\":\"\",\"title\":{\"standoff\":15},\"zerolinecolor\":\"white\",\"zerolinewidth\":2}}},\"title\":{\"font\":{\"color\":\"#151516\"},\"text\":\"Prices Promo Elasticity\"},\"xaxis\":{\"gridcolor\":\"#F6F6F6\",\"showgrid\":true,\"tickfont\":{\"color\":\"#666666\"},\"title\":{\"font\":{\"color\":\"#666666\"},\"text\":\"prices\"},\"zerolinecolor\":\"#F6F6F6\"},\"yaxis\":{\"gridcolor\":\"#F6F6F6\",\"showgrid\":true,\"tickfont\":{\"color\":\"#666666\"},\"title\":{\"font\":{\"color\":\"#666666\"},\"text\":\"Elasticity\"},\"zerolinecolor\":\"#F6F6F6\"}},                        {\"showLink\": true, \"linkText\": \"Export to plot.ly\", \"plotlyServerURL\": \"https://plot.ly\", \"responsive\": true}                    ).then(function(){\n",
       "                            \n",
       "var gd = document.getElementById('16564998-afbb-46d2-80d4-4ecedb7f5d71');\n",
       "var x = new MutationObserver(function (mutations, observer) {{\n",
       "        var display = window.getComputedStyle(gd).display;\n",
       "        if (!display || display === 'none') {{\n",
       "            console.log([gd, 'removed!']);\n",
       "            Plotly.purge(gd);\n",
       "            observer.disconnect();\n",
       "        }}\n",
       "}});\n",
       "\n",
       "// Listen for the removal of the full notebook cells\n",
       "var notebookContainer = gd.closest('#notebook-container');\n",
       "if (notebookContainer) {{\n",
       "    x.observe(notebookContainer, {childList: true});\n",
       "}}\n",
       "\n",
       "// Listen for the clearing of the current output cell\n",
       "var outputEl = gd.closest('.output');\n",
       "if (outputEl) {{\n",
       "    x.observe(outputEl, {childList: true});\n",
       "}}\n",
       "\n",
       "                        })                };                });            </script>        </div>"
      ]
     },
     "metadata": {},
     "output_type": "display_data"
    }
   ],
   "source": [
    "df_price_elasticity[['elasticity_promotion_1', 'elasticity_promotion_0']].iplot(kind = 'line',\n",
    "                                                                               \n",
    "                                                                               xTitle = 'prices', \n",
    "                                                                                yTitle ='Elasticity', \n",
    "                                                                               title='Prices Promo Elasticity')"
   ]
  },
  {
   "cell_type": "markdown",
   "id": "3f2e9af4",
   "metadata": {},
   "source": [
    "## 𝐁𝐫𝐚𝐧𝐝 𝐂𝐡𝐨𝐢𝐜𝐞 \n",
    "### Data Preparation"
   ]
  },
  {
   "cell_type": "code",
   "execution_count": 51,
   "id": "2cf70b70",
   "metadata": {},
   "outputs": [
    {
     "data": {
      "text/html": [
       "<div>\n",
       "<style scoped>\n",
       "    .dataframe tbody tr th:only-of-type {\n",
       "        vertical-align: middle;\n",
       "    }\n",
       "\n",
       "    .dataframe tbody tr th {\n",
       "        vertical-align: top;\n",
       "    }\n",
       "\n",
       "    .dataframe thead th {\n",
       "        text-align: right;\n",
       "    }\n",
       "</style>\n",
       "<table border=\"1\" class=\"dataframe\">\n",
       "  <thead>\n",
       "    <tr style=\"text-align: right;\">\n",
       "      <th></th>\n",
       "      <th>ID</th>\n",
       "      <th>Day</th>\n",
       "      <th>Incidence</th>\n",
       "      <th>Brand</th>\n",
       "      <th>Quantity</th>\n",
       "      <th>Last_Inc_Brand</th>\n",
       "      <th>Last_Inc_Quantity</th>\n",
       "      <th>Price_1</th>\n",
       "      <th>Price_2</th>\n",
       "      <th>Price_3</th>\n",
       "      <th>...</th>\n",
       "      <th>Age</th>\n",
       "      <th>Education</th>\n",
       "      <th>Income</th>\n",
       "      <th>Occupation</th>\n",
       "      <th>Settlement size</th>\n",
       "      <th>segment</th>\n",
       "      <th>Segment_0</th>\n",
       "      <th>Segment_1</th>\n",
       "      <th>Segment_2</th>\n",
       "      <th>Segment_3</th>\n",
       "    </tr>\n",
       "  </thead>\n",
       "  <tbody>\n",
       "    <tr>\n",
       "      <th>6</th>\n",
       "      <td>200000001</td>\n",
       "      <td>28</td>\n",
       "      <td>1</td>\n",
       "      <td>2</td>\n",
       "      <td>2</td>\n",
       "      <td>0</td>\n",
       "      <td>0</td>\n",
       "      <td>1.50</td>\n",
       "      <td>1.90</td>\n",
       "      <td>1.99</td>\n",
       "      <td>...</td>\n",
       "      <td>47</td>\n",
       "      <td>1</td>\n",
       "      <td>110866</td>\n",
       "      <td>1</td>\n",
       "      <td>0</td>\n",
       "      <td>2</td>\n",
       "      <td>0</td>\n",
       "      <td>0</td>\n",
       "      <td>1</td>\n",
       "      <td>0</td>\n",
       "    </tr>\n",
       "    <tr>\n",
       "      <th>11</th>\n",
       "      <td>200000001</td>\n",
       "      <td>58</td>\n",
       "      <td>1</td>\n",
       "      <td>5</td>\n",
       "      <td>1</td>\n",
       "      <td>0</td>\n",
       "      <td>0</td>\n",
       "      <td>1.39</td>\n",
       "      <td>1.90</td>\n",
       "      <td>1.91</td>\n",
       "      <td>...</td>\n",
       "      <td>47</td>\n",
       "      <td>1</td>\n",
       "      <td>110866</td>\n",
       "      <td>1</td>\n",
       "      <td>0</td>\n",
       "      <td>2</td>\n",
       "      <td>0</td>\n",
       "      <td>0</td>\n",
       "      <td>1</td>\n",
       "      <td>0</td>\n",
       "    </tr>\n",
       "    <tr>\n",
       "      <th>19</th>\n",
       "      <td>200000001</td>\n",
       "      <td>110</td>\n",
       "      <td>1</td>\n",
       "      <td>1</td>\n",
       "      <td>2</td>\n",
       "      <td>0</td>\n",
       "      <td>0</td>\n",
       "      <td>1.47</td>\n",
       "      <td>1.90</td>\n",
       "      <td>1.99</td>\n",
       "      <td>...</td>\n",
       "      <td>47</td>\n",
       "      <td>1</td>\n",
       "      <td>110866</td>\n",
       "      <td>1</td>\n",
       "      <td>0</td>\n",
       "      <td>2</td>\n",
       "      <td>0</td>\n",
       "      <td>0</td>\n",
       "      <td>1</td>\n",
       "      <td>0</td>\n",
       "    </tr>\n",
       "    <tr>\n",
       "      <th>24</th>\n",
       "      <td>200000001</td>\n",
       "      <td>142</td>\n",
       "      <td>1</td>\n",
       "      <td>4</td>\n",
       "      <td>1</td>\n",
       "      <td>0</td>\n",
       "      <td>0</td>\n",
       "      <td>1.21</td>\n",
       "      <td>1.35</td>\n",
       "      <td>1.99</td>\n",
       "      <td>...</td>\n",
       "      <td>47</td>\n",
       "      <td>1</td>\n",
       "      <td>110866</td>\n",
       "      <td>1</td>\n",
       "      <td>0</td>\n",
       "      <td>2</td>\n",
       "      <td>0</td>\n",
       "      <td>0</td>\n",
       "      <td>1</td>\n",
       "      <td>0</td>\n",
       "    </tr>\n",
       "    <tr>\n",
       "      <th>29</th>\n",
       "      <td>200000001</td>\n",
       "      <td>183</td>\n",
       "      <td>1</td>\n",
       "      <td>2</td>\n",
       "      <td>3</td>\n",
       "      <td>0</td>\n",
       "      <td>0</td>\n",
       "      <td>1.46</td>\n",
       "      <td>1.88</td>\n",
       "      <td>1.97</td>\n",
       "      <td>...</td>\n",
       "      <td>47</td>\n",
       "      <td>1</td>\n",
       "      <td>110866</td>\n",
       "      <td>1</td>\n",
       "      <td>0</td>\n",
       "      <td>2</td>\n",
       "      <td>0</td>\n",
       "      <td>0</td>\n",
       "      <td>1</td>\n",
       "      <td>0</td>\n",
       "    </tr>\n",
       "  </tbody>\n",
       "</table>\n",
       "<p>5 rows × 29 columns</p>\n",
       "</div>"
      ],
      "text/plain": [
       "           ID  Day  Incidence  Brand  Quantity  Last_Inc_Brand  \\\n",
       "6   200000001   28          1      2         2               0   \n",
       "11  200000001   58          1      5         1               0   \n",
       "19  200000001  110          1      1         2               0   \n",
       "24  200000001  142          1      4         1               0   \n",
       "29  200000001  183          1      2         3               0   \n",
       "\n",
       "    Last_Inc_Quantity  Price_1  Price_2  Price_3  ...  Age  Education  Income  \\\n",
       "6                   0     1.50     1.90     1.99  ...   47          1  110866   \n",
       "11                  0     1.39     1.90     1.91  ...   47          1  110866   \n",
       "19                  0     1.47     1.90     1.99  ...   47          1  110866   \n",
       "24                  0     1.21     1.35     1.99  ...   47          1  110866   \n",
       "29                  0     1.46     1.88     1.97  ...   47          1  110866   \n",
       "\n",
       "    Occupation  Settlement size  segment  Segment_0  Segment_1  Segment_2  \\\n",
       "6            1                0        2          0          0          1   \n",
       "11           1                0        2          0          0          1   \n",
       "19           1                0        2          0          0          1   \n",
       "24           1                0        2          0          0          1   \n",
       "29           1                0        2          0          0          1   \n",
       "\n",
       "    Segment_3  \n",
       "6           0  \n",
       "11          0  \n",
       "19          0  \n",
       "24          0  \n",
       "29          0  \n",
       "\n",
       "[5 rows x 29 columns]"
      ]
     },
     "execution_count": 51,
     "metadata": {},
     "output_type": "execute_result"
    }
   ],
   "source": [
    "brand_choice = data[data.Incidence==1]\n",
    "brand_choice.head()"
   ]
  },
  {
   "cell_type": "markdown",
   "id": "1e48bd4d",
   "metadata": {},
   "source": [
    "#### Select X and y features"
   ]
  },
  {
   "cell_type": "code",
   "execution_count": 55,
   "id": "94c59c0d",
   "metadata": {},
   "outputs": [
    {
     "data": {
      "text/plain": [
       "array(['ID', 'Day', 'Incidence', 'Brand', 'Quantity', 'Last_Inc_Brand',\n",
       "       'Last_Inc_Quantity', 'Price_1', 'Price_2', 'Price_3', 'Price_4',\n",
       "       'Price_5', 'Promotion_1', 'Promotion_2', 'Promotion_3',\n",
       "       'Promotion_4', 'Promotion_5', 'Sex', 'Marital status', 'Age',\n",
       "       'Education', 'Income', 'Occupation', 'Settlement size', 'segment',\n",
       "       'Segment_0', 'Segment_1', 'Segment_2', 'Segment_3'], dtype=object)"
      ]
     },
     "execution_count": 55,
     "metadata": {},
     "output_type": "execute_result"
    }
   ],
   "source": [
    "brand_choice.columns.values"
   ]
  },
  {
   "cell_type": "code",
   "execution_count": 59,
   "id": "e80d3d3c",
   "metadata": {},
   "outputs": [
    {
     "data": {
      "text/plain": [
       "((14638, 5), (14638,))"
      ]
     },
     "execution_count": 59,
     "metadata": {},
     "output_type": "execute_result"
    }
   ],
   "source": [
    "features = ['Price_1', 'Price_2', 'Price_3', 'Price_4','Price_5']\n",
    "X = brand_choice[features]\n",
    "y =brand_choice['Brand']\n",
    "X.shape, y.shape"
   ]
  },
  {
   "cell_type": "code",
   "execution_count": 60,
   "id": "bf7688b0",
   "metadata": {},
   "outputs": [
    {
     "data": {
      "text/plain": [
       "5    4978\n",
       "2    4542\n",
       "4    2927\n",
       "1    1350\n",
       "3     841\n",
       "Name: Brand, dtype: int64"
      ]
     },
     "execution_count": 60,
     "metadata": {},
     "output_type": "execute_result"
    }
   ],
   "source": [
    "y.value_counts()"
   ]
  },
  {
   "cell_type": "markdown",
   "id": "57a90b86",
   "metadata": {},
   "source": [
    "#### Fit model"
   ]
  },
  {
   "cell_type": "code",
   "execution_count": 62,
   "id": "c04e98ab",
   "metadata": {},
   "outputs": [
    {
     "data": {
      "text/plain": [
       "LogisticRegression(max_iter=300, multi_class='multinomial', solver='sag')"
      ]
     },
     "execution_count": 62,
     "metadata": {},
     "output_type": "execute_result"
    }
   ],
   "source": [
    "model_brand_choice = LogisticRegression(multi_class='multinomial', max_iter=300, solver='sag')\n",
    "model_brand_choice.fit(X, y)"
   ]
  },
  {
   "cell_type": "code",
   "execution_count": 63,
   "id": "95fbc823",
   "metadata": {},
   "outputs": [
    {
     "data": {
      "text/plain": [
       "array([[-3.91597547,  0.65845388,  2.41765534,  0.70407423, -0.20212917],\n",
       "       [ 1.27460441, -1.8798576 , -0.21267389, -0.20634621,  0.58786176],\n",
       "       [ 1.62423299,  0.56212331,  0.50104083,  1.03953516,  0.45283521],\n",
       "       [ 0.57452654,  0.3955847 , -1.40064355, -1.24625032,  0.2493396 ],\n",
       "       [ 0.44261152,  0.2636957 , -1.30537873, -0.29101286, -1.0879074 ]])"
      ]
     },
     "execution_count": 63,
     "metadata": {},
     "output_type": "execute_result"
    }
   ],
   "source": [
    "model_brand_choice.coef_"
   ]
  },
  {
   "cell_type": "markdown",
   "id": "c4beea66",
   "metadata": {},
   "source": [
    "#### Results"
   ]
  },
  {
   "cell_type": "code",
   "execution_count": 64,
   "id": "c66d96a8",
   "metadata": {},
   "outputs": [
    {
     "data": {
      "text/html": [
       "<div>\n",
       "<style scoped>\n",
       "    .dataframe tbody tr th:only-of-type {\n",
       "        vertical-align: middle;\n",
       "    }\n",
       "\n",
       "    .dataframe tbody tr th {\n",
       "        vertical-align: top;\n",
       "    }\n",
       "\n",
       "    .dataframe thead th {\n",
       "        text-align: right;\n",
       "    }\n",
       "</style>\n",
       "<table border=\"1\" class=\"dataframe\">\n",
       "  <thead>\n",
       "    <tr style=\"text-align: right;\">\n",
       "      <th></th>\n",
       "      <th>Coef_Brand_1</th>\n",
       "      <th>Coef_Brand_2</th>\n",
       "      <th>Coef_Brand_3</th>\n",
       "      <th>Coef_Brand_4</th>\n",
       "      <th>Coef_Brand_5</th>\n",
       "    </tr>\n",
       "  </thead>\n",
       "  <tbody>\n",
       "    <tr>\n",
       "      <th>Price_1</th>\n",
       "      <td>-3.915975</td>\n",
       "      <td>1.274604</td>\n",
       "      <td>1.624233</td>\n",
       "      <td>0.574527</td>\n",
       "      <td>0.442612</td>\n",
       "    </tr>\n",
       "    <tr>\n",
       "      <th>Price_2</th>\n",
       "      <td>0.658454</td>\n",
       "      <td>-1.879858</td>\n",
       "      <td>0.562123</td>\n",
       "      <td>0.395585</td>\n",
       "      <td>0.263696</td>\n",
       "    </tr>\n",
       "    <tr>\n",
       "      <th>Price_3</th>\n",
       "      <td>2.417655</td>\n",
       "      <td>-0.212674</td>\n",
       "      <td>0.501041</td>\n",
       "      <td>-1.400644</td>\n",
       "      <td>-1.305379</td>\n",
       "    </tr>\n",
       "    <tr>\n",
       "      <th>Price_4</th>\n",
       "      <td>0.704074</td>\n",
       "      <td>-0.206346</td>\n",
       "      <td>1.039535</td>\n",
       "      <td>-1.246250</td>\n",
       "      <td>-0.291013</td>\n",
       "    </tr>\n",
       "    <tr>\n",
       "      <th>Price_5</th>\n",
       "      <td>-0.202129</td>\n",
       "      <td>0.587862</td>\n",
       "      <td>0.452835</td>\n",
       "      <td>0.249340</td>\n",
       "      <td>-1.087907</td>\n",
       "    </tr>\n",
       "  </tbody>\n",
       "</table>\n",
       "</div>"
      ],
      "text/plain": [
       "         Coef_Brand_1  Coef_Brand_2  Coef_Brand_3  Coef_Brand_4  Coef_Brand_5\n",
       "Price_1     -3.915975      1.274604      1.624233      0.574527      0.442612\n",
       "Price_2      0.658454     -1.879858      0.562123      0.395585      0.263696\n",
       "Price_3      2.417655     -0.212674      0.501041     -1.400644     -1.305379\n",
       "Price_4      0.704074     -0.206346      1.039535     -1.246250     -0.291013\n",
       "Price_5     -0.202129      0.587862      0.452835      0.249340     -1.087907"
      ]
     },
     "execution_count": 64,
     "metadata": {},
     "output_type": "execute_result"
    }
   ],
   "source": [
    "names = ['Coef_Brand_1', 'Coef_Brand_2', 'Coef_Brand_3', 'Coef_Brand_4', 'Coef_Brand_5']\n",
    "names_indx = ['Price_1', 'Price_2', 'Price_3', 'Price_4', 'Price_5']\n",
    "bc_coef = pd.DataFrame(np.transpose(model_brand_choice.coef_), index=names_indx, columns=names)\n",
    "bc_coef"
   ]
  },
  {
   "cell_type": "code",
   "execution_count": 66,
   "id": "ab7393bb",
   "metadata": {},
   "outputs": [],
   "source": [
    "bc_coef = bc_coef.round(2)"
   ]
  },
  {
   "cell_type": "code",
   "execution_count": 67,
   "id": "f75761eb",
   "metadata": {},
   "outputs": [
    {
     "data": {
      "text/html": [
       "<div>\n",
       "<style scoped>\n",
       "    .dataframe tbody tr th:only-of-type {\n",
       "        vertical-align: middle;\n",
       "    }\n",
       "\n",
       "    .dataframe tbody tr th {\n",
       "        vertical-align: top;\n",
       "    }\n",
       "\n",
       "    .dataframe thead th {\n",
       "        text-align: right;\n",
       "    }\n",
       "</style>\n",
       "<table border=\"1\" class=\"dataframe\">\n",
       "  <thead>\n",
       "    <tr style=\"text-align: right;\">\n",
       "      <th></th>\n",
       "      <th>Coef_Brand_1</th>\n",
       "      <th>Coef_Brand_2</th>\n",
       "      <th>Coef_Brand_3</th>\n",
       "      <th>Coef_Brand_4</th>\n",
       "      <th>Coef_Brand_5</th>\n",
       "    </tr>\n",
       "  </thead>\n",
       "  <tbody>\n",
       "    <tr>\n",
       "      <th>Price_1</th>\n",
       "      <td>-3.92</td>\n",
       "      <td>1.27</td>\n",
       "      <td>1.62</td>\n",
       "      <td>0.57</td>\n",
       "      <td>0.44</td>\n",
       "    </tr>\n",
       "    <tr>\n",
       "      <th>Price_2</th>\n",
       "      <td>0.66</td>\n",
       "      <td>-1.88</td>\n",
       "      <td>0.56</td>\n",
       "      <td>0.40</td>\n",
       "      <td>0.26</td>\n",
       "    </tr>\n",
       "    <tr>\n",
       "      <th>Price_3</th>\n",
       "      <td>2.42</td>\n",
       "      <td>-0.21</td>\n",
       "      <td>0.50</td>\n",
       "      <td>-1.40</td>\n",
       "      <td>-1.31</td>\n",
       "    </tr>\n",
       "    <tr>\n",
       "      <th>Price_4</th>\n",
       "      <td>0.70</td>\n",
       "      <td>-0.21</td>\n",
       "      <td>1.04</td>\n",
       "      <td>-1.25</td>\n",
       "      <td>-0.29</td>\n",
       "    </tr>\n",
       "    <tr>\n",
       "      <th>Price_5</th>\n",
       "      <td>-0.20</td>\n",
       "      <td>0.59</td>\n",
       "      <td>0.45</td>\n",
       "      <td>0.25</td>\n",
       "      <td>-1.09</td>\n",
       "    </tr>\n",
       "  </tbody>\n",
       "</table>\n",
       "</div>"
      ],
      "text/plain": [
       "         Coef_Brand_1  Coef_Brand_2  Coef_Brand_3  Coef_Brand_4  Coef_Brand_5\n",
       "Price_1         -3.92          1.27          1.62          0.57          0.44\n",
       "Price_2          0.66         -1.88          0.56          0.40          0.26\n",
       "Price_3          2.42         -0.21          0.50         -1.40         -1.31\n",
       "Price_4          0.70         -0.21          1.04         -1.25         -0.29\n",
       "Price_5         -0.20          0.59          0.45          0.25         -1.09"
      ]
     },
     "execution_count": 67,
     "metadata": {},
     "output_type": "execute_result"
    }
   ],
   "source": [
    "bc_coef"
   ]
  },
  {
   "cell_type": "markdown",
   "id": "097dd757",
   "metadata": {},
   "source": [
    "## Own Price Elasticity Brand 5"
   ]
  },
  {
   "cell_type": "code",
   "execution_count": 68,
   "id": "e13a15e3",
   "metadata": {},
   "outputs": [
    {
     "data": {
      "text/html": [
       "<div>\n",
       "<style scoped>\n",
       "    .dataframe tbody tr th:only-of-type {\n",
       "        vertical-align: middle;\n",
       "    }\n",
       "\n",
       "    .dataframe tbody tr th {\n",
       "        vertical-align: top;\n",
       "    }\n",
       "\n",
       "    .dataframe thead th {\n",
       "        text-align: right;\n",
       "    }\n",
       "</style>\n",
       "<table border=\"1\" class=\"dataframe\">\n",
       "  <thead>\n",
       "    <tr style=\"text-align: right;\">\n",
       "      <th></th>\n",
       "      <th>Price_1</th>\n",
       "      <th>Price_2</th>\n",
       "      <th>Price_3</th>\n",
       "      <th>Price_4</th>\n",
       "      <th>Price_5</th>\n",
       "    </tr>\n",
       "  </thead>\n",
       "  <tbody>\n",
       "    <tr>\n",
       "      <th>0</th>\n",
       "      <td>1.384559</td>\n",
       "      <td>1.764717</td>\n",
       "      <td>2.006694</td>\n",
       "      <td>2.159658</td>\n",
       "      <td>0.50</td>\n",
       "    </tr>\n",
       "    <tr>\n",
       "      <th>1</th>\n",
       "      <td>1.384559</td>\n",
       "      <td>1.764717</td>\n",
       "      <td>2.006694</td>\n",
       "      <td>2.159658</td>\n",
       "      <td>0.51</td>\n",
       "    </tr>\n",
       "    <tr>\n",
       "      <th>2</th>\n",
       "      <td>1.384559</td>\n",
       "      <td>1.764717</td>\n",
       "      <td>2.006694</td>\n",
       "      <td>2.159658</td>\n",
       "      <td>0.52</td>\n",
       "    </tr>\n",
       "    <tr>\n",
       "      <th>3</th>\n",
       "      <td>1.384559</td>\n",
       "      <td>1.764717</td>\n",
       "      <td>2.006694</td>\n",
       "      <td>2.159658</td>\n",
       "      <td>0.53</td>\n",
       "    </tr>\n",
       "    <tr>\n",
       "      <th>4</th>\n",
       "      <td>1.384559</td>\n",
       "      <td>1.764717</td>\n",
       "      <td>2.006694</td>\n",
       "      <td>2.159658</td>\n",
       "      <td>0.54</td>\n",
       "    </tr>\n",
       "  </tbody>\n",
       "</table>\n",
       "</div>"
      ],
      "text/plain": [
       "    Price_1   Price_2   Price_3   Price_4  Price_5\n",
       "0  1.384559  1.764717  2.006694  2.159658     0.50\n",
       "1  1.384559  1.764717  2.006694  2.159658     0.51\n",
       "2  1.384559  1.764717  2.006694  2.159658     0.52\n",
       "3  1.384559  1.764717  2.006694  2.159658     0.53\n",
       "4  1.384559  1.764717  2.006694  2.159658     0.54"
      ]
     },
     "execution_count": 68,
     "metadata": {},
     "output_type": "execute_result"
    }
   ],
   "source": [
    "# We want to calculate price elasticity of brand choice.\n",
    "# Here we create a data frame with price columns, which our model will use to predict the brand choice\n",
    "df_own_brand_5 = pd.DataFrame(index=np.arange(price_range.size))\n",
    "df_own_brand_5['Price_1'] = brand_choice['Price_1'].mean()\n",
    "df_own_brand_5['Price_2'] = brand_choice['Price_2'].mean()\n",
    "df_own_brand_5['Price_3'] = brand_choice['Price_3'].mean()\n",
    "df_own_brand_5['Price_4'] = brand_choice['Price_4'].mean()\n",
    "df_own_brand_5['Price_5'] = price_range\n",
    "df_own_brand_5.head()"
   ]
  },
  {
   "cell_type": "code",
   "execution_count": 69,
   "id": "d0205257",
   "metadata": {},
   "outputs": [],
   "source": [
    "# Brand choice predictions\n",
    "predict_brand_5 = model_brand_choice.predict_proba(df_own_brand_5)"
   ]
  },
  {
   "cell_type": "code",
   "execution_count": 71,
   "id": "126fab23",
   "metadata": {},
   "outputs": [
    {
     "data": {
      "text/plain": [
       "array([[0.03290801, 0.0217765 , 0.00543746, 0.02988823, 0.9099898 ],\n",
       "       [0.03316274, 0.02211911, 0.00551556, 0.03025587, 0.90894672],\n",
       "       [0.03341897, 0.0224668 , 0.0055947 , 0.0306276 , 0.90789194],\n",
       "       ...,\n",
       "       [0.06909844, 0.47391142, 0.07934642, 0.23880043, 0.13884329],\n",
       "       [0.06881381, 0.4757025 , 0.07953883, 0.23889287, 0.137052  ],\n",
       "       [0.06852819, 0.47748528, 0.07972918, 0.2389778 , 0.13527955]])"
      ]
     },
     "execution_count": 71,
     "metadata": {},
     "output_type": "execute_result"
    }
   ],
   "source": [
    "predict_brand_5[:]"
   ]
  },
  {
   "cell_type": "code",
   "execution_count": 74,
   "id": "1ba28b59",
   "metadata": {
    "collapsed": true
   },
   "outputs": [
    {
     "data": {
      "text/plain": [
       "array([0.9099898 , 0.90894672, 0.90789194, 0.90682535, 0.90574684,\n",
       "       0.90465629, 0.90355361, 0.90243867, 0.90131137, 0.90017159,\n",
       "       0.89901921, 0.89785413, 0.89667623, 0.8954854 , 0.89428153,\n",
       "       0.89306449, 0.89183418, 0.89059049, 0.88933329, 0.88806248,\n",
       "       0.88677794, 0.88547956, 0.88416721, 0.8828408 , 0.8815002 ,\n",
       "       0.8801453 , 0.87877599, 0.87739215, 0.87599367, 0.87458044,\n",
       "       0.87315235, 0.87170928, 0.87025113, 0.86877777, 0.8672891 ,\n",
       "       0.86578502, 0.8642654 , 0.86273015, 0.86117915, 0.8596123 ,\n",
       "       0.85802949, 0.85643061, 0.85481556, 0.85318424, 0.85153654,\n",
       "       0.84987235, 0.84819159, 0.84649415, 0.84477992, 0.84304882,\n",
       "       0.84130074, 0.8395356 , 0.83775329, 0.83595374, 0.83413683,\n",
       "       0.8323025 , 0.83045065, 0.82858119, 0.82669404, 0.82478912,\n",
       "       0.82286636, 0.82092566, 0.81896696, 0.81699018, 0.81499526,\n",
       "       0.81298211, 0.81095068, 0.8089009 , 0.8068327 , 0.80474604,\n",
       "       0.80264084, 0.80051706, 0.79837464, 0.79621354, 0.79403371,\n",
       "       0.7918351 , 0.78961768, 0.78738141, 0.78512625, 0.78285217,\n",
       "       0.78055915, 0.77824716, 0.77591618, 0.7735662 , 0.77119719,\n",
       "       0.76880916, 0.76640208, 0.76397597, 0.76153082, 0.75906664,\n",
       "       0.75658343, 0.75408121, 0.75156   , 0.74901981, 0.74646068,\n",
       "       0.74388263, 0.74128569, 0.73866992, 0.73603534, 0.73338201,\n",
       "       0.73070997, 0.72801929, 0.72531003, 0.72258225, 0.71983603,\n",
       "       0.71707143, 0.71428855, 0.71148746, 0.70866826, 0.70583104,\n",
       "       0.70297591, 0.70010297, 0.69721232, 0.69430409, 0.6913784 ,\n",
       "       0.68843538, 0.68547515, 0.68249785, 0.67950363, 0.67649263,\n",
       "       0.673465  , 0.67042091, 0.66736051, 0.66428398, 0.66119149,\n",
       "       0.65808322, 0.65495935, 0.65182008, 0.64866559, 0.64549609,\n",
       "       0.64231179, 0.6391129 , 0.63589962, 0.63267219, 0.62943083,\n",
       "       0.62617577, 0.62290725, 0.61962551, 0.6163308 , 0.61302336,\n",
       "       0.60970346, 0.60637136, 0.60302732, 0.59967161, 0.59630451,\n",
       "       0.5929263 , 0.58953726, 0.58613768, 0.58272786, 0.57930809,\n",
       "       0.57587867, 0.57243992, 0.56899213, 0.56553562, 0.56207072,\n",
       "       0.55859773, 0.55511699, 0.55162882, 0.54813355, 0.54463152,\n",
       "       0.54112307, 0.53760852, 0.53408824, 0.53056256, 0.52703183,\n",
       "       0.52349641, 0.51995663, 0.51641287, 0.51286548, 0.50931481,\n",
       "       0.50576123, 0.5022051 , 0.49864679, 0.49508665, 0.49152506,\n",
       "       0.48796238, 0.48439898, 0.48083522, 0.47727149, 0.47370814,\n",
       "       0.47014556, 0.4665841 , 0.46302413, 0.45946604, 0.45591018,\n",
       "       0.45235692, 0.44880664, 0.4452597 , 0.44171646, 0.4381773 ,\n",
       "       0.43464257, 0.43111264, 0.42758787, 0.42406861, 0.42055522,\n",
       "       0.41704807, 0.41354749, 0.41005385, 0.40656748, 0.40308874,\n",
       "       0.39961796, 0.39615549, 0.39270166, 0.38925681, 0.38582127,\n",
       "       0.38239535, 0.37897939, 0.37557371, 0.37217861, 0.36879442,\n",
       "       0.36542144, 0.36205998, 0.35871032, 0.35537278, 0.35204763,\n",
       "       0.34873517, 0.34543568, 0.34214944, 0.33887671, 0.33561777,\n",
       "       0.33237287, 0.32914228, 0.32592625, 0.32272503, 0.31953885,\n",
       "       0.31636796, 0.31321259, 0.31007296, 0.3069493 , 0.30384182,\n",
       "       0.30075073, 0.29767624, 0.29461854, 0.29157784, 0.28855431,\n",
       "       0.28554815, 0.28255952, 0.27958861, 0.27663557, 0.27370057,\n",
       "       0.27078376, 0.2678853 , 0.26500531, 0.26214395, 0.25930135,\n",
       "       0.25647763, 0.25367291, 0.2508873 , 0.24812093, 0.24537389,\n",
       "       0.24264628, 0.2399382 , 0.23724974, 0.23458097, 0.23193197,\n",
       "       0.22930283, 0.2266936 , 0.22410434, 0.22153512, 0.21898599,\n",
       "       0.21645699, 0.21394816, 0.21145955, 0.20899117, 0.20654307,\n",
       "       0.20411526, 0.20170776, 0.19932058, 0.19695373, 0.19460722,\n",
       "       0.19228105, 0.18997521, 0.18768969, 0.18542448, 0.18317956,\n",
       "       0.18095491, 0.17875051, 0.17656633, 0.17440232, 0.17225847,\n",
       "       0.17013472, 0.16803104, 0.16594736, 0.16388366, 0.16183986,\n",
       "       0.15981592, 0.15781176, 0.15582734, 0.15386258, 0.1519174 ,\n",
       "       0.14999175, 0.14808554, 0.14619869, 0.14433113, 0.14248276,\n",
       "       0.14065351, 0.13884329, 0.137052  , 0.13527955])"
      ]
     },
     "execution_count": 74,
     "metadata": {},
     "output_type": "execute_result"
    }
   ],
   "source": [
    "predict_brand_5[:][:,4]"
   ]
  },
  {
   "cell_type": "code",
   "execution_count": 75,
   "id": "2a3c56f0",
   "metadata": {},
   "outputs": [],
   "source": [
    "#select the probrability of brand 5 = las columns -1\n",
    "pr_own_brand_5 = predict_brand_5[: ][:, 4]"
   ]
  },
  {
   "cell_type": "code",
   "execution_count": 77,
   "id": "39be710e",
   "metadata": {},
   "outputs": [
    {
     "data": {
      "text/plain": [
       "-1.09"
      ]
     },
     "execution_count": 77,
     "metadata": {},
     "output_type": "execute_result"
    }
   ],
   "source": [
    "#select beta of brand 5 from bc_coef = -1.09\n",
    "beta5 = bc_coef['Coef_Brand_5'][-1]\n",
    "beta5"
   ]
  },
  {
   "cell_type": "code",
   "execution_count": 78,
   "id": "f1a0e2c5",
   "metadata": {},
   "outputs": [],
   "source": [
    "# Calculating price elasticities for brand choice without promotion.\n",
    "own_price_elasticity_brand_5  = beta5 * price_range * (1-pr_own_brand_5)"
   ]
  },
  {
   "cell_type": "code",
   "execution_count": 80,
   "id": "10b6c376",
   "metadata": {},
   "outputs": [
    {
     "data": {
      "text/html": [
       "<div>\n",
       "<style scoped>\n",
       "    .dataframe tbody tr th:only-of-type {\n",
       "        vertical-align: middle;\n",
       "    }\n",
       "\n",
       "    .dataframe tbody tr th {\n",
       "        vertical-align: top;\n",
       "    }\n",
       "\n",
       "    .dataframe thead th {\n",
       "        text-align: right;\n",
       "    }\n",
       "</style>\n",
       "<table border=\"1\" class=\"dataframe\">\n",
       "  <thead>\n",
       "    <tr style=\"text-align: right;\">\n",
       "      <th></th>\n",
       "      <th>Price_Point</th>\n",
       "      <th>means</th>\n",
       "      <th>pe_seg1</th>\n",
       "      <th>pe_seg2</th>\n",
       "      <th>pe_seg0</th>\n",
       "      <th>pe_seg3</th>\n",
       "      <th>elasticity_promotion_1</th>\n",
       "      <th>elasticity_promotion_0</th>\n",
       "      <th>Brand_5</th>\n",
       "    </tr>\n",
       "  </thead>\n",
       "  <tbody>\n",
       "    <tr>\n",
       "      <th>0</th>\n",
       "      <td>0.50</td>\n",
       "      <td>-0.096396</td>\n",
       "      <td>-0.119088</td>\n",
       "      <td>-0.030921</td>\n",
       "      <td>-0.211169</td>\n",
       "      <td>-0.168042</td>\n",
       "      <td>-0.125732</td>\n",
       "      <td>-0.195644</td>\n",
       "      <td>-0.049056</td>\n",
       "    </tr>\n",
       "    <tr>\n",
       "      <th>1</th>\n",
       "      <td>0.51</td>\n",
       "      <td>-0.100464</td>\n",
       "      <td>-0.123271</td>\n",
       "      <td>-0.032688</td>\n",
       "      <td>-0.217739</td>\n",
       "      <td>-0.172967</td>\n",
       "      <td>-0.129848</td>\n",
       "      <td>-0.201765</td>\n",
       "      <td>-0.050617</td>\n",
       "    </tr>\n",
       "    <tr>\n",
       "      <th>2</th>\n",
       "      <td>0.52</td>\n",
       "      <td>-0.104659</td>\n",
       "      <td>-0.127548</td>\n",
       "      <td>-0.034541</td>\n",
       "      <td>-0.224417</td>\n",
       "      <td>-0.177962</td>\n",
       "      <td>-0.134043</td>\n",
       "      <td>-0.207989</td>\n",
       "      <td>-0.052207</td>\n",
       "    </tr>\n",
       "    <tr>\n",
       "      <th>3</th>\n",
       "      <td>0.53</td>\n",
       "      <td>-0.108984</td>\n",
       "      <td>-0.131919</td>\n",
       "      <td>-0.036486</td>\n",
       "      <td>-0.231204</td>\n",
       "      <td>-0.183027</td>\n",
       "      <td>-0.138318</td>\n",
       "      <td>-0.214316</td>\n",
       "      <td>-0.053827</td>\n",
       "    </tr>\n",
       "    <tr>\n",
       "      <th>4</th>\n",
       "      <td>0.54</td>\n",
       "      <td>-0.113442</td>\n",
       "      <td>-0.136386</td>\n",
       "      <td>-0.038526</td>\n",
       "      <td>-0.238099</td>\n",
       "      <td>-0.188165</td>\n",
       "      <td>-0.142674</td>\n",
       "      <td>-0.220747</td>\n",
       "      <td>-0.055477</td>\n",
       "    </tr>\n",
       "  </tbody>\n",
       "</table>\n",
       "</div>"
      ],
      "text/plain": [
       "   Price_Point     means   pe_seg1   pe_seg2   pe_seg0   pe_seg3  \\\n",
       "0         0.50 -0.096396 -0.119088 -0.030921 -0.211169 -0.168042   \n",
       "1         0.51 -0.100464 -0.123271 -0.032688 -0.217739 -0.172967   \n",
       "2         0.52 -0.104659 -0.127548 -0.034541 -0.224417 -0.177962   \n",
       "3         0.53 -0.108984 -0.131919 -0.036486 -0.231204 -0.183027   \n",
       "4         0.54 -0.113442 -0.136386 -0.038526 -0.238099 -0.188165   \n",
       "\n",
       "   elasticity_promotion_1  elasticity_promotion_0   Brand_5  \n",
       "0               -0.125732               -0.195644 -0.049056  \n",
       "1               -0.129848               -0.201765 -0.050617  \n",
       "2               -0.134043               -0.207989 -0.052207  \n",
       "3               -0.138318               -0.214316 -0.053827  \n",
       "4               -0.142674               -0.220747 -0.055477  "
      ]
     },
     "execution_count": 80,
     "metadata": {},
     "output_type": "execute_result"
    }
   ],
   "source": [
    "# aggregate column\n",
    "df_price_elasticity['Brand_5'] = own_price_elasticity_brand_5\n",
    "df_price_elasticity.head()"
   ]
  },
  {
   "cell_type": "code",
   "execution_count": 83,
   "id": "df4965c6",
   "metadata": {},
   "outputs": [
    {
     "data": {
      "application/vnd.plotly.v1+json": {
       "config": {
        "linkText": "Export to plot.ly",
        "plotlyServerURL": "https://plot.ly",
        "showLink": true
       },
       "data": [
        {
         "line": {
          "color": "rgba(55, 128, 191, 1.0)",
          "dash": "solid",
          "shape": "linear",
          "width": 1.3
         },
         "mode": "lines",
         "name": "Brand_5",
         "text": "",
         "type": "scatter",
         "x": [
          0,
          1,
          2,
          3,
          4,
          5,
          6,
          7,
          8,
          9,
          10,
          11,
          12,
          13,
          14,
          15,
          16,
          17,
          18,
          19,
          20,
          21,
          22,
          23,
          24,
          25,
          26,
          27,
          28,
          29,
          30,
          31,
          32,
          33,
          34,
          35,
          36,
          37,
          38,
          39,
          40,
          41,
          42,
          43,
          44,
          45,
          46,
          47,
          48,
          49,
          50,
          51,
          52,
          53,
          54,
          55,
          56,
          57,
          58,
          59,
          60,
          61,
          62,
          63,
          64,
          65,
          66,
          67,
          68,
          69,
          70,
          71,
          72,
          73,
          74,
          75,
          76,
          77,
          78,
          79,
          80,
          81,
          82,
          83,
          84,
          85,
          86,
          87,
          88,
          89,
          90,
          91,
          92,
          93,
          94,
          95,
          96,
          97,
          98,
          99,
          100,
          101,
          102,
          103,
          104,
          105,
          106,
          107,
          108,
          109,
          110,
          111,
          112,
          113,
          114,
          115,
          116,
          117,
          118,
          119,
          120,
          121,
          122,
          123,
          124,
          125,
          126,
          127,
          128,
          129,
          130,
          131,
          132,
          133,
          134,
          135,
          136,
          137,
          138,
          139,
          140,
          141,
          142,
          143,
          144,
          145,
          146,
          147,
          148,
          149,
          150,
          151,
          152,
          153,
          154,
          155,
          156,
          157,
          158,
          159,
          160,
          161,
          162,
          163,
          164,
          165,
          166,
          167,
          168,
          169,
          170,
          171,
          172,
          173,
          174,
          175,
          176,
          177,
          178,
          179,
          180,
          181,
          182,
          183,
          184,
          185,
          186,
          187,
          188,
          189,
          190,
          191,
          192,
          193,
          194,
          195,
          196,
          197,
          198,
          199,
          200,
          201,
          202,
          203,
          204,
          205,
          206,
          207,
          208,
          209,
          210,
          211,
          212,
          213,
          214,
          215,
          216,
          217,
          218,
          219,
          220,
          221,
          222,
          223,
          224,
          225,
          226,
          227,
          228,
          229,
          230,
          231,
          232,
          233,
          234,
          235,
          236,
          237,
          238,
          239,
          240,
          241,
          242,
          243,
          244,
          245,
          246,
          247,
          248,
          249,
          250,
          251,
          252,
          253,
          254,
          255,
          256,
          257,
          258,
          259,
          260,
          261,
          262,
          263,
          264,
          265,
          266,
          267,
          268,
          269,
          270,
          271,
          272,
          273,
          274,
          275,
          276,
          277,
          278,
          279,
          280,
          281,
          282,
          283,
          284,
          285,
          286,
          287,
          288,
          289,
          290,
          291,
          292,
          293,
          294,
          295,
          296,
          297,
          298
         ],
         "y": [
          -0.04905555652231245,
          -0.05061651841591673,
          -0.05220685000209414,
          -0.053826997634167935,
          -0.05547741271442936,
          -0.0571585517043372,
          -0.058870876133081014,
          -0.06061485260444966,
          -0.06239095280194521,
          -0.06419965349208409,
          -0.06604143652582257,
          -0.06791678883804711,
          -0.06982620244506528,
          -0.07177017444003451,
          -0.07374920698626522,
          -0.07576380730833218,
          -0.07781448768092934,
          -0.0799017654154008,
          -0.0820261628438821,
          -0.08418820730098212,
          -0.08638843110294006,
          -0.08862737152418482,
          -0.0909055707712315,
          -0.09322357595384065,
          -0.09558193905337463,
          -0.09798121688827521,
          -0.10042197107659655,
          -0.1029047679955176,
          -0.10543017873776558,
          -0.10799877906487781,
          -0.1106111493572287,
          -0.1132678745607533,
          -0.11596954413029271,
          -0.11871675196949238,
          -0.12151009636717866,
          -0.12435017993014705,
          -0.1272376095122878,
          -0.13017299613998093,
          -0.1331569549336907,
          -0.13619010502568912,
          -0.13927306947384513,
          -0.1424064751714053,
          -0.14559095275270761,
          -0.14882713649475593,
          -0.15211566421459843,
          -0.15545717716244184,
          -0.1588523199104431,
          -0.1623017402371195,
          -0.1658060890073183,
          -0.16936602004769022,
          -0.17298219001761347,
          -0.1766552582755155,
          -0.18038588674054545,
          -0.18417473974954554,
          -0.1880224839092819,
          -0.1919297879438892,
          -0.19589732253749098,
          -0.19992576017196137,
          -0.2040157749597908,
          -0.20816804247203247,
          -0.2123832395612944,
          -0.2166620441797647,
          -0.2210051351922413,
          -0.22541319218415878,
          -0.229886895264596,
          -0.23442692486425978,
          -0.23903396152844428,
          -0.24370868570496437,
          -0.24845177752707184,
          -0.2532639165913681,
          -0.25814578173072616,
          -0.26309805078224785,
          -0.2681214003502808,
          -0.27321650556452987,
          -0.2783840398333009,
          -0.28362467459192126,
          -0.28893907904638777,
          -0.29432791991229823,
          -0.2997918611491289,
          -0.3053315636899268,
          -0.31094768516649635,
          -0.31664087963015447,
          -0.32241179726815106,
          -0.32826108411584687,
          -0.33418938176475155,
          -0.34019732706653427,
          -0.3462855518331194,
          -0.35245468253299594,
          -0.3587053399838715,
          -0.36503813904180726,
          -0.371453688286982,
          -0.37795258970624107,
          -0.3845354383725882,
          -0.39120282212179086,
          -0.3979553212262768,
          -0.40479350806650327,
          -0.4117179467999929,
          -0.4187291930282347,
          -0.42582779346165617,
          -0.43301428558288196,
          -0.4402891973084978,
          -0.4476530466495539,
          -0.4551063413710359,
          -0.46264957865055545,
          -0.47028324473650296,
          -0.4780078146059216,
          -0.48582375162236907,
          -0.4937315071940343,
          -0.5017315204323832,
          -0.5098242178116218,
          -0.5180100128292595,
          -0.5262893056680691,
          -0.5346624828597433,
          -0.543129916950548,
          -0.5516919661692896,
          -0.5603489740978991,
          -0.5691012693449613,
          -0.5779491652225046,
          -0.5868929594263779,
          -0.5959329337205433,
          -0.605069353625618,
          -0.6143024681119926,
          -0.6236325092978678,
          -0.6330596921525428,
          -0.6425842142052935,
          -0.6522062552601794,
          -0.6619259771171178,
          -0.6717435232995639,
          -0.6816590187891299,
          -0.6916725697674883,
          -0.701784263365881,
          -0.7119941674225794,
          -0.7223023302486085,
          -0.7327087804020783,
          -0.743213526471426,
          -0.7538165568678983,
          -0.7645178396275787,
          -0.7753173222232694,
          -0.7862149313865241,
          -0.7972105729401249,
          -0.8083041316412942,
          -0.8194954710359103,
          -0.8307844333240034,
          -0.8421708392367879,
          -0.8536544879254842,
          -0.8652351568621693,
          -0.8769126017528882,
          -0.8886865564632418,
          -0.9005567329566614,
          -0.912522821245569,
          -0.9245844893555965,
          -0.9367413833030436,
          -0.9489931270857277,
          -0.9613393226873675,
          -0.9737795500956359,
          -0.9863133673339771,
          -0.998940310507319,
          -1.011659893861737,
          -1.0244716098581488,
          -1.037374929260095,
          -1.0503693012356379,
          -1.0634541534734032,
          -1.0766288923127645,
          -1.0898929028881585,
          -1.1032455492875024,
          -1.1166861747246752,
          -1.1302141017259797,
          -1.1438286323305245,
          -1.1575290483044198,
          -1.171314611368674,
          -1.1851845634406617,
          -1.1991381268890067,
          -1.2131745048017264,
          -1.2272928812674577,
          -1.2414924216695444,
          -1.2557722729928011,
          -1.2701315641427053,
          -1.284569406276775,
          -1.2990848931478793,
          -1.3136771014591888,
          -1.3283450912304968,
          -1.3430879061755885,
          -1.3579045740903466,
          -1.3727941072512662,
          -1.3877555028240205,
          -1.4027877432817382,
          -1.4178897968326039,
          -1.4330606178564194,
          -1.4482991473497209,
          -1.4636043133790615,
          -1.4789750315420405,
          -1.4944102054356634,
          -1.5099087271316076,
          -1.5254694776579565,
          -1.541091327486958,
          -1.5567731370283624,
          -1.5725137571278869,
          -1.5883120295703461,
          -1.6041667875869956,
          -1.6200768563665955,
          -1.6360410535697711,
          -1.652058189846162,
          -1.6681270693539043,
          -1.6842464902809753,
          -1.7004152453679289,
          -1.71663212243155,
          -1.7328959048889634,
          -1.7492053722817238,
          -1.7655593007994335,
          -1.7819564638024326,
          -1.7983956323430863,
          -1.8148755756852466,
          -1.8313950618214285,
          -1.847952857987272,
          -1.8645477311728538,
          -1.88117844863043,
          -1.8978437783781925,
          -1.9145424896996497,
          -1.9312733536381999,
          -1.9480351434865486,
          -1.9648266352705719,
          -1.9816466082272635,
          -1.998493845276414,
          -2.0153671334856713,
          -2.032265264528659,
          -2.0491870351358306,
          -2.066131247537741,
          -2.0830967099004574,
          -2.100082236752815,
          -2.117086649405254,
          -2.134108776359977,
          -2.1511474537121926,
          -2.1682015255422065,
          -2.185269844298157,
          -2.2023512711691784,
          -2.2194446764488234,
          -2.2365489398885505,
          -2.253662951041139,
          -2.2707856095938648,
          -2.2879158256913192,
          -2.305052520247752,
          -2.322194625248824,
          -2.3393410840426934,
          -2.3564908516203396,
          -2.373642894885084,
          -2.39079619291124,
          -2.407949737191854,
          -2.425102531875523,
          -2.442253593992267,
          -2.4594019536684617,
          -2.476546654330839,
          -2.4936867528995754,
          -2.5108213199705105,
          -2.5279494399865445,
          -2.5450702113982495,
          -2.562182746813788,
          -2.579286173138198,
          -2.596379631702146,
          -2.6134622783802235,
          -2.630533283698913,
          -2.647591832934322,
          -2.6646371261998283,
          -2.6816683785237343,
          -2.6986848199170956,
          -2.715685695431865,
          -2.732670265209489,
          -2.749637804520132,
          -2.7665876037926784,
          -2.783518968635698,
          -2.800431219849535,
          -2.8173236934297132,
          -2.8341957405618303,
          -2.851046727608138,
          -2.867876036086009,
          -2.8846830626384623,
          -2.901467218996971,
          -2.9182279319367437,
          -2.934964643224685,
          -2.951676809560242,
          -2.9683639025093447,
          -2.985025408431653,
          -3.001660828401321,
          -3.0182696781214817,
          -3.034851487832679,
          -3.051405802215447,
          -3.067932180287258,
          -3.0844301952940483,
          -3.100899434596524,
          -3.117339499551478,
          -3.133750005388313,
          -3.150130581080979,
          -3.166480869215539,
          -3.182800525853567,
          -3.19908922039158,
          -3.215346635416703,
          -3.2315724665587724,
          -3.2477664223390676,
          -3.2639282240158782,
          -3.2800576054270754
         ]
        }
       ],
       "layout": {
        "legend": {
         "bgcolor": "#FFFFFF",
         "font": {
          "color": "#666666"
         }
        },
        "paper_bgcolor": "#FFFFFF",
        "plot_bgcolor": "#E5E5E5",
        "template": {
         "data": {
          "bar": [
           {
            "error_x": {
             "color": "#2a3f5f"
            },
            "error_y": {
             "color": "#2a3f5f"
            },
            "marker": {
             "line": {
              "color": "#E5ECF6",
              "width": 0.5
             },
             "pattern": {
              "fillmode": "overlay",
              "size": 10,
              "solidity": 0.2
             }
            },
            "type": "bar"
           }
          ],
          "barpolar": [
           {
            "marker": {
             "line": {
              "color": "#E5ECF6",
              "width": 0.5
             },
             "pattern": {
              "fillmode": "overlay",
              "size": 10,
              "solidity": 0.2
             }
            },
            "type": "barpolar"
           }
          ],
          "carpet": [
           {
            "aaxis": {
             "endlinecolor": "#2a3f5f",
             "gridcolor": "white",
             "linecolor": "white",
             "minorgridcolor": "white",
             "startlinecolor": "#2a3f5f"
            },
            "baxis": {
             "endlinecolor": "#2a3f5f",
             "gridcolor": "white",
             "linecolor": "white",
             "minorgridcolor": "white",
             "startlinecolor": "#2a3f5f"
            },
            "type": "carpet"
           }
          ],
          "choropleth": [
           {
            "colorbar": {
             "outlinewidth": 0,
             "ticks": ""
            },
            "type": "choropleth"
           }
          ],
          "contour": [
           {
            "colorbar": {
             "outlinewidth": 0,
             "ticks": ""
            },
            "colorscale": [
             [
              0,
              "#0d0887"
             ],
             [
              0.1111111111111111,
              "#46039f"
             ],
             [
              0.2222222222222222,
              "#7201a8"
             ],
             [
              0.3333333333333333,
              "#9c179e"
             ],
             [
              0.4444444444444444,
              "#bd3786"
             ],
             [
              0.5555555555555556,
              "#d8576b"
             ],
             [
              0.6666666666666666,
              "#ed7953"
             ],
             [
              0.7777777777777778,
              "#fb9f3a"
             ],
             [
              0.8888888888888888,
              "#fdca26"
             ],
             [
              1,
              "#f0f921"
             ]
            ],
            "type": "contour"
           }
          ],
          "contourcarpet": [
           {
            "colorbar": {
             "outlinewidth": 0,
             "ticks": ""
            },
            "type": "contourcarpet"
           }
          ],
          "heatmap": [
           {
            "colorbar": {
             "outlinewidth": 0,
             "ticks": ""
            },
            "colorscale": [
             [
              0,
              "#0d0887"
             ],
             [
              0.1111111111111111,
              "#46039f"
             ],
             [
              0.2222222222222222,
              "#7201a8"
             ],
             [
              0.3333333333333333,
              "#9c179e"
             ],
             [
              0.4444444444444444,
              "#bd3786"
             ],
             [
              0.5555555555555556,
              "#d8576b"
             ],
             [
              0.6666666666666666,
              "#ed7953"
             ],
             [
              0.7777777777777778,
              "#fb9f3a"
             ],
             [
              0.8888888888888888,
              "#fdca26"
             ],
             [
              1,
              "#f0f921"
             ]
            ],
            "type": "heatmap"
           }
          ],
          "heatmapgl": [
           {
            "colorbar": {
             "outlinewidth": 0,
             "ticks": ""
            },
            "colorscale": [
             [
              0,
              "#0d0887"
             ],
             [
              0.1111111111111111,
              "#46039f"
             ],
             [
              0.2222222222222222,
              "#7201a8"
             ],
             [
              0.3333333333333333,
              "#9c179e"
             ],
             [
              0.4444444444444444,
              "#bd3786"
             ],
             [
              0.5555555555555556,
              "#d8576b"
             ],
             [
              0.6666666666666666,
              "#ed7953"
             ],
             [
              0.7777777777777778,
              "#fb9f3a"
             ],
             [
              0.8888888888888888,
              "#fdca26"
             ],
             [
              1,
              "#f0f921"
             ]
            ],
            "type": "heatmapgl"
           }
          ],
          "histogram": [
           {
            "marker": {
             "pattern": {
              "fillmode": "overlay",
              "size": 10,
              "solidity": 0.2
             }
            },
            "type": "histogram"
           }
          ],
          "histogram2d": [
           {
            "colorbar": {
             "outlinewidth": 0,
             "ticks": ""
            },
            "colorscale": [
             [
              0,
              "#0d0887"
             ],
             [
              0.1111111111111111,
              "#46039f"
             ],
             [
              0.2222222222222222,
              "#7201a8"
             ],
             [
              0.3333333333333333,
              "#9c179e"
             ],
             [
              0.4444444444444444,
              "#bd3786"
             ],
             [
              0.5555555555555556,
              "#d8576b"
             ],
             [
              0.6666666666666666,
              "#ed7953"
             ],
             [
              0.7777777777777778,
              "#fb9f3a"
             ],
             [
              0.8888888888888888,
              "#fdca26"
             ],
             [
              1,
              "#f0f921"
             ]
            ],
            "type": "histogram2d"
           }
          ],
          "histogram2dcontour": [
           {
            "colorbar": {
             "outlinewidth": 0,
             "ticks": ""
            },
            "colorscale": [
             [
              0,
              "#0d0887"
             ],
             [
              0.1111111111111111,
              "#46039f"
             ],
             [
              0.2222222222222222,
              "#7201a8"
             ],
             [
              0.3333333333333333,
              "#9c179e"
             ],
             [
              0.4444444444444444,
              "#bd3786"
             ],
             [
              0.5555555555555556,
              "#d8576b"
             ],
             [
              0.6666666666666666,
              "#ed7953"
             ],
             [
              0.7777777777777778,
              "#fb9f3a"
             ],
             [
              0.8888888888888888,
              "#fdca26"
             ],
             [
              1,
              "#f0f921"
             ]
            ],
            "type": "histogram2dcontour"
           }
          ],
          "mesh3d": [
           {
            "colorbar": {
             "outlinewidth": 0,
             "ticks": ""
            },
            "type": "mesh3d"
           }
          ],
          "parcoords": [
           {
            "line": {
             "colorbar": {
              "outlinewidth": 0,
              "ticks": ""
             }
            },
            "type": "parcoords"
           }
          ],
          "pie": [
           {
            "automargin": true,
            "type": "pie"
           }
          ],
          "scatter": [
           {
            "marker": {
             "colorbar": {
              "outlinewidth": 0,
              "ticks": ""
             }
            },
            "type": "scatter"
           }
          ],
          "scatter3d": [
           {
            "line": {
             "colorbar": {
              "outlinewidth": 0,
              "ticks": ""
             }
            },
            "marker": {
             "colorbar": {
              "outlinewidth": 0,
              "ticks": ""
             }
            },
            "type": "scatter3d"
           }
          ],
          "scattercarpet": [
           {
            "marker": {
             "colorbar": {
              "outlinewidth": 0,
              "ticks": ""
             }
            },
            "type": "scattercarpet"
           }
          ],
          "scattergeo": [
           {
            "marker": {
             "colorbar": {
              "outlinewidth": 0,
              "ticks": ""
             }
            },
            "type": "scattergeo"
           }
          ],
          "scattergl": [
           {
            "marker": {
             "colorbar": {
              "outlinewidth": 0,
              "ticks": ""
             }
            },
            "type": "scattergl"
           }
          ],
          "scattermapbox": [
           {
            "marker": {
             "colorbar": {
              "outlinewidth": 0,
              "ticks": ""
             }
            },
            "type": "scattermapbox"
           }
          ],
          "scatterpolar": [
           {
            "marker": {
             "colorbar": {
              "outlinewidth": 0,
              "ticks": ""
             }
            },
            "type": "scatterpolar"
           }
          ],
          "scatterpolargl": [
           {
            "marker": {
             "colorbar": {
              "outlinewidth": 0,
              "ticks": ""
             }
            },
            "type": "scatterpolargl"
           }
          ],
          "scatterternary": [
           {
            "marker": {
             "colorbar": {
              "outlinewidth": 0,
              "ticks": ""
             }
            },
            "type": "scatterternary"
           }
          ],
          "surface": [
           {
            "colorbar": {
             "outlinewidth": 0,
             "ticks": ""
            },
            "colorscale": [
             [
              0,
              "#0d0887"
             ],
             [
              0.1111111111111111,
              "#46039f"
             ],
             [
              0.2222222222222222,
              "#7201a8"
             ],
             [
              0.3333333333333333,
              "#9c179e"
             ],
             [
              0.4444444444444444,
              "#bd3786"
             ],
             [
              0.5555555555555556,
              "#d8576b"
             ],
             [
              0.6666666666666666,
              "#ed7953"
             ],
             [
              0.7777777777777778,
              "#fb9f3a"
             ],
             [
              0.8888888888888888,
              "#fdca26"
             ],
             [
              1,
              "#f0f921"
             ]
            ],
            "type": "surface"
           }
          ],
          "table": [
           {
            "cells": {
             "fill": {
              "color": "#EBF0F8"
             },
             "line": {
              "color": "white"
             }
            },
            "header": {
             "fill": {
              "color": "#C8D4E3"
             },
             "line": {
              "color": "white"
             }
            },
            "type": "table"
           }
          ]
         },
         "layout": {
          "annotationdefaults": {
           "arrowcolor": "#2a3f5f",
           "arrowhead": 0,
           "arrowwidth": 1
          },
          "autotypenumbers": "strict",
          "coloraxis": {
           "colorbar": {
            "outlinewidth": 0,
            "ticks": ""
           }
          },
          "colorscale": {
           "diverging": [
            [
             0,
             "#8e0152"
            ],
            [
             0.1,
             "#c51b7d"
            ],
            [
             0.2,
             "#de77ae"
            ],
            [
             0.3,
             "#f1b6da"
            ],
            [
             0.4,
             "#fde0ef"
            ],
            [
             0.5,
             "#f7f7f7"
            ],
            [
             0.6,
             "#e6f5d0"
            ],
            [
             0.7,
             "#b8e186"
            ],
            [
             0.8,
             "#7fbc41"
            ],
            [
             0.9,
             "#4d9221"
            ],
            [
             1,
             "#276419"
            ]
           ],
           "sequential": [
            [
             0,
             "#0d0887"
            ],
            [
             0.1111111111111111,
             "#46039f"
            ],
            [
             0.2222222222222222,
             "#7201a8"
            ],
            [
             0.3333333333333333,
             "#9c179e"
            ],
            [
             0.4444444444444444,
             "#bd3786"
            ],
            [
             0.5555555555555556,
             "#d8576b"
            ],
            [
             0.6666666666666666,
             "#ed7953"
            ],
            [
             0.7777777777777778,
             "#fb9f3a"
            ],
            [
             0.8888888888888888,
             "#fdca26"
            ],
            [
             1,
             "#f0f921"
            ]
           ],
           "sequentialminus": [
            [
             0,
             "#0d0887"
            ],
            [
             0.1111111111111111,
             "#46039f"
            ],
            [
             0.2222222222222222,
             "#7201a8"
            ],
            [
             0.3333333333333333,
             "#9c179e"
            ],
            [
             0.4444444444444444,
             "#bd3786"
            ],
            [
             0.5555555555555556,
             "#d8576b"
            ],
            [
             0.6666666666666666,
             "#ed7953"
            ],
            [
             0.7777777777777778,
             "#fb9f3a"
            ],
            [
             0.8888888888888888,
             "#fdca26"
            ],
            [
             1,
             "#f0f921"
            ]
           ]
          },
          "colorway": [
           "#636efa",
           "#EF553B",
           "#00cc96",
           "#ab63fa",
           "#FFA15A",
           "#19d3f3",
           "#FF6692",
           "#B6E880",
           "#FF97FF",
           "#FECB52"
          ],
          "font": {
           "color": "#2a3f5f"
          },
          "geo": {
           "bgcolor": "white",
           "lakecolor": "white",
           "landcolor": "#E5ECF6",
           "showlakes": true,
           "showland": true,
           "subunitcolor": "white"
          },
          "hoverlabel": {
           "align": "left"
          },
          "hovermode": "closest",
          "mapbox": {
           "style": "light"
          },
          "paper_bgcolor": "white",
          "plot_bgcolor": "#E5ECF6",
          "polar": {
           "angularaxis": {
            "gridcolor": "white",
            "linecolor": "white",
            "ticks": ""
           },
           "bgcolor": "#E5ECF6",
           "radialaxis": {
            "gridcolor": "white",
            "linecolor": "white",
            "ticks": ""
           }
          },
          "scene": {
           "xaxis": {
            "backgroundcolor": "#E5ECF6",
            "gridcolor": "white",
            "gridwidth": 2,
            "linecolor": "white",
            "showbackground": true,
            "ticks": "",
            "zerolinecolor": "white"
           },
           "yaxis": {
            "backgroundcolor": "#E5ECF6",
            "gridcolor": "white",
            "gridwidth": 2,
            "linecolor": "white",
            "showbackground": true,
            "ticks": "",
            "zerolinecolor": "white"
           },
           "zaxis": {
            "backgroundcolor": "#E5ECF6",
            "gridcolor": "white",
            "gridwidth": 2,
            "linecolor": "white",
            "showbackground": true,
            "ticks": "",
            "zerolinecolor": "white"
           }
          },
          "shapedefaults": {
           "line": {
            "color": "#2a3f5f"
           }
          },
          "ternary": {
           "aaxis": {
            "gridcolor": "white",
            "linecolor": "white",
            "ticks": ""
           },
           "baxis": {
            "gridcolor": "white",
            "linecolor": "white",
            "ticks": ""
           },
           "bgcolor": "#E5ECF6",
           "caxis": {
            "gridcolor": "white",
            "linecolor": "white",
            "ticks": ""
           }
          },
          "title": {
           "x": 0.05
          },
          "xaxis": {
           "automargin": true,
           "gridcolor": "white",
           "linecolor": "white",
           "ticks": "",
           "title": {
            "standoff": 15
           },
           "zerolinecolor": "white",
           "zerolinewidth": 2
          },
          "yaxis": {
           "automargin": true,
           "gridcolor": "white",
           "linecolor": "white",
           "ticks": "",
           "title": {
            "standoff": 15
           },
           "zerolinecolor": "white",
           "zerolinewidth": 2
          }
         }
        },
        "title": {
         "font": {
          "color": "#151516"
         },
         "text": "Own Prices Elasticity"
        },
        "xaxis": {
         "gridcolor": "#F6F6F6",
         "showgrid": true,
         "tickfont": {
          "color": "#666666"
         },
         "title": {
          "font": {
           "color": "#666666"
          },
          "text": "prices5"
         },
         "zerolinecolor": "#F6F6F6"
        },
        "yaxis": {
         "gridcolor": "#F6F6F6",
         "showgrid": true,
         "tickfont": {
          "color": "#666666"
         },
         "title": {
          "font": {
           "color": "#666666"
          },
          "text": "Elasticity"
         },
         "zerolinecolor": "#F6F6F6"
        }
       }
      },
      "text/html": [
       "<div>                            <div id=\"284c912b-3e97-4031-b816-d9d878798713\" class=\"plotly-graph-div\" style=\"height:525px; width:100%;\"></div>            <script type=\"text/javascript\">                require([\"plotly\"], function(Plotly) {                    window.PLOTLYENV=window.PLOTLYENV || {};\n",
       "                    window.PLOTLYENV.BASE_URL='https://plot.ly';                                    if (document.getElementById(\"284c912b-3e97-4031-b816-d9d878798713\")) {                    Plotly.newPlot(                        \"284c912b-3e97-4031-b816-d9d878798713\",                        [{\"line\":{\"color\":\"rgba(55, 128, 191, 1.0)\",\"dash\":\"solid\",\"shape\":\"linear\",\"width\":1.3},\"mode\":\"lines\",\"name\":\"Brand_5\",\"text\":\"\",\"type\":\"scatter\",\"x\":[0,1,2,3,4,5,6,7,8,9,10,11,12,13,14,15,16,17,18,19,20,21,22,23,24,25,26,27,28,29,30,31,32,33,34,35,36,37,38,39,40,41,42,43,44,45,46,47,48,49,50,51,52,53,54,55,56,57,58,59,60,61,62,63,64,65,66,67,68,69,70,71,72,73,74,75,76,77,78,79,80,81,82,83,84,85,86,87,88,89,90,91,92,93,94,95,96,97,98,99,100,101,102,103,104,105,106,107,108,109,110,111,112,113,114,115,116,117,118,119,120,121,122,123,124,125,126,127,128,129,130,131,132,133,134,135,136,137,138,139,140,141,142,143,144,145,146,147,148,149,150,151,152,153,154,155,156,157,158,159,160,161,162,163,164,165,166,167,168,169,170,171,172,173,174,175,176,177,178,179,180,181,182,183,184,185,186,187,188,189,190,191,192,193,194,195,196,197,198,199,200,201,202,203,204,205,206,207,208,209,210,211,212,213,214,215,216,217,218,219,220,221,222,223,224,225,226,227,228,229,230,231,232,233,234,235,236,237,238,239,240,241,242,243,244,245,246,247,248,249,250,251,252,253,254,255,256,257,258,259,260,261,262,263,264,265,266,267,268,269,270,271,272,273,274,275,276,277,278,279,280,281,282,283,284,285,286,287,288,289,290,291,292,293,294,295,296,297,298],\"y\":[-0.04905555652231245,-0.05061651841591673,-0.05220685000209414,-0.053826997634167935,-0.05547741271442936,-0.0571585517043372,-0.058870876133081014,-0.06061485260444966,-0.06239095280194521,-0.06419965349208409,-0.06604143652582257,-0.06791678883804711,-0.06982620244506528,-0.07177017444003451,-0.07374920698626522,-0.07576380730833218,-0.07781448768092934,-0.0799017654154008,-0.0820261628438821,-0.08418820730098212,-0.08638843110294006,-0.08862737152418482,-0.0909055707712315,-0.09322357595384065,-0.09558193905337463,-0.09798121688827521,-0.10042197107659655,-0.1029047679955176,-0.10543017873776558,-0.10799877906487781,-0.1106111493572287,-0.1132678745607533,-0.11596954413029271,-0.11871675196949238,-0.12151009636717866,-0.12435017993014705,-0.1272376095122878,-0.13017299613998093,-0.1331569549336907,-0.13619010502568912,-0.13927306947384513,-0.1424064751714053,-0.14559095275270761,-0.14882713649475593,-0.15211566421459843,-0.15545717716244184,-0.1588523199104431,-0.1623017402371195,-0.1658060890073183,-0.16936602004769022,-0.17298219001761347,-0.1766552582755155,-0.18038588674054545,-0.18417473974954554,-0.1880224839092819,-0.1919297879438892,-0.19589732253749098,-0.19992576017196137,-0.2040157749597908,-0.20816804247203247,-0.2123832395612944,-0.2166620441797647,-0.2210051351922413,-0.22541319218415878,-0.229886895264596,-0.23442692486425978,-0.23903396152844428,-0.24370868570496437,-0.24845177752707184,-0.2532639165913681,-0.25814578173072616,-0.26309805078224785,-0.2681214003502808,-0.27321650556452987,-0.2783840398333009,-0.28362467459192126,-0.28893907904638777,-0.29432791991229823,-0.2997918611491289,-0.3053315636899268,-0.31094768516649635,-0.31664087963015447,-0.32241179726815106,-0.32826108411584687,-0.33418938176475155,-0.34019732706653427,-0.3462855518331194,-0.35245468253299594,-0.3587053399838715,-0.36503813904180726,-0.371453688286982,-0.37795258970624107,-0.3845354383725882,-0.39120282212179086,-0.3979553212262768,-0.40479350806650327,-0.4117179467999929,-0.4187291930282347,-0.42582779346165617,-0.43301428558288196,-0.4402891973084978,-0.4476530466495539,-0.4551063413710359,-0.46264957865055545,-0.47028324473650296,-0.4780078146059216,-0.48582375162236907,-0.4937315071940343,-0.5017315204323832,-0.5098242178116218,-0.5180100128292595,-0.5262893056680691,-0.5346624828597433,-0.543129916950548,-0.5516919661692896,-0.5603489740978991,-0.5691012693449613,-0.5779491652225046,-0.5868929594263779,-0.5959329337205433,-0.605069353625618,-0.6143024681119926,-0.6236325092978678,-0.6330596921525428,-0.6425842142052935,-0.6522062552601794,-0.6619259771171178,-0.6717435232995639,-0.6816590187891299,-0.6916725697674883,-0.701784263365881,-0.7119941674225794,-0.7223023302486085,-0.7327087804020783,-0.743213526471426,-0.7538165568678983,-0.7645178396275787,-0.7753173222232694,-0.7862149313865241,-0.7972105729401249,-0.8083041316412942,-0.8194954710359103,-0.8307844333240034,-0.8421708392367879,-0.8536544879254842,-0.8652351568621693,-0.8769126017528882,-0.8886865564632418,-0.9005567329566614,-0.912522821245569,-0.9245844893555965,-0.9367413833030436,-0.9489931270857277,-0.9613393226873675,-0.9737795500956359,-0.9863133673339771,-0.998940310507319,-1.011659893861737,-1.0244716098581488,-1.037374929260095,-1.0503693012356379,-1.0634541534734032,-1.0766288923127645,-1.0898929028881585,-1.1032455492875024,-1.1166861747246752,-1.1302141017259797,-1.1438286323305245,-1.1575290483044198,-1.171314611368674,-1.1851845634406617,-1.1991381268890067,-1.2131745048017264,-1.2272928812674577,-1.2414924216695444,-1.2557722729928011,-1.2701315641427053,-1.284569406276775,-1.2990848931478793,-1.3136771014591888,-1.3283450912304968,-1.3430879061755885,-1.3579045740903466,-1.3727941072512662,-1.3877555028240205,-1.4027877432817382,-1.4178897968326039,-1.4330606178564194,-1.4482991473497209,-1.4636043133790615,-1.4789750315420405,-1.4944102054356634,-1.5099087271316076,-1.5254694776579565,-1.541091327486958,-1.5567731370283624,-1.5725137571278869,-1.5883120295703461,-1.6041667875869956,-1.6200768563665955,-1.6360410535697711,-1.652058189846162,-1.6681270693539043,-1.6842464902809753,-1.7004152453679289,-1.71663212243155,-1.7328959048889634,-1.7492053722817238,-1.7655593007994335,-1.7819564638024326,-1.7983956323430863,-1.8148755756852466,-1.8313950618214285,-1.847952857987272,-1.8645477311728538,-1.88117844863043,-1.8978437783781925,-1.9145424896996497,-1.9312733536381999,-1.9480351434865486,-1.9648266352705719,-1.9816466082272635,-1.998493845276414,-2.0153671334856713,-2.032265264528659,-2.0491870351358306,-2.066131247537741,-2.0830967099004574,-2.100082236752815,-2.117086649405254,-2.134108776359977,-2.1511474537121926,-2.1682015255422065,-2.185269844298157,-2.2023512711691784,-2.2194446764488234,-2.2365489398885505,-2.253662951041139,-2.2707856095938648,-2.2879158256913192,-2.305052520247752,-2.322194625248824,-2.3393410840426934,-2.3564908516203396,-2.373642894885084,-2.39079619291124,-2.407949737191854,-2.425102531875523,-2.442253593992267,-2.4594019536684617,-2.476546654330839,-2.4936867528995754,-2.5108213199705105,-2.5279494399865445,-2.5450702113982495,-2.562182746813788,-2.579286173138198,-2.596379631702146,-2.6134622783802235,-2.630533283698913,-2.647591832934322,-2.6646371261998283,-2.6816683785237343,-2.6986848199170956,-2.715685695431865,-2.732670265209489,-2.749637804520132,-2.7665876037926784,-2.783518968635698,-2.800431219849535,-2.8173236934297132,-2.8341957405618303,-2.851046727608138,-2.867876036086009,-2.8846830626384623,-2.901467218996971,-2.9182279319367437,-2.934964643224685,-2.951676809560242,-2.9683639025093447,-2.985025408431653,-3.001660828401321,-3.0182696781214817,-3.034851487832679,-3.051405802215447,-3.067932180287258,-3.0844301952940483,-3.100899434596524,-3.117339499551478,-3.133750005388313,-3.150130581080979,-3.166480869215539,-3.182800525853567,-3.19908922039158,-3.215346635416703,-3.2315724665587724,-3.2477664223390676,-3.2639282240158782,-3.2800576054270754]}],                        {\"legend\":{\"bgcolor\":\"#FFFFFF\",\"font\":{\"color\":\"#666666\"}},\"paper_bgcolor\":\"#FFFFFF\",\"plot_bgcolor\":\"#E5E5E5\",\"template\":{\"data\":{\"bar\":[{\"error_x\":{\"color\":\"#2a3f5f\"},\"error_y\":{\"color\":\"#2a3f5f\"},\"marker\":{\"line\":{\"color\":\"#E5ECF6\",\"width\":0.5},\"pattern\":{\"fillmode\":\"overlay\",\"size\":10,\"solidity\":0.2}},\"type\":\"bar\"}],\"barpolar\":[{\"marker\":{\"line\":{\"color\":\"#E5ECF6\",\"width\":0.5},\"pattern\":{\"fillmode\":\"overlay\",\"size\":10,\"solidity\":0.2}},\"type\":\"barpolar\"}],\"carpet\":[{\"aaxis\":{\"endlinecolor\":\"#2a3f5f\",\"gridcolor\":\"white\",\"linecolor\":\"white\",\"minorgridcolor\":\"white\",\"startlinecolor\":\"#2a3f5f\"},\"baxis\":{\"endlinecolor\":\"#2a3f5f\",\"gridcolor\":\"white\",\"linecolor\":\"white\",\"minorgridcolor\":\"white\",\"startlinecolor\":\"#2a3f5f\"},\"type\":\"carpet\"}],\"choropleth\":[{\"colorbar\":{\"outlinewidth\":0,\"ticks\":\"\"},\"type\":\"choropleth\"}],\"contour\":[{\"colorbar\":{\"outlinewidth\":0,\"ticks\":\"\"},\"colorscale\":[[0.0,\"#0d0887\"],[0.1111111111111111,\"#46039f\"],[0.2222222222222222,\"#7201a8\"],[0.3333333333333333,\"#9c179e\"],[0.4444444444444444,\"#bd3786\"],[0.5555555555555556,\"#d8576b\"],[0.6666666666666666,\"#ed7953\"],[0.7777777777777778,\"#fb9f3a\"],[0.8888888888888888,\"#fdca26\"],[1.0,\"#f0f921\"]],\"type\":\"contour\"}],\"contourcarpet\":[{\"colorbar\":{\"outlinewidth\":0,\"ticks\":\"\"},\"type\":\"contourcarpet\"}],\"heatmap\":[{\"colorbar\":{\"outlinewidth\":0,\"ticks\":\"\"},\"colorscale\":[[0.0,\"#0d0887\"],[0.1111111111111111,\"#46039f\"],[0.2222222222222222,\"#7201a8\"],[0.3333333333333333,\"#9c179e\"],[0.4444444444444444,\"#bd3786\"],[0.5555555555555556,\"#d8576b\"],[0.6666666666666666,\"#ed7953\"],[0.7777777777777778,\"#fb9f3a\"],[0.8888888888888888,\"#fdca26\"],[1.0,\"#f0f921\"]],\"type\":\"heatmap\"}],\"heatmapgl\":[{\"colorbar\":{\"outlinewidth\":0,\"ticks\":\"\"},\"colorscale\":[[0.0,\"#0d0887\"],[0.1111111111111111,\"#46039f\"],[0.2222222222222222,\"#7201a8\"],[0.3333333333333333,\"#9c179e\"],[0.4444444444444444,\"#bd3786\"],[0.5555555555555556,\"#d8576b\"],[0.6666666666666666,\"#ed7953\"],[0.7777777777777778,\"#fb9f3a\"],[0.8888888888888888,\"#fdca26\"],[1.0,\"#f0f921\"]],\"type\":\"heatmapgl\"}],\"histogram\":[{\"marker\":{\"pattern\":{\"fillmode\":\"overlay\",\"size\":10,\"solidity\":0.2}},\"type\":\"histogram\"}],\"histogram2d\":[{\"colorbar\":{\"outlinewidth\":0,\"ticks\":\"\"},\"colorscale\":[[0.0,\"#0d0887\"],[0.1111111111111111,\"#46039f\"],[0.2222222222222222,\"#7201a8\"],[0.3333333333333333,\"#9c179e\"],[0.4444444444444444,\"#bd3786\"],[0.5555555555555556,\"#d8576b\"],[0.6666666666666666,\"#ed7953\"],[0.7777777777777778,\"#fb9f3a\"],[0.8888888888888888,\"#fdca26\"],[1.0,\"#f0f921\"]],\"type\":\"histogram2d\"}],\"histogram2dcontour\":[{\"colorbar\":{\"outlinewidth\":0,\"ticks\":\"\"},\"colorscale\":[[0.0,\"#0d0887\"],[0.1111111111111111,\"#46039f\"],[0.2222222222222222,\"#7201a8\"],[0.3333333333333333,\"#9c179e\"],[0.4444444444444444,\"#bd3786\"],[0.5555555555555556,\"#d8576b\"],[0.6666666666666666,\"#ed7953\"],[0.7777777777777778,\"#fb9f3a\"],[0.8888888888888888,\"#fdca26\"],[1.0,\"#f0f921\"]],\"type\":\"histogram2dcontour\"}],\"mesh3d\":[{\"colorbar\":{\"outlinewidth\":0,\"ticks\":\"\"},\"type\":\"mesh3d\"}],\"parcoords\":[{\"line\":{\"colorbar\":{\"outlinewidth\":0,\"ticks\":\"\"}},\"type\":\"parcoords\"}],\"pie\":[{\"automargin\":true,\"type\":\"pie\"}],\"scatter\":[{\"marker\":{\"colorbar\":{\"outlinewidth\":0,\"ticks\":\"\"}},\"type\":\"scatter\"}],\"scatter3d\":[{\"line\":{\"colorbar\":{\"outlinewidth\":0,\"ticks\":\"\"}},\"marker\":{\"colorbar\":{\"outlinewidth\":0,\"ticks\":\"\"}},\"type\":\"scatter3d\"}],\"scattercarpet\":[{\"marker\":{\"colorbar\":{\"outlinewidth\":0,\"ticks\":\"\"}},\"type\":\"scattercarpet\"}],\"scattergeo\":[{\"marker\":{\"colorbar\":{\"outlinewidth\":0,\"ticks\":\"\"}},\"type\":\"scattergeo\"}],\"scattergl\":[{\"marker\":{\"colorbar\":{\"outlinewidth\":0,\"ticks\":\"\"}},\"type\":\"scattergl\"}],\"scattermapbox\":[{\"marker\":{\"colorbar\":{\"outlinewidth\":0,\"ticks\":\"\"}},\"type\":\"scattermapbox\"}],\"scatterpolar\":[{\"marker\":{\"colorbar\":{\"outlinewidth\":0,\"ticks\":\"\"}},\"type\":\"scatterpolar\"}],\"scatterpolargl\":[{\"marker\":{\"colorbar\":{\"outlinewidth\":0,\"ticks\":\"\"}},\"type\":\"scatterpolargl\"}],\"scatterternary\":[{\"marker\":{\"colorbar\":{\"outlinewidth\":0,\"ticks\":\"\"}},\"type\":\"scatterternary\"}],\"surface\":[{\"colorbar\":{\"outlinewidth\":0,\"ticks\":\"\"},\"colorscale\":[[0.0,\"#0d0887\"],[0.1111111111111111,\"#46039f\"],[0.2222222222222222,\"#7201a8\"],[0.3333333333333333,\"#9c179e\"],[0.4444444444444444,\"#bd3786\"],[0.5555555555555556,\"#d8576b\"],[0.6666666666666666,\"#ed7953\"],[0.7777777777777778,\"#fb9f3a\"],[0.8888888888888888,\"#fdca26\"],[1.0,\"#f0f921\"]],\"type\":\"surface\"}],\"table\":[{\"cells\":{\"fill\":{\"color\":\"#EBF0F8\"},\"line\":{\"color\":\"white\"}},\"header\":{\"fill\":{\"color\":\"#C8D4E3\"},\"line\":{\"color\":\"white\"}},\"type\":\"table\"}]},\"layout\":{\"annotationdefaults\":{\"arrowcolor\":\"#2a3f5f\",\"arrowhead\":0,\"arrowwidth\":1},\"autotypenumbers\":\"strict\",\"coloraxis\":{\"colorbar\":{\"outlinewidth\":0,\"ticks\":\"\"}},\"colorscale\":{\"diverging\":[[0,\"#8e0152\"],[0.1,\"#c51b7d\"],[0.2,\"#de77ae\"],[0.3,\"#f1b6da\"],[0.4,\"#fde0ef\"],[0.5,\"#f7f7f7\"],[0.6,\"#e6f5d0\"],[0.7,\"#b8e186\"],[0.8,\"#7fbc41\"],[0.9,\"#4d9221\"],[1,\"#276419\"]],\"sequential\":[[0.0,\"#0d0887\"],[0.1111111111111111,\"#46039f\"],[0.2222222222222222,\"#7201a8\"],[0.3333333333333333,\"#9c179e\"],[0.4444444444444444,\"#bd3786\"],[0.5555555555555556,\"#d8576b\"],[0.6666666666666666,\"#ed7953\"],[0.7777777777777778,\"#fb9f3a\"],[0.8888888888888888,\"#fdca26\"],[1.0,\"#f0f921\"]],\"sequentialminus\":[[0.0,\"#0d0887\"],[0.1111111111111111,\"#46039f\"],[0.2222222222222222,\"#7201a8\"],[0.3333333333333333,\"#9c179e\"],[0.4444444444444444,\"#bd3786\"],[0.5555555555555556,\"#d8576b\"],[0.6666666666666666,\"#ed7953\"],[0.7777777777777778,\"#fb9f3a\"],[0.8888888888888888,\"#fdca26\"],[1.0,\"#f0f921\"]]},\"colorway\":[\"#636efa\",\"#EF553B\",\"#00cc96\",\"#ab63fa\",\"#FFA15A\",\"#19d3f3\",\"#FF6692\",\"#B6E880\",\"#FF97FF\",\"#FECB52\"],\"font\":{\"color\":\"#2a3f5f\"},\"geo\":{\"bgcolor\":\"white\",\"lakecolor\":\"white\",\"landcolor\":\"#E5ECF6\",\"showlakes\":true,\"showland\":true,\"subunitcolor\":\"white\"},\"hoverlabel\":{\"align\":\"left\"},\"hovermode\":\"closest\",\"mapbox\":{\"style\":\"light\"},\"paper_bgcolor\":\"white\",\"plot_bgcolor\":\"#E5ECF6\",\"polar\":{\"angularaxis\":{\"gridcolor\":\"white\",\"linecolor\":\"white\",\"ticks\":\"\"},\"bgcolor\":\"#E5ECF6\",\"radialaxis\":{\"gridcolor\":\"white\",\"linecolor\":\"white\",\"ticks\":\"\"}},\"scene\":{\"xaxis\":{\"backgroundcolor\":\"#E5ECF6\",\"gridcolor\":\"white\",\"gridwidth\":2,\"linecolor\":\"white\",\"showbackground\":true,\"ticks\":\"\",\"zerolinecolor\":\"white\"},\"yaxis\":{\"backgroundcolor\":\"#E5ECF6\",\"gridcolor\":\"white\",\"gridwidth\":2,\"linecolor\":\"white\",\"showbackground\":true,\"ticks\":\"\",\"zerolinecolor\":\"white\"},\"zaxis\":{\"backgroundcolor\":\"#E5ECF6\",\"gridcolor\":\"white\",\"gridwidth\":2,\"linecolor\":\"white\",\"showbackground\":true,\"ticks\":\"\",\"zerolinecolor\":\"white\"}},\"shapedefaults\":{\"line\":{\"color\":\"#2a3f5f\"}},\"ternary\":{\"aaxis\":{\"gridcolor\":\"white\",\"linecolor\":\"white\",\"ticks\":\"\"},\"baxis\":{\"gridcolor\":\"white\",\"linecolor\":\"white\",\"ticks\":\"\"},\"bgcolor\":\"#E5ECF6\",\"caxis\":{\"gridcolor\":\"white\",\"linecolor\":\"white\",\"ticks\":\"\"}},\"title\":{\"x\":0.05},\"xaxis\":{\"automargin\":true,\"gridcolor\":\"white\",\"linecolor\":\"white\",\"ticks\":\"\",\"title\":{\"standoff\":15},\"zerolinecolor\":\"white\",\"zerolinewidth\":2},\"yaxis\":{\"automargin\":true,\"gridcolor\":\"white\",\"linecolor\":\"white\",\"ticks\":\"\",\"title\":{\"standoff\":15},\"zerolinecolor\":\"white\",\"zerolinewidth\":2}}},\"title\":{\"font\":{\"color\":\"#151516\"},\"text\":\"Own Prices Elasticity\"},\"xaxis\":{\"gridcolor\":\"#F6F6F6\",\"showgrid\":true,\"tickfont\":{\"color\":\"#666666\"},\"title\":{\"font\":{\"color\":\"#666666\"},\"text\":\"prices5\"},\"zerolinecolor\":\"#F6F6F6\"},\"yaxis\":{\"gridcolor\":\"#F6F6F6\",\"showgrid\":true,\"tickfont\":{\"color\":\"#666666\"},\"title\":{\"font\":{\"color\":\"#666666\"},\"text\":\"Elasticity\"},\"zerolinecolor\":\"#F6F6F6\"}},                        {\"showLink\": true, \"linkText\": \"Export to plot.ly\", \"plotlyServerURL\": \"https://plot.ly\", \"responsive\": true}                    ).then(function(){\n",
       "                            \n",
       "var gd = document.getElementById('284c912b-3e97-4031-b816-d9d878798713');\n",
       "var x = new MutationObserver(function (mutations, observer) {{\n",
       "        var display = window.getComputedStyle(gd).display;\n",
       "        if (!display || display === 'none') {{\n",
       "            console.log([gd, 'removed!']);\n",
       "            Plotly.purge(gd);\n",
       "            observer.disconnect();\n",
       "        }}\n",
       "}});\n",
       "\n",
       "// Listen for the removal of the full notebook cells\n",
       "var notebookContainer = gd.closest('#notebook-container');\n",
       "if (notebookContainer) {{\n",
       "    x.observe(notebookContainer, {childList: true});\n",
       "}}\n",
       "\n",
       "// Listen for the clearing of the current output cell\n",
       "var outputEl = gd.closest('.output');\n",
       "if (outputEl) {{\n",
       "    x.observe(outputEl, {childList: true});\n",
       "}}\n",
       "\n",
       "                        })                };                });            </script>        </div>"
      ]
     },
     "metadata": {},
     "output_type": "display_data"
    }
   ],
   "source": [
    "df_price_elasticity['Brand_5'].iplot(kind = 'line', xTitle = 'prices5',color = 'blue',\n",
    "                                     yTitle ='Elasticity', title='Own Prices Elasticity')"
   ]
  },
  {
   "cell_type": "markdown",
   "id": "dbb552de",
   "metadata": {},
   "source": [
    "### Cross Price Elasticity Brand 5, Cross Brand 4"
   ]
  },
  {
   "cell_type": "code",
   "execution_count": 84,
   "id": "058f14dd",
   "metadata": {},
   "outputs": [
    {
     "data": {
      "text/html": [
       "<div>\n",
       "<style scoped>\n",
       "    .dataframe tbody tr th:only-of-type {\n",
       "        vertical-align: middle;\n",
       "    }\n",
       "\n",
       "    .dataframe tbody tr th {\n",
       "        vertical-align: top;\n",
       "    }\n",
       "\n",
       "    .dataframe thead th {\n",
       "        text-align: right;\n",
       "    }\n",
       "</style>\n",
       "<table border=\"1\" class=\"dataframe\">\n",
       "  <thead>\n",
       "    <tr style=\"text-align: right;\">\n",
       "      <th></th>\n",
       "      <th>Price_1</th>\n",
       "      <th>Price_2</th>\n",
       "      <th>Price_3</th>\n",
       "      <th>Price_4</th>\n",
       "      <th>Price_5</th>\n",
       "    </tr>\n",
       "  </thead>\n",
       "  <tbody>\n",
       "    <tr>\n",
       "      <th>0</th>\n",
       "      <td>1.384559</td>\n",
       "      <td>1.764717</td>\n",
       "      <td>2.006694</td>\n",
       "      <td>0.50</td>\n",
       "      <td>2.654296</td>\n",
       "    </tr>\n",
       "    <tr>\n",
       "      <th>1</th>\n",
       "      <td>1.384559</td>\n",
       "      <td>1.764717</td>\n",
       "      <td>2.006694</td>\n",
       "      <td>0.51</td>\n",
       "      <td>2.654296</td>\n",
       "    </tr>\n",
       "    <tr>\n",
       "      <th>2</th>\n",
       "      <td>1.384559</td>\n",
       "      <td>1.764717</td>\n",
       "      <td>2.006694</td>\n",
       "      <td>0.52</td>\n",
       "      <td>2.654296</td>\n",
       "    </tr>\n",
       "    <tr>\n",
       "      <th>3</th>\n",
       "      <td>1.384559</td>\n",
       "      <td>1.764717</td>\n",
       "      <td>2.006694</td>\n",
       "      <td>0.53</td>\n",
       "      <td>2.654296</td>\n",
       "    </tr>\n",
       "    <tr>\n",
       "      <th>4</th>\n",
       "      <td>1.384559</td>\n",
       "      <td>1.764717</td>\n",
       "      <td>2.006694</td>\n",
       "      <td>0.54</td>\n",
       "      <td>2.654296</td>\n",
       "    </tr>\n",
       "  </tbody>\n",
       "</table>\n",
       "</div>"
      ],
      "text/plain": [
       "    Price_1   Price_2   Price_3  Price_4   Price_5\n",
       "0  1.384559  1.764717  2.006694     0.50  2.654296\n",
       "1  1.384559  1.764717  2.006694     0.51  2.654296\n",
       "2  1.384559  1.764717  2.006694     0.52  2.654296\n",
       "3  1.384559  1.764717  2.006694     0.53  2.654296\n",
       "4  1.384559  1.764717  2.006694     0.54  2.654296"
      ]
     },
     "execution_count": 84,
     "metadata": {},
     "output_type": "execute_result"
    }
   ],
   "source": [
    "df_brand5_cross_brand4 = pd.DataFrame(index=np.arange(price_range.size))\n",
    "df_brand5_cross_brand4['Price_1'] = brand_choice['Price_1'].mean()\n",
    "df_brand5_cross_brand4['Price_2'] = brand_choice['Price_2'].mean()\n",
    "df_brand5_cross_brand4['Price_3'] = brand_choice['Price_3'].mean()\n",
    "df_brand5_cross_brand4['Price_4'] = price_range\n",
    "df_brand5_cross_brand4['Price_5'] = brand_choice['Price_5'].mean()\n",
    "df_brand5_cross_brand4.head()"
   ]
  },
  {
   "cell_type": "code",
   "execution_count": 85,
   "id": "40487ead",
   "metadata": {},
   "outputs": [],
   "source": [
    "# predict \n",
    "predict_brand5_cross_brand4 = model_brand_choice.predict_proba(df_brand5_cross_brand4)"
   ]
  },
  {
   "cell_type": "code",
   "execution_count": 89,
   "id": "c78cb58b",
   "metadata": {},
   "outputs": [],
   "source": [
    "#select the probability of brand 4\n",
    "pr_brand_4 = predict_brand5_cross_brand4[:][ : , 3]"
   ]
  },
  {
   "cell_type": "code",
   "execution_count": 90,
   "id": "a60b4cf4",
   "metadata": {},
   "outputs": [],
   "source": [
    "# In order to calculate the cross brand price elasticity, we need to use the new formula we introduced in the lecture.\n",
    "# The elasticity is equal to negative the price coefficient of the own brand multiplied by the price of the cross brand,\n",
    "# further multiplied by the probability for choosing the cross brand.\n",
    "\n",
    "brand5_cross_brand4_price_elasticity = -beta5 * price_range * pr_brand_4"
   ]
  },
  {
   "cell_type": "code",
   "execution_count": 91,
   "id": "7e7988c9",
   "metadata": {},
   "outputs": [
    {
     "data": {
      "text/html": [
       "<div>\n",
       "<style scoped>\n",
       "    .dataframe tbody tr th:only-of-type {\n",
       "        vertical-align: middle;\n",
       "    }\n",
       "\n",
       "    .dataframe tbody tr th {\n",
       "        vertical-align: top;\n",
       "    }\n",
       "\n",
       "    .dataframe thead th {\n",
       "        text-align: right;\n",
       "    }\n",
       "</style>\n",
       "<table border=\"1\" class=\"dataframe\">\n",
       "  <thead>\n",
       "    <tr style=\"text-align: right;\">\n",
       "      <th></th>\n",
       "      <th>Price_Point</th>\n",
       "      <th>means</th>\n",
       "      <th>pe_seg1</th>\n",
       "      <th>pe_seg2</th>\n",
       "      <th>pe_seg0</th>\n",
       "      <th>pe_seg3</th>\n",
       "      <th>elasticity_promotion_1</th>\n",
       "      <th>elasticity_promotion_0</th>\n",
       "      <th>Brand_5</th>\n",
       "      <th>Brand_5_Cross_Brand_4</th>\n",
       "    </tr>\n",
       "  </thead>\n",
       "  <tbody>\n",
       "    <tr>\n",
       "      <th>0</th>\n",
       "      <td>0.50</td>\n",
       "      <td>-0.096396</td>\n",
       "      <td>-0.119088</td>\n",
       "      <td>-0.030921</td>\n",
       "      <td>-0.211169</td>\n",
       "      <td>-0.168042</td>\n",
       "      <td>-0.125732</td>\n",
       "      <td>-0.195644</td>\n",
       "      <td>-0.049056</td>\n",
       "      <td>0.332011</td>\n",
       "    </tr>\n",
       "    <tr>\n",
       "      <th>1</th>\n",
       "      <td>0.51</td>\n",
       "      <td>-0.100464</td>\n",
       "      <td>-0.123271</td>\n",
       "      <td>-0.032688</td>\n",
       "      <td>-0.217739</td>\n",
       "      <td>-0.172967</td>\n",
       "      <td>-0.129848</td>\n",
       "      <td>-0.201765</td>\n",
       "      <td>-0.050617</td>\n",
       "      <td>0.337288</td>\n",
       "    </tr>\n",
       "    <tr>\n",
       "      <th>2</th>\n",
       "      <td>0.52</td>\n",
       "      <td>-0.104659</td>\n",
       "      <td>-0.127548</td>\n",
       "      <td>-0.034541</td>\n",
       "      <td>-0.224417</td>\n",
       "      <td>-0.177962</td>\n",
       "      <td>-0.134043</td>\n",
       "      <td>-0.207989</td>\n",
       "      <td>-0.052207</td>\n",
       "      <td>0.342507</td>\n",
       "    </tr>\n",
       "    <tr>\n",
       "      <th>3</th>\n",
       "      <td>0.53</td>\n",
       "      <td>-0.108984</td>\n",
       "      <td>-0.131919</td>\n",
       "      <td>-0.036486</td>\n",
       "      <td>-0.231204</td>\n",
       "      <td>-0.183027</td>\n",
       "      <td>-0.138318</td>\n",
       "      <td>-0.214316</td>\n",
       "      <td>-0.053827</td>\n",
       "      <td>0.347669</td>\n",
       "    </tr>\n",
       "    <tr>\n",
       "      <th>4</th>\n",
       "      <td>0.54</td>\n",
       "      <td>-0.113442</td>\n",
       "      <td>-0.136386</td>\n",
       "      <td>-0.038526</td>\n",
       "      <td>-0.238099</td>\n",
       "      <td>-0.188165</td>\n",
       "      <td>-0.142674</td>\n",
       "      <td>-0.220747</td>\n",
       "      <td>-0.055477</td>\n",
       "      <td>0.352773</td>\n",
       "    </tr>\n",
       "  </tbody>\n",
       "</table>\n",
       "</div>"
      ],
      "text/plain": [
       "   Price_Point     means   pe_seg1   pe_seg2   pe_seg0   pe_seg3  \\\n",
       "0         0.50 -0.096396 -0.119088 -0.030921 -0.211169 -0.168042   \n",
       "1         0.51 -0.100464 -0.123271 -0.032688 -0.217739 -0.172967   \n",
       "2         0.52 -0.104659 -0.127548 -0.034541 -0.224417 -0.177962   \n",
       "3         0.53 -0.108984 -0.131919 -0.036486 -0.231204 -0.183027   \n",
       "4         0.54 -0.113442 -0.136386 -0.038526 -0.238099 -0.188165   \n",
       "\n",
       "   elasticity_promotion_1  elasticity_promotion_0   Brand_5  \\\n",
       "0               -0.125732               -0.195644 -0.049056   \n",
       "1               -0.129848               -0.201765 -0.050617   \n",
       "2               -0.134043               -0.207989 -0.052207   \n",
       "3               -0.138318               -0.214316 -0.053827   \n",
       "4               -0.142674               -0.220747 -0.055477   \n",
       "\n",
       "   Brand_5_Cross_Brand_4  \n",
       "0               0.332011  \n",
       "1               0.337288  \n",
       "2               0.342507  \n",
       "3               0.347669  \n",
       "4               0.352773  "
      ]
     },
     "execution_count": 91,
     "metadata": {},
     "output_type": "execute_result"
    }
   ],
   "source": [
    "df_price_elasticity['Brand_5_Cross_Brand_4'] = brand5_cross_brand4_price_elasticity\n",
    "df_price_elasticity.head()"
   ]
  },
  {
   "cell_type": "code",
   "execution_count": 92,
   "id": "d3f43e91",
   "metadata": {},
   "outputs": [
    {
     "data": {
      "application/vnd.plotly.v1+json": {
       "config": {
        "linkText": "Export to plot.ly",
        "plotlyServerURL": "https://plot.ly",
        "showLink": true
       },
       "data": [
        {
         "line": {
          "color": "rgba(55, 128, 191, 1.0)",
          "dash": "solid",
          "shape": "linear",
          "width": 1.3
         },
         "mode": "lines",
         "name": "Brand_5_Cross_Brand_4",
         "text": "",
         "type": "scatter",
         "x": [
          0,
          1,
          2,
          3,
          4,
          5,
          6,
          7,
          8,
          9,
          10,
          11,
          12,
          13,
          14,
          15,
          16,
          17,
          18,
          19,
          20,
          21,
          22,
          23,
          24,
          25,
          26,
          27,
          28,
          29,
          30,
          31,
          32,
          33,
          34,
          35,
          36,
          37,
          38,
          39,
          40,
          41,
          42,
          43,
          44,
          45,
          46,
          47,
          48,
          49,
          50,
          51,
          52,
          53,
          54,
          55,
          56,
          57,
          58,
          59,
          60,
          61,
          62,
          63,
          64,
          65,
          66,
          67,
          68,
          69,
          70,
          71,
          72,
          73,
          74,
          75,
          76,
          77,
          78,
          79,
          80,
          81,
          82,
          83,
          84,
          85,
          86,
          87,
          88,
          89,
          90,
          91,
          92,
          93,
          94,
          95,
          96,
          97,
          98,
          99,
          100,
          101,
          102,
          103,
          104,
          105,
          106,
          107,
          108,
          109,
          110,
          111,
          112,
          113,
          114,
          115,
          116,
          117,
          118,
          119,
          120,
          121,
          122,
          123,
          124,
          125,
          126,
          127,
          128,
          129,
          130,
          131,
          132,
          133,
          134,
          135,
          136,
          137,
          138,
          139,
          140,
          141,
          142,
          143,
          144,
          145,
          146,
          147,
          148,
          149,
          150,
          151,
          152,
          153,
          154,
          155,
          156,
          157,
          158,
          159,
          160,
          161,
          162,
          163,
          164,
          165,
          166,
          167,
          168,
          169,
          170,
          171,
          172,
          173,
          174,
          175,
          176,
          177,
          178,
          179,
          180,
          181,
          182,
          183,
          184,
          185,
          186,
          187,
          188,
          189,
          190,
          191,
          192,
          193,
          194,
          195,
          196,
          197,
          198,
          199,
          200,
          201,
          202,
          203,
          204,
          205,
          206,
          207,
          208,
          209,
          210,
          211,
          212,
          213,
          214,
          215,
          216,
          217,
          218,
          219,
          220,
          221,
          222,
          223,
          224,
          225,
          226,
          227,
          228,
          229,
          230,
          231,
          232,
          233,
          234,
          235,
          236,
          237,
          238,
          239,
          240,
          241,
          242,
          243,
          244,
          245,
          246,
          247,
          248,
          249,
          250,
          251,
          252,
          253,
          254,
          255,
          256,
          257,
          258,
          259,
          260,
          261,
          262,
          263,
          264,
          265,
          266,
          267,
          268,
          269,
          270,
          271,
          272,
          273,
          274,
          275,
          276,
          277,
          278,
          279,
          280,
          281,
          282,
          283,
          284,
          285,
          286,
          287,
          288,
          289,
          290,
          291,
          292,
          293,
          294,
          295,
          296,
          297,
          298
         ],
         "y": [
          0.3320113039209895,
          0.33728753408235485,
          0.3425066629170101,
          0.34766853819411186,
          0.3527730125910273,
          0.35781994374833065,
          0.3628091943237621,
          0.3677406320451124,
          0.3726141297620123,
          0.377429565496593,
          0.38218682249299435,
          0.3868857892656919,
          0.39152635964661514,
          0.39610843283103325,
          0.4006319134221822,
          0.4050967114746046,
          0.40950274253618413,
          0.41384992768884343,
          0.41813819358788734,
          0.42236747249996665,
          0.42653770233963834,
          0.43064882670450433,
          0.4347007949089049,
          0.4386935620161463,
          0.44262708886924684,
          0.44650134212017534,
          0.4503162942575725,
          0.4540719236329299,
          0.4577682144852149,
          0.46140515696392265,
          0.46498274715054344,
          0.46850098707842597,
          0.471959884751028,
          0.4753594541585388,
          0.47869971529286204,
          0.4819806941609487,
          0.48520242279646997,
          0.4883649392698187,
          0.4914682876964348,
          0.49451251824344306,
          0.49749768713460024,
          0.5004238566535424,
          0.503291095145332,
          0.5060994770162944,
          0.5088490827321497,
          0.5115399988144278,
          0.5141723178351746,
          0.5167461384099435,
          0.5192615651890746,
          0.5217187088472642,
          0.5241176860714254,
          0.5264586195468461,
          0.5287416379416454,
          0.5309668758895367,
          0.5331344739709017,
          0.5352445786921857,
          0.5372973424636178,
          0.5392929235752688,
          0.5412314861714569,
          0.5431132002235067,
          0.5449382415008831,
          0.5467067915407002,
          0.5484190376156323,
          0.5500751727002283,
          0.5516753954356556,
          0.5532199100928814,
          0.554708926534314,
          0.5561426601739174,
          0.557521331935821,
          0.5588451682114409,
          0.5601144008151356,
          0.561329266938413,
          0.5624900091027139,
          0.5635968751107918,
          0.5646501179967133,
          0.5656499959744992,
          0.5665967723854365,
          0.567490715644079,
          0.5683320991829685,
          0.5691212013960947,
          0.5698583055811312,
          0.5705436998804609,
          0.5711776772210326,
          0.5717605352530638,
          0.5722925762876301,
          0.5727741072331571,
          0.5732054395308606,
          0.5735868890891461,
          0.5739187762170136,
          0.5742014255564905,
          0.5744351660141231,
          0.5746203306915609,
          0.5747572568152635,
          0.5748462856653614,
          0.5748877625037042,
          0.574882036501126,
          0.5748294606639619,
          0.5747303917598467,
          0.5745851902428329,
          0.5743942201778497,
          0.5741578491645515,
          0.5738764482605724,
          0.5735503919042344,
          0.573180057836727,
          0.5727658270238064,
          0.572308083577034,
          0.5718072146745968,
          0.5712636104817336,
          0.5706776640708071,
          0.5700497713410501,
          0.569380330938016,
          0.5686697441727742,
          0.56791841494087,
          0.5671267496410921,
          0.5662951570940702,
          0.56542404846074,
          0.5645138371607019,
          0.563564938790509,
          0.5625777710419062,
          0.5615527536200622,
          0.5604903081618106,
          0.5593908581539402,
          0.5582548288515575,
          0.5570826471965514,
          0.5558747417361855,
          0.5546315425418511,
          0.5533534811280011,
          0.5520409903712977,
          0.5506945044299941,
          0.5493144586635808,
          0.5479012895527178,
          0.5464554346194808,
          0.5449773323479412,
          0.5434674221051091,
          0.5419261440622549,
          0.5403539391166401,
          0.5387512488136722,
          0.5371185152695105,
          0.5354561810941388,
          0.5337646893149296,
          0.5320444833007159,
          0.5302960066863919,
          0.5285197032980599,
          0.5267160170787428,
          0.5248853920146752,
          0.523028272062198,
          0.5211451010752619,
          0.5192363227335659,
          0.5173023804713369,
          0.5153437174067719,
          0.5133607762721498,
          0.511353999344633,
          0.5093238283777642,
          0.5072707045336765,
          0.5051950683160239,
          0.5030973595036461,
          0.5009780170849751,
          0.4988374791931953,
          0.4966761830421652,
          0.49449456486310983,
          0.49229305984209176,
          0.490072102058267,
          0.4878321244229352,
          0.48557355861938867,
          0.48329683504356513,
          0.48100238274551393,
          0.478690629371674,
          0.4763620011079757,
          0.4740169226237628,
          0.4716558170165439,
          0.46927910575757187,
          0.4668872086382595,
          0.464480543717426,
          0.46205952726938215,
          0.4596245737328522,
          0.4571760956607365,
          0.45471450367070826,
          0.4522402063966552,
          0.4497536104409565,
          0.44725512032759723,
          0.44474513845612323,
          0.4422240650564285,
          0.4396922981443777,
          0.43715023347826326,
          0.4345982645160885,
          0.4320367823736806,
          0.4294661757836274,
          0.4268868310550387,
          0.4242991320341195,
          0.4217034600655656,
          0.4191001939547645,
          0.4164897099308087,
          0.41387238161030665,
          0.4112485799619966,
          0.40861867327215307,
          0.40598302711078516,
          0.4033420042986172,
          0.40069596487485065,
          0.39804526606570273,
          0.3953902622537134,
          0.39273130494781877,
          0.3900687427541828,
          0.38740292134778437,
          0.3847341834447545,
          0.38206286877545453,
          0.379389314058295,
          0.376713852974286,
          0.37403681614231626,
          0.3713585310951502,
          0.3686793222561475,
          0.36599951091668614,
          0.36331941521429617,
          0.3606393501114914,
          0.35795962737529496,
          0.3552805555574538,
          0.35260243997533885,
          0.3499255826935215,
          0.3472502825060234,
          0.3445768349192353,
          0.3419055321354999,
          0.33923666303734934,
          0.3365705131723999,
          0.3339073647388915,
          0.3312474965718748,
          0.32859118413003363,
          0.3259386994831437,
          0.3232903113001614,
          0.32064628483793994,
          0.3180068819305641,
          0.3153723609793046,
          0.3127429769431863,
          0.3101189813301658,
          0.3075006221889154,
          0.3048881441012085,
          0.30228178817490564,
          0.29968179203753537,
          0.29708838983046737,
          0.2945018122036741,
          0.2919222863110804,
          0.2893500358064951,
          0.28678528084012156,
          0.28422823805564995,
          0.2816791205879189,
          0.27913813806115395,
          0.27660549658777506,
          0.2740813987677694,
          0.2715660436886318,
          0.269059626925868,
          0.2665623405440581,
          0.2640743730984787,
          0.26159590963728235,
          0.2591271317042335,
          0.2566682173419936,
          0.25421934109596134,
          0.2517806740186604,
          0.24935238367467435,
          0.2469346341461291,
          0.24452758603871763,
          0.2421313964882678,
          0.23974621916785221,
          0.23737220429543435,
          0.23500949864205398,
          0.23265824554054682,
          0.23031858489479995,
          0.22799065318953562,
          0.2256745835006284,
          0.22337050550594892,
          0.22107854549673397,
          0.21879882638948117,
          0.21653146773836493,
          0.2142765857481733,
          0.2120342932877626,
          0.2098046999040255,
          0.2075879118363757,
          0.2053840320317387,
          0.20319316016005334,
          0.20101539263027815,
          0.19885082260689751,
          0.19669954002692897,
          0.1945616316174265,
          0.19243718091347475,
          0.19032626827667296,
          0.18822897091410504,
          0.18614536289779104,
          0.18407551518461507,
          0.18201949563672828,
          0.17997736904242082,
          0.17794919713745738,
          0.1759350386268744,
          0.17393494920723102,
          0.17194898158931105,
          0.16997718552127025,
          0.16801960781222153,
          0.166076292356255,
          0.16414728015688573,
          0.1622326093519239,
          0.16033231523875893,
          0.1584464303000546,
          0.15657498422984528
         ]
        }
       ],
       "layout": {
        "legend": {
         "bgcolor": "#FFFFFF",
         "font": {
          "color": "#666666"
         }
        },
        "paper_bgcolor": "#FFFFFF",
        "plot_bgcolor": "#E5E5E5",
        "template": {
         "data": {
          "bar": [
           {
            "error_x": {
             "color": "#2a3f5f"
            },
            "error_y": {
             "color": "#2a3f5f"
            },
            "marker": {
             "line": {
              "color": "#E5ECF6",
              "width": 0.5
             },
             "pattern": {
              "fillmode": "overlay",
              "size": 10,
              "solidity": 0.2
             }
            },
            "type": "bar"
           }
          ],
          "barpolar": [
           {
            "marker": {
             "line": {
              "color": "#E5ECF6",
              "width": 0.5
             },
             "pattern": {
              "fillmode": "overlay",
              "size": 10,
              "solidity": 0.2
             }
            },
            "type": "barpolar"
           }
          ],
          "carpet": [
           {
            "aaxis": {
             "endlinecolor": "#2a3f5f",
             "gridcolor": "white",
             "linecolor": "white",
             "minorgridcolor": "white",
             "startlinecolor": "#2a3f5f"
            },
            "baxis": {
             "endlinecolor": "#2a3f5f",
             "gridcolor": "white",
             "linecolor": "white",
             "minorgridcolor": "white",
             "startlinecolor": "#2a3f5f"
            },
            "type": "carpet"
           }
          ],
          "choropleth": [
           {
            "colorbar": {
             "outlinewidth": 0,
             "ticks": ""
            },
            "type": "choropleth"
           }
          ],
          "contour": [
           {
            "colorbar": {
             "outlinewidth": 0,
             "ticks": ""
            },
            "colorscale": [
             [
              0,
              "#0d0887"
             ],
             [
              0.1111111111111111,
              "#46039f"
             ],
             [
              0.2222222222222222,
              "#7201a8"
             ],
             [
              0.3333333333333333,
              "#9c179e"
             ],
             [
              0.4444444444444444,
              "#bd3786"
             ],
             [
              0.5555555555555556,
              "#d8576b"
             ],
             [
              0.6666666666666666,
              "#ed7953"
             ],
             [
              0.7777777777777778,
              "#fb9f3a"
             ],
             [
              0.8888888888888888,
              "#fdca26"
             ],
             [
              1,
              "#f0f921"
             ]
            ],
            "type": "contour"
           }
          ],
          "contourcarpet": [
           {
            "colorbar": {
             "outlinewidth": 0,
             "ticks": ""
            },
            "type": "contourcarpet"
           }
          ],
          "heatmap": [
           {
            "colorbar": {
             "outlinewidth": 0,
             "ticks": ""
            },
            "colorscale": [
             [
              0,
              "#0d0887"
             ],
             [
              0.1111111111111111,
              "#46039f"
             ],
             [
              0.2222222222222222,
              "#7201a8"
             ],
             [
              0.3333333333333333,
              "#9c179e"
             ],
             [
              0.4444444444444444,
              "#bd3786"
             ],
             [
              0.5555555555555556,
              "#d8576b"
             ],
             [
              0.6666666666666666,
              "#ed7953"
             ],
             [
              0.7777777777777778,
              "#fb9f3a"
             ],
             [
              0.8888888888888888,
              "#fdca26"
             ],
             [
              1,
              "#f0f921"
             ]
            ],
            "type": "heatmap"
           }
          ],
          "heatmapgl": [
           {
            "colorbar": {
             "outlinewidth": 0,
             "ticks": ""
            },
            "colorscale": [
             [
              0,
              "#0d0887"
             ],
             [
              0.1111111111111111,
              "#46039f"
             ],
             [
              0.2222222222222222,
              "#7201a8"
             ],
             [
              0.3333333333333333,
              "#9c179e"
             ],
             [
              0.4444444444444444,
              "#bd3786"
             ],
             [
              0.5555555555555556,
              "#d8576b"
             ],
             [
              0.6666666666666666,
              "#ed7953"
             ],
             [
              0.7777777777777778,
              "#fb9f3a"
             ],
             [
              0.8888888888888888,
              "#fdca26"
             ],
             [
              1,
              "#f0f921"
             ]
            ],
            "type": "heatmapgl"
           }
          ],
          "histogram": [
           {
            "marker": {
             "pattern": {
              "fillmode": "overlay",
              "size": 10,
              "solidity": 0.2
             }
            },
            "type": "histogram"
           }
          ],
          "histogram2d": [
           {
            "colorbar": {
             "outlinewidth": 0,
             "ticks": ""
            },
            "colorscale": [
             [
              0,
              "#0d0887"
             ],
             [
              0.1111111111111111,
              "#46039f"
             ],
             [
              0.2222222222222222,
              "#7201a8"
             ],
             [
              0.3333333333333333,
              "#9c179e"
             ],
             [
              0.4444444444444444,
              "#bd3786"
             ],
             [
              0.5555555555555556,
              "#d8576b"
             ],
             [
              0.6666666666666666,
              "#ed7953"
             ],
             [
              0.7777777777777778,
              "#fb9f3a"
             ],
             [
              0.8888888888888888,
              "#fdca26"
             ],
             [
              1,
              "#f0f921"
             ]
            ],
            "type": "histogram2d"
           }
          ],
          "histogram2dcontour": [
           {
            "colorbar": {
             "outlinewidth": 0,
             "ticks": ""
            },
            "colorscale": [
             [
              0,
              "#0d0887"
             ],
             [
              0.1111111111111111,
              "#46039f"
             ],
             [
              0.2222222222222222,
              "#7201a8"
             ],
             [
              0.3333333333333333,
              "#9c179e"
             ],
             [
              0.4444444444444444,
              "#bd3786"
             ],
             [
              0.5555555555555556,
              "#d8576b"
             ],
             [
              0.6666666666666666,
              "#ed7953"
             ],
             [
              0.7777777777777778,
              "#fb9f3a"
             ],
             [
              0.8888888888888888,
              "#fdca26"
             ],
             [
              1,
              "#f0f921"
             ]
            ],
            "type": "histogram2dcontour"
           }
          ],
          "mesh3d": [
           {
            "colorbar": {
             "outlinewidth": 0,
             "ticks": ""
            },
            "type": "mesh3d"
           }
          ],
          "parcoords": [
           {
            "line": {
             "colorbar": {
              "outlinewidth": 0,
              "ticks": ""
             }
            },
            "type": "parcoords"
           }
          ],
          "pie": [
           {
            "automargin": true,
            "type": "pie"
           }
          ],
          "scatter": [
           {
            "marker": {
             "colorbar": {
              "outlinewidth": 0,
              "ticks": ""
             }
            },
            "type": "scatter"
           }
          ],
          "scatter3d": [
           {
            "line": {
             "colorbar": {
              "outlinewidth": 0,
              "ticks": ""
             }
            },
            "marker": {
             "colorbar": {
              "outlinewidth": 0,
              "ticks": ""
             }
            },
            "type": "scatter3d"
           }
          ],
          "scattercarpet": [
           {
            "marker": {
             "colorbar": {
              "outlinewidth": 0,
              "ticks": ""
             }
            },
            "type": "scattercarpet"
           }
          ],
          "scattergeo": [
           {
            "marker": {
             "colorbar": {
              "outlinewidth": 0,
              "ticks": ""
             }
            },
            "type": "scattergeo"
           }
          ],
          "scattergl": [
           {
            "marker": {
             "colorbar": {
              "outlinewidth": 0,
              "ticks": ""
             }
            },
            "type": "scattergl"
           }
          ],
          "scattermapbox": [
           {
            "marker": {
             "colorbar": {
              "outlinewidth": 0,
              "ticks": ""
             }
            },
            "type": "scattermapbox"
           }
          ],
          "scatterpolar": [
           {
            "marker": {
             "colorbar": {
              "outlinewidth": 0,
              "ticks": ""
             }
            },
            "type": "scatterpolar"
           }
          ],
          "scatterpolargl": [
           {
            "marker": {
             "colorbar": {
              "outlinewidth": 0,
              "ticks": ""
             }
            },
            "type": "scatterpolargl"
           }
          ],
          "scatterternary": [
           {
            "marker": {
             "colorbar": {
              "outlinewidth": 0,
              "ticks": ""
             }
            },
            "type": "scatterternary"
           }
          ],
          "surface": [
           {
            "colorbar": {
             "outlinewidth": 0,
             "ticks": ""
            },
            "colorscale": [
             [
              0,
              "#0d0887"
             ],
             [
              0.1111111111111111,
              "#46039f"
             ],
             [
              0.2222222222222222,
              "#7201a8"
             ],
             [
              0.3333333333333333,
              "#9c179e"
             ],
             [
              0.4444444444444444,
              "#bd3786"
             ],
             [
              0.5555555555555556,
              "#d8576b"
             ],
             [
              0.6666666666666666,
              "#ed7953"
             ],
             [
              0.7777777777777778,
              "#fb9f3a"
             ],
             [
              0.8888888888888888,
              "#fdca26"
             ],
             [
              1,
              "#f0f921"
             ]
            ],
            "type": "surface"
           }
          ],
          "table": [
           {
            "cells": {
             "fill": {
              "color": "#EBF0F8"
             },
             "line": {
              "color": "white"
             }
            },
            "header": {
             "fill": {
              "color": "#C8D4E3"
             },
             "line": {
              "color": "white"
             }
            },
            "type": "table"
           }
          ]
         },
         "layout": {
          "annotationdefaults": {
           "arrowcolor": "#2a3f5f",
           "arrowhead": 0,
           "arrowwidth": 1
          },
          "autotypenumbers": "strict",
          "coloraxis": {
           "colorbar": {
            "outlinewidth": 0,
            "ticks": ""
           }
          },
          "colorscale": {
           "diverging": [
            [
             0,
             "#8e0152"
            ],
            [
             0.1,
             "#c51b7d"
            ],
            [
             0.2,
             "#de77ae"
            ],
            [
             0.3,
             "#f1b6da"
            ],
            [
             0.4,
             "#fde0ef"
            ],
            [
             0.5,
             "#f7f7f7"
            ],
            [
             0.6,
             "#e6f5d0"
            ],
            [
             0.7,
             "#b8e186"
            ],
            [
             0.8,
             "#7fbc41"
            ],
            [
             0.9,
             "#4d9221"
            ],
            [
             1,
             "#276419"
            ]
           ],
           "sequential": [
            [
             0,
             "#0d0887"
            ],
            [
             0.1111111111111111,
             "#46039f"
            ],
            [
             0.2222222222222222,
             "#7201a8"
            ],
            [
             0.3333333333333333,
             "#9c179e"
            ],
            [
             0.4444444444444444,
             "#bd3786"
            ],
            [
             0.5555555555555556,
             "#d8576b"
            ],
            [
             0.6666666666666666,
             "#ed7953"
            ],
            [
             0.7777777777777778,
             "#fb9f3a"
            ],
            [
             0.8888888888888888,
             "#fdca26"
            ],
            [
             1,
             "#f0f921"
            ]
           ],
           "sequentialminus": [
            [
             0,
             "#0d0887"
            ],
            [
             0.1111111111111111,
             "#46039f"
            ],
            [
             0.2222222222222222,
             "#7201a8"
            ],
            [
             0.3333333333333333,
             "#9c179e"
            ],
            [
             0.4444444444444444,
             "#bd3786"
            ],
            [
             0.5555555555555556,
             "#d8576b"
            ],
            [
             0.6666666666666666,
             "#ed7953"
            ],
            [
             0.7777777777777778,
             "#fb9f3a"
            ],
            [
             0.8888888888888888,
             "#fdca26"
            ],
            [
             1,
             "#f0f921"
            ]
           ]
          },
          "colorway": [
           "#636efa",
           "#EF553B",
           "#00cc96",
           "#ab63fa",
           "#FFA15A",
           "#19d3f3",
           "#FF6692",
           "#B6E880",
           "#FF97FF",
           "#FECB52"
          ],
          "font": {
           "color": "#2a3f5f"
          },
          "geo": {
           "bgcolor": "white",
           "lakecolor": "white",
           "landcolor": "#E5ECF6",
           "showlakes": true,
           "showland": true,
           "subunitcolor": "white"
          },
          "hoverlabel": {
           "align": "left"
          },
          "hovermode": "closest",
          "mapbox": {
           "style": "light"
          },
          "paper_bgcolor": "white",
          "plot_bgcolor": "#E5ECF6",
          "polar": {
           "angularaxis": {
            "gridcolor": "white",
            "linecolor": "white",
            "ticks": ""
           },
           "bgcolor": "#E5ECF6",
           "radialaxis": {
            "gridcolor": "white",
            "linecolor": "white",
            "ticks": ""
           }
          },
          "scene": {
           "xaxis": {
            "backgroundcolor": "#E5ECF6",
            "gridcolor": "white",
            "gridwidth": 2,
            "linecolor": "white",
            "showbackground": true,
            "ticks": "",
            "zerolinecolor": "white"
           },
           "yaxis": {
            "backgroundcolor": "#E5ECF6",
            "gridcolor": "white",
            "gridwidth": 2,
            "linecolor": "white",
            "showbackground": true,
            "ticks": "",
            "zerolinecolor": "white"
           },
           "zaxis": {
            "backgroundcolor": "#E5ECF6",
            "gridcolor": "white",
            "gridwidth": 2,
            "linecolor": "white",
            "showbackground": true,
            "ticks": "",
            "zerolinecolor": "white"
           }
          },
          "shapedefaults": {
           "line": {
            "color": "#2a3f5f"
           }
          },
          "ternary": {
           "aaxis": {
            "gridcolor": "white",
            "linecolor": "white",
            "ticks": ""
           },
           "baxis": {
            "gridcolor": "white",
            "linecolor": "white",
            "ticks": ""
           },
           "bgcolor": "#E5ECF6",
           "caxis": {
            "gridcolor": "white",
            "linecolor": "white",
            "ticks": ""
           }
          },
          "title": {
           "x": 0.05
          },
          "xaxis": {
           "automargin": true,
           "gridcolor": "white",
           "linecolor": "white",
           "ticks": "",
           "title": {
            "standoff": 15
           },
           "zerolinecolor": "white",
           "zerolinewidth": 2
          },
          "yaxis": {
           "automargin": true,
           "gridcolor": "white",
           "linecolor": "white",
           "ticks": "",
           "title": {
            "standoff": 15
           },
           "zerolinecolor": "white",
           "zerolinewidth": 2
          }
         }
        },
        "title": {
         "font": {
          "color": "#151516"
         },
         "text": "Cross Price Elastycity 5 and 4"
        },
        "xaxis": {
         "gridcolor": "#F6F6F6",
         "showgrid": true,
         "tickfont": {
          "color": "#666666"
         },
         "title": {
          "font": {
           "color": "#666666"
          },
          "text": "prices4"
         },
         "zerolinecolor": "#F6F6F6"
        },
        "yaxis": {
         "gridcolor": "#F6F6F6",
         "showgrid": true,
         "tickfont": {
          "color": "#666666"
         },
         "title": {
          "font": {
           "color": "#666666"
          },
          "text": "Elasticity"
         },
         "zerolinecolor": "#F6F6F6"
        }
       }
      },
      "text/html": [
       "<div>                            <div id=\"2f66a25c-72b6-4fa0-a383-318329533120\" class=\"plotly-graph-div\" style=\"height:525px; width:100%;\"></div>            <script type=\"text/javascript\">                require([\"plotly\"], function(Plotly) {                    window.PLOTLYENV=window.PLOTLYENV || {};\n",
       "                    window.PLOTLYENV.BASE_URL='https://plot.ly';                                    if (document.getElementById(\"2f66a25c-72b6-4fa0-a383-318329533120\")) {                    Plotly.newPlot(                        \"2f66a25c-72b6-4fa0-a383-318329533120\",                        [{\"line\":{\"color\":\"rgba(55, 128, 191, 1.0)\",\"dash\":\"solid\",\"shape\":\"linear\",\"width\":1.3},\"mode\":\"lines\",\"name\":\"Brand_5_Cross_Brand_4\",\"text\":\"\",\"type\":\"scatter\",\"x\":[0,1,2,3,4,5,6,7,8,9,10,11,12,13,14,15,16,17,18,19,20,21,22,23,24,25,26,27,28,29,30,31,32,33,34,35,36,37,38,39,40,41,42,43,44,45,46,47,48,49,50,51,52,53,54,55,56,57,58,59,60,61,62,63,64,65,66,67,68,69,70,71,72,73,74,75,76,77,78,79,80,81,82,83,84,85,86,87,88,89,90,91,92,93,94,95,96,97,98,99,100,101,102,103,104,105,106,107,108,109,110,111,112,113,114,115,116,117,118,119,120,121,122,123,124,125,126,127,128,129,130,131,132,133,134,135,136,137,138,139,140,141,142,143,144,145,146,147,148,149,150,151,152,153,154,155,156,157,158,159,160,161,162,163,164,165,166,167,168,169,170,171,172,173,174,175,176,177,178,179,180,181,182,183,184,185,186,187,188,189,190,191,192,193,194,195,196,197,198,199,200,201,202,203,204,205,206,207,208,209,210,211,212,213,214,215,216,217,218,219,220,221,222,223,224,225,226,227,228,229,230,231,232,233,234,235,236,237,238,239,240,241,242,243,244,245,246,247,248,249,250,251,252,253,254,255,256,257,258,259,260,261,262,263,264,265,266,267,268,269,270,271,272,273,274,275,276,277,278,279,280,281,282,283,284,285,286,287,288,289,290,291,292,293,294,295,296,297,298],\"y\":[0.3320113039209895,0.33728753408235485,0.3425066629170101,0.34766853819411186,0.3527730125910273,0.35781994374833065,0.3628091943237621,0.3677406320451124,0.3726141297620123,0.377429565496593,0.38218682249299435,0.3868857892656919,0.39152635964661514,0.39610843283103325,0.4006319134221822,0.4050967114746046,0.40950274253618413,0.41384992768884343,0.41813819358788734,0.42236747249996665,0.42653770233963834,0.43064882670450433,0.4347007949089049,0.4386935620161463,0.44262708886924684,0.44650134212017534,0.4503162942575725,0.4540719236329299,0.4577682144852149,0.46140515696392265,0.46498274715054344,0.46850098707842597,0.471959884751028,0.4753594541585388,0.47869971529286204,0.4819806941609487,0.48520242279646997,0.4883649392698187,0.4914682876964348,0.49451251824344306,0.49749768713460024,0.5004238566535424,0.503291095145332,0.5060994770162944,0.5088490827321497,0.5115399988144278,0.5141723178351746,0.5167461384099435,0.5192615651890746,0.5217187088472642,0.5241176860714254,0.5264586195468461,0.5287416379416454,0.5309668758895367,0.5331344739709017,0.5352445786921857,0.5372973424636178,0.5392929235752688,0.5412314861714569,0.5431132002235067,0.5449382415008831,0.5467067915407002,0.5484190376156323,0.5500751727002283,0.5516753954356556,0.5532199100928814,0.554708926534314,0.5561426601739174,0.557521331935821,0.5588451682114409,0.5601144008151356,0.561329266938413,0.5624900091027139,0.5635968751107918,0.5646501179967133,0.5656499959744992,0.5665967723854365,0.567490715644079,0.5683320991829685,0.5691212013960947,0.5698583055811312,0.5705436998804609,0.5711776772210326,0.5717605352530638,0.5722925762876301,0.5727741072331571,0.5732054395308606,0.5735868890891461,0.5739187762170136,0.5742014255564905,0.5744351660141231,0.5746203306915609,0.5747572568152635,0.5748462856653614,0.5748877625037042,0.574882036501126,0.5748294606639619,0.5747303917598467,0.5745851902428329,0.5743942201778497,0.5741578491645515,0.5738764482605724,0.5735503919042344,0.573180057836727,0.5727658270238064,0.572308083577034,0.5718072146745968,0.5712636104817336,0.5706776640708071,0.5700497713410501,0.569380330938016,0.5686697441727742,0.56791841494087,0.5671267496410921,0.5662951570940702,0.56542404846074,0.5645138371607019,0.563564938790509,0.5625777710419062,0.5615527536200622,0.5604903081618106,0.5593908581539402,0.5582548288515575,0.5570826471965514,0.5558747417361855,0.5546315425418511,0.5533534811280011,0.5520409903712977,0.5506945044299941,0.5493144586635808,0.5479012895527178,0.5464554346194808,0.5449773323479412,0.5434674221051091,0.5419261440622549,0.5403539391166401,0.5387512488136722,0.5371185152695105,0.5354561810941388,0.5337646893149296,0.5320444833007159,0.5302960066863919,0.5285197032980599,0.5267160170787428,0.5248853920146752,0.523028272062198,0.5211451010752619,0.5192363227335659,0.5173023804713369,0.5153437174067719,0.5133607762721498,0.511353999344633,0.5093238283777642,0.5072707045336765,0.5051950683160239,0.5030973595036461,0.5009780170849751,0.4988374791931953,0.4966761830421652,0.49449456486310983,0.49229305984209176,0.490072102058267,0.4878321244229352,0.48557355861938867,0.48329683504356513,0.48100238274551393,0.478690629371674,0.4763620011079757,0.4740169226237628,0.4716558170165439,0.46927910575757187,0.4668872086382595,0.464480543717426,0.46205952726938215,0.4596245737328522,0.4571760956607365,0.45471450367070826,0.4522402063966552,0.4497536104409565,0.44725512032759723,0.44474513845612323,0.4422240650564285,0.4396922981443777,0.43715023347826326,0.4345982645160885,0.4320367823736806,0.4294661757836274,0.4268868310550387,0.4242991320341195,0.4217034600655656,0.4191001939547645,0.4164897099308087,0.41387238161030665,0.4112485799619966,0.40861867327215307,0.40598302711078516,0.4033420042986172,0.40069596487485065,0.39804526606570273,0.3953902622537134,0.39273130494781877,0.3900687427541828,0.38740292134778437,0.3847341834447545,0.38206286877545453,0.379389314058295,0.376713852974286,0.37403681614231626,0.3713585310951502,0.3686793222561475,0.36599951091668614,0.36331941521429617,0.3606393501114914,0.35795962737529496,0.3552805555574538,0.35260243997533885,0.3499255826935215,0.3472502825060234,0.3445768349192353,0.3419055321354999,0.33923666303734934,0.3365705131723999,0.3339073647388915,0.3312474965718748,0.32859118413003363,0.3259386994831437,0.3232903113001614,0.32064628483793994,0.3180068819305641,0.3153723609793046,0.3127429769431863,0.3101189813301658,0.3075006221889154,0.3048881441012085,0.30228178817490564,0.29968179203753537,0.29708838983046737,0.2945018122036741,0.2919222863110804,0.2893500358064951,0.28678528084012156,0.28422823805564995,0.2816791205879189,0.27913813806115395,0.27660549658777506,0.2740813987677694,0.2715660436886318,0.269059626925868,0.2665623405440581,0.2640743730984787,0.26159590963728235,0.2591271317042335,0.2566682173419936,0.25421934109596134,0.2517806740186604,0.24935238367467435,0.2469346341461291,0.24452758603871763,0.2421313964882678,0.23974621916785221,0.23737220429543435,0.23500949864205398,0.23265824554054682,0.23031858489479995,0.22799065318953562,0.2256745835006284,0.22337050550594892,0.22107854549673397,0.21879882638948117,0.21653146773836493,0.2142765857481733,0.2120342932877626,0.2098046999040255,0.2075879118363757,0.2053840320317387,0.20319316016005334,0.20101539263027815,0.19885082260689751,0.19669954002692897,0.1945616316174265,0.19243718091347475,0.19032626827667296,0.18822897091410504,0.18614536289779104,0.18407551518461507,0.18201949563672828,0.17997736904242082,0.17794919713745738,0.1759350386268744,0.17393494920723102,0.17194898158931105,0.16997718552127025,0.16801960781222153,0.166076292356255,0.16414728015688573,0.1622326093519239,0.16033231523875893,0.1584464303000546,0.15657498422984528]}],                        {\"legend\":{\"bgcolor\":\"#FFFFFF\",\"font\":{\"color\":\"#666666\"}},\"paper_bgcolor\":\"#FFFFFF\",\"plot_bgcolor\":\"#E5E5E5\",\"template\":{\"data\":{\"bar\":[{\"error_x\":{\"color\":\"#2a3f5f\"},\"error_y\":{\"color\":\"#2a3f5f\"},\"marker\":{\"line\":{\"color\":\"#E5ECF6\",\"width\":0.5},\"pattern\":{\"fillmode\":\"overlay\",\"size\":10,\"solidity\":0.2}},\"type\":\"bar\"}],\"barpolar\":[{\"marker\":{\"line\":{\"color\":\"#E5ECF6\",\"width\":0.5},\"pattern\":{\"fillmode\":\"overlay\",\"size\":10,\"solidity\":0.2}},\"type\":\"barpolar\"}],\"carpet\":[{\"aaxis\":{\"endlinecolor\":\"#2a3f5f\",\"gridcolor\":\"white\",\"linecolor\":\"white\",\"minorgridcolor\":\"white\",\"startlinecolor\":\"#2a3f5f\"},\"baxis\":{\"endlinecolor\":\"#2a3f5f\",\"gridcolor\":\"white\",\"linecolor\":\"white\",\"minorgridcolor\":\"white\",\"startlinecolor\":\"#2a3f5f\"},\"type\":\"carpet\"}],\"choropleth\":[{\"colorbar\":{\"outlinewidth\":0,\"ticks\":\"\"},\"type\":\"choropleth\"}],\"contour\":[{\"colorbar\":{\"outlinewidth\":0,\"ticks\":\"\"},\"colorscale\":[[0.0,\"#0d0887\"],[0.1111111111111111,\"#46039f\"],[0.2222222222222222,\"#7201a8\"],[0.3333333333333333,\"#9c179e\"],[0.4444444444444444,\"#bd3786\"],[0.5555555555555556,\"#d8576b\"],[0.6666666666666666,\"#ed7953\"],[0.7777777777777778,\"#fb9f3a\"],[0.8888888888888888,\"#fdca26\"],[1.0,\"#f0f921\"]],\"type\":\"contour\"}],\"contourcarpet\":[{\"colorbar\":{\"outlinewidth\":0,\"ticks\":\"\"},\"type\":\"contourcarpet\"}],\"heatmap\":[{\"colorbar\":{\"outlinewidth\":0,\"ticks\":\"\"},\"colorscale\":[[0.0,\"#0d0887\"],[0.1111111111111111,\"#46039f\"],[0.2222222222222222,\"#7201a8\"],[0.3333333333333333,\"#9c179e\"],[0.4444444444444444,\"#bd3786\"],[0.5555555555555556,\"#d8576b\"],[0.6666666666666666,\"#ed7953\"],[0.7777777777777778,\"#fb9f3a\"],[0.8888888888888888,\"#fdca26\"],[1.0,\"#f0f921\"]],\"type\":\"heatmap\"}],\"heatmapgl\":[{\"colorbar\":{\"outlinewidth\":0,\"ticks\":\"\"},\"colorscale\":[[0.0,\"#0d0887\"],[0.1111111111111111,\"#46039f\"],[0.2222222222222222,\"#7201a8\"],[0.3333333333333333,\"#9c179e\"],[0.4444444444444444,\"#bd3786\"],[0.5555555555555556,\"#d8576b\"],[0.6666666666666666,\"#ed7953\"],[0.7777777777777778,\"#fb9f3a\"],[0.8888888888888888,\"#fdca26\"],[1.0,\"#f0f921\"]],\"type\":\"heatmapgl\"}],\"histogram\":[{\"marker\":{\"pattern\":{\"fillmode\":\"overlay\",\"size\":10,\"solidity\":0.2}},\"type\":\"histogram\"}],\"histogram2d\":[{\"colorbar\":{\"outlinewidth\":0,\"ticks\":\"\"},\"colorscale\":[[0.0,\"#0d0887\"],[0.1111111111111111,\"#46039f\"],[0.2222222222222222,\"#7201a8\"],[0.3333333333333333,\"#9c179e\"],[0.4444444444444444,\"#bd3786\"],[0.5555555555555556,\"#d8576b\"],[0.6666666666666666,\"#ed7953\"],[0.7777777777777778,\"#fb9f3a\"],[0.8888888888888888,\"#fdca26\"],[1.0,\"#f0f921\"]],\"type\":\"histogram2d\"}],\"histogram2dcontour\":[{\"colorbar\":{\"outlinewidth\":0,\"ticks\":\"\"},\"colorscale\":[[0.0,\"#0d0887\"],[0.1111111111111111,\"#46039f\"],[0.2222222222222222,\"#7201a8\"],[0.3333333333333333,\"#9c179e\"],[0.4444444444444444,\"#bd3786\"],[0.5555555555555556,\"#d8576b\"],[0.6666666666666666,\"#ed7953\"],[0.7777777777777778,\"#fb9f3a\"],[0.8888888888888888,\"#fdca26\"],[1.0,\"#f0f921\"]],\"type\":\"histogram2dcontour\"}],\"mesh3d\":[{\"colorbar\":{\"outlinewidth\":0,\"ticks\":\"\"},\"type\":\"mesh3d\"}],\"parcoords\":[{\"line\":{\"colorbar\":{\"outlinewidth\":0,\"ticks\":\"\"}},\"type\":\"parcoords\"}],\"pie\":[{\"automargin\":true,\"type\":\"pie\"}],\"scatter\":[{\"marker\":{\"colorbar\":{\"outlinewidth\":0,\"ticks\":\"\"}},\"type\":\"scatter\"}],\"scatter3d\":[{\"line\":{\"colorbar\":{\"outlinewidth\":0,\"ticks\":\"\"}},\"marker\":{\"colorbar\":{\"outlinewidth\":0,\"ticks\":\"\"}},\"type\":\"scatter3d\"}],\"scattercarpet\":[{\"marker\":{\"colorbar\":{\"outlinewidth\":0,\"ticks\":\"\"}},\"type\":\"scattercarpet\"}],\"scattergeo\":[{\"marker\":{\"colorbar\":{\"outlinewidth\":0,\"ticks\":\"\"}},\"type\":\"scattergeo\"}],\"scattergl\":[{\"marker\":{\"colorbar\":{\"outlinewidth\":0,\"ticks\":\"\"}},\"type\":\"scattergl\"}],\"scattermapbox\":[{\"marker\":{\"colorbar\":{\"outlinewidth\":0,\"ticks\":\"\"}},\"type\":\"scattermapbox\"}],\"scatterpolar\":[{\"marker\":{\"colorbar\":{\"outlinewidth\":0,\"ticks\":\"\"}},\"type\":\"scatterpolar\"}],\"scatterpolargl\":[{\"marker\":{\"colorbar\":{\"outlinewidth\":0,\"ticks\":\"\"}},\"type\":\"scatterpolargl\"}],\"scatterternary\":[{\"marker\":{\"colorbar\":{\"outlinewidth\":0,\"ticks\":\"\"}},\"type\":\"scatterternary\"}],\"surface\":[{\"colorbar\":{\"outlinewidth\":0,\"ticks\":\"\"},\"colorscale\":[[0.0,\"#0d0887\"],[0.1111111111111111,\"#46039f\"],[0.2222222222222222,\"#7201a8\"],[0.3333333333333333,\"#9c179e\"],[0.4444444444444444,\"#bd3786\"],[0.5555555555555556,\"#d8576b\"],[0.6666666666666666,\"#ed7953\"],[0.7777777777777778,\"#fb9f3a\"],[0.8888888888888888,\"#fdca26\"],[1.0,\"#f0f921\"]],\"type\":\"surface\"}],\"table\":[{\"cells\":{\"fill\":{\"color\":\"#EBF0F8\"},\"line\":{\"color\":\"white\"}},\"header\":{\"fill\":{\"color\":\"#C8D4E3\"},\"line\":{\"color\":\"white\"}},\"type\":\"table\"}]},\"layout\":{\"annotationdefaults\":{\"arrowcolor\":\"#2a3f5f\",\"arrowhead\":0,\"arrowwidth\":1},\"autotypenumbers\":\"strict\",\"coloraxis\":{\"colorbar\":{\"outlinewidth\":0,\"ticks\":\"\"}},\"colorscale\":{\"diverging\":[[0,\"#8e0152\"],[0.1,\"#c51b7d\"],[0.2,\"#de77ae\"],[0.3,\"#f1b6da\"],[0.4,\"#fde0ef\"],[0.5,\"#f7f7f7\"],[0.6,\"#e6f5d0\"],[0.7,\"#b8e186\"],[0.8,\"#7fbc41\"],[0.9,\"#4d9221\"],[1,\"#276419\"]],\"sequential\":[[0.0,\"#0d0887\"],[0.1111111111111111,\"#46039f\"],[0.2222222222222222,\"#7201a8\"],[0.3333333333333333,\"#9c179e\"],[0.4444444444444444,\"#bd3786\"],[0.5555555555555556,\"#d8576b\"],[0.6666666666666666,\"#ed7953\"],[0.7777777777777778,\"#fb9f3a\"],[0.8888888888888888,\"#fdca26\"],[1.0,\"#f0f921\"]],\"sequentialminus\":[[0.0,\"#0d0887\"],[0.1111111111111111,\"#46039f\"],[0.2222222222222222,\"#7201a8\"],[0.3333333333333333,\"#9c179e\"],[0.4444444444444444,\"#bd3786\"],[0.5555555555555556,\"#d8576b\"],[0.6666666666666666,\"#ed7953\"],[0.7777777777777778,\"#fb9f3a\"],[0.8888888888888888,\"#fdca26\"],[1.0,\"#f0f921\"]]},\"colorway\":[\"#636efa\",\"#EF553B\",\"#00cc96\",\"#ab63fa\",\"#FFA15A\",\"#19d3f3\",\"#FF6692\",\"#B6E880\",\"#FF97FF\",\"#FECB52\"],\"font\":{\"color\":\"#2a3f5f\"},\"geo\":{\"bgcolor\":\"white\",\"lakecolor\":\"white\",\"landcolor\":\"#E5ECF6\",\"showlakes\":true,\"showland\":true,\"subunitcolor\":\"white\"},\"hoverlabel\":{\"align\":\"left\"},\"hovermode\":\"closest\",\"mapbox\":{\"style\":\"light\"},\"paper_bgcolor\":\"white\",\"plot_bgcolor\":\"#E5ECF6\",\"polar\":{\"angularaxis\":{\"gridcolor\":\"white\",\"linecolor\":\"white\",\"ticks\":\"\"},\"bgcolor\":\"#E5ECF6\",\"radialaxis\":{\"gridcolor\":\"white\",\"linecolor\":\"white\",\"ticks\":\"\"}},\"scene\":{\"xaxis\":{\"backgroundcolor\":\"#E5ECF6\",\"gridcolor\":\"white\",\"gridwidth\":2,\"linecolor\":\"white\",\"showbackground\":true,\"ticks\":\"\",\"zerolinecolor\":\"white\"},\"yaxis\":{\"backgroundcolor\":\"#E5ECF6\",\"gridcolor\":\"white\",\"gridwidth\":2,\"linecolor\":\"white\",\"showbackground\":true,\"ticks\":\"\",\"zerolinecolor\":\"white\"},\"zaxis\":{\"backgroundcolor\":\"#E5ECF6\",\"gridcolor\":\"white\",\"gridwidth\":2,\"linecolor\":\"white\",\"showbackground\":true,\"ticks\":\"\",\"zerolinecolor\":\"white\"}},\"shapedefaults\":{\"line\":{\"color\":\"#2a3f5f\"}},\"ternary\":{\"aaxis\":{\"gridcolor\":\"white\",\"linecolor\":\"white\",\"ticks\":\"\"},\"baxis\":{\"gridcolor\":\"white\",\"linecolor\":\"white\",\"ticks\":\"\"},\"bgcolor\":\"#E5ECF6\",\"caxis\":{\"gridcolor\":\"white\",\"linecolor\":\"white\",\"ticks\":\"\"}},\"title\":{\"x\":0.05},\"xaxis\":{\"automargin\":true,\"gridcolor\":\"white\",\"linecolor\":\"white\",\"ticks\":\"\",\"title\":{\"standoff\":15},\"zerolinecolor\":\"white\",\"zerolinewidth\":2},\"yaxis\":{\"automargin\":true,\"gridcolor\":\"white\",\"linecolor\":\"white\",\"ticks\":\"\",\"title\":{\"standoff\":15},\"zerolinecolor\":\"white\",\"zerolinewidth\":2}}},\"title\":{\"font\":{\"color\":\"#151516\"},\"text\":\"Cross Price Elastycity 5 and 4\"},\"xaxis\":{\"gridcolor\":\"#F6F6F6\",\"showgrid\":true,\"tickfont\":{\"color\":\"#666666\"},\"title\":{\"font\":{\"color\":\"#666666\"},\"text\":\"prices4\"},\"zerolinecolor\":\"#F6F6F6\"},\"yaxis\":{\"gridcolor\":\"#F6F6F6\",\"showgrid\":true,\"tickfont\":{\"color\":\"#666666\"},\"title\":{\"font\":{\"color\":\"#666666\"},\"text\":\"Elasticity\"},\"zerolinecolor\":\"#F6F6F6\"}},                        {\"showLink\": true, \"linkText\": \"Export to plot.ly\", \"plotlyServerURL\": \"https://plot.ly\", \"responsive\": true}                    ).then(function(){\n",
       "                            \n",
       "var gd = document.getElementById('2f66a25c-72b6-4fa0-a383-318329533120');\n",
       "var x = new MutationObserver(function (mutations, observer) {{\n",
       "        var display = window.getComputedStyle(gd).display;\n",
       "        if (!display || display === 'none') {{\n",
       "            console.log([gd, 'removed!']);\n",
       "            Plotly.purge(gd);\n",
       "            observer.disconnect();\n",
       "        }}\n",
       "}});\n",
       "\n",
       "// Listen for the removal of the full notebook cells\n",
       "var notebookContainer = gd.closest('#notebook-container');\n",
       "if (notebookContainer) {{\n",
       "    x.observe(notebookContainer, {childList: true});\n",
       "}}\n",
       "\n",
       "// Listen for the clearing of the current output cell\n",
       "var outputEl = gd.closest('.output');\n",
       "if (outputEl) {{\n",
       "    x.observe(outputEl, {childList: true});\n",
       "}}\n",
       "\n",
       "                        })                };                });            </script>        </div>"
      ]
     },
     "metadata": {},
     "output_type": "display_data"
    }
   ],
   "source": [
    "df_price_elasticity['Brand_5_Cross_Brand_4'].iplot(kind = 'line', xTitle = 'prices4',color = 'blue',\n",
    "                                     yTitle ='Elasticity', title='Cross Price Elastycity 5 and 4')"
   ]
  },
  {
   "cell_type": "markdown",
   "id": "a862a186",
   "metadata": {},
   "source": [
    "Aquí examinamos la elasticidad precio cruzada de la probabilidad de compra de la marca 5 con respecto a la marca 4.  \n",
    "- Observamos que son positivos. A medida que aumenta el precio de la marca competidora,\n",
    "también lo hace la probabilidad de comprar nuestra propia marca. Aunque la elasticidad comienza a disminuir desde la marca de 1,45, sigue siendo positiva, señalar que el aumento de la probabilidad de compra de la propia marca se produce de forma más lenta."
   ]
  },
  {
   "cell_type": "markdown",
   "id": "3b553205",
   "metadata": {},
   "source": [
    "## 11-Price Elasticity of Purchase Quantity"
   ]
  },
  {
   "cell_type": "code",
   "execution_count": 94,
   "id": "2bc74edd",
   "metadata": {},
   "outputs": [
    {
     "data": {
      "text/html": [
       "<div>\n",
       "<style scoped>\n",
       "    .dataframe tbody tr th:only-of-type {\n",
       "        vertical-align: middle;\n",
       "    }\n",
       "\n",
       "    .dataframe tbody tr th {\n",
       "        vertical-align: top;\n",
       "    }\n",
       "\n",
       "    .dataframe thead th {\n",
       "        text-align: right;\n",
       "    }\n",
       "</style>\n",
       "<table border=\"1\" class=\"dataframe\">\n",
       "  <thead>\n",
       "    <tr style=\"text-align: right;\">\n",
       "      <th></th>\n",
       "      <th>ID</th>\n",
       "      <th>Day</th>\n",
       "      <th>Incidence</th>\n",
       "      <th>Brand</th>\n",
       "      <th>Quantity</th>\n",
       "      <th>Last_Inc_Brand</th>\n",
       "      <th>Last_Inc_Quantity</th>\n",
       "      <th>Price_1</th>\n",
       "      <th>Price_2</th>\n",
       "      <th>Price_3</th>\n",
       "      <th>...</th>\n",
       "      <th>Promotion_3</th>\n",
       "      <th>Promotion_4</th>\n",
       "      <th>Promotion_5</th>\n",
       "      <th>Sex</th>\n",
       "      <th>Marital status</th>\n",
       "      <th>Age</th>\n",
       "      <th>Education</th>\n",
       "      <th>Income</th>\n",
       "      <th>Occupation</th>\n",
       "      <th>Settlement size</th>\n",
       "    </tr>\n",
       "  </thead>\n",
       "  <tbody>\n",
       "    <tr>\n",
       "      <th>6</th>\n",
       "      <td>200000001</td>\n",
       "      <td>28</td>\n",
       "      <td>1</td>\n",
       "      <td>2</td>\n",
       "      <td>2</td>\n",
       "      <td>0</td>\n",
       "      <td>0</td>\n",
       "      <td>1.50</td>\n",
       "      <td>1.90</td>\n",
       "      <td>1.99</td>\n",
       "      <td>...</td>\n",
       "      <td>0</td>\n",
       "      <td>0</td>\n",
       "      <td>0</td>\n",
       "      <td>0</td>\n",
       "      <td>0</td>\n",
       "      <td>47</td>\n",
       "      <td>1</td>\n",
       "      <td>110866</td>\n",
       "      <td>1</td>\n",
       "      <td>0</td>\n",
       "    </tr>\n",
       "    <tr>\n",
       "      <th>11</th>\n",
       "      <td>200000001</td>\n",
       "      <td>58</td>\n",
       "      <td>1</td>\n",
       "      <td>5</td>\n",
       "      <td>1</td>\n",
       "      <td>0</td>\n",
       "      <td>0</td>\n",
       "      <td>1.39</td>\n",
       "      <td>1.90</td>\n",
       "      <td>1.91</td>\n",
       "      <td>...</td>\n",
       "      <td>0</td>\n",
       "      <td>0</td>\n",
       "      <td>1</td>\n",
       "      <td>0</td>\n",
       "      <td>0</td>\n",
       "      <td>47</td>\n",
       "      <td>1</td>\n",
       "      <td>110866</td>\n",
       "      <td>1</td>\n",
       "      <td>0</td>\n",
       "    </tr>\n",
       "    <tr>\n",
       "      <th>19</th>\n",
       "      <td>200000001</td>\n",
       "      <td>110</td>\n",
       "      <td>1</td>\n",
       "      <td>1</td>\n",
       "      <td>2</td>\n",
       "      <td>0</td>\n",
       "      <td>0</td>\n",
       "      <td>1.47</td>\n",
       "      <td>1.90</td>\n",
       "      <td>1.99</td>\n",
       "      <td>...</td>\n",
       "      <td>0</td>\n",
       "      <td>1</td>\n",
       "      <td>0</td>\n",
       "      <td>0</td>\n",
       "      <td>0</td>\n",
       "      <td>47</td>\n",
       "      <td>1</td>\n",
       "      <td>110866</td>\n",
       "      <td>1</td>\n",
       "      <td>0</td>\n",
       "    </tr>\n",
       "    <tr>\n",
       "      <th>24</th>\n",
       "      <td>200000001</td>\n",
       "      <td>142</td>\n",
       "      <td>1</td>\n",
       "      <td>4</td>\n",
       "      <td>1</td>\n",
       "      <td>0</td>\n",
       "      <td>0</td>\n",
       "      <td>1.21</td>\n",
       "      <td>1.35</td>\n",
       "      <td>1.99</td>\n",
       "      <td>...</td>\n",
       "      <td>0</td>\n",
       "      <td>0</td>\n",
       "      <td>0</td>\n",
       "      <td>0</td>\n",
       "      <td>0</td>\n",
       "      <td>47</td>\n",
       "      <td>1</td>\n",
       "      <td>110866</td>\n",
       "      <td>1</td>\n",
       "      <td>0</td>\n",
       "    </tr>\n",
       "    <tr>\n",
       "      <th>29</th>\n",
       "      <td>200000001</td>\n",
       "      <td>183</td>\n",
       "      <td>1</td>\n",
       "      <td>2</td>\n",
       "      <td>3</td>\n",
       "      <td>0</td>\n",
       "      <td>0</td>\n",
       "      <td>1.46</td>\n",
       "      <td>1.88</td>\n",
       "      <td>1.97</td>\n",
       "      <td>...</td>\n",
       "      <td>0</td>\n",
       "      <td>1</td>\n",
       "      <td>1</td>\n",
       "      <td>0</td>\n",
       "      <td>0</td>\n",
       "      <td>47</td>\n",
       "      <td>1</td>\n",
       "      <td>110866</td>\n",
       "      <td>1</td>\n",
       "      <td>0</td>\n",
       "    </tr>\n",
       "  </tbody>\n",
       "</table>\n",
       "<p>5 rows × 24 columns</p>\n",
       "</div>"
      ],
      "text/plain": [
       "           ID  Day  Incidence  Brand  Quantity  Last_Inc_Brand  \\\n",
       "6   200000001   28          1      2         2               0   \n",
       "11  200000001   58          1      5         1               0   \n",
       "19  200000001  110          1      1         2               0   \n",
       "24  200000001  142          1      4         1               0   \n",
       "29  200000001  183          1      2         3               0   \n",
       "\n",
       "    Last_Inc_Quantity  Price_1  Price_2  Price_3  ...  Promotion_3  \\\n",
       "6                   0     1.50     1.90     1.99  ...            0   \n",
       "11                  0     1.39     1.90     1.91  ...            0   \n",
       "19                  0     1.47     1.90     1.99  ...            0   \n",
       "24                  0     1.21     1.35     1.99  ...            0   \n",
       "29                  0     1.46     1.88     1.97  ...            0   \n",
       "\n",
       "    Promotion_4  Promotion_5  Sex  Marital status  Age  Education  Income  \\\n",
       "6             0            0    0               0   47          1  110866   \n",
       "11            0            1    0               0   47          1  110866   \n",
       "19            1            0    0               0   47          1  110866   \n",
       "24            0            0    0               0   47          1  110866   \n",
       "29            1            1    0               0   47          1  110866   \n",
       "\n",
       "    Occupation  Settlement size  \n",
       "6            1                0  \n",
       "11           1                0  \n",
       "19           1                0  \n",
       "24           1                0  \n",
       "29           1                0  \n",
       "\n",
       "[5 rows x 24 columns]"
      ]
     },
     "execution_count": 94,
     "metadata": {},
     "output_type": "execute_result"
    }
   ],
   "source": [
    "# filter data by incedent =1 \n",
    "df_purchase_quantity = df[df.Incidence==1]\n",
    "df_purchase_quantity.head()"
   ]
  },
  {
   "cell_type": "code",
   "execution_count": 98,
   "id": "d3e0a8c4",
   "metadata": {},
   "outputs": [
    {
     "data": {
      "text/html": [
       "<div>\n",
       "<style scoped>\n",
       "    .dataframe tbody tr th:only-of-type {\n",
       "        vertical-align: middle;\n",
       "    }\n",
       "\n",
       "    .dataframe tbody tr th {\n",
       "        vertical-align: top;\n",
       "    }\n",
       "\n",
       "    .dataframe thead th {\n",
       "        text-align: right;\n",
       "    }\n",
       "</style>\n",
       "<table border=\"1\" class=\"dataframe\">\n",
       "  <thead>\n",
       "    <tr style=\"text-align: right;\">\n",
       "      <th></th>\n",
       "      <th>ID</th>\n",
       "      <th>Day</th>\n",
       "      <th>Incidence</th>\n",
       "      <th>Quantity</th>\n",
       "      <th>Last_Inc_Brand</th>\n",
       "      <th>Last_Inc_Quantity</th>\n",
       "      <th>Price_1</th>\n",
       "      <th>Price_2</th>\n",
       "      <th>Price_3</th>\n",
       "      <th>Price_4</th>\n",
       "      <th>...</th>\n",
       "      <th>Age</th>\n",
       "      <th>Education</th>\n",
       "      <th>Income</th>\n",
       "      <th>Occupation</th>\n",
       "      <th>Settlement size</th>\n",
       "      <th>Brand_1</th>\n",
       "      <th>Brand_2</th>\n",
       "      <th>Brand_3</th>\n",
       "      <th>Brand_4</th>\n",
       "      <th>Brand_5</th>\n",
       "    </tr>\n",
       "  </thead>\n",
       "  <tbody>\n",
       "    <tr>\n",
       "      <th>6</th>\n",
       "      <td>200000001</td>\n",
       "      <td>28</td>\n",
       "      <td>1</td>\n",
       "      <td>2</td>\n",
       "      <td>0</td>\n",
       "      <td>0</td>\n",
       "      <td>1.50</td>\n",
       "      <td>1.90</td>\n",
       "      <td>1.99</td>\n",
       "      <td>2.09</td>\n",
       "      <td>...</td>\n",
       "      <td>47</td>\n",
       "      <td>1</td>\n",
       "      <td>110866</td>\n",
       "      <td>1</td>\n",
       "      <td>0</td>\n",
       "      <td>0</td>\n",
       "      <td>1</td>\n",
       "      <td>0</td>\n",
       "      <td>0</td>\n",
       "      <td>0</td>\n",
       "    </tr>\n",
       "    <tr>\n",
       "      <th>11</th>\n",
       "      <td>200000001</td>\n",
       "      <td>58</td>\n",
       "      <td>1</td>\n",
       "      <td>1</td>\n",
       "      <td>0</td>\n",
       "      <td>0</td>\n",
       "      <td>1.39</td>\n",
       "      <td>1.90</td>\n",
       "      <td>1.91</td>\n",
       "      <td>2.12</td>\n",
       "      <td>...</td>\n",
       "      <td>47</td>\n",
       "      <td>1</td>\n",
       "      <td>110866</td>\n",
       "      <td>1</td>\n",
       "      <td>0</td>\n",
       "      <td>0</td>\n",
       "      <td>0</td>\n",
       "      <td>0</td>\n",
       "      <td>0</td>\n",
       "      <td>1</td>\n",
       "    </tr>\n",
       "    <tr>\n",
       "      <th>19</th>\n",
       "      <td>200000001</td>\n",
       "      <td>110</td>\n",
       "      <td>1</td>\n",
       "      <td>2</td>\n",
       "      <td>0</td>\n",
       "      <td>0</td>\n",
       "      <td>1.47</td>\n",
       "      <td>1.90</td>\n",
       "      <td>1.99</td>\n",
       "      <td>1.97</td>\n",
       "      <td>...</td>\n",
       "      <td>47</td>\n",
       "      <td>1</td>\n",
       "      <td>110866</td>\n",
       "      <td>1</td>\n",
       "      <td>0</td>\n",
       "      <td>1</td>\n",
       "      <td>0</td>\n",
       "      <td>0</td>\n",
       "      <td>0</td>\n",
       "      <td>0</td>\n",
       "    </tr>\n",
       "    <tr>\n",
       "      <th>24</th>\n",
       "      <td>200000001</td>\n",
       "      <td>142</td>\n",
       "      <td>1</td>\n",
       "      <td>1</td>\n",
       "      <td>0</td>\n",
       "      <td>0</td>\n",
       "      <td>1.21</td>\n",
       "      <td>1.35</td>\n",
       "      <td>1.99</td>\n",
       "      <td>2.16</td>\n",
       "      <td>...</td>\n",
       "      <td>47</td>\n",
       "      <td>1</td>\n",
       "      <td>110866</td>\n",
       "      <td>1</td>\n",
       "      <td>0</td>\n",
       "      <td>0</td>\n",
       "      <td>0</td>\n",
       "      <td>0</td>\n",
       "      <td>1</td>\n",
       "      <td>0</td>\n",
       "    </tr>\n",
       "    <tr>\n",
       "      <th>29</th>\n",
       "      <td>200000001</td>\n",
       "      <td>183</td>\n",
       "      <td>1</td>\n",
       "      <td>3</td>\n",
       "      <td>0</td>\n",
       "      <td>0</td>\n",
       "      <td>1.46</td>\n",
       "      <td>1.88</td>\n",
       "      <td>1.97</td>\n",
       "      <td>1.89</td>\n",
       "      <td>...</td>\n",
       "      <td>47</td>\n",
       "      <td>1</td>\n",
       "      <td>110866</td>\n",
       "      <td>1</td>\n",
       "      <td>0</td>\n",
       "      <td>0</td>\n",
       "      <td>1</td>\n",
       "      <td>0</td>\n",
       "      <td>0</td>\n",
       "      <td>0</td>\n",
       "    </tr>\n",
       "  </tbody>\n",
       "</table>\n",
       "<p>5 rows × 28 columns</p>\n",
       "</div>"
      ],
      "text/plain": [
       "           ID  Day  Incidence  Quantity  Last_Inc_Brand  Last_Inc_Quantity  \\\n",
       "6   200000001   28          1         2               0                  0   \n",
       "11  200000001   58          1         1               0                  0   \n",
       "19  200000001  110          1         2               0                  0   \n",
       "24  200000001  142          1         1               0                  0   \n",
       "29  200000001  183          1         3               0                  0   \n",
       "\n",
       "    Price_1  Price_2  Price_3  Price_4  ...  Age  Education  Income  \\\n",
       "6      1.50     1.90     1.99     2.09  ...   47          1  110866   \n",
       "11     1.39     1.90     1.91     2.12  ...   47          1  110866   \n",
       "19     1.47     1.90     1.99     1.97  ...   47          1  110866   \n",
       "24     1.21     1.35     1.99     2.16  ...   47          1  110866   \n",
       "29     1.46     1.88     1.97     1.89  ...   47          1  110866   \n",
       "\n",
       "    Occupation  Settlement size  Brand_1  Brand_2  Brand_3  Brand_4  Brand_5  \n",
       "6            1                0        0        1        0        0        0  \n",
       "11           1                0        0        0        0        0        1  \n",
       "19           1                0        1        0        0        0        0  \n",
       "24           1                0        0        0        0        1        0  \n",
       "29           1                0        0        1        0        0        0  \n",
       "\n",
       "[5 rows x 28 columns]"
      ]
     },
     "execution_count": 98,
     "metadata": {},
     "output_type": "execute_result"
    }
   ],
   "source": [
    "# dummies brand variables\n",
    "df_purchase_quantity = pd.get_dummies(df_purchase_quantity,columns=['Brand'], prefix='Brand')\n",
    "df_purchase_quantity.head()"
   ]
  },
  {
   "cell_type": "code",
   "execution_count": 100,
   "id": "ccda1f4a",
   "metadata": {},
   "outputs": [
    {
     "data": {
      "text/html": [
       "<div>\n",
       "<style scoped>\n",
       "    .dataframe tbody tr th:only-of-type {\n",
       "        vertical-align: middle;\n",
       "    }\n",
       "\n",
       "    .dataframe tbody tr th {\n",
       "        vertical-align: top;\n",
       "    }\n",
       "\n",
       "    .dataframe thead th {\n",
       "        text-align: right;\n",
       "    }\n",
       "</style>\n",
       "<table border=\"1\" class=\"dataframe\">\n",
       "  <thead>\n",
       "    <tr style=\"text-align: right;\">\n",
       "      <th></th>\n",
       "      <th>ID</th>\n",
       "      <th>Day</th>\n",
       "      <th>Incidence</th>\n",
       "      <th>Quantity</th>\n",
       "      <th>Last_Inc_Brand</th>\n",
       "      <th>Last_Inc_Quantity</th>\n",
       "      <th>Price_1</th>\n",
       "      <th>Price_2</th>\n",
       "      <th>Price_3</th>\n",
       "      <th>Price_4</th>\n",
       "      <th>...</th>\n",
       "      <th>Age</th>\n",
       "      <th>Education</th>\n",
       "      <th>Income</th>\n",
       "      <th>Occupation</th>\n",
       "      <th>Settlement size</th>\n",
       "      <th>Brand_1</th>\n",
       "      <th>Brand_2</th>\n",
       "      <th>Brand_3</th>\n",
       "      <th>Brand_4</th>\n",
       "      <th>Brand_5</th>\n",
       "    </tr>\n",
       "  </thead>\n",
       "  <tbody>\n",
       "    <tr>\n",
       "      <th>count</th>\n",
       "      <td>1.463800e+04</td>\n",
       "      <td>14638.000000</td>\n",
       "      <td>14638.0</td>\n",
       "      <td>14638.000000</td>\n",
       "      <td>14638.000000</td>\n",
       "      <td>14638.000000</td>\n",
       "      <td>14638.000000</td>\n",
       "      <td>14638.000000</td>\n",
       "      <td>14638.000000</td>\n",
       "      <td>14638.000000</td>\n",
       "      <td>...</td>\n",
       "      <td>14638.000000</td>\n",
       "      <td>14638.000000</td>\n",
       "      <td>14638.000000</td>\n",
       "      <td>14638.000000</td>\n",
       "      <td>14638.000000</td>\n",
       "      <td>14638.000000</td>\n",
       "      <td>14638.000000</td>\n",
       "      <td>14638.000000</td>\n",
       "      <td>14638.000000</td>\n",
       "      <td>14638.000000</td>\n",
       "    </tr>\n",
       "    <tr>\n",
       "      <th>mean</th>\n",
       "      <td>2.000003e+08</td>\n",
       "      <td>359.607597</td>\n",
       "      <td>1.0</td>\n",
       "      <td>2.774559</td>\n",
       "      <td>1.535251</td>\n",
       "      <td>0.406955</td>\n",
       "      <td>1.384559</td>\n",
       "      <td>1.764717</td>\n",
       "      <td>2.006694</td>\n",
       "      <td>2.159658</td>\n",
       "      <td>...</td>\n",
       "      <td>40.346905</td>\n",
       "      <td>1.151045</td>\n",
       "      <td>126706.452043</td>\n",
       "      <td>0.845471</td>\n",
       "      <td>0.797513</td>\n",
       "      <td>0.092226</td>\n",
       "      <td>0.310288</td>\n",
       "      <td>0.057453</td>\n",
       "      <td>0.199959</td>\n",
       "      <td>0.340074</td>\n",
       "    </tr>\n",
       "    <tr>\n",
       "      <th>std</th>\n",
       "      <td>1.423786e+02</td>\n",
       "      <td>205.346253</td>\n",
       "      <td>0.0</td>\n",
       "      <td>1.796736</td>\n",
       "      <td>2.060858</td>\n",
       "      <td>0.491283</td>\n",
       "      <td>0.090944</td>\n",
       "      <td>0.181667</td>\n",
       "      <td>0.046200</td>\n",
       "      <td>0.093253</td>\n",
       "      <td>...</td>\n",
       "      <td>12.346284</td>\n",
       "      <td>0.634625</td>\n",
       "      <td>39935.109358</td>\n",
       "      <td>0.633840</td>\n",
       "      <td>0.810358</td>\n",
       "      <td>0.289354</td>\n",
       "      <td>0.462627</td>\n",
       "      <td>0.232714</td>\n",
       "      <td>0.399983</td>\n",
       "      <td>0.473750</td>\n",
       "    </tr>\n",
       "    <tr>\n",
       "      <th>min</th>\n",
       "      <td>2.000000e+08</td>\n",
       "      <td>1.000000</td>\n",
       "      <td>1.0</td>\n",
       "      <td>1.000000</td>\n",
       "      <td>0.000000</td>\n",
       "      <td>0.000000</td>\n",
       "      <td>1.100000</td>\n",
       "      <td>1.260000</td>\n",
       "      <td>1.870000</td>\n",
       "      <td>1.760000</td>\n",
       "      <td>...</td>\n",
       "      <td>18.000000</td>\n",
       "      <td>0.000000</td>\n",
       "      <td>38247.000000</td>\n",
       "      <td>0.000000</td>\n",
       "      <td>0.000000</td>\n",
       "      <td>0.000000</td>\n",
       "      <td>0.000000</td>\n",
       "      <td>0.000000</td>\n",
       "      <td>0.000000</td>\n",
       "      <td>0.000000</td>\n",
       "    </tr>\n",
       "    <tr>\n",
       "      <th>25%</th>\n",
       "      <td>2.000001e+08</td>\n",
       "      <td>175.000000</td>\n",
       "      <td>1.0</td>\n",
       "      <td>2.000000</td>\n",
       "      <td>0.000000</td>\n",
       "      <td>0.000000</td>\n",
       "      <td>1.340000</td>\n",
       "      <td>1.570000</td>\n",
       "      <td>1.970000</td>\n",
       "      <td>2.120000</td>\n",
       "      <td>...</td>\n",
       "      <td>31.000000</td>\n",
       "      <td>1.000000</td>\n",
       "      <td>102723.000000</td>\n",
       "      <td>0.000000</td>\n",
       "      <td>0.000000</td>\n",
       "      <td>0.000000</td>\n",
       "      <td>0.000000</td>\n",
       "      <td>0.000000</td>\n",
       "      <td>0.000000</td>\n",
       "      <td>0.000000</td>\n",
       "    </tr>\n",
       "    <tr>\n",
       "      <th>50%</th>\n",
       "      <td>2.000003e+08</td>\n",
       "      <td>355.000000</td>\n",
       "      <td>1.0</td>\n",
       "      <td>2.000000</td>\n",
       "      <td>0.000000</td>\n",
       "      <td>0.000000</td>\n",
       "      <td>1.390000</td>\n",
       "      <td>1.880000</td>\n",
       "      <td>2.010000</td>\n",
       "      <td>2.180000</td>\n",
       "      <td>...</td>\n",
       "      <td>37.000000</td>\n",
       "      <td>1.000000</td>\n",
       "      <td>122895.000000</td>\n",
       "      <td>1.000000</td>\n",
       "      <td>1.000000</td>\n",
       "      <td>0.000000</td>\n",
       "      <td>0.000000</td>\n",
       "      <td>0.000000</td>\n",
       "      <td>0.000000</td>\n",
       "      <td>0.000000</td>\n",
       "    </tr>\n",
       "    <tr>\n",
       "      <th>75%</th>\n",
       "      <td>2.000004e+08</td>\n",
       "      <td>532.000000</td>\n",
       "      <td>1.0</td>\n",
       "      <td>3.000000</td>\n",
       "      <td>4.000000</td>\n",
       "      <td>1.000000</td>\n",
       "      <td>1.470000</td>\n",
       "      <td>1.890000</td>\n",
       "      <td>2.060000</td>\n",
       "      <td>2.240000</td>\n",
       "      <td>...</td>\n",
       "      <td>49.000000</td>\n",
       "      <td>2.000000</td>\n",
       "      <td>147967.000000</td>\n",
       "      <td>1.000000</td>\n",
       "      <td>1.000000</td>\n",
       "      <td>0.000000</td>\n",
       "      <td>1.000000</td>\n",
       "      <td>0.000000</td>\n",
       "      <td>0.000000</td>\n",
       "      <td>1.000000</td>\n",
       "    </tr>\n",
       "    <tr>\n",
       "      <th>max</th>\n",
       "      <td>2.000005e+08</td>\n",
       "      <td>727.000000</td>\n",
       "      <td>1.0</td>\n",
       "      <td>15.000000</td>\n",
       "      <td>5.000000</td>\n",
       "      <td>1.000000</td>\n",
       "      <td>1.590000</td>\n",
       "      <td>1.900000</td>\n",
       "      <td>2.140000</td>\n",
       "      <td>2.260000</td>\n",
       "      <td>...</td>\n",
       "      <td>75.000000</td>\n",
       "      <td>3.000000</td>\n",
       "      <td>309364.000000</td>\n",
       "      <td>2.000000</td>\n",
       "      <td>2.000000</td>\n",
       "      <td>1.000000</td>\n",
       "      <td>1.000000</td>\n",
       "      <td>1.000000</td>\n",
       "      <td>1.000000</td>\n",
       "      <td>1.000000</td>\n",
       "    </tr>\n",
       "  </tbody>\n",
       "</table>\n",
       "<p>8 rows × 28 columns</p>\n",
       "</div>"
      ],
      "text/plain": [
       "                 ID           Day  Incidence      Quantity  Last_Inc_Brand  \\\n",
       "count  1.463800e+04  14638.000000    14638.0  14638.000000    14638.000000   \n",
       "mean   2.000003e+08    359.607597        1.0      2.774559        1.535251   \n",
       "std    1.423786e+02    205.346253        0.0      1.796736        2.060858   \n",
       "min    2.000000e+08      1.000000        1.0      1.000000        0.000000   \n",
       "25%    2.000001e+08    175.000000        1.0      2.000000        0.000000   \n",
       "50%    2.000003e+08    355.000000        1.0      2.000000        0.000000   \n",
       "75%    2.000004e+08    532.000000        1.0      3.000000        4.000000   \n",
       "max    2.000005e+08    727.000000        1.0     15.000000        5.000000   \n",
       "\n",
       "       Last_Inc_Quantity       Price_1       Price_2       Price_3  \\\n",
       "count       14638.000000  14638.000000  14638.000000  14638.000000   \n",
       "mean            0.406955      1.384559      1.764717      2.006694   \n",
       "std             0.491283      0.090944      0.181667      0.046200   \n",
       "min             0.000000      1.100000      1.260000      1.870000   \n",
       "25%             0.000000      1.340000      1.570000      1.970000   \n",
       "50%             0.000000      1.390000      1.880000      2.010000   \n",
       "75%             1.000000      1.470000      1.890000      2.060000   \n",
       "max             1.000000      1.590000      1.900000      2.140000   \n",
       "\n",
       "            Price_4  ...           Age     Education         Income  \\\n",
       "count  14638.000000  ...  14638.000000  14638.000000   14638.000000   \n",
       "mean       2.159658  ...     40.346905      1.151045  126706.452043   \n",
       "std        0.093253  ...     12.346284      0.634625   39935.109358   \n",
       "min        1.760000  ...     18.000000      0.000000   38247.000000   \n",
       "25%        2.120000  ...     31.000000      1.000000  102723.000000   \n",
       "50%        2.180000  ...     37.000000      1.000000  122895.000000   \n",
       "75%        2.240000  ...     49.000000      2.000000  147967.000000   \n",
       "max        2.260000  ...     75.000000      3.000000  309364.000000   \n",
       "\n",
       "         Occupation  Settlement size       Brand_1       Brand_2  \\\n",
       "count  14638.000000     14638.000000  14638.000000  14638.000000   \n",
       "mean       0.845471         0.797513      0.092226      0.310288   \n",
       "std        0.633840         0.810358      0.289354      0.462627   \n",
       "min        0.000000         0.000000      0.000000      0.000000   \n",
       "25%        0.000000         0.000000      0.000000      0.000000   \n",
       "50%        1.000000         1.000000      0.000000      0.000000   \n",
       "75%        1.000000         1.000000      0.000000      1.000000   \n",
       "max        2.000000         2.000000      1.000000      1.000000   \n",
       "\n",
       "            Brand_3       Brand_4       Brand_5  \n",
       "count  14638.000000  14638.000000  14638.000000  \n",
       "mean       0.057453      0.199959      0.340074  \n",
       "std        0.232714      0.399983      0.473750  \n",
       "min        0.000000      0.000000      0.000000  \n",
       "25%        0.000000      0.000000      0.000000  \n",
       "50%        0.000000      0.000000      0.000000  \n",
       "75%        0.000000      0.000000      1.000000  \n",
       "max        1.000000      1.000000      1.000000  \n",
       "\n",
       "[8 rows x 28 columns]"
      ]
     },
     "execution_count": 100,
     "metadata": {},
     "output_type": "execute_result"
    }
   ],
   "source": [
    "df_purchase_quantity.describe()"
   ]
  },
  {
   "cell_type": "code",
   "execution_count": 101,
   "id": "2bf03451",
   "metadata": {},
   "outputs": [
    {
     "data": {
      "text/plain": [
       "array(['ID', 'Day', 'Incidence', 'Quantity', 'Last_Inc_Brand',\n",
       "       'Last_Inc_Quantity', 'Price_1', 'Price_2', 'Price_3', 'Price_4',\n",
       "       'Price_5', 'Promotion_1', 'Promotion_2', 'Promotion_3',\n",
       "       'Promotion_4', 'Promotion_5', 'Sex', 'Marital status', 'Age',\n",
       "       'Education', 'Income', 'Occupation', 'Settlement size', 'Brand_1',\n",
       "       'Brand_2', 'Brand_3', 'Brand_4', 'Brand_5'], dtype=object)"
      ]
     },
     "execution_count": 101,
     "metadata": {},
     "output_type": "execute_result"
    }
   ],
   "source": [
    "df_purchase_quantity.columns.values"
   ]
  },
  {
   "cell_type": "code",
   "execution_count": 102,
   "id": "217e2e00",
   "metadata": {},
   "outputs": [],
   "source": [
    "#Find the price of the product that is chosen at this incidence\n",
    "df_purchase_quantity['price_incidence'] = (\n",
    "    df_purchase_quantity['Brand_1'] * df_purchase_quantity['Price_1'] +\n",
    "    df_purchase_quantity['Brand_2'] * df_purchase_quantity['Price_2'] +\n",
    "    df_purchase_quantity['Brand_3'] * df_purchase_quantity['Price_3'] +\n",
    "    df_purchase_quantity['Brand_4'] * df_purchase_quantity['Price_4'] +\n",
    "    df_purchase_quantity['Brand_5'] * df_purchase_quantity['Price_5'] \n",
    "\n",
    ")"
   ]
  },
  {
   "cell_type": "code",
   "execution_count": 103,
   "id": "47cdbd99",
   "metadata": {},
   "outputs": [],
   "source": [
    "#Find the price of the product that is chosen at this incidence\n",
    "df_purchase_quantity['promotion_incidence'] = (\n",
    "    df_purchase_quantity['Brand_1'] * df_purchase_quantity['Promotion_1'] +\n",
    "    df_purchase_quantity['Brand_2'] * df_purchase_quantity['Promotion_2'] +\n",
    "    df_purchase_quantity['Brand_3'] * df_purchase_quantity['Promotion_3'] +\n",
    "    df_purchase_quantity['Brand_4'] * df_purchase_quantity['Promotion_4'] +\n",
    "    df_purchase_quantity['Brand_5'] * df_purchase_quantity['Promotion_5'] \n",
    "\n",
    ")"
   ]
  },
  {
   "cell_type": "markdown",
   "id": "a6eecdca",
   "metadata": {},
   "source": [
    "#### Seelct X and y"
   ]
  },
  {
   "cell_type": "code",
   "execution_count": 105,
   "id": "3951ec9e",
   "metadata": {},
   "outputs": [],
   "source": [
    "X = df_purchase_quantity[['price_incidence','promotion_incidence']]\n",
    "y = df_purchase_quantity['Quantity']"
   ]
  },
  {
   "cell_type": "markdown",
   "id": "0d88a4e0",
   "metadata": {},
   "source": [
    "### Model Estimation. Linear Regression"
   ]
  },
  {
   "cell_type": "code",
   "execution_count": 106,
   "id": "ffed5d92",
   "metadata": {},
   "outputs": [
    {
     "data": {
      "text/plain": [
       "LinearRegression()"
      ]
     },
     "execution_count": 106,
     "metadata": {},
     "output_type": "execute_result"
    }
   ],
   "source": [
    "model_quantity = LinearRegression()\n",
    "model_quantity.fit(X, y)"
   ]
  },
  {
   "cell_type": "code",
   "execution_count": 107,
   "id": "8a516f1d",
   "metadata": {},
   "outputs": [
    {
     "data": {
      "text/plain": [
       "array([-0.8173651 , -0.10504673])"
      ]
     },
     "execution_count": 107,
     "metadata": {},
     "output_type": "execute_result"
    }
   ],
   "source": [
    "model_quantity.coef_"
   ]
  },
  {
   "cell_type": "markdown",
   "id": "74f6d26c",
   "metadata": {},
   "source": [
    "Parece que la promoción se refleja negativamente en la cantidad de compra del cliente promedio, lo cual es inesperado."
   ]
  },
  {
   "cell_type": "markdown",
   "id": "a3f397bc",
   "metadata": {},
   "source": [
    "#### Price Elasticity Estimation"
   ]
  },
  {
   "cell_type": "code",
   "execution_count": 109,
   "id": "92a12336",
   "metadata": {},
   "outputs": [
    {
     "data": {
      "text/html": [
       "<div>\n",
       "<style scoped>\n",
       "    .dataframe tbody tr th:only-of-type {\n",
       "        vertical-align: middle;\n",
       "    }\n",
       "\n",
       "    .dataframe tbody tr th {\n",
       "        vertical-align: top;\n",
       "    }\n",
       "\n",
       "    .dataframe thead th {\n",
       "        text-align: right;\n",
       "    }\n",
       "</style>\n",
       "<table border=\"1\" class=\"dataframe\">\n",
       "  <thead>\n",
       "    <tr style=\"text-align: right;\">\n",
       "      <th></th>\n",
       "      <th>Price_incidence</th>\n",
       "      <th>Promotion_incidence</th>\n",
       "    </tr>\n",
       "  </thead>\n",
       "  <tbody>\n",
       "    <tr>\n",
       "      <th>0</th>\n",
       "      <td>0.50</td>\n",
       "      <td>1</td>\n",
       "    </tr>\n",
       "    <tr>\n",
       "      <th>1</th>\n",
       "      <td>0.51</td>\n",
       "      <td>1</td>\n",
       "    </tr>\n",
       "    <tr>\n",
       "      <th>2</th>\n",
       "      <td>0.52</td>\n",
       "      <td>1</td>\n",
       "    </tr>\n",
       "    <tr>\n",
       "      <th>3</th>\n",
       "      <td>0.53</td>\n",
       "      <td>1</td>\n",
       "    </tr>\n",
       "    <tr>\n",
       "      <th>4</th>\n",
       "      <td>0.54</td>\n",
       "      <td>1</td>\n",
       "    </tr>\n",
       "  </tbody>\n",
       "</table>\n",
       "</div>"
      ],
      "text/plain": [
       "   Price_incidence  Promotion_incidence\n",
       "0             0.50                    1\n",
       "1             0.51                    1\n",
       "2             0.52                    1\n",
       "3             0.53                    1\n",
       "4             0.54                    1"
      ]
     },
     "execution_count": 109,
     "metadata": {},
     "output_type": "execute_result"
    }
   ],
   "source": [
    "df_price_elasticity_quantity = pd.DataFrame(index=np.arange(price_range.size))\n",
    "df_price_elasticity_quantity['Price_incidence'] = price_range\n",
    "df_price_elasticity_quantity['Promotion_incidence'] =1\n",
    "df_price_elasticity_quantity.head()"
   ]
  },
  {
   "cell_type": "code",
   "execution_count": 111,
   "id": "0ed61c15",
   "metadata": {},
   "outputs": [
    {
     "data": {
      "text/plain": [
       "-0.8173651016685023"
      ]
     },
     "execution_count": 111,
     "metadata": {},
     "output_type": "execute_result"
    }
   ],
   "source": [
    "beta_quantity = model_quantity.coef_[0]\n",
    "beta_quantity"
   ]
  },
  {
   "cell_type": "code",
   "execution_count": 114,
   "id": "23acab40",
   "metadata": {},
   "outputs": [],
   "source": [
    "predict_quantity = model_quantity.predict(df_price_elasticity_quantity)"
   ]
  },
  {
   "cell_type": "code",
   "execution_count": 117,
   "id": "82583fa4",
   "metadata": {},
   "outputs": [],
   "source": [
    "pe_quantity_with_promo = beta_quantity * price_range/predict_quantity"
   ]
  },
  {
   "cell_type": "code",
   "execution_count": 118,
   "id": "dcf0f836",
   "metadata": {},
   "outputs": [
    {
     "data": {
      "text/html": [
       "<div>\n",
       "<style scoped>\n",
       "    .dataframe tbody tr th:only-of-type {\n",
       "        vertical-align: middle;\n",
       "    }\n",
       "\n",
       "    .dataframe tbody tr th {\n",
       "        vertical-align: top;\n",
       "    }\n",
       "\n",
       "    .dataframe thead th {\n",
       "        text-align: right;\n",
       "    }\n",
       "</style>\n",
       "<table border=\"1\" class=\"dataframe\">\n",
       "  <thead>\n",
       "    <tr style=\"text-align: right;\">\n",
       "      <th></th>\n",
       "      <th>Price_Point</th>\n",
       "      <th>means</th>\n",
       "      <th>pe_seg1</th>\n",
       "      <th>pe_seg2</th>\n",
       "      <th>pe_seg0</th>\n",
       "      <th>pe_seg3</th>\n",
       "      <th>elasticity_promotion_1</th>\n",
       "      <th>elasticity_promotion_0</th>\n",
       "      <th>Brand_5</th>\n",
       "      <th>Brand_5_Cross_Brand_4</th>\n",
       "      <th>pe_quantity_promotion1</th>\n",
       "    </tr>\n",
       "  </thead>\n",
       "  <tbody>\n",
       "    <tr>\n",
       "      <th>0</th>\n",
       "      <td>0.50</td>\n",
       "      <td>-0.096396</td>\n",
       "      <td>-0.119088</td>\n",
       "      <td>-0.030921</td>\n",
       "      <td>-0.211169</td>\n",
       "      <td>-0.168042</td>\n",
       "      <td>-0.125732</td>\n",
       "      <td>-0.195644</td>\n",
       "      <td>-0.049056</td>\n",
       "      <td>0.332011</td>\n",
       "      <td>-0.102157</td>\n",
       "    </tr>\n",
       "    <tr>\n",
       "      <th>1</th>\n",
       "      <td>0.51</td>\n",
       "      <td>-0.100464</td>\n",
       "      <td>-0.123271</td>\n",
       "      <td>-0.032688</td>\n",
       "      <td>-0.217739</td>\n",
       "      <td>-0.172967</td>\n",
       "      <td>-0.129848</td>\n",
       "      <td>-0.201765</td>\n",
       "      <td>-0.050617</td>\n",
       "      <td>0.337288</td>\n",
       "      <td>-0.104413</td>\n",
       "    </tr>\n",
       "    <tr>\n",
       "      <th>2</th>\n",
       "      <td>0.52</td>\n",
       "      <td>-0.104659</td>\n",
       "      <td>-0.127548</td>\n",
       "      <td>-0.034541</td>\n",
       "      <td>-0.224417</td>\n",
       "      <td>-0.177962</td>\n",
       "      <td>-0.134043</td>\n",
       "      <td>-0.207989</td>\n",
       "      <td>-0.052207</td>\n",
       "      <td>0.342507</td>\n",
       "      <td>-0.106679</td>\n",
       "    </tr>\n",
       "    <tr>\n",
       "      <th>3</th>\n",
       "      <td>0.53</td>\n",
       "      <td>-0.108984</td>\n",
       "      <td>-0.131919</td>\n",
       "      <td>-0.036486</td>\n",
       "      <td>-0.231204</td>\n",
       "      <td>-0.183027</td>\n",
       "      <td>-0.138318</td>\n",
       "      <td>-0.214316</td>\n",
       "      <td>-0.053827</td>\n",
       "      <td>0.347669</td>\n",
       "      <td>-0.108954</td>\n",
       "    </tr>\n",
       "    <tr>\n",
       "      <th>4</th>\n",
       "      <td>0.54</td>\n",
       "      <td>-0.113442</td>\n",
       "      <td>-0.136386</td>\n",
       "      <td>-0.038526</td>\n",
       "      <td>-0.238099</td>\n",
       "      <td>-0.188165</td>\n",
       "      <td>-0.142674</td>\n",
       "      <td>-0.220747</td>\n",
       "      <td>-0.055477</td>\n",
       "      <td>0.352773</td>\n",
       "      <td>-0.111238</td>\n",
       "    </tr>\n",
       "  </tbody>\n",
       "</table>\n",
       "</div>"
      ],
      "text/plain": [
       "   Price_Point     means   pe_seg1   pe_seg2   pe_seg0   pe_seg3  \\\n",
       "0         0.50 -0.096396 -0.119088 -0.030921 -0.211169 -0.168042   \n",
       "1         0.51 -0.100464 -0.123271 -0.032688 -0.217739 -0.172967   \n",
       "2         0.52 -0.104659 -0.127548 -0.034541 -0.224417 -0.177962   \n",
       "3         0.53 -0.108984 -0.131919 -0.036486 -0.231204 -0.183027   \n",
       "4         0.54 -0.113442 -0.136386 -0.038526 -0.238099 -0.188165   \n",
       "\n",
       "   elasticity_promotion_1  elasticity_promotion_0   Brand_5  \\\n",
       "0               -0.125732               -0.195644 -0.049056   \n",
       "1               -0.129848               -0.201765 -0.050617   \n",
       "2               -0.134043               -0.207989 -0.052207   \n",
       "3               -0.138318               -0.214316 -0.053827   \n",
       "4               -0.142674               -0.220747 -0.055477   \n",
       "\n",
       "   Brand_5_Cross_Brand_4  pe_quantity_promotion1  \n",
       "0               0.332011               -0.102157  \n",
       "1               0.337288               -0.104413  \n",
       "2               0.342507               -0.106679  \n",
       "3               0.347669               -0.108954  \n",
       "4               0.352773               -0.111238  "
      ]
     },
     "execution_count": 118,
     "metadata": {},
     "output_type": "execute_result"
    }
   ],
   "source": [
    "df_price_elasticity['pe_quantity_promotion1'] = pe_quantity_with_promo\n",
    "df_price_elasticity.head()"
   ]
  },
  {
   "cell_type": "code",
   "execution_count": 119,
   "id": "ca94543a",
   "metadata": {},
   "outputs": [
    {
     "data": {
      "application/vnd.plotly.v1+json": {
       "config": {
        "linkText": "Export to plot.ly",
        "plotlyServerURL": "https://plot.ly",
        "showLink": true
       },
       "data": [
        {
         "line": {
          "color": "rgba(55, 128, 191, 1.0)",
          "dash": "solid",
          "shape": "linear",
          "width": 1.3
         },
         "mode": "lines",
         "name": "pe_quantity_promotion1",
         "text": "",
         "type": "scatter",
         "x": [
          0,
          1,
          2,
          3,
          4,
          5,
          6,
          7,
          8,
          9,
          10,
          11,
          12,
          13,
          14,
          15,
          16,
          17,
          18,
          19,
          20,
          21,
          22,
          23,
          24,
          25,
          26,
          27,
          28,
          29,
          30,
          31,
          32,
          33,
          34,
          35,
          36,
          37,
          38,
          39,
          40,
          41,
          42,
          43,
          44,
          45,
          46,
          47,
          48,
          49,
          50,
          51,
          52,
          53,
          54,
          55,
          56,
          57,
          58,
          59,
          60,
          61,
          62,
          63,
          64,
          65,
          66,
          67,
          68,
          69,
          70,
          71,
          72,
          73,
          74,
          75,
          76,
          77,
          78,
          79,
          80,
          81,
          82,
          83,
          84,
          85,
          86,
          87,
          88,
          89,
          90,
          91,
          92,
          93,
          94,
          95,
          96,
          97,
          98,
          99,
          100,
          101,
          102,
          103,
          104,
          105,
          106,
          107,
          108,
          109,
          110,
          111,
          112,
          113,
          114,
          115,
          116,
          117,
          118,
          119,
          120,
          121,
          122,
          123,
          124,
          125,
          126,
          127,
          128,
          129,
          130,
          131,
          132,
          133,
          134,
          135,
          136,
          137,
          138,
          139,
          140,
          141,
          142,
          143,
          144,
          145,
          146,
          147,
          148,
          149,
          150,
          151,
          152,
          153,
          154,
          155,
          156,
          157,
          158,
          159,
          160,
          161,
          162,
          163,
          164,
          165,
          166,
          167,
          168,
          169,
          170,
          171,
          172,
          173,
          174,
          175,
          176,
          177,
          178,
          179,
          180,
          181,
          182,
          183,
          184,
          185,
          186,
          187,
          188,
          189,
          190,
          191,
          192,
          193,
          194,
          195,
          196,
          197,
          198,
          199,
          200,
          201,
          202,
          203,
          204,
          205,
          206,
          207,
          208,
          209,
          210,
          211,
          212,
          213,
          214,
          215,
          216,
          217,
          218,
          219,
          220,
          221,
          222,
          223,
          224,
          225,
          226,
          227,
          228,
          229,
          230,
          231,
          232,
          233,
          234,
          235,
          236,
          237,
          238,
          239,
          240,
          241,
          242,
          243,
          244,
          245,
          246,
          247,
          248,
          249,
          250,
          251,
          252,
          253,
          254,
          255,
          256,
          257,
          258,
          259,
          260,
          261,
          262,
          263,
          264,
          265,
          266,
          267,
          268,
          269,
          270,
          271,
          272,
          273,
          274,
          275,
          276,
          277,
          278,
          279,
          280,
          281,
          282,
          283,
          284,
          285,
          286,
          287,
          288,
          289,
          290,
          291,
          292,
          293,
          294,
          295,
          296,
          297,
          298
         ],
         "y": [
          -0.10215678690009684,
          -0.10441325308700189,
          -0.10667897763951834,
          -0.10895401765591775,
          -0.11123843070495477,
          -0.11353227483072309,
          -0.11583560855757154,
          -0.11814849089508159,
          -0.12047098134310648,
          -0.12280313989687368,
          -0.12514502705215091,
          -0.12749670381047715,
          -0.12985823168445917,
          -0.13222967270313501,
          -0.13461108941740502,
          -0.13700254490553154,
          -0.13940410277870824,
          -0.14181582718670055,
          -0.14423778282355723,
          -0.14667003493339553,
          -0.14911264931625964,
          -0.15156569233405454,
          -0.15402923091655601,
          -0.15650333256749777,
          -0.15898806537073717,
          -0.1614834979965007,
          -0.16398969970771,
          -0.16650674036639032,
          -0.16903469044016203,
          -0.17157362100881698,
          -0.17412360377098038,
          -0.17668471105086028,
          -0.17925701580508524,
          -0.1818405916296321,
          -0.184435512766845,
          -0.18704185411254684,
          -0.1896596912232451,
          -0.19228910032343333,
          -0.19493015831298896,
          -0.1975829427746708,
          -0.20024753198171558,
          -0.2029240049055366,
          -0.20561244122352582,
          -0.20831292132696025,
          -0.21102552632901528,
          -0.21375033807288601,
          -0.21648743914001867,
          -0.2192369128584531,
          -0.2219988433112796,
          -0.22477331534520975,
          -0.2275604145792655,
          -0.23036022741358628,
          -0.2331728410383571,
          -0.2359983434428598,
          -0.2388368234246485,
          -0.2416883705988519,
          -0.2445530754076048,
          -0.24743102912960968,
          -0.250322323889832,
          -0.25322705266933004,
          -0.2561453093152227,
          -0.2590771885507962,
          -0.26202278598575324,
          -0.26498219812660606,
          -0.2679555223872161,
          -0.27094285709948274,
          -0.27394430152418325,
          -0.2769599558619674,
          -0.27998992126450745,
          -0.28303429984580825,
          -0.28609319469367867,
          -0.28916670988136783,
          -0.29225495047936806,
          -0.2953580225673884,
          -0.29847603324650085,
          -0.30160909065146246,
          -0.30475730396321604,
          -0.3079207834215733,
          -0.31109964033808235,
          -0.3142939871090834,
          -0.31750393722895626,
          -0.3207296053035619,
          -0.32397110706388194,
          -0.3272285593798599,
          -0.3305020802744472,
          -0.33379178893785716,
          -0.3370978057420314,
          -0.3404202522553215,
          -0.3437592512573906,
          -0.3471149267543378,
          -0.3504874039940504,
          -0.35387680948178624,
          -0.35728327099599244,
          -0.36070691760436263,
          -0.36414787968013845,
          -0.3676062889186589,
          -0.37108227835416174,
          -0.374575982376842,
          -0.3780875367501718,
          -0.38161707862848676,
          -0.3851647465748428,
          -0.38873068057914933,
          -0.3923150220765825,
          -0.39591791396628506,
          -0.3995395006303568,
          -0.4031799279531421,
          -0.4068393433408182,
          -0.41051789574129166,
          -0.4142157356644074,
          -0.4179330152024768,
          -0.42166988805112937,
          -0.42542650953049715,
          -0.4292030366067331,
          -0.43299962791387475,
          -0.4368164437760562,
          -0.4406536462300759,
          -0.44451139904832776,
          -0.448389867762101,
          -0.4522892196852566,
          -0.45620962393828757,
          -0.46015125147276936,
          -0.4641142750962086,
          -0.4680988694972981,
          -0.4721052112715847,
          -0.47613347894755925,
          -0.4801838530131751,
          -0.48425651594280567,
          -0.48835165222464677,
          -0.4924694483885753,
          -0.4966100930344711,
          -0.500773776861011,
          -0.5049606926949456,
          -0.509171035520867,
          -0.5134050025114781,
          -0.5176627930583726,
          -0.521944608803336,
          -0.5262506536701778,
          -0.5305811338971058,
          -0.5349362580696533,
          -0.5393162371541698,
          -0.5437212845318868,
          -0.5481516160335705,
          -0.5526074499747716,
          -0.5570890071916882,
          -0.561596511077648,
          -0.5661301876202299,
          -0.5706902654390313,
          -0.5752769758240979,
          -0.5798905527750293,
          -0.5845312330407733,
          -0.5891992561601238,
          -0.5938948645029368,
          -0.5986183033120781,
          -0.6033698207461218,
          -0.6081496679228092,
          -0.6129580989632893,
          -0.6177953710371554,
          -0.6226617444082936,
          -0.627557482481563,
          -0.6324828518503204,
          -0.6374381223448136,
          -0.6424235670814576,
          -0.647439462513014,
          -0.652486088479691,
          -0.6575637282611884,
          -0.662672668629703,
          -0.6678131999039179,
          -0.672985616003996,
          -0.6781902145076008,
          -0.683427296706966,
          -0.6886971676670364,
          -0.694000136284704,
          -0.699336515349165,
          -0.7047066216034207,
          -0.7101107758069477,
          -0.7155493027995642,
          -0.7210225315665187,
          -0.7265307953048293,
          -0.732074431490901,
          -0.7376537819494479,
          -0.7432691929237542,
          -0.7489210151473016,
          -0.7546096039167934,
          -0.7603353191666085,
          -0.7660985255447186,
          -0.7718995924901029,
          -0.7777388943116902,
          -0.7836168102688694,
          -0.789533724653602,
          -0.7954900268741748,
          -0.8014861115406307,
          -0.8075223785519151,
          -0.8135992331847834,
          -0.8197170861845063,
          -0.8258763538574166,
          -0.8320774581653428,
          -0.8383208268219731,
          -0.8446068933911973,
          -0.850936097387473,
          -0.8573088843782631,
          -0.8637257060885999,
          -0.8701870205078235,
          -0.8766932919985457,
          -0.8832449914078997,
          -0.8898425961811258,
          -0.8964865904775557,
          -0.9031774652890489,
          -0.9099157185609458,
          -0.9167018553156016,
          -0.9235363877785614,
          -0.9304198355074442,
          -0.9373527255236043,
          -0.9443355924466401,
          -0.9513689786318246,
          -0.9584534343105243,
          -0.9655895177336935,
          -0.9727777953185134,
          -0.9800188417982637,
          -0.9873132403755042,
          -0.9946615828786552,
          -1.0020644699220669,
          -1.0095225110696648,
          -1.0170363250022665,
          -1.0246065396886657,
          -1.0322337925605847,
          -1.039918730691596,
          -1.0476620109801194,
          -1.0554643003365995,
          -1.0633262758749837,
          -1.071248625108609,
          -1.0792320461506186,
          -1.0872772479190305,
          -1.0953849503465882,
          -1.1035558845955205,
          -1.1117907932773434,
          -1.1200904306778472,
          -1.1284555629874096,
          -1.1368869685367822,
          -1.1453854380385056,
          -1.1539517748341035,
          -1.1625867951472277,
          -1.171291328342914,
          -1.1800662171931262,
          -1.1889123181487609,
          -1.1978305016183068,
          -1.206821652253343,
          -1.215886669241071,
          -1.2250264666040864,
          -1.2342419735076036,
          -1.243534134574344,
          -1.2529039102073167,
          -1.2623522769207183,
          -1.2718802276791963,
          -1.281488772245724,
          -1.2911789375383356,
          -1.3009517679959939,
          -1.3108083259538608,
          -1.320749692028258,
          -1.3307769655116004,
          -1.340891264777618,
          -1.351093727697173,
          -1.3613855120649985,
          -1.3717677960376933,
          -1.3822417785833223,
          -1.3928086799429833,
          -1.4034697421047146,
          -1.4142262292901253,
          -1.4250794284541501,
          -1.43603064979835,
          -1.4470812272981814,
          -1.4582325192446797,
          -1.4694859088010241,
          -1.4808428045744586,
          -1.4923046412040688,
          -1.5038728799649255,
          -1.5155490093891324,
          -1.5273345459043328,
          -1.5392310344902507,
          -1.5512400493538592,
          -1.563363194623799,
          -1.5756021050646918,
          -1.5879584468120156,
          -1.6004339181282339,
          -1.6130302501808989,
          -1.6257492078434812,
          -1.6385925905197056,
          -1.6515622329921922,
          -1.6646600062962509,
          -1.6778878186197048,
          -1.6912476162296484,
          -1.7047413844270822,
          -1.718371148530413,
          -1.7321389748888427,
          -1.746046971926707,
          -1.760097291219878,
          -1.7742921286053754,
          -1.788633725325399,
          -1.803124369207032,
          -1.8177663958789112
         ]
        }
       ],
       "layout": {
        "legend": {
         "bgcolor": "#FFFFFF",
         "font": {
          "color": "#666666"
         }
        },
        "paper_bgcolor": "#FFFFFF",
        "plot_bgcolor": "#E5E5E5",
        "template": {
         "data": {
          "bar": [
           {
            "error_x": {
             "color": "#2a3f5f"
            },
            "error_y": {
             "color": "#2a3f5f"
            },
            "marker": {
             "line": {
              "color": "#E5ECF6",
              "width": 0.5
             },
             "pattern": {
              "fillmode": "overlay",
              "size": 10,
              "solidity": 0.2
             }
            },
            "type": "bar"
           }
          ],
          "barpolar": [
           {
            "marker": {
             "line": {
              "color": "#E5ECF6",
              "width": 0.5
             },
             "pattern": {
              "fillmode": "overlay",
              "size": 10,
              "solidity": 0.2
             }
            },
            "type": "barpolar"
           }
          ],
          "carpet": [
           {
            "aaxis": {
             "endlinecolor": "#2a3f5f",
             "gridcolor": "white",
             "linecolor": "white",
             "minorgridcolor": "white",
             "startlinecolor": "#2a3f5f"
            },
            "baxis": {
             "endlinecolor": "#2a3f5f",
             "gridcolor": "white",
             "linecolor": "white",
             "minorgridcolor": "white",
             "startlinecolor": "#2a3f5f"
            },
            "type": "carpet"
           }
          ],
          "choropleth": [
           {
            "colorbar": {
             "outlinewidth": 0,
             "ticks": ""
            },
            "type": "choropleth"
           }
          ],
          "contour": [
           {
            "colorbar": {
             "outlinewidth": 0,
             "ticks": ""
            },
            "colorscale": [
             [
              0,
              "#0d0887"
             ],
             [
              0.1111111111111111,
              "#46039f"
             ],
             [
              0.2222222222222222,
              "#7201a8"
             ],
             [
              0.3333333333333333,
              "#9c179e"
             ],
             [
              0.4444444444444444,
              "#bd3786"
             ],
             [
              0.5555555555555556,
              "#d8576b"
             ],
             [
              0.6666666666666666,
              "#ed7953"
             ],
             [
              0.7777777777777778,
              "#fb9f3a"
             ],
             [
              0.8888888888888888,
              "#fdca26"
             ],
             [
              1,
              "#f0f921"
             ]
            ],
            "type": "contour"
           }
          ],
          "contourcarpet": [
           {
            "colorbar": {
             "outlinewidth": 0,
             "ticks": ""
            },
            "type": "contourcarpet"
           }
          ],
          "heatmap": [
           {
            "colorbar": {
             "outlinewidth": 0,
             "ticks": ""
            },
            "colorscale": [
             [
              0,
              "#0d0887"
             ],
             [
              0.1111111111111111,
              "#46039f"
             ],
             [
              0.2222222222222222,
              "#7201a8"
             ],
             [
              0.3333333333333333,
              "#9c179e"
             ],
             [
              0.4444444444444444,
              "#bd3786"
             ],
             [
              0.5555555555555556,
              "#d8576b"
             ],
             [
              0.6666666666666666,
              "#ed7953"
             ],
             [
              0.7777777777777778,
              "#fb9f3a"
             ],
             [
              0.8888888888888888,
              "#fdca26"
             ],
             [
              1,
              "#f0f921"
             ]
            ],
            "type": "heatmap"
           }
          ],
          "heatmapgl": [
           {
            "colorbar": {
             "outlinewidth": 0,
             "ticks": ""
            },
            "colorscale": [
             [
              0,
              "#0d0887"
             ],
             [
              0.1111111111111111,
              "#46039f"
             ],
             [
              0.2222222222222222,
              "#7201a8"
             ],
             [
              0.3333333333333333,
              "#9c179e"
             ],
             [
              0.4444444444444444,
              "#bd3786"
             ],
             [
              0.5555555555555556,
              "#d8576b"
             ],
             [
              0.6666666666666666,
              "#ed7953"
             ],
             [
              0.7777777777777778,
              "#fb9f3a"
             ],
             [
              0.8888888888888888,
              "#fdca26"
             ],
             [
              1,
              "#f0f921"
             ]
            ],
            "type": "heatmapgl"
           }
          ],
          "histogram": [
           {
            "marker": {
             "pattern": {
              "fillmode": "overlay",
              "size": 10,
              "solidity": 0.2
             }
            },
            "type": "histogram"
           }
          ],
          "histogram2d": [
           {
            "colorbar": {
             "outlinewidth": 0,
             "ticks": ""
            },
            "colorscale": [
             [
              0,
              "#0d0887"
             ],
             [
              0.1111111111111111,
              "#46039f"
             ],
             [
              0.2222222222222222,
              "#7201a8"
             ],
             [
              0.3333333333333333,
              "#9c179e"
             ],
             [
              0.4444444444444444,
              "#bd3786"
             ],
             [
              0.5555555555555556,
              "#d8576b"
             ],
             [
              0.6666666666666666,
              "#ed7953"
             ],
             [
              0.7777777777777778,
              "#fb9f3a"
             ],
             [
              0.8888888888888888,
              "#fdca26"
             ],
             [
              1,
              "#f0f921"
             ]
            ],
            "type": "histogram2d"
           }
          ],
          "histogram2dcontour": [
           {
            "colorbar": {
             "outlinewidth": 0,
             "ticks": ""
            },
            "colorscale": [
             [
              0,
              "#0d0887"
             ],
             [
              0.1111111111111111,
              "#46039f"
             ],
             [
              0.2222222222222222,
              "#7201a8"
             ],
             [
              0.3333333333333333,
              "#9c179e"
             ],
             [
              0.4444444444444444,
              "#bd3786"
             ],
             [
              0.5555555555555556,
              "#d8576b"
             ],
             [
              0.6666666666666666,
              "#ed7953"
             ],
             [
              0.7777777777777778,
              "#fb9f3a"
             ],
             [
              0.8888888888888888,
              "#fdca26"
             ],
             [
              1,
              "#f0f921"
             ]
            ],
            "type": "histogram2dcontour"
           }
          ],
          "mesh3d": [
           {
            "colorbar": {
             "outlinewidth": 0,
             "ticks": ""
            },
            "type": "mesh3d"
           }
          ],
          "parcoords": [
           {
            "line": {
             "colorbar": {
              "outlinewidth": 0,
              "ticks": ""
             }
            },
            "type": "parcoords"
           }
          ],
          "pie": [
           {
            "automargin": true,
            "type": "pie"
           }
          ],
          "scatter": [
           {
            "marker": {
             "colorbar": {
              "outlinewidth": 0,
              "ticks": ""
             }
            },
            "type": "scatter"
           }
          ],
          "scatter3d": [
           {
            "line": {
             "colorbar": {
              "outlinewidth": 0,
              "ticks": ""
             }
            },
            "marker": {
             "colorbar": {
              "outlinewidth": 0,
              "ticks": ""
             }
            },
            "type": "scatter3d"
           }
          ],
          "scattercarpet": [
           {
            "marker": {
             "colorbar": {
              "outlinewidth": 0,
              "ticks": ""
             }
            },
            "type": "scattercarpet"
           }
          ],
          "scattergeo": [
           {
            "marker": {
             "colorbar": {
              "outlinewidth": 0,
              "ticks": ""
             }
            },
            "type": "scattergeo"
           }
          ],
          "scattergl": [
           {
            "marker": {
             "colorbar": {
              "outlinewidth": 0,
              "ticks": ""
             }
            },
            "type": "scattergl"
           }
          ],
          "scattermapbox": [
           {
            "marker": {
             "colorbar": {
              "outlinewidth": 0,
              "ticks": ""
             }
            },
            "type": "scattermapbox"
           }
          ],
          "scatterpolar": [
           {
            "marker": {
             "colorbar": {
              "outlinewidth": 0,
              "ticks": ""
             }
            },
            "type": "scatterpolar"
           }
          ],
          "scatterpolargl": [
           {
            "marker": {
             "colorbar": {
              "outlinewidth": 0,
              "ticks": ""
             }
            },
            "type": "scatterpolargl"
           }
          ],
          "scatterternary": [
           {
            "marker": {
             "colorbar": {
              "outlinewidth": 0,
              "ticks": ""
             }
            },
            "type": "scatterternary"
           }
          ],
          "surface": [
           {
            "colorbar": {
             "outlinewidth": 0,
             "ticks": ""
            },
            "colorscale": [
             [
              0,
              "#0d0887"
             ],
             [
              0.1111111111111111,
              "#46039f"
             ],
             [
              0.2222222222222222,
              "#7201a8"
             ],
             [
              0.3333333333333333,
              "#9c179e"
             ],
             [
              0.4444444444444444,
              "#bd3786"
             ],
             [
              0.5555555555555556,
              "#d8576b"
             ],
             [
              0.6666666666666666,
              "#ed7953"
             ],
             [
              0.7777777777777778,
              "#fb9f3a"
             ],
             [
              0.8888888888888888,
              "#fdca26"
             ],
             [
              1,
              "#f0f921"
             ]
            ],
            "type": "surface"
           }
          ],
          "table": [
           {
            "cells": {
             "fill": {
              "color": "#EBF0F8"
             },
             "line": {
              "color": "white"
             }
            },
            "header": {
             "fill": {
              "color": "#C8D4E3"
             },
             "line": {
              "color": "white"
             }
            },
            "type": "table"
           }
          ]
         },
         "layout": {
          "annotationdefaults": {
           "arrowcolor": "#2a3f5f",
           "arrowhead": 0,
           "arrowwidth": 1
          },
          "autotypenumbers": "strict",
          "coloraxis": {
           "colorbar": {
            "outlinewidth": 0,
            "ticks": ""
           }
          },
          "colorscale": {
           "diverging": [
            [
             0,
             "#8e0152"
            ],
            [
             0.1,
             "#c51b7d"
            ],
            [
             0.2,
             "#de77ae"
            ],
            [
             0.3,
             "#f1b6da"
            ],
            [
             0.4,
             "#fde0ef"
            ],
            [
             0.5,
             "#f7f7f7"
            ],
            [
             0.6,
             "#e6f5d0"
            ],
            [
             0.7,
             "#b8e186"
            ],
            [
             0.8,
             "#7fbc41"
            ],
            [
             0.9,
             "#4d9221"
            ],
            [
             1,
             "#276419"
            ]
           ],
           "sequential": [
            [
             0,
             "#0d0887"
            ],
            [
             0.1111111111111111,
             "#46039f"
            ],
            [
             0.2222222222222222,
             "#7201a8"
            ],
            [
             0.3333333333333333,
             "#9c179e"
            ],
            [
             0.4444444444444444,
             "#bd3786"
            ],
            [
             0.5555555555555556,
             "#d8576b"
            ],
            [
             0.6666666666666666,
             "#ed7953"
            ],
            [
             0.7777777777777778,
             "#fb9f3a"
            ],
            [
             0.8888888888888888,
             "#fdca26"
            ],
            [
             1,
             "#f0f921"
            ]
           ],
           "sequentialminus": [
            [
             0,
             "#0d0887"
            ],
            [
             0.1111111111111111,
             "#46039f"
            ],
            [
             0.2222222222222222,
             "#7201a8"
            ],
            [
             0.3333333333333333,
             "#9c179e"
            ],
            [
             0.4444444444444444,
             "#bd3786"
            ],
            [
             0.5555555555555556,
             "#d8576b"
            ],
            [
             0.6666666666666666,
             "#ed7953"
            ],
            [
             0.7777777777777778,
             "#fb9f3a"
            ],
            [
             0.8888888888888888,
             "#fdca26"
            ],
            [
             1,
             "#f0f921"
            ]
           ]
          },
          "colorway": [
           "#636efa",
           "#EF553B",
           "#00cc96",
           "#ab63fa",
           "#FFA15A",
           "#19d3f3",
           "#FF6692",
           "#B6E880",
           "#FF97FF",
           "#FECB52"
          ],
          "font": {
           "color": "#2a3f5f"
          },
          "geo": {
           "bgcolor": "white",
           "lakecolor": "white",
           "landcolor": "#E5ECF6",
           "showlakes": true,
           "showland": true,
           "subunitcolor": "white"
          },
          "hoverlabel": {
           "align": "left"
          },
          "hovermode": "closest",
          "mapbox": {
           "style": "light"
          },
          "paper_bgcolor": "white",
          "plot_bgcolor": "#E5ECF6",
          "polar": {
           "angularaxis": {
            "gridcolor": "white",
            "linecolor": "white",
            "ticks": ""
           },
           "bgcolor": "#E5ECF6",
           "radialaxis": {
            "gridcolor": "white",
            "linecolor": "white",
            "ticks": ""
           }
          },
          "scene": {
           "xaxis": {
            "backgroundcolor": "#E5ECF6",
            "gridcolor": "white",
            "gridwidth": 2,
            "linecolor": "white",
            "showbackground": true,
            "ticks": "",
            "zerolinecolor": "white"
           },
           "yaxis": {
            "backgroundcolor": "#E5ECF6",
            "gridcolor": "white",
            "gridwidth": 2,
            "linecolor": "white",
            "showbackground": true,
            "ticks": "",
            "zerolinecolor": "white"
           },
           "zaxis": {
            "backgroundcolor": "#E5ECF6",
            "gridcolor": "white",
            "gridwidth": 2,
            "linecolor": "white",
            "showbackground": true,
            "ticks": "",
            "zerolinecolor": "white"
           }
          },
          "shapedefaults": {
           "line": {
            "color": "#2a3f5f"
           }
          },
          "ternary": {
           "aaxis": {
            "gridcolor": "white",
            "linecolor": "white",
            "ticks": ""
           },
           "baxis": {
            "gridcolor": "white",
            "linecolor": "white",
            "ticks": ""
           },
           "bgcolor": "#E5ECF6",
           "caxis": {
            "gridcolor": "white",
            "linecolor": "white",
            "ticks": ""
           }
          },
          "title": {
           "x": 0.05
          },
          "xaxis": {
           "automargin": true,
           "gridcolor": "white",
           "linecolor": "white",
           "ticks": "",
           "title": {
            "standoff": 15
           },
           "zerolinecolor": "white",
           "zerolinewidth": 2
          },
          "yaxis": {
           "automargin": true,
           "gridcolor": "white",
           "linecolor": "white",
           "ticks": "",
           "title": {
            "standoff": 15
           },
           "zerolinecolor": "white",
           "zerolinewidth": 2
          }
         }
        },
        "title": {
         "font": {
          "color": "#151516"
         },
         "text": "Price Elasticity of Purchase Quantity with Promotion "
        },
        "xaxis": {
         "gridcolor": "#F6F6F6",
         "showgrid": true,
         "tickfont": {
          "color": "#666666"
         },
         "title": {
          "font": {
           "color": "#666666"
          },
          "text": "prices"
         },
         "zerolinecolor": "#F6F6F6"
        },
        "yaxis": {
         "gridcolor": "#F6F6F6",
         "showgrid": true,
         "tickfont": {
          "color": "#666666"
         },
         "title": {
          "font": {
           "color": "#666666"
          },
          "text": "Elasticity"
         },
         "zerolinecolor": "#F6F6F6"
        }
       }
      },
      "text/html": [
       "<div>                            <div id=\"66677f99-2e62-4c19-b2b4-29104e79bbc4\" class=\"plotly-graph-div\" style=\"height:525px; width:100%;\"></div>            <script type=\"text/javascript\">                require([\"plotly\"], function(Plotly) {                    window.PLOTLYENV=window.PLOTLYENV || {};\n",
       "                    window.PLOTLYENV.BASE_URL='https://plot.ly';                                    if (document.getElementById(\"66677f99-2e62-4c19-b2b4-29104e79bbc4\")) {                    Plotly.newPlot(                        \"66677f99-2e62-4c19-b2b4-29104e79bbc4\",                        [{\"line\":{\"color\":\"rgba(55, 128, 191, 1.0)\",\"dash\":\"solid\",\"shape\":\"linear\",\"width\":1.3},\"mode\":\"lines\",\"name\":\"pe_quantity_promotion1\",\"text\":\"\",\"type\":\"scatter\",\"x\":[0,1,2,3,4,5,6,7,8,9,10,11,12,13,14,15,16,17,18,19,20,21,22,23,24,25,26,27,28,29,30,31,32,33,34,35,36,37,38,39,40,41,42,43,44,45,46,47,48,49,50,51,52,53,54,55,56,57,58,59,60,61,62,63,64,65,66,67,68,69,70,71,72,73,74,75,76,77,78,79,80,81,82,83,84,85,86,87,88,89,90,91,92,93,94,95,96,97,98,99,100,101,102,103,104,105,106,107,108,109,110,111,112,113,114,115,116,117,118,119,120,121,122,123,124,125,126,127,128,129,130,131,132,133,134,135,136,137,138,139,140,141,142,143,144,145,146,147,148,149,150,151,152,153,154,155,156,157,158,159,160,161,162,163,164,165,166,167,168,169,170,171,172,173,174,175,176,177,178,179,180,181,182,183,184,185,186,187,188,189,190,191,192,193,194,195,196,197,198,199,200,201,202,203,204,205,206,207,208,209,210,211,212,213,214,215,216,217,218,219,220,221,222,223,224,225,226,227,228,229,230,231,232,233,234,235,236,237,238,239,240,241,242,243,244,245,246,247,248,249,250,251,252,253,254,255,256,257,258,259,260,261,262,263,264,265,266,267,268,269,270,271,272,273,274,275,276,277,278,279,280,281,282,283,284,285,286,287,288,289,290,291,292,293,294,295,296,297,298],\"y\":[-0.10215678690009684,-0.10441325308700189,-0.10667897763951834,-0.10895401765591775,-0.11123843070495477,-0.11353227483072309,-0.11583560855757154,-0.11814849089508159,-0.12047098134310648,-0.12280313989687368,-0.12514502705215091,-0.12749670381047715,-0.12985823168445917,-0.13222967270313501,-0.13461108941740502,-0.13700254490553154,-0.13940410277870824,-0.14181582718670055,-0.14423778282355723,-0.14667003493339553,-0.14911264931625964,-0.15156569233405454,-0.15402923091655601,-0.15650333256749777,-0.15898806537073717,-0.1614834979965007,-0.16398969970771,-0.16650674036639032,-0.16903469044016203,-0.17157362100881698,-0.17412360377098038,-0.17668471105086028,-0.17925701580508524,-0.1818405916296321,-0.184435512766845,-0.18704185411254684,-0.1896596912232451,-0.19228910032343333,-0.19493015831298896,-0.1975829427746708,-0.20024753198171558,-0.2029240049055366,-0.20561244122352582,-0.20831292132696025,-0.21102552632901528,-0.21375033807288601,-0.21648743914001867,-0.2192369128584531,-0.2219988433112796,-0.22477331534520975,-0.2275604145792655,-0.23036022741358628,-0.2331728410383571,-0.2359983434428598,-0.2388368234246485,-0.2416883705988519,-0.2445530754076048,-0.24743102912960968,-0.250322323889832,-0.25322705266933004,-0.2561453093152227,-0.2590771885507962,-0.26202278598575324,-0.26498219812660606,-0.2679555223872161,-0.27094285709948274,-0.27394430152418325,-0.2769599558619674,-0.27998992126450745,-0.28303429984580825,-0.28609319469367867,-0.28916670988136783,-0.29225495047936806,-0.2953580225673884,-0.29847603324650085,-0.30160909065146246,-0.30475730396321604,-0.3079207834215733,-0.31109964033808235,-0.3142939871090834,-0.31750393722895626,-0.3207296053035619,-0.32397110706388194,-0.3272285593798599,-0.3305020802744472,-0.33379178893785716,-0.3370978057420314,-0.3404202522553215,-0.3437592512573906,-0.3471149267543378,-0.3504874039940504,-0.35387680948178624,-0.35728327099599244,-0.36070691760436263,-0.36414787968013845,-0.3676062889186589,-0.37108227835416174,-0.374575982376842,-0.3780875367501718,-0.38161707862848676,-0.3851647465748428,-0.38873068057914933,-0.3923150220765825,-0.39591791396628506,-0.3995395006303568,-0.4031799279531421,-0.4068393433408182,-0.41051789574129166,-0.4142157356644074,-0.4179330152024768,-0.42166988805112937,-0.42542650953049715,-0.4292030366067331,-0.43299962791387475,-0.4368164437760562,-0.4406536462300759,-0.44451139904832776,-0.448389867762101,-0.4522892196852566,-0.45620962393828757,-0.46015125147276936,-0.4641142750962086,-0.4680988694972981,-0.4721052112715847,-0.47613347894755925,-0.4801838530131751,-0.48425651594280567,-0.48835165222464677,-0.4924694483885753,-0.4966100930344711,-0.500773776861011,-0.5049606926949456,-0.509171035520867,-0.5134050025114781,-0.5176627930583726,-0.521944608803336,-0.5262506536701778,-0.5305811338971058,-0.5349362580696533,-0.5393162371541698,-0.5437212845318868,-0.5481516160335705,-0.5526074499747716,-0.5570890071916882,-0.561596511077648,-0.5661301876202299,-0.5706902654390313,-0.5752769758240979,-0.5798905527750293,-0.5845312330407733,-0.5891992561601238,-0.5938948645029368,-0.5986183033120781,-0.6033698207461218,-0.6081496679228092,-0.6129580989632893,-0.6177953710371554,-0.6226617444082936,-0.627557482481563,-0.6324828518503204,-0.6374381223448136,-0.6424235670814576,-0.647439462513014,-0.652486088479691,-0.6575637282611884,-0.662672668629703,-0.6678131999039179,-0.672985616003996,-0.6781902145076008,-0.683427296706966,-0.6886971676670364,-0.694000136284704,-0.699336515349165,-0.7047066216034207,-0.7101107758069477,-0.7155493027995642,-0.7210225315665187,-0.7265307953048293,-0.732074431490901,-0.7376537819494479,-0.7432691929237542,-0.7489210151473016,-0.7546096039167934,-0.7603353191666085,-0.7660985255447186,-0.7718995924901029,-0.7777388943116902,-0.7836168102688694,-0.789533724653602,-0.7954900268741748,-0.8014861115406307,-0.8075223785519151,-0.8135992331847834,-0.8197170861845063,-0.8258763538574166,-0.8320774581653428,-0.8383208268219731,-0.8446068933911973,-0.850936097387473,-0.8573088843782631,-0.8637257060885999,-0.8701870205078235,-0.8766932919985457,-0.8832449914078997,-0.8898425961811258,-0.8964865904775557,-0.9031774652890489,-0.9099157185609458,-0.9167018553156016,-0.9235363877785614,-0.9304198355074442,-0.9373527255236043,-0.9443355924466401,-0.9513689786318246,-0.9584534343105243,-0.9655895177336935,-0.9727777953185134,-0.9800188417982637,-0.9873132403755042,-0.9946615828786552,-1.0020644699220669,-1.0095225110696648,-1.0170363250022665,-1.0246065396886657,-1.0322337925605847,-1.039918730691596,-1.0476620109801194,-1.0554643003365995,-1.0633262758749837,-1.071248625108609,-1.0792320461506186,-1.0872772479190305,-1.0953849503465882,-1.1035558845955205,-1.1117907932773434,-1.1200904306778472,-1.1284555629874096,-1.1368869685367822,-1.1453854380385056,-1.1539517748341035,-1.1625867951472277,-1.171291328342914,-1.1800662171931262,-1.1889123181487609,-1.1978305016183068,-1.206821652253343,-1.215886669241071,-1.2250264666040864,-1.2342419735076036,-1.243534134574344,-1.2529039102073167,-1.2623522769207183,-1.2718802276791963,-1.281488772245724,-1.2911789375383356,-1.3009517679959939,-1.3108083259538608,-1.320749692028258,-1.3307769655116004,-1.340891264777618,-1.351093727697173,-1.3613855120649985,-1.3717677960376933,-1.3822417785833223,-1.3928086799429833,-1.4034697421047146,-1.4142262292901253,-1.4250794284541501,-1.43603064979835,-1.4470812272981814,-1.4582325192446797,-1.4694859088010241,-1.4808428045744586,-1.4923046412040688,-1.5038728799649255,-1.5155490093891324,-1.5273345459043328,-1.5392310344902507,-1.5512400493538592,-1.563363194623799,-1.5756021050646918,-1.5879584468120156,-1.6004339181282339,-1.6130302501808989,-1.6257492078434812,-1.6385925905197056,-1.6515622329921922,-1.6646600062962509,-1.6778878186197048,-1.6912476162296484,-1.7047413844270822,-1.718371148530413,-1.7321389748888427,-1.746046971926707,-1.760097291219878,-1.7742921286053754,-1.788633725325399,-1.803124369207032,-1.8177663958789112]}],                        {\"legend\":{\"bgcolor\":\"#FFFFFF\",\"font\":{\"color\":\"#666666\"}},\"paper_bgcolor\":\"#FFFFFF\",\"plot_bgcolor\":\"#E5E5E5\",\"template\":{\"data\":{\"bar\":[{\"error_x\":{\"color\":\"#2a3f5f\"},\"error_y\":{\"color\":\"#2a3f5f\"},\"marker\":{\"line\":{\"color\":\"#E5ECF6\",\"width\":0.5},\"pattern\":{\"fillmode\":\"overlay\",\"size\":10,\"solidity\":0.2}},\"type\":\"bar\"}],\"barpolar\":[{\"marker\":{\"line\":{\"color\":\"#E5ECF6\",\"width\":0.5},\"pattern\":{\"fillmode\":\"overlay\",\"size\":10,\"solidity\":0.2}},\"type\":\"barpolar\"}],\"carpet\":[{\"aaxis\":{\"endlinecolor\":\"#2a3f5f\",\"gridcolor\":\"white\",\"linecolor\":\"white\",\"minorgridcolor\":\"white\",\"startlinecolor\":\"#2a3f5f\"},\"baxis\":{\"endlinecolor\":\"#2a3f5f\",\"gridcolor\":\"white\",\"linecolor\":\"white\",\"minorgridcolor\":\"white\",\"startlinecolor\":\"#2a3f5f\"},\"type\":\"carpet\"}],\"choropleth\":[{\"colorbar\":{\"outlinewidth\":0,\"ticks\":\"\"},\"type\":\"choropleth\"}],\"contour\":[{\"colorbar\":{\"outlinewidth\":0,\"ticks\":\"\"},\"colorscale\":[[0.0,\"#0d0887\"],[0.1111111111111111,\"#46039f\"],[0.2222222222222222,\"#7201a8\"],[0.3333333333333333,\"#9c179e\"],[0.4444444444444444,\"#bd3786\"],[0.5555555555555556,\"#d8576b\"],[0.6666666666666666,\"#ed7953\"],[0.7777777777777778,\"#fb9f3a\"],[0.8888888888888888,\"#fdca26\"],[1.0,\"#f0f921\"]],\"type\":\"contour\"}],\"contourcarpet\":[{\"colorbar\":{\"outlinewidth\":0,\"ticks\":\"\"},\"type\":\"contourcarpet\"}],\"heatmap\":[{\"colorbar\":{\"outlinewidth\":0,\"ticks\":\"\"},\"colorscale\":[[0.0,\"#0d0887\"],[0.1111111111111111,\"#46039f\"],[0.2222222222222222,\"#7201a8\"],[0.3333333333333333,\"#9c179e\"],[0.4444444444444444,\"#bd3786\"],[0.5555555555555556,\"#d8576b\"],[0.6666666666666666,\"#ed7953\"],[0.7777777777777778,\"#fb9f3a\"],[0.8888888888888888,\"#fdca26\"],[1.0,\"#f0f921\"]],\"type\":\"heatmap\"}],\"heatmapgl\":[{\"colorbar\":{\"outlinewidth\":0,\"ticks\":\"\"},\"colorscale\":[[0.0,\"#0d0887\"],[0.1111111111111111,\"#46039f\"],[0.2222222222222222,\"#7201a8\"],[0.3333333333333333,\"#9c179e\"],[0.4444444444444444,\"#bd3786\"],[0.5555555555555556,\"#d8576b\"],[0.6666666666666666,\"#ed7953\"],[0.7777777777777778,\"#fb9f3a\"],[0.8888888888888888,\"#fdca26\"],[1.0,\"#f0f921\"]],\"type\":\"heatmapgl\"}],\"histogram\":[{\"marker\":{\"pattern\":{\"fillmode\":\"overlay\",\"size\":10,\"solidity\":0.2}},\"type\":\"histogram\"}],\"histogram2d\":[{\"colorbar\":{\"outlinewidth\":0,\"ticks\":\"\"},\"colorscale\":[[0.0,\"#0d0887\"],[0.1111111111111111,\"#46039f\"],[0.2222222222222222,\"#7201a8\"],[0.3333333333333333,\"#9c179e\"],[0.4444444444444444,\"#bd3786\"],[0.5555555555555556,\"#d8576b\"],[0.6666666666666666,\"#ed7953\"],[0.7777777777777778,\"#fb9f3a\"],[0.8888888888888888,\"#fdca26\"],[1.0,\"#f0f921\"]],\"type\":\"histogram2d\"}],\"histogram2dcontour\":[{\"colorbar\":{\"outlinewidth\":0,\"ticks\":\"\"},\"colorscale\":[[0.0,\"#0d0887\"],[0.1111111111111111,\"#46039f\"],[0.2222222222222222,\"#7201a8\"],[0.3333333333333333,\"#9c179e\"],[0.4444444444444444,\"#bd3786\"],[0.5555555555555556,\"#d8576b\"],[0.6666666666666666,\"#ed7953\"],[0.7777777777777778,\"#fb9f3a\"],[0.8888888888888888,\"#fdca26\"],[1.0,\"#f0f921\"]],\"type\":\"histogram2dcontour\"}],\"mesh3d\":[{\"colorbar\":{\"outlinewidth\":0,\"ticks\":\"\"},\"type\":\"mesh3d\"}],\"parcoords\":[{\"line\":{\"colorbar\":{\"outlinewidth\":0,\"ticks\":\"\"}},\"type\":\"parcoords\"}],\"pie\":[{\"automargin\":true,\"type\":\"pie\"}],\"scatter\":[{\"marker\":{\"colorbar\":{\"outlinewidth\":0,\"ticks\":\"\"}},\"type\":\"scatter\"}],\"scatter3d\":[{\"line\":{\"colorbar\":{\"outlinewidth\":0,\"ticks\":\"\"}},\"marker\":{\"colorbar\":{\"outlinewidth\":0,\"ticks\":\"\"}},\"type\":\"scatter3d\"}],\"scattercarpet\":[{\"marker\":{\"colorbar\":{\"outlinewidth\":0,\"ticks\":\"\"}},\"type\":\"scattercarpet\"}],\"scattergeo\":[{\"marker\":{\"colorbar\":{\"outlinewidth\":0,\"ticks\":\"\"}},\"type\":\"scattergeo\"}],\"scattergl\":[{\"marker\":{\"colorbar\":{\"outlinewidth\":0,\"ticks\":\"\"}},\"type\":\"scattergl\"}],\"scattermapbox\":[{\"marker\":{\"colorbar\":{\"outlinewidth\":0,\"ticks\":\"\"}},\"type\":\"scattermapbox\"}],\"scatterpolar\":[{\"marker\":{\"colorbar\":{\"outlinewidth\":0,\"ticks\":\"\"}},\"type\":\"scatterpolar\"}],\"scatterpolargl\":[{\"marker\":{\"colorbar\":{\"outlinewidth\":0,\"ticks\":\"\"}},\"type\":\"scatterpolargl\"}],\"scatterternary\":[{\"marker\":{\"colorbar\":{\"outlinewidth\":0,\"ticks\":\"\"}},\"type\":\"scatterternary\"}],\"surface\":[{\"colorbar\":{\"outlinewidth\":0,\"ticks\":\"\"},\"colorscale\":[[0.0,\"#0d0887\"],[0.1111111111111111,\"#46039f\"],[0.2222222222222222,\"#7201a8\"],[0.3333333333333333,\"#9c179e\"],[0.4444444444444444,\"#bd3786\"],[0.5555555555555556,\"#d8576b\"],[0.6666666666666666,\"#ed7953\"],[0.7777777777777778,\"#fb9f3a\"],[0.8888888888888888,\"#fdca26\"],[1.0,\"#f0f921\"]],\"type\":\"surface\"}],\"table\":[{\"cells\":{\"fill\":{\"color\":\"#EBF0F8\"},\"line\":{\"color\":\"white\"}},\"header\":{\"fill\":{\"color\":\"#C8D4E3\"},\"line\":{\"color\":\"white\"}},\"type\":\"table\"}]},\"layout\":{\"annotationdefaults\":{\"arrowcolor\":\"#2a3f5f\",\"arrowhead\":0,\"arrowwidth\":1},\"autotypenumbers\":\"strict\",\"coloraxis\":{\"colorbar\":{\"outlinewidth\":0,\"ticks\":\"\"}},\"colorscale\":{\"diverging\":[[0,\"#8e0152\"],[0.1,\"#c51b7d\"],[0.2,\"#de77ae\"],[0.3,\"#f1b6da\"],[0.4,\"#fde0ef\"],[0.5,\"#f7f7f7\"],[0.6,\"#e6f5d0\"],[0.7,\"#b8e186\"],[0.8,\"#7fbc41\"],[0.9,\"#4d9221\"],[1,\"#276419\"]],\"sequential\":[[0.0,\"#0d0887\"],[0.1111111111111111,\"#46039f\"],[0.2222222222222222,\"#7201a8\"],[0.3333333333333333,\"#9c179e\"],[0.4444444444444444,\"#bd3786\"],[0.5555555555555556,\"#d8576b\"],[0.6666666666666666,\"#ed7953\"],[0.7777777777777778,\"#fb9f3a\"],[0.8888888888888888,\"#fdca26\"],[1.0,\"#f0f921\"]],\"sequentialminus\":[[0.0,\"#0d0887\"],[0.1111111111111111,\"#46039f\"],[0.2222222222222222,\"#7201a8\"],[0.3333333333333333,\"#9c179e\"],[0.4444444444444444,\"#bd3786\"],[0.5555555555555556,\"#d8576b\"],[0.6666666666666666,\"#ed7953\"],[0.7777777777777778,\"#fb9f3a\"],[0.8888888888888888,\"#fdca26\"],[1.0,\"#f0f921\"]]},\"colorway\":[\"#636efa\",\"#EF553B\",\"#00cc96\",\"#ab63fa\",\"#FFA15A\",\"#19d3f3\",\"#FF6692\",\"#B6E880\",\"#FF97FF\",\"#FECB52\"],\"font\":{\"color\":\"#2a3f5f\"},\"geo\":{\"bgcolor\":\"white\",\"lakecolor\":\"white\",\"landcolor\":\"#E5ECF6\",\"showlakes\":true,\"showland\":true,\"subunitcolor\":\"white\"},\"hoverlabel\":{\"align\":\"left\"},\"hovermode\":\"closest\",\"mapbox\":{\"style\":\"light\"},\"paper_bgcolor\":\"white\",\"plot_bgcolor\":\"#E5ECF6\",\"polar\":{\"angularaxis\":{\"gridcolor\":\"white\",\"linecolor\":\"white\",\"ticks\":\"\"},\"bgcolor\":\"#E5ECF6\",\"radialaxis\":{\"gridcolor\":\"white\",\"linecolor\":\"white\",\"ticks\":\"\"}},\"scene\":{\"xaxis\":{\"backgroundcolor\":\"#E5ECF6\",\"gridcolor\":\"white\",\"gridwidth\":2,\"linecolor\":\"white\",\"showbackground\":true,\"ticks\":\"\",\"zerolinecolor\":\"white\"},\"yaxis\":{\"backgroundcolor\":\"#E5ECF6\",\"gridcolor\":\"white\",\"gridwidth\":2,\"linecolor\":\"white\",\"showbackground\":true,\"ticks\":\"\",\"zerolinecolor\":\"white\"},\"zaxis\":{\"backgroundcolor\":\"#E5ECF6\",\"gridcolor\":\"white\",\"gridwidth\":2,\"linecolor\":\"white\",\"showbackground\":true,\"ticks\":\"\",\"zerolinecolor\":\"white\"}},\"shapedefaults\":{\"line\":{\"color\":\"#2a3f5f\"}},\"ternary\":{\"aaxis\":{\"gridcolor\":\"white\",\"linecolor\":\"white\",\"ticks\":\"\"},\"baxis\":{\"gridcolor\":\"white\",\"linecolor\":\"white\",\"ticks\":\"\"},\"bgcolor\":\"#E5ECF6\",\"caxis\":{\"gridcolor\":\"white\",\"linecolor\":\"white\",\"ticks\":\"\"}},\"title\":{\"x\":0.05},\"xaxis\":{\"automargin\":true,\"gridcolor\":\"white\",\"linecolor\":\"white\",\"ticks\":\"\",\"title\":{\"standoff\":15},\"zerolinecolor\":\"white\",\"zerolinewidth\":2},\"yaxis\":{\"automargin\":true,\"gridcolor\":\"white\",\"linecolor\":\"white\",\"ticks\":\"\",\"title\":{\"standoff\":15},\"zerolinecolor\":\"white\",\"zerolinewidth\":2}}},\"title\":{\"font\":{\"color\":\"#151516\"},\"text\":\"Price Elasticity of Purchase Quantity with Promotion \"},\"xaxis\":{\"gridcolor\":\"#F6F6F6\",\"showgrid\":true,\"tickfont\":{\"color\":\"#666666\"},\"title\":{\"font\":{\"color\":\"#666666\"},\"text\":\"prices\"},\"zerolinecolor\":\"#F6F6F6\"},\"yaxis\":{\"gridcolor\":\"#F6F6F6\",\"showgrid\":true,\"tickfont\":{\"color\":\"#666666\"},\"title\":{\"font\":{\"color\":\"#666666\"},\"text\":\"Elasticity\"},\"zerolinecolor\":\"#F6F6F6\"}},                        {\"showLink\": true, \"linkText\": \"Export to plot.ly\", \"plotlyServerURL\": \"https://plot.ly\", \"responsive\": true}                    ).then(function(){\n",
       "                            \n",
       "var gd = document.getElementById('66677f99-2e62-4c19-b2b4-29104e79bbc4');\n",
       "var x = new MutationObserver(function (mutations, observer) {{\n",
       "        var display = window.getComputedStyle(gd).display;\n",
       "        if (!display || display === 'none') {{\n",
       "            console.log([gd, 'removed!']);\n",
       "            Plotly.purge(gd);\n",
       "            observer.disconnect();\n",
       "        }}\n",
       "}});\n",
       "\n",
       "// Listen for the removal of the full notebook cells\n",
       "var notebookContainer = gd.closest('#notebook-container');\n",
       "if (notebookContainer) {{\n",
       "    x.observe(notebookContainer, {childList: true});\n",
       "}}\n",
       "\n",
       "// Listen for the clearing of the current output cell\n",
       "var outputEl = gd.closest('.output');\n",
       "if (outputEl) {{\n",
       "    x.observe(outputEl, {childList: true});\n",
       "}}\n",
       "\n",
       "                        })                };                });            </script>        </div>"
      ]
     },
     "metadata": {},
     "output_type": "display_data"
    }
   ],
   "source": [
    "df_price_elasticity['pe_quantity_promotion1'].iplot(kind = 'line', xTitle = 'prices',color = 'blue',\n",
    "                                     yTitle ='Elasticity', title='Price Elasticity of Purchase Quantity with Promotion ')"
   ]
  },
  {
   "cell_type": "markdown",
   "id": "5c336891",
   "metadata": {},
   "source": [
    "## With no promo"
   ]
  },
  {
   "cell_type": "code",
   "execution_count": 123,
   "id": "971afdb7",
   "metadata": {},
   "outputs": [],
   "source": [
    "df_price_elasticity_quantity['Promotion_incidence'] =0"
   ]
  },
  {
   "cell_type": "code",
   "execution_count": 126,
   "id": "5d693326",
   "metadata": {},
   "outputs": [
    {
     "data": {
      "text/plain": [
       "array([0], dtype=int64)"
      ]
     },
     "execution_count": 126,
     "metadata": {},
     "output_type": "execute_result"
    }
   ],
   "source": [
    "df_price_elasticity_quantity['Promotion_incidence'].unique()"
   ]
  },
  {
   "cell_type": "code",
   "execution_count": 129,
   "id": "15a4dcb0",
   "metadata": {},
   "outputs": [],
   "source": [
    "predict_quantity_no_promo = model_quantity.predict(df_price_elasticity_quantity)"
   ]
  },
  {
   "cell_type": "code",
   "execution_count": 130,
   "id": "c8f21497",
   "metadata": {},
   "outputs": [],
   "source": [
    "pe_quantity_no_promo = beta_quantity * price_range/predict_quantity_no_promo"
   ]
  },
  {
   "cell_type": "code",
   "execution_count": null,
   "id": "1a6c03f2",
   "metadata": {},
   "outputs": [],
   "source": []
  }
 ],
 "metadata": {
  "kernelspec": {
   "display_name": "Python 3",
   "language": "python",
   "name": "python3"
  },
  "language_info": {
   "codemirror_mode": {
    "name": "ipython",
    "version": 3
   },
   "file_extension": ".py",
   "mimetype": "text/x-python",
   "name": "python",
   "nbconvert_exporter": "python",
   "pygments_lexer": "ipython3",
   "version": "3.8.8"
  }
 },
 "nbformat": 4,
 "nbformat_minor": 5
}
