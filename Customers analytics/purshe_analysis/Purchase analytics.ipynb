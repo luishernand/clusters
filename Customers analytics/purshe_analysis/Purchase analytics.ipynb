{
 "cells": [
  {
   "cell_type": "markdown",
   "id": "be8bec76",
   "metadata": {},
   "source": [
    "# Purchase Analytics: 9"
   ]
  },
  {
   "cell_type": "markdown",
   "id": "4f6ed615",
   "metadata": {},
   "source": [
    "## Libraries"
   ]
  },
  {
   "cell_type": "code",
   "execution_count": 1,
   "id": "4583c363",
   "metadata": {},
   "outputs": [],
   "source": [
    "import numpy as np\n",
    "import pandas as pd\n",
    "import matplotlib.pyplot as plt\n",
    "import seaborn as sns\n",
    "import joblib\n",
    "%matplotlib inline\n",
    "\n",
    "from sklearn.preprocessing import StandardScaler\n",
    "from sklearn.decomposition import PCA\n",
    "from sklearn.cluster import KMeans"
   ]
  },
  {
   "cell_type": "markdown",
   "id": "8f63dc7a",
   "metadata": {},
   "source": [
    "## Data Preparation"
   ]
  },
  {
   "cell_type": "code",
   "execution_count": null,
   "id": "8f6913dd",
   "metadata": {},
   "outputs": [],
   "source": [
    "# Read data\n",
    "df_purchase = pd.read_csv('purchase data.csv')\n",
    "\n",
    "#import scaler, PCA and model\n",
    "kmeans_pca = joblib.load('model_pca')\n"
   ]
  }
 ],
 "metadata": {
  "kernelspec": {
   "display_name": "Python 3",
   "language": "python",
   "name": "python3"
  },
  "language_info": {
   "codemirror_mode": {
    "name": "ipython",
    "version": 3
   },
   "file_extension": ".py",
   "mimetype": "text/x-python",
   "name": "python",
   "nbconvert_exporter": "python",
   "pygments_lexer": "ipython3",
   "version": "3.8.8"
  }
 },
 "nbformat": 4,
 "nbformat_minor": 5
}
